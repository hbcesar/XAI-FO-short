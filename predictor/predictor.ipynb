{
 "cells": [
  {
   "attachments": {},
   "cell_type": "markdown",
   "metadata": {},
   "source": [
    "Adapted by Rosa Zwart from Jupyter Notebooks found at https://github.com/PPerdomoQ/rare-disease-explainer"
   ]
  },
  {
   "attachments": {},
   "cell_type": "markdown",
   "metadata": {},
   "source": [
    "# Import Libraries"
   ]
  },
  {
   "cell_type": "code",
   "execution_count": 1,
   "metadata": {
    "execution": {
     "iopub.execute_input": "2024-07-26T10:33:36.023031Z",
     "iopub.status.busy": "2024-07-26T10:33:36.022032Z",
     "iopub.status.idle": "2024-07-26T10:33:40.046729Z",
     "shell.execute_reply": "2024-07-26T10:33:40.045724Z"
    }
   },
   "outputs": [],
   "source": [
    "import os\n",
    "import pandas as pd\n",
    "import numpy as np\n",
    "import networkx as nx\n",
    "import pickle\n",
    "\n",
    "import torch\n",
    "from torch.utils.data import DataLoader\n",
    "\n",
    "from deepsnap.dataset import GraphDataset\n",
    "from deepsnap.batch import Batch\n",
    "from deepsnap.graph import Graph\n",
    "\n",
    "from sklearn.metrics import roc_auc_score, roc_curve, f1_score, classification_report, confusion_matrix\n",
    "import matplotlib.pyplot as plt\n",
    "\n",
    "from gensim.models import KeyedVectors\n",
    "\n",
    "from sklearn.preprocessing import StandardScaler\n",
    "from sklearn.decomposition import PCA\n",
    "from sklearn.manifold import TSNE\n",
    "\n",
    "from gnn.linkpred_model import LinkPredModel, train, test\n",
    "import data_params as input_data_params"
   ]
  },
  {
   "cell_type": "code",
   "execution_count": 2,
   "metadata": {
    "execution": {
     "iopub.execute_input": "2024-07-26T10:33:40.050726Z",
     "iopub.status.busy": "2024-07-26T10:33:40.050726Z",
     "iopub.status.idle": "2024-07-26T10:33:40.061725Z",
     "shell.execute_reply": "2024-07-26T10:33:40.060725Z"
    }
   },
   "outputs": [
    {
     "name": "stdout",
     "output_type": "stream",
     "text": [
      "Using device: cpu\n"
     ]
    }
   ],
   "source": [
    "torch_device = torch.device('cuda' if torch.cuda.is_available() else 'cpu')\n",
    "print('Using device:', torch_device)"
   ]
  },
  {
   "cell_type": "markdown",
   "metadata": {},
   "source": [
    "# Set Parameters"
   ]
  },
  {
   "attachments": {},
   "cell_type": "markdown",
   "metadata": {},
   "source": [
    "Specify which dataset is used, 1 (original knowledge graph) or 2 (restructured knowledge graph)"
   ]
  },
  {
   "cell_type": "code",
   "execution_count": 3,
   "metadata": {
    "execution": {
     "iopub.execute_input": "2024-07-26T10:33:40.100069Z",
     "iopub.status.busy": "2024-07-26T10:33:40.099069Z",
     "iopub.status.idle": "2024-07-26T10:33:40.106647Z",
     "shell.execute_reply": "2024-07-26T10:33:40.105625Z"
    }
   },
   "outputs": [],
   "source": [
    "dataset_prefix = input_data_params.dataset\n",
    "\n",
    "disease_prefix = input_data_params.disease\n",
    "assert disease_prefix == 'dmd' or 'hd' or 'oi'\n",
    "\n",
    "embedding_method = 'e2v'\n",
    "\n",
    "seeded_emb = input_data_params.e2v_seed\n",
    "\n",
    "if seeded_emb:\n",
    "    fixed_emb = '_seeded'\n",
    "else:\n",
    "    fixed_emb = ''"
   ]
  },
  {
   "cell_type": "markdown",
   "metadata": {},
   "source": [
    "# Set Folder"
   ]
  },
  {
   "cell_type": "code",
   "execution_count": 4,
   "metadata": {
    "execution": {
     "iopub.execute_input": "2024-07-26T10:33:40.110646Z",
     "iopub.status.busy": "2024-07-26T10:33:40.109646Z",
     "iopub.status.idle": "2024-07-26T10:33:40.121664Z",
     "shell.execute_reply": "2024-07-26T10:33:40.120646Z"
    }
   },
   "outputs": [
    {
     "name": "stdout",
     "output_type": "stream",
     "text": [
      "Output folder for dataset 2 exists and will be used: C:\\Users\\rosa-\\Google Drive\\Msc_Bioinformatics\\thesis\\XAIFO-ThesisProject\\output\\hd\\g2_e2v\n",
      "Output folder for predictions from dataset 2 is created: C:\\Users\\rosa-\\Google Drive\\Msc_Bioinformatics\\thesis\\XAIFO-ThesisProject\\output\\hd\\g2_e2v\\run_010\\pred\n"
     ]
    }
   ],
   "source": [
    "curr_working_dir = os.getcwd()\n",
    "curr_output_dir = os.path.join(curr_working_dir, 'output', disease_prefix)\n",
    "dataset_output_dir = os.path.join(curr_output_dir, f'{dataset_prefix}_{embedding_method}{fixed_emb}')\n",
    "\n",
    "if not os.path.exists(dataset_output_dir):\n",
    "    print('First, run the edge2vec embedding script. Then, run this script.')\n",
    "else:\n",
    "    print(f'Output folder for dataset {dataset_prefix} {disease_prefix} exists and will be used: {dataset_output_dir}')\n",
    "    \n",
    "run_folders_list = []\n",
    "for item in os.listdir(dataset_output_dir):\n",
    "    curr_path = os.path.join(dataset_output_dir, item)\n",
    "    if os.path.isdir(curr_path) and 'run' in item:\n",
    "        run_folders_list.append(item)\n",
    "        \n",
    "if len(run_folders_list) > 0:\n",
    "    run_folders_list.sort(reverse=True)\n",
    "    latest_run = run_folders_list[0]\n",
    "    \n",
    "    run_dir = os.path.join(dataset_output_dir, latest_run)\n",
    "    \n",
    "    pred_output_dir = os.path.join(run_dir, 'pred')\n",
    "    if not os.path.exists(pred_output_dir):\n",
    "        os.mkdir(pred_output_dir)\n",
    "        print(f'Output folder for predictions from dataset {dataset_prefix} {disease_prefix} is created: {pred_output_dir}')\n",
    "    else:\n",
    "        print(f'Output folder for predictions from dataset {dataset_prefix} {disease_prefix} already exists and will be used: {pred_output_dir}')\n",
    "    \n",
    "else:\n",
    "    print('First, run the edge2vec embedding script. Then, run this script.')"
   ]
  },
  {
   "cell_type": "code",
   "execution_count": 5,
   "metadata": {
    "execution": {
     "iopub.execute_input": "2024-07-26T10:33:40.124661Z",
     "iopub.status.busy": "2024-07-26T10:33:40.124661Z",
     "iopub.status.idle": "2024-07-26T10:33:40.136650Z",
     "shell.execute_reply": "2024-07-26T10:33:40.135635Z"
    }
   },
   "outputs": [
    {
     "data": {
      "text/plain": [
       "'C:\\\\Users\\\\rosa-\\\\Google Drive\\\\Msc_Bioinformatics\\\\thesis\\\\XAIFO-ThesisProject\\\\output\\\\hd\\\\g2_e2v\\\\run_010'"
      ]
     },
     "execution_count": 5,
     "metadata": {},
     "output_type": "execute_result"
    }
   ],
   "source": [
    "run_dir"
   ]
  },
  {
   "attachments": {},
   "cell_type": "markdown",
   "metadata": {},
   "source": [
    "# Load Data"
   ]
  },
  {
   "cell_type": "markdown",
   "metadata": {},
   "source": [
    "Load all nodes"
   ]
  },
  {
   "cell_type": "code",
   "execution_count": 6,
   "metadata": {
    "execution": {
     "iopub.execute_input": "2024-07-26T10:33:40.140639Z",
     "iopub.status.busy": "2024-07-26T10:33:40.139659Z",
     "iopub.status.idle": "2024-07-26T10:33:40.183500Z",
     "shell.execute_reply": "2024-07-26T10:33:40.181523Z"
    }
   },
   "outputs": [
    {
     "data": {
      "text/html": [
       "<div>\n",
       "<style scoped>\n",
       "    .dataframe tbody tr th:only-of-type {\n",
       "        vertical-align: middle;\n",
       "    }\n",
       "\n",
       "    .dataframe tbody tr th {\n",
       "        vertical-align: top;\n",
       "    }\n",
       "\n",
       "    .dataframe thead th {\n",
       "        text-align: right;\n",
       "    }\n",
       "</style>\n",
       "<table border=\"1\" class=\"dataframe\">\n",
       "  <thead>\n",
       "    <tr style=\"text-align: right;\">\n",
       "      <th></th>\n",
       "      <th>id</th>\n",
       "      <th>semantic</th>\n",
       "      <th>label</th>\n",
       "      <th>semantic_id</th>\n",
       "    </tr>\n",
       "  </thead>\n",
       "  <tbody>\n",
       "    <tr>\n",
       "      <th>0</th>\n",
       "      <td>dictyBase:DDB_G0282941</td>\n",
       "      <td>gene</td>\n",
       "      <td>DDB0185273</td>\n",
       "      <td>4</td>\n",
       "    </tr>\n",
       "    <tr>\n",
       "      <th>1</th>\n",
       "      <td>WBPhenotype:0001133</td>\n",
       "      <td>phenotype</td>\n",
       "      <td>division axis defective</td>\n",
       "      <td>8</td>\n",
       "    </tr>\n",
       "    <tr>\n",
       "      <th>2</th>\n",
       "      <td>HP:0012005</td>\n",
       "      <td>phenotype</td>\n",
       "      <td>Deja vu aura</td>\n",
       "      <td>8</td>\n",
       "    </tr>\n",
       "    <tr>\n",
       "      <th>3</th>\n",
       "      <td>ENSEMBL:ENSPTRG00000043959</td>\n",
       "      <td>gene</td>\n",
       "      <td>ENSEMBL:ENSPTRG00000043959</td>\n",
       "      <td>4</td>\n",
       "    </tr>\n",
       "    <tr>\n",
       "      <th>4</th>\n",
       "      <td>HP:0001265</td>\n",
       "      <td>phenotype</td>\n",
       "      <td>Hyporeflexia</td>\n",
       "      <td>8</td>\n",
       "    </tr>\n",
       "    <tr>\n",
       "      <th>...</th>\n",
       "      <td>...</td>\n",
       "      <td>...</td>\n",
       "      <td>...</td>\n",
       "      <td>...</td>\n",
       "    </tr>\n",
       "    <tr>\n",
       "      <th>14877</th>\n",
       "      <td>MGI:2676637</td>\n",
       "      <td>gene</td>\n",
       "      <td>H2-M11</td>\n",
       "      <td>4</td>\n",
       "    </tr>\n",
       "    <tr>\n",
       "      <th>14878</th>\n",
       "      <td>MP:0000378</td>\n",
       "      <td>phenotype</td>\n",
       "      <td>absent hair follicles</td>\n",
       "      <td>8</td>\n",
       "    </tr>\n",
       "    <tr>\n",
       "      <th>14879</th>\n",
       "      <td>WormBase:WBGene00006446</td>\n",
       "      <td>gene</td>\n",
       "      <td>atx-3</td>\n",
       "      <td>4</td>\n",
       "    </tr>\n",
       "    <tr>\n",
       "      <th>14880</th>\n",
       "      <td>MGI:2654144</td>\n",
       "      <td>gene</td>\n",
       "      <td>Ercc6l</td>\n",
       "      <td>4</td>\n",
       "    </tr>\n",
       "    <tr>\n",
       "      <th>14881</th>\n",
       "      <td>1912</td>\n",
       "      <td>drug</td>\n",
       "      <td>niclosamide</td>\n",
       "      <td>3</td>\n",
       "    </tr>\n",
       "  </tbody>\n",
       "</table>\n",
       "<p>14882 rows × 4 columns</p>\n",
       "</div>"
      ],
      "text/plain": [
       "                               id   semantic                       label  \\\n",
       "0          dictyBase:DDB_G0282941       gene                  DDB0185273   \n",
       "1             WBPhenotype:0001133  phenotype     division axis defective   \n",
       "2                      HP:0012005  phenotype                Deja vu aura   \n",
       "3      ENSEMBL:ENSPTRG00000043959       gene  ENSEMBL:ENSPTRG00000043959   \n",
       "4                      HP:0001265  phenotype                Hyporeflexia   \n",
       "...                           ...        ...                         ...   \n",
       "14877                 MGI:2676637       gene                      H2-M11   \n",
       "14878                  MP:0000378  phenotype       absent hair follicles   \n",
       "14879     WormBase:WBGene00006446       gene                       atx-3   \n",
       "14880                 MGI:2654144       gene                      Ercc6l   \n",
       "14881                        1912       drug                 niclosamide   \n",
       "\n",
       "       semantic_id  \n",
       "0                4  \n",
       "1                8  \n",
       "2                8  \n",
       "3                4  \n",
       "4                8  \n",
       "...            ...  \n",
       "14877            4  \n",
       "14878            8  \n",
       "14879            4  \n",
       "14880            4  \n",
       "14881            3  \n",
       "\n",
       "[14882 rows x 4 columns]"
      ]
     },
     "execution_count": 6,
     "metadata": {},
     "output_type": "execute_result"
    }
   ],
   "source": [
    "nodes = pd.read_csv(f'output/{disease_prefix}/{dataset_prefix}_{disease_prefix}_indexed_nodes.csv')\n",
    "nodes.drop('index_id', axis=1, inplace=True)\n",
    "nodes['semantic'] = nodes['semantic'].astype('category')\n",
    "nodes"
   ]
  },
  {
   "cell_type": "code",
   "execution_count": 7,
   "metadata": {
    "execution": {
     "iopub.execute_input": "2024-07-26T10:33:40.186499Z",
     "iopub.status.busy": "2024-07-26T10:33:40.186499Z",
     "iopub.status.idle": "2024-07-26T10:33:40.213656Z",
     "shell.execute_reply": "2024-07-26T10:33:40.212680Z"
    }
   },
   "outputs": [
    {
     "data": {
      "text/html": [
       "<div>\n",
       "<style scoped>\n",
       "    .dataframe tbody tr th:only-of-type {\n",
       "        vertical-align: middle;\n",
       "    }\n",
       "\n",
       "    .dataframe tbody tr th {\n",
       "        vertical-align: top;\n",
       "    }\n",
       "\n",
       "    .dataframe thead th {\n",
       "        text-align: right;\n",
       "    }\n",
       "</style>\n",
       "<table border=\"1\" class=\"dataframe\">\n",
       "  <thead>\n",
       "    <tr style=\"text-align: right;\">\n",
       "      <th></th>\n",
       "      <th>id</th>\n",
       "      <th>semantic</th>\n",
       "      <th>label</th>\n",
       "      <th>semantic_id</th>\n",
       "    </tr>\n",
       "  </thead>\n",
       "  <tbody>\n",
       "    <tr>\n",
       "      <th>204</th>\n",
       "      <td>2632</td>\n",
       "      <td>drug</td>\n",
       "      <td>thioguanine</td>\n",
       "      <td>3</td>\n",
       "    </tr>\n",
       "    <tr>\n",
       "      <th>249</th>\n",
       "      <td>2650</td>\n",
       "      <td>drug</td>\n",
       "      <td>tianeptine</td>\n",
       "      <td>3</td>\n",
       "    </tr>\n",
       "    <tr>\n",
       "      <th>281</th>\n",
       "      <td>844</td>\n",
       "      <td>drug</td>\n",
       "      <td>dextropropoxyphene</td>\n",
       "      <td>3</td>\n",
       "    </tr>\n",
       "    <tr>\n",
       "      <th>371</th>\n",
       "      <td>2832</td>\n",
       "      <td>drug</td>\n",
       "      <td>thiamine</td>\n",
       "      <td>3</td>\n",
       "    </tr>\n",
       "    <tr>\n",
       "      <th>383</th>\n",
       "      <td>2459</td>\n",
       "      <td>drug</td>\n",
       "      <td>sorafenib</td>\n",
       "      <td>3</td>\n",
       "    </tr>\n",
       "    <tr>\n",
       "      <th>...</th>\n",
       "      <td>...</td>\n",
       "      <td>...</td>\n",
       "      <td>...</td>\n",
       "      <td>...</td>\n",
       "    </tr>\n",
       "    <tr>\n",
       "      <th>14313</th>\n",
       "      <td>1800</td>\n",
       "      <td>drug</td>\n",
       "      <td>miconazole</td>\n",
       "      <td>3</td>\n",
       "    </tr>\n",
       "    <tr>\n",
       "      <th>14510</th>\n",
       "      <td>143</td>\n",
       "      <td>drug</td>\n",
       "      <td>alvimopan</td>\n",
       "      <td>3</td>\n",
       "    </tr>\n",
       "    <tr>\n",
       "      <th>14629</th>\n",
       "      <td>2491</td>\n",
       "      <td>drug</td>\n",
       "      <td>sufentanil</td>\n",
       "      <td>3</td>\n",
       "    </tr>\n",
       "    <tr>\n",
       "      <th>14840</th>\n",
       "      <td>2422</td>\n",
       "      <td>drug</td>\n",
       "      <td>saquinavir</td>\n",
       "      <td>3</td>\n",
       "    </tr>\n",
       "    <tr>\n",
       "      <th>14881</th>\n",
       "      <td>1912</td>\n",
       "      <td>drug</td>\n",
       "      <td>niclosamide</td>\n",
       "      <td>3</td>\n",
       "    </tr>\n",
       "  </tbody>\n",
       "</table>\n",
       "<p>215 rows × 4 columns</p>\n",
       "</div>"
      ],
      "text/plain": [
       "         id semantic               label  semantic_id\n",
       "204    2632     drug         thioguanine            3\n",
       "249    2650     drug          tianeptine            3\n",
       "281     844     drug  dextropropoxyphene            3\n",
       "371    2832     drug            thiamine            3\n",
       "383    2459     drug           sorafenib            3\n",
       "...     ...      ...                 ...          ...\n",
       "14313  1800     drug          miconazole            3\n",
       "14510   143     drug           alvimopan            3\n",
       "14629  2491     drug          sufentanil            3\n",
       "14840  2422     drug          saquinavir            3\n",
       "14881  1912     drug         niclosamide            3\n",
       "\n",
       "[215 rows x 4 columns]"
      ]
     },
     "execution_count": 7,
     "metadata": {},
     "output_type": "execute_result"
    }
   ],
   "source": [
    "if dataset_prefix == 'prev':\n",
    "    drug_semantic_name = 'DRUG'\n",
    "else:\n",
    "    drug_semantic_name = 'drug'\n",
    "    \n",
    "nodes[nodes['semantic'] == drug_semantic_name]"
   ]
  },
  {
   "cell_type": "code",
   "execution_count": 8,
   "metadata": {
    "execution": {
     "iopub.execute_input": "2024-07-26T10:33:40.216674Z",
     "iopub.status.busy": "2024-07-26T10:33:40.216674Z",
     "iopub.status.idle": "2024-07-26T10:33:40.228664Z",
     "shell.execute_reply": "2024-07-26T10:33:40.227656Z"
    }
   },
   "outputs": [
    {
     "data": {
      "text/html": [
       "<div>\n",
       "<style scoped>\n",
       "    .dataframe tbody tr th:only-of-type {\n",
       "        vertical-align: middle;\n",
       "    }\n",
       "\n",
       "    .dataframe tbody tr th {\n",
       "        vertical-align: top;\n",
       "    }\n",
       "\n",
       "    .dataframe thead th {\n",
       "        text-align: right;\n",
       "    }\n",
       "</style>\n",
       "<table border=\"1\" class=\"dataframe\">\n",
       "  <thead>\n",
       "    <tr style=\"text-align: right;\">\n",
       "      <th></th>\n",
       "      <th>id</th>\n",
       "      <th>semantic</th>\n",
       "      <th>label</th>\n",
       "      <th>semantic_id</th>\n",
       "    </tr>\n",
       "  </thead>\n",
       "  <tbody>\n",
       "    <tr>\n",
       "      <th>29</th>\n",
       "      <td>ZFIN:ZDB-GENE-061026-1</td>\n",
       "      <td>gene</td>\n",
       "      <td>ftr97</td>\n",
       "      <td>4</td>\n",
       "    </tr>\n",
       "  </tbody>\n",
       "</table>\n",
       "</div>"
      ],
      "text/plain": [
       "                        id semantic  label  semantic_id\n",
       "29  ZFIN:ZDB-GENE-061026-1     gene  ftr97            4"
      ]
     },
     "execution_count": 8,
     "metadata": {},
     "output_type": "execute_result"
    }
   ],
   "source": [
    "nodes.iloc[[29]]"
   ]
  },
  {
   "cell_type": "markdown",
   "metadata": {},
   "source": [
    "The dictionary below can be used as mapping between generated semantic ID and semantic group label."
   ]
  },
  {
   "cell_type": "code",
   "execution_count": 9,
   "metadata": {
    "execution": {
     "iopub.execute_input": "2024-07-26T10:33:40.232670Z",
     "iopub.status.busy": "2024-07-26T10:33:40.232670Z",
     "iopub.status.idle": "2024-07-26T10:33:40.244659Z",
     "shell.execute_reply": "2024-07-26T10:33:40.243657Z"
    }
   },
   "outputs": [
    {
     "data": {
      "text/plain": [
       "{4: 'gene',\n",
       " 8: 'phenotype',\n",
       " 0: 'biological artifact',\n",
       " 10: 'variant',\n",
       " 3: 'drug',\n",
       " 6: 'genotype',\n",
       " 7: 'molecular function',\n",
       " 5: 'gene product',\n",
       " 2: 'disease',\n",
       " 9: 'taxon',\n",
       " 1: 'biological process'}"
      ]
     },
     "execution_count": 9,
     "metadata": {},
     "output_type": "execute_result"
    }
   ],
   "source": [
    "node_semantic_dict = dict(zip(nodes['semantic_id'], nodes['semantic']))\n",
    "node_semantic_dict"
   ]
  },
  {
   "cell_type": "markdown",
   "metadata": {},
   "source": [
    "Load the node embeddings"
   ]
  },
  {
   "cell_type": "code",
   "execution_count": 10,
   "metadata": {
    "execution": {
     "iopub.execute_input": "2024-07-26T10:33:40.248654Z",
     "iopub.status.busy": "2024-07-26T10:33:40.247656Z",
     "iopub.status.idle": "2024-07-26T10:33:40.259656Z",
     "shell.execute_reply": "2024-07-26T10:33:40.258653Z"
    }
   },
   "outputs": [],
   "source": [
    "def loadEdge2VecEmbedding(): \n",
    "    node_feat = KeyedVectors.load(f'{run_dir}/w2v_{dataset_prefix}_{disease_prefix}.dvectors', mmap='r')\n",
    "    e2v_embedding = pd.DataFrame(columns = ['Node', 'Embedding'])\n",
    "    for idx, key in enumerate(node_feat.index_to_key):\n",
    "        e2v_embedding.loc[int(key)] = pd.Series({'Node':int(key), 'Embedding':list(node_feat[key])})\n",
    "        \n",
    "    return e2v_embedding.sort_values('Node')"
   ]
  },
  {
   "cell_type": "code",
   "execution_count": 11,
   "metadata": {
    "execution": {
     "iopub.execute_input": "2024-07-26T10:33:40.263669Z",
     "iopub.status.busy": "2024-07-26T10:33:40.262661Z",
     "iopub.status.idle": "2024-07-26T10:34:14.730140Z",
     "shell.execute_reply": "2024-07-26T10:34:14.729129Z"
    }
   },
   "outputs": [
    {
     "data": {
      "text/html": [
       "<div>\n",
       "<style scoped>\n",
       "    .dataframe tbody tr th:only-of-type {\n",
       "        vertical-align: middle;\n",
       "    }\n",
       "\n",
       "    .dataframe tbody tr th {\n",
       "        vertical-align: top;\n",
       "    }\n",
       "\n",
       "    .dataframe thead th {\n",
       "        text-align: right;\n",
       "    }\n",
       "</style>\n",
       "<table border=\"1\" class=\"dataframe\">\n",
       "  <thead>\n",
       "    <tr style=\"text-align: right;\">\n",
       "      <th></th>\n",
       "      <th>Node</th>\n",
       "      <th>Embedding</th>\n",
       "    </tr>\n",
       "  </thead>\n",
       "  <tbody>\n",
       "    <tr>\n",
       "      <th>0</th>\n",
       "      <td>0</td>\n",
       "      <td>[0.060310576, 0.46537676, 0.04694983, 0.017187...</td>\n",
       "    </tr>\n",
       "    <tr>\n",
       "      <th>1</th>\n",
       "      <td>1</td>\n",
       "      <td>[0.01326424, 0.38757032, -0.06641213, -0.10599...</td>\n",
       "    </tr>\n",
       "    <tr>\n",
       "      <th>2</th>\n",
       "      <td>2</td>\n",
       "      <td>[-0.03756393, 0.29166058, 0.1691319, -0.150007...</td>\n",
       "    </tr>\n",
       "    <tr>\n",
       "      <th>3</th>\n",
       "      <td>3</td>\n",
       "      <td>[-0.0309075, 0.7155092, -0.13902342, 0.1877839...</td>\n",
       "    </tr>\n",
       "    <tr>\n",
       "      <th>4</th>\n",
       "      <td>4</td>\n",
       "      <td>[-0.022320645, 0.28345042, -0.022876412, -0.18...</td>\n",
       "    </tr>\n",
       "    <tr>\n",
       "      <th>...</th>\n",
       "      <td>...</td>\n",
       "      <td>...</td>\n",
       "    </tr>\n",
       "    <tr>\n",
       "      <th>14877</th>\n",
       "      <td>14877</td>\n",
       "      <td>[-0.060331568, 0.14974622, -0.23809075, 0.3225...</td>\n",
       "    </tr>\n",
       "    <tr>\n",
       "      <th>14878</th>\n",
       "      <td>14878</td>\n",
       "      <td>[0.12134756, 0.33623686, 0.088746436, -0.19336...</td>\n",
       "    </tr>\n",
       "    <tr>\n",
       "      <th>14879</th>\n",
       "      <td>14879</td>\n",
       "      <td>[-0.042873338, 0.4756828, 0.016947206, -0.5295...</td>\n",
       "    </tr>\n",
       "    <tr>\n",
       "      <th>14880</th>\n",
       "      <td>14880</td>\n",
       "      <td>[-0.048496816, 0.38779512, 0.075792305, -0.097...</td>\n",
       "    </tr>\n",
       "    <tr>\n",
       "      <th>14881</th>\n",
       "      <td>14881</td>\n",
       "      <td>[0.14574188, 0.50985837, -0.16407561, 0.114188...</td>\n",
       "    </tr>\n",
       "  </tbody>\n",
       "</table>\n",
       "<p>14882 rows × 2 columns</p>\n",
       "</div>"
      ],
      "text/plain": [
       "        Node                                          Embedding\n",
       "0          0  [0.060310576, 0.46537676, 0.04694983, 0.017187...\n",
       "1          1  [0.01326424, 0.38757032, -0.06641213, -0.10599...\n",
       "2          2  [-0.03756393, 0.29166058, 0.1691319, -0.150007...\n",
       "3          3  [-0.0309075, 0.7155092, -0.13902342, 0.1877839...\n",
       "4          4  [-0.022320645, 0.28345042, -0.022876412, -0.18...\n",
       "...      ...                                                ...\n",
       "14877  14877  [-0.060331568, 0.14974622, -0.23809075, 0.3225...\n",
       "14878  14878  [0.12134756, 0.33623686, 0.088746436, -0.19336...\n",
       "14879  14879  [-0.042873338, 0.4756828, 0.016947206, -0.5295...\n",
       "14880  14880  [-0.048496816, 0.38779512, 0.075792305, -0.097...\n",
       "14881  14881  [0.14574188, 0.50985837, -0.16407561, 0.114188...\n",
       "\n",
       "[14882 rows x 2 columns]"
      ]
     },
     "execution_count": 11,
     "metadata": {},
     "output_type": "execute_result"
    }
   ],
   "source": [
    "embedding = loadEdge2VecEmbedding()\n",
    "embedding"
   ]
  },
  {
   "cell_type": "markdown",
   "metadata": {},
   "source": [
    "Load the edges"
   ]
  },
  {
   "cell_type": "code",
   "execution_count": 12,
   "metadata": {
    "execution": {
     "iopub.execute_input": "2024-07-26T10:34:14.734139Z",
     "iopub.status.busy": "2024-07-26T10:34:14.734139Z",
     "iopub.status.idle": "2024-07-26T10:34:15.025925Z",
     "shell.execute_reply": "2024-07-26T10:34:15.024913Z"
    }
   },
   "outputs": [
    {
     "data": {
      "text/html": [
       "<div>\n",
       "<style scoped>\n",
       "    .dataframe tbody tr th:only-of-type {\n",
       "        vertical-align: middle;\n",
       "    }\n",
       "\n",
       "    .dataframe tbody tr th {\n",
       "        vertical-align: top;\n",
       "    }\n",
       "\n",
       "    .dataframe thead th {\n",
       "        text-align: right;\n",
       "    }\n",
       "</style>\n",
       "<table border=\"1\" class=\"dataframe\">\n",
       "  <thead>\n",
       "    <tr style=\"text-align: right;\">\n",
       "      <th></th>\n",
       "      <th>head</th>\n",
       "      <th>label_head</th>\n",
       "      <th>class_head</th>\n",
       "      <th>index_head</th>\n",
       "      <th>relation</th>\n",
       "      <th>tail</th>\n",
       "      <th>label_tail</th>\n",
       "      <th>class_tail</th>\n",
       "      <th>index_tail</th>\n",
       "      <th>type</th>\n",
       "    </tr>\n",
       "  </thead>\n",
       "  <tbody>\n",
       "    <tr>\n",
       "      <th>0</th>\n",
       "      <td>WormBase:WBGene00006537</td>\n",
       "      <td>tbb-2</td>\n",
       "      <td>4</td>\n",
       "      <td>10272</td>\n",
       "      <td>causes condition</td>\n",
       "      <td>WBPhenotype:0000774</td>\n",
       "      <td>gametogenesis variant</td>\n",
       "      <td>8</td>\n",
       "      <td>9968</td>\n",
       "      <td>0</td>\n",
       "    </tr>\n",
       "    <tr>\n",
       "      <th>1</th>\n",
       "      <td>WormBase:WBGene00006537</td>\n",
       "      <td>tbb-2</td>\n",
       "      <td>4</td>\n",
       "      <td>10272</td>\n",
       "      <td>causes condition</td>\n",
       "      <td>WBPhenotype:0002188</td>\n",
       "      <td>male somatic gonad development variant</td>\n",
       "      <td>8</td>\n",
       "      <td>3292</td>\n",
       "      <td>0</td>\n",
       "    </tr>\n",
       "    <tr>\n",
       "      <th>2</th>\n",
       "      <td>WormBase:WBGene00006537</td>\n",
       "      <td>tbb-2</td>\n",
       "      <td>4</td>\n",
       "      <td>10272</td>\n",
       "      <td>causes condition</td>\n",
       "      <td>WBPhenotype:0001224</td>\n",
       "      <td>axon outgrowth variant</td>\n",
       "      <td>8</td>\n",
       "      <td>8349</td>\n",
       "      <td>0</td>\n",
       "    </tr>\n",
       "    <tr>\n",
       "      <th>3</th>\n",
       "      <td>WormBase:WBGene00006537</td>\n",
       "      <td>tbb-2</td>\n",
       "      <td>4</td>\n",
       "      <td>10272</td>\n",
       "      <td>in orthology relationship with</td>\n",
       "      <td>MGI:107812</td>\n",
       "      <td>Tubb5</td>\n",
       "      <td>4</td>\n",
       "      <td>4998</td>\n",
       "      <td>1</td>\n",
       "    </tr>\n",
       "    <tr>\n",
       "      <th>4</th>\n",
       "      <td>WormBase:WBGene00006537</td>\n",
       "      <td>tbb-2</td>\n",
       "      <td>4</td>\n",
       "      <td>10272</td>\n",
       "      <td>causes condition</td>\n",
       "      <td>WBPhenotype:0001100</td>\n",
       "      <td>early embryonic lethal</td>\n",
       "      <td>8</td>\n",
       "      <td>6541</td>\n",
       "      <td>0</td>\n",
       "    </tr>\n",
       "    <tr>\n",
       "      <th>...</th>\n",
       "      <td>...</td>\n",
       "      <td>...</td>\n",
       "      <td>...</td>\n",
       "      <td>...</td>\n",
       "      <td>...</td>\n",
       "      <td>...</td>\n",
       "      <td>...</td>\n",
       "      <td>...</td>\n",
       "      <td>...</td>\n",
       "      <td>...</td>\n",
       "    </tr>\n",
       "    <tr>\n",
       "      <th>230223</th>\n",
       "      <td>Q99460</td>\n",
       "      <td>26S proteasome non-ATPase regulatory subunit 1</td>\n",
       "      <td>5</td>\n",
       "      <td>4895</td>\n",
       "      <td>is product of</td>\n",
       "      <td>HGNC:9554</td>\n",
       "      <td>PSMD1</td>\n",
       "      <td>4</td>\n",
       "      <td>352</td>\n",
       "      <td>11</td>\n",
       "    </tr>\n",
       "    <tr>\n",
       "      <th>230224</th>\n",
       "      <td>P53396</td>\n",
       "      <td>ATP-citrate synthase</td>\n",
       "      <td>5</td>\n",
       "      <td>1449</td>\n",
       "      <td>is product of</td>\n",
       "      <td>HGNC:115</td>\n",
       "      <td>ACLY</td>\n",
       "      <td>4</td>\n",
       "      <td>10260</td>\n",
       "      <td>11</td>\n",
       "    </tr>\n",
       "    <tr>\n",
       "      <th>230225</th>\n",
       "      <td>Q60631</td>\n",
       "      <td>Growth factor receptor-bound protein 2</td>\n",
       "      <td>5</td>\n",
       "      <td>12956</td>\n",
       "      <td>is product of</td>\n",
       "      <td>MGI:95805</td>\n",
       "      <td>Grb2</td>\n",
       "      <td>4</td>\n",
       "      <td>6661</td>\n",
       "      <td>11</td>\n",
       "    </tr>\n",
       "    <tr>\n",
       "      <th>230226</th>\n",
       "      <td>1980</td>\n",
       "      <td>octreotide</td>\n",
       "      <td>3</td>\n",
       "      <td>5596</td>\n",
       "      <td>targets</td>\n",
       "      <td>P35372</td>\n",
       "      <td>Mu-type opioid receptor</td>\n",
       "      <td>5</td>\n",
       "      <td>6566</td>\n",
       "      <td>12</td>\n",
       "    </tr>\n",
       "    <tr>\n",
       "      <th>230227</th>\n",
       "      <td>P00533</td>\n",
       "      <td>Epidermal growth factor receptor</td>\n",
       "      <td>5</td>\n",
       "      <td>6337</td>\n",
       "      <td>is product of</td>\n",
       "      <td>HGNC:3236</td>\n",
       "      <td>EGFR</td>\n",
       "      <td>4</td>\n",
       "      <td>8284</td>\n",
       "      <td>11</td>\n",
       "    </tr>\n",
       "  </tbody>\n",
       "</table>\n",
       "<p>230228 rows × 10 columns</p>\n",
       "</div>"
      ],
      "text/plain": [
       "                           head  \\\n",
       "0       WormBase:WBGene00006537   \n",
       "1       WormBase:WBGene00006537   \n",
       "2       WormBase:WBGene00006537   \n",
       "3       WormBase:WBGene00006537   \n",
       "4       WormBase:WBGene00006537   \n",
       "...                         ...   \n",
       "230223                   Q99460   \n",
       "230224                   P53396   \n",
       "230225                   Q60631   \n",
       "230226                     1980   \n",
       "230227                   P00533   \n",
       "\n",
       "                                            label_head  class_head  \\\n",
       "0                                                tbb-2           4   \n",
       "1                                                tbb-2           4   \n",
       "2                                                tbb-2           4   \n",
       "3                                                tbb-2           4   \n",
       "4                                                tbb-2           4   \n",
       "...                                                ...         ...   \n",
       "230223  26S proteasome non-ATPase regulatory subunit 1           5   \n",
       "230224                            ATP-citrate synthase           5   \n",
       "230225          Growth factor receptor-bound protein 2           5   \n",
       "230226                                      octreotide           3   \n",
       "230227                Epidermal growth factor receptor           5   \n",
       "\n",
       "        index_head                        relation                 tail  \\\n",
       "0            10272                causes condition  WBPhenotype:0000774   \n",
       "1            10272                causes condition  WBPhenotype:0002188   \n",
       "2            10272                causes condition  WBPhenotype:0001224   \n",
       "3            10272  in orthology relationship with           MGI:107812   \n",
       "4            10272                causes condition  WBPhenotype:0001100   \n",
       "...            ...                             ...                  ...   \n",
       "230223        4895                   is product of            HGNC:9554   \n",
       "230224        1449                   is product of             HGNC:115   \n",
       "230225       12956                   is product of            MGI:95805   \n",
       "230226        5596                         targets               P35372   \n",
       "230227        6337                   is product of            HGNC:3236   \n",
       "\n",
       "                                    label_tail  class_tail  index_tail  type  \n",
       "0                        gametogenesis variant           8        9968     0  \n",
       "1       male somatic gonad development variant           8        3292     0  \n",
       "2                       axon outgrowth variant           8        8349     0  \n",
       "3                                        Tubb5           4        4998     1  \n",
       "4                       early embryonic lethal           8        6541     0  \n",
       "...                                        ...         ...         ...   ...  \n",
       "230223                                   PSMD1           4         352    11  \n",
       "230224                                    ACLY           4       10260    11  \n",
       "230225                                    Grb2           4        6661    11  \n",
       "230226                 Mu-type opioid receptor           5        6566    12  \n",
       "230227                                    EGFR           4        8284    11  \n",
       "\n",
       "[230228 rows x 10 columns]"
      ]
     },
     "execution_count": 12,
     "metadata": {},
     "output_type": "execute_result"
    }
   ],
   "source": [
    "edges = pd.read_csv(f'output/{disease_prefix}/{dataset_prefix}_{disease_prefix}_indexed_edges.csv')\n",
    "edges"
   ]
  },
  {
   "cell_type": "code",
   "execution_count": 13,
   "metadata": {
    "execution": {
     "iopub.execute_input": "2024-07-26T10:34:15.029913Z",
     "iopub.status.busy": "2024-07-26T10:34:15.029913Z",
     "iopub.status.idle": "2024-07-26T10:34:15.056819Z",
     "shell.execute_reply": "2024-07-26T10:34:15.054815Z"
    }
   },
   "outputs": [
    {
     "data": {
      "text/html": [
       "<div>\n",
       "<style scoped>\n",
       "    .dataframe tbody tr th:only-of-type {\n",
       "        vertical-align: middle;\n",
       "    }\n",
       "\n",
       "    .dataframe tbody tr th {\n",
       "        vertical-align: top;\n",
       "    }\n",
       "\n",
       "    .dataframe thead th {\n",
       "        text-align: right;\n",
       "    }\n",
       "</style>\n",
       "<table border=\"1\" class=\"dataframe\">\n",
       "  <thead>\n",
       "    <tr style=\"text-align: right;\">\n",
       "      <th></th>\n",
       "      <th>head</th>\n",
       "      <th>label_head</th>\n",
       "      <th>class_head</th>\n",
       "      <th>index_head</th>\n",
       "      <th>relation</th>\n",
       "      <th>tail</th>\n",
       "      <th>label_tail</th>\n",
       "      <th>class_tail</th>\n",
       "      <th>index_tail</th>\n",
       "      <th>type</th>\n",
       "    </tr>\n",
       "  </thead>\n",
       "  <tbody>\n",
       "    <tr>\n",
       "      <th>44408</th>\n",
       "      <td>ENSEMBL:ENSMMUG00000002569</td>\n",
       "      <td>ENSEMBL:ENSMMUG00000002569</td>\n",
       "      <td>4</td>\n",
       "      <td>3544</td>\n",
       "      <td>in orthology relationship with</td>\n",
       "      <td>ZFIN:ZDB-GENE-090511-1</td>\n",
       "      <td>ftr80</td>\n",
       "      <td>4</td>\n",
       "      <td>1244</td>\n",
       "      <td>1</td>\n",
       "    </tr>\n",
       "    <tr>\n",
       "      <th>58595</th>\n",
       "      <td>RGD:1562602</td>\n",
       "      <td>Pml</td>\n",
       "      <td>4</td>\n",
       "      <td>1855</td>\n",
       "      <td>in orthology relationship with</td>\n",
       "      <td>ZFIN:ZDB-GENE-090511-1</td>\n",
       "      <td>ftr80</td>\n",
       "      <td>4</td>\n",
       "      <td>1244</td>\n",
       "      <td>1</td>\n",
       "    </tr>\n",
       "    <tr>\n",
       "      <th>59565</th>\n",
       "      <td>HGNC:9113</td>\n",
       "      <td>PML</td>\n",
       "      <td>4</td>\n",
       "      <td>9366</td>\n",
       "      <td>in orthology relationship with</td>\n",
       "      <td>ZFIN:ZDB-GENE-090511-1</td>\n",
       "      <td>ftr80</td>\n",
       "      <td>4</td>\n",
       "      <td>1244</td>\n",
       "      <td>1</td>\n",
       "    </tr>\n",
       "    <tr>\n",
       "      <th>61606</th>\n",
       "      <td>ENSEMBL:ENSPTRG00000007266</td>\n",
       "      <td>ENSEMBL:ENSPTRG00000007266</td>\n",
       "      <td>4</td>\n",
       "      <td>11411</td>\n",
       "      <td>in orthology relationship with</td>\n",
       "      <td>ZFIN:ZDB-GENE-090511-1</td>\n",
       "      <td>ftr80</td>\n",
       "      <td>4</td>\n",
       "      <td>1244</td>\n",
       "      <td>1</td>\n",
       "    </tr>\n",
       "    <tr>\n",
       "      <th>101888</th>\n",
       "      <td>FlyBase:FBgn0026206</td>\n",
       "      <td>mei-P26</td>\n",
       "      <td>4</td>\n",
       "      <td>13273</td>\n",
       "      <td>in orthology relationship with</td>\n",
       "      <td>ZFIN:ZDB-GENE-090511-1</td>\n",
       "      <td>ftr80</td>\n",
       "      <td>4</td>\n",
       "      <td>1244</td>\n",
       "      <td>1</td>\n",
       "    </tr>\n",
       "    <tr>\n",
       "      <th>107797</th>\n",
       "      <td>ENSEMBL:ENSSSCG00000001912</td>\n",
       "      <td>PML</td>\n",
       "      <td>4</td>\n",
       "      <td>9887</td>\n",
       "      <td>in orthology relationship with</td>\n",
       "      <td>ZFIN:ZDB-GENE-090511-1</td>\n",
       "      <td>ftr80</td>\n",
       "      <td>4</td>\n",
       "      <td>1244</td>\n",
       "      <td>1</td>\n",
       "    </tr>\n",
       "    <tr>\n",
       "      <th>118134</th>\n",
       "      <td>ENSEMBL:ENSECAG00000004617</td>\n",
       "      <td>ENSEMBL:ENSECAG00000004617</td>\n",
       "      <td>4</td>\n",
       "      <td>2943</td>\n",
       "      <td>in orthology relationship with</td>\n",
       "      <td>ZFIN:ZDB-GENE-090511-1</td>\n",
       "      <td>ftr80</td>\n",
       "      <td>4</td>\n",
       "      <td>1244</td>\n",
       "      <td>1</td>\n",
       "    </tr>\n",
       "    <tr>\n",
       "      <th>121111</th>\n",
       "      <td>WormBase:WBGene00003599</td>\n",
       "      <td>nhl-3</td>\n",
       "      <td>4</td>\n",
       "      <td>14544</td>\n",
       "      <td>in orthology relationship with</td>\n",
       "      <td>ZFIN:ZDB-GENE-090511-1</td>\n",
       "      <td>ftr80</td>\n",
       "      <td>4</td>\n",
       "      <td>1244</td>\n",
       "      <td>1</td>\n",
       "    </tr>\n",
       "    <tr>\n",
       "      <th>126043</th>\n",
       "      <td>ENSEMBL:ENSBTAG00000015779</td>\n",
       "      <td>ENSEMBL:ENSBTAG00000015779</td>\n",
       "      <td>4</td>\n",
       "      <td>14689</td>\n",
       "      <td>in orthology relationship with</td>\n",
       "      <td>ZFIN:ZDB-GENE-090511-1</td>\n",
       "      <td>ftr80</td>\n",
       "      <td>4</td>\n",
       "      <td>1244</td>\n",
       "      <td>1</td>\n",
       "    </tr>\n",
       "    <tr>\n",
       "      <th>128897</th>\n",
       "      <td>MGI:104662</td>\n",
       "      <td>Pml</td>\n",
       "      <td>4</td>\n",
       "      <td>9569</td>\n",
       "      <td>in orthology relationship with</td>\n",
       "      <td>ZFIN:ZDB-GENE-090511-1</td>\n",
       "      <td>ftr80</td>\n",
       "      <td>4</td>\n",
       "      <td>1244</td>\n",
       "      <td>1</td>\n",
       "    </tr>\n",
       "    <tr>\n",
       "      <th>131600</th>\n",
       "      <td>ENSEMBL:ENSFCAG00000003098</td>\n",
       "      <td>ENSEMBL:ENSFCAG00000003098</td>\n",
       "      <td>4</td>\n",
       "      <td>14266</td>\n",
       "      <td>in orthology relationship with</td>\n",
       "      <td>ZFIN:ZDB-GENE-090511-1</td>\n",
       "      <td>ftr80</td>\n",
       "      <td>4</td>\n",
       "      <td>1244</td>\n",
       "      <td>1</td>\n",
       "    </tr>\n",
       "    <tr>\n",
       "      <th>136445</th>\n",
       "      <td>ENSEMBL:ENSACAG00000007859</td>\n",
       "      <td>ENSEMBL:ENSACAG00000007859</td>\n",
       "      <td>4</td>\n",
       "      <td>60</td>\n",
       "      <td>in orthology relationship with</td>\n",
       "      <td>ZFIN:ZDB-GENE-090511-1</td>\n",
       "      <td>ftr80</td>\n",
       "      <td>4</td>\n",
       "      <td>1244</td>\n",
       "      <td>1</td>\n",
       "    </tr>\n",
       "    <tr>\n",
       "      <th>145220</th>\n",
       "      <td>ENSEMBL:ENSOANG00000008921</td>\n",
       "      <td>ENSEMBL:ENSOANG00000008921</td>\n",
       "      <td>4</td>\n",
       "      <td>2869</td>\n",
       "      <td>in orthology relationship with</td>\n",
       "      <td>ZFIN:ZDB-GENE-090511-1</td>\n",
       "      <td>ftr80</td>\n",
       "      <td>4</td>\n",
       "      <td>1244</td>\n",
       "      <td>1</td>\n",
       "    </tr>\n",
       "    <tr>\n",
       "      <th>159756</th>\n",
       "      <td>NCBIGene:100488610</td>\n",
       "      <td>LOC100488610</td>\n",
       "      <td>4</td>\n",
       "      <td>9404</td>\n",
       "      <td>in orthology relationship with</td>\n",
       "      <td>ZFIN:ZDB-GENE-090511-1</td>\n",
       "      <td>ftr80</td>\n",
       "      <td>4</td>\n",
       "      <td>1244</td>\n",
       "      <td>1</td>\n",
       "    </tr>\n",
       "    <tr>\n",
       "      <th>173497</th>\n",
       "      <td>dictyBase:DDB_G0285989</td>\n",
       "      <td>DDB0218772</td>\n",
       "      <td>4</td>\n",
       "      <td>2577</td>\n",
       "      <td>in orthology relationship with</td>\n",
       "      <td>ZFIN:ZDB-GENE-090511-1</td>\n",
       "      <td>ftr80</td>\n",
       "      <td>4</td>\n",
       "      <td>1244</td>\n",
       "      <td>1</td>\n",
       "    </tr>\n",
       "    <tr>\n",
       "      <th>211148</th>\n",
       "      <td>ENSEMBL:ENSMODG00000009808</td>\n",
       "      <td>ENSEMBL:ENSMODG00000009808</td>\n",
       "      <td>4</td>\n",
       "      <td>6494</td>\n",
       "      <td>in orthology relationship with</td>\n",
       "      <td>ZFIN:ZDB-GENE-090511-1</td>\n",
       "      <td>ftr80</td>\n",
       "      <td>4</td>\n",
       "      <td>1244</td>\n",
       "      <td>1</td>\n",
       "    </tr>\n",
       "    <tr>\n",
       "      <th>212939</th>\n",
       "      <td>ENSEMBL:ENSCAFG00000025384</td>\n",
       "      <td>ENSEMBL:ENSCAFG00000025384</td>\n",
       "      <td>4</td>\n",
       "      <td>409</td>\n",
       "      <td>in orthology relationship with</td>\n",
       "      <td>ZFIN:ZDB-GENE-090511-1</td>\n",
       "      <td>ftr80</td>\n",
       "      <td>4</td>\n",
       "      <td>1244</td>\n",
       "      <td>1</td>\n",
       "    </tr>\n",
       "  </tbody>\n",
       "</table>\n",
       "</div>"
      ],
      "text/plain": [
       "                              head                  label_head  class_head  \\\n",
       "44408   ENSEMBL:ENSMMUG00000002569  ENSEMBL:ENSMMUG00000002569           4   \n",
       "58595                  RGD:1562602                         Pml           4   \n",
       "59565                    HGNC:9113                         PML           4   \n",
       "61606   ENSEMBL:ENSPTRG00000007266  ENSEMBL:ENSPTRG00000007266           4   \n",
       "101888         FlyBase:FBgn0026206                     mei-P26           4   \n",
       "107797  ENSEMBL:ENSSSCG00000001912                         PML           4   \n",
       "118134  ENSEMBL:ENSECAG00000004617  ENSEMBL:ENSECAG00000004617           4   \n",
       "121111     WormBase:WBGene00003599                       nhl-3           4   \n",
       "126043  ENSEMBL:ENSBTAG00000015779  ENSEMBL:ENSBTAG00000015779           4   \n",
       "128897                  MGI:104662                         Pml           4   \n",
       "131600  ENSEMBL:ENSFCAG00000003098  ENSEMBL:ENSFCAG00000003098           4   \n",
       "136445  ENSEMBL:ENSACAG00000007859  ENSEMBL:ENSACAG00000007859           4   \n",
       "145220  ENSEMBL:ENSOANG00000008921  ENSEMBL:ENSOANG00000008921           4   \n",
       "159756          NCBIGene:100488610                LOC100488610           4   \n",
       "173497      dictyBase:DDB_G0285989                  DDB0218772           4   \n",
       "211148  ENSEMBL:ENSMODG00000009808  ENSEMBL:ENSMODG00000009808           4   \n",
       "212939  ENSEMBL:ENSCAFG00000025384  ENSEMBL:ENSCAFG00000025384           4   \n",
       "\n",
       "        index_head                        relation                    tail  \\\n",
       "44408         3544  in orthology relationship with  ZFIN:ZDB-GENE-090511-1   \n",
       "58595         1855  in orthology relationship with  ZFIN:ZDB-GENE-090511-1   \n",
       "59565         9366  in orthology relationship with  ZFIN:ZDB-GENE-090511-1   \n",
       "61606        11411  in orthology relationship with  ZFIN:ZDB-GENE-090511-1   \n",
       "101888       13273  in orthology relationship with  ZFIN:ZDB-GENE-090511-1   \n",
       "107797        9887  in orthology relationship with  ZFIN:ZDB-GENE-090511-1   \n",
       "118134        2943  in orthology relationship with  ZFIN:ZDB-GENE-090511-1   \n",
       "121111       14544  in orthology relationship with  ZFIN:ZDB-GENE-090511-1   \n",
       "126043       14689  in orthology relationship with  ZFIN:ZDB-GENE-090511-1   \n",
       "128897        9569  in orthology relationship with  ZFIN:ZDB-GENE-090511-1   \n",
       "131600       14266  in orthology relationship with  ZFIN:ZDB-GENE-090511-1   \n",
       "136445          60  in orthology relationship with  ZFIN:ZDB-GENE-090511-1   \n",
       "145220        2869  in orthology relationship with  ZFIN:ZDB-GENE-090511-1   \n",
       "159756        9404  in orthology relationship with  ZFIN:ZDB-GENE-090511-1   \n",
       "173497        2577  in orthology relationship with  ZFIN:ZDB-GENE-090511-1   \n",
       "211148        6494  in orthology relationship with  ZFIN:ZDB-GENE-090511-1   \n",
       "212939         409  in orthology relationship with  ZFIN:ZDB-GENE-090511-1   \n",
       "\n",
       "       label_tail  class_tail  index_tail  type  \n",
       "44408       ftr80           4        1244     1  \n",
       "58595       ftr80           4        1244     1  \n",
       "59565       ftr80           4        1244     1  \n",
       "61606       ftr80           4        1244     1  \n",
       "101888      ftr80           4        1244     1  \n",
       "107797      ftr80           4        1244     1  \n",
       "118134      ftr80           4        1244     1  \n",
       "121111      ftr80           4        1244     1  \n",
       "126043      ftr80           4        1244     1  \n",
       "128897      ftr80           4        1244     1  \n",
       "131600      ftr80           4        1244     1  \n",
       "136445      ftr80           4        1244     1  \n",
       "145220      ftr80           4        1244     1  \n",
       "159756      ftr80           4        1244     1  \n",
       "173497      ftr80           4        1244     1  \n",
       "211148      ftr80           4        1244     1  \n",
       "212939      ftr80           4        1244     1  "
      ]
     },
     "execution_count": 13,
     "metadata": {},
     "output_type": "execute_result"
    }
   ],
   "source": [
    "edges.loc[edges['index_tail'] == 1244]"
   ]
  },
  {
   "cell_type": "markdown",
   "metadata": {},
   "source": [
    "Index list can be used later for converting back to the label of the relation."
   ]
  },
  {
   "cell_type": "code",
   "execution_count": 14,
   "metadata": {
    "execution": {
     "iopub.execute_input": "2024-07-26T10:34:15.059815Z",
     "iopub.status.busy": "2024-07-26T10:34:15.059815Z",
     "iopub.status.idle": "2024-07-26T10:34:15.087291Z",
     "shell.execute_reply": "2024-07-26T10:34:15.085554Z"
    }
   },
   "outputs": [
    {
     "data": {
      "text/plain": [
       "Index(['causes condition', 'in orthology relationship with', 'interacts with',\n",
       "       'enables', 'found in', 'contributes to condition', 'colocalizes with',\n",
       "       'has role in modeling', 'expresses gene', 'is variant in',\n",
       "       'involved in', 'is product of', 'targets', 'is of', 'is allele of',\n",
       "       'has affected feature', 'associated with phenotype', 'has genotype',\n",
       "       'is substance that treats'],\n",
       "      dtype='object')"
      ]
     },
     "execution_count": 14,
     "metadata": {},
     "output_type": "execute_result"
    }
   ],
   "source": [
    "_, relation_labels = pd.factorize(edges['relation'])\n",
    "relation_labels"
   ]
  },
  {
   "attachments": {},
   "cell_type": "markdown",
   "metadata": {},
   "source": [
    "# Link Prediction"
   ]
  },
  {
   "cell_type": "markdown",
   "metadata": {},
   "source": []
  },
  {
   "cell_type": "code",
   "execution_count": null,
   "metadata": {},
   "outputs": [],
   "source": [
    "gnn_params = {\n",
    "    'dmd': {\n",
    "        'prev': {\n",
    "            'neg_sampl_ratio': 1.0,\n",
    "            'device': torch_device,\n",
    "            'hidden_dim': 256,\n",
    "            'output_dim': 64,\n",
    "            'epochs': 150,\n",
    "            'lr': 0.07,\n",
    "            'aggr': 'mean',\n",
    "            'layers': 2,\n",
    "            'dropout': 0.2\n",
    "        }, \n",
    "        'restr': {\n",
    "            'neg_sampl_ratio': 1.0,\n",
    "            'device': torch_device,\n",
    "            'hidden_dim': 256,\n",
    "            'output_dim': 64,\n",
    "            'epochs': 100,\n",
    "            'lr': 0.013477408995651594,\n",
    "            'aggr': 'mean',\n",
    "            'layers': 2,\n",
    "            'dropout': 0.2\n",
    "        }\n",
    "    },\n",
    "    'hd': {\n",
    "        'prev': {\n",
    "            'neg_sampl_ratio': 1.0,\n",
    "            'device': torch_device,\n",
    "            'hidden_dim': 256,\n",
    "            'output_dim': 256,\n",
    "            'epochs': 150,\n",
    "            'lr': 0.06502336239146415,\n",
    "            'aggr': 'mean',\n",
    "            'layers': 6,\n",
    "            'dropout': 0\n",
    "        }, \n",
    "        'restr': {\n",
    "            'neg_sampl_ratio': 1.5,\n",
    "            'device': torch_device,\n",
    "            'hidden_dim': 64,\n",
    "            'output_dim': 128,\n",
    "            'epochs': 150,\n",
    "            'lr': 0.002385409259236275,\n",
    "            'aggr': 'mean',\n",
    "            'layers': 2,\n",
    "            'dropout': 0\n",
    "        }\n",
    "    }\n",
    "}\n",
    "\n",
    "weight_decay = 5e-4\n",
    "args = gnn_params[disease_prefix][dataset_prefix]"
   ]
  },
  {
   "attachments": {},
   "cell_type": "markdown",
   "metadata": {},
   "source": [
    "Creating a graph including the node embeddings as features of each node."
   ]
  },
  {
   "cell_type": "code",
   "execution_count": 15,
   "metadata": {
    "execution": {
     "iopub.execute_input": "2024-07-26T10:34:15.092328Z",
     "iopub.status.busy": "2024-07-26T10:34:15.091330Z",
     "iopub.status.idle": "2024-07-26T10:34:27.439149Z",
     "shell.execute_reply": "2024-07-26T10:34:27.438148Z"
    }
   },
   "outputs": [
    {
     "name": "stdout",
     "output_type": "stream",
     "text": [
      "(0, {'node_feature': tensor([ 6.0311e-02,  4.6538e-01,  4.6950e-02,  1.7188e-02, -1.3696e-01,\n",
      "         2.0356e-01, -1.4224e-01, -9.3678e-02, -2.9793e-01, -1.6142e-01,\n",
      "        -1.2147e-01,  1.1430e-01, -1.1819e-01, -2.0020e-01, -1.2888e-01,\n",
      "         6.8334e-02, -2.9511e-01,  2.5092e-01, -4.4035e-03,  1.1515e-01,\n",
      "         3.6251e-02, -3.0889e-01, -2.0454e-01,  3.1539e-01, -1.9949e-01,\n",
      "        -3.3451e-01,  8.9658e-02,  2.0776e-01,  1.1154e-01, -1.1209e-01,\n",
      "         7.7462e-02,  4.2987e-02, -2.2446e-01,  2.8383e-01,  9.2844e-02,\n",
      "        -1.2970e-01, -1.9174e-02, -8.8442e-03,  5.4577e-01,  4.0962e-01,\n",
      "        -1.8246e-01,  3.1822e-01, -5.5790e-03,  2.7182e-04, -1.3211e-01,\n",
      "         1.6434e-01,  2.5869e-01,  2.2098e-02,  3.1892e-01,  6.9077e-02,\n",
      "         5.6164e-02, -1.3801e-01, -1.6962e-01,  1.9150e-01, -2.4319e-01,\n",
      "         5.2057e-02, -5.1259e-02, -1.4366e-01, -9.1949e-02,  1.2343e-01,\n",
      "         5.2144e-03,  9.8827e-02, -1.7759e-01, -1.3967e-01, -1.5101e-02,\n",
      "        -1.8972e-01, -1.1260e-01,  2.1681e-01, -2.1834e-01,  1.7489e-01,\n",
      "         2.7523e-01,  1.5840e-01, -5.3578e-02, -2.9066e-01,  1.6674e-01,\n",
      "         1.8447e-01, -3.0509e-01, -3.8427e-02,  1.1319e-01,  8.7480e-02,\n",
      "        -5.8887e-02, -4.7778e-02,  9.8504e-02,  2.4475e-01, -1.6941e-01,\n",
      "        -3.9024e-01, -7.6614e-02, -1.8730e-01, -2.7363e-01, -5.0449e-01,\n",
      "        -4.0206e-01, -1.5374e-01,  6.0666e-02,  1.9586e-01, -3.1807e-01,\n",
      "        -3.4623e-02, -2.8995e-04,  1.3988e-01, -5.8706e-02,  2.0627e-01,\n",
      "         9.9479e-03, -1.0655e-01, -1.3626e-01, -8.3861e-02,  1.3675e-01,\n",
      "         1.4010e-01, -2.1047e-01, -8.0001e-03, -3.2628e-02, -2.0608e-01,\n",
      "         1.6168e-01, -7.6131e-02, -2.2729e-01, -2.7718e-01, -5.0072e-02,\n",
      "        -1.1637e-01,  1.0007e-03,  1.2338e-01,  7.2714e-02,  4.3897e-02,\n",
      "         1.1445e-01, -1.9176e-01,  5.8978e-02, -1.1802e-01, -1.0747e-01,\n",
      "        -9.7361e-02,  9.9553e-02,  2.2662e-01])})\n",
      "(0, 9263, {})\n",
      "Number of edges is 135988\n",
      "Number of nodes is 14882\n"
     ]
    }
   ],
   "source": [
    "embedded_node_G = nx.Graph() # TODO: DiGraph() or Graph()?\n",
    "\n",
    "for ind, node in embedding.iterrows(): \n",
    "  embedded_node_G.add_node(int(node['Node']), node_feature=torch.Tensor(node['Embedding']))\n",
    "for ind, edge in edges.iterrows(): \n",
    "  embedded_node_G.add_edge(int(edge['index_head']), int(edge['index_tail']))\n",
    "    \n",
    "for node in embedded_node_G.nodes(data=True):\n",
    "    print(node)\n",
    "    break\n",
    "for edge in embedded_node_G.edges(data=True):\n",
    "    print(edge)\n",
    "    break\n",
    "\n",
    "print(\"Number of edges is {}\".format(embedded_node_G.number_of_edges()))\n",
    "print(\"Number of nodes is {}\".format(embedded_node_G.number_of_nodes()))"
   ]
  },
  {
   "attachments": {},
   "cell_type": "markdown",
   "metadata": {},
   "source": [
    "## Generate graph datasets for training, validation and testing"
   ]
  },
  {
   "attachments": {},
   "cell_type": "markdown",
   "metadata": {},
   "source": [
    "Transductive link prediction split (https://zqfang.github.io/2021-08-12-graph-linkpredict/):\n",
    "- Train/validation/test sets are on the same graph\n",
    "- The dataset consists of one graph\n",
    "- The entire graph can be observed in all dataset splits\n",
    "- The labels of the edges are split"
   ]
  },
  {
   "cell_type": "code",
   "execution_count": 16,
   "metadata": {
    "execution": {
     "iopub.execute_input": "2024-07-26T10:34:27.444148Z",
     "iopub.status.busy": "2024-07-26T10:34:27.443152Z",
     "iopub.status.idle": "2024-07-26T10:34:32.484257Z",
     "shell.execute_reply": "2024-07-26T10:34:32.483257Z"
    }
   },
   "outputs": [
    {
     "name": "stderr",
     "output_type": "stream",
     "text": [
      "c:\\Users\\rosa-\\anaconda3\\envs\\xaifo\\lib\\site-packages\\deepsnap\\graph.py:2126: UserWarning: __floordiv__ is deprecated, and its behavior will change in a future version of pytorch. It currently rounds toward 0 (like the 'trunc' function NOT 'floor'). This results in incorrect rounding for negative values. To keep the current behavior, use torch.div(a, b, rounding_mode='trunc'), or for actual floor division, use torch.div(a, b, rounding_mode='floor').\n",
      "  row = perm // num_nodes\n"
     ]
    },
    {
     "name": "stdout",
     "output_type": "stream",
     "text": [
      "Input dimension (embedding dimension): 128 \n",
      " Number of edge classes (link or no link): 2\n"
     ]
    }
   ],
   "source": [
    "dataset = GraphDataset(\n",
    "    embedded_node_G,\n",
    "    task='link_pred',\n",
    "    edge_train_mode='all',\n",
    "    edge_negative_sampling_ratio=args['neg_sampl_ratio']\n",
    ")\n",
    "\n",
    "datasets = {}\n",
    "datasets['train'], datasets['val'], datasets['test'] = dataset.split(\n",
    "    transductive=True, split_ratio=[0.8, 0.1, 0.1]\n",
    ")\n",
    "\n",
    "input_dim = datasets['train'].num_node_features\n",
    "num_classes = datasets['train'].num_edge_labels\n",
    "\n",
    "print(f'Input dimension (embedding dimension): {input_dim} \\n Number of edge classes (link or no link): {num_classes}')   "
   ]
  },
  {
   "attachments": {},
   "cell_type": "markdown",
   "metadata": {},
   "source": [
    "Dataloaders allow to feed data into the model by batch."
   ]
  },
  {
   "cell_type": "code",
   "execution_count": 17,
   "metadata": {
    "execution": {
     "iopub.execute_input": "2024-07-26T10:34:32.488258Z",
     "iopub.status.busy": "2024-07-26T10:34:32.487258Z",
     "iopub.status.idle": "2024-07-26T10:34:32.500258Z",
     "shell.execute_reply": "2024-07-26T10:34:32.499257Z"
    }
   },
   "outputs": [],
   "source": [
    "dataloaders = {split: DataLoader(ds, collate_fn=Batch.collate([]), batch_size=1, shuffle=(split=='train')) for split, ds in datasets.items()}"
   ]
  },
  {
   "attachments": {},
   "cell_type": "markdown",
   "metadata": {},
   "source": [
    "## Train GNN"
   ]
  },
  {
   "attachments": {},
   "cell_type": "markdown",
   "metadata": {},
   "source": [
    "### Predefined Arguments"
   ]
  },
  {
   "attachments": {},
   "cell_type": "markdown",
   "metadata": {},
   "source": [
    "Train GNN with predefined arguments"
   ]
  },
  {
   "cell_type": "code",
   "execution_count": 18,
   "metadata": {
    "execution": {
     "iopub.execute_input": "2024-07-26T10:34:32.504257Z",
     "iopub.status.busy": "2024-07-26T10:34:32.503256Z",
     "iopub.status.idle": "2024-07-26T10:34:32.530261Z",
     "shell.execute_reply": "2024-07-26T10:34:32.529258Z"
    }
   },
   "outputs": [
    {
     "name": "stdout",
     "output_type": "stream",
     "text": [
      "{'device': device(type='cpu'), 'hidden_dim': 64, 'output_dim': 128, 'epochs': 150, 'lr': 0.002385409259236275, 'aggr': 'mean', 'layers': 2, 'dropout': 0} 0.0005\n"
     ]
    }
   ],
   "source": [
    "print(args, weight_decay)\n",
    "\n",
    "model = LinkPredModel(input_dim, args['hidden_dim'], args['output_dim'], args['layers'], args['aggr'], args['dropout'], args['device']).to(args['device'])\n",
    "optimizer = torch.optim.SGD(model.parameters(), lr=args['lr'], momentum=0.9, weight_decay=weight_decay)"
   ]
  },
  {
   "cell_type": "code",
   "execution_count": 19,
   "metadata": {
    "execution": {
     "iopub.execute_input": "2024-07-26T10:34:32.534258Z",
     "iopub.status.busy": "2024-07-26T10:34:32.534258Z",
     "iopub.status.idle": "2024-07-26T10:40:03.585244Z",
     "shell.execute_reply": "2024-07-26T10:40:03.584238Z"
    }
   },
   "outputs": [
    {
     "name": "stdout",
     "output_type": "stream",
     "text": [
      "Start Train Function\n",
      "Epoch: 001, Train: 0.9557, Val: 0.9441, Test: 0.9465, Loss: 5.26188\n"
     ]
    },
    {
     "name": "stderr",
     "output_type": "stream",
     "text": [
      "c:\\Users\\rosa-\\anaconda3\\envs\\xaifo\\lib\\site-packages\\deepsnap\\graph.py:2126: UserWarning: __floordiv__ is deprecated, and its behavior will change in a future version of pytorch. It currently rounds toward 0 (like the 'trunc' function NOT 'floor'). This results in incorrect rounding for negative values. To keep the current behavior, use torch.div(a, b, rounding_mode='trunc'), or for actual floor division, use torch.div(a, b, rounding_mode='floor').\n",
      "  row = perm // num_nodes\n"
     ]
    },
    {
     "name": "stdout",
     "output_type": "stream",
     "text": [
      "Epoch: 002, Train: 0.9536, Val: 0.9447, Test: 0.9473, Loss: 5.27670\n"
     ]
    },
    {
     "name": "stderr",
     "output_type": "stream",
     "text": [
      "c:\\Users\\rosa-\\anaconda3\\envs\\xaifo\\lib\\site-packages\\deepsnap\\graph.py:2126: UserWarning: __floordiv__ is deprecated, and its behavior will change in a future version of pytorch. It currently rounds toward 0 (like the 'trunc' function NOT 'floor'). This results in incorrect rounding for negative values. To keep the current behavior, use torch.div(a, b, rounding_mode='trunc'), or for actual floor division, use torch.div(a, b, rounding_mode='floor').\n",
      "  row = perm // num_nodes\n"
     ]
    },
    {
     "name": "stdout",
     "output_type": "stream",
     "text": [
      "Epoch: 003, Train: 0.9510, Val: 0.9440, Test: 0.9470, Loss: 5.16888\n"
     ]
    },
    {
     "name": "stderr",
     "output_type": "stream",
     "text": [
      "c:\\Users\\rosa-\\anaconda3\\envs\\xaifo\\lib\\site-packages\\deepsnap\\graph.py:2126: UserWarning: __floordiv__ is deprecated, and its behavior will change in a future version of pytorch. It currently rounds toward 0 (like the 'trunc' function NOT 'floor'). This results in incorrect rounding for negative values. To keep the current behavior, use torch.div(a, b, rounding_mode='trunc'), or for actual floor division, use torch.div(a, b, rounding_mode='floor').\n",
      "  row = perm // num_nodes\n"
     ]
    },
    {
     "name": "stdout",
     "output_type": "stream",
     "text": [
      "Epoch: 004, Train: 0.9484, Val: 0.9425, Test: 0.9459, Loss: 5.10583\n"
     ]
    },
    {
     "name": "stderr",
     "output_type": "stream",
     "text": [
      "c:\\Users\\rosa-\\anaconda3\\envs\\xaifo\\lib\\site-packages\\deepsnap\\graph.py:2126: UserWarning: __floordiv__ is deprecated, and its behavior will change in a future version of pytorch. It currently rounds toward 0 (like the 'trunc' function NOT 'floor'). This results in incorrect rounding for negative values. To keep the current behavior, use torch.div(a, b, rounding_mode='trunc'), or for actual floor division, use torch.div(a, b, rounding_mode='floor').\n",
      "  row = perm // num_nodes\n"
     ]
    },
    {
     "name": "stdout",
     "output_type": "stream",
     "text": [
      "Epoch: 005, Train: 0.9451, Val: 0.9406, Test: 0.9445, Loss: 4.99775\n"
     ]
    },
    {
     "name": "stderr",
     "output_type": "stream",
     "text": [
      "c:\\Users\\rosa-\\anaconda3\\envs\\xaifo\\lib\\site-packages\\deepsnap\\graph.py:2126: UserWarning: __floordiv__ is deprecated, and its behavior will change in a future version of pytorch. It currently rounds toward 0 (like the 'trunc' function NOT 'floor'). This results in incorrect rounding for negative values. To keep the current behavior, use torch.div(a, b, rounding_mode='trunc'), or for actual floor division, use torch.div(a, b, rounding_mode='floor').\n",
      "  row = perm // num_nodes\n"
     ]
    },
    {
     "name": "stdout",
     "output_type": "stream",
     "text": [
      "Epoch: 006, Train: 0.9428, Val: 0.9387, Test: 0.9430, Loss: 4.88318\n"
     ]
    },
    {
     "name": "stderr",
     "output_type": "stream",
     "text": [
      "c:\\Users\\rosa-\\anaconda3\\envs\\xaifo\\lib\\site-packages\\deepsnap\\graph.py:2126: UserWarning: __floordiv__ is deprecated, and its behavior will change in a future version of pytorch. It currently rounds toward 0 (like the 'trunc' function NOT 'floor'). This results in incorrect rounding for negative values. To keep the current behavior, use torch.div(a, b, rounding_mode='trunc'), or for actual floor division, use torch.div(a, b, rounding_mode='floor').\n",
      "  row = perm // num_nodes\n"
     ]
    },
    {
     "name": "stdout",
     "output_type": "stream",
     "text": [
      "Epoch: 007, Train: 0.9406, Val: 0.9368, Test: 0.9415, Loss: 4.79449\n"
     ]
    },
    {
     "name": "stderr",
     "output_type": "stream",
     "text": [
      "c:\\Users\\rosa-\\anaconda3\\envs\\xaifo\\lib\\site-packages\\deepsnap\\graph.py:2126: UserWarning: __floordiv__ is deprecated, and its behavior will change in a future version of pytorch. It currently rounds toward 0 (like the 'trunc' function NOT 'floor'). This results in incorrect rounding for negative values. To keep the current behavior, use torch.div(a, b, rounding_mode='trunc'), or for actual floor division, use torch.div(a, b, rounding_mode='floor').\n",
      "  row = perm // num_nodes\n"
     ]
    },
    {
     "name": "stdout",
     "output_type": "stream",
     "text": [
      "Epoch: 008, Train: 0.9386, Val: 0.9352, Test: 0.9403, Loss: 4.69487\n"
     ]
    },
    {
     "name": "stderr",
     "output_type": "stream",
     "text": [
      "c:\\Users\\rosa-\\anaconda3\\envs\\xaifo\\lib\\site-packages\\deepsnap\\graph.py:2126: UserWarning: __floordiv__ is deprecated, and its behavior will change in a future version of pytorch. It currently rounds toward 0 (like the 'trunc' function NOT 'floor'). This results in incorrect rounding for negative values. To keep the current behavior, use torch.div(a, b, rounding_mode='trunc'), or for actual floor division, use torch.div(a, b, rounding_mode='floor').\n",
      "  row = perm // num_nodes\n"
     ]
    },
    {
     "name": "stdout",
     "output_type": "stream",
     "text": [
      "Epoch: 009, Train: 0.9376, Val: 0.9340, Test: 0.9394, Loss: 4.61082\n"
     ]
    },
    {
     "name": "stderr",
     "output_type": "stream",
     "text": [
      "c:\\Users\\rosa-\\anaconda3\\envs\\xaifo\\lib\\site-packages\\deepsnap\\graph.py:2126: UserWarning: __floordiv__ is deprecated, and its behavior will change in a future version of pytorch. It currently rounds toward 0 (like the 'trunc' function NOT 'floor'). This results in incorrect rounding for negative values. To keep the current behavior, use torch.div(a, b, rounding_mode='trunc'), or for actual floor division, use torch.div(a, b, rounding_mode='floor').\n",
      "  row = perm // num_nodes\n"
     ]
    },
    {
     "name": "stdout",
     "output_type": "stream",
     "text": [
      "Epoch: 010, Train: 0.9365, Val: 0.9332, Test: 0.9388, Loss: 4.56836\n"
     ]
    },
    {
     "name": "stderr",
     "output_type": "stream",
     "text": [
      "c:\\Users\\rosa-\\anaconda3\\envs\\xaifo\\lib\\site-packages\\deepsnap\\graph.py:2126: UserWarning: __floordiv__ is deprecated, and its behavior will change in a future version of pytorch. It currently rounds toward 0 (like the 'trunc' function NOT 'floor'). This results in incorrect rounding for negative values. To keep the current behavior, use torch.div(a, b, rounding_mode='trunc'), or for actual floor division, use torch.div(a, b, rounding_mode='floor').\n",
      "  row = perm // num_nodes\n"
     ]
    },
    {
     "name": "stdout",
     "output_type": "stream",
     "text": [
      "Epoch: 011, Train: 0.9362, Val: 0.9326, Test: 0.9385, Loss: 4.49363\n"
     ]
    },
    {
     "name": "stderr",
     "output_type": "stream",
     "text": [
      "c:\\Users\\rosa-\\anaconda3\\envs\\xaifo\\lib\\site-packages\\deepsnap\\graph.py:2126: UserWarning: __floordiv__ is deprecated, and its behavior will change in a future version of pytorch. It currently rounds toward 0 (like the 'trunc' function NOT 'floor'). This results in incorrect rounding for negative values. To keep the current behavior, use torch.div(a, b, rounding_mode='trunc'), or for actual floor division, use torch.div(a, b, rounding_mode='floor').\n",
      "  row = perm // num_nodes\n"
     ]
    },
    {
     "name": "stdout",
     "output_type": "stream",
     "text": [
      "Epoch: 012, Train: 0.9363, Val: 0.9323, Test: 0.9384, Loss: 4.43396\n"
     ]
    },
    {
     "name": "stderr",
     "output_type": "stream",
     "text": [
      "c:\\Users\\rosa-\\anaconda3\\envs\\xaifo\\lib\\site-packages\\deepsnap\\graph.py:2126: UserWarning: __floordiv__ is deprecated, and its behavior will change in a future version of pytorch. It currently rounds toward 0 (like the 'trunc' function NOT 'floor'). This results in incorrect rounding for negative values. To keep the current behavior, use torch.div(a, b, rounding_mode='trunc'), or for actual floor division, use torch.div(a, b, rounding_mode='floor').\n",
      "  row = perm // num_nodes\n"
     ]
    },
    {
     "name": "stdout",
     "output_type": "stream",
     "text": [
      "Epoch: 013, Train: 0.9364, Val: 0.9322, Test: 0.9384, Loss: 4.38248\n"
     ]
    },
    {
     "name": "stderr",
     "output_type": "stream",
     "text": [
      "c:\\Users\\rosa-\\anaconda3\\envs\\xaifo\\lib\\site-packages\\deepsnap\\graph.py:2126: UserWarning: __floordiv__ is deprecated, and its behavior will change in a future version of pytorch. It currently rounds toward 0 (like the 'trunc' function NOT 'floor'). This results in incorrect rounding for negative values. To keep the current behavior, use torch.div(a, b, rounding_mode='trunc'), or for actual floor division, use torch.div(a, b, rounding_mode='floor').\n",
      "  row = perm // num_nodes\n"
     ]
    },
    {
     "name": "stdout",
     "output_type": "stream",
     "text": [
      "Epoch: 014, Train: 0.9370, Val: 0.9323, Test: 0.9386, Loss: 4.32425\n"
     ]
    },
    {
     "name": "stderr",
     "output_type": "stream",
     "text": [
      "c:\\Users\\rosa-\\anaconda3\\envs\\xaifo\\lib\\site-packages\\deepsnap\\graph.py:2126: UserWarning: __floordiv__ is deprecated, and its behavior will change in a future version of pytorch. It currently rounds toward 0 (like the 'trunc' function NOT 'floor'). This results in incorrect rounding for negative values. To keep the current behavior, use torch.div(a, b, rounding_mode='trunc'), or for actual floor division, use torch.div(a, b, rounding_mode='floor').\n",
      "  row = perm // num_nodes\n"
     ]
    },
    {
     "name": "stdout",
     "output_type": "stream",
     "text": [
      "Epoch: 015, Train: 0.9374, Val: 0.9326, Test: 0.9390, Loss: 4.26167\n"
     ]
    },
    {
     "name": "stderr",
     "output_type": "stream",
     "text": [
      "c:\\Users\\rosa-\\anaconda3\\envs\\xaifo\\lib\\site-packages\\deepsnap\\graph.py:2126: UserWarning: __floordiv__ is deprecated, and its behavior will change in a future version of pytorch. It currently rounds toward 0 (like the 'trunc' function NOT 'floor'). This results in incorrect rounding for negative values. To keep the current behavior, use torch.div(a, b, rounding_mode='trunc'), or for actual floor division, use torch.div(a, b, rounding_mode='floor').\n",
      "  row = perm // num_nodes\n"
     ]
    },
    {
     "name": "stdout",
     "output_type": "stream",
     "text": [
      "Epoch: 016, Train: 0.9383, Val: 0.9330, Test: 0.9394, Loss: 4.24115\n"
     ]
    },
    {
     "name": "stderr",
     "output_type": "stream",
     "text": [
      "c:\\Users\\rosa-\\anaconda3\\envs\\xaifo\\lib\\site-packages\\deepsnap\\graph.py:2126: UserWarning: __floordiv__ is deprecated, and its behavior will change in a future version of pytorch. It currently rounds toward 0 (like the 'trunc' function NOT 'floor'). This results in incorrect rounding for negative values. To keep the current behavior, use torch.div(a, b, rounding_mode='trunc'), or for actual floor division, use torch.div(a, b, rounding_mode='floor').\n",
      "  row = perm // num_nodes\n"
     ]
    },
    {
     "name": "stdout",
     "output_type": "stream",
     "text": [
      "Epoch: 017, Train: 0.9392, Val: 0.9335, Test: 0.9399, Loss: 4.18519\n"
     ]
    },
    {
     "name": "stderr",
     "output_type": "stream",
     "text": [
      "c:\\Users\\rosa-\\anaconda3\\envs\\xaifo\\lib\\site-packages\\deepsnap\\graph.py:2126: UserWarning: __floordiv__ is deprecated, and its behavior will change in a future version of pytorch. It currently rounds toward 0 (like the 'trunc' function NOT 'floor'). This results in incorrect rounding for negative values. To keep the current behavior, use torch.div(a, b, rounding_mode='trunc'), or for actual floor division, use torch.div(a, b, rounding_mode='floor').\n",
      "  row = perm // num_nodes\n"
     ]
    },
    {
     "name": "stdout",
     "output_type": "stream",
     "text": [
      "Epoch: 018, Train: 0.9402, Val: 0.9340, Test: 0.9404, Loss: 4.14609\n"
     ]
    },
    {
     "name": "stderr",
     "output_type": "stream",
     "text": [
      "c:\\Users\\rosa-\\anaconda3\\envs\\xaifo\\lib\\site-packages\\deepsnap\\graph.py:2126: UserWarning: __floordiv__ is deprecated, and its behavior will change in a future version of pytorch. It currently rounds toward 0 (like the 'trunc' function NOT 'floor'). This results in incorrect rounding for negative values. To keep the current behavior, use torch.div(a, b, rounding_mode='trunc'), or for actual floor division, use torch.div(a, b, rounding_mode='floor').\n",
      "  row = perm // num_nodes\n"
     ]
    },
    {
     "name": "stdout",
     "output_type": "stream",
     "text": [
      "Epoch: 019, Train: 0.9409, Val: 0.9346, Test: 0.9409, Loss: 4.07763\n"
     ]
    },
    {
     "name": "stderr",
     "output_type": "stream",
     "text": [
      "c:\\Users\\rosa-\\anaconda3\\envs\\xaifo\\lib\\site-packages\\deepsnap\\graph.py:2126: UserWarning: __floordiv__ is deprecated, and its behavior will change in a future version of pytorch. It currently rounds toward 0 (like the 'trunc' function NOT 'floor'). This results in incorrect rounding for negative values. To keep the current behavior, use torch.div(a, b, rounding_mode='trunc'), or for actual floor division, use torch.div(a, b, rounding_mode='floor').\n",
      "  row = perm // num_nodes\n"
     ]
    },
    {
     "name": "stdout",
     "output_type": "stream",
     "text": [
      "Epoch: 020, Train: 0.9417, Val: 0.9352, Test: 0.9414, Loss: 4.06978\n"
     ]
    },
    {
     "name": "stderr",
     "output_type": "stream",
     "text": [
      "c:\\Users\\rosa-\\anaconda3\\envs\\xaifo\\lib\\site-packages\\deepsnap\\graph.py:2126: UserWarning: __floordiv__ is deprecated, and its behavior will change in a future version of pytorch. It currently rounds toward 0 (like the 'trunc' function NOT 'floor'). This results in incorrect rounding for negative values. To keep the current behavior, use torch.div(a, b, rounding_mode='trunc'), or for actual floor division, use torch.div(a, b, rounding_mode='floor').\n",
      "  row = perm // num_nodes\n"
     ]
    },
    {
     "name": "stdout",
     "output_type": "stream",
     "text": [
      "Epoch: 021, Train: 0.9427, Val: 0.9358, Test: 0.9418, Loss: 4.02176\n"
     ]
    },
    {
     "name": "stderr",
     "output_type": "stream",
     "text": [
      "c:\\Users\\rosa-\\anaconda3\\envs\\xaifo\\lib\\site-packages\\deepsnap\\graph.py:2126: UserWarning: __floordiv__ is deprecated, and its behavior will change in a future version of pytorch. It currently rounds toward 0 (like the 'trunc' function NOT 'floor'). This results in incorrect rounding for negative values. To keep the current behavior, use torch.div(a, b, rounding_mode='trunc'), or for actual floor division, use torch.div(a, b, rounding_mode='floor').\n",
      "  row = perm // num_nodes\n"
     ]
    },
    {
     "name": "stdout",
     "output_type": "stream",
     "text": [
      "Epoch: 022, Train: 0.9435, Val: 0.9364, Test: 0.9422, Loss: 4.00424\n"
     ]
    },
    {
     "name": "stderr",
     "output_type": "stream",
     "text": [
      "c:\\Users\\rosa-\\anaconda3\\envs\\xaifo\\lib\\site-packages\\deepsnap\\graph.py:2126: UserWarning: __floordiv__ is deprecated, and its behavior will change in a future version of pytorch. It currently rounds toward 0 (like the 'trunc' function NOT 'floor'). This results in incorrect rounding for negative values. To keep the current behavior, use torch.div(a, b, rounding_mode='trunc'), or for actual floor division, use torch.div(a, b, rounding_mode='floor').\n",
      "  row = perm // num_nodes\n"
     ]
    },
    {
     "name": "stdout",
     "output_type": "stream",
     "text": [
      "Epoch: 023, Train: 0.9444, Val: 0.9370, Test: 0.9426, Loss: 3.94174\n"
     ]
    },
    {
     "name": "stderr",
     "output_type": "stream",
     "text": [
      "c:\\Users\\rosa-\\anaconda3\\envs\\xaifo\\lib\\site-packages\\deepsnap\\graph.py:2126: UserWarning: __floordiv__ is deprecated, and its behavior will change in a future version of pytorch. It currently rounds toward 0 (like the 'trunc' function NOT 'floor'). This results in incorrect rounding for negative values. To keep the current behavior, use torch.div(a, b, rounding_mode='trunc'), or for actual floor division, use torch.div(a, b, rounding_mode='floor').\n",
      "  row = perm // num_nodes\n"
     ]
    },
    {
     "name": "stdout",
     "output_type": "stream",
     "text": [
      "Epoch: 024, Train: 0.9452, Val: 0.9376, Test: 0.9430, Loss: 3.90599\n"
     ]
    },
    {
     "name": "stderr",
     "output_type": "stream",
     "text": [
      "c:\\Users\\rosa-\\anaconda3\\envs\\xaifo\\lib\\site-packages\\deepsnap\\graph.py:2126: UserWarning: __floordiv__ is deprecated, and its behavior will change in a future version of pytorch. It currently rounds toward 0 (like the 'trunc' function NOT 'floor'). This results in incorrect rounding for negative values. To keep the current behavior, use torch.div(a, b, rounding_mode='trunc'), or for actual floor division, use torch.div(a, b, rounding_mode='floor').\n",
      "  row = perm // num_nodes\n"
     ]
    },
    {
     "name": "stdout",
     "output_type": "stream",
     "text": [
      "Epoch: 025, Train: 0.9458, Val: 0.9382, Test: 0.9433, Loss: 3.90877\n"
     ]
    },
    {
     "name": "stderr",
     "output_type": "stream",
     "text": [
      "c:\\Users\\rosa-\\anaconda3\\envs\\xaifo\\lib\\site-packages\\deepsnap\\graph.py:2126: UserWarning: __floordiv__ is deprecated, and its behavior will change in a future version of pytorch. It currently rounds toward 0 (like the 'trunc' function NOT 'floor'). This results in incorrect rounding for negative values. To keep the current behavior, use torch.div(a, b, rounding_mode='trunc'), or for actual floor division, use torch.div(a, b, rounding_mode='floor').\n",
      "  row = perm // num_nodes\n"
     ]
    },
    {
     "name": "stdout",
     "output_type": "stream",
     "text": [
      "Epoch: 026, Train: 0.9462, Val: 0.9388, Test: 0.9436, Loss: 3.87196\n"
     ]
    },
    {
     "name": "stderr",
     "output_type": "stream",
     "text": [
      "c:\\Users\\rosa-\\anaconda3\\envs\\xaifo\\lib\\site-packages\\deepsnap\\graph.py:2126: UserWarning: __floordiv__ is deprecated, and its behavior will change in a future version of pytorch. It currently rounds toward 0 (like the 'trunc' function NOT 'floor'). This results in incorrect rounding for negative values. To keep the current behavior, use torch.div(a, b, rounding_mode='trunc'), or for actual floor division, use torch.div(a, b, rounding_mode='floor').\n",
      "  row = perm // num_nodes\n"
     ]
    },
    {
     "name": "stdout",
     "output_type": "stream",
     "text": [
      "Epoch: 027, Train: 0.9468, Val: 0.9393, Test: 0.9439, Loss: 3.84849\n"
     ]
    },
    {
     "name": "stderr",
     "output_type": "stream",
     "text": [
      "c:\\Users\\rosa-\\anaconda3\\envs\\xaifo\\lib\\site-packages\\deepsnap\\graph.py:2126: UserWarning: __floordiv__ is deprecated, and its behavior will change in a future version of pytorch. It currently rounds toward 0 (like the 'trunc' function NOT 'floor'). This results in incorrect rounding for negative values. To keep the current behavior, use torch.div(a, b, rounding_mode='trunc'), or for actual floor division, use torch.div(a, b, rounding_mode='floor').\n",
      "  row = perm // num_nodes\n"
     ]
    },
    {
     "name": "stdout",
     "output_type": "stream",
     "text": [
      "Epoch: 028, Train: 0.9475, Val: 0.9398, Test: 0.9441, Loss: 3.81409\n"
     ]
    },
    {
     "name": "stderr",
     "output_type": "stream",
     "text": [
      "c:\\Users\\rosa-\\anaconda3\\envs\\xaifo\\lib\\site-packages\\deepsnap\\graph.py:2126: UserWarning: __floordiv__ is deprecated, and its behavior will change in a future version of pytorch. It currently rounds toward 0 (like the 'trunc' function NOT 'floor'). This results in incorrect rounding for negative values. To keep the current behavior, use torch.div(a, b, rounding_mode='trunc'), or for actual floor division, use torch.div(a, b, rounding_mode='floor').\n",
      "  row = perm // num_nodes\n"
     ]
    },
    {
     "name": "stdout",
     "output_type": "stream",
     "text": [
      "Epoch: 029, Train: 0.9480, Val: 0.9402, Test: 0.9443, Loss: 3.77101\n"
     ]
    },
    {
     "name": "stderr",
     "output_type": "stream",
     "text": [
      "c:\\Users\\rosa-\\anaconda3\\envs\\xaifo\\lib\\site-packages\\deepsnap\\graph.py:2126: UserWarning: __floordiv__ is deprecated, and its behavior will change in a future version of pytorch. It currently rounds toward 0 (like the 'trunc' function NOT 'floor'). This results in incorrect rounding for negative values. To keep the current behavior, use torch.div(a, b, rounding_mode='trunc'), or for actual floor division, use torch.div(a, b, rounding_mode='floor').\n",
      "  row = perm // num_nodes\n"
     ]
    },
    {
     "name": "stdout",
     "output_type": "stream",
     "text": [
      "Epoch: 030, Train: 0.9484, Val: 0.9407, Test: 0.9445, Loss: 3.72237\n"
     ]
    },
    {
     "name": "stderr",
     "output_type": "stream",
     "text": [
      "c:\\Users\\rosa-\\anaconda3\\envs\\xaifo\\lib\\site-packages\\deepsnap\\graph.py:2126: UserWarning: __floordiv__ is deprecated, and its behavior will change in a future version of pytorch. It currently rounds toward 0 (like the 'trunc' function NOT 'floor'). This results in incorrect rounding for negative values. To keep the current behavior, use torch.div(a, b, rounding_mode='trunc'), or for actual floor division, use torch.div(a, b, rounding_mode='floor').\n",
      "  row = perm // num_nodes\n"
     ]
    },
    {
     "name": "stdout",
     "output_type": "stream",
     "text": [
      "Epoch: 031, Train: 0.9490, Val: 0.9411, Test: 0.9447, Loss: 3.69806\n"
     ]
    },
    {
     "name": "stderr",
     "output_type": "stream",
     "text": [
      "c:\\Users\\rosa-\\anaconda3\\envs\\xaifo\\lib\\site-packages\\deepsnap\\graph.py:2126: UserWarning: __floordiv__ is deprecated, and its behavior will change in a future version of pytorch. It currently rounds toward 0 (like the 'trunc' function NOT 'floor'). This results in incorrect rounding for negative values. To keep the current behavior, use torch.div(a, b, rounding_mode='trunc'), or for actual floor division, use torch.div(a, b, rounding_mode='floor').\n",
      "  row = perm // num_nodes\n"
     ]
    },
    {
     "name": "stdout",
     "output_type": "stream",
     "text": [
      "Epoch: 032, Train: 0.9492, Val: 0.9414, Test: 0.9449, Loss: 3.67895\n"
     ]
    },
    {
     "name": "stderr",
     "output_type": "stream",
     "text": [
      "c:\\Users\\rosa-\\anaconda3\\envs\\xaifo\\lib\\site-packages\\deepsnap\\graph.py:2126: UserWarning: __floordiv__ is deprecated, and its behavior will change in a future version of pytorch. It currently rounds toward 0 (like the 'trunc' function NOT 'floor'). This results in incorrect rounding for negative values. To keep the current behavior, use torch.div(a, b, rounding_mode='trunc'), or for actual floor division, use torch.div(a, b, rounding_mode='floor').\n",
      "  row = perm // num_nodes\n"
     ]
    },
    {
     "name": "stdout",
     "output_type": "stream",
     "text": [
      "Epoch: 033, Train: 0.9496, Val: 0.9418, Test: 0.9452, Loss: 3.65038\n"
     ]
    },
    {
     "name": "stderr",
     "output_type": "stream",
     "text": [
      "c:\\Users\\rosa-\\anaconda3\\envs\\xaifo\\lib\\site-packages\\deepsnap\\graph.py:2126: UserWarning: __floordiv__ is deprecated, and its behavior will change in a future version of pytorch. It currently rounds toward 0 (like the 'trunc' function NOT 'floor'). This results in incorrect rounding for negative values. To keep the current behavior, use torch.div(a, b, rounding_mode='trunc'), or for actual floor division, use torch.div(a, b, rounding_mode='floor').\n",
      "  row = perm // num_nodes\n"
     ]
    },
    {
     "name": "stdout",
     "output_type": "stream",
     "text": [
      "Epoch: 034, Train: 0.9501, Val: 0.9422, Test: 0.9454, Loss: 3.62654\n"
     ]
    },
    {
     "name": "stderr",
     "output_type": "stream",
     "text": [
      "c:\\Users\\rosa-\\anaconda3\\envs\\xaifo\\lib\\site-packages\\deepsnap\\graph.py:2126: UserWarning: __floordiv__ is deprecated, and its behavior will change in a future version of pytorch. It currently rounds toward 0 (like the 'trunc' function NOT 'floor'). This results in incorrect rounding for negative values. To keep the current behavior, use torch.div(a, b, rounding_mode='trunc'), or for actual floor division, use torch.div(a, b, rounding_mode='floor').\n",
      "  row = perm // num_nodes\n"
     ]
    },
    {
     "name": "stdout",
     "output_type": "stream",
     "text": [
      "Epoch: 035, Train: 0.9506, Val: 0.9426, Test: 0.9456, Loss: 3.59666\n"
     ]
    },
    {
     "name": "stderr",
     "output_type": "stream",
     "text": [
      "c:\\Users\\rosa-\\anaconda3\\envs\\xaifo\\lib\\site-packages\\deepsnap\\graph.py:2126: UserWarning: __floordiv__ is deprecated, and its behavior will change in a future version of pytorch. It currently rounds toward 0 (like the 'trunc' function NOT 'floor'). This results in incorrect rounding for negative values. To keep the current behavior, use torch.div(a, b, rounding_mode='trunc'), or for actual floor division, use torch.div(a, b, rounding_mode='floor').\n",
      "  row = perm // num_nodes\n"
     ]
    },
    {
     "name": "stdout",
     "output_type": "stream",
     "text": [
      "Epoch: 036, Train: 0.9510, Val: 0.9430, Test: 0.9459, Loss: 3.55545\n"
     ]
    },
    {
     "name": "stderr",
     "output_type": "stream",
     "text": [
      "c:\\Users\\rosa-\\anaconda3\\envs\\xaifo\\lib\\site-packages\\deepsnap\\graph.py:2126: UserWarning: __floordiv__ is deprecated, and its behavior will change in a future version of pytorch. It currently rounds toward 0 (like the 'trunc' function NOT 'floor'). This results in incorrect rounding for negative values. To keep the current behavior, use torch.div(a, b, rounding_mode='trunc'), or for actual floor division, use torch.div(a, b, rounding_mode='floor').\n",
      "  row = perm // num_nodes\n"
     ]
    },
    {
     "name": "stdout",
     "output_type": "stream",
     "text": [
      "Epoch: 037, Train: 0.9514, Val: 0.9433, Test: 0.9461, Loss: 3.57017\n"
     ]
    },
    {
     "name": "stderr",
     "output_type": "stream",
     "text": [
      "c:\\Users\\rosa-\\anaconda3\\envs\\xaifo\\lib\\site-packages\\deepsnap\\graph.py:2126: UserWarning: __floordiv__ is deprecated, and its behavior will change in a future version of pytorch. It currently rounds toward 0 (like the 'trunc' function NOT 'floor'). This results in incorrect rounding for negative values. To keep the current behavior, use torch.div(a, b, rounding_mode='trunc'), or for actual floor division, use torch.div(a, b, rounding_mode='floor').\n",
      "  row = perm // num_nodes\n"
     ]
    },
    {
     "name": "stdout",
     "output_type": "stream",
     "text": [
      "Epoch: 038, Train: 0.9515, Val: 0.9436, Test: 0.9463, Loss: 3.54586\n"
     ]
    },
    {
     "name": "stderr",
     "output_type": "stream",
     "text": [
      "c:\\Users\\rosa-\\anaconda3\\envs\\xaifo\\lib\\site-packages\\deepsnap\\graph.py:2126: UserWarning: __floordiv__ is deprecated, and its behavior will change in a future version of pytorch. It currently rounds toward 0 (like the 'trunc' function NOT 'floor'). This results in incorrect rounding for negative values. To keep the current behavior, use torch.div(a, b, rounding_mode='trunc'), or for actual floor division, use torch.div(a, b, rounding_mode='floor').\n",
      "  row = perm // num_nodes\n"
     ]
    },
    {
     "name": "stdout",
     "output_type": "stream",
     "text": [
      "Epoch: 039, Train: 0.9519, Val: 0.9438, Test: 0.9465, Loss: 3.51784\n"
     ]
    },
    {
     "name": "stderr",
     "output_type": "stream",
     "text": [
      "c:\\Users\\rosa-\\anaconda3\\envs\\xaifo\\lib\\site-packages\\deepsnap\\graph.py:2126: UserWarning: __floordiv__ is deprecated, and its behavior will change in a future version of pytorch. It currently rounds toward 0 (like the 'trunc' function NOT 'floor'). This results in incorrect rounding for negative values. To keep the current behavior, use torch.div(a, b, rounding_mode='trunc'), or for actual floor division, use torch.div(a, b, rounding_mode='floor').\n",
      "  row = perm // num_nodes\n"
     ]
    },
    {
     "name": "stdout",
     "output_type": "stream",
     "text": [
      "Epoch: 040, Train: 0.9521, Val: 0.9441, Test: 0.9467, Loss: 3.49837\n"
     ]
    },
    {
     "name": "stderr",
     "output_type": "stream",
     "text": [
      "c:\\Users\\rosa-\\anaconda3\\envs\\xaifo\\lib\\site-packages\\deepsnap\\graph.py:2126: UserWarning: __floordiv__ is deprecated, and its behavior will change in a future version of pytorch. It currently rounds toward 0 (like the 'trunc' function NOT 'floor'). This results in incorrect rounding for negative values. To keep the current behavior, use torch.div(a, b, rounding_mode='trunc'), or for actual floor division, use torch.div(a, b, rounding_mode='floor').\n",
      "  row = perm // num_nodes\n"
     ]
    },
    {
     "name": "stdout",
     "output_type": "stream",
     "text": [
      "Epoch: 041, Train: 0.9524, Val: 0.9442, Test: 0.9468, Loss: 3.47849\n"
     ]
    },
    {
     "name": "stderr",
     "output_type": "stream",
     "text": [
      "c:\\Users\\rosa-\\anaconda3\\envs\\xaifo\\lib\\site-packages\\deepsnap\\graph.py:2126: UserWarning: __floordiv__ is deprecated, and its behavior will change in a future version of pytorch. It currently rounds toward 0 (like the 'trunc' function NOT 'floor'). This results in incorrect rounding for negative values. To keep the current behavior, use torch.div(a, b, rounding_mode='trunc'), or for actual floor division, use torch.div(a, b, rounding_mode='floor').\n",
      "  row = perm // num_nodes\n"
     ]
    },
    {
     "name": "stdout",
     "output_type": "stream",
     "text": [
      "Epoch: 042, Train: 0.9526, Val: 0.9444, Test: 0.9469, Loss: 3.45302\n"
     ]
    },
    {
     "name": "stderr",
     "output_type": "stream",
     "text": [
      "c:\\Users\\rosa-\\anaconda3\\envs\\xaifo\\lib\\site-packages\\deepsnap\\graph.py:2126: UserWarning: __floordiv__ is deprecated, and its behavior will change in a future version of pytorch. It currently rounds toward 0 (like the 'trunc' function NOT 'floor'). This results in incorrect rounding for negative values. To keep the current behavior, use torch.div(a, b, rounding_mode='trunc'), or for actual floor division, use torch.div(a, b, rounding_mode='floor').\n",
      "  row = perm // num_nodes\n"
     ]
    },
    {
     "name": "stdout",
     "output_type": "stream",
     "text": [
      "Epoch: 043, Train: 0.9525, Val: 0.9445, Test: 0.9469, Loss: 3.43049\n"
     ]
    },
    {
     "name": "stderr",
     "output_type": "stream",
     "text": [
      "c:\\Users\\rosa-\\anaconda3\\envs\\xaifo\\lib\\site-packages\\deepsnap\\graph.py:2126: UserWarning: __floordiv__ is deprecated, and its behavior will change in a future version of pytorch. It currently rounds toward 0 (like the 'trunc' function NOT 'floor'). This results in incorrect rounding for negative values. To keep the current behavior, use torch.div(a, b, rounding_mode='trunc'), or for actual floor division, use torch.div(a, b, rounding_mode='floor').\n",
      "  row = perm // num_nodes\n"
     ]
    },
    {
     "name": "stdout",
     "output_type": "stream",
     "text": [
      "Epoch: 044, Train: 0.9530, Val: 0.9445, Test: 0.9469, Loss: 3.42072\n"
     ]
    },
    {
     "name": "stderr",
     "output_type": "stream",
     "text": [
      "c:\\Users\\rosa-\\anaconda3\\envs\\xaifo\\lib\\site-packages\\deepsnap\\graph.py:2126: UserWarning: __floordiv__ is deprecated, and its behavior will change in a future version of pytorch. It currently rounds toward 0 (like the 'trunc' function NOT 'floor'). This results in incorrect rounding for negative values. To keep the current behavior, use torch.div(a, b, rounding_mode='trunc'), or for actual floor division, use torch.div(a, b, rounding_mode='floor').\n",
      "  row = perm // num_nodes\n"
     ]
    },
    {
     "name": "stdout",
     "output_type": "stream",
     "text": [
      "Epoch: 045, Train: 0.9525, Val: 0.9444, Test: 0.9468, Loss: 3.39802\n"
     ]
    },
    {
     "name": "stderr",
     "output_type": "stream",
     "text": [
      "c:\\Users\\rosa-\\anaconda3\\envs\\xaifo\\lib\\site-packages\\deepsnap\\graph.py:2126: UserWarning: __floordiv__ is deprecated, and its behavior will change in a future version of pytorch. It currently rounds toward 0 (like the 'trunc' function NOT 'floor'). This results in incorrect rounding for negative values. To keep the current behavior, use torch.div(a, b, rounding_mode='trunc'), or for actual floor division, use torch.div(a, b, rounding_mode='floor').\n",
      "  row = perm // num_nodes\n"
     ]
    },
    {
     "name": "stdout",
     "output_type": "stream",
     "text": [
      "Epoch: 046, Train: 0.9526, Val: 0.9443, Test: 0.9466, Loss: 3.38104\n"
     ]
    },
    {
     "name": "stderr",
     "output_type": "stream",
     "text": [
      "c:\\Users\\rosa-\\anaconda3\\envs\\xaifo\\lib\\site-packages\\deepsnap\\graph.py:2126: UserWarning: __floordiv__ is deprecated, and its behavior will change in a future version of pytorch. It currently rounds toward 0 (like the 'trunc' function NOT 'floor'). This results in incorrect rounding for negative values. To keep the current behavior, use torch.div(a, b, rounding_mode='trunc'), or for actual floor division, use torch.div(a, b, rounding_mode='floor').\n",
      "  row = perm // num_nodes\n"
     ]
    },
    {
     "name": "stdout",
     "output_type": "stream",
     "text": [
      "Epoch: 047, Train: 0.9525, Val: 0.9441, Test: 0.9464, Loss: 3.35208\n"
     ]
    },
    {
     "name": "stderr",
     "output_type": "stream",
     "text": [
      "c:\\Users\\rosa-\\anaconda3\\envs\\xaifo\\lib\\site-packages\\deepsnap\\graph.py:2126: UserWarning: __floordiv__ is deprecated, and its behavior will change in a future version of pytorch. It currently rounds toward 0 (like the 'trunc' function NOT 'floor'). This results in incorrect rounding for negative values. To keep the current behavior, use torch.div(a, b, rounding_mode='trunc'), or for actual floor division, use torch.div(a, b, rounding_mode='floor').\n",
      "  row = perm // num_nodes\n"
     ]
    },
    {
     "name": "stdout",
     "output_type": "stream",
     "text": [
      "Epoch: 048, Train: 0.9519, Val: 0.9439, Test: 0.9460, Loss: 3.33925\n"
     ]
    },
    {
     "name": "stderr",
     "output_type": "stream",
     "text": [
      "c:\\Users\\rosa-\\anaconda3\\envs\\xaifo\\lib\\site-packages\\deepsnap\\graph.py:2126: UserWarning: __floordiv__ is deprecated, and its behavior will change in a future version of pytorch. It currently rounds toward 0 (like the 'trunc' function NOT 'floor'). This results in incorrect rounding for negative values. To keep the current behavior, use torch.div(a, b, rounding_mode='trunc'), or for actual floor division, use torch.div(a, b, rounding_mode='floor').\n",
      "  row = perm // num_nodes\n"
     ]
    },
    {
     "name": "stdout",
     "output_type": "stream",
     "text": [
      "Epoch: 049, Train: 0.9517, Val: 0.9434, Test: 0.9457, Loss: 3.30160\n"
     ]
    },
    {
     "name": "stderr",
     "output_type": "stream",
     "text": [
      "c:\\Users\\rosa-\\anaconda3\\envs\\xaifo\\lib\\site-packages\\deepsnap\\graph.py:2126: UserWarning: __floordiv__ is deprecated, and its behavior will change in a future version of pytorch. It currently rounds toward 0 (like the 'trunc' function NOT 'floor'). This results in incorrect rounding for negative values. To keep the current behavior, use torch.div(a, b, rounding_mode='trunc'), or for actual floor division, use torch.div(a, b, rounding_mode='floor').\n",
      "  row = perm // num_nodes\n"
     ]
    },
    {
     "name": "stdout",
     "output_type": "stream",
     "text": [
      "Epoch: 050, Train: 0.9511, Val: 0.9430, Test: 0.9449, Loss: 3.30002\n"
     ]
    },
    {
     "name": "stderr",
     "output_type": "stream",
     "text": [
      "c:\\Users\\rosa-\\anaconda3\\envs\\xaifo\\lib\\site-packages\\deepsnap\\graph.py:2126: UserWarning: __floordiv__ is deprecated, and its behavior will change in a future version of pytorch. It currently rounds toward 0 (like the 'trunc' function NOT 'floor'). This results in incorrect rounding for negative values. To keep the current behavior, use torch.div(a, b, rounding_mode='trunc'), or for actual floor division, use torch.div(a, b, rounding_mode='floor').\n",
      "  row = perm // num_nodes\n"
     ]
    },
    {
     "name": "stdout",
     "output_type": "stream",
     "text": [
      "Epoch: 051, Train: 0.9507, Val: 0.9425, Test: 0.9443, Loss: 3.27808\n"
     ]
    },
    {
     "name": "stderr",
     "output_type": "stream",
     "text": [
      "c:\\Users\\rosa-\\anaconda3\\envs\\xaifo\\lib\\site-packages\\deepsnap\\graph.py:2126: UserWarning: __floordiv__ is deprecated, and its behavior will change in a future version of pytorch. It currently rounds toward 0 (like the 'trunc' function NOT 'floor'). This results in incorrect rounding for negative values. To keep the current behavior, use torch.div(a, b, rounding_mode='trunc'), or for actual floor division, use torch.div(a, b, rounding_mode='floor').\n",
      "  row = perm // num_nodes\n"
     ]
    },
    {
     "name": "stdout",
     "output_type": "stream",
     "text": [
      "Epoch: 052, Train: 0.9496, Val: 0.9418, Test: 0.9434, Loss: 3.26156\n"
     ]
    },
    {
     "name": "stderr",
     "output_type": "stream",
     "text": [
      "c:\\Users\\rosa-\\anaconda3\\envs\\xaifo\\lib\\site-packages\\deepsnap\\graph.py:2126: UserWarning: __floordiv__ is deprecated, and its behavior will change in a future version of pytorch. It currently rounds toward 0 (like the 'trunc' function NOT 'floor'). This results in incorrect rounding for negative values. To keep the current behavior, use torch.div(a, b, rounding_mode='trunc'), or for actual floor division, use torch.div(a, b, rounding_mode='floor').\n",
      "  row = perm // num_nodes\n"
     ]
    },
    {
     "name": "stdout",
     "output_type": "stream",
     "text": [
      "Epoch: 053, Train: 0.9488, Val: 0.9411, Test: 0.9426, Loss: 3.24642\n"
     ]
    },
    {
     "name": "stderr",
     "output_type": "stream",
     "text": [
      "c:\\Users\\rosa-\\anaconda3\\envs\\xaifo\\lib\\site-packages\\deepsnap\\graph.py:2126: UserWarning: __floordiv__ is deprecated, and its behavior will change in a future version of pytorch. It currently rounds toward 0 (like the 'trunc' function NOT 'floor'). This results in incorrect rounding for negative values. To keep the current behavior, use torch.div(a, b, rounding_mode='trunc'), or for actual floor division, use torch.div(a, b, rounding_mode='floor').\n",
      "  row = perm // num_nodes\n"
     ]
    },
    {
     "name": "stdout",
     "output_type": "stream",
     "text": [
      "Epoch: 054, Train: 0.9481, Val: 0.9404, Test: 0.9418, Loss: 3.22320\n"
     ]
    },
    {
     "name": "stderr",
     "output_type": "stream",
     "text": [
      "c:\\Users\\rosa-\\anaconda3\\envs\\xaifo\\lib\\site-packages\\deepsnap\\graph.py:2126: UserWarning: __floordiv__ is deprecated, and its behavior will change in a future version of pytorch. It currently rounds toward 0 (like the 'trunc' function NOT 'floor'). This results in incorrect rounding for negative values. To keep the current behavior, use torch.div(a, b, rounding_mode='trunc'), or for actual floor division, use torch.div(a, b, rounding_mode='floor').\n",
      "  row = perm // num_nodes\n"
     ]
    },
    {
     "name": "stdout",
     "output_type": "stream",
     "text": [
      "Epoch: 055, Train: 0.9472, Val: 0.9397, Test: 0.9410, Loss: 3.21053\n"
     ]
    },
    {
     "name": "stderr",
     "output_type": "stream",
     "text": [
      "c:\\Users\\rosa-\\anaconda3\\envs\\xaifo\\lib\\site-packages\\deepsnap\\graph.py:2126: UserWarning: __floordiv__ is deprecated, and its behavior will change in a future version of pytorch. It currently rounds toward 0 (like the 'trunc' function NOT 'floor'). This results in incorrect rounding for negative values. To keep the current behavior, use torch.div(a, b, rounding_mode='trunc'), or for actual floor division, use torch.div(a, b, rounding_mode='floor').\n",
      "  row = perm // num_nodes\n"
     ]
    },
    {
     "name": "stdout",
     "output_type": "stream",
     "text": [
      "Epoch: 056, Train: 0.9464, Val: 0.9389, Test: 0.9400, Loss: 3.19764\n"
     ]
    },
    {
     "name": "stderr",
     "output_type": "stream",
     "text": [
      "c:\\Users\\rosa-\\anaconda3\\envs\\xaifo\\lib\\site-packages\\deepsnap\\graph.py:2126: UserWarning: __floordiv__ is deprecated, and its behavior will change in a future version of pytorch. It currently rounds toward 0 (like the 'trunc' function NOT 'floor'). This results in incorrect rounding for negative values. To keep the current behavior, use torch.div(a, b, rounding_mode='trunc'), or for actual floor division, use torch.div(a, b, rounding_mode='floor').\n",
      "  row = perm // num_nodes\n"
     ]
    },
    {
     "name": "stdout",
     "output_type": "stream",
     "text": [
      "Epoch: 057, Train: 0.9455, Val: 0.9381, Test: 0.9391, Loss: 3.17959\n"
     ]
    },
    {
     "name": "stderr",
     "output_type": "stream",
     "text": [
      "c:\\Users\\rosa-\\anaconda3\\envs\\xaifo\\lib\\site-packages\\deepsnap\\graph.py:2126: UserWarning: __floordiv__ is deprecated, and its behavior will change in a future version of pytorch. It currently rounds toward 0 (like the 'trunc' function NOT 'floor'). This results in incorrect rounding for negative values. To keep the current behavior, use torch.div(a, b, rounding_mode='trunc'), or for actual floor division, use torch.div(a, b, rounding_mode='floor').\n",
      "  row = perm // num_nodes\n"
     ]
    },
    {
     "name": "stdout",
     "output_type": "stream",
     "text": [
      "Epoch: 058, Train: 0.9447, Val: 0.9372, Test: 0.9381, Loss: 3.16675\n"
     ]
    },
    {
     "name": "stderr",
     "output_type": "stream",
     "text": [
      "c:\\Users\\rosa-\\anaconda3\\envs\\xaifo\\lib\\site-packages\\deepsnap\\graph.py:2126: UserWarning: __floordiv__ is deprecated, and its behavior will change in a future version of pytorch. It currently rounds toward 0 (like the 'trunc' function NOT 'floor'). This results in incorrect rounding for negative values. To keep the current behavior, use torch.div(a, b, rounding_mode='trunc'), or for actual floor division, use torch.div(a, b, rounding_mode='floor').\n",
      "  row = perm // num_nodes\n"
     ]
    },
    {
     "name": "stdout",
     "output_type": "stream",
     "text": [
      "Epoch: 059, Train: 0.9436, Val: 0.9363, Test: 0.9372, Loss: 3.14463\n"
     ]
    },
    {
     "name": "stderr",
     "output_type": "stream",
     "text": [
      "c:\\Users\\rosa-\\anaconda3\\envs\\xaifo\\lib\\site-packages\\deepsnap\\graph.py:2126: UserWarning: __floordiv__ is deprecated, and its behavior will change in a future version of pytorch. It currently rounds toward 0 (like the 'trunc' function NOT 'floor'). This results in incorrect rounding for negative values. To keep the current behavior, use torch.div(a, b, rounding_mode='trunc'), or for actual floor division, use torch.div(a, b, rounding_mode='floor').\n",
      "  row = perm // num_nodes\n"
     ]
    },
    {
     "name": "stdout",
     "output_type": "stream",
     "text": [
      "Epoch: 060, Train: 0.9426, Val: 0.9354, Test: 0.9362, Loss: 3.12763\n"
     ]
    },
    {
     "name": "stderr",
     "output_type": "stream",
     "text": [
      "c:\\Users\\rosa-\\anaconda3\\envs\\xaifo\\lib\\site-packages\\deepsnap\\graph.py:2126: UserWarning: __floordiv__ is deprecated, and its behavior will change in a future version of pytorch. It currently rounds toward 0 (like the 'trunc' function NOT 'floor'). This results in incorrect rounding for negative values. To keep the current behavior, use torch.div(a, b, rounding_mode='trunc'), or for actual floor division, use torch.div(a, b, rounding_mode='floor').\n",
      "  row = perm // num_nodes\n"
     ]
    },
    {
     "name": "stdout",
     "output_type": "stream",
     "text": [
      "Epoch: 061, Train: 0.9419, Val: 0.9346, Test: 0.9352, Loss: 3.12049\n"
     ]
    },
    {
     "name": "stderr",
     "output_type": "stream",
     "text": [
      "c:\\Users\\rosa-\\anaconda3\\envs\\xaifo\\lib\\site-packages\\deepsnap\\graph.py:2126: UserWarning: __floordiv__ is deprecated, and its behavior will change in a future version of pytorch. It currently rounds toward 0 (like the 'trunc' function NOT 'floor'). This results in incorrect rounding for negative values. To keep the current behavior, use torch.div(a, b, rounding_mode='trunc'), or for actual floor division, use torch.div(a, b, rounding_mode='floor').\n",
      "  row = perm // num_nodes\n"
     ]
    },
    {
     "name": "stdout",
     "output_type": "stream",
     "text": [
      "Epoch: 062, Train: 0.9405, Val: 0.9338, Test: 0.9343, Loss: 3.10974\n"
     ]
    },
    {
     "name": "stderr",
     "output_type": "stream",
     "text": [
      "c:\\Users\\rosa-\\anaconda3\\envs\\xaifo\\lib\\site-packages\\deepsnap\\graph.py:2126: UserWarning: __floordiv__ is deprecated, and its behavior will change in a future version of pytorch. It currently rounds toward 0 (like the 'trunc' function NOT 'floor'). This results in incorrect rounding for negative values. To keep the current behavior, use torch.div(a, b, rounding_mode='trunc'), or for actual floor division, use torch.div(a, b, rounding_mode='floor').\n",
      "  row = perm // num_nodes\n"
     ]
    },
    {
     "name": "stdout",
     "output_type": "stream",
     "text": [
      "Epoch: 063, Train: 0.9399, Val: 0.9331, Test: 0.9336, Loss: 3.08829\n"
     ]
    },
    {
     "name": "stderr",
     "output_type": "stream",
     "text": [
      "c:\\Users\\rosa-\\anaconda3\\envs\\xaifo\\lib\\site-packages\\deepsnap\\graph.py:2126: UserWarning: __floordiv__ is deprecated, and its behavior will change in a future version of pytorch. It currently rounds toward 0 (like the 'trunc' function NOT 'floor'). This results in incorrect rounding for negative values. To keep the current behavior, use torch.div(a, b, rounding_mode='trunc'), or for actual floor division, use torch.div(a, b, rounding_mode='floor').\n",
      "  row = perm // num_nodes\n"
     ]
    },
    {
     "name": "stdout",
     "output_type": "stream",
     "text": [
      "Epoch: 064, Train: 0.9392, Val: 0.9323, Test: 0.9328, Loss: 3.07201\n"
     ]
    },
    {
     "name": "stderr",
     "output_type": "stream",
     "text": [
      "c:\\Users\\rosa-\\anaconda3\\envs\\xaifo\\lib\\site-packages\\deepsnap\\graph.py:2126: UserWarning: __floordiv__ is deprecated, and its behavior will change in a future version of pytorch. It currently rounds toward 0 (like the 'trunc' function NOT 'floor'). This results in incorrect rounding for negative values. To keep the current behavior, use torch.div(a, b, rounding_mode='trunc'), or for actual floor division, use torch.div(a, b, rounding_mode='floor').\n",
      "  row = perm // num_nodes\n"
     ]
    },
    {
     "name": "stdout",
     "output_type": "stream",
     "text": [
      "Epoch: 065, Train: 0.9384, Val: 0.9317, Test: 0.9321, Loss: 3.06940\n"
     ]
    },
    {
     "name": "stderr",
     "output_type": "stream",
     "text": [
      "c:\\Users\\rosa-\\anaconda3\\envs\\xaifo\\lib\\site-packages\\deepsnap\\graph.py:2126: UserWarning: __floordiv__ is deprecated, and its behavior will change in a future version of pytorch. It currently rounds toward 0 (like the 'trunc' function NOT 'floor'). This results in incorrect rounding for negative values. To keep the current behavior, use torch.div(a, b, rounding_mode='trunc'), or for actual floor division, use torch.div(a, b, rounding_mode='floor').\n",
      "  row = perm // num_nodes\n"
     ]
    },
    {
     "name": "stdout",
     "output_type": "stream",
     "text": [
      "Epoch: 066, Train: 0.9380, Val: 0.9309, Test: 0.9316, Loss: 3.05806\n"
     ]
    },
    {
     "name": "stderr",
     "output_type": "stream",
     "text": [
      "c:\\Users\\rosa-\\anaconda3\\envs\\xaifo\\lib\\site-packages\\deepsnap\\graph.py:2126: UserWarning: __floordiv__ is deprecated, and its behavior will change in a future version of pytorch. It currently rounds toward 0 (like the 'trunc' function NOT 'floor'). This results in incorrect rounding for negative values. To keep the current behavior, use torch.div(a, b, rounding_mode='trunc'), or for actual floor division, use torch.div(a, b, rounding_mode='floor').\n",
      "  row = perm // num_nodes\n"
     ]
    },
    {
     "name": "stdout",
     "output_type": "stream",
     "text": [
      "Epoch: 067, Train: 0.9373, Val: 0.9304, Test: 0.9309, Loss: 3.04320\n"
     ]
    },
    {
     "name": "stderr",
     "output_type": "stream",
     "text": [
      "c:\\Users\\rosa-\\anaconda3\\envs\\xaifo\\lib\\site-packages\\deepsnap\\graph.py:2126: UserWarning: __floordiv__ is deprecated, and its behavior will change in a future version of pytorch. It currently rounds toward 0 (like the 'trunc' function NOT 'floor'). This results in incorrect rounding for negative values. To keep the current behavior, use torch.div(a, b, rounding_mode='trunc'), or for actual floor division, use torch.div(a, b, rounding_mode='floor').\n",
      "  row = perm // num_nodes\n"
     ]
    },
    {
     "name": "stdout",
     "output_type": "stream",
     "text": [
      "Epoch: 068, Train: 0.9364, Val: 0.9299, Test: 0.9303, Loss: 3.02658\n"
     ]
    },
    {
     "name": "stderr",
     "output_type": "stream",
     "text": [
      "c:\\Users\\rosa-\\anaconda3\\envs\\xaifo\\lib\\site-packages\\deepsnap\\graph.py:2126: UserWarning: __floordiv__ is deprecated, and its behavior will change in a future version of pytorch. It currently rounds toward 0 (like the 'trunc' function NOT 'floor'). This results in incorrect rounding for negative values. To keep the current behavior, use torch.div(a, b, rounding_mode='trunc'), or for actual floor division, use torch.div(a, b, rounding_mode='floor').\n",
      "  row = perm // num_nodes\n"
     ]
    },
    {
     "name": "stdout",
     "output_type": "stream",
     "text": [
      "Epoch: 069, Train: 0.9362, Val: 0.9294, Test: 0.9297, Loss: 3.00681\n"
     ]
    },
    {
     "name": "stderr",
     "output_type": "stream",
     "text": [
      "c:\\Users\\rosa-\\anaconda3\\envs\\xaifo\\lib\\site-packages\\deepsnap\\graph.py:2126: UserWarning: __floordiv__ is deprecated, and its behavior will change in a future version of pytorch. It currently rounds toward 0 (like the 'trunc' function NOT 'floor'). This results in incorrect rounding for negative values. To keep the current behavior, use torch.div(a, b, rounding_mode='trunc'), or for actual floor division, use torch.div(a, b, rounding_mode='floor').\n",
      "  row = perm // num_nodes\n"
     ]
    },
    {
     "name": "stdout",
     "output_type": "stream",
     "text": [
      "Epoch: 070, Train: 0.9358, Val: 0.9288, Test: 0.9293, Loss: 2.98137\n"
     ]
    },
    {
     "name": "stderr",
     "output_type": "stream",
     "text": [
      "c:\\Users\\rosa-\\anaconda3\\envs\\xaifo\\lib\\site-packages\\deepsnap\\graph.py:2126: UserWarning: __floordiv__ is deprecated, and its behavior will change in a future version of pytorch. It currently rounds toward 0 (like the 'trunc' function NOT 'floor'). This results in incorrect rounding for negative values. To keep the current behavior, use torch.div(a, b, rounding_mode='trunc'), or for actual floor division, use torch.div(a, b, rounding_mode='floor').\n",
      "  row = perm // num_nodes\n"
     ]
    },
    {
     "name": "stdout",
     "output_type": "stream",
     "text": [
      "Epoch: 071, Train: 0.9354, Val: 0.9284, Test: 0.9290, Loss: 2.97608\n"
     ]
    },
    {
     "name": "stderr",
     "output_type": "stream",
     "text": [
      "c:\\Users\\rosa-\\anaconda3\\envs\\xaifo\\lib\\site-packages\\deepsnap\\graph.py:2126: UserWarning: __floordiv__ is deprecated, and its behavior will change in a future version of pytorch. It currently rounds toward 0 (like the 'trunc' function NOT 'floor'). This results in incorrect rounding for negative values. To keep the current behavior, use torch.div(a, b, rounding_mode='trunc'), or for actual floor division, use torch.div(a, b, rounding_mode='floor').\n",
      "  row = perm // num_nodes\n"
     ]
    },
    {
     "name": "stdout",
     "output_type": "stream",
     "text": [
      "Epoch: 072, Train: 0.9350, Val: 0.9281, Test: 0.9286, Loss: 2.96207\n"
     ]
    },
    {
     "name": "stderr",
     "output_type": "stream",
     "text": [
      "c:\\Users\\rosa-\\anaconda3\\envs\\xaifo\\lib\\site-packages\\deepsnap\\graph.py:2126: UserWarning: __floordiv__ is deprecated, and its behavior will change in a future version of pytorch. It currently rounds toward 0 (like the 'trunc' function NOT 'floor'). This results in incorrect rounding for negative values. To keep the current behavior, use torch.div(a, b, rounding_mode='trunc'), or for actual floor division, use torch.div(a, b, rounding_mode='floor').\n",
      "  row = perm // num_nodes\n"
     ]
    },
    {
     "name": "stdout",
     "output_type": "stream",
     "text": [
      "Epoch: 073, Train: 0.9346, Val: 0.9278, Test: 0.9282, Loss: 2.95915\n"
     ]
    },
    {
     "name": "stderr",
     "output_type": "stream",
     "text": [
      "c:\\Users\\rosa-\\anaconda3\\envs\\xaifo\\lib\\site-packages\\deepsnap\\graph.py:2126: UserWarning: __floordiv__ is deprecated, and its behavior will change in a future version of pytorch. It currently rounds toward 0 (like the 'trunc' function NOT 'floor'). This results in incorrect rounding for negative values. To keep the current behavior, use torch.div(a, b, rounding_mode='trunc'), or for actual floor division, use torch.div(a, b, rounding_mode='floor').\n",
      "  row = perm // num_nodes\n"
     ]
    },
    {
     "name": "stdout",
     "output_type": "stream",
     "text": [
      "Epoch: 074, Train: 0.9343, Val: 0.9275, Test: 0.9280, Loss: 2.96008\n"
     ]
    },
    {
     "name": "stderr",
     "output_type": "stream",
     "text": [
      "c:\\Users\\rosa-\\anaconda3\\envs\\xaifo\\lib\\site-packages\\deepsnap\\graph.py:2126: UserWarning: __floordiv__ is deprecated, and its behavior will change in a future version of pytorch. It currently rounds toward 0 (like the 'trunc' function NOT 'floor'). This results in incorrect rounding for negative values. To keep the current behavior, use torch.div(a, b, rounding_mode='trunc'), or for actual floor division, use torch.div(a, b, rounding_mode='floor').\n",
      "  row = perm // num_nodes\n"
     ]
    },
    {
     "name": "stdout",
     "output_type": "stream",
     "text": [
      "Epoch: 075, Train: 0.9341, Val: 0.9272, Test: 0.9277, Loss: 2.92887\n"
     ]
    },
    {
     "name": "stderr",
     "output_type": "stream",
     "text": [
      "c:\\Users\\rosa-\\anaconda3\\envs\\xaifo\\lib\\site-packages\\deepsnap\\graph.py:2126: UserWarning: __floordiv__ is deprecated, and its behavior will change in a future version of pytorch. It currently rounds toward 0 (like the 'trunc' function NOT 'floor'). This results in incorrect rounding for negative values. To keep the current behavior, use torch.div(a, b, rounding_mode='trunc'), or for actual floor division, use torch.div(a, b, rounding_mode='floor').\n",
      "  row = perm // num_nodes\n"
     ]
    },
    {
     "name": "stdout",
     "output_type": "stream",
     "text": [
      "Epoch: 076, Train: 0.9333, Val: 0.9269, Test: 0.9275, Loss: 2.91403\n"
     ]
    },
    {
     "name": "stderr",
     "output_type": "stream",
     "text": [
      "c:\\Users\\rosa-\\anaconda3\\envs\\xaifo\\lib\\site-packages\\deepsnap\\graph.py:2126: UserWarning: __floordiv__ is deprecated, and its behavior will change in a future version of pytorch. It currently rounds toward 0 (like the 'trunc' function NOT 'floor'). This results in incorrect rounding for negative values. To keep the current behavior, use torch.div(a, b, rounding_mode='trunc'), or for actual floor division, use torch.div(a, b, rounding_mode='floor').\n",
      "  row = perm // num_nodes\n"
     ]
    },
    {
     "name": "stdout",
     "output_type": "stream",
     "text": [
      "Epoch: 077, Train: 0.9335, Val: 0.9268, Test: 0.9273, Loss: 2.91149\n"
     ]
    },
    {
     "name": "stderr",
     "output_type": "stream",
     "text": [
      "c:\\Users\\rosa-\\anaconda3\\envs\\xaifo\\lib\\site-packages\\deepsnap\\graph.py:2126: UserWarning: __floordiv__ is deprecated, and its behavior will change in a future version of pytorch. It currently rounds toward 0 (like the 'trunc' function NOT 'floor'). This results in incorrect rounding for negative values. To keep the current behavior, use torch.div(a, b, rounding_mode='trunc'), or for actual floor division, use torch.div(a, b, rounding_mode='floor').\n",
      "  row = perm // num_nodes\n"
     ]
    },
    {
     "name": "stdout",
     "output_type": "stream",
     "text": [
      "Epoch: 078, Train: 0.9333, Val: 0.9266, Test: 0.9271, Loss: 2.89244\n"
     ]
    },
    {
     "name": "stderr",
     "output_type": "stream",
     "text": [
      "c:\\Users\\rosa-\\anaconda3\\envs\\xaifo\\lib\\site-packages\\deepsnap\\graph.py:2126: UserWarning: __floordiv__ is deprecated, and its behavior will change in a future version of pytorch. It currently rounds toward 0 (like the 'trunc' function NOT 'floor'). This results in incorrect rounding for negative values. To keep the current behavior, use torch.div(a, b, rounding_mode='trunc'), or for actual floor division, use torch.div(a, b, rounding_mode='floor').\n",
      "  row = perm // num_nodes\n"
     ]
    },
    {
     "name": "stdout",
     "output_type": "stream",
     "text": [
      "Epoch: 079, Train: 0.9331, Val: 0.9265, Test: 0.9270, Loss: 2.87639\n"
     ]
    },
    {
     "name": "stderr",
     "output_type": "stream",
     "text": [
      "c:\\Users\\rosa-\\anaconda3\\envs\\xaifo\\lib\\site-packages\\deepsnap\\graph.py:2126: UserWarning: __floordiv__ is deprecated, and its behavior will change in a future version of pytorch. It currently rounds toward 0 (like the 'trunc' function NOT 'floor'). This results in incorrect rounding for negative values. To keep the current behavior, use torch.div(a, b, rounding_mode='trunc'), or for actual floor division, use torch.div(a, b, rounding_mode='floor').\n",
      "  row = perm // num_nodes\n"
     ]
    },
    {
     "name": "stdout",
     "output_type": "stream",
     "text": [
      "Epoch: 080, Train: 0.9326, Val: 0.9265, Test: 0.9269, Loss: 2.87489\n"
     ]
    },
    {
     "name": "stderr",
     "output_type": "stream",
     "text": [
      "c:\\Users\\rosa-\\anaconda3\\envs\\xaifo\\lib\\site-packages\\deepsnap\\graph.py:2126: UserWarning: __floordiv__ is deprecated, and its behavior will change in a future version of pytorch. It currently rounds toward 0 (like the 'trunc' function NOT 'floor'). This results in incorrect rounding for negative values. To keep the current behavior, use torch.div(a, b, rounding_mode='trunc'), or for actual floor division, use torch.div(a, b, rounding_mode='floor').\n",
      "  row = perm // num_nodes\n"
     ]
    },
    {
     "name": "stdout",
     "output_type": "stream",
     "text": [
      "Epoch: 081, Train: 0.9332, Val: 0.9264, Test: 0.9270, Loss: 2.84808\n"
     ]
    },
    {
     "name": "stderr",
     "output_type": "stream",
     "text": [
      "c:\\Users\\rosa-\\anaconda3\\envs\\xaifo\\lib\\site-packages\\deepsnap\\graph.py:2126: UserWarning: __floordiv__ is deprecated, and its behavior will change in a future version of pytorch. It currently rounds toward 0 (like the 'trunc' function NOT 'floor'). This results in incorrect rounding for negative values. To keep the current behavior, use torch.div(a, b, rounding_mode='trunc'), or for actual floor division, use torch.div(a, b, rounding_mode='floor').\n",
      "  row = perm // num_nodes\n"
     ]
    },
    {
     "name": "stdout",
     "output_type": "stream",
     "text": [
      "Epoch: 082, Train: 0.9322, Val: 0.9263, Test: 0.9271, Loss: 2.83464\n"
     ]
    },
    {
     "name": "stderr",
     "output_type": "stream",
     "text": [
      "c:\\Users\\rosa-\\anaconda3\\envs\\xaifo\\lib\\site-packages\\deepsnap\\graph.py:2126: UserWarning: __floordiv__ is deprecated, and its behavior will change in a future version of pytorch. It currently rounds toward 0 (like the 'trunc' function NOT 'floor'). This results in incorrect rounding for negative values. To keep the current behavior, use torch.div(a, b, rounding_mode='trunc'), or for actual floor division, use torch.div(a, b, rounding_mode='floor').\n",
      "  row = perm // num_nodes\n"
     ]
    },
    {
     "name": "stdout",
     "output_type": "stream",
     "text": [
      "Epoch: 083, Train: 0.9330, Val: 0.9263, Test: 0.9270, Loss: 2.82156\n"
     ]
    },
    {
     "name": "stderr",
     "output_type": "stream",
     "text": [
      "c:\\Users\\rosa-\\anaconda3\\envs\\xaifo\\lib\\site-packages\\deepsnap\\graph.py:2126: UserWarning: __floordiv__ is deprecated, and its behavior will change in a future version of pytorch. It currently rounds toward 0 (like the 'trunc' function NOT 'floor'). This results in incorrect rounding for negative values. To keep the current behavior, use torch.div(a, b, rounding_mode='trunc'), or for actual floor division, use torch.div(a, b, rounding_mode='floor').\n",
      "  row = perm // num_nodes\n"
     ]
    },
    {
     "name": "stdout",
     "output_type": "stream",
     "text": [
      "Epoch: 084, Train: 0.9330, Val: 0.9263, Test: 0.9271, Loss: 2.82573\n"
     ]
    },
    {
     "name": "stderr",
     "output_type": "stream",
     "text": [
      "c:\\Users\\rosa-\\anaconda3\\envs\\xaifo\\lib\\site-packages\\deepsnap\\graph.py:2126: UserWarning: __floordiv__ is deprecated, and its behavior will change in a future version of pytorch. It currently rounds toward 0 (like the 'trunc' function NOT 'floor'). This results in incorrect rounding for negative values. To keep the current behavior, use torch.div(a, b, rounding_mode='trunc'), or for actual floor division, use torch.div(a, b, rounding_mode='floor').\n",
      "  row = perm // num_nodes\n"
     ]
    },
    {
     "name": "stdout",
     "output_type": "stream",
     "text": [
      "Epoch: 085, Train: 0.9330, Val: 0.9264, Test: 0.9271, Loss: 2.79871\n"
     ]
    },
    {
     "name": "stderr",
     "output_type": "stream",
     "text": [
      "c:\\Users\\rosa-\\anaconda3\\envs\\xaifo\\lib\\site-packages\\deepsnap\\graph.py:2126: UserWarning: __floordiv__ is deprecated, and its behavior will change in a future version of pytorch. It currently rounds toward 0 (like the 'trunc' function NOT 'floor'). This results in incorrect rounding for negative values. To keep the current behavior, use torch.div(a, b, rounding_mode='trunc'), or for actual floor division, use torch.div(a, b, rounding_mode='floor').\n",
      "  row = perm // num_nodes\n"
     ]
    },
    {
     "name": "stdout",
     "output_type": "stream",
     "text": [
      "Epoch: 086, Train: 0.9328, Val: 0.9264, Test: 0.9271, Loss: 2.77646\n"
     ]
    },
    {
     "name": "stderr",
     "output_type": "stream",
     "text": [
      "c:\\Users\\rosa-\\anaconda3\\envs\\xaifo\\lib\\site-packages\\deepsnap\\graph.py:2126: UserWarning: __floordiv__ is deprecated, and its behavior will change in a future version of pytorch. It currently rounds toward 0 (like the 'trunc' function NOT 'floor'). This results in incorrect rounding for negative values. To keep the current behavior, use torch.div(a, b, rounding_mode='trunc'), or for actual floor division, use torch.div(a, b, rounding_mode='floor').\n",
      "  row = perm // num_nodes\n"
     ]
    },
    {
     "name": "stdout",
     "output_type": "stream",
     "text": [
      "Epoch: 087, Train: 0.9330, Val: 0.9265, Test: 0.9272, Loss: 2.77701\n"
     ]
    },
    {
     "name": "stderr",
     "output_type": "stream",
     "text": [
      "c:\\Users\\rosa-\\anaconda3\\envs\\xaifo\\lib\\site-packages\\deepsnap\\graph.py:2126: UserWarning: __floordiv__ is deprecated, and its behavior will change in a future version of pytorch. It currently rounds toward 0 (like the 'trunc' function NOT 'floor'). This results in incorrect rounding for negative values. To keep the current behavior, use torch.div(a, b, rounding_mode='trunc'), or for actual floor division, use torch.div(a, b, rounding_mode='floor').\n",
      "  row = perm // num_nodes\n"
     ]
    },
    {
     "name": "stdout",
     "output_type": "stream",
     "text": [
      "Epoch: 088, Train: 0.9333, Val: 0.9265, Test: 0.9272, Loss: 2.77575\n"
     ]
    },
    {
     "name": "stderr",
     "output_type": "stream",
     "text": [
      "c:\\Users\\rosa-\\anaconda3\\envs\\xaifo\\lib\\site-packages\\deepsnap\\graph.py:2126: UserWarning: __floordiv__ is deprecated, and its behavior will change in a future version of pytorch. It currently rounds toward 0 (like the 'trunc' function NOT 'floor'). This results in incorrect rounding for negative values. To keep the current behavior, use torch.div(a, b, rounding_mode='trunc'), or for actual floor division, use torch.div(a, b, rounding_mode='floor').\n",
      "  row = perm // num_nodes\n"
     ]
    },
    {
     "name": "stdout",
     "output_type": "stream",
     "text": [
      "Epoch: 089, Train: 0.9333, Val: 0.9266, Test: 0.9273, Loss: 2.75272\n"
     ]
    },
    {
     "name": "stderr",
     "output_type": "stream",
     "text": [
      "c:\\Users\\rosa-\\anaconda3\\envs\\xaifo\\lib\\site-packages\\deepsnap\\graph.py:2126: UserWarning: __floordiv__ is deprecated, and its behavior will change in a future version of pytorch. It currently rounds toward 0 (like the 'trunc' function NOT 'floor'). This results in incorrect rounding for negative values. To keep the current behavior, use torch.div(a, b, rounding_mode='trunc'), or for actual floor division, use torch.div(a, b, rounding_mode='floor').\n",
      "  row = perm // num_nodes\n"
     ]
    },
    {
     "name": "stdout",
     "output_type": "stream",
     "text": [
      "Epoch: 090, Train: 0.9331, Val: 0.9267, Test: 0.9274, Loss: 2.75324\n"
     ]
    },
    {
     "name": "stderr",
     "output_type": "stream",
     "text": [
      "c:\\Users\\rosa-\\anaconda3\\envs\\xaifo\\lib\\site-packages\\deepsnap\\graph.py:2126: UserWarning: __floordiv__ is deprecated, and its behavior will change in a future version of pytorch. It currently rounds toward 0 (like the 'trunc' function NOT 'floor'). This results in incorrect rounding for negative values. To keep the current behavior, use torch.div(a, b, rounding_mode='trunc'), or for actual floor division, use torch.div(a, b, rounding_mode='floor').\n",
      "  row = perm // num_nodes\n"
     ]
    },
    {
     "name": "stdout",
     "output_type": "stream",
     "text": [
      "Epoch: 091, Train: 0.9335, Val: 0.9267, Test: 0.9275, Loss: 2.75103\n"
     ]
    },
    {
     "name": "stderr",
     "output_type": "stream",
     "text": [
      "c:\\Users\\rosa-\\anaconda3\\envs\\xaifo\\lib\\site-packages\\deepsnap\\graph.py:2126: UserWarning: __floordiv__ is deprecated, and its behavior will change in a future version of pytorch. It currently rounds toward 0 (like the 'trunc' function NOT 'floor'). This results in incorrect rounding for negative values. To keep the current behavior, use torch.div(a, b, rounding_mode='trunc'), or for actual floor division, use torch.div(a, b, rounding_mode='floor').\n",
      "  row = perm // num_nodes\n"
     ]
    },
    {
     "name": "stdout",
     "output_type": "stream",
     "text": [
      "Epoch: 092, Train: 0.9336, Val: 0.9269, Test: 0.9276, Loss: 2.72611\n"
     ]
    },
    {
     "name": "stderr",
     "output_type": "stream",
     "text": [
      "c:\\Users\\rosa-\\anaconda3\\envs\\xaifo\\lib\\site-packages\\deepsnap\\graph.py:2126: UserWarning: __floordiv__ is deprecated, and its behavior will change in a future version of pytorch. It currently rounds toward 0 (like the 'trunc' function NOT 'floor'). This results in incorrect rounding for negative values. To keep the current behavior, use torch.div(a, b, rounding_mode='trunc'), or for actual floor division, use torch.div(a, b, rounding_mode='floor').\n",
      "  row = perm // num_nodes\n"
     ]
    },
    {
     "name": "stdout",
     "output_type": "stream",
     "text": [
      "Epoch: 093, Train: 0.9335, Val: 0.9270, Test: 0.9276, Loss: 2.72030\n"
     ]
    },
    {
     "name": "stderr",
     "output_type": "stream",
     "text": [
      "c:\\Users\\rosa-\\anaconda3\\envs\\xaifo\\lib\\site-packages\\deepsnap\\graph.py:2126: UserWarning: __floordiv__ is deprecated, and its behavior will change in a future version of pytorch. It currently rounds toward 0 (like the 'trunc' function NOT 'floor'). This results in incorrect rounding for negative values. To keep the current behavior, use torch.div(a, b, rounding_mode='trunc'), or for actual floor division, use torch.div(a, b, rounding_mode='floor').\n",
      "  row = perm // num_nodes\n"
     ]
    },
    {
     "name": "stdout",
     "output_type": "stream",
     "text": [
      "Epoch: 094, Train: 0.9338, Val: 0.9272, Test: 0.9277, Loss: 2.71922\n"
     ]
    },
    {
     "name": "stderr",
     "output_type": "stream",
     "text": [
      "c:\\Users\\rosa-\\anaconda3\\envs\\xaifo\\lib\\site-packages\\deepsnap\\graph.py:2126: UserWarning: __floordiv__ is deprecated, and its behavior will change in a future version of pytorch. It currently rounds toward 0 (like the 'trunc' function NOT 'floor'). This results in incorrect rounding for negative values. To keep the current behavior, use torch.div(a, b, rounding_mode='trunc'), or for actual floor division, use torch.div(a, b, rounding_mode='floor').\n",
      "  row = perm // num_nodes\n"
     ]
    },
    {
     "name": "stdout",
     "output_type": "stream",
     "text": [
      "Epoch: 095, Train: 0.9337, Val: 0.9273, Test: 0.9278, Loss: 2.69677\n"
     ]
    },
    {
     "name": "stderr",
     "output_type": "stream",
     "text": [
      "c:\\Users\\rosa-\\anaconda3\\envs\\xaifo\\lib\\site-packages\\deepsnap\\graph.py:2126: UserWarning: __floordiv__ is deprecated, and its behavior will change in a future version of pytorch. It currently rounds toward 0 (like the 'trunc' function NOT 'floor'). This results in incorrect rounding for negative values. To keep the current behavior, use torch.div(a, b, rounding_mode='trunc'), or for actual floor division, use torch.div(a, b, rounding_mode='floor').\n",
      "  row = perm // num_nodes\n"
     ]
    },
    {
     "name": "stdout",
     "output_type": "stream",
     "text": [
      "Epoch: 096, Train: 0.9344, Val: 0.9274, Test: 0.9279, Loss: 2.70014\n"
     ]
    },
    {
     "name": "stderr",
     "output_type": "stream",
     "text": [
      "c:\\Users\\rosa-\\anaconda3\\envs\\xaifo\\lib\\site-packages\\deepsnap\\graph.py:2126: UserWarning: __floordiv__ is deprecated, and its behavior will change in a future version of pytorch. It currently rounds toward 0 (like the 'trunc' function NOT 'floor'). This results in incorrect rounding for negative values. To keep the current behavior, use torch.div(a, b, rounding_mode='trunc'), or for actual floor division, use torch.div(a, b, rounding_mode='floor').\n",
      "  row = perm // num_nodes\n"
     ]
    },
    {
     "name": "stdout",
     "output_type": "stream",
     "text": [
      "Epoch: 097, Train: 0.9345, Val: 0.9275, Test: 0.9281, Loss: 2.68210\n"
     ]
    },
    {
     "name": "stderr",
     "output_type": "stream",
     "text": [
      "c:\\Users\\rosa-\\anaconda3\\envs\\xaifo\\lib\\site-packages\\deepsnap\\graph.py:2126: UserWarning: __floordiv__ is deprecated, and its behavior will change in a future version of pytorch. It currently rounds toward 0 (like the 'trunc' function NOT 'floor'). This results in incorrect rounding for negative values. To keep the current behavior, use torch.div(a, b, rounding_mode='trunc'), or for actual floor division, use torch.div(a, b, rounding_mode='floor').\n",
      "  row = perm // num_nodes\n"
     ]
    },
    {
     "name": "stdout",
     "output_type": "stream",
     "text": [
      "Epoch: 098, Train: 0.9345, Val: 0.9277, Test: 0.9281, Loss: 2.67097\n"
     ]
    },
    {
     "name": "stderr",
     "output_type": "stream",
     "text": [
      "c:\\Users\\rosa-\\anaconda3\\envs\\xaifo\\lib\\site-packages\\deepsnap\\graph.py:2126: UserWarning: __floordiv__ is deprecated, and its behavior will change in a future version of pytorch. It currently rounds toward 0 (like the 'trunc' function NOT 'floor'). This results in incorrect rounding for negative values. To keep the current behavior, use torch.div(a, b, rounding_mode='trunc'), or for actual floor division, use torch.div(a, b, rounding_mode='floor').\n",
      "  row = perm // num_nodes\n"
     ]
    },
    {
     "name": "stdout",
     "output_type": "stream",
     "text": [
      "Epoch: 099, Train: 0.9349, Val: 0.9278, Test: 0.9282, Loss: 2.64629\n"
     ]
    },
    {
     "name": "stderr",
     "output_type": "stream",
     "text": [
      "c:\\Users\\rosa-\\anaconda3\\envs\\xaifo\\lib\\site-packages\\deepsnap\\graph.py:2126: UserWarning: __floordiv__ is deprecated, and its behavior will change in a future version of pytorch. It currently rounds toward 0 (like the 'trunc' function NOT 'floor'). This results in incorrect rounding for negative values. To keep the current behavior, use torch.div(a, b, rounding_mode='trunc'), or for actual floor division, use torch.div(a, b, rounding_mode='floor').\n",
      "  row = perm // num_nodes\n"
     ]
    },
    {
     "name": "stdout",
     "output_type": "stream",
     "text": [
      "Epoch: 100, Train: 0.9350, Val: 0.9280, Test: 0.9284, Loss: 2.63933\n"
     ]
    },
    {
     "name": "stderr",
     "output_type": "stream",
     "text": [
      "c:\\Users\\rosa-\\anaconda3\\envs\\xaifo\\lib\\site-packages\\deepsnap\\graph.py:2126: UserWarning: __floordiv__ is deprecated, and its behavior will change in a future version of pytorch. It currently rounds toward 0 (like the 'trunc' function NOT 'floor'). This results in incorrect rounding for negative values. To keep the current behavior, use torch.div(a, b, rounding_mode='trunc'), or for actual floor division, use torch.div(a, b, rounding_mode='floor').\n",
      "  row = perm // num_nodes\n"
     ]
    },
    {
     "name": "stdout",
     "output_type": "stream",
     "text": [
      "Epoch: 101, Train: 0.9345, Val: 0.9281, Test: 0.9285, Loss: 2.64675\n"
     ]
    },
    {
     "name": "stderr",
     "output_type": "stream",
     "text": [
      "c:\\Users\\rosa-\\anaconda3\\envs\\xaifo\\lib\\site-packages\\deepsnap\\graph.py:2126: UserWarning: __floordiv__ is deprecated, and its behavior will change in a future version of pytorch. It currently rounds toward 0 (like the 'trunc' function NOT 'floor'). This results in incorrect rounding for negative values. To keep the current behavior, use torch.div(a, b, rounding_mode='trunc'), or for actual floor division, use torch.div(a, b, rounding_mode='floor').\n",
      "  row = perm // num_nodes\n"
     ]
    },
    {
     "name": "stdout",
     "output_type": "stream",
     "text": [
      "Epoch: 102, Train: 0.9350, Val: 0.9282, Test: 0.9287, Loss: 2.63504\n"
     ]
    },
    {
     "name": "stderr",
     "output_type": "stream",
     "text": [
      "c:\\Users\\rosa-\\anaconda3\\envs\\xaifo\\lib\\site-packages\\deepsnap\\graph.py:2126: UserWarning: __floordiv__ is deprecated, and its behavior will change in a future version of pytorch. It currently rounds toward 0 (like the 'trunc' function NOT 'floor'). This results in incorrect rounding for negative values. To keep the current behavior, use torch.div(a, b, rounding_mode='trunc'), or for actual floor division, use torch.div(a, b, rounding_mode='floor').\n",
      "  row = perm // num_nodes\n"
     ]
    },
    {
     "name": "stdout",
     "output_type": "stream",
     "text": [
      "Epoch: 103, Train: 0.9358, Val: 0.9284, Test: 0.9289, Loss: 2.63172\n"
     ]
    },
    {
     "name": "stderr",
     "output_type": "stream",
     "text": [
      "c:\\Users\\rosa-\\anaconda3\\envs\\xaifo\\lib\\site-packages\\deepsnap\\graph.py:2126: UserWarning: __floordiv__ is deprecated, and its behavior will change in a future version of pytorch. It currently rounds toward 0 (like the 'trunc' function NOT 'floor'). This results in incorrect rounding for negative values. To keep the current behavior, use torch.div(a, b, rounding_mode='trunc'), or for actual floor division, use torch.div(a, b, rounding_mode='floor').\n",
      "  row = perm // num_nodes\n"
     ]
    },
    {
     "name": "stdout",
     "output_type": "stream",
     "text": [
      "Epoch: 104, Train: 0.9353, Val: 0.9286, Test: 0.9291, Loss: 2.62404\n"
     ]
    },
    {
     "name": "stderr",
     "output_type": "stream",
     "text": [
      "c:\\Users\\rosa-\\anaconda3\\envs\\xaifo\\lib\\site-packages\\deepsnap\\graph.py:2126: UserWarning: __floordiv__ is deprecated, and its behavior will change in a future version of pytorch. It currently rounds toward 0 (like the 'trunc' function NOT 'floor'). This results in incorrect rounding for negative values. To keep the current behavior, use torch.div(a, b, rounding_mode='trunc'), or for actual floor division, use torch.div(a, b, rounding_mode='floor').\n",
      "  row = perm // num_nodes\n"
     ]
    },
    {
     "name": "stdout",
     "output_type": "stream",
     "text": [
      "Epoch: 105, Train: 0.9349, Val: 0.9288, Test: 0.9292, Loss: 2.60046\n"
     ]
    },
    {
     "name": "stderr",
     "output_type": "stream",
     "text": [
      "c:\\Users\\rosa-\\anaconda3\\envs\\xaifo\\lib\\site-packages\\deepsnap\\graph.py:2126: UserWarning: __floordiv__ is deprecated, and its behavior will change in a future version of pytorch. It currently rounds toward 0 (like the 'trunc' function NOT 'floor'). This results in incorrect rounding for negative values. To keep the current behavior, use torch.div(a, b, rounding_mode='trunc'), or for actual floor division, use torch.div(a, b, rounding_mode='floor').\n",
      "  row = perm // num_nodes\n"
     ]
    },
    {
     "name": "stdout",
     "output_type": "stream",
     "text": [
      "Epoch: 106, Train: 0.9352, Val: 0.9288, Test: 0.9295, Loss: 2.60085\n"
     ]
    },
    {
     "name": "stderr",
     "output_type": "stream",
     "text": [
      "c:\\Users\\rosa-\\anaconda3\\envs\\xaifo\\lib\\site-packages\\deepsnap\\graph.py:2126: UserWarning: __floordiv__ is deprecated, and its behavior will change in a future version of pytorch. It currently rounds toward 0 (like the 'trunc' function NOT 'floor'). This results in incorrect rounding for negative values. To keep the current behavior, use torch.div(a, b, rounding_mode='trunc'), or for actual floor division, use torch.div(a, b, rounding_mode='floor').\n",
      "  row = perm // num_nodes\n"
     ]
    },
    {
     "name": "stdout",
     "output_type": "stream",
     "text": [
      "Epoch: 107, Train: 0.9364, Val: 0.9290, Test: 0.9297, Loss: 2.58111\n"
     ]
    },
    {
     "name": "stderr",
     "output_type": "stream",
     "text": [
      "c:\\Users\\rosa-\\anaconda3\\envs\\xaifo\\lib\\site-packages\\deepsnap\\graph.py:2126: UserWarning: __floordiv__ is deprecated, and its behavior will change in a future version of pytorch. It currently rounds toward 0 (like the 'trunc' function NOT 'floor'). This results in incorrect rounding for negative values. To keep the current behavior, use torch.div(a, b, rounding_mode='trunc'), or for actual floor division, use torch.div(a, b, rounding_mode='floor').\n",
      "  row = perm // num_nodes\n"
     ]
    },
    {
     "name": "stdout",
     "output_type": "stream",
     "text": [
      "Epoch: 108, Train: 0.9359, Val: 0.9292, Test: 0.9299, Loss: 2.56460\n"
     ]
    },
    {
     "name": "stderr",
     "output_type": "stream",
     "text": [
      "c:\\Users\\rosa-\\anaconda3\\envs\\xaifo\\lib\\site-packages\\deepsnap\\graph.py:2126: UserWarning: __floordiv__ is deprecated, and its behavior will change in a future version of pytorch. It currently rounds toward 0 (like the 'trunc' function NOT 'floor'). This results in incorrect rounding for negative values. To keep the current behavior, use torch.div(a, b, rounding_mode='trunc'), or for actual floor division, use torch.div(a, b, rounding_mode='floor').\n",
      "  row = perm // num_nodes\n"
     ]
    },
    {
     "name": "stdout",
     "output_type": "stream",
     "text": [
      "Epoch: 109, Train: 0.9358, Val: 0.9293, Test: 0.9302, Loss: 2.56165\n"
     ]
    },
    {
     "name": "stderr",
     "output_type": "stream",
     "text": [
      "c:\\Users\\rosa-\\anaconda3\\envs\\xaifo\\lib\\site-packages\\deepsnap\\graph.py:2126: UserWarning: __floordiv__ is deprecated, and its behavior will change in a future version of pytorch. It currently rounds toward 0 (like the 'trunc' function NOT 'floor'). This results in incorrect rounding for negative values. To keep the current behavior, use torch.div(a, b, rounding_mode='trunc'), or for actual floor division, use torch.div(a, b, rounding_mode='floor').\n",
      "  row = perm // num_nodes\n"
     ]
    },
    {
     "name": "stdout",
     "output_type": "stream",
     "text": [
      "Epoch: 110, Train: 0.9363, Val: 0.9295, Test: 0.9303, Loss: 2.55506\n"
     ]
    },
    {
     "name": "stderr",
     "output_type": "stream",
     "text": [
      "c:\\Users\\rosa-\\anaconda3\\envs\\xaifo\\lib\\site-packages\\deepsnap\\graph.py:2126: UserWarning: __floordiv__ is deprecated, and its behavior will change in a future version of pytorch. It currently rounds toward 0 (like the 'trunc' function NOT 'floor'). This results in incorrect rounding for negative values. To keep the current behavior, use torch.div(a, b, rounding_mode='trunc'), or for actual floor division, use torch.div(a, b, rounding_mode='floor').\n",
      "  row = perm // num_nodes\n"
     ]
    },
    {
     "name": "stdout",
     "output_type": "stream",
     "text": [
      "Epoch: 111, Train: 0.9366, Val: 0.9297, Test: 0.9305, Loss: 2.54543\n"
     ]
    },
    {
     "name": "stderr",
     "output_type": "stream",
     "text": [
      "c:\\Users\\rosa-\\anaconda3\\envs\\xaifo\\lib\\site-packages\\deepsnap\\graph.py:2126: UserWarning: __floordiv__ is deprecated, and its behavior will change in a future version of pytorch. It currently rounds toward 0 (like the 'trunc' function NOT 'floor'). This results in incorrect rounding for negative values. To keep the current behavior, use torch.div(a, b, rounding_mode='trunc'), or for actual floor division, use torch.div(a, b, rounding_mode='floor').\n",
      "  row = perm // num_nodes\n"
     ]
    },
    {
     "name": "stdout",
     "output_type": "stream",
     "text": [
      "Epoch: 112, Train: 0.9367, Val: 0.9299, Test: 0.9308, Loss: 2.53343\n"
     ]
    },
    {
     "name": "stderr",
     "output_type": "stream",
     "text": [
      "c:\\Users\\rosa-\\anaconda3\\envs\\xaifo\\lib\\site-packages\\deepsnap\\graph.py:2126: UserWarning: __floordiv__ is deprecated, and its behavior will change in a future version of pytorch. It currently rounds toward 0 (like the 'trunc' function NOT 'floor'). This results in incorrect rounding for negative values. To keep the current behavior, use torch.div(a, b, rounding_mode='trunc'), or for actual floor division, use torch.div(a, b, rounding_mode='floor').\n",
      "  row = perm // num_nodes\n"
     ]
    },
    {
     "name": "stdout",
     "output_type": "stream",
     "text": [
      "Epoch: 113, Train: 0.9366, Val: 0.9300, Test: 0.9309, Loss: 2.51987\n"
     ]
    },
    {
     "name": "stderr",
     "output_type": "stream",
     "text": [
      "c:\\Users\\rosa-\\anaconda3\\envs\\xaifo\\lib\\site-packages\\deepsnap\\graph.py:2126: UserWarning: __floordiv__ is deprecated, and its behavior will change in a future version of pytorch. It currently rounds toward 0 (like the 'trunc' function NOT 'floor'). This results in incorrect rounding for negative values. To keep the current behavior, use torch.div(a, b, rounding_mode='trunc'), or for actual floor division, use torch.div(a, b, rounding_mode='floor').\n",
      "  row = perm // num_nodes\n"
     ]
    },
    {
     "name": "stdout",
     "output_type": "stream",
     "text": [
      "Epoch: 114, Train: 0.9369, Val: 0.9301, Test: 0.9310, Loss: 2.51739\n"
     ]
    },
    {
     "name": "stderr",
     "output_type": "stream",
     "text": [
      "c:\\Users\\rosa-\\anaconda3\\envs\\xaifo\\lib\\site-packages\\deepsnap\\graph.py:2126: UserWarning: __floordiv__ is deprecated, and its behavior will change in a future version of pytorch. It currently rounds toward 0 (like the 'trunc' function NOT 'floor'). This results in incorrect rounding for negative values. To keep the current behavior, use torch.div(a, b, rounding_mode='trunc'), or for actual floor division, use torch.div(a, b, rounding_mode='floor').\n",
      "  row = perm // num_nodes\n"
     ]
    },
    {
     "name": "stdout",
     "output_type": "stream",
     "text": [
      "Epoch: 115, Train: 0.9374, Val: 0.9303, Test: 0.9312, Loss: 2.51218\n"
     ]
    },
    {
     "name": "stderr",
     "output_type": "stream",
     "text": [
      "c:\\Users\\rosa-\\anaconda3\\envs\\xaifo\\lib\\site-packages\\deepsnap\\graph.py:2126: UserWarning: __floordiv__ is deprecated, and its behavior will change in a future version of pytorch. It currently rounds toward 0 (like the 'trunc' function NOT 'floor'). This results in incorrect rounding for negative values. To keep the current behavior, use torch.div(a, b, rounding_mode='trunc'), or for actual floor division, use torch.div(a, b, rounding_mode='floor').\n",
      "  row = perm // num_nodes\n"
     ]
    },
    {
     "name": "stdout",
     "output_type": "stream",
     "text": [
      "Epoch: 116, Train: 0.9374, Val: 0.9304, Test: 0.9313, Loss: 2.50598\n"
     ]
    },
    {
     "name": "stderr",
     "output_type": "stream",
     "text": [
      "c:\\Users\\rosa-\\anaconda3\\envs\\xaifo\\lib\\site-packages\\deepsnap\\graph.py:2126: UserWarning: __floordiv__ is deprecated, and its behavior will change in a future version of pytorch. It currently rounds toward 0 (like the 'trunc' function NOT 'floor'). This results in incorrect rounding for negative values. To keep the current behavior, use torch.div(a, b, rounding_mode='trunc'), or for actual floor division, use torch.div(a, b, rounding_mode='floor').\n",
      "  row = perm // num_nodes\n"
     ]
    },
    {
     "name": "stdout",
     "output_type": "stream",
     "text": [
      "Epoch: 117, Train: 0.9374, Val: 0.9307, Test: 0.9315, Loss: 2.49987\n"
     ]
    },
    {
     "name": "stderr",
     "output_type": "stream",
     "text": [
      "c:\\Users\\rosa-\\anaconda3\\envs\\xaifo\\lib\\site-packages\\deepsnap\\graph.py:2126: UserWarning: __floordiv__ is deprecated, and its behavior will change in a future version of pytorch. It currently rounds toward 0 (like the 'trunc' function NOT 'floor'). This results in incorrect rounding for negative values. To keep the current behavior, use torch.div(a, b, rounding_mode='trunc'), or for actual floor division, use torch.div(a, b, rounding_mode='floor').\n",
      "  row = perm // num_nodes\n"
     ]
    },
    {
     "name": "stdout",
     "output_type": "stream",
     "text": [
      "Epoch: 118, Train: 0.9379, Val: 0.9309, Test: 0.9316, Loss: 2.48732\n"
     ]
    },
    {
     "name": "stderr",
     "output_type": "stream",
     "text": [
      "c:\\Users\\rosa-\\anaconda3\\envs\\xaifo\\lib\\site-packages\\deepsnap\\graph.py:2126: UserWarning: __floordiv__ is deprecated, and its behavior will change in a future version of pytorch. It currently rounds toward 0 (like the 'trunc' function NOT 'floor'). This results in incorrect rounding for negative values. To keep the current behavior, use torch.div(a, b, rounding_mode='trunc'), or for actual floor division, use torch.div(a, b, rounding_mode='floor').\n",
      "  row = perm // num_nodes\n"
     ]
    },
    {
     "name": "stdout",
     "output_type": "stream",
     "text": [
      "Epoch: 119, Train: 0.9379, Val: 0.9310, Test: 0.9318, Loss: 2.48419\n"
     ]
    },
    {
     "name": "stderr",
     "output_type": "stream",
     "text": [
      "c:\\Users\\rosa-\\anaconda3\\envs\\xaifo\\lib\\site-packages\\deepsnap\\graph.py:2126: UserWarning: __floordiv__ is deprecated, and its behavior will change in a future version of pytorch. It currently rounds toward 0 (like the 'trunc' function NOT 'floor'). This results in incorrect rounding for negative values. To keep the current behavior, use torch.div(a, b, rounding_mode='trunc'), or for actual floor division, use torch.div(a, b, rounding_mode='floor').\n",
      "  row = perm // num_nodes\n"
     ]
    },
    {
     "name": "stdout",
     "output_type": "stream",
     "text": [
      "Epoch: 120, Train: 0.9377, Val: 0.9312, Test: 0.9319, Loss: 2.45861\n"
     ]
    },
    {
     "name": "stderr",
     "output_type": "stream",
     "text": [
      "c:\\Users\\rosa-\\anaconda3\\envs\\xaifo\\lib\\site-packages\\deepsnap\\graph.py:2126: UserWarning: __floordiv__ is deprecated, and its behavior will change in a future version of pytorch. It currently rounds toward 0 (like the 'trunc' function NOT 'floor'). This results in incorrect rounding for negative values. To keep the current behavior, use torch.div(a, b, rounding_mode='trunc'), or for actual floor division, use torch.div(a, b, rounding_mode='floor').\n",
      "  row = perm // num_nodes\n"
     ]
    },
    {
     "name": "stdout",
     "output_type": "stream",
     "text": [
      "Epoch: 121, Train: 0.9384, Val: 0.9314, Test: 0.9321, Loss: 2.47529\n"
     ]
    },
    {
     "name": "stderr",
     "output_type": "stream",
     "text": [
      "c:\\Users\\rosa-\\anaconda3\\envs\\xaifo\\lib\\site-packages\\deepsnap\\graph.py:2126: UserWarning: __floordiv__ is deprecated, and its behavior will change in a future version of pytorch. It currently rounds toward 0 (like the 'trunc' function NOT 'floor'). This results in incorrect rounding for negative values. To keep the current behavior, use torch.div(a, b, rounding_mode='trunc'), or for actual floor division, use torch.div(a, b, rounding_mode='floor').\n",
      "  row = perm // num_nodes\n"
     ]
    },
    {
     "name": "stdout",
     "output_type": "stream",
     "text": [
      "Epoch: 122, Train: 0.9386, Val: 0.9315, Test: 0.9322, Loss: 2.44290\n"
     ]
    },
    {
     "name": "stderr",
     "output_type": "stream",
     "text": [
      "c:\\Users\\rosa-\\anaconda3\\envs\\xaifo\\lib\\site-packages\\deepsnap\\graph.py:2126: UserWarning: __floordiv__ is deprecated, and its behavior will change in a future version of pytorch. It currently rounds toward 0 (like the 'trunc' function NOT 'floor'). This results in incorrect rounding for negative values. To keep the current behavior, use torch.div(a, b, rounding_mode='trunc'), or for actual floor division, use torch.div(a, b, rounding_mode='floor').\n",
      "  row = perm // num_nodes\n"
     ]
    },
    {
     "name": "stdout",
     "output_type": "stream",
     "text": [
      "Epoch: 123, Train: 0.9381, Val: 0.9316, Test: 0.9324, Loss: 2.44574\n"
     ]
    },
    {
     "name": "stderr",
     "output_type": "stream",
     "text": [
      "c:\\Users\\rosa-\\anaconda3\\envs\\xaifo\\lib\\site-packages\\deepsnap\\graph.py:2126: UserWarning: __floordiv__ is deprecated, and its behavior will change in a future version of pytorch. It currently rounds toward 0 (like the 'trunc' function NOT 'floor'). This results in incorrect rounding for negative values. To keep the current behavior, use torch.div(a, b, rounding_mode='trunc'), or for actual floor division, use torch.div(a, b, rounding_mode='floor').\n",
      "  row = perm // num_nodes\n"
     ]
    },
    {
     "name": "stdout",
     "output_type": "stream",
     "text": [
      "Epoch: 124, Train: 0.9384, Val: 0.9318, Test: 0.9325, Loss: 2.43441\n"
     ]
    },
    {
     "name": "stderr",
     "output_type": "stream",
     "text": [
      "c:\\Users\\rosa-\\anaconda3\\envs\\xaifo\\lib\\site-packages\\deepsnap\\graph.py:2126: UserWarning: __floordiv__ is deprecated, and its behavior will change in a future version of pytorch. It currently rounds toward 0 (like the 'trunc' function NOT 'floor'). This results in incorrect rounding for negative values. To keep the current behavior, use torch.div(a, b, rounding_mode='trunc'), or for actual floor division, use torch.div(a, b, rounding_mode='floor').\n",
      "  row = perm // num_nodes\n"
     ]
    },
    {
     "name": "stdout",
     "output_type": "stream",
     "text": [
      "Epoch: 125, Train: 0.9388, Val: 0.9319, Test: 0.9327, Loss: 2.42756\n"
     ]
    },
    {
     "name": "stderr",
     "output_type": "stream",
     "text": [
      "c:\\Users\\rosa-\\anaconda3\\envs\\xaifo\\lib\\site-packages\\deepsnap\\graph.py:2126: UserWarning: __floordiv__ is deprecated, and its behavior will change in a future version of pytorch. It currently rounds toward 0 (like the 'trunc' function NOT 'floor'). This results in incorrect rounding for negative values. To keep the current behavior, use torch.div(a, b, rounding_mode='trunc'), or for actual floor division, use torch.div(a, b, rounding_mode='floor').\n",
      "  row = perm // num_nodes\n"
     ]
    },
    {
     "name": "stdout",
     "output_type": "stream",
     "text": [
      "Epoch: 126, Train: 0.9383, Val: 0.9320, Test: 0.9328, Loss: 2.41304\n"
     ]
    },
    {
     "name": "stderr",
     "output_type": "stream",
     "text": [
      "c:\\Users\\rosa-\\anaconda3\\envs\\xaifo\\lib\\site-packages\\deepsnap\\graph.py:2126: UserWarning: __floordiv__ is deprecated, and its behavior will change in a future version of pytorch. It currently rounds toward 0 (like the 'trunc' function NOT 'floor'). This results in incorrect rounding for negative values. To keep the current behavior, use torch.div(a, b, rounding_mode='trunc'), or for actual floor division, use torch.div(a, b, rounding_mode='floor').\n",
      "  row = perm // num_nodes\n"
     ]
    },
    {
     "name": "stdout",
     "output_type": "stream",
     "text": [
      "Epoch: 127, Train: 0.9392, Val: 0.9322, Test: 0.9328, Loss: 2.40177\n"
     ]
    },
    {
     "name": "stderr",
     "output_type": "stream",
     "text": [
      "c:\\Users\\rosa-\\anaconda3\\envs\\xaifo\\lib\\site-packages\\deepsnap\\graph.py:2126: UserWarning: __floordiv__ is deprecated, and its behavior will change in a future version of pytorch. It currently rounds toward 0 (like the 'trunc' function NOT 'floor'). This results in incorrect rounding for negative values. To keep the current behavior, use torch.div(a, b, rounding_mode='trunc'), or for actual floor division, use torch.div(a, b, rounding_mode='floor').\n",
      "  row = perm // num_nodes\n"
     ]
    },
    {
     "name": "stdout",
     "output_type": "stream",
     "text": [
      "Epoch: 128, Train: 0.9394, Val: 0.9324, Test: 0.9330, Loss: 2.39412\n"
     ]
    },
    {
     "name": "stderr",
     "output_type": "stream",
     "text": [
      "c:\\Users\\rosa-\\anaconda3\\envs\\xaifo\\lib\\site-packages\\deepsnap\\graph.py:2126: UserWarning: __floordiv__ is deprecated, and its behavior will change in a future version of pytorch. It currently rounds toward 0 (like the 'trunc' function NOT 'floor'). This results in incorrect rounding for negative values. To keep the current behavior, use torch.div(a, b, rounding_mode='trunc'), or for actual floor division, use torch.div(a, b, rounding_mode='floor').\n",
      "  row = perm // num_nodes\n"
     ]
    },
    {
     "name": "stdout",
     "output_type": "stream",
     "text": [
      "Epoch: 129, Train: 0.9394, Val: 0.9325, Test: 0.9332, Loss: 2.39882\n"
     ]
    },
    {
     "name": "stderr",
     "output_type": "stream",
     "text": [
      "c:\\Users\\rosa-\\anaconda3\\envs\\xaifo\\lib\\site-packages\\deepsnap\\graph.py:2126: UserWarning: __floordiv__ is deprecated, and its behavior will change in a future version of pytorch. It currently rounds toward 0 (like the 'trunc' function NOT 'floor'). This results in incorrect rounding for negative values. To keep the current behavior, use torch.div(a, b, rounding_mode='trunc'), or for actual floor division, use torch.div(a, b, rounding_mode='floor').\n",
      "  row = perm // num_nodes\n"
     ]
    },
    {
     "name": "stdout",
     "output_type": "stream",
     "text": [
      "Epoch: 130, Train: 0.9394, Val: 0.9327, Test: 0.9333, Loss: 2.38084\n"
     ]
    },
    {
     "name": "stderr",
     "output_type": "stream",
     "text": [
      "c:\\Users\\rosa-\\anaconda3\\envs\\xaifo\\lib\\site-packages\\deepsnap\\graph.py:2126: UserWarning: __floordiv__ is deprecated, and its behavior will change in a future version of pytorch. It currently rounds toward 0 (like the 'trunc' function NOT 'floor'). This results in incorrect rounding for negative values. To keep the current behavior, use torch.div(a, b, rounding_mode='trunc'), or for actual floor division, use torch.div(a, b, rounding_mode='floor').\n",
      "  row = perm // num_nodes\n"
     ]
    },
    {
     "name": "stdout",
     "output_type": "stream",
     "text": [
      "Epoch: 131, Train: 0.9396, Val: 0.9329, Test: 0.9334, Loss: 2.38227\n"
     ]
    },
    {
     "name": "stderr",
     "output_type": "stream",
     "text": [
      "c:\\Users\\rosa-\\anaconda3\\envs\\xaifo\\lib\\site-packages\\deepsnap\\graph.py:2126: UserWarning: __floordiv__ is deprecated, and its behavior will change in a future version of pytorch. It currently rounds toward 0 (like the 'trunc' function NOT 'floor'). This results in incorrect rounding for negative values. To keep the current behavior, use torch.div(a, b, rounding_mode='trunc'), or for actual floor division, use torch.div(a, b, rounding_mode='floor').\n",
      "  row = perm // num_nodes\n"
     ]
    },
    {
     "name": "stdout",
     "output_type": "stream",
     "text": [
      "Epoch: 132, Train: 0.9395, Val: 0.9330, Test: 0.9336, Loss: 2.36307\n"
     ]
    },
    {
     "name": "stderr",
     "output_type": "stream",
     "text": [
      "c:\\Users\\rosa-\\anaconda3\\envs\\xaifo\\lib\\site-packages\\deepsnap\\graph.py:2126: UserWarning: __floordiv__ is deprecated, and its behavior will change in a future version of pytorch. It currently rounds toward 0 (like the 'trunc' function NOT 'floor'). This results in incorrect rounding for negative values. To keep the current behavior, use torch.div(a, b, rounding_mode='trunc'), or for actual floor division, use torch.div(a, b, rounding_mode='floor').\n",
      "  row = perm // num_nodes\n"
     ]
    },
    {
     "name": "stdout",
     "output_type": "stream",
     "text": [
      "Epoch: 133, Train: 0.9399, Val: 0.9332, Test: 0.9338, Loss: 2.35199\n"
     ]
    },
    {
     "name": "stderr",
     "output_type": "stream",
     "text": [
      "c:\\Users\\rosa-\\anaconda3\\envs\\xaifo\\lib\\site-packages\\deepsnap\\graph.py:2126: UserWarning: __floordiv__ is deprecated, and its behavior will change in a future version of pytorch. It currently rounds toward 0 (like the 'trunc' function NOT 'floor'). This results in incorrect rounding for negative values. To keep the current behavior, use torch.div(a, b, rounding_mode='trunc'), or for actual floor division, use torch.div(a, b, rounding_mode='floor').\n",
      "  row = perm // num_nodes\n"
     ]
    },
    {
     "name": "stdout",
     "output_type": "stream",
     "text": [
      "Epoch: 134, Train: 0.9403, Val: 0.9333, Test: 0.9339, Loss: 2.36364\n"
     ]
    },
    {
     "name": "stderr",
     "output_type": "stream",
     "text": [
      "c:\\Users\\rosa-\\anaconda3\\envs\\xaifo\\lib\\site-packages\\deepsnap\\graph.py:2126: UserWarning: __floordiv__ is deprecated, and its behavior will change in a future version of pytorch. It currently rounds toward 0 (like the 'trunc' function NOT 'floor'). This results in incorrect rounding for negative values. To keep the current behavior, use torch.div(a, b, rounding_mode='trunc'), or for actual floor division, use torch.div(a, b, rounding_mode='floor').\n",
      "  row = perm // num_nodes\n"
     ]
    },
    {
     "name": "stdout",
     "output_type": "stream",
     "text": [
      "Epoch: 135, Train: 0.9398, Val: 0.9334, Test: 0.9341, Loss: 2.34795\n"
     ]
    },
    {
     "name": "stderr",
     "output_type": "stream",
     "text": [
      "c:\\Users\\rosa-\\anaconda3\\envs\\xaifo\\lib\\site-packages\\deepsnap\\graph.py:2126: UserWarning: __floordiv__ is deprecated, and its behavior will change in a future version of pytorch. It currently rounds toward 0 (like the 'trunc' function NOT 'floor'). This results in incorrect rounding for negative values. To keep the current behavior, use torch.div(a, b, rounding_mode='trunc'), or for actual floor division, use torch.div(a, b, rounding_mode='floor').\n",
      "  row = perm // num_nodes\n"
     ]
    },
    {
     "name": "stdout",
     "output_type": "stream",
     "text": [
      "Epoch: 136, Train: 0.9395, Val: 0.9336, Test: 0.9342, Loss: 2.32939\n"
     ]
    },
    {
     "name": "stderr",
     "output_type": "stream",
     "text": [
      "c:\\Users\\rosa-\\anaconda3\\envs\\xaifo\\lib\\site-packages\\deepsnap\\graph.py:2126: UserWarning: __floordiv__ is deprecated, and its behavior will change in a future version of pytorch. It currently rounds toward 0 (like the 'trunc' function NOT 'floor'). This results in incorrect rounding for negative values. To keep the current behavior, use torch.div(a, b, rounding_mode='trunc'), or for actual floor division, use torch.div(a, b, rounding_mode='floor').\n",
      "  row = perm // num_nodes\n"
     ]
    },
    {
     "name": "stdout",
     "output_type": "stream",
     "text": [
      "Epoch: 137, Train: 0.9404, Val: 0.9338, Test: 0.9343, Loss: 2.34004\n"
     ]
    },
    {
     "name": "stderr",
     "output_type": "stream",
     "text": [
      "c:\\Users\\rosa-\\anaconda3\\envs\\xaifo\\lib\\site-packages\\deepsnap\\graph.py:2126: UserWarning: __floordiv__ is deprecated, and its behavior will change in a future version of pytorch. It currently rounds toward 0 (like the 'trunc' function NOT 'floor'). This results in incorrect rounding for negative values. To keep the current behavior, use torch.div(a, b, rounding_mode='trunc'), or for actual floor division, use torch.div(a, b, rounding_mode='floor').\n",
      "  row = perm // num_nodes\n"
     ]
    },
    {
     "name": "stdout",
     "output_type": "stream",
     "text": [
      "Epoch: 138, Train: 0.9402, Val: 0.9339, Test: 0.9345, Loss: 2.32160\n"
     ]
    },
    {
     "name": "stderr",
     "output_type": "stream",
     "text": [
      "c:\\Users\\rosa-\\anaconda3\\envs\\xaifo\\lib\\site-packages\\deepsnap\\graph.py:2126: UserWarning: __floordiv__ is deprecated, and its behavior will change in a future version of pytorch. It currently rounds toward 0 (like the 'trunc' function NOT 'floor'). This results in incorrect rounding for negative values. To keep the current behavior, use torch.div(a, b, rounding_mode='trunc'), or for actual floor division, use torch.div(a, b, rounding_mode='floor').\n",
      "  row = perm // num_nodes\n"
     ]
    },
    {
     "name": "stdout",
     "output_type": "stream",
     "text": [
      "Epoch: 139, Train: 0.9406, Val: 0.9341, Test: 0.9347, Loss: 2.32164\n"
     ]
    },
    {
     "name": "stderr",
     "output_type": "stream",
     "text": [
      "c:\\Users\\rosa-\\anaconda3\\envs\\xaifo\\lib\\site-packages\\deepsnap\\graph.py:2126: UserWarning: __floordiv__ is deprecated, and its behavior will change in a future version of pytorch. It currently rounds toward 0 (like the 'trunc' function NOT 'floor'). This results in incorrect rounding for negative values. To keep the current behavior, use torch.div(a, b, rounding_mode='trunc'), or for actual floor division, use torch.div(a, b, rounding_mode='floor').\n",
      "  row = perm // num_nodes\n"
     ]
    },
    {
     "name": "stdout",
     "output_type": "stream",
     "text": [
      "Epoch: 140, Train: 0.9406, Val: 0.9342, Test: 0.9348, Loss: 2.32530\n"
     ]
    },
    {
     "name": "stderr",
     "output_type": "stream",
     "text": [
      "c:\\Users\\rosa-\\anaconda3\\envs\\xaifo\\lib\\site-packages\\deepsnap\\graph.py:2126: UserWarning: __floordiv__ is deprecated, and its behavior will change in a future version of pytorch. It currently rounds toward 0 (like the 'trunc' function NOT 'floor'). This results in incorrect rounding for negative values. To keep the current behavior, use torch.div(a, b, rounding_mode='trunc'), or for actual floor division, use torch.div(a, b, rounding_mode='floor').\n",
      "  row = perm // num_nodes\n"
     ]
    },
    {
     "name": "stdout",
     "output_type": "stream",
     "text": [
      "Epoch: 141, Train: 0.9405, Val: 0.9343, Test: 0.9349, Loss: 2.29426\n"
     ]
    },
    {
     "name": "stderr",
     "output_type": "stream",
     "text": [
      "c:\\Users\\rosa-\\anaconda3\\envs\\xaifo\\lib\\site-packages\\deepsnap\\graph.py:2126: UserWarning: __floordiv__ is deprecated, and its behavior will change in a future version of pytorch. It currently rounds toward 0 (like the 'trunc' function NOT 'floor'). This results in incorrect rounding for negative values. To keep the current behavior, use torch.div(a, b, rounding_mode='trunc'), or for actual floor division, use torch.div(a, b, rounding_mode='floor').\n",
      "  row = perm // num_nodes\n"
     ]
    },
    {
     "name": "stdout",
     "output_type": "stream",
     "text": [
      "Epoch: 142, Train: 0.9407, Val: 0.9344, Test: 0.9351, Loss: 2.29692\n"
     ]
    },
    {
     "name": "stderr",
     "output_type": "stream",
     "text": [
      "c:\\Users\\rosa-\\anaconda3\\envs\\xaifo\\lib\\site-packages\\deepsnap\\graph.py:2126: UserWarning: __floordiv__ is deprecated, and its behavior will change in a future version of pytorch. It currently rounds toward 0 (like the 'trunc' function NOT 'floor'). This results in incorrect rounding for negative values. To keep the current behavior, use torch.div(a, b, rounding_mode='trunc'), or for actual floor division, use torch.div(a, b, rounding_mode='floor').\n",
      "  row = perm // num_nodes\n"
     ]
    },
    {
     "name": "stdout",
     "output_type": "stream",
     "text": [
      "Epoch: 143, Train: 0.9408, Val: 0.9345, Test: 0.9352, Loss: 2.28904\n"
     ]
    },
    {
     "name": "stderr",
     "output_type": "stream",
     "text": [
      "c:\\Users\\rosa-\\anaconda3\\envs\\xaifo\\lib\\site-packages\\deepsnap\\graph.py:2126: UserWarning: __floordiv__ is deprecated, and its behavior will change in a future version of pytorch. It currently rounds toward 0 (like the 'trunc' function NOT 'floor'). This results in incorrect rounding for negative values. To keep the current behavior, use torch.div(a, b, rounding_mode='trunc'), or for actual floor division, use torch.div(a, b, rounding_mode='floor').\n",
      "  row = perm // num_nodes\n"
     ]
    },
    {
     "name": "stdout",
     "output_type": "stream",
     "text": [
      "Epoch: 144, Train: 0.9409, Val: 0.9346, Test: 0.9353, Loss: 2.26901\n"
     ]
    },
    {
     "name": "stderr",
     "output_type": "stream",
     "text": [
      "c:\\Users\\rosa-\\anaconda3\\envs\\xaifo\\lib\\site-packages\\deepsnap\\graph.py:2126: UserWarning: __floordiv__ is deprecated, and its behavior will change in a future version of pytorch. It currently rounds toward 0 (like the 'trunc' function NOT 'floor'). This results in incorrect rounding for negative values. To keep the current behavior, use torch.div(a, b, rounding_mode='trunc'), or for actual floor division, use torch.div(a, b, rounding_mode='floor').\n",
      "  row = perm // num_nodes\n"
     ]
    },
    {
     "name": "stdout",
     "output_type": "stream",
     "text": [
      "Epoch: 145, Train: 0.9412, Val: 0.9347, Test: 0.9354, Loss: 2.26755\n"
     ]
    },
    {
     "name": "stderr",
     "output_type": "stream",
     "text": [
      "c:\\Users\\rosa-\\anaconda3\\envs\\xaifo\\lib\\site-packages\\deepsnap\\graph.py:2126: UserWarning: __floordiv__ is deprecated, and its behavior will change in a future version of pytorch. It currently rounds toward 0 (like the 'trunc' function NOT 'floor'). This results in incorrect rounding for negative values. To keep the current behavior, use torch.div(a, b, rounding_mode='trunc'), or for actual floor division, use torch.div(a, b, rounding_mode='floor').\n",
      "  row = perm // num_nodes\n"
     ]
    },
    {
     "name": "stdout",
     "output_type": "stream",
     "text": [
      "Epoch: 146, Train: 0.9416, Val: 0.9348, Test: 0.9355, Loss: 2.26109\n"
     ]
    },
    {
     "name": "stderr",
     "output_type": "stream",
     "text": [
      "c:\\Users\\rosa-\\anaconda3\\envs\\xaifo\\lib\\site-packages\\deepsnap\\graph.py:2126: UserWarning: __floordiv__ is deprecated, and its behavior will change in a future version of pytorch. It currently rounds toward 0 (like the 'trunc' function NOT 'floor'). This results in incorrect rounding for negative values. To keep the current behavior, use torch.div(a, b, rounding_mode='trunc'), or for actual floor division, use torch.div(a, b, rounding_mode='floor').\n",
      "  row = perm // num_nodes\n"
     ]
    },
    {
     "name": "stdout",
     "output_type": "stream",
     "text": [
      "Epoch: 147, Train: 0.9411, Val: 0.9349, Test: 0.9356, Loss: 2.27011\n"
     ]
    },
    {
     "name": "stderr",
     "output_type": "stream",
     "text": [
      "c:\\Users\\rosa-\\anaconda3\\envs\\xaifo\\lib\\site-packages\\deepsnap\\graph.py:2126: UserWarning: __floordiv__ is deprecated, and its behavior will change in a future version of pytorch. It currently rounds toward 0 (like the 'trunc' function NOT 'floor'). This results in incorrect rounding for negative values. To keep the current behavior, use torch.div(a, b, rounding_mode='trunc'), or for actual floor division, use torch.div(a, b, rounding_mode='floor').\n",
      "  row = perm // num_nodes\n"
     ]
    },
    {
     "name": "stdout",
     "output_type": "stream",
     "text": [
      "Epoch: 148, Train: 0.9415, Val: 0.9351, Test: 0.9357, Loss: 2.25170\n"
     ]
    },
    {
     "name": "stderr",
     "output_type": "stream",
     "text": [
      "c:\\Users\\rosa-\\anaconda3\\envs\\xaifo\\lib\\site-packages\\deepsnap\\graph.py:2126: UserWarning: __floordiv__ is deprecated, and its behavior will change in a future version of pytorch. It currently rounds toward 0 (like the 'trunc' function NOT 'floor'). This results in incorrect rounding for negative values. To keep the current behavior, use torch.div(a, b, rounding_mode='trunc'), or for actual floor division, use torch.div(a, b, rounding_mode='floor').\n",
      "  row = perm // num_nodes\n"
     ]
    },
    {
     "name": "stdout",
     "output_type": "stream",
     "text": [
      "Epoch: 149, Train: 0.9418, Val: 0.9352, Test: 0.9358, Loss: 2.24356\n"
     ]
    },
    {
     "name": "stderr",
     "output_type": "stream",
     "text": [
      "c:\\Users\\rosa-\\anaconda3\\envs\\xaifo\\lib\\site-packages\\deepsnap\\graph.py:2126: UserWarning: __floordiv__ is deprecated, and its behavior will change in a future version of pytorch. It currently rounds toward 0 (like the 'trunc' function NOT 'floor'). This results in incorrect rounding for negative values. To keep the current behavior, use torch.div(a, b, rounding_mode='trunc'), or for actual floor division, use torch.div(a, b, rounding_mode='floor').\n",
      "  row = perm // num_nodes\n"
     ]
    },
    {
     "name": "stdout",
     "output_type": "stream",
     "text": [
      "Train: 0.9535, Val: 0.9447, Test: 0.9473\n"
     ]
    }
   ],
   "source": [
    "best_model, best_x, performance = train(model, dataloaders, optimizer, args)\n",
    "\n",
    "best_train_roc = test(best_model, dataloaders['train'], args)\n",
    "best_val_roc = test(best_model, dataloaders['val'], args)\n",
    "best_test_roc = test(best_model, dataloaders['test'], args)\n",
    "\n",
    "print('Train: {:.4f}, Val: {:.4f}, Test: {:.4f}'.format(best_train_roc, best_val_roc, best_test_roc))"
   ]
  },
  {
   "attachments": {},
   "cell_type": "markdown",
   "metadata": {},
   "source": [
    "Save the model and parameters"
   ]
  },
  {
   "cell_type": "code",
   "execution_count": 20,
   "metadata": {
    "execution": {
     "iopub.execute_input": "2024-07-26T10:40:03.590245Z",
     "iopub.status.busy": "2024-07-26T10:40:03.589239Z",
     "iopub.status.idle": "2024-07-26T10:40:03.615951Z",
     "shell.execute_reply": "2024-07-26T10:40:03.614950Z"
    }
   },
   "outputs": [],
   "source": [
    "torch.save(best_model.state_dict(), f'{run_dir}/{dataset_prefix}_{disease_prefix}_best_model_{embedding_method}.pth')\n",
    "with open(f'{run_dir}/{dataset_prefix}_{disease_prefix}_best_model_{embedding_method}_args.pkl', 'wb') as f:\n",
    "    pickle.dump(args, f)"
   ]
  },
  {
   "attachments": {},
   "cell_type": "markdown",
   "metadata": {},
   "source": [
    "### Visualize Trained GNN Model Accuracy"
   ]
  },
  {
   "attachments": {},
   "cell_type": "markdown",
   "metadata": {},
   "source": [
    "Plot AUC and loss throughout epochs"
   ]
  },
  {
   "cell_type": "code",
   "execution_count": 21,
   "metadata": {
    "execution": {
     "iopub.execute_input": "2024-07-26T10:40:03.619952Z",
     "iopub.status.busy": "2024-07-26T10:40:03.618949Z",
     "iopub.status.idle": "2024-07-26T10:40:03.905889Z",
     "shell.execute_reply": "2024-07-26T10:40:03.903887Z"
    }
   },
   "outputs": [
    {
     "data": {
      "image/png": "[encoded data removed]",
      "text/plain": [
       "<Figure size 1000x700 with 1 Axes>"
      ]
     },
     "metadata": {},
     "output_type": "display_data"
    }
   ],
   "source": [
    "plt.figure(figsize= (10,7))\n",
    "plt.plot(np.log10(performance[0]), label = 'Loss')\n",
    "plt.plot(performance[1], label = 'AUC Train')\n",
    "plt.plot(performance[2], label = 'AUC Validation')\n",
    "plt.plot(performance[3], label = 'AUC Test')\n",
    "plt.legend()\n",
    "plt.ylabel('AUC/Loss')\n",
    "plt.xlabel('Epochs')\n",
    "plt.title(f'Training curve of GNN on {dataset_prefix} {disease_prefix} dataset and embedding method {embedding_method}')\n",
    "plt.show()"
   ]
  },
  {
   "cell_type": "code",
   "execution_count": 22,
   "metadata": {
    "execution": {
     "iopub.execute_input": "2024-07-26T10:40:03.910887Z",
     "iopub.status.busy": "2024-07-26T10:40:03.909888Z",
     "iopub.status.idle": "2024-07-26T10:40:03.920504Z",
     "shell.execute_reply": "2024-07-26T10:40:03.919500Z"
    }
   },
   "outputs": [],
   "source": [
    "performance_scores = {}\n",
    "sets = ['Loss', 'AUC Train', 'AUC Validation', 'AUC Test']\n",
    "for set_name, score_list in zip(sets, performance):\n",
    "    performance_scores[set_name] = score_list"
   ]
  },
  {
   "attachments": {},
   "cell_type": "markdown",
   "metadata": {},
   "source": [
    "Plot ROC curve using test set\n",
    "- High TPR and lower FPR indicates that the proportion of correctly classified samples (true positives) is greater than the proportion of incorrectly classified samples (false positives)"
   ]
  },
  {
   "cell_type": "code",
   "execution_count": 23,
   "metadata": {
    "execution": {
     "iopub.execute_input": "2024-07-26T10:40:03.924501Z",
     "iopub.status.busy": "2024-07-26T10:40:03.924501Z",
     "iopub.status.idle": "2024-07-26T10:40:04.306055Z",
     "shell.execute_reply": "2024-07-26T10:40:04.305055Z"
    }
   },
   "outputs": [
    {
     "name": "stdout",
     "output_type": "stream",
     "text": [
      "ROC AUC score: 0.9473247900446944\n"
     ]
    },
    {
     "data": {
      "image/png": "[encoded data removed]",
      "text/plain": [
       "<Figure size 700x700 with 1 Axes>"
      ]
     },
     "metadata": {},
     "output_type": "display_data"
    }
   ],
   "source": [
    "for batch in dataloaders['test']:\n",
    "    feat, edge_index, edge_label_index = batch.node_feature, batch.edge_index, batch.edge_label_index\n",
    "    batch.to(args[\"device\"])\n",
    "    pred, x = best_model(feat, edge_index, edge_label_index, training = False)\n",
    "    pred = torch.sigmoid(pred)\n",
    "    score = roc_auc_score(batch.edge_label.flatten().cpu().numpy(), pred.flatten().data.cpu().numpy())\n",
    "    \n",
    "    performance_scores['ROC AUC Score'] = score\n",
    "    print(f'ROC AUC score: {score}')\n",
    "    \n",
    "fpr, tpr, thresholds = roc_curve(batch.edge_label.flatten().cpu().numpy(), pred.flatten().data.cpu().numpy())\n",
    "performance_scores['ROC FPR'] = fpr\n",
    "performance_scores['ROC TPR'] = tpr\n",
    "performance_scores['ROC Thresholds'] = thresholds\n",
    "\n",
    "plt.figure(figsize = (7, 7))\n",
    "plt.plot(fpr, tpr, marker='.')\n",
    "plt.xlabel('False Positive Rate')   # 1 - specificity\n",
    "plt.ylabel('True Positive Rate')    # sensitivity\n",
    "plt.title(f'ROC curve on test set from {dataset_prefix} {disease_prefix} dataset and embedding method {embedding_method}')\n",
    "plt.show()"
   ]
  },
  {
   "attachments": {},
   "cell_type": "markdown",
   "metadata": {},
   "source": [
    "Calculate F1-score using test set\n",
    "\n",
    "Elements of the F1-score:\n",
    "- Precision represents the proportion of correctly classifying samples as positive (high precision: classifying a sample as positive has a high probability to be correct)\n",
    "- Recall represents the proportion of finding all positives (high recall: all positive samples have been classified as being positive)\n",
    "\n",
    "Maximizing both elements in order to yield a model that identifies all positive samples and only identifies these samples as positives.\n",
    "\n",
    "For the F1-score, the average of precision and recall is calculated, using the harmonic mean method (equal importance):\n",
    "- High F1-score indicates that precision and recall are both high\n",
    "- Medium F1-score indicates that one of the elements is high and the other low\n",
    "- Low F1-score indicates that precision and recall are both low"
   ]
  },
  {
   "cell_type": "code",
   "execution_count": 24,
   "metadata": {
    "execution": {
     "iopub.execute_input": "2024-07-26T10:40:04.310055Z",
     "iopub.status.busy": "2024-07-26T10:40:04.310055Z",
     "iopub.status.idle": "2024-07-26T10:40:04.582670Z",
     "shell.execute_reply": "2024-07-26T10:40:04.581669Z"
    }
   },
   "outputs": [
    {
     "name": "stdout",
     "output_type": "stream",
     "text": [
      "F1-Score in the test set of dataset 2 and method e2v: 0.7046700574674681\n",
      "              precision    recall  f1-score   support\n",
      "\n",
      "           0       0.97      0.47      0.63     40800\n",
      "           1       0.55      0.98      0.70     27200\n",
      "\n",
      "    accuracy                           0.67     68000\n",
      "   macro avg       0.76      0.72      0.67     68000\n",
      "weighted avg       0.80      0.67      0.66     68000\n",
      "\n"
     ]
    }
   ],
   "source": [
    "def test_f1(model, dataloader, args, threshold):\n",
    "    model.eval()\n",
    "    score = 0\n",
    "    num_batches = 0\n",
    "    for batch in dataloader:\n",
    "        feat, edge_index, edge_label_index = batch.node_feature, batch.edge_index, batch.edge_label_index\n",
    "        batch.to(args[\"device\"])\n",
    "        pred, x = model(feat, edge_index, edge_label_index, training = False)\n",
    "        pred = torch.sigmoid(pred) > threshold\n",
    "        score += f1_score(batch.edge_label.flatten().cpu().numpy(), pred.flatten().data.cpu().numpy())\n",
    "        num_batches += 1\n",
    "    score /= num_batches \n",
    "    return batch.edge_label.flatten().cpu().numpy(), pred.flatten().data.cpu().numpy(), score\n",
    "\n",
    "true_label, pred_label, best_test_f1 = test_f1(best_model, dataloaders['test'], args, 0.7)\n",
    "performance_scores['True Labels'] = true_label\n",
    "performance_scores['Predicted Labels'] = pred_label\n",
    "performance_scores['F1 Score'] = best_test_f1\n",
    "\n",
    "print(f'F1-Score in the test set from {dataset_prefix} {disease_prefix} dataset and embedding method {embedding_method}:', best_test_f1)\n",
    "print(classification_report(true_label, pred_label))"
   ]
  },
  {
   "cell_type": "code",
   "execution_count": 25,
   "metadata": {
    "execution": {
     "iopub.execute_input": "2024-07-26T10:40:04.586667Z",
     "iopub.status.busy": "2024-07-26T10:40:04.586667Z",
     "iopub.status.idle": "2024-07-26T10:40:04.628670Z",
     "shell.execute_reply": "2024-07-26T10:40:04.627670Z"
    }
   },
   "outputs": [
    {
     "data": {
      "text/plain": [
       "{'Loss': [array(5.2618847, dtype=float32),\n",
       "  array(5.2767024, dtype=float32),\n",
       "  array(5.1688833, dtype=float32),\n",
       "  array(5.105834, dtype=float32),\n",
       "  array(4.9977493, dtype=float32),\n",
       "  array(4.883177, dtype=float32),\n",
       "  array(4.7944894, dtype=float32),\n",
       "  array(4.694866, dtype=float32),\n",
       "  array(4.610818, dtype=float32),\n",
       "  array(4.5683594, dtype=float32),\n",
       "  array(4.4936314, dtype=float32),\n",
       "  array(4.433958, dtype=float32),\n",
       "  array(4.382483, dtype=float32),\n",
       "  array(4.32425, dtype=float32),\n",
       "  array(4.2616663, dtype=float32),\n",
       "  array(4.241152, dtype=float32),\n",
       "  array(4.1851945, dtype=float32),\n",
       "  array(4.1460915, dtype=float32),\n",
       "  array(4.0776267, dtype=float32),\n",
       "  array(4.069779, dtype=float32),\n",
       "  array(4.02176, dtype=float32),\n",
       "  array(4.004244, dtype=float32),\n",
       "  array(3.9417436, dtype=float32),\n",
       "  array(3.9059858, dtype=float32),\n",
       "  array(3.9087682, dtype=float32),\n",
       "  array(3.8719647, dtype=float32),\n",
       "  array(3.848487, dtype=float32),\n",
       "  array(3.814091, dtype=float32),\n",
       "  array(3.771008, dtype=float32),\n",
       "  array(3.7223685, dtype=float32),\n",
       "  array(3.6980593, dtype=float32),\n",
       "  array(3.6789494, dtype=float32),\n",
       "  array(3.650385, dtype=float32),\n",
       "  array(3.626542, dtype=float32),\n",
       "  array(3.5966573, dtype=float32),\n",
       "  array(3.55545, dtype=float32),\n",
       "  array(3.5701718, dtype=float32),\n",
       "  array(3.5458639, dtype=float32),\n",
       "  array(3.5178435, dtype=float32),\n",
       "  array(3.498371, dtype=float32),\n",
       "  array(3.47849, dtype=float32),\n",
       "  array(3.4530222, dtype=float32),\n",
       "  array(3.4304912, dtype=float32),\n",
       "  array(3.420723, dtype=float32),\n",
       "  array(3.3980198, dtype=float32),\n",
       "  array(3.381038, dtype=float32),\n",
       "  array(3.3520823, dtype=float32),\n",
       "  array(3.3392532, dtype=float32),\n",
       "  array(3.3015957, dtype=float32),\n",
       "  array(3.3000164, dtype=float32),\n",
       "  array(3.278078, dtype=float32),\n",
       "  array(3.261562, dtype=float32),\n",
       "  array(3.2464235, dtype=float32),\n",
       "  array(3.2231958, dtype=float32),\n",
       "  array(3.2105305, dtype=float32),\n",
       "  array(3.1976404, dtype=float32),\n",
       "  array(3.1795862, dtype=float32),\n",
       "  array(3.166746, dtype=float32),\n",
       "  array(3.1446311, dtype=float32),\n",
       "  array(3.1276312, dtype=float32),\n",
       "  array(3.120491, dtype=float32),\n",
       "  array(3.1097393, dtype=float32),\n",
       "  array(3.088289, dtype=float32),\n",
       "  array(3.0720086, dtype=float32),\n",
       "  array(3.0694, dtype=float32),\n",
       "  array(3.0580566, dtype=float32),\n",
       "  array(3.0432024, dtype=float32),\n",
       "  array(3.0265777, dtype=float32),\n",
       "  array(3.0068092, dtype=float32),\n",
       "  array(2.9813695, dtype=float32),\n",
       "  array(2.9760823, dtype=float32),\n",
       "  array(2.9620683, dtype=float32),\n",
       "  array(2.959152, dtype=float32),\n",
       "  array(2.960076, dtype=float32),\n",
       "  array(2.9288657, dtype=float32),\n",
       "  array(2.9140308, dtype=float32),\n",
       "  array(2.9114914, dtype=float32),\n",
       "  array(2.8924387, dtype=float32),\n",
       "  array(2.8763862, dtype=float32),\n",
       "  array(2.8748856, dtype=float32),\n",
       "  array(2.8480844, dtype=float32),\n",
       "  array(2.8346364, dtype=float32),\n",
       "  array(2.8215632, dtype=float32),\n",
       "  array(2.825727, dtype=float32),\n",
       "  array(2.7987053, dtype=float32),\n",
       "  array(2.7764611, dtype=float32),\n",
       "  array(2.777007, dtype=float32),\n",
       "  array(2.775749, dtype=float32),\n",
       "  array(2.7527223, dtype=float32),\n",
       "  array(2.7532392, dtype=float32),\n",
       "  array(2.7510266, dtype=float32),\n",
       "  array(2.7261066, dtype=float32),\n",
       "  array(2.7203014, dtype=float32),\n",
       "  array(2.7192242, dtype=float32),\n",
       "  array(2.696773, dtype=float32),\n",
       "  array(2.7001443, dtype=float32),\n",
       "  array(2.6820958, dtype=float32),\n",
       "  array(2.670973, dtype=float32),\n",
       "  array(2.6462853, dtype=float32),\n",
       "  array(2.639333, dtype=float32),\n",
       "  array(2.6467505, dtype=float32),\n",
       "  array(2.6350372, dtype=float32),\n",
       "  array(2.6317177, dtype=float32),\n",
       "  array(2.6240368, dtype=float32),\n",
       "  array(2.6004646, dtype=float32),\n",
       "  array(2.6008532, dtype=float32),\n",
       "  array(2.581109, dtype=float32),\n",
       "  array(2.564605, dtype=float32),\n",
       "  array(2.5616484, dtype=float32),\n",
       "  array(2.5550551, dtype=float32),\n",
       "  array(2.5454252, dtype=float32),\n",
       "  array(2.5334327, dtype=float32),\n",
       "  array(2.5198689, dtype=float32),\n",
       "  array(2.5173945, dtype=float32),\n",
       "  array(2.5121794, dtype=float32),\n",
       "  array(2.5059829, dtype=float32),\n",
       "  array(2.4998736, dtype=float32),\n",
       "  array(2.4873173, dtype=float32),\n",
       "  array(2.4841938, dtype=float32),\n",
       "  array(2.458607, dtype=float32),\n",
       "  array(2.4752917, dtype=float32),\n",
       "  array(2.4428992, dtype=float32),\n",
       "  array(2.4457376, dtype=float32),\n",
       "  array(2.4344144, dtype=float32),\n",
       "  array(2.4275558, dtype=float32),\n",
       "  array(2.4130418, dtype=float32),\n",
       "  array(2.4017713, dtype=float32),\n",
       "  array(2.3941162, dtype=float32),\n",
       "  array(2.3988233, dtype=float32),\n",
       "  array(2.3808384, dtype=float32),\n",
       "  array(2.3822722, dtype=float32),\n",
       "  array(2.363066, dtype=float32),\n",
       "  array(2.3519914, dtype=float32),\n",
       "  array(2.363643, dtype=float32),\n",
       "  array(2.3479543, dtype=float32),\n",
       "  array(2.3293948, dtype=float32),\n",
       "  array(2.340038, dtype=float32),\n",
       "  array(2.3215952, dtype=float32),\n",
       "  array(2.321644, dtype=float32),\n",
       "  array(2.3253007, dtype=float32),\n",
       "  array(2.2942603, dtype=float32),\n",
       "  array(2.2969186, dtype=float32),\n",
       "  array(2.289035, dtype=float32),\n",
       "  array(2.269009, dtype=float32),\n",
       "  array(2.2675507, dtype=float32),\n",
       "  array(2.2610898, dtype=float32),\n",
       "  array(2.2701128, dtype=float32),\n",
       "  array(2.2517042, dtype=float32),\n",
       "  array(2.2435648, dtype=float32)],\n",
       " 'AUC Train': [0.9557490521060699,\n",
       "  0.9535638345408787,\n",
       "  0.9510279271672526,\n",
       "  0.9484060341613614,\n",
       "  0.9451193038015941,\n",
       "  0.9428205141756547,\n",
       "  0.9405580453136375,\n",
       "  0.9385941346955944,\n",
       "  0.9376289617398568,\n",
       "  0.936525108453924,\n",
       "  0.9362335835553232,\n",
       "  0.9362919927856391,\n",
       "  0.9364071097351627,\n",
       "  0.9370490478253601,\n",
       "  0.9374489851054527,\n",
       "  0.9382742716883409,\n",
       "  0.9392032699267494,\n",
       "  0.9401755940114594,\n",
       "  0.9409291865738763,\n",
       "  0.9416965158386283,\n",
       "  0.9427474551525499,\n",
       "  0.9434699979220009,\n",
       "  0.9444266921203164,\n",
       "  0.9451802412813641,\n",
       "  0.9457881458400803,\n",
       "  0.9462086943205603,\n",
       "  0.9467697269777584,\n",
       "  0.9475366004295587,\n",
       "  0.9479502927188587,\n",
       "  0.9483911967231329,\n",
       "  0.9489892327230226,\n",
       "  0.9491691533524799,\n",
       "  0.9496198269880602,\n",
       "  0.9500635880613766,\n",
       "  0.950571950354703,\n",
       "  0.9510119646731555,\n",
       "  0.9513676832526281,\n",
       "  0.951549341950609,\n",
       "  0.9519290633179308,\n",
       "  0.9520782967572307,\n",
       "  0.952413361410893,\n",
       "  0.9526389294796839,\n",
       "  0.9525363655523891,\n",
       "  0.9529858876857115,\n",
       "  0.9524706576819579,\n",
       "  0.9525732954422763,\n",
       "  0.9524859688316264,\n",
       "  0.9519327974128887,\n",
       "  0.9516892231975345,\n",
       "  0.9511082620736223,\n",
       "  0.9506993490749396,\n",
       "  0.949621883863721,\n",
       "  0.9488188193873934,\n",
       "  0.9481443690808724,\n",
       "  0.9472396275184656,\n",
       "  0.9463847804911538,\n",
       "  0.9454605283938419,\n",
       "  0.9447021628637196,\n",
       "  0.943614731518046,\n",
       "  0.9425585997978139,\n",
       "  0.9418904051466555,\n",
       "  0.940484694225511,\n",
       "  0.939912385140607,\n",
       "  0.939166553945622,\n",
       "  0.9383853024313444,\n",
       "  0.9380107861443217,\n",
       "  0.9373475855797195,\n",
       "  0.9363690811513027,\n",
       "  0.9362108030187514,\n",
       "  0.935814770326925,\n",
       "  0.9354259238428542,\n",
       "  0.9349736405684996,\n",
       "  0.9346288274913387,\n",
       "  0.9343265657671298,\n",
       "  0.9340996773222267,\n",
       "  0.9332893309636129,\n",
       "  0.9335059671094847,\n",
       "  0.9332556118174555,\n",
       "  0.933095171572893,\n",
       "  0.9326059096419601,\n",
       "  0.9332386952959222,\n",
       "  0.9322364384190913,\n",
       "  0.9329930750482085,\n",
       "  0.9330157799914804,\n",
       "  0.9330340487853303,\n",
       "  0.9327723871690647,\n",
       "  0.9330157788226571,\n",
       "  0.933255456927235,\n",
       "  0.9333102141477914,\n",
       "  0.9330550989985936,\n",
       "  0.9335143864963126,\n",
       "  0.9335558372964402,\n",
       "  0.9334603571569926,\n",
       "  0.9337990323764722,\n",
       "  0.9337129959778421,\n",
       "  0.9343610277216656,\n",
       "  0.9345113895402357,\n",
       "  0.9344501645439974,\n",
       "  0.9349066250945202,\n",
       "  0.934954033063501,\n",
       "  0.9344686011837005,\n",
       "  0.9349592489307723,\n",
       "  0.9357943640226836,\n",
       "  0.9352688176176821,\n",
       "  0.9348503637531841,\n",
       "  0.935162389532144,\n",
       "  0.9363847726191987,\n",
       "  0.9359146400459286,\n",
       "  0.9357510019146933,\n",
       "  0.9362824847736182,\n",
       "  0.936579598591298,\n",
       "  0.9366998124979173,\n",
       "  0.9365962517051056,\n",
       "  0.9369263495072042,\n",
       "  0.9374352017910047,\n",
       "  0.9373848987873452,\n",
       "  0.9373939136263127,\n",
       "  0.937934532262219,\n",
       "  0.937864017077574,\n",
       "  0.9377023747333755,\n",
       "  0.9384341494331334,\n",
       "  0.9385568073353485,\n",
       "  0.9381355251154331,\n",
       "  0.9384261781703713,\n",
       "  0.9388367206778259,\n",
       "  0.9382629749540895,\n",
       "  0.9391713937052462,\n",
       "  0.939386554965005,\n",
       "  0.9393783034521948,\n",
       "  0.9393937643661595,\n",
       "  0.9396095740975763,\n",
       "  0.9395420429190084,\n",
       "  0.9398567715104895,\n",
       "  0.9403287009595896,\n",
       "  0.9397788538998467,\n",
       "  0.939549226085007,\n",
       "  0.9404245494896335,\n",
       "  0.9402132268993191,\n",
       "  0.9405533059179192,\n",
       "  0.9405693668325774,\n",
       "  0.9405356175364097,\n",
       "  0.9406559947966574,\n",
       "  0.9407712493012022,\n",
       "  0.9408937262751914,\n",
       "  0.9412457875922402,\n",
       "  0.9416186269134459,\n",
       "  0.9410787833905061,\n",
       "  0.9414684585281032,\n",
       "  0.9417749435350581],\n",
       " 'AUC Validation': [0.944063422400834,\n",
       "  0.9446960605188941,\n",
       "  0.9440258374574015,\n",
       "  0.9424825517997821,\n",
       "  0.940616972863624,\n",
       "  0.9386637203633194,\n",
       "  0.9368068332495392,\n",
       "  0.9352102203817828,\n",
       "  0.9340225341863264,\n",
       "  0.9331726167333106,\n",
       "  0.9326022509301557,\n",
       "  0.9322923964309198,\n",
       "  0.9322016158760301,\n",
       "  0.9322900709200066,\n",
       "  0.932567855902662,\n",
       "  0.9329615757165839,\n",
       "  0.9334623654781171,\n",
       "  0.9340199076208997,\n",
       "  0.9345997917943039,\n",
       "  0.935193348709972,\n",
       "  0.9358055872299758,\n",
       "  0.9364263300893069,\n",
       "  0.9370379565853144,\n",
       "  0.9376441397633357,\n",
       "  0.9382193648026662,\n",
       "  0.938766315955825,\n",
       "  0.939281015517518,\n",
       "  0.939781641231382,\n",
       "  0.9402361163699506,\n",
       "  0.9406538340143186,\n",
       "  0.9410519254282129,\n",
       "  0.941444857452779,\n",
       "  0.9418429948360751,\n",
       "  0.9422360818947021,\n",
       "  0.9426010663257128,\n",
       "  0.9429837534832097,\n",
       "  0.9432684302706873,\n",
       "  0.943569654240081,\n",
       "  0.9438109963034617,\n",
       "  0.9440645968739811,\n",
       "  0.9442473018106399,\n",
       "  0.9443745279888869,\n",
       "  0.9444858748935845,\n",
       "  0.9445101719758227,\n",
       "  0.9444495897124532,\n",
       "  0.9443199695198711,\n",
       "  0.9441167649341048,\n",
       "  0.9438684138889952,\n",
       "  0.9434126254677133,\n",
       "  0.9429578799208992,\n",
       "  0.9424575336288887,\n",
       "  0.9418416545125372,\n",
       "  0.9411296254348966,\n",
       "  0.9403604590949373,\n",
       "  0.9397004926182047,\n",
       "  0.9389069841279662,\n",
       "  0.938054778119831,\n",
       "  0.9371677741759159,\n",
       "  0.9363394389063515,\n",
       "  0.935365557299893,\n",
       "  0.934568460492234,\n",
       "  0.9337756136008366,\n",
       "  0.9330889704493037,\n",
       "  0.9323454775695531,\n",
       "  0.9316604577688552,\n",
       "  0.9309400865968347,\n",
       "  0.9304174289204705,\n",
       "  0.9298714061689551,\n",
       "  0.9293557214198873,\n",
       "  0.9288378544762763,\n",
       "  0.928415700333957,\n",
       "  0.928091775592336,\n",
       "  0.9278130558985113,\n",
       "  0.9274958778426208,\n",
       "  0.9272015591984617,\n",
       "  0.9269030825768446,\n",
       "  0.9267774644262992,\n",
       "  0.9266444055421923,\n",
       "  0.9265235015087302,\n",
       "  0.9264633708271313,\n",
       "  0.9263706018702746,\n",
       "  0.9262911351963856,\n",
       "  0.9263004300291515,\n",
       "  0.9262983199434742,\n",
       "  0.92638613592263,\n",
       "  0.9263786510223887,\n",
       "  0.9264542815046319,\n",
       "  0.9264835910543847,\n",
       "  0.9265842865782838,\n",
       "  0.9266928437712467,\n",
       "  0.9267069221258792,\n",
       "  0.9268625862379667,\n",
       "  0.9270248852670433,\n",
       "  0.9271740343431307,\n",
       "  0.9273202377720617,\n",
       "  0.9274494514509143,\n",
       "  0.9274885245410589,\n",
       "  0.9276518898799844,\n",
       "  0.9278354736434418,\n",
       "  0.9280115003977922,\n",
       "  0.9281141374528954,\n",
       "  0.9282218834211211,\n",
       "  0.9284249014251978,\n",
       "  0.9286334907404971,\n",
       "  0.9287560316452064,\n",
       "  0.9288007788017068,\n",
       "  0.928981135693432,\n",
       "  0.9291797162981966,\n",
       "  0.9293360338968779,\n",
       "  0.929512306722732,\n",
       "  0.9296610952544917,\n",
       "  0.929883182448056,\n",
       "  0.9300274858083803,\n",
       "  0.9301492524441464,\n",
       "  0.9303014382048331,\n",
       "  0.9304451800173671,\n",
       "  0.9306572585003969,\n",
       "  0.9308723322054282,\n",
       "  0.9310440756931665,\n",
       "  0.931234985717361,\n",
       "  0.9313772619172032,\n",
       "  0.9315076031984407,\n",
       "  0.9315961384635302,\n",
       "  0.9317714792822973,\n",
       "  0.9318824539249768,\n",
       "  0.9319841427484986,\n",
       "  0.9321990650249121,\n",
       "  0.9323639852112504,\n",
       "  0.9324506303227024,\n",
       "  0.9326997051605495,\n",
       "  0.932915351229701,\n",
       "  0.933046526269696,\n",
       "  0.9331909233715455,\n",
       "  0.9333003080137402,\n",
       "  0.9333990313601672,\n",
       "  0.9335988846864083,\n",
       "  0.9337730897905435,\n",
       "  0.9339439914072768,\n",
       "  0.9340793812104616,\n",
       "  0.9341872524678413,\n",
       "  0.9342750224775952,\n",
       "  0.9344015482984855,\n",
       "  0.9345084244535209,\n",
       "  0.93460109696477,\n",
       "  0.9346876807836861,\n",
       "  0.9347739121705221,\n",
       "  0.9349205734907491,\n",
       "  0.9350573613045641,\n",
       "  0.9352115273549704],\n",
       " 'AUC Test': [0.9464651897707612,\n",
       "  0.9473247900446944,\n",
       "  0.9469742908376586,\n",
       "  0.9458946637110727,\n",
       "  0.9444750964172434,\n",
       "  0.9429658178344867,\n",
       "  0.9415086604310842,\n",
       "  0.9402932300677623,\n",
       "  0.9394237195429642,\n",
       "  0.9388400771337947,\n",
       "  0.9384915387110727,\n",
       "  0.9383531331098616,\n",
       "  0.9384096345155709,\n",
       "  0.9386185400446942,\n",
       "  0.9389640417747981,\n",
       "  0.9393960712226068,\n",
       "  0.939888672325548,\n",
       "  0.9403959171352364,\n",
       "  0.9408894265426758,\n",
       "  0.9413645986519609,\n",
       "  0.941816032295271,\n",
       "  0.9422397139922145,\n",
       "  0.9426335036404268,\n",
       "  0.943000663206459,\n",
       "  0.9433293549956747,\n",
       "  0.9436319023933102,\n",
       "  0.9438889841046713,\n",
       "  0.944133607266436,\n",
       "  0.9443478490844868,\n",
       "  0.9445428534097463,\n",
       "  0.9447330071366781,\n",
       "  0.9449320781069781,\n",
       "  0.9451630568771626,\n",
       "  0.9454005559760668,\n",
       "  0.9456295162918108,\n",
       "  0.9458708459486737,\n",
       "  0.9460899915297,\n",
       "  0.9462535431084198,\n",
       "  0.9464741079152249,\n",
       "  0.9466896058607267,\n",
       "  0.9468494124855824,\n",
       "  0.9469150239691464,\n",
       "  0.9469145490916957,\n",
       "  0.9468903474625143,\n",
       "  0.9467679011678201,\n",
       "  0.946623753784602,\n",
       "  0.9463931660899655,\n",
       "  0.9460313058679354,\n",
       "  0.9456613520040368,\n",
       "  0.9449286881848327,\n",
       "  0.9443125108131488,\n",
       "  0.9434451818411187,\n",
       "  0.9426381307670126,\n",
       "  0.9418290936779123,\n",
       "  0.9409759515570935,\n",
       "  0.9399852319420415,\n",
       "  0.9390649933318915,\n",
       "  0.9381053570141293,\n",
       "  0.9371693564374278,\n",
       "  0.9361809697592272,\n",
       "  0.9351835712226068,\n",
       "  0.9342721219002308,\n",
       "  0.9335819852941176,\n",
       "  0.9327848156358132,\n",
       "  0.9321066221525376,\n",
       "  0.9315859221813727,\n",
       "  0.9308878973832181,\n",
       "  0.9302791955017301,\n",
       "  0.9297340749351211,\n",
       "  0.9292803669261823,\n",
       "  0.9289591596381199,\n",
       "  0.928579057634083,\n",
       "  0.9281828854887544,\n",
       "  0.9279740015859286,\n",
       "  0.9276849895472895,\n",
       "  0.9275028519679931,\n",
       "  0.9273255604815455,\n",
       "  0.9270936779123414,\n",
       "  0.927021470408016,\n",
       "  0.9269459144319492,\n",
       "  0.9269742881343714,\n",
       "  0.9270558012543252,\n",
       "  0.9270216515282583,\n",
       "  0.9270520274653979,\n",
       "  0.9270576728301614,\n",
       "  0.9271338712874855,\n",
       "  0.9271660908664937,\n",
       "  0.9272089199466552,\n",
       "  0.9272625468569781,\n",
       "  0.9273694897995963,\n",
       "  0.9274627631199539,\n",
       "  0.9275577557309689,\n",
       "  0.9276393643670705,\n",
       "  0.927748272599481,\n",
       "  0.9278092425389273,\n",
       "  0.9279228598976356,\n",
       "  0.9280754838884083,\n",
       "  0.9281107599841407,\n",
       "  0.9282243611231258,\n",
       "  0.9284300335207611,\n",
       "  0.9285490511461937,\n",
       "  0.9287345417027105,\n",
       "  0.9289102878099769,\n",
       "  0.929074080882353,\n",
       "  0.9292486393454442,\n",
       "  0.9294655772419262,\n",
       "  0.9296747765282584,\n",
       "  0.9299316248558247,\n",
       "  0.9301670171929065,\n",
       "  0.9303027961000576,\n",
       "  0.930523332972895,\n",
       "  0.9307510056228374,\n",
       "  0.9309242502883507,\n",
       "  0.9310206215758363,\n",
       "  0.9311748197808535,\n",
       "  0.9313281961865629,\n",
       "  0.931471861483564,\n",
       "  0.9316219128460208,\n",
       "  0.9318070411620532,\n",
       "  0.9319199592704728,\n",
       "  0.9320874252090541,\n",
       "  0.9322194411404268,\n",
       "  0.9323625513624567,\n",
       "  0.9325388453359285,\n",
       "  0.9327087847822952,\n",
       "  0.9327790540297001,\n",
       "  0.9328225940743945,\n",
       "  0.9329739988826413,\n",
       "  0.9331706882569204,\n",
       "  0.9333357410611304,\n",
       "  0.9334329404555939,\n",
       "  0.9335966181877163,\n",
       "  0.9337738790369089,\n",
       "  0.9339256064374278,\n",
       "  0.9340613880478661,\n",
       "  0.9341546199178201,\n",
       "  0.934303216010669,\n",
       "  0.9344788936346597,\n",
       "  0.9346568348111303,\n",
       "  0.9347762083693771,\n",
       "  0.9348969083405421,\n",
       "  0.9350759894031142,\n",
       "  0.9352214758145905,\n",
       "  0.935322349877451,\n",
       "  0.935374080882353,\n",
       "  0.935462055759804,\n",
       "  0.9355529501874279,\n",
       "  0.9356701358852364,\n",
       "  0.9357655348904268],\n",
       " 'ROC AUC Score': 0.9473247900446944,\n",
       " 'ROC FPR': array([0.        , 0.        , 0.        , ..., 0.98941176, 0.98946078,\n",
       "        1.        ]),\n",
       " 'ROC TPR': array([0.00000000e+00, 7.35294118e-05, 1.69117647e-03, ...,\n",
       "        1.00000000e+00, 1.00000000e+00, 1.00000000e+00]),\n",
       " 'ROC Thresholds': array([1.7549489 , 0.75494885, 0.7515214 , ..., 0.6660576 , 0.6660553 ,\n",
       "        0.6322188 ], dtype=float32),\n",
       " 'True Labels': array([1, 1, 1, ..., 0, 0, 0], dtype=int64),\n",
       " 'Predicted Labels': array([ True,  True,  True, ...,  True, False,  True]),\n",
       " 'F1 Score': 0.7046700574674681}"
      ]
     },
     "execution_count": 25,
     "metadata": {},
     "output_type": "execute_result"
    }
   ],
   "source": [
    "performance_scores"
   ]
  },
  {
   "cell_type": "code",
   "execution_count": 26,
   "metadata": {
    "execution": {
     "iopub.execute_input": "2024-07-26T10:40:04.633669Z",
     "iopub.status.busy": "2024-07-26T10:40:04.633669Z",
     "iopub.status.idle": "2024-07-26T10:40:04.797346Z",
     "shell.execute_reply": "2024-07-26T10:40:04.796343Z"
    }
   },
   "outputs": [
    {
     "data": {
      "text/plain": [
       "array([[40800,     0],\n",
       "       [27200,     0]], dtype=int64)"
      ]
     },
     "execution_count": 26,
     "metadata": {},
     "output_type": "execute_result"
    }
   ],
   "source": [
    "def test_cm(model, dataloader, args, threshold):\n",
    "    model.eval()\n",
    "    for batch in dataloader:\n",
    "        feat, edge_index, edge_label_index = batch.node_feature, batch.edge_index, batch.edge_label_index\n",
    "        batch.to(args[\"device\"])\n",
    "        pred, x = model(feat, edge_index, edge_label_index, training = False)\n",
    "        pred = torch.sigmoid(pred) > threshold\n",
    "        score = confusion_matrix(batch.edge_label.flatten().cpu().numpy(), pred.flatten().data.cpu().numpy())\n",
    "    return score\n",
    "\n",
    "table = test_cm(best_model, dataloaders['test'], args, 0.8)\n",
    "table"
   ]
  },
  {
   "cell_type": "code",
   "execution_count": 27,
   "metadata": {
    "execution": {
     "iopub.execute_input": "2024-07-26T10:40:04.801348Z",
     "iopub.status.busy": "2024-07-26T10:40:04.801348Z",
     "iopub.status.idle": "2024-07-26T10:40:04.843349Z",
     "shell.execute_reply": "2024-07-26T10:40:04.842348Z"
    }
   },
   "outputs": [
    {
     "data": {
      "text/plain": [
       "{'Loss': [array(5.2618847, dtype=float32),\n",
       "  array(5.2767024, dtype=float32),\n",
       "  array(5.1688833, dtype=float32),\n",
       "  array(5.105834, dtype=float32),\n",
       "  array(4.9977493, dtype=float32),\n",
       "  array(4.883177, dtype=float32),\n",
       "  array(4.7944894, dtype=float32),\n",
       "  array(4.694866, dtype=float32),\n",
       "  array(4.610818, dtype=float32),\n",
       "  array(4.5683594, dtype=float32),\n",
       "  array(4.4936314, dtype=float32),\n",
       "  array(4.433958, dtype=float32),\n",
       "  array(4.382483, dtype=float32),\n",
       "  array(4.32425, dtype=float32),\n",
       "  array(4.2616663, dtype=float32),\n",
       "  array(4.241152, dtype=float32),\n",
       "  array(4.1851945, dtype=float32),\n",
       "  array(4.1460915, dtype=float32),\n",
       "  array(4.0776267, dtype=float32),\n",
       "  array(4.069779, dtype=float32),\n",
       "  array(4.02176, dtype=float32),\n",
       "  array(4.004244, dtype=float32),\n",
       "  array(3.9417436, dtype=float32),\n",
       "  array(3.9059858, dtype=float32),\n",
       "  array(3.9087682, dtype=float32),\n",
       "  array(3.8719647, dtype=float32),\n",
       "  array(3.848487, dtype=float32),\n",
       "  array(3.814091, dtype=float32),\n",
       "  array(3.771008, dtype=float32),\n",
       "  array(3.7223685, dtype=float32),\n",
       "  array(3.6980593, dtype=float32),\n",
       "  array(3.6789494, dtype=float32),\n",
       "  array(3.650385, dtype=float32),\n",
       "  array(3.626542, dtype=float32),\n",
       "  array(3.5966573, dtype=float32),\n",
       "  array(3.55545, dtype=float32),\n",
       "  array(3.5701718, dtype=float32),\n",
       "  array(3.5458639, dtype=float32),\n",
       "  array(3.5178435, dtype=float32),\n",
       "  array(3.498371, dtype=float32),\n",
       "  array(3.47849, dtype=float32),\n",
       "  array(3.4530222, dtype=float32),\n",
       "  array(3.4304912, dtype=float32),\n",
       "  array(3.420723, dtype=float32),\n",
       "  array(3.3980198, dtype=float32),\n",
       "  array(3.381038, dtype=float32),\n",
       "  array(3.3520823, dtype=float32),\n",
       "  array(3.3392532, dtype=float32),\n",
       "  array(3.3015957, dtype=float32),\n",
       "  array(3.3000164, dtype=float32),\n",
       "  array(3.278078, dtype=float32),\n",
       "  array(3.261562, dtype=float32),\n",
       "  array(3.2464235, dtype=float32),\n",
       "  array(3.2231958, dtype=float32),\n",
       "  array(3.2105305, dtype=float32),\n",
       "  array(3.1976404, dtype=float32),\n",
       "  array(3.1795862, dtype=float32),\n",
       "  array(3.166746, dtype=float32),\n",
       "  array(3.1446311, dtype=float32),\n",
       "  array(3.1276312, dtype=float32),\n",
       "  array(3.120491, dtype=float32),\n",
       "  array(3.1097393, dtype=float32),\n",
       "  array(3.088289, dtype=float32),\n",
       "  array(3.0720086, dtype=float32),\n",
       "  array(3.0694, dtype=float32),\n",
       "  array(3.0580566, dtype=float32),\n",
       "  array(3.0432024, dtype=float32),\n",
       "  array(3.0265777, dtype=float32),\n",
       "  array(3.0068092, dtype=float32),\n",
       "  array(2.9813695, dtype=float32),\n",
       "  array(2.9760823, dtype=float32),\n",
       "  array(2.9620683, dtype=float32),\n",
       "  array(2.959152, dtype=float32),\n",
       "  array(2.960076, dtype=float32),\n",
       "  array(2.9288657, dtype=float32),\n",
       "  array(2.9140308, dtype=float32),\n",
       "  array(2.9114914, dtype=float32),\n",
       "  array(2.8924387, dtype=float32),\n",
       "  array(2.8763862, dtype=float32),\n",
       "  array(2.8748856, dtype=float32),\n",
       "  array(2.8480844, dtype=float32),\n",
       "  array(2.8346364, dtype=float32),\n",
       "  array(2.8215632, dtype=float32),\n",
       "  array(2.825727, dtype=float32),\n",
       "  array(2.7987053, dtype=float32),\n",
       "  array(2.7764611, dtype=float32),\n",
       "  array(2.777007, dtype=float32),\n",
       "  array(2.775749, dtype=float32),\n",
       "  array(2.7527223, dtype=float32),\n",
       "  array(2.7532392, dtype=float32),\n",
       "  array(2.7510266, dtype=float32),\n",
       "  array(2.7261066, dtype=float32),\n",
       "  array(2.7203014, dtype=float32),\n",
       "  array(2.7192242, dtype=float32),\n",
       "  array(2.696773, dtype=float32),\n",
       "  array(2.7001443, dtype=float32),\n",
       "  array(2.6820958, dtype=float32),\n",
       "  array(2.670973, dtype=float32),\n",
       "  array(2.6462853, dtype=float32),\n",
       "  array(2.639333, dtype=float32),\n",
       "  array(2.6467505, dtype=float32),\n",
       "  array(2.6350372, dtype=float32),\n",
       "  array(2.6317177, dtype=float32),\n",
       "  array(2.6240368, dtype=float32),\n",
       "  array(2.6004646, dtype=float32),\n",
       "  array(2.6008532, dtype=float32),\n",
       "  array(2.581109, dtype=float32),\n",
       "  array(2.564605, dtype=float32),\n",
       "  array(2.5616484, dtype=float32),\n",
       "  array(2.5550551, dtype=float32),\n",
       "  array(2.5454252, dtype=float32),\n",
       "  array(2.5334327, dtype=float32),\n",
       "  array(2.5198689, dtype=float32),\n",
       "  array(2.5173945, dtype=float32),\n",
       "  array(2.5121794, dtype=float32),\n",
       "  array(2.5059829, dtype=float32),\n",
       "  array(2.4998736, dtype=float32),\n",
       "  array(2.4873173, dtype=float32),\n",
       "  array(2.4841938, dtype=float32),\n",
       "  array(2.458607, dtype=float32),\n",
       "  array(2.4752917, dtype=float32),\n",
       "  array(2.4428992, dtype=float32),\n",
       "  array(2.4457376, dtype=float32),\n",
       "  array(2.4344144, dtype=float32),\n",
       "  array(2.4275558, dtype=float32),\n",
       "  array(2.4130418, dtype=float32),\n",
       "  array(2.4017713, dtype=float32),\n",
       "  array(2.3941162, dtype=float32),\n",
       "  array(2.3988233, dtype=float32),\n",
       "  array(2.3808384, dtype=float32),\n",
       "  array(2.3822722, dtype=float32),\n",
       "  array(2.363066, dtype=float32),\n",
       "  array(2.3519914, dtype=float32),\n",
       "  array(2.363643, dtype=float32),\n",
       "  array(2.3479543, dtype=float32),\n",
       "  array(2.3293948, dtype=float32),\n",
       "  array(2.340038, dtype=float32),\n",
       "  array(2.3215952, dtype=float32),\n",
       "  array(2.321644, dtype=float32),\n",
       "  array(2.3253007, dtype=float32),\n",
       "  array(2.2942603, dtype=float32),\n",
       "  array(2.2969186, dtype=float32),\n",
       "  array(2.289035, dtype=float32),\n",
       "  array(2.269009, dtype=float32),\n",
       "  array(2.2675507, dtype=float32),\n",
       "  array(2.2610898, dtype=float32),\n",
       "  array(2.2701128, dtype=float32),\n",
       "  array(2.2517042, dtype=float32),\n",
       "  array(2.2435648, dtype=float32)],\n",
       " 'AUC Train': [0.9557490521060699,\n",
       "  0.9535638345408787,\n",
       "  0.9510279271672526,\n",
       "  0.9484060341613614,\n",
       "  0.9451193038015941,\n",
       "  0.9428205141756547,\n",
       "  0.9405580453136375,\n",
       "  0.9385941346955944,\n",
       "  0.9376289617398568,\n",
       "  0.936525108453924,\n",
       "  0.9362335835553232,\n",
       "  0.9362919927856391,\n",
       "  0.9364071097351627,\n",
       "  0.9370490478253601,\n",
       "  0.9374489851054527,\n",
       "  0.9382742716883409,\n",
       "  0.9392032699267494,\n",
       "  0.9401755940114594,\n",
       "  0.9409291865738763,\n",
       "  0.9416965158386283,\n",
       "  0.9427474551525499,\n",
       "  0.9434699979220009,\n",
       "  0.9444266921203164,\n",
       "  0.9451802412813641,\n",
       "  0.9457881458400803,\n",
       "  0.9462086943205603,\n",
       "  0.9467697269777584,\n",
       "  0.9475366004295587,\n",
       "  0.9479502927188587,\n",
       "  0.9483911967231329,\n",
       "  0.9489892327230226,\n",
       "  0.9491691533524799,\n",
       "  0.9496198269880602,\n",
       "  0.9500635880613766,\n",
       "  0.950571950354703,\n",
       "  0.9510119646731555,\n",
       "  0.9513676832526281,\n",
       "  0.951549341950609,\n",
       "  0.9519290633179308,\n",
       "  0.9520782967572307,\n",
       "  0.952413361410893,\n",
       "  0.9526389294796839,\n",
       "  0.9525363655523891,\n",
       "  0.9529858876857115,\n",
       "  0.9524706576819579,\n",
       "  0.9525732954422763,\n",
       "  0.9524859688316264,\n",
       "  0.9519327974128887,\n",
       "  0.9516892231975345,\n",
       "  0.9511082620736223,\n",
       "  0.9506993490749396,\n",
       "  0.949621883863721,\n",
       "  0.9488188193873934,\n",
       "  0.9481443690808724,\n",
       "  0.9472396275184656,\n",
       "  0.9463847804911538,\n",
       "  0.9454605283938419,\n",
       "  0.9447021628637196,\n",
       "  0.943614731518046,\n",
       "  0.9425585997978139,\n",
       "  0.9418904051466555,\n",
       "  0.940484694225511,\n",
       "  0.939912385140607,\n",
       "  0.939166553945622,\n",
       "  0.9383853024313444,\n",
       "  0.9380107861443217,\n",
       "  0.9373475855797195,\n",
       "  0.9363690811513027,\n",
       "  0.9362108030187514,\n",
       "  0.935814770326925,\n",
       "  0.9354259238428542,\n",
       "  0.9349736405684996,\n",
       "  0.9346288274913387,\n",
       "  0.9343265657671298,\n",
       "  0.9340996773222267,\n",
       "  0.9332893309636129,\n",
       "  0.9335059671094847,\n",
       "  0.9332556118174555,\n",
       "  0.933095171572893,\n",
       "  0.9326059096419601,\n",
       "  0.9332386952959222,\n",
       "  0.9322364384190913,\n",
       "  0.9329930750482085,\n",
       "  0.9330157799914804,\n",
       "  0.9330340487853303,\n",
       "  0.9327723871690647,\n",
       "  0.9330157788226571,\n",
       "  0.933255456927235,\n",
       "  0.9333102141477914,\n",
       "  0.9330550989985936,\n",
       "  0.9335143864963126,\n",
       "  0.9335558372964402,\n",
       "  0.9334603571569926,\n",
       "  0.9337990323764722,\n",
       "  0.9337129959778421,\n",
       "  0.9343610277216656,\n",
       "  0.9345113895402357,\n",
       "  0.9344501645439974,\n",
       "  0.9349066250945202,\n",
       "  0.934954033063501,\n",
       "  0.9344686011837005,\n",
       "  0.9349592489307723,\n",
       "  0.9357943640226836,\n",
       "  0.9352688176176821,\n",
       "  0.9348503637531841,\n",
       "  0.935162389532144,\n",
       "  0.9363847726191987,\n",
       "  0.9359146400459286,\n",
       "  0.9357510019146933,\n",
       "  0.9362824847736182,\n",
       "  0.936579598591298,\n",
       "  0.9366998124979173,\n",
       "  0.9365962517051056,\n",
       "  0.9369263495072042,\n",
       "  0.9374352017910047,\n",
       "  0.9373848987873452,\n",
       "  0.9373939136263127,\n",
       "  0.937934532262219,\n",
       "  0.937864017077574,\n",
       "  0.9377023747333755,\n",
       "  0.9384341494331334,\n",
       "  0.9385568073353485,\n",
       "  0.9381355251154331,\n",
       "  0.9384261781703713,\n",
       "  0.9388367206778259,\n",
       "  0.9382629749540895,\n",
       "  0.9391713937052462,\n",
       "  0.939386554965005,\n",
       "  0.9393783034521948,\n",
       "  0.9393937643661595,\n",
       "  0.9396095740975763,\n",
       "  0.9395420429190084,\n",
       "  0.9398567715104895,\n",
       "  0.9403287009595896,\n",
       "  0.9397788538998467,\n",
       "  0.939549226085007,\n",
       "  0.9404245494896335,\n",
       "  0.9402132268993191,\n",
       "  0.9405533059179192,\n",
       "  0.9405693668325774,\n",
       "  0.9405356175364097,\n",
       "  0.9406559947966574,\n",
       "  0.9407712493012022,\n",
       "  0.9408937262751914,\n",
       "  0.9412457875922402,\n",
       "  0.9416186269134459,\n",
       "  0.9410787833905061,\n",
       "  0.9414684585281032,\n",
       "  0.9417749435350581],\n",
       " 'AUC Validation': [0.944063422400834,\n",
       "  0.9446960605188941,\n",
       "  0.9440258374574015,\n",
       "  0.9424825517997821,\n",
       "  0.940616972863624,\n",
       "  0.9386637203633194,\n",
       "  0.9368068332495392,\n",
       "  0.9352102203817828,\n",
       "  0.9340225341863264,\n",
       "  0.9331726167333106,\n",
       "  0.9326022509301557,\n",
       "  0.9322923964309198,\n",
       "  0.9322016158760301,\n",
       "  0.9322900709200066,\n",
       "  0.932567855902662,\n",
       "  0.9329615757165839,\n",
       "  0.9334623654781171,\n",
       "  0.9340199076208997,\n",
       "  0.9345997917943039,\n",
       "  0.935193348709972,\n",
       "  0.9358055872299758,\n",
       "  0.9364263300893069,\n",
       "  0.9370379565853144,\n",
       "  0.9376441397633357,\n",
       "  0.9382193648026662,\n",
       "  0.938766315955825,\n",
       "  0.939281015517518,\n",
       "  0.939781641231382,\n",
       "  0.9402361163699506,\n",
       "  0.9406538340143186,\n",
       "  0.9410519254282129,\n",
       "  0.941444857452779,\n",
       "  0.9418429948360751,\n",
       "  0.9422360818947021,\n",
       "  0.9426010663257128,\n",
       "  0.9429837534832097,\n",
       "  0.9432684302706873,\n",
       "  0.943569654240081,\n",
       "  0.9438109963034617,\n",
       "  0.9440645968739811,\n",
       "  0.9442473018106399,\n",
       "  0.9443745279888869,\n",
       "  0.9444858748935845,\n",
       "  0.9445101719758227,\n",
       "  0.9444495897124532,\n",
       "  0.9443199695198711,\n",
       "  0.9441167649341048,\n",
       "  0.9438684138889952,\n",
       "  0.9434126254677133,\n",
       "  0.9429578799208992,\n",
       "  0.9424575336288887,\n",
       "  0.9418416545125372,\n",
       "  0.9411296254348966,\n",
       "  0.9403604590949373,\n",
       "  0.9397004926182047,\n",
       "  0.9389069841279662,\n",
       "  0.938054778119831,\n",
       "  0.9371677741759159,\n",
       "  0.9363394389063515,\n",
       "  0.935365557299893,\n",
       "  0.934568460492234,\n",
       "  0.9337756136008366,\n",
       "  0.9330889704493037,\n",
       "  0.9323454775695531,\n",
       "  0.9316604577688552,\n",
       "  0.9309400865968347,\n",
       "  0.9304174289204705,\n",
       "  0.9298714061689551,\n",
       "  0.9293557214198873,\n",
       "  0.9288378544762763,\n",
       "  0.928415700333957,\n",
       "  0.928091775592336,\n",
       "  0.9278130558985113,\n",
       "  0.9274958778426208,\n",
       "  0.9272015591984617,\n",
       "  0.9269030825768446,\n",
       "  0.9267774644262992,\n",
       "  0.9266444055421923,\n",
       "  0.9265235015087302,\n",
       "  0.9264633708271313,\n",
       "  0.9263706018702746,\n",
       "  0.9262911351963856,\n",
       "  0.9263004300291515,\n",
       "  0.9262983199434742,\n",
       "  0.92638613592263,\n",
       "  0.9263786510223887,\n",
       "  0.9264542815046319,\n",
       "  0.9264835910543847,\n",
       "  0.9265842865782838,\n",
       "  0.9266928437712467,\n",
       "  0.9267069221258792,\n",
       "  0.9268625862379667,\n",
       "  0.9270248852670433,\n",
       "  0.9271740343431307,\n",
       "  0.9273202377720617,\n",
       "  0.9274494514509143,\n",
       "  0.9274885245410589,\n",
       "  0.9276518898799844,\n",
       "  0.9278354736434418,\n",
       "  0.9280115003977922,\n",
       "  0.9281141374528954,\n",
       "  0.9282218834211211,\n",
       "  0.9284249014251978,\n",
       "  0.9286334907404971,\n",
       "  0.9287560316452064,\n",
       "  0.9288007788017068,\n",
       "  0.928981135693432,\n",
       "  0.9291797162981966,\n",
       "  0.9293360338968779,\n",
       "  0.929512306722732,\n",
       "  0.9296610952544917,\n",
       "  0.929883182448056,\n",
       "  0.9300274858083803,\n",
       "  0.9301492524441464,\n",
       "  0.9303014382048331,\n",
       "  0.9304451800173671,\n",
       "  0.9306572585003969,\n",
       "  0.9308723322054282,\n",
       "  0.9310440756931665,\n",
       "  0.931234985717361,\n",
       "  0.9313772619172032,\n",
       "  0.9315076031984407,\n",
       "  0.9315961384635302,\n",
       "  0.9317714792822973,\n",
       "  0.9318824539249768,\n",
       "  0.9319841427484986,\n",
       "  0.9321990650249121,\n",
       "  0.9323639852112504,\n",
       "  0.9324506303227024,\n",
       "  0.9326997051605495,\n",
       "  0.932915351229701,\n",
       "  0.933046526269696,\n",
       "  0.9331909233715455,\n",
       "  0.9333003080137402,\n",
       "  0.9333990313601672,\n",
       "  0.9335988846864083,\n",
       "  0.9337730897905435,\n",
       "  0.9339439914072768,\n",
       "  0.9340793812104616,\n",
       "  0.9341872524678413,\n",
       "  0.9342750224775952,\n",
       "  0.9344015482984855,\n",
       "  0.9345084244535209,\n",
       "  0.93460109696477,\n",
       "  0.9346876807836861,\n",
       "  0.9347739121705221,\n",
       "  0.9349205734907491,\n",
       "  0.9350573613045641,\n",
       "  0.9352115273549704],\n",
       " 'AUC Test': [0.9464651897707612,\n",
       "  0.9473247900446944,\n",
       "  0.9469742908376586,\n",
       "  0.9458946637110727,\n",
       "  0.9444750964172434,\n",
       "  0.9429658178344867,\n",
       "  0.9415086604310842,\n",
       "  0.9402932300677623,\n",
       "  0.9394237195429642,\n",
       "  0.9388400771337947,\n",
       "  0.9384915387110727,\n",
       "  0.9383531331098616,\n",
       "  0.9384096345155709,\n",
       "  0.9386185400446942,\n",
       "  0.9389640417747981,\n",
       "  0.9393960712226068,\n",
       "  0.939888672325548,\n",
       "  0.9403959171352364,\n",
       "  0.9408894265426758,\n",
       "  0.9413645986519609,\n",
       "  0.941816032295271,\n",
       "  0.9422397139922145,\n",
       "  0.9426335036404268,\n",
       "  0.943000663206459,\n",
       "  0.9433293549956747,\n",
       "  0.9436319023933102,\n",
       "  0.9438889841046713,\n",
       "  0.944133607266436,\n",
       "  0.9443478490844868,\n",
       "  0.9445428534097463,\n",
       "  0.9447330071366781,\n",
       "  0.9449320781069781,\n",
       "  0.9451630568771626,\n",
       "  0.9454005559760668,\n",
       "  0.9456295162918108,\n",
       "  0.9458708459486737,\n",
       "  0.9460899915297,\n",
       "  0.9462535431084198,\n",
       "  0.9464741079152249,\n",
       "  0.9466896058607267,\n",
       "  0.9468494124855824,\n",
       "  0.9469150239691464,\n",
       "  0.9469145490916957,\n",
       "  0.9468903474625143,\n",
       "  0.9467679011678201,\n",
       "  0.946623753784602,\n",
       "  0.9463931660899655,\n",
       "  0.9460313058679354,\n",
       "  0.9456613520040368,\n",
       "  0.9449286881848327,\n",
       "  0.9443125108131488,\n",
       "  0.9434451818411187,\n",
       "  0.9426381307670126,\n",
       "  0.9418290936779123,\n",
       "  0.9409759515570935,\n",
       "  0.9399852319420415,\n",
       "  0.9390649933318915,\n",
       "  0.9381053570141293,\n",
       "  0.9371693564374278,\n",
       "  0.9361809697592272,\n",
       "  0.9351835712226068,\n",
       "  0.9342721219002308,\n",
       "  0.9335819852941176,\n",
       "  0.9327848156358132,\n",
       "  0.9321066221525376,\n",
       "  0.9315859221813727,\n",
       "  0.9308878973832181,\n",
       "  0.9302791955017301,\n",
       "  0.9297340749351211,\n",
       "  0.9292803669261823,\n",
       "  0.9289591596381199,\n",
       "  0.928579057634083,\n",
       "  0.9281828854887544,\n",
       "  0.9279740015859286,\n",
       "  0.9276849895472895,\n",
       "  0.9275028519679931,\n",
       "  0.9273255604815455,\n",
       "  0.9270936779123414,\n",
       "  0.927021470408016,\n",
       "  0.9269459144319492,\n",
       "  0.9269742881343714,\n",
       "  0.9270558012543252,\n",
       "  0.9270216515282583,\n",
       "  0.9270520274653979,\n",
       "  0.9270576728301614,\n",
       "  0.9271338712874855,\n",
       "  0.9271660908664937,\n",
       "  0.9272089199466552,\n",
       "  0.9272625468569781,\n",
       "  0.9273694897995963,\n",
       "  0.9274627631199539,\n",
       "  0.9275577557309689,\n",
       "  0.9276393643670705,\n",
       "  0.927748272599481,\n",
       "  0.9278092425389273,\n",
       "  0.9279228598976356,\n",
       "  0.9280754838884083,\n",
       "  0.9281107599841407,\n",
       "  0.9282243611231258,\n",
       "  0.9284300335207611,\n",
       "  0.9285490511461937,\n",
       "  0.9287345417027105,\n",
       "  0.9289102878099769,\n",
       "  0.929074080882353,\n",
       "  0.9292486393454442,\n",
       "  0.9294655772419262,\n",
       "  0.9296747765282584,\n",
       "  0.9299316248558247,\n",
       "  0.9301670171929065,\n",
       "  0.9303027961000576,\n",
       "  0.930523332972895,\n",
       "  0.9307510056228374,\n",
       "  0.9309242502883507,\n",
       "  0.9310206215758363,\n",
       "  0.9311748197808535,\n",
       "  0.9313281961865629,\n",
       "  0.931471861483564,\n",
       "  0.9316219128460208,\n",
       "  0.9318070411620532,\n",
       "  0.9319199592704728,\n",
       "  0.9320874252090541,\n",
       "  0.9322194411404268,\n",
       "  0.9323625513624567,\n",
       "  0.9325388453359285,\n",
       "  0.9327087847822952,\n",
       "  0.9327790540297001,\n",
       "  0.9328225940743945,\n",
       "  0.9329739988826413,\n",
       "  0.9331706882569204,\n",
       "  0.9333357410611304,\n",
       "  0.9334329404555939,\n",
       "  0.9335966181877163,\n",
       "  0.9337738790369089,\n",
       "  0.9339256064374278,\n",
       "  0.9340613880478661,\n",
       "  0.9341546199178201,\n",
       "  0.934303216010669,\n",
       "  0.9344788936346597,\n",
       "  0.9346568348111303,\n",
       "  0.9347762083693771,\n",
       "  0.9348969083405421,\n",
       "  0.9350759894031142,\n",
       "  0.9352214758145905,\n",
       "  0.935322349877451,\n",
       "  0.935374080882353,\n",
       "  0.935462055759804,\n",
       "  0.9355529501874279,\n",
       "  0.9356701358852364,\n",
       "  0.9357655348904268],\n",
       " 'ROC AUC Score': 0.9473247900446944,\n",
       " 'ROC FPR': array([0.        , 0.        , 0.        , ..., 0.98941176, 0.98946078,\n",
       "        1.        ]),\n",
       " 'ROC TPR': array([0.00000000e+00, 7.35294118e-05, 1.69117647e-03, ...,\n",
       "        1.00000000e+00, 1.00000000e+00, 1.00000000e+00]),\n",
       " 'ROC Thresholds': array([1.7549489 , 0.75494885, 0.7515214 , ..., 0.6660576 , 0.6660553 ,\n",
       "        0.6322188 ], dtype=float32),\n",
       " 'True Labels': array([1, 1, 1, ..., 0, 0, 0], dtype=int64),\n",
       " 'Predicted Labels': array([ True,  True,  True, ...,  True, False,  True]),\n",
       " 'F1 Score': 0.7046700574674681}"
      ]
     },
     "execution_count": 27,
     "metadata": {},
     "output_type": "execute_result"
    }
   ],
   "source": [
    "performance_scores"
   ]
  },
  {
   "cell_type": "code",
   "execution_count": 28,
   "metadata": {
    "execution": {
     "iopub.execute_input": "2024-07-26T10:40:04.847354Z",
     "iopub.status.busy": "2024-07-26T10:40:04.847354Z",
     "iopub.status.idle": "2024-07-26T10:40:04.858626Z",
     "shell.execute_reply": "2024-07-26T10:40:04.857621Z"
    }
   },
   "outputs": [],
   "source": [
    "with open(f'{pred_output_dir}/{dataset_prefix}_{disease_prefix}_performance_scores_{embedding_method}.pkl', 'wb') as f:\n",
    "    pickle.dump(performance_scores, f)"
   ]
  },
  {
   "attachments": {},
   "cell_type": "markdown",
   "metadata": {},
   "source": [
    "# Hyperparameter Optimization of Node Embedding and GNN Training"
   ]
  },
  {
   "attachments": {},
   "cell_type": "markdown",
   "metadata": {},
   "source": [
    "The routine including node embedding and GNN training that needs to be optimized is contained in `hyperparam_opt.py`."
   ]
  },
  {
   "attachments": {},
   "cell_type": "markdown",
   "metadata": {},
   "source": [
    "# GNN Predictions"
   ]
  },
  {
   "attachments": {},
   "cell_type": "markdown",
   "metadata": {},
   "source": [
    "Load the Edge2Vec embedding"
   ]
  },
  {
   "cell_type": "code",
   "execution_count": 29,
   "metadata": {
    "execution": {
     "iopub.execute_input": "2024-07-26T10:40:04.862621Z",
     "iopub.status.busy": "2024-07-26T10:40:04.862621Z",
     "iopub.status.idle": "2024-07-26T10:40:04.888637Z",
     "shell.execute_reply": "2024-07-26T10:40:04.887626Z"
    }
   },
   "outputs": [
    {
     "data": {
      "text/html": [
       "<div>\n",
       "<style scoped>\n",
       "    .dataframe tbody tr th:only-of-type {\n",
       "        vertical-align: middle;\n",
       "    }\n",
       "\n",
       "    .dataframe tbody tr th {\n",
       "        vertical-align: top;\n",
       "    }\n",
       "\n",
       "    .dataframe thead th {\n",
       "        text-align: right;\n",
       "    }\n",
       "</style>\n",
       "<table border=\"1\" class=\"dataframe\">\n",
       "  <thead>\n",
       "    <tr style=\"text-align: right;\">\n",
       "      <th></th>\n",
       "      <th>Node</th>\n",
       "      <th>Embedding</th>\n",
       "    </tr>\n",
       "  </thead>\n",
       "  <tbody>\n",
       "    <tr>\n",
       "      <th>0</th>\n",
       "      <td>0</td>\n",
       "      <td>[0.060310576, 0.46537676, 0.04694983, 0.017187...</td>\n",
       "    </tr>\n",
       "    <tr>\n",
       "      <th>1</th>\n",
       "      <td>1</td>\n",
       "      <td>[0.01326424, 0.38757032, -0.06641213, -0.10599...</td>\n",
       "    </tr>\n",
       "    <tr>\n",
       "      <th>2</th>\n",
       "      <td>2</td>\n",
       "      <td>[-0.03756393, 0.29166058, 0.1691319, -0.150007...</td>\n",
       "    </tr>\n",
       "    <tr>\n",
       "      <th>3</th>\n",
       "      <td>3</td>\n",
       "      <td>[-0.0309075, 0.7155092, -0.13902342, 0.1877839...</td>\n",
       "    </tr>\n",
       "    <tr>\n",
       "      <th>4</th>\n",
       "      <td>4</td>\n",
       "      <td>[-0.022320645, 0.28345042, -0.022876412, -0.18...</td>\n",
       "    </tr>\n",
       "    <tr>\n",
       "      <th>...</th>\n",
       "      <td>...</td>\n",
       "      <td>...</td>\n",
       "    </tr>\n",
       "    <tr>\n",
       "      <th>14877</th>\n",
       "      <td>14877</td>\n",
       "      <td>[-0.060331568, 0.14974622, -0.23809075, 0.3225...</td>\n",
       "    </tr>\n",
       "    <tr>\n",
       "      <th>14878</th>\n",
       "      <td>14878</td>\n",
       "      <td>[0.12134756, 0.33623686, 0.088746436, -0.19336...</td>\n",
       "    </tr>\n",
       "    <tr>\n",
       "      <th>14879</th>\n",
       "      <td>14879</td>\n",
       "      <td>[-0.042873338, 0.4756828, 0.016947206, -0.5295...</td>\n",
       "    </tr>\n",
       "    <tr>\n",
       "      <th>14880</th>\n",
       "      <td>14880</td>\n",
       "      <td>[-0.048496816, 0.38779512, 0.075792305, -0.097...</td>\n",
       "    </tr>\n",
       "    <tr>\n",
       "      <th>14881</th>\n",
       "      <td>14881</td>\n",
       "      <td>[0.14574188, 0.50985837, -0.16407561, 0.114188...</td>\n",
       "    </tr>\n",
       "  </tbody>\n",
       "</table>\n",
       "<p>14882 rows × 2 columns</p>\n",
       "</div>"
      ],
      "text/plain": [
       "        Node                                          Embedding\n",
       "0          0  [0.060310576, 0.46537676, 0.04694983, 0.017187...\n",
       "1          1  [0.01326424, 0.38757032, -0.06641213, -0.10599...\n",
       "2          2  [-0.03756393, 0.29166058, 0.1691319, -0.150007...\n",
       "3          3  [-0.0309075, 0.7155092, -0.13902342, 0.1877839...\n",
       "4          4  [-0.022320645, 0.28345042, -0.022876412, -0.18...\n",
       "...      ...                                                ...\n",
       "14877  14877  [-0.060331568, 0.14974622, -0.23809075, 0.3225...\n",
       "14878  14878  [0.12134756, 0.33623686, 0.088746436, -0.19336...\n",
       "14879  14879  [-0.042873338, 0.4756828, 0.016947206, -0.5295...\n",
       "14880  14880  [-0.048496816, 0.38779512, 0.075792305, -0.097...\n",
       "14881  14881  [0.14574188, 0.50985837, -0.16407561, 0.114188...\n",
       "\n",
       "[14882 rows x 2 columns]"
      ]
     },
     "execution_count": 29,
     "metadata": {},
     "output_type": "execute_result"
    }
   ],
   "source": [
    "embedding"
   ]
  },
  {
   "attachments": {},
   "cell_type": "markdown",
   "metadata": {},
   "source": [
    "Initialize a graph with nodes and their embedding features."
   ]
  },
  {
   "cell_type": "code",
   "execution_count": 30,
   "metadata": {
    "execution": {
     "iopub.execute_input": "2024-07-26T10:40:04.892627Z",
     "iopub.status.busy": "2024-07-26T10:40:04.892627Z",
     "iopub.status.idle": "2024-07-26T10:40:04.919146Z",
     "shell.execute_reply": "2024-07-26T10:40:04.918142Z"
    }
   },
   "outputs": [
    {
     "name": "stdout",
     "output_type": "stream",
     "text": [
      "(0, {'node_feature': tensor([ 6.0311e-02,  4.6538e-01,  4.6950e-02,  1.7188e-02, -1.3696e-01,\n",
      "         2.0356e-01, -1.4224e-01, -9.3678e-02, -2.9793e-01, -1.6142e-01,\n",
      "        -1.2147e-01,  1.1430e-01, -1.1819e-01, -2.0020e-01, -1.2888e-01,\n",
      "         6.8334e-02, -2.9511e-01,  2.5092e-01, -4.4035e-03,  1.1515e-01,\n",
      "         3.6251e-02, -3.0889e-01, -2.0454e-01,  3.1539e-01, -1.9949e-01,\n",
      "        -3.3451e-01,  8.9658e-02,  2.0776e-01,  1.1154e-01, -1.1209e-01,\n",
      "         7.7462e-02,  4.2987e-02, -2.2446e-01,  2.8383e-01,  9.2844e-02,\n",
      "        -1.2970e-01, -1.9174e-02, -8.8442e-03,  5.4577e-01,  4.0962e-01,\n",
      "        -1.8246e-01,  3.1822e-01, -5.5790e-03,  2.7182e-04, -1.3211e-01,\n",
      "         1.6434e-01,  2.5869e-01,  2.2098e-02,  3.1892e-01,  6.9077e-02,\n",
      "         5.6164e-02, -1.3801e-01, -1.6962e-01,  1.9150e-01, -2.4319e-01,\n",
      "         5.2057e-02, -5.1259e-02, -1.4366e-01, -9.1949e-02,  1.2343e-01,\n",
      "         5.2144e-03,  9.8827e-02, -1.7759e-01, -1.3967e-01, -1.5101e-02,\n",
      "        -1.8972e-01, -1.1260e-01,  2.1681e-01, -2.1834e-01,  1.7489e-01,\n",
      "         2.7523e-01,  1.5840e-01, -5.3578e-02, -2.9066e-01,  1.6674e-01,\n",
      "         1.8447e-01, -3.0509e-01, -3.8427e-02,  1.1319e-01,  8.7480e-02,\n",
      "        -5.8887e-02, -4.7778e-02,  9.8504e-02,  2.4475e-01, -1.6941e-01,\n",
      "        -3.9024e-01, -7.6614e-02, -1.8730e-01, -2.7363e-01, -5.0449e-01,\n",
      "        -4.0206e-01, -1.5374e-01,  6.0666e-02,  1.9586e-01, -3.1807e-01,\n",
      "        -3.4623e-02, -2.8995e-04,  1.3988e-01, -5.8706e-02,  2.0627e-01,\n",
      "         9.9479e-03, -1.0655e-01, -1.3626e-01, -8.3861e-02,  1.3675e-01,\n",
      "         1.4010e-01, -2.1047e-01, -8.0001e-03, -3.2628e-02, -2.0608e-01,\n",
      "         1.6168e-01, -7.6131e-02, -2.2729e-01, -2.7718e-01, -5.0072e-02,\n",
      "        -1.1637e-01,  1.0007e-03,  1.2338e-01,  7.2714e-02,  4.3897e-02,\n",
      "         1.1445e-01, -1.9176e-01,  5.8978e-02, -1.1802e-01, -1.0747e-01,\n",
      "        -9.7361e-02,  9.9553e-02,  2.2662e-01])})\n",
      "(0, 9263, {})\n",
      "Number of edges is 135988\n",
      "Number of nodes is 14882\n"
     ]
    }
   ],
   "source": [
    "for node in embedded_node_G.nodes(data=True):\n",
    "    print(node)\n",
    "    break\n",
    "for edge in embedded_node_G.edges(data=True):\n",
    "    print(edge)\n",
    "    break\n",
    "\n",
    "print(\"Number of edges is {}\".format(embedded_node_G.number_of_edges()))\n",
    "print(\"Number of nodes is {}\".format(embedded_node_G.number_of_nodes()))"
   ]
  },
  {
   "cell_type": "code",
   "execution_count": 31,
   "metadata": {
    "execution": {
     "iopub.execute_input": "2024-07-26T10:40:04.923149Z",
     "iopub.status.busy": "2024-07-26T10:40:04.923149Z",
     "iopub.status.idle": "2024-07-26T10:40:05.119713Z",
     "shell.execute_reply": "2024-07-26T10:40:05.118709Z"
    }
   },
   "outputs": [
    {
     "name": "stdout",
     "output_type": "stream",
     "text": [
      "torch.Size([2, 271976])\n"
     ]
    }
   ],
   "source": [
    "DeepG = Graph(embedded_node_G)\n",
    "print(DeepG.edge_index.shape)"
   ]
  },
  {
   "attachments": {},
   "cell_type": "markdown",
   "metadata": {},
   "source": [
    "Load arguments and parameters of trained GNN model."
   ]
  },
  {
   "cell_type": "code",
   "execution_count": 32,
   "metadata": {
    "execution": {
     "iopub.execute_input": "2024-07-26T10:40:05.123712Z",
     "iopub.status.busy": "2024-07-26T10:40:05.123712Z",
     "iopub.status.idle": "2024-07-26T10:40:05.149720Z",
     "shell.execute_reply": "2024-07-26T10:40:05.148716Z"
    }
   },
   "outputs": [
    {
     "data": {
      "text/plain": [
       "<All keys matched successfully>"
      ]
     },
     "execution_count": 32,
     "metadata": {},
     "output_type": "execute_result"
    }
   ],
   "source": [
    "with open(f'{run_dir}/{dataset_prefix}_{disease_prefix}_best_model_{embedding_method}_args.pkl', 'rb') as f:\n",
    "    loaded_args = pickle.load(f)\n",
    "    \n",
    "best_model = LinkPredModel(len(embedding['Embedding'][0]), loaded_args['hidden_dim'], loaded_args['output_dim'], loaded_args['layers'], loaded_args['aggr'], loaded_args['dropout'], loaded_args['device']).to(loaded_args['device'])\n",
    "best_model.load_state_dict(torch.load(f'{run_dir}/{dataset_prefix}_{disease_prefix}_best_model_{embedding_method}.pth'))"
   ]
  },
  {
   "attachments": {},
   "cell_type": "markdown",
   "metadata": {},
   "source": [
    "Get output of best model given the graph"
   ]
  },
  {
   "cell_type": "code",
   "execution_count": 33,
   "metadata": {
    "execution": {
     "iopub.execute_input": "2024-07-26T10:40:05.153717Z",
     "iopub.status.busy": "2024-07-26T10:40:05.153717Z",
     "iopub.status.idle": "2024-07-26T10:40:05.364740Z",
     "shell.execute_reply": "2024-07-26T10:40:05.363740Z"
    }
   },
   "outputs": [
    {
     "name": "stdout",
     "output_type": "stream",
     "text": [
      "torch.Size([14882, 128])\n"
     ]
    }
   ],
   "source": [
    "_, best_x = best_model(DeepG.node_feature, DeepG.edge_index, DeepG.edge_label_index, training = False)\n",
    "print(best_x.shape)"
   ]
  },
  {
   "cell_type": "code",
   "execution_count": 34,
   "metadata": {
    "execution": {
     "iopub.execute_input": "2024-07-26T10:40:05.369739Z",
     "iopub.status.busy": "2024-07-26T10:40:05.368740Z",
     "iopub.status.idle": "2024-07-26T10:40:05.394747Z",
     "shell.execute_reply": "2024-07-26T10:40:05.393746Z"
    }
   },
   "outputs": [
    {
     "data": {
      "text/html": [
       "<div>\n",
       "<style scoped>\n",
       "    .dataframe tbody tr th:only-of-type {\n",
       "        vertical-align: middle;\n",
       "    }\n",
       "\n",
       "    .dataframe tbody tr th {\n",
       "        vertical-align: top;\n",
       "    }\n",
       "\n",
       "    .dataframe thead th {\n",
       "        text-align: right;\n",
       "    }\n",
       "</style>\n",
       "<table border=\"1\" class=\"dataframe\">\n",
       "  <thead>\n",
       "    <tr style=\"text-align: right;\">\n",
       "      <th></th>\n",
       "      <th>id</th>\n",
       "      <th>semantic</th>\n",
       "      <th>label</th>\n",
       "      <th>semantic_id</th>\n",
       "    </tr>\n",
       "  </thead>\n",
       "  <tbody>\n",
       "    <tr>\n",
       "      <th>0</th>\n",
       "      <td>dictyBase:DDB_G0282941</td>\n",
       "      <td>gene</td>\n",
       "      <td>DDB0185273</td>\n",
       "      <td>4</td>\n",
       "    </tr>\n",
       "    <tr>\n",
       "      <th>1</th>\n",
       "      <td>WBPhenotype:0001133</td>\n",
       "      <td>phenotype</td>\n",
       "      <td>division axis defective</td>\n",
       "      <td>8</td>\n",
       "    </tr>\n",
       "    <tr>\n",
       "      <th>2</th>\n",
       "      <td>HP:0012005</td>\n",
       "      <td>phenotype</td>\n",
       "      <td>Deja vu aura</td>\n",
       "      <td>8</td>\n",
       "    </tr>\n",
       "    <tr>\n",
       "      <th>3</th>\n",
       "      <td>ENSEMBL:ENSPTRG00000043959</td>\n",
       "      <td>gene</td>\n",
       "      <td>ENSEMBL:ENSPTRG00000043959</td>\n",
       "      <td>4</td>\n",
       "    </tr>\n",
       "    <tr>\n",
       "      <th>4</th>\n",
       "      <td>HP:0001265</td>\n",
       "      <td>phenotype</td>\n",
       "      <td>Hyporeflexia</td>\n",
       "      <td>8</td>\n",
       "    </tr>\n",
       "    <tr>\n",
       "      <th>...</th>\n",
       "      <td>...</td>\n",
       "      <td>...</td>\n",
       "      <td>...</td>\n",
       "      <td>...</td>\n",
       "    </tr>\n",
       "    <tr>\n",
       "      <th>14877</th>\n",
       "      <td>MGI:2676637</td>\n",
       "      <td>gene</td>\n",
       "      <td>H2-M11</td>\n",
       "      <td>4</td>\n",
       "    </tr>\n",
       "    <tr>\n",
       "      <th>14878</th>\n",
       "      <td>MP:0000378</td>\n",
       "      <td>phenotype</td>\n",
       "      <td>absent hair follicles</td>\n",
       "      <td>8</td>\n",
       "    </tr>\n",
       "    <tr>\n",
       "      <th>14879</th>\n",
       "      <td>WormBase:WBGene00006446</td>\n",
       "      <td>gene</td>\n",
       "      <td>atx-3</td>\n",
       "      <td>4</td>\n",
       "    </tr>\n",
       "    <tr>\n",
       "      <th>14880</th>\n",
       "      <td>MGI:2654144</td>\n",
       "      <td>gene</td>\n",
       "      <td>Ercc6l</td>\n",
       "      <td>4</td>\n",
       "    </tr>\n",
       "    <tr>\n",
       "      <th>14881</th>\n",
       "      <td>1912</td>\n",
       "      <td>drug</td>\n",
       "      <td>niclosamide</td>\n",
       "      <td>3</td>\n",
       "    </tr>\n",
       "  </tbody>\n",
       "</table>\n",
       "<p>14882 rows × 4 columns</p>\n",
       "</div>"
      ],
      "text/plain": [
       "                               id   semantic                       label  \\\n",
       "0          dictyBase:DDB_G0282941       gene                  DDB0185273   \n",
       "1             WBPhenotype:0001133  phenotype     division axis defective   \n",
       "2                      HP:0012005  phenotype                Deja vu aura   \n",
       "3      ENSEMBL:ENSPTRG00000043959       gene  ENSEMBL:ENSPTRG00000043959   \n",
       "4                      HP:0001265  phenotype                Hyporeflexia   \n",
       "...                           ...        ...                         ...   \n",
       "14877                 MGI:2676637       gene                      H2-M11   \n",
       "14878                  MP:0000378  phenotype       absent hair follicles   \n",
       "14879     WormBase:WBGene00006446       gene                       atx-3   \n",
       "14880                 MGI:2654144       gene                      Ercc6l   \n",
       "14881                        1912       drug                 niclosamide   \n",
       "\n",
       "       semantic_id  \n",
       "0                4  \n",
       "1                8  \n",
       "2                8  \n",
       "3                4  \n",
       "4                8  \n",
       "...            ...  \n",
       "14877            4  \n",
       "14878            8  \n",
       "14879            4  \n",
       "14880            4  \n",
       "14881            3  \n",
       "\n",
       "[14882 rows x 4 columns]"
      ]
     },
     "execution_count": 34,
     "metadata": {},
     "output_type": "execute_result"
    }
   ],
   "source": [
    "nodes"
   ]
  },
  {
   "attachments": {},
   "cell_type": "markdown",
   "metadata": {},
   "source": [
    "Define the score function"
   ]
  },
  {
   "cell_type": "code",
   "execution_count": 35,
   "metadata": {
    "execution": {
     "iopub.execute_input": "2024-07-26T10:40:05.398749Z",
     "iopub.status.busy": "2024-07-26T10:40:05.398749Z",
     "iopub.status.idle": "2024-07-26T10:40:05.410260Z",
     "shell.execute_reply": "2024-07-26T10:40:05.409258Z"
    }
   },
   "outputs": [],
   "source": [
    "def score(x, id1, id2): \n",
    "    n1 = x[id1]\n",
    "    n2 = x[id2]\n",
    "    \n",
    "    score = torch.Tensor([torch.sum(n1 * n2, dim=-1)])\n",
    "    p = torch.sigmoid(score).cpu().detach().numpy()\n",
    "    return p\n",
    "\n",
    "def candidates(nodes, id, x): \n",
    "  ind = nodes[nodes['id'] == id].index.values.astype(int)[0]\n",
    "  predictions = nodes.copy()\n",
    "  scores = []\n",
    "  for i in range(len(x)):  \n",
    "    s = score(x, i, ind)\n",
    "    scores.append(s)\n",
    "    \n",
    "  predictions['Score'] = scores\n",
    "  return predictions"
   ]
  },
  {
   "attachments": {},
   "cell_type": "markdown",
   "metadata": {},
   "source": [
    "Calculate the predictions of an edge existing or not between given node ID and each node in the graph contained by semantic group DRUG. Show the top 20 highest probability that an edge exists between a pair of nodes."
   ]
  },
  {
   "cell_type": "code",
   "execution_count": 36,
   "metadata": {
    "execution": {
     "iopub.execute_input": "2024-07-26T10:40:05.414258Z",
     "iopub.status.busy": "2024-07-26T10:40:05.414258Z",
     "iopub.status.idle": "2024-07-26T10:40:05.930225Z",
     "shell.execute_reply": "2024-07-26T10:40:05.928226Z"
    }
   },
   "outputs": [],
   "source": [
    "if dataset_prefix == 'prev':\n",
    "    drug_semantic = 'DRUG'\n",
    "else:\n",
    "    drug_semantic = 'drug'\n",
    "\n",
    "predictions = candidates(nodes, 'HP:0001265', best_x)\n",
    "\n",
    "predictions[predictions['semantic'] == drug_semantic].sort_values(by = ['Score'], ascending = False).head(20)"
   ]
  },
  {
   "attachments": {},
   "cell_type": "markdown",
   "metadata": {},
   "source": [
    "Use the node semantics dictionary"
   ]
  },
  {
   "cell_type": "code",
   "execution_count": 37,
   "metadata": {
    "execution": {
     "iopub.execute_input": "2024-07-26T10:40:05.934224Z",
     "iopub.status.busy": "2024-07-26T10:40:05.933221Z",
     "iopub.status.idle": "2024-07-26T10:40:05.960910Z",
     "shell.execute_reply": "2024-07-26T10:40:05.958896Z"
    }
   },
   "outputs": [
    {
     "data": {
      "text/plain": [
       "{4: 'gene',\n",
       " 8: 'phenotype',\n",
       " 0: 'biological artifact',\n",
       " 10: 'variant',\n",
       " 3: 'drug',\n",
       " 6: 'genotype',\n",
       " 7: 'molecular function',\n",
       " 5: 'gene product',\n",
       " 2: 'disease',\n",
       " 9: 'taxon',\n",
       " 1: 'biological process'}"
      ]
     },
     "execution_count": 37,
     "metadata": {},
     "output_type": "execute_result"
    }
   ],
   "source": [
    "node_semantics = nodes[['semantic', 'semantic_id']].drop_duplicates().set_index('semantic_id').to_dict()\n",
    "node_semantics_dict = node_semantics['semantic']\n",
    "\n",
    "node_semantics_dict"
   ]
  },
  {
   "attachments": {},
   "cell_type": "markdown",
   "metadata": {},
   "source": [
    "Get all phenotypes and diseases relevant to the disease."
   ]
  },
  {
   "cell_type": "code",
   "execution_count": 38,
   "metadata": {
    "execution": {
     "iopub.execute_input": "2024-07-26T10:40:05.965915Z",
     "iopub.status.busy": "2024-07-26T10:40:05.964915Z",
     "iopub.status.idle": "2024-07-26T10:40:06.009003Z",
     "shell.execute_reply": "2024-07-26T10:40:06.006995Z"
    }
   },
   "outputs": [
    {
     "name": "stdout",
     "output_type": "stream",
     "text": [
      "A total of 58 symptoms found that are associated with MONDO:0007739\n",
      "                 head          label_head  class_head  index_head  \\\n",
      "146365  MONDO:0007739  Huntington disease           2        5948   \n",
      "146366  MONDO:0007739  Huntington disease           2        5948   \n",
      "146367  MONDO:0007739  Huntington disease           2        5948   \n",
      "146368  MONDO:0007739  Huntington disease           2        5948   \n",
      "146369  MONDO:0007739  Huntington disease           2        5948   \n",
      "146370  MONDO:0007739  Huntington disease           2        5948   \n",
      "146371  MONDO:0007739  Huntington disease           2        5948   \n",
      "146372  MONDO:0007739  Huntington disease           2        5948   \n",
      "146373  MONDO:0007739  Huntington disease           2        5948   \n",
      "146374  MONDO:0007739  Huntington disease           2        5948   \n",
      "146375  MONDO:0007739  Huntington disease           2        5948   \n",
      "146376  MONDO:0007739  Huntington disease           2        5948   \n",
      "146377  MONDO:0007739  Huntington disease           2        5948   \n",
      "146378  MONDO:0007739  Huntington disease           2        5948   \n",
      "146379  MONDO:0007739  Huntington disease           2        5948   \n",
      "146380  MONDO:0007739  Huntington disease           2        5948   \n",
      "146381  MONDO:0007739  Huntington disease           2        5948   \n",
      "146382  MONDO:0007739  Huntington disease           2        5948   \n",
      "146383  MONDO:0007739  Huntington disease           2        5948   \n",
      "146384  MONDO:0007739  Huntington disease           2        5948   \n",
      "146385  MONDO:0007739  Huntington disease           2        5948   \n",
      "146386  MONDO:0007739  Huntington disease           2        5948   \n",
      "146387  MONDO:0007739  Huntington disease           2        5948   \n",
      "146388  MONDO:0007739  Huntington disease           2        5948   \n",
      "146389  MONDO:0007739  Huntington disease           2        5948   \n",
      "146390  MONDO:0007739  Huntington disease           2        5948   \n",
      "146391  MONDO:0007739  Huntington disease           2        5948   \n",
      "146392  MONDO:0007739  Huntington disease           2        5948   \n",
      "146393  MONDO:0007739  Huntington disease           2        5948   \n",
      "146394  MONDO:0007739  Huntington disease           2        5948   \n",
      "146395  MONDO:0007739  Huntington disease           2        5948   \n",
      "146397  MONDO:0007739  Huntington disease           2        5948   \n",
      "146398  MONDO:0007739  Huntington disease           2        5948   \n",
      "146399  MONDO:0007739  Huntington disease           2        5948   \n",
      "146400  MONDO:0007739  Huntington disease           2        5948   \n",
      "146401  MONDO:0007739  Huntington disease           2        5948   \n",
      "146402  MONDO:0007739  Huntington disease           2        5948   \n",
      "146403  MONDO:0007739  Huntington disease           2        5948   \n",
      "146404  MONDO:0007739  Huntington disease           2        5948   \n",
      "146405  MONDO:0007739  Huntington disease           2        5948   \n",
      "146406  MONDO:0007739  Huntington disease           2        5948   \n",
      "146407  MONDO:0007739  Huntington disease           2        5948   \n",
      "146408  MONDO:0007739  Huntington disease           2        5948   \n",
      "146409  MONDO:0007739  Huntington disease           2        5948   \n",
      "146410  MONDO:0007739  Huntington disease           2        5948   \n",
      "146411  MONDO:0007739  Huntington disease           2        5948   \n",
      "146412  MONDO:0007739  Huntington disease           2        5948   \n",
      "146413  MONDO:0007739  Huntington disease           2        5948   \n",
      "146414  MONDO:0007739  Huntington disease           2        5948   \n",
      "146415  MONDO:0007739  Huntington disease           2        5948   \n",
      "146416  MONDO:0007739  Huntington disease           2        5948   \n",
      "146417  MONDO:0007739  Huntington disease           2        5948   \n",
      "146418  MONDO:0007739  Huntington disease           2        5948   \n",
      "146419  MONDO:0007739  Huntington disease           2        5948   \n",
      "146420  MONDO:0007739  Huntington disease           2        5948   \n",
      "146421  MONDO:0007739  Huntington disease           2        5948   \n",
      "146422  MONDO:0007739  Huntington disease           2        5948   \n",
      "146423  MONDO:0007739  Huntington disease           2        5948   \n",
      "\n",
      "                         relation        tail  \\\n",
      "146365  associated with phenotype  HP:0000741   \n",
      "146366  associated with phenotype  HP:0002072   \n",
      "146367  associated with phenotype  HP:0000739   \n",
      "146368  associated with phenotype  HP:0001268   \n",
      "146369  associated with phenotype  HP:0031843   \n",
      "146370  associated with phenotype  HP:0001336   \n",
      "146371  associated with phenotype  HP:0030842   \n",
      "146372  associated with phenotype  HP:0030955   \n",
      "146373  associated with phenotype  HP:0000738   \n",
      "146374  associated with phenotype  HP:0040140   \n",
      "146375  associated with phenotype  HP:0031589   \n",
      "146376  associated with phenotype  HP:0031845   \n",
      "146377  associated with phenotype  HP:0002591   \n",
      "146378  associated with phenotype  HP:0002529   \n",
      "146379  associated with phenotype  HP:0002354   \n",
      "146380  associated with phenotype  HP:0000716   \n",
      "146381  associated with phenotype  HP:0001824   \n",
      "146382  associated with phenotype  HP:0002063   \n",
      "146383  associated with phenotype  HP:0002312   \n",
      "146384  associated with phenotype  HP:0000746   \n",
      "146385  associated with phenotype  HP:0001288   \n",
      "146386  associated with phenotype  HP:0000726   \n",
      "146387  associated with phenotype  HP:0002340   \n",
      "146388  associated with phenotype  HP:0002141   \n",
      "146389  associated with phenotype  HP:0002059   \n",
      "146390  associated with phenotype  HP:0000722   \n",
      "146391  associated with phenotype  HP:0002171   \n",
      "146392  associated with phenotype  HP:0000734   \n",
      "146393  associated with phenotype  HP:0002355   \n",
      "146394  associated with phenotype  HP:0003487   \n",
      "146395  associated with phenotype  HP:0001262   \n",
      "146397  associated with phenotype  HP:0004305   \n",
      "146398  associated with phenotype  HP:0000751   \n",
      "146399  associated with phenotype  HP:0004408   \n",
      "146400  associated with phenotype  HP:0001332   \n",
      "146401  associated with phenotype  HP:0010794   \n",
      "146402  associated with phenotype  HP:0002500   \n",
      "146403  associated with phenotype  HP:0002067   \n",
      "146404  associated with phenotype  HP:0007010   \n",
      "146405  associated with phenotype  HP:0000713   \n",
      "146406  associated with phenotype  HP:0002300   \n",
      "146407  associated with phenotype  HP:0025401   \n",
      "146408  associated with phenotype  HP:0001272   \n",
      "146409  associated with phenotype  HP:0009088   \n",
      "146410  associated with phenotype  HP:0031473   \n",
      "146411  associated with phenotype  HP:0200136   \n",
      "146412  associated with phenotype  HP:0003107   \n",
      "146413  associated with phenotype  HP:0100785   \n",
      "146414  associated with phenotype  HP:0002066   \n",
      "146415  associated with phenotype  HP:0000496   \n",
      "146416  associated with phenotype  HP:0001347   \n",
      "146417  associated with phenotype  HP:0045082   \n",
      "146418  associated with phenotype  HP:0000718   \n",
      "146419  associated with phenotype  HP:0003324   \n",
      "146420  associated with phenotype  HP:0002540   \n",
      "146421  associated with phenotype  HP:0002169   \n",
      "146422  associated with phenotype  HP:0001250   \n",
      "146423  associated with phenotype  HP:0000737   \n",
      "\n",
      "                                            label_tail  class_tail  \\\n",
      "146365                                          Apathy           8   \n",
      "146366                                          Chorea           8   \n",
      "146367                                         Anxiety           8   \n",
      "146368                            Mental deterioration           8   \n",
      "146369                                    Bradyphrenia           8   \n",
      "146370                                       Myoclonus           8   \n",
      "146371                                Choking episodes           8   \n",
      "146372                                      Alcoholism           8   \n",
      "146373                                  Hallucinations           8   \n",
      "146374                    Degeneration of the striatum           8   \n",
      "146375                               Suicidal ideation           8   \n",
      "146376                                 Abnormal libido           8   \n",
      "146377                                      Polyphagia           8   \n",
      "146378         Neuronal loss in central nervous system           8   \n",
      "146379                               Memory impairment           8   \n",
      "146380                                      Depression           8   \n",
      "146381                                     Weight loss           8   \n",
      "146382                                        Rigidity           8   \n",
      "146383                                      Clumsiness           8   \n",
      "146384                                       Delusions           8   \n",
      "146385                                Gait disturbance           8   \n",
      "146386                                        Dementia           8   \n",
      "146387                                 Caudate atrophy           8   \n",
      "146388                                  Gait imbalance           8   \n",
      "146389                                Cerebral atrophy           8   \n",
      "146390                   Obsessive-compulsive behavior           8   \n",
      "146391                                         Gliosis           8   \n",
      "146392                                   Disinhibition           8   \n",
      "146393                              Difficulty walking           8   \n",
      "146394                                   Babinski sign           8   \n",
      "146395                    Excessive daytime somnolence           8   \n",
      "146397                           Involuntary movements           8   \n",
      "146398                             Personality changes           8   \n",
      "146399               Abnormality of the sense of smell           8   \n",
      "146400                                        Dystonia           8   \n",
      "146401    Impaired visuospatial constructive cognition           8   \n",
      "146402       Abnormal cerebral white matter morphology           8   \n",
      "146403                                    Bradykinesia           8   \n",
      "146404                    Poor fine motor coordination           8   \n",
      "146405                                       Agitation           8   \n",
      "146406                                          Mutism           8   \n",
      "146407                                    Staring gaze           8   \n",
      "146408                              Cerebellar atrophy           8   \n",
      "146409                Speech articulation difficulties           8   \n",
      "146410                                       Hostility           8   \n",
      "146411                       Oral-pharyngeal dysphagia           8   \n",
      "146412  Abnormal circulating cholesterol concentration           8   \n",
      "146413                                        Insomnia           8   \n",
      "146414                                     Gait ataxia           8   \n",
      "146415                     Abnormality of eye movement           8   \n",
      "146416                                   Hyperreflexia           8   \n",
      "146417                       Decreased body mass index           8   \n",
      "146418                             Aggressive behavior           8   \n",
      "146419                     Generalized muscle weakness           8   \n",
      "146420                               Inability to walk           8   \n",
      "146421                                          Clonus           8   \n",
      "146422                                         Seizure           8   \n",
      "146423                                    Irritability           8   \n",
      "\n",
      "        index_tail  type  \n",
      "146365        4744    16  \n",
      "146366        4602    16  \n",
      "146367         379    16  \n",
      "146368       14797    16  \n",
      "146369        1275    16  \n",
      "146370        2811    16  \n",
      "146371       11918    16  \n",
      "146372        2007    16  \n",
      "146373        9906    16  \n",
      "146374        6365    16  \n",
      "146375        2147    16  \n",
      "146376       11270    16  \n",
      "146377        9372    16  \n",
      "146378        8063    16  \n",
      "146379        3630    16  \n",
      "146380        9167    16  \n",
      "146381        7475    16  \n",
      "146382        8027    16  \n",
      "146383        8495    16  \n",
      "146384        7134    16  \n",
      "146385        4699    16  \n",
      "146386        2964    16  \n",
      "146387       11961    16  \n",
      "146388       14038    16  \n",
      "146389        3878    16  \n",
      "146390       13306    16  \n",
      "146391        4439    16  \n",
      "146392       13831    16  \n",
      "146393         677    16  \n",
      "146394        4831    16  \n",
      "146395       10750    16  \n",
      "146397       10827    16  \n",
      "146398        2372    16  \n",
      "146399       14390    16  \n",
      "146400        8622    16  \n",
      "146401        2451    16  \n",
      "146402       14520    16  \n",
      "146403        1312    16  \n",
      "146404        5318    16  \n",
      "146405        8962    16  \n",
      "146406       11200    16  \n",
      "146407        5521    16  \n",
      "146408        9434    16  \n",
      "146409        2612    16  \n",
      "146410        6734    16  \n",
      "146411        6215    16  \n",
      "146412       13454    16  \n",
      "146413        1992    16  \n",
      "146414       12492    16  \n",
      "146415        3232    16  \n",
      "146416       11744    16  \n",
      "146417        8352    16  \n",
      "146418       11246    16  \n",
      "146419         303    16  \n",
      "146420       13553    16  \n",
      "146421       10729    16  \n",
      "146422        3724    16  \n",
      "146423        6133    16  \n"
     ]
    }
   ],
   "source": [
    "if disease_prefix == 'dmd':\n",
    "    disease_ID = 'MONDO:0010679'\n",
    "elif disease_prefix == 'hd':\n",
    "    disease_ID = 'MONDO:0007739'\n",
    "elif disease_prefix == 'oi':\n",
    "    disease_ID = 'MONDO:0019019'\n",
    "\n",
    "if dataset_prefix == 'prev':\n",
    "    pheno_rel = 'has phenotype'\n",
    "else:\n",
    "    pheno_rel = 'associated with phenotype'\n",
    "\n",
    "relation_index = list(relation_labels).index(pheno_rel)\n",
    "\n",
    "symptoms = edges[(edges['head'] == disease_ID) & (edges['type'] == relation_index)]\n",
    "\n",
    "print(f'A total of {symptoms.shape[0]} symptoms found that are associated with {disease_ID}')\n",
    "\n",
    "print(symptoms.head(symptoms.shape[0]))"
   ]
  },
  {
   "attachments": {},
   "cell_type": "markdown",
   "metadata": {},
   "source": [
    "Check alignment between dataframes containing the associations and the nodes"
   ]
  },
  {
   "cell_type": "code",
   "execution_count": 39,
   "metadata": {
    "execution": {
     "iopub.execute_input": "2024-07-26T10:40:06.014004Z",
     "iopub.status.busy": "2024-07-26T10:40:06.012015Z",
     "iopub.status.idle": "2024-07-26T10:40:06.038407Z",
     "shell.execute_reply": "2024-07-26T10:40:06.037404Z"
    }
   },
   "outputs": [
    {
     "data": {
      "text/html": [
       "<div>\n",
       "<style scoped>\n",
       "    .dataframe tbody tr th:only-of-type {\n",
       "        vertical-align: middle;\n",
       "    }\n",
       "\n",
       "    .dataframe tbody tr th {\n",
       "        vertical-align: top;\n",
       "    }\n",
       "\n",
       "    .dataframe thead th {\n",
       "        text-align: right;\n",
       "    }\n",
       "</style>\n",
       "<table border=\"1\" class=\"dataframe\">\n",
       "  <thead>\n",
       "    <tr style=\"text-align: right;\">\n",
       "      <th></th>\n",
       "      <th>id</th>\n",
       "      <th>semantic</th>\n",
       "      <th>label</th>\n",
       "      <th>semantic_id</th>\n",
       "    </tr>\n",
       "  </thead>\n",
       "  <tbody>\n",
       "    <tr>\n",
       "      <th>6315</th>\n",
       "      <td>ENSEMBL:ENSMODG00000021483</td>\n",
       "      <td>gene</td>\n",
       "      <td>ENSEMBL:ENSMODG00000021483</td>\n",
       "      <td>4</td>\n",
       "    </tr>\n",
       "  </tbody>\n",
       "</table>\n",
       "</div>"
      ],
      "text/plain": [
       "                              id semantic                       label  \\\n",
       "6315  ENSEMBL:ENSMODG00000021483     gene  ENSEMBL:ENSMODG00000021483   \n",
       "\n",
       "      semantic_id  \n",
       "6315            4  "
      ]
     },
     "execution_count": 39,
     "metadata": {},
     "output_type": "execute_result"
    }
   ],
   "source": [
    "nodes.loc[[6315]]"
   ]
  },
  {
   "cell_type": "markdown",
   "metadata": {},
   "source": [
    "Get list of drugs that appear at least once in the top 3 of suggested drugs for an associated phenotype"
   ]
  },
  {
   "cell_type": "code",
   "execution_count": 40,
   "metadata": {
    "execution": {
     "iopub.execute_input": "2024-07-26T10:40:06.043409Z",
     "iopub.status.busy": "2024-07-26T10:40:06.042409Z",
     "iopub.status.idle": "2024-07-26T10:40:36.847718Z",
     "shell.execute_reply": "2024-07-26T10:40:36.846718Z"
    }
   },
   "outputs": [],
   "source": [
    "def add_drug_candidate(candidates, drug_name):\n",
    "    if drug_name in candidates:\n",
    "        candidates[drug_name] += 1\n",
    "    else:\n",
    "        candidates[drug_name] = 1\n",
    "        \n",
    "    return candidates\n",
    "\n",
    "\n",
    "if dataset_prefix == 'prev':\n",
    "    treats_rel = 'is substance that treats'\n",
    "else:\n",
    "    treats_rel = 'is substance that treats'\n",
    "\n",
    "relation_treats_index = list(relation_labels).index(treats_rel)\n",
    "\n",
    "drug_candidates = {}\n",
    "symptom_drugs = {}\n",
    "symptom_drugs_scores = []\n",
    "\n",
    "for ind, symptom in symptoms.iterrows(): \n",
    "    symptom_id = symptom['tail']\n",
    "    symptom_drugs[symptom_id] = []\n",
    "    \n",
    "    predictions = candidates(nodes, symptom_id, best_x)\n",
    "    \n",
    "    predictions_drugs = predictions[predictions['semantic'] == drug_semantic]\n",
    "    \n",
    "    symptom_treated_by = edges.loc[(edges['tail'] == symptom_id) & (edges['type'] == relation_treats_index)]\n",
    "    \n",
    "    merged_df = pd.merge(predictions_drugs, symptom_treated_by, how='left', left_on='id', right_on='head', indicator=True)\n",
    "    result_df = merged_df[merged_df['_merge'] == 'left_only']\n",
    "    result_df = result_df.drop('_merge', axis=1)\n",
    "    \n",
    "    ordered_predictions = result_df.sort_values(by = ['Score'], ascending = False).head(3)\n",
    "    \n",
    "    for ind, drug in ordered_predictions.iterrows():\n",
    "        symptom_drugs_scores.append({'Symptom': symptom['label_tail'], 'Symptom ID': symptom['tail'], 'Drug Candidate': drug['label'], 'Score': drug['Score'][0]})\n",
    "        \n",
    "        symptom_drugs[symptom_id].append(drug['id'])\n",
    "        drug_candidates = add_drug_candidate(drug_candidates, drug['label'])"
   ]
  },
  {
   "cell_type": "code",
   "execution_count": 41,
   "metadata": {
    "execution": {
     "iopub.execute_input": "2024-07-26T10:40:36.852723Z",
     "iopub.status.busy": "2024-07-26T10:40:36.851722Z",
     "iopub.status.idle": "2024-07-26T10:40:36.878658Z",
     "shell.execute_reply": "2024-07-26T10:40:36.877660Z"
    }
   },
   "outputs": [
    {
     "name": "stdout",
     "output_type": "stream",
     "text": [
      "          Symptom  Symptom ID  Drug Candidate  Score\n",
      "0          Apathy  HP:0000741      migalastat    1.0\n",
      "1          Apathy  HP:0000741  dexrabeprazole    1.0\n",
      "2          Apathy  HP:0000741     carfilzomib    1.0\n",
      "3          Chorea  HP:0002072    lansoprazole    1.0\n",
      "4          Chorea  HP:0002072     ganciclovir    1.0\n",
      "..            ...         ...             ...    ...\n",
      "169       Seizure  HP:0001250        naloxone    1.0\n",
      "170       Seizure  HP:0001250      phenelzine    1.0\n",
      "171  Irritability  HP:0000737     flunarizine    1.0\n",
      "172  Irritability  HP:0000737   buprenorphine    1.0\n",
      "173  Irritability  HP:0000737      omeprazole    1.0\n",
      "\n",
      "[174 rows x 4 columns]\n"
     ]
    }
   ],
   "source": [
    "symptom_drugs_scores_df = pd.DataFrame.from_dict(symptom_drugs_scores)\n",
    "symptom_drugs_scores_df.to_pickle(f'{pred_output_dir}/{dataset_prefix}_{disease_prefix}_score_per_symptom_drug_pair_{embedding_method}.pkl')\n",
    "\n",
    "print(symptom_drugs_scores_df)"
   ]
  },
  {
   "cell_type": "markdown",
   "metadata": {},
   "source": [
    "Get list of drug candidate ids per relevant symptom id."
   ]
  },
  {
   "cell_type": "code",
   "execution_count": 42,
   "metadata": {
    "execution": {
     "iopub.execute_input": "2024-07-26T10:40:36.883675Z",
     "iopub.status.busy": "2024-07-26T10:40:36.882660Z",
     "iopub.status.idle": "2024-07-26T10:40:36.909564Z",
     "shell.execute_reply": "2024-07-26T10:40:36.907560Z"
    }
   },
   "outputs": [
    {
     "name": "stdout",
     "output_type": "stream",
     "text": [
      "       Symptom          Candidates\n",
      "0   HP:0000741  [5110, 4867, 4483]\n",
      "1   HP:0002072  [1547, 1277, 1310]\n",
      "2   HP:0000739  [1310, 2054, 5067]\n",
      "3   HP:0001268   [2286, 1547, 849]\n",
      "4   HP:0031843  [4867, 4186, 5067]\n",
      "5   HP:0001336   [2370, 578, 2172]\n",
      "6   HP:0030842   [849, 4867, 4186]\n",
      "7   HP:0030955  [4867, 4637, 3082]\n",
      "8   HP:0000738  [1996, 4867, 1547]\n",
      "9   HP:0040140  [1996, 2350, 5110]\n",
      "10  HP:0031589   [849, 1547, 4483]\n",
      "11  HP:0031845  [4637, 4186, 5110]\n",
      "12  HP:0002591  [1996, 2054, 1494]\n",
      "13  HP:0002529  [2351, 2054, 5067]\n",
      "14  HP:0002354    [4483, 434, 918]\n",
      "15  HP:0000716    [725, 1599, 937]\n",
      "16  HP:0001824     [875, 779, 176]\n",
      "17  HP:0002063  [5067, 4360, 1200]\n",
      "18  HP:0002312   [4483, 1996, 434]\n",
      "19  HP:0000746  [4637, 4867, 1599]\n",
      "20  HP:0001288  [2351, 2080, 1679]\n",
      "21  HP:0000726  [4483, 3082, 4637]\n",
      "22  HP:0002340   [391, 2054, 4483]\n",
      "23  HP:0002141  [4483, 4637, 1679]\n",
      "24  HP:0002059  [5382, 4867, 3082]\n",
      "25  HP:0000722  [1990, 2054, 4483]\n",
      "26  HP:0002171    [2123, 759, 434]\n",
      "27  HP:0000734  [5382, 1996, 1277]\n",
      "28  HP:0002355   [5110, 2350, 849]\n",
      "29  HP:0003487  [2286, 4637, 1996]\n",
      "30  HP:0001262  [1996, 2525, 1277]\n",
      "31  HP:0004305  [4483, 2350, 5359]\n",
      "32  HP:0000751  [4637, 4867, 4360]\n",
      "33  HP:0004408   [2123, 2350, 759]\n",
      "34  HP:0001332  [1878, 1989, 1996]\n",
      "35  HP:0010794   [849, 4867, 4186]\n",
      "36  HP:0002500   [2351, 2286, 434]\n",
      "37  HP:0002067    [849, 2370, 759]\n",
      "38  HP:0007010  [5110, 4360, 4637]\n",
      "39  HP:0000713  [5067, 1277, 4483]\n",
      "40  HP:0002300   [1310, 2350, 434]\n",
      "41  HP:0025401  [1547, 2054, 4186]\n",
      "42  HP:0001272   [1679, 3082, 759]\n",
      "43  HP:0009088  [1547, 5067, 1990]\n",
      "44  HP:0031473   [849, 4867, 4186]\n",
      "45  HP:0200136   [4186, 4867, 759]\n",
      "46  HP:0003107  [4483, 1547, 2350]\n",
      "47  HP:0100785   [578, 2054, 5110]\n",
      "48  HP:0002066   [1200, 5359, 849]\n",
      "49  HP:0000496   [4360, 1990, 434]\n",
      "50  HP:0001347   [2286, 2350, 434]\n",
      "51  HP:0045082  [4483, 1547, 2350]\n",
      "52  HP:0000718    [2286, 1310, 90]\n",
      "53  HP:0003324  [5110, 5359, 4186]\n",
      "54  HP:0002540  [2351, 2054, 5110]\n",
      "55  HP:0002169   [1679, 722, 4360]\n",
      "56  HP:0001250  [1200, 1878, 2123]\n",
      "57  HP:0000737   [1200, 434, 1990]\n"
     ]
    }
   ],
   "source": [
    "symptom_drugs_df_dict = {\n",
    "    'Symptom': [],\n",
    "    'Candidates': [] \n",
    "}\n",
    "for key, val in symptom_drugs.items():\n",
    "    symptom_drugs_df_dict['Symptom'].append(key)\n",
    "    symptom_drugs_df_dict['Candidates'].append(val)\n",
    "    \n",
    "symptom_drugs_df = pd.DataFrame.from_dict(symptom_drugs_df_dict)\n",
    "symptom_drugs_df.to_pickle(f'{pred_output_dir}/{dataset_prefix}_{disease_prefix}_candidates_per_symptom_{embedding_method}.pkl')\n",
    "\n",
    "print(symptom_drugs_df)"
   ]
  },
  {
   "cell_type": "markdown",
   "metadata": {},
   "source": [
    "Save dataframe as csv file with all drugs and their total of appearances as a candidate for one or more relevant symptoms."
   ]
  },
  {
   "cell_type": "code",
   "execution_count": 43,
   "metadata": {
    "execution": {
     "iopub.execute_input": "2024-07-26T10:40:36.913561Z",
     "iopub.status.busy": "2024-07-26T10:40:36.913561Z",
     "iopub.status.idle": "2024-07-26T10:40:36.940470Z",
     "shell.execute_reply": "2024-07-26T10:40:36.938466Z"
    }
   },
   "outputs": [
    {
     "name": "stdout",
     "output_type": "stream",
     "text": [
      "                  Drug  Appearances Percentage\n",
      "2          carfilzomib           12     20.69%\n",
      "1       dexrabeprazole           11     18.97%\n",
      "0           migalastat            8     13.79%\n",
      "9            diacerein            8     13.79%\n",
      "20       buprenorphine            8     13.79%\n",
      "17         rabeprazole            8     13.79%\n",
      "14         rose bengal            8     13.79%\n",
      "10           icatibant            8     13.79%\n",
      "16            orlistat            8     13.79%\n",
      "6         pantoprazole            8     13.79%\n",
      "3         lansoprazole            8     13.79%\n",
      "7             ixazomib            6     10.34%\n",
      "8         promethazine            5      8.62%\n",
      "28           cetrimide            5      8.62%\n",
      "36         cycloserine            5      8.62%\n",
      "19          raloxifene            4      6.90%\n",
      "34          omeprazole            4      6.90%\n",
      "29         flunarizine            4      6.90%\n",
      "4          ganciclovir            4      6.90%\n",
      "5        glutamic acid            4      6.90%\n",
      "15         cetrimonium            4      6.90%\n",
      "31           memantine            4      6.90%\n",
      "38    brilliant Blue G            3      5.17%\n",
      "35          phenelzine            3      5.17%\n",
      "33      bempedoic acid            2      3.45%\n",
      "39            naloxone            2      3.45%\n",
      "23          loperamide            2      3.45%\n",
      "12           cerulenin            2      3.45%\n",
      "11           reserpine            2      3.45%\n",
      "40         omapatrilat            1      1.72%\n",
      "37       sulfasalazine            1      1.72%\n",
      "41           adenosine            1      1.72%\n",
      "21       diphenoxylate            1      1.72%\n",
      "32          bortezomib            1      1.72%\n",
      "30         penfluridol            1      1.72%\n",
      "27          amiodarone            1      1.72%\n",
      "26             danazol            1      1.72%\n",
      "25  diethylstilbestrol            1      1.72%\n",
      "24          dobutamine            1      1.72%\n",
      "22             codeine            1      1.72%\n",
      "18        fluostigmine            1      1.72%\n",
      "13            pimozide            1      1.72%\n",
      "42           clozapine            1      1.72%\n"
     ]
    }
   ],
   "source": [
    "drug_candidate_df_dict = {\n",
    "    'Drug': [],\n",
    "    'Appearances': [],\n",
    "    'Percentage': []\n",
    "}\n",
    "for key, val in drug_candidates.items():\n",
    "    drug_candidate_df_dict['Drug'].append(key)\n",
    "    drug_candidate_df_dict['Appearances'].append(val)\n",
    "    drug_candidate_df_dict['Percentage'].append(val/symptoms.shape[0]*100)\n",
    "    \n",
    "drug_candidates_df = pd.DataFrame.from_dict(drug_candidate_df_dict)\n",
    "drug_candidates_df['Percentage'] = drug_candidates_df['Percentage'].transform(lambda x: '{:,.2f}%'.format(x))\n",
    "drug_candidates_df = drug_candidates_df.sort_values(by = ['Appearances'], ascending = False)\n",
    "\n",
    "drug_candidates_df.to_pickle(f'{pred_output_dir}/{dataset_prefix}_{disease_prefix}_drug_candidates_{embedding_method}.pkl')\n",
    "\n",
    "print(drug_candidates_df)"
   ]
  },
  {
   "attachments": {},
   "cell_type": "markdown",
   "metadata": {},
   "source": [
    "## Component Analysis"
   ]
  },
  {
   "cell_type": "code",
   "execution_count": 44,
   "metadata": {
    "execution": {
     "iopub.execute_input": "2024-07-26T10:40:36.944466Z",
     "iopub.status.busy": "2024-07-26T10:40:36.943466Z",
     "iopub.status.idle": "2024-07-26T10:40:36.970810Z",
     "shell.execute_reply": "2024-07-26T10:40:36.968807Z"
    }
   },
   "outputs": [],
   "source": [
    "X_data = best_x.detach().cpu().numpy()\n",
    "np.save(f'{pred_output_dir}/{dataset_prefix}_{disease_prefix}_trained_node_embeddings_{embedding_method}.npy', X_data)"
   ]
  },
  {
   "cell_type": "code",
   "execution_count": 45,
   "metadata": {
    "execution": {
     "iopub.execute_input": "2024-07-26T10:40:36.974811Z",
     "iopub.status.busy": "2024-07-26T10:40:36.974811Z",
     "iopub.status.idle": "2024-07-26T10:40:37.017948Z",
     "shell.execute_reply": "2024-07-26T10:40:37.016407Z"
    }
   },
   "outputs": [],
   "source": [
    "z = StandardScaler().fit_transform(X_data)"
   ]
  },
  {
   "attachments": {},
   "cell_type": "markdown",
   "metadata": {},
   "source": [
    "### PCA"
   ]
  },
  {
   "cell_type": "code",
   "execution_count": 46,
   "metadata": {
    "execution": {
     "iopub.execute_input": "2024-07-26T10:40:37.020985Z",
     "iopub.status.busy": "2024-07-26T10:40:37.020985Z",
     "iopub.status.idle": "2024-07-26T10:40:37.128503Z",
     "shell.execute_reply": "2024-07-26T10:40:37.127512Z"
    }
   },
   "outputs": [
    {
     "data": {
      "text/html": [
       "<div>\n",
       "<style scoped>\n",
       "    .dataframe tbody tr th:only-of-type {\n",
       "        vertical-align: middle;\n",
       "    }\n",
       "\n",
       "    .dataframe tbody tr th {\n",
       "        vertical-align: top;\n",
       "    }\n",
       "\n",
       "    .dataframe thead th {\n",
       "        text-align: right;\n",
       "    }\n",
       "</style>\n",
       "<table border=\"1\" class=\"dataframe\">\n",
       "  <thead>\n",
       "    <tr style=\"text-align: right;\">\n",
       "      <th></th>\n",
       "      <th>principal component 1</th>\n",
       "      <th>principal component 2</th>\n",
       "    </tr>\n",
       "  </thead>\n",
       "  <tbody>\n",
       "    <tr>\n",
       "      <th>0</th>\n",
       "      <td>-2.230288</td>\n",
       "      <td>0.129922</td>\n",
       "    </tr>\n",
       "    <tr>\n",
       "      <th>1</th>\n",
       "      <td>7.381241</td>\n",
       "      <td>-3.696235</td>\n",
       "    </tr>\n",
       "    <tr>\n",
       "      <th>2</th>\n",
       "      <td>-3.553512</td>\n",
       "      <td>4.007826</td>\n",
       "    </tr>\n",
       "    <tr>\n",
       "      <th>3</th>\n",
       "      <td>0.564315</td>\n",
       "      <td>-3.416776</td>\n",
       "    </tr>\n",
       "    <tr>\n",
       "      <th>4</th>\n",
       "      <td>-1.101598</td>\n",
       "      <td>5.947453</td>\n",
       "    </tr>\n",
       "    <tr>\n",
       "      <th>...</th>\n",
       "      <td>...</td>\n",
       "      <td>...</td>\n",
       "    </tr>\n",
       "    <tr>\n",
       "      <th>14877</th>\n",
       "      <td>-1.321545</td>\n",
       "      <td>-0.651019</td>\n",
       "    </tr>\n",
       "    <tr>\n",
       "      <th>14878</th>\n",
       "      <td>-4.896600</td>\n",
       "      <td>-2.004680</td>\n",
       "    </tr>\n",
       "    <tr>\n",
       "      <th>14879</th>\n",
       "      <td>3.171006</td>\n",
       "      <td>3.800157</td>\n",
       "    </tr>\n",
       "    <tr>\n",
       "      <th>14880</th>\n",
       "      <td>-3.720435</td>\n",
       "      <td>-0.819556</td>\n",
       "    </tr>\n",
       "    <tr>\n",
       "      <th>14881</th>\n",
       "      <td>-1.925957</td>\n",
       "      <td>-0.742971</td>\n",
       "    </tr>\n",
       "  </tbody>\n",
       "</table>\n",
       "<p>14882 rows × 2 columns</p>\n",
       "</div>"
      ],
      "text/plain": [
       "       principal component 1  principal component 2\n",
       "0                  -2.230288               0.129922\n",
       "1                   7.381241              -3.696235\n",
       "2                  -3.553512               4.007826\n",
       "3                   0.564315              -3.416776\n",
       "4                  -1.101598               5.947453\n",
       "...                      ...                    ...\n",
       "14877              -1.321545              -0.651019\n",
       "14878              -4.896600              -2.004680\n",
       "14879               3.171006               3.800157\n",
       "14880              -3.720435              -0.819556\n",
       "14881              -1.925957              -0.742971\n",
       "\n",
       "[14882 rows x 2 columns]"
      ]
     },
     "execution_count": 46,
     "metadata": {},
     "output_type": "execute_result"
    }
   ],
   "source": [
    "pca = PCA(n_components=32)\n",
    "princ_comp = pca.fit_transform(z)\n",
    "princ_df = pd.DataFrame(data=princ_comp[:, [0,1]], columns=['principal component 1', 'principal component 2'])\n",
    "princ_df"
   ]
  },
  {
   "attachments": {},
   "cell_type": "markdown",
   "metadata": {},
   "source": [
    "Based on plot below, choose the number of components for PCA analysis yielding an amount of variance close to 1.0."
   ]
  },
  {
   "cell_type": "code",
   "execution_count": 47,
   "metadata": {
    "execution": {
     "iopub.execute_input": "2024-07-26T10:40:37.132511Z",
     "iopub.status.busy": "2024-07-26T10:40:37.132511Z",
     "iopub.status.idle": "2024-07-26T10:40:37.539709Z",
     "shell.execute_reply": "2024-07-26T10:40:37.538714Z"
    }
   },
   "outputs": [
    {
     "data": {
      "image/png": "[encoded data removed]",
      "text/plain": [
       "<Figure size 640x480 with 1 Axes>"
      ]
     },
     "metadata": {},
     "output_type": "display_data"
    }
   ],
   "source": [
    "plt.plot(np.cumsum(pca.explained_variance_ratio_))\n",
    "plt.xlabel('number of components')\n",
    "plt.ylabel('cumulative explained variance')\n",
    "plt.show()"
   ]
  },
  {
   "cell_type": "code",
   "execution_count": 48,
   "metadata": {
    "execution": {
     "iopub.execute_input": "2024-07-26T10:40:37.544714Z",
     "iopub.status.busy": "2024-07-26T10:40:37.543715Z",
     "iopub.status.idle": "2024-07-26T10:40:37.570925Z",
     "shell.execute_reply": "2024-07-26T10:40:37.568936Z"
    }
   },
   "outputs": [
    {
     "data": {
      "text/html": [
       "<div>\n",
       "<style scoped>\n",
       "    .dataframe tbody tr th:only-of-type {\n",
       "        vertical-align: middle;\n",
       "    }\n",
       "\n",
       "    .dataframe tbody tr th {\n",
       "        vertical-align: top;\n",
       "    }\n",
       "\n",
       "    .dataframe thead th {\n",
       "        text-align: right;\n",
       "    }\n",
       "</style>\n",
       "<table border=\"1\" class=\"dataframe\">\n",
       "  <thead>\n",
       "    <tr style=\"text-align: right;\">\n",
       "      <th></th>\n",
       "      <th>principal component 1</th>\n",
       "      <th>principal component 2</th>\n",
       "      <th>semantic</th>\n",
       "    </tr>\n",
       "  </thead>\n",
       "  <tbody>\n",
       "    <tr>\n",
       "      <th>0</th>\n",
       "      <td>-2.230288</td>\n",
       "      <td>0.129922</td>\n",
       "      <td>gene</td>\n",
       "    </tr>\n",
       "    <tr>\n",
       "      <th>1</th>\n",
       "      <td>7.381241</td>\n",
       "      <td>-3.696235</td>\n",
       "      <td>phenotype</td>\n",
       "    </tr>\n",
       "    <tr>\n",
       "      <th>2</th>\n",
       "      <td>-3.553512</td>\n",
       "      <td>4.007826</td>\n",
       "      <td>phenotype</td>\n",
       "    </tr>\n",
       "    <tr>\n",
       "      <th>3</th>\n",
       "      <td>0.564315</td>\n",
       "      <td>-3.416776</td>\n",
       "      <td>gene</td>\n",
       "    </tr>\n",
       "    <tr>\n",
       "      <th>4</th>\n",
       "      <td>-1.101598</td>\n",
       "      <td>5.947453</td>\n",
       "      <td>phenotype</td>\n",
       "    </tr>\n",
       "    <tr>\n",
       "      <th>...</th>\n",
       "      <td>...</td>\n",
       "      <td>...</td>\n",
       "      <td>...</td>\n",
       "    </tr>\n",
       "    <tr>\n",
       "      <th>14877</th>\n",
       "      <td>-1.321545</td>\n",
       "      <td>-0.651019</td>\n",
       "      <td>gene</td>\n",
       "    </tr>\n",
       "    <tr>\n",
       "      <th>14878</th>\n",
       "      <td>-4.896600</td>\n",
       "      <td>-2.004680</td>\n",
       "      <td>phenotype</td>\n",
       "    </tr>\n",
       "    <tr>\n",
       "      <th>14879</th>\n",
       "      <td>3.171006</td>\n",
       "      <td>3.800157</td>\n",
       "      <td>gene</td>\n",
       "    </tr>\n",
       "    <tr>\n",
       "      <th>14880</th>\n",
       "      <td>-3.720435</td>\n",
       "      <td>-0.819556</td>\n",
       "      <td>gene</td>\n",
       "    </tr>\n",
       "    <tr>\n",
       "      <th>14881</th>\n",
       "      <td>-1.925957</td>\n",
       "      <td>-0.742971</td>\n",
       "      <td>drug</td>\n",
       "    </tr>\n",
       "  </tbody>\n",
       "</table>\n",
       "<p>14882 rows × 3 columns</p>\n",
       "</div>"
      ],
      "text/plain": [
       "       principal component 1  principal component 2   semantic\n",
       "0                  -2.230288               0.129922       gene\n",
       "1                   7.381241              -3.696235  phenotype\n",
       "2                  -3.553512               4.007826  phenotype\n",
       "3                   0.564315              -3.416776       gene\n",
       "4                  -1.101598               5.947453  phenotype\n",
       "...                      ...                    ...        ...\n",
       "14877              -1.321545              -0.651019       gene\n",
       "14878              -4.896600              -2.004680  phenotype\n",
       "14879               3.171006               3.800157       gene\n",
       "14880              -3.720435              -0.819556       gene\n",
       "14881              -1.925957              -0.742971       drug\n",
       "\n",
       "[14882 rows x 3 columns]"
      ]
     },
     "execution_count": 48,
     "metadata": {},
     "output_type": "execute_result"
    }
   ],
   "source": [
    "pca_df = pd.concat([princ_df, nodes[['semantic']]], axis=1)\n",
    "pca_df"
   ]
  },
  {
   "cell_type": "code",
   "execution_count": 49,
   "metadata": {
    "execution": {
     "iopub.execute_input": "2024-07-26T10:40:37.574940Z",
     "iopub.status.busy": "2024-07-26T10:40:37.574940Z",
     "iopub.status.idle": "2024-07-26T10:40:38.547987Z",
     "shell.execute_reply": "2024-07-26T10:40:38.546979Z"
    }
   },
   "outputs": [
    {
     "data": {
      "image/png": "[encoded data removed]",
      "text/plain": [
       "<Figure size 800x800 with 1 Axes>"
      ]
     },
     "metadata": {},
     "output_type": "display_data"
    }
   ],
   "source": [
    "fig = plt.figure(figsize = (8,8))\n",
    "ax = fig.add_subplot(1, 1, 1)\n",
    "ax.set_xlabel('Principal Component 1', fontsize = 15)\n",
    "ax.set_ylabel('Principal Component 2', fontsize = 15)\n",
    "ax.set_title(f'Two components from 32-PCA on {dataset_prefix} {disease_prefix} dataset with embedding method {embedding_method}', fontsize = 12)\n",
    "\n",
    "unique_node_semantics = list(node_semantic_dict.values())\n",
    "colors = ['silver', 'indianred', 'peru', 'gold', 'olivedrab', 'cadetblue', 'skyblue', 'steelblue', 'royalblue', 'mediumpurple', 'palevioletred', 'lightpink']\n",
    "\n",
    "for target, color in zip(unique_node_semantics, colors):\n",
    "    indicesToKeep = pca_df['semantic'] == target\n",
    "    ax.scatter(pca_df.loc[indicesToKeep, 'principal component 1'], pca_df.loc[indicesToKeep, 'principal component 2'], c = color, s = 50)\n",
    "    \n",
    "ax.legend(unique_node_semantics)\n",
    "ax.grid()\n",
    "\n",
    "plt.show()"
   ]
  },
  {
   "attachments": {},
   "cell_type": "markdown",
   "metadata": {},
   "source": [
    "### t-SNE"
   ]
  },
  {
   "cell_type": "code",
   "execution_count": 50,
   "metadata": {
    "execution": {
     "iopub.execute_input": "2024-07-26T10:40:38.551996Z",
     "iopub.status.busy": "2024-07-26T10:40:38.551996Z",
     "iopub.status.idle": "2024-07-26T10:41:29.351489Z",
     "shell.execute_reply": "2024-07-26T10:41:29.350478Z"
    }
   },
   "outputs": [],
   "source": [
    "X_tsne = TSNE(learning_rate=100, perplexity=40).fit_transform(X_data)"
   ]
  },
  {
   "cell_type": "code",
   "execution_count": 51,
   "metadata": {
    "execution": {
     "iopub.execute_input": "2024-07-26T10:41:29.356486Z",
     "iopub.status.busy": "2024-07-26T10:41:29.355480Z",
     "iopub.status.idle": "2024-07-26T10:41:29.381998Z",
     "shell.execute_reply": "2024-07-26T10:41:29.380996Z"
    }
   },
   "outputs": [
    {
     "data": {
      "text/html": [
       "<div>\n",
       "<style scoped>\n",
       "    .dataframe tbody tr th:only-of-type {\n",
       "        vertical-align: middle;\n",
       "    }\n",
       "\n",
       "    .dataframe tbody tr th {\n",
       "        vertical-align: top;\n",
       "    }\n",
       "\n",
       "    .dataframe thead th {\n",
       "        text-align: right;\n",
       "    }\n",
       "</style>\n",
       "<table border=\"1\" class=\"dataframe\">\n",
       "  <thead>\n",
       "    <tr style=\"text-align: right;\">\n",
       "      <th></th>\n",
       "      <th>t-SNE 1</th>\n",
       "      <th>t-SNE 2</th>\n",
       "    </tr>\n",
       "  </thead>\n",
       "  <tbody>\n",
       "    <tr>\n",
       "      <th>0</th>\n",
       "      <td>-55.096188</td>\n",
       "      <td>-24.800375</td>\n",
       "    </tr>\n",
       "    <tr>\n",
       "      <th>1</th>\n",
       "      <td>33.754047</td>\n",
       "      <td>-45.454174</td>\n",
       "    </tr>\n",
       "    <tr>\n",
       "      <th>2</th>\n",
       "      <td>-3.538800</td>\n",
       "      <td>64.293793</td>\n",
       "    </tr>\n",
       "    <tr>\n",
       "      <th>3</th>\n",
       "      <td>-12.733338</td>\n",
       "      <td>-53.177357</td>\n",
       "    </tr>\n",
       "    <tr>\n",
       "      <th>4</th>\n",
       "      <td>-25.261324</td>\n",
       "      <td>27.947533</td>\n",
       "    </tr>\n",
       "    <tr>\n",
       "      <th>...</th>\n",
       "      <td>...</td>\n",
       "      <td>...</td>\n",
       "    </tr>\n",
       "    <tr>\n",
       "      <th>14877</th>\n",
       "      <td>-67.066658</td>\n",
       "      <td>-31.965900</td>\n",
       "    </tr>\n",
       "    <tr>\n",
       "      <th>14878</th>\n",
       "      <td>-43.275295</td>\n",
       "      <td>-23.264458</td>\n",
       "    </tr>\n",
       "    <tr>\n",
       "      <th>14879</th>\n",
       "      <td>10.617847</td>\n",
       "      <td>10.981999</td>\n",
       "    </tr>\n",
       "    <tr>\n",
       "      <th>14880</th>\n",
       "      <td>25.025745</td>\n",
       "      <td>43.800938</td>\n",
       "    </tr>\n",
       "    <tr>\n",
       "      <th>14881</th>\n",
       "      <td>-42.574184</td>\n",
       "      <td>54.852867</td>\n",
       "    </tr>\n",
       "  </tbody>\n",
       "</table>\n",
       "<p>14882 rows × 2 columns</p>\n",
       "</div>"
      ],
      "text/plain": [
       "         t-SNE 1    t-SNE 2\n",
       "0     -55.096188 -24.800375\n",
       "1      33.754047 -45.454174\n",
       "2      -3.538800  64.293793\n",
       "3     -12.733338 -53.177357\n",
       "4     -25.261324  27.947533\n",
       "...          ...        ...\n",
       "14877 -67.066658 -31.965900\n",
       "14878 -43.275295 -23.264458\n",
       "14879  10.617847  10.981999\n",
       "14880  25.025745  43.800938\n",
       "14881 -42.574184  54.852867\n",
       "\n",
       "[14882 rows x 2 columns]"
      ]
     },
     "execution_count": 51,
     "metadata": {},
     "output_type": "execute_result"
    }
   ],
   "source": [
    "comp_tsne = pd.DataFrame(data=X_tsne, columns=['t-SNE 1', 't-SNE 2'])\n",
    "comp_tsne"
   ]
  },
  {
   "cell_type": "code",
   "execution_count": 52,
   "metadata": {
    "execution": {
     "iopub.execute_input": "2024-07-26T10:41:29.385998Z",
     "iopub.status.busy": "2024-07-26T10:41:29.385998Z",
     "iopub.status.idle": "2024-07-26T10:41:29.414003Z",
     "shell.execute_reply": "2024-07-26T10:41:29.412996Z"
    }
   },
   "outputs": [
    {
     "data": {
      "text/html": [
       "<div>\n",
       "<style scoped>\n",
       "    .dataframe tbody tr th:only-of-type {\n",
       "        vertical-align: middle;\n",
       "    }\n",
       "\n",
       "    .dataframe tbody tr th {\n",
       "        vertical-align: top;\n",
       "    }\n",
       "\n",
       "    .dataframe thead th {\n",
       "        text-align: right;\n",
       "    }\n",
       "</style>\n",
       "<table border=\"1\" class=\"dataframe\">\n",
       "  <thead>\n",
       "    <tr style=\"text-align: right;\">\n",
       "      <th></th>\n",
       "      <th>t-SNE 1</th>\n",
       "      <th>t-SNE 2</th>\n",
       "      <th>semantic</th>\n",
       "    </tr>\n",
       "  </thead>\n",
       "  <tbody>\n",
       "    <tr>\n",
       "      <th>0</th>\n",
       "      <td>-55.096188</td>\n",
       "      <td>-24.800375</td>\n",
       "      <td>gene</td>\n",
       "    </tr>\n",
       "    <tr>\n",
       "      <th>1</th>\n",
       "      <td>33.754047</td>\n",
       "      <td>-45.454174</td>\n",
       "      <td>phenotype</td>\n",
       "    </tr>\n",
       "    <tr>\n",
       "      <th>2</th>\n",
       "      <td>-3.538800</td>\n",
       "      <td>64.293793</td>\n",
       "      <td>phenotype</td>\n",
       "    </tr>\n",
       "    <tr>\n",
       "      <th>3</th>\n",
       "      <td>-12.733338</td>\n",
       "      <td>-53.177357</td>\n",
       "      <td>gene</td>\n",
       "    </tr>\n",
       "    <tr>\n",
       "      <th>4</th>\n",
       "      <td>-25.261324</td>\n",
       "      <td>27.947533</td>\n",
       "      <td>phenotype</td>\n",
       "    </tr>\n",
       "    <tr>\n",
       "      <th>...</th>\n",
       "      <td>...</td>\n",
       "      <td>...</td>\n",
       "      <td>...</td>\n",
       "    </tr>\n",
       "    <tr>\n",
       "      <th>14877</th>\n",
       "      <td>-67.066658</td>\n",
       "      <td>-31.965900</td>\n",
       "      <td>gene</td>\n",
       "    </tr>\n",
       "    <tr>\n",
       "      <th>14878</th>\n",
       "      <td>-43.275295</td>\n",
       "      <td>-23.264458</td>\n",
       "      <td>phenotype</td>\n",
       "    </tr>\n",
       "    <tr>\n",
       "      <th>14879</th>\n",
       "      <td>10.617847</td>\n",
       "      <td>10.981999</td>\n",
       "      <td>gene</td>\n",
       "    </tr>\n",
       "    <tr>\n",
       "      <th>14880</th>\n",
       "      <td>25.025745</td>\n",
       "      <td>43.800938</td>\n",
       "      <td>gene</td>\n",
       "    </tr>\n",
       "    <tr>\n",
       "      <th>14881</th>\n",
       "      <td>-42.574184</td>\n",
       "      <td>54.852867</td>\n",
       "      <td>drug</td>\n",
       "    </tr>\n",
       "  </tbody>\n",
       "</table>\n",
       "<p>14882 rows × 3 columns</p>\n",
       "</div>"
      ],
      "text/plain": [
       "         t-SNE 1    t-SNE 2   semantic\n",
       "0     -55.096188 -24.800375       gene\n",
       "1      33.754047 -45.454174  phenotype\n",
       "2      -3.538800  64.293793  phenotype\n",
       "3     -12.733338 -53.177357       gene\n",
       "4     -25.261324  27.947533  phenotype\n",
       "...          ...        ...        ...\n",
       "14877 -67.066658 -31.965900       gene\n",
       "14878 -43.275295 -23.264458  phenotype\n",
       "14879  10.617847  10.981999       gene\n",
       "14880  25.025745  43.800938       gene\n",
       "14881 -42.574184  54.852867       drug\n",
       "\n",
       "[14882 rows x 3 columns]"
      ]
     },
     "execution_count": 52,
     "metadata": {},
     "output_type": "execute_result"
    }
   ],
   "source": [
    "tsne_df = pd.concat([comp_tsne, nodes[['semantic']]], axis=1)\n",
    "tsne_df"
   ]
  },
  {
   "cell_type": "code",
   "execution_count": 53,
   "metadata": {
    "execution": {
     "iopub.execute_input": "2024-07-26T10:41:29.418998Z",
     "iopub.status.busy": "2024-07-26T10:41:29.417996Z",
     "iopub.status.idle": "2024-07-26T10:41:30.486535Z",
     "shell.execute_reply": "2024-07-26T10:41:30.485531Z"
    }
   },
   "outputs": [
    {
     "data": {
      "image/png": "[encoded data removed]",
      "text/plain": [
       "<Figure size 800x800 with 1 Axes>"
      ]
     },
     "metadata": {},
     "output_type": "display_data"
    }
   ],
   "source": [
    "fig = plt.figure(figsize = (8,8))\n",
    "ax = fig.add_subplot(1, 1, 1)\n",
    "ax.set_xlabel('Principal Component 1', fontsize = 15)\n",
    "ax.set_ylabel('Principal Component 2', fontsize = 15)\n",
    "ax.set_title(f'Two component t-SNE on {dataset_prefix} {disease_prefix} dataset with embedding method {embedding_method}', fontsize = 12)\n",
    "\n",
    "unique_node_semantics = list(node_semantic_dict.values())\n",
    "colors = ['silver', 'indianred', 'peru', 'gold', 'olivedrab', 'cadetblue', 'skyblue', 'steelblue', 'royalblue', 'mediumpurple', 'palevioletred', 'lightpink']\n",
    "\n",
    "for target, color in zip(unique_node_semantics, colors):\n",
    "    indicesToKeep = tsne_df['semantic'] == target\n",
    "    ax.scatter(tsne_df.loc[indicesToKeep, 't-SNE 1'], tsne_df.loc[indicesToKeep, 't-SNE 2'], c = color, s = 50)\n",
    "    \n",
    "ax.legend(unique_node_semantics)\n",
    "ax.grid()\n",
    "\n",
    "plt.show()"
   ]
  }
 ],
 "metadata": {
  "kernelspec": {
   "display_name": "xaifo",
   "language": "python",
   "name": "python3"
  },
  "language_info": {
   "codemirror_mode": {
    "name": "ipython",
    "version": 3
   },
   "file_extension": ".py",
   "mimetype": "text/x-python",
   "name": "python",
   "nbconvert_exporter": "python",
   "pygments_lexer": "ipython3",
   "version": "3.10.11"
  }
 },
 "nbformat": 4,
 "nbformat_minor": 2
}
