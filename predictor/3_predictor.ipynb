{
 "cells": [
  {
   "attachments": {},
   "cell_type": "markdown",
   "metadata": {},
   "source": [
    "Adapted by Rosa Zwart from Jupyter Notebooks found at https://github.com/PPerdomoQ/rare-disease-explainer"
   ]
  },
  {
   "attachments": {},
   "cell_type": "markdown",
   "metadata": {},
   "source": [
    "# Import Libraries"
   ]
  },
  {
   "cell_type": "code",
   "execution_count": 1,
   "metadata": {
    "execution": {
     "iopub.execute_input": "2024-08-06T23:01:23.737838Z",
     "iopub.status.busy": "2024-08-06T23:01:23.737838Z",
     "iopub.status.idle": "2024-08-06T23:01:29.874644Z",
     "shell.execute_reply": "2024-08-06T23:01:29.872640Z"
    }
   },
   "outputs": [],
   "source": [
    "import os\n",
    "import pandas as pd\n",
    "import numpy as np\n",
    "import networkx as nx\n",
    "import pickle\n",
    "\n",
    "import torch\n",
    "from torch.utils.data import DataLoader\n",
    "\n",
    "from deepsnap.dataset import GraphDataset\n",
    "from deepsnap.batch import Batch\n",
    "from deepsnap.graph import Graph\n",
    "\n",
    "from sklearn.metrics import roc_auc_score, roc_curve, f1_score, classification_report, confusion_matrix\n",
    "import matplotlib.pyplot as plt\n",
    "\n",
    "from gensim.models import KeyedVectors\n",
    "\n",
    "from sklearn.preprocessing import StandardScaler\n",
    "from sklearn.decomposition import PCA\n",
    "from sklearn.manifold import TSNE\n",
    "\n",
    "from gnn.linkpred_model import LinkPredModel, train, test\n",
    "import data_params as input_data_params"
   ]
  },
  {
   "cell_type": "code",
   "execution_count": 2,
   "metadata": {
    "execution": {
     "iopub.execute_input": "2024-08-06T23:01:29.878643Z",
     "iopub.status.busy": "2024-08-06T23:01:29.877643Z",
     "iopub.status.idle": "2024-08-06T23:01:29.889654Z",
     "shell.execute_reply": "2024-08-06T23:01:29.888655Z"
    }
   },
   "outputs": [
    {
     "name": "stdout",
     "output_type": "stream",
     "text": [
      "Using device: cpu\n"
     ]
    }
   ],
   "source": [
    "torch_device = torch.device('cuda' if torch.cuda.is_available() else 'cpu')\n",
    "print('Using device:', torch_device)"
   ]
  },
  {
   "cell_type": "markdown",
   "metadata": {},
   "source": [
    "# Set Parameters"
   ]
  },
  {
   "attachments": {},
   "cell_type": "markdown",
   "metadata": {},
   "source": [
    "Specify which dataset is used, 1 (original knowledge graph) or 2 (restructured knowledge graph)"
   ]
  },
  {
   "cell_type": "code",
   "execution_count": 3,
   "metadata": {
    "execution": {
     "iopub.execute_input": "2024-08-06T23:01:29.939174Z",
     "iopub.status.busy": "2024-08-06T23:01:29.938176Z",
     "iopub.status.idle": "2024-08-06T23:01:29.953178Z",
     "shell.execute_reply": "2024-08-06T23:01:29.952179Z"
    }
   },
   "outputs": [
    {
     "name": "stdout",
     "output_type": "stream",
     "text": [
      "prev hd\n"
     ]
    }
   ],
   "source": [
    "dataset_prefix = input_data_params.dataset\n",
    "\n",
    "disease_prefix = input_data_params.disease\n",
    "assert disease_prefix == 'dmd' or 'hd' or 'oi'\n",
    "\n",
    "embedding_method = 'e2v'\n",
    "\n",
    "seeded_emb = input_data_params.e2v_seed\n",
    "\n",
    "if seeded_emb:\n",
    "    fixed_emb = '_seeded'\n",
    "else:\n",
    "    fixed_emb = ''\n",
    "\n",
    "print(dataset_prefix, disease_prefix)"
   ]
  },
  {
   "cell_type": "markdown",
   "metadata": {},
   "source": [
    "# Set Folder"
   ]
  },
  {
   "cell_type": "code",
   "execution_count": 4,
   "metadata": {
    "execution": {
     "iopub.execute_input": "2024-08-06T23:01:29.958182Z",
     "iopub.status.busy": "2024-08-06T23:01:29.957190Z",
     "iopub.status.idle": "2024-08-06T23:01:29.983196Z",
     "shell.execute_reply": "2024-08-06T23:01:29.982189Z"
    }
   },
   "outputs": [
    {
     "name": "stdout",
     "output_type": "stream",
     "text": [
      "Output folder for dataset prev hd exists and will be used: C:\\Users\\rosa-\\OneDrive\\Documents\\GitHub\\XAI-FO\\output\\hd\\prev_e2v\n",
      "Output folder for predictions from dataset prev hd is created: C:\\Users\\rosa-\\OneDrive\\Documents\\GitHub\\XAI-FO\\output\\hd\\prev_e2v\\run_010\\pred\n"
     ]
    }
   ],
   "source": [
    "curr_working_dir = os.path.dirname(os.getcwd())\n",
    "curr_output_dir = os.path.join(curr_working_dir, 'output', disease_prefix)\n",
    "dataset_output_dir = os.path.join(curr_output_dir, f'{dataset_prefix}_{embedding_method}{fixed_emb}')\n",
    "\n",
    "if not os.path.exists(dataset_output_dir):\n",
    "    print('First, run the edge2vec embedding script. Then, run this script.')\n",
    "else:\n",
    "    print(f'Output folder for dataset {dataset_prefix} {disease_prefix} exists and will be used: {dataset_output_dir}')\n",
    "    \n",
    "run_folders_list = []\n",
    "for item in os.listdir(dataset_output_dir):\n",
    "    curr_path = os.path.join(dataset_output_dir, item)\n",
    "    if os.path.isdir(curr_path) and 'run' in item:\n",
    "        run_folders_list.append(item)\n",
    "        \n",
    "if len(run_folders_list) > 0:\n",
    "    run_folders_list.sort(reverse=True)\n",
    "    latest_run = run_folders_list[0]\n",
    "    \n",
    "    run_dir = os.path.join(dataset_output_dir, latest_run)\n",
    "    \n",
    "    pred_output_dir = os.path.join(run_dir, 'pred')\n",
    "    if not os.path.exists(pred_output_dir):\n",
    "        os.mkdir(pred_output_dir)\n",
    "        print(f'Output folder for predictions from dataset {dataset_prefix} {disease_prefix} is created: {pred_output_dir}')\n",
    "    else:\n",
    "        print(f'Output folder for predictions from dataset {dataset_prefix} {disease_prefix} already exists and will be used: {pred_output_dir}')\n",
    "    \n",
    "else:\n",
    "    print('First, run the edge2vec embedding script. Then, run this script.')"
   ]
  },
  {
   "cell_type": "code",
   "execution_count": 5,
   "metadata": {
    "execution": {
     "iopub.execute_input": "2024-08-06T23:01:29.988213Z",
     "iopub.status.busy": "2024-08-06T23:01:29.987187Z",
     "iopub.status.idle": "2024-08-06T23:01:29.998743Z",
     "shell.execute_reply": "2024-08-06T23:01:29.997758Z"
    }
   },
   "outputs": [
    {
     "data": {
      "text/plain": [
       "'C:\\\\Users\\\\rosa-\\\\OneDrive\\\\Documents\\\\GitHub\\\\XAI-FO\\\\output\\\\hd\\\\prev_e2v\\\\run_010'"
      ]
     },
     "execution_count": 5,
     "metadata": {},
     "output_type": "execute_result"
    }
   ],
   "source": [
    "run_dir"
   ]
  },
  {
   "attachments": {},
   "cell_type": "markdown",
   "metadata": {},
   "source": [
    "# Load Data"
   ]
  },
  {
   "cell_type": "markdown",
   "metadata": {},
   "source": [
    "Load all nodes"
   ]
  },
  {
   "cell_type": "code",
   "execution_count": 6,
   "metadata": {
    "execution": {
     "iopub.execute_input": "2024-08-06T23:01:30.005737Z",
     "iopub.status.busy": "2024-08-06T23:01:30.004747Z",
     "iopub.status.idle": "2024-08-06T23:01:30.059744Z",
     "shell.execute_reply": "2024-08-06T23:01:30.058742Z"
    }
   },
   "outputs": [
    {
     "data": {
      "text/html": [
       "<div>\n",
       "<style scoped>\n",
       "    .dataframe tbody tr th:only-of-type {\n",
       "        vertical-align: middle;\n",
       "    }\n",
       "\n",
       "    .dataframe tbody tr th {\n",
       "        vertical-align: top;\n",
       "    }\n",
       "\n",
       "    .dataframe thead th {\n",
       "        text-align: right;\n",
       "    }\n",
       "</style>\n",
       "<table border=\"1\" class=\"dataframe\">\n",
       "  <thead>\n",
       "    <tr style=\"text-align: right;\">\n",
       "      <th></th>\n",
       "      <th>id</th>\n",
       "      <th>semantic</th>\n",
       "      <th>label</th>\n",
       "      <th>semantic_id</th>\n",
       "    </tr>\n",
       "  </thead>\n",
       "  <tbody>\n",
       "    <tr>\n",
       "      <th>0</th>\n",
       "      <td>ENSEMBL:ENSRNOG00000061099</td>\n",
       "      <td>ORTH</td>\n",
       "      <td>A0A0G2JVI3</td>\n",
       "      <td>5</td>\n",
       "    </tr>\n",
       "    <tr>\n",
       "      <th>1</th>\n",
       "      <td>ENSEMBL:ENSSSCG00000038558</td>\n",
       "      <td>ORTH</td>\n",
       "      <td>ENSEMBL:ENSSSCG00000038558</td>\n",
       "      <td>5</td>\n",
       "    </tr>\n",
       "    <tr>\n",
       "      <th>2</th>\n",
       "      <td>MP:0002682</td>\n",
       "      <td>DISO</td>\n",
       "      <td>decreased mature ovarian follicle number</td>\n",
       "      <td>1</td>\n",
       "    </tr>\n",
       "    <tr>\n",
       "      <th>3</th>\n",
       "      <td>ENSEMBL:ENSECAG00000014460</td>\n",
       "      <td>ORTH</td>\n",
       "      <td>ENSEMBL:ENSECAG00000014460</td>\n",
       "      <td>5</td>\n",
       "    </tr>\n",
       "    <tr>\n",
       "      <th>4</th>\n",
       "      <td>HP:0000736</td>\n",
       "      <td>DISO</td>\n",
       "      <td>Short attention span</td>\n",
       "      <td>1</td>\n",
       "    </tr>\n",
       "    <tr>\n",
       "      <th>...</th>\n",
       "      <td>...</td>\n",
       "      <td>...</td>\n",
       "      <td>...</td>\n",
       "      <td>...</td>\n",
       "    </tr>\n",
       "    <tr>\n",
       "      <th>14828</th>\n",
       "      <td>ENSEMBL:ENSPTRG00000041525</td>\n",
       "      <td>ORTH</td>\n",
       "      <td>ENSEMBL:ENSPTRG00000041525</td>\n",
       "      <td>5</td>\n",
       "    </tr>\n",
       "    <tr>\n",
       "      <th>14829</th>\n",
       "      <td>RGD:1308778</td>\n",
       "      <td>ORTH</td>\n",
       "      <td>Upf3a</td>\n",
       "      <td>5</td>\n",
       "    </tr>\n",
       "    <tr>\n",
       "      <th>14830</th>\n",
       "      <td>ENSEMBL:ENSECAG00000023674</td>\n",
       "      <td>ORTH</td>\n",
       "      <td>ENSEMBL:ENSECAG00000023674</td>\n",
       "      <td>5</td>\n",
       "    </tr>\n",
       "    <tr>\n",
       "      <th>14831</th>\n",
       "      <td>dictyBase:DDB_G0292406</td>\n",
       "      <td>GENO</td>\n",
       "      <td>rab4</td>\n",
       "      <td>4</td>\n",
       "    </tr>\n",
       "    <tr>\n",
       "      <th>14832</th>\n",
       "      <td>ENSEMBL:ENSECAG00000021107</td>\n",
       "      <td>ORTH</td>\n",
       "      <td>ENSEMBL:ENSECAG00000021107</td>\n",
       "      <td>5</td>\n",
       "    </tr>\n",
       "  </tbody>\n",
       "</table>\n",
       "<p>14833 rows × 4 columns</p>\n",
       "</div>"
      ],
      "text/plain": [
       "                               id semantic  \\\n",
       "0      ENSEMBL:ENSRNOG00000061099     ORTH   \n",
       "1      ENSEMBL:ENSSSCG00000038558     ORTH   \n",
       "2                      MP:0002682     DISO   \n",
       "3      ENSEMBL:ENSECAG00000014460     ORTH   \n",
       "4                      HP:0000736     DISO   \n",
       "...                           ...      ...   \n",
       "14828  ENSEMBL:ENSPTRG00000041525     ORTH   \n",
       "14829                 RGD:1308778     ORTH   \n",
       "14830  ENSEMBL:ENSECAG00000023674     ORTH   \n",
       "14831      dictyBase:DDB_G0292406     GENO   \n",
       "14832  ENSEMBL:ENSECAG00000021107     ORTH   \n",
       "\n",
       "                                          label  semantic_id  \n",
       "0                                    A0A0G2JVI3            5  \n",
       "1                    ENSEMBL:ENSSSCG00000038558            5  \n",
       "2      decreased mature ovarian follicle number            1  \n",
       "3                    ENSEMBL:ENSECAG00000014460            5  \n",
       "4                          Short attention span            1  \n",
       "...                                         ...          ...  \n",
       "14828                ENSEMBL:ENSPTRG00000041525            5  \n",
       "14829                                     Upf3a            5  \n",
       "14830                ENSEMBL:ENSECAG00000023674            5  \n",
       "14831                                      rab4            4  \n",
       "14832                ENSEMBL:ENSECAG00000021107            5  \n",
       "\n",
       "[14833 rows x 4 columns]"
      ]
     },
     "execution_count": 6,
     "metadata": {},
     "output_type": "execute_result"
    }
   ],
   "source": [
    "nodes = pd.read_csv(f'../output/{disease_prefix}/{dataset_prefix}_{disease_prefix}_indexed_nodes.csv')\n",
    "nodes.drop('index_id', axis=1, inplace=True)\n",
    "nodes['semantic'] = nodes['semantic'].astype('category')\n",
    "nodes"
   ]
  },
  {
   "cell_type": "code",
   "execution_count": 7,
   "metadata": {
    "execution": {
     "iopub.execute_input": "2024-08-06T23:01:30.065745Z",
     "iopub.status.busy": "2024-08-06T23:01:30.064737Z",
     "iopub.status.idle": "2024-08-06T23:01:30.091784Z",
     "shell.execute_reply": "2024-08-06T23:01:30.089796Z"
    }
   },
   "outputs": [
    {
     "data": {
      "text/html": [
       "<div>\n",
       "<style scoped>\n",
       "    .dataframe tbody tr th:only-of-type {\n",
       "        vertical-align: middle;\n",
       "    }\n",
       "\n",
       "    .dataframe tbody tr th {\n",
       "        vertical-align: top;\n",
       "    }\n",
       "\n",
       "    .dataframe thead th {\n",
       "        text-align: right;\n",
       "    }\n",
       "</style>\n",
       "<table border=\"1\" class=\"dataframe\">\n",
       "  <thead>\n",
       "    <tr style=\"text-align: right;\">\n",
       "      <th></th>\n",
       "      <th>id</th>\n",
       "      <th>semantic</th>\n",
       "      <th>label</th>\n",
       "      <th>semantic_id</th>\n",
       "    </tr>\n",
       "  </thead>\n",
       "  <tbody>\n",
       "    <tr>\n",
       "      <th>43</th>\n",
       "      <td>90</td>\n",
       "      <td>DRUG</td>\n",
       "      <td>adenosine</td>\n",
       "      <td>2</td>\n",
       "    </tr>\n",
       "    <tr>\n",
       "      <th>46</th>\n",
       "      <td>91</td>\n",
       "      <td>DRUG</td>\n",
       "      <td>adenosine triphosphate</td>\n",
       "      <td>2</td>\n",
       "    </tr>\n",
       "    <tr>\n",
       "      <th>52</th>\n",
       "      <td>114</td>\n",
       "      <td>DRUG</td>\n",
       "      <td>alfentanil</td>\n",
       "      <td>2</td>\n",
       "    </tr>\n",
       "    <tr>\n",
       "      <th>67</th>\n",
       "      <td>143</td>\n",
       "      <td>DRUG</td>\n",
       "      <td>alvimopan</td>\n",
       "      <td>2</td>\n",
       "    </tr>\n",
       "    <tr>\n",
       "      <th>80</th>\n",
       "      <td>176</td>\n",
       "      <td>DRUG</td>\n",
       "      <td>amiodarone</td>\n",
       "      <td>2</td>\n",
       "    </tr>\n",
       "    <tr>\n",
       "      <th>...</th>\n",
       "      <td>...</td>\n",
       "      <td>...</td>\n",
       "      <td>...</td>\n",
       "      <td>...</td>\n",
       "    </tr>\n",
       "    <tr>\n",
       "      <th>2699</th>\n",
       "      <td>5460</td>\n",
       "      <td>DRUG</td>\n",
       "      <td>samidorphan</td>\n",
       "      <td>2</td>\n",
       "    </tr>\n",
       "    <tr>\n",
       "      <th>3812</th>\n",
       "      <td>1567</td>\n",
       "      <td>DRUG</td>\n",
       "      <td>levodopa</td>\n",
       "      <td>2</td>\n",
       "    </tr>\n",
       "    <tr>\n",
       "      <th>7949</th>\n",
       "      <td>3424</td>\n",
       "      <td>DRUG</td>\n",
       "      <td>pentazocine</td>\n",
       "      <td>2</td>\n",
       "    </tr>\n",
       "    <tr>\n",
       "      <th>11951</th>\n",
       "      <td>1045</td>\n",
       "      <td>DRUG</td>\n",
       "      <td>erlotinib</td>\n",
       "      <td>2</td>\n",
       "    </tr>\n",
       "    <tr>\n",
       "      <th>12014</th>\n",
       "      <td>5256</td>\n",
       "      <td>DRUG</td>\n",
       "      <td>copanlisib</td>\n",
       "      <td>2</td>\n",
       "    </tr>\n",
       "  </tbody>\n",
       "</table>\n",
       "<p>215 rows × 4 columns</p>\n",
       "</div>"
      ],
      "text/plain": [
       "         id semantic                   label  semantic_id\n",
       "43       90     DRUG               adenosine            2\n",
       "46       91     DRUG  adenosine triphosphate            2\n",
       "52      114     DRUG              alfentanil            2\n",
       "67      143     DRUG               alvimopan            2\n",
       "80      176     DRUG              amiodarone            2\n",
       "...     ...      ...                     ...          ...\n",
       "2699   5460     DRUG             samidorphan            2\n",
       "3812   1567     DRUG                levodopa            2\n",
       "7949   3424     DRUG             pentazocine            2\n",
       "11951  1045     DRUG               erlotinib            2\n",
       "12014  5256     DRUG              copanlisib            2\n",
       "\n",
       "[215 rows x 4 columns]"
      ]
     },
     "execution_count": 7,
     "metadata": {},
     "output_type": "execute_result"
    }
   ],
   "source": [
    "if dataset_prefix == 'prev':\n",
    "    drug_semantic_name = 'DRUG'\n",
    "else:\n",
    "    drug_semantic_name = 'drug'\n",
    "    \n",
    "nodes[nodes['semantic'] == drug_semantic_name]"
   ]
  },
  {
   "cell_type": "code",
   "execution_count": 8,
   "metadata": {
    "execution": {
     "iopub.execute_input": "2024-08-06T23:01:30.096317Z",
     "iopub.status.busy": "2024-08-06T23:01:30.095305Z",
     "iopub.status.idle": "2024-08-06T23:01:30.122327Z",
     "shell.execute_reply": "2024-08-06T23:01:30.121334Z"
    }
   },
   "outputs": [
    {
     "data": {
      "text/html": [
       "<div>\n",
       "<style scoped>\n",
       "    .dataframe tbody tr th:only-of-type {\n",
       "        vertical-align: middle;\n",
       "    }\n",
       "\n",
       "    .dataframe tbody tr th {\n",
       "        vertical-align: top;\n",
       "    }\n",
       "\n",
       "    .dataframe thead th {\n",
       "        text-align: right;\n",
       "    }\n",
       "</style>\n",
       "<table border=\"1\" class=\"dataframe\">\n",
       "  <thead>\n",
       "    <tr style=\"text-align: right;\">\n",
       "      <th></th>\n",
       "      <th>id</th>\n",
       "      <th>semantic</th>\n",
       "      <th>label</th>\n",
       "      <th>semantic_id</th>\n",
       "    </tr>\n",
       "  </thead>\n",
       "  <tbody>\n",
       "    <tr>\n",
       "      <th>24</th>\n",
       "      <td>MONARCH:APO_0000309APO_0000005</td>\n",
       "      <td>GENO</td>\n",
       "      <td>respiratory growth:absent</td>\n",
       "      <td>4</td>\n",
       "    </tr>\n",
       "  </tbody>\n",
       "</table>\n",
       "</div>"
      ],
      "text/plain": [
       "                                id semantic                      label  \\\n",
       "24  MONARCH:APO_0000309APO_0000005     GENO  respiratory growth:absent   \n",
       "\n",
       "    semantic_id  \n",
       "24            4  "
      ]
     },
     "execution_count": 8,
     "metadata": {},
     "output_type": "execute_result"
    }
   ],
   "source": [
    "nodes.iloc[[24]]"
   ]
  },
  {
   "cell_type": "markdown",
   "metadata": {},
   "source": [
    "The dictionary below can be used as mapping between generated semantic ID and semantic group label."
   ]
  },
  {
   "cell_type": "code",
   "execution_count": 9,
   "metadata": {
    "execution": {
     "iopub.execute_input": "2024-08-06T23:01:30.127346Z",
     "iopub.status.busy": "2024-08-06T23:01:30.127346Z",
     "iopub.status.idle": "2024-08-06T23:01:30.138373Z",
     "shell.execute_reply": "2024-08-06T23:01:30.137362Z"
    }
   },
   "outputs": [
    {
     "data": {
      "text/plain": [
       "{5: 'ORTH',\n",
       " 1: 'DISO',\n",
       " 4: 'GENO',\n",
       " 2: 'DRUG',\n",
       " 3: 'GENE',\n",
       " 0: 'ANAT',\n",
       " 6: 'PHYS',\n",
       " 7: 'VARI'}"
      ]
     },
     "execution_count": 9,
     "metadata": {},
     "output_type": "execute_result"
    }
   ],
   "source": [
    "node_semantic_dict = dict(zip(nodes['semantic_id'], nodes['semantic']))\n",
    "node_semantic_dict"
   ]
  },
  {
   "cell_type": "markdown",
   "metadata": {},
   "source": [
    "Load the node embeddings"
   ]
  },
  {
   "cell_type": "code",
   "execution_count": 10,
   "metadata": {
    "execution": {
     "iopub.execute_input": "2024-08-06T23:01:30.143382Z",
     "iopub.status.busy": "2024-08-06T23:01:30.142378Z",
     "iopub.status.idle": "2024-08-06T23:01:30.153940Z",
     "shell.execute_reply": "2024-08-06T23:01:30.152954Z"
    }
   },
   "outputs": [],
   "source": [
    "def loadEdge2VecEmbedding(): \n",
    "    node_feat = KeyedVectors.load(f'{run_dir}/w2v_{dataset_prefix}_{disease_prefix}.dvectors', mmap='r')\n",
    "    e2v_embedding = pd.DataFrame(columns = ['Node', 'Embedding'])\n",
    "    for idx, key in enumerate(node_feat.index_to_key):\n",
    "        e2v_embedding.loc[int(key)] = pd.Series({'Node':int(key), 'Embedding':list(node_feat[key])})\n",
    "        \n",
    "    return e2v_embedding.sort_values('Node')"
   ]
  },
  {
   "cell_type": "code",
   "execution_count": 11,
   "metadata": {
    "execution": {
     "iopub.execute_input": "2024-08-06T23:01:30.158932Z",
     "iopub.status.busy": "2024-08-06T23:01:30.157944Z",
     "iopub.status.idle": "2024-08-06T23:02:19.612668Z",
     "shell.execute_reply": "2024-08-06T23:02:19.611668Z"
    }
   },
   "outputs": [
    {
     "data": {
      "text/html": [
       "<div>\n",
       "<style scoped>\n",
       "    .dataframe tbody tr th:only-of-type {\n",
       "        vertical-align: middle;\n",
       "    }\n",
       "\n",
       "    .dataframe tbody tr th {\n",
       "        vertical-align: top;\n",
       "    }\n",
       "\n",
       "    .dataframe thead th {\n",
       "        text-align: right;\n",
       "    }\n",
       "</style>\n",
       "<table border=\"1\" class=\"dataframe\">\n",
       "  <thead>\n",
       "    <tr style=\"text-align: right;\">\n",
       "      <th></th>\n",
       "      <th>Node</th>\n",
       "      <th>Embedding</th>\n",
       "    </tr>\n",
       "  </thead>\n",
       "  <tbody>\n",
       "    <tr>\n",
       "      <th>0</th>\n",
       "      <td>0</td>\n",
       "      <td>[-0.36822534, -1.0419636, 0.15685625, 0.353203...</td>\n",
       "    </tr>\n",
       "    <tr>\n",
       "      <th>1</th>\n",
       "      <td>1</td>\n",
       "      <td>[-1.2148598, -0.22034197, -0.22069965, -0.7424...</td>\n",
       "    </tr>\n",
       "    <tr>\n",
       "      <th>2</th>\n",
       "      <td>2</td>\n",
       "      <td>[-0.4276218, -0.37631527, -0.1278258, 0.471441...</td>\n",
       "    </tr>\n",
       "    <tr>\n",
       "      <th>3</th>\n",
       "      <td>3</td>\n",
       "      <td>[-0.43522185, 0.16255687, 0.45039496, -0.35696...</td>\n",
       "    </tr>\n",
       "    <tr>\n",
       "      <th>4</th>\n",
       "      <td>4</td>\n",
       "      <td>[-0.5819615, -0.16989481, -0.13449295, -0.1185...</td>\n",
       "    </tr>\n",
       "    <tr>\n",
       "      <th>...</th>\n",
       "      <td>...</td>\n",
       "      <td>...</td>\n",
       "    </tr>\n",
       "    <tr>\n",
       "      <th>14828</th>\n",
       "      <td>14828</td>\n",
       "      <td>[-1.0514777, 0.36091715, 0.65293604, 0.0389217...</td>\n",
       "    </tr>\n",
       "    <tr>\n",
       "      <th>14829</th>\n",
       "      <td>14829</td>\n",
       "      <td>[-0.43430686, -1.5259709, 0.12833416, 0.149288...</td>\n",
       "    </tr>\n",
       "    <tr>\n",
       "      <th>14830</th>\n",
       "      <td>14830</td>\n",
       "      <td>[-1.2081007, -0.34487432, 0.030222572, -0.2861...</td>\n",
       "    </tr>\n",
       "    <tr>\n",
       "      <th>14831</th>\n",
       "      <td>14831</td>\n",
       "      <td>[-0.6264139, -0.6350618, 0.20773192, -0.014214...</td>\n",
       "    </tr>\n",
       "    <tr>\n",
       "      <th>14832</th>\n",
       "      <td>14832</td>\n",
       "      <td>[-1.1213555, -0.11369154, -0.036389794, 0.2933...</td>\n",
       "    </tr>\n",
       "  </tbody>\n",
       "</table>\n",
       "<p>14833 rows × 2 columns</p>\n",
       "</div>"
      ],
      "text/plain": [
       "        Node                                          Embedding\n",
       "0          0  [-0.36822534, -1.0419636, 0.15685625, 0.353203...\n",
       "1          1  [-1.2148598, -0.22034197, -0.22069965, -0.7424...\n",
       "2          2  [-0.4276218, -0.37631527, -0.1278258, 0.471441...\n",
       "3          3  [-0.43522185, 0.16255687, 0.45039496, -0.35696...\n",
       "4          4  [-0.5819615, -0.16989481, -0.13449295, -0.1185...\n",
       "...      ...                                                ...\n",
       "14828  14828  [-1.0514777, 0.36091715, 0.65293604, 0.0389217...\n",
       "14829  14829  [-0.43430686, -1.5259709, 0.12833416, 0.149288...\n",
       "14830  14830  [-1.2081007, -0.34487432, 0.030222572, -0.2861...\n",
       "14831  14831  [-0.6264139, -0.6350618, 0.20773192, -0.014214...\n",
       "14832  14832  [-1.1213555, -0.11369154, -0.036389794, 0.2933...\n",
       "\n",
       "[14833 rows x 2 columns]"
      ]
     },
     "execution_count": 11,
     "metadata": {},
     "output_type": "execute_result"
    }
   ],
   "source": [
    "embedding = loadEdge2VecEmbedding()\n",
    "embedding"
   ]
  },
  {
   "cell_type": "markdown",
   "metadata": {},
   "source": [
    "Load the edges"
   ]
  },
  {
   "cell_type": "code",
   "execution_count": 12,
   "metadata": {
    "execution": {
     "iopub.execute_input": "2024-08-06T23:02:19.617658Z",
     "iopub.status.busy": "2024-08-06T23:02:19.617658Z",
     "iopub.status.idle": "2024-08-06T23:02:20.032468Z",
     "shell.execute_reply": "2024-08-06T23:02:20.030466Z"
    }
   },
   "outputs": [
    {
     "data": {
      "text/html": [
       "<div>\n",
       "<style scoped>\n",
       "    .dataframe tbody tr th:only-of-type {\n",
       "        vertical-align: middle;\n",
       "    }\n",
       "\n",
       "    .dataframe tbody tr th {\n",
       "        vertical-align: top;\n",
       "    }\n",
       "\n",
       "    .dataframe thead th {\n",
       "        text-align: right;\n",
       "    }\n",
       "</style>\n",
       "<table border=\"1\" class=\"dataframe\">\n",
       "  <thead>\n",
       "    <tr style=\"text-align: right;\">\n",
       "      <th></th>\n",
       "      <th>head</th>\n",
       "      <th>label_head</th>\n",
       "      <th>class_head</th>\n",
       "      <th>index_head</th>\n",
       "      <th>relation</th>\n",
       "      <th>tail</th>\n",
       "      <th>label_tail</th>\n",
       "      <th>class_tail</th>\n",
       "      <th>index_tail</th>\n",
       "      <th>type</th>\n",
       "    </tr>\n",
       "  </thead>\n",
       "  <tbody>\n",
       "    <tr>\n",
       "      <th>0</th>\n",
       "      <td>FlyBase:FBgn0029629</td>\n",
       "      <td>eIF3g1</td>\n",
       "      <td>5</td>\n",
       "      <td>8560</td>\n",
       "      <td>interacts with</td>\n",
       "      <td>FlyBase:FBgn0034237</td>\n",
       "      <td>eIF3b</td>\n",
       "      <td>5</td>\n",
       "      <td>5659</td>\n",
       "      <td>0</td>\n",
       "    </tr>\n",
       "    <tr>\n",
       "      <th>1</th>\n",
       "      <td>ENSEMBL:ENSGALG00000041380</td>\n",
       "      <td>ENSEMBL:ENSGALG00000041380</td>\n",
       "      <td>5</td>\n",
       "      <td>8256</td>\n",
       "      <td>in orthology relationship with</td>\n",
       "      <td>Xenbase:XB-GENE-484711</td>\n",
       "      <td>mhc1b2</td>\n",
       "      <td>5</td>\n",
       "      <td>11308</td>\n",
       "      <td>1</td>\n",
       "    </tr>\n",
       "    <tr>\n",
       "      <th>2</th>\n",
       "      <td>ENSEMBL:ENSXETG00000009076</td>\n",
       "      <td>kit</td>\n",
       "      <td>5</td>\n",
       "      <td>4336</td>\n",
       "      <td>in orthology relationship with</td>\n",
       "      <td>MGI:95956</td>\n",
       "      <td>H2-T22</td>\n",
       "      <td>5</td>\n",
       "      <td>5744</td>\n",
       "      <td>1</td>\n",
       "    </tr>\n",
       "    <tr>\n",
       "      <th>3</th>\n",
       "      <td>ZFIN:ZDB-GENE-040426-2723</td>\n",
       "      <td>fez1</td>\n",
       "      <td>5</td>\n",
       "      <td>11226</td>\n",
       "      <td>in 1 to 1 orthology relationship with</td>\n",
       "      <td>ENSEMBL:ENSACAG00000000745</td>\n",
       "      <td>ENSEMBL:ENSACAG00000000745</td>\n",
       "      <td>5</td>\n",
       "      <td>6528</td>\n",
       "      <td>2</td>\n",
       "    </tr>\n",
       "    <tr>\n",
       "      <th>4</th>\n",
       "      <td>ENSEMBL:ENSCAFG00000015827</td>\n",
       "      <td>PFN1</td>\n",
       "      <td>5</td>\n",
       "      <td>4290</td>\n",
       "      <td>in orthology relationship with</td>\n",
       "      <td>ZFIN:ZDB-GENE-031002-33</td>\n",
       "      <td>pfn1</td>\n",
       "      <td>5</td>\n",
       "      <td>2133</td>\n",
       "      <td>1</td>\n",
       "    </tr>\n",
       "    <tr>\n",
       "      <th>...</th>\n",
       "      <td>...</td>\n",
       "      <td>...</td>\n",
       "      <td>...</td>\n",
       "      <td>...</td>\n",
       "      <td>...</td>\n",
       "      <td>...</td>\n",
       "      <td>...</td>\n",
       "      <td>...</td>\n",
       "      <td>...</td>\n",
       "      <td>...</td>\n",
       "    </tr>\n",
       "    <tr>\n",
       "      <th>228994</th>\n",
       "      <td>ENSEMBL:ENSGALG00000038504</td>\n",
       "      <td>ENSEMBL:ENSGALG00000038504</td>\n",
       "      <td>5</td>\n",
       "      <td>12490</td>\n",
       "      <td>in 1 to 1 orthology relationship with</td>\n",
       "      <td>ENSEMBL:ENSMODG00000017399</td>\n",
       "      <td>ENSEMBL:ENSMODG00000017399</td>\n",
       "      <td>5</td>\n",
       "      <td>9507</td>\n",
       "      <td>2</td>\n",
       "    </tr>\n",
       "    <tr>\n",
       "      <th>228995</th>\n",
       "      <td>ENSEMBL:ENSFCAG00000014170</td>\n",
       "      <td>ENSEMBL:ENSFCAG00000014170</td>\n",
       "      <td>5</td>\n",
       "      <td>4355</td>\n",
       "      <td>in 1 to 1 orthology relationship with</td>\n",
       "      <td>ENSEMBL:ENSBTAG00000012927</td>\n",
       "      <td>ALDOA</td>\n",
       "      <td>5</td>\n",
       "      <td>238</td>\n",
       "      <td>2</td>\n",
       "    </tr>\n",
       "    <tr>\n",
       "      <th>228996</th>\n",
       "      <td>ENSEMBL:ENSGALG00000033212</td>\n",
       "      <td>HSP90AA1</td>\n",
       "      <td>5</td>\n",
       "      <td>9770</td>\n",
       "      <td>is part of</td>\n",
       "      <td>GO:0005634</td>\n",
       "      <td>nucleus</td>\n",
       "      <td>6</td>\n",
       "      <td>4795</td>\n",
       "      <td>5</td>\n",
       "    </tr>\n",
       "    <tr>\n",
       "      <th>228997</th>\n",
       "      <td>ZFIN:ZDB-GENE-051202-1</td>\n",
       "      <td>grin1a</td>\n",
       "      <td>5</td>\n",
       "      <td>8741</td>\n",
       "      <td>in orthology relationship with</td>\n",
       "      <td>EnsemblGenome:AT2G32390</td>\n",
       "      <td>EnsemblGenome:AT2G32390</td>\n",
       "      <td>5</td>\n",
       "      <td>3388</td>\n",
       "      <td>1</td>\n",
       "    </tr>\n",
       "    <tr>\n",
       "      <th>228998</th>\n",
       "      <td>ENSEMBL:ENSGALG00000007528</td>\n",
       "      <td>TCERG1</td>\n",
       "      <td>5</td>\n",
       "      <td>905</td>\n",
       "      <td>in 1 to 1 orthology relationship with</td>\n",
       "      <td>ZFIN:ZDB-GENE-101026-4</td>\n",
       "      <td>tcerg1b</td>\n",
       "      <td>5</td>\n",
       "      <td>2970</td>\n",
       "      <td>2</td>\n",
       "    </tr>\n",
       "  </tbody>\n",
       "</table>\n",
       "<p>228999 rows × 10 columns</p>\n",
       "</div>"
      ],
      "text/plain": [
       "                              head                  label_head  class_head  \\\n",
       "0              FlyBase:FBgn0029629                      eIF3g1           5   \n",
       "1       ENSEMBL:ENSGALG00000041380  ENSEMBL:ENSGALG00000041380           5   \n",
       "2       ENSEMBL:ENSXETG00000009076                         kit           5   \n",
       "3        ZFIN:ZDB-GENE-040426-2723                        fez1           5   \n",
       "4       ENSEMBL:ENSCAFG00000015827                        PFN1           5   \n",
       "...                            ...                         ...         ...   \n",
       "228994  ENSEMBL:ENSGALG00000038504  ENSEMBL:ENSGALG00000038504           5   \n",
       "228995  ENSEMBL:ENSFCAG00000014170  ENSEMBL:ENSFCAG00000014170           5   \n",
       "228996  ENSEMBL:ENSGALG00000033212                    HSP90AA1           5   \n",
       "228997      ZFIN:ZDB-GENE-051202-1                      grin1a           5   \n",
       "228998  ENSEMBL:ENSGALG00000007528                      TCERG1           5   \n",
       "\n",
       "        index_head                               relation  \\\n",
       "0             8560                         interacts with   \n",
       "1             8256         in orthology relationship with   \n",
       "2             4336         in orthology relationship with   \n",
       "3            11226  in 1 to 1 orthology relationship with   \n",
       "4             4290         in orthology relationship with   \n",
       "...            ...                                    ...   \n",
       "228994       12490  in 1 to 1 orthology relationship with   \n",
       "228995        4355  in 1 to 1 orthology relationship with   \n",
       "228996        9770                             is part of   \n",
       "228997        8741         in orthology relationship with   \n",
       "228998         905  in 1 to 1 orthology relationship with   \n",
       "\n",
       "                              tail                  label_tail  class_tail  \\\n",
       "0              FlyBase:FBgn0034237                       eIF3b           5   \n",
       "1           Xenbase:XB-GENE-484711                      mhc1b2           5   \n",
       "2                        MGI:95956                      H2-T22           5   \n",
       "3       ENSEMBL:ENSACAG00000000745  ENSEMBL:ENSACAG00000000745           5   \n",
       "4          ZFIN:ZDB-GENE-031002-33                        pfn1           5   \n",
       "...                            ...                         ...         ...   \n",
       "228994  ENSEMBL:ENSMODG00000017399  ENSEMBL:ENSMODG00000017399           5   \n",
       "228995  ENSEMBL:ENSBTAG00000012927                       ALDOA           5   \n",
       "228996                  GO:0005634                     nucleus           6   \n",
       "228997     EnsemblGenome:AT2G32390     EnsemblGenome:AT2G32390           5   \n",
       "228998      ZFIN:ZDB-GENE-101026-4                     tcerg1b           5   \n",
       "\n",
       "        index_tail  type  \n",
       "0             5659     0  \n",
       "1            11308     1  \n",
       "2             5744     1  \n",
       "3             6528     2  \n",
       "4             2133     1  \n",
       "...            ...   ...  \n",
       "228994        9507     2  \n",
       "228995         238     2  \n",
       "228996        4795     5  \n",
       "228997        3388     1  \n",
       "228998        2970     2  \n",
       "\n",
       "[228999 rows x 10 columns]"
      ]
     },
     "execution_count": 12,
     "metadata": {},
     "output_type": "execute_result"
    }
   ],
   "source": [
    "edges = pd.read_csv(f'../output/{disease_prefix}/{dataset_prefix}_{disease_prefix}_indexed_edges.csv')\n",
    "edges"
   ]
  },
  {
   "cell_type": "code",
   "execution_count": 13,
   "metadata": {
    "execution": {
     "iopub.execute_input": "2024-08-06T23:02:20.038473Z",
     "iopub.status.busy": "2024-08-06T23:02:20.037471Z",
     "iopub.status.idle": "2024-08-06T23:02:20.062475Z",
     "shell.execute_reply": "2024-08-06T23:02:20.060467Z"
    }
   },
   "outputs": [
    {
     "data": {
      "text/html": [
       "<div>\n",
       "<style scoped>\n",
       "    .dataframe tbody tr th:only-of-type {\n",
       "        vertical-align: middle;\n",
       "    }\n",
       "\n",
       "    .dataframe tbody tr th {\n",
       "        vertical-align: top;\n",
       "    }\n",
       "\n",
       "    .dataframe thead th {\n",
       "        text-align: right;\n",
       "    }\n",
       "</style>\n",
       "<table border=\"1\" class=\"dataframe\">\n",
       "  <thead>\n",
       "    <tr style=\"text-align: right;\">\n",
       "      <th></th>\n",
       "      <th>head</th>\n",
       "      <th>label_head</th>\n",
       "      <th>class_head</th>\n",
       "      <th>index_head</th>\n",
       "      <th>relation</th>\n",
       "      <th>tail</th>\n",
       "      <th>label_tail</th>\n",
       "      <th>class_tail</th>\n",
       "      <th>index_tail</th>\n",
       "      <th>type</th>\n",
       "    </tr>\n",
       "  </thead>\n",
       "  <tbody>\n",
       "    <tr>\n",
       "      <th>4834</th>\n",
       "      <td>ZFIN:ZDB-GENE-120409-2</td>\n",
       "      <td>gemin7</td>\n",
       "      <td>5</td>\n",
       "      <td>9157</td>\n",
       "      <td>interacts with</td>\n",
       "      <td>ZFIN:ZDB-GENE-040426-2326</td>\n",
       "      <td>nup58</td>\n",
       "      <td>5</td>\n",
       "      <td>2504</td>\n",
       "      <td>0</td>\n",
       "    </tr>\n",
       "    <tr>\n",
       "      <th>13050</th>\n",
       "      <td>ENSEMBL:ENSECAG00000015901</td>\n",
       "      <td>ENSEMBL:ENSECAG00000015901</td>\n",
       "      <td>5</td>\n",
       "      <td>14525</td>\n",
       "      <td>in 1 to 1 orthology relationship with</td>\n",
       "      <td>ZFIN:ZDB-GENE-040426-2326</td>\n",
       "      <td>nup58</td>\n",
       "      <td>5</td>\n",
       "      <td>2504</td>\n",
       "      <td>2</td>\n",
       "    </tr>\n",
       "    <tr>\n",
       "      <th>73362</th>\n",
       "      <td>ENSEMBL:ENSGALG00000017111</td>\n",
       "      <td>ENSEMBL:ENSGALG00000017111</td>\n",
       "      <td>5</td>\n",
       "      <td>4332</td>\n",
       "      <td>in 1 to 1 orthology relationship with</td>\n",
       "      <td>ZFIN:ZDB-GENE-040426-2326</td>\n",
       "      <td>nup58</td>\n",
       "      <td>5</td>\n",
       "      <td>2504</td>\n",
       "      <td>2</td>\n",
       "    </tr>\n",
       "    <tr>\n",
       "      <th>89484</th>\n",
       "      <td>FlyBase:FBgn0038722</td>\n",
       "      <td>Nup58</td>\n",
       "      <td>5</td>\n",
       "      <td>5945</td>\n",
       "      <td>in 1 to 1 orthology relationship with</td>\n",
       "      <td>ZFIN:ZDB-GENE-040426-2326</td>\n",
       "      <td>nup58</td>\n",
       "      <td>5</td>\n",
       "      <td>2504</td>\n",
       "      <td>2</td>\n",
       "    </tr>\n",
       "    <tr>\n",
       "      <th>112647</th>\n",
       "      <td>ZFIN:ZDB-GENE-040801-7</td>\n",
       "      <td>sumo2b</td>\n",
       "      <td>5</td>\n",
       "      <td>2255</td>\n",
       "      <td>interacts with</td>\n",
       "      <td>ZFIN:ZDB-GENE-040426-2326</td>\n",
       "      <td>nup58</td>\n",
       "      <td>5</td>\n",
       "      <td>2504</td>\n",
       "      <td>0</td>\n",
       "    </tr>\n",
       "    <tr>\n",
       "      <th>125080</th>\n",
       "      <td>MGI:1919094</td>\n",
       "      <td>Nupl1</td>\n",
       "      <td>5</td>\n",
       "      <td>12360</td>\n",
       "      <td>in 1 to 1 orthology relationship with</td>\n",
       "      <td>ZFIN:ZDB-GENE-040426-2326</td>\n",
       "      <td>nup58</td>\n",
       "      <td>5</td>\n",
       "      <td>2504</td>\n",
       "      <td>2</td>\n",
       "    </tr>\n",
       "    <tr>\n",
       "      <th>128127</th>\n",
       "      <td>HGNC:20261</td>\n",
       "      <td>NUP58</td>\n",
       "      <td>3</td>\n",
       "      <td>9821</td>\n",
       "      <td>in orthology relationship with</td>\n",
       "      <td>ZFIN:ZDB-GENE-040426-2326</td>\n",
       "      <td>nup58</td>\n",
       "      <td>5</td>\n",
       "      <td>2504</td>\n",
       "      <td>1</td>\n",
       "    </tr>\n",
       "    <tr>\n",
       "      <th>134253</th>\n",
       "      <td>ENSEMBL:ENSSSCG00000035318</td>\n",
       "      <td>NUP58</td>\n",
       "      <td>5</td>\n",
       "      <td>6966</td>\n",
       "      <td>in 1 to 1 orthology relationship with</td>\n",
       "      <td>ZFIN:ZDB-GENE-040426-2326</td>\n",
       "      <td>nup58</td>\n",
       "      <td>5</td>\n",
       "      <td>2504</td>\n",
       "      <td>2</td>\n",
       "    </tr>\n",
       "    <tr>\n",
       "      <th>139447</th>\n",
       "      <td>ENSEMBL:ENSCAFG00000007067</td>\n",
       "      <td>ENSEMBL:ENSCAFG00000007067</td>\n",
       "      <td>5</td>\n",
       "      <td>1018</td>\n",
       "      <td>in 1 to 1 orthology relationship with</td>\n",
       "      <td>ZFIN:ZDB-GENE-040426-2326</td>\n",
       "      <td>nup58</td>\n",
       "      <td>5</td>\n",
       "      <td>2504</td>\n",
       "      <td>2</td>\n",
       "    </tr>\n",
       "    <tr>\n",
       "      <th>157330</th>\n",
       "      <td>ENSEMBL:ENSACAG00000002295</td>\n",
       "      <td>ENSEMBL:ENSACAG00000002295</td>\n",
       "      <td>5</td>\n",
       "      <td>6214</td>\n",
       "      <td>in 1 to 1 orthology relationship with</td>\n",
       "      <td>ZFIN:ZDB-GENE-040426-2326</td>\n",
       "      <td>nup58</td>\n",
       "      <td>5</td>\n",
       "      <td>2504</td>\n",
       "      <td>2</td>\n",
       "    </tr>\n",
       "    <tr>\n",
       "      <th>157664</th>\n",
       "      <td>ZFIN:ZDB-GENE-040426-1029</td>\n",
       "      <td>rae1</td>\n",
       "      <td>5</td>\n",
       "      <td>5276</td>\n",
       "      <td>interacts with</td>\n",
       "      <td>ZFIN:ZDB-GENE-040426-2326</td>\n",
       "      <td>nup58</td>\n",
       "      <td>5</td>\n",
       "      <td>2504</td>\n",
       "      <td>0</td>\n",
       "    </tr>\n",
       "    <tr>\n",
       "      <th>167075</th>\n",
       "      <td>ENSEMBL:ENSOANG00000009047</td>\n",
       "      <td>ENSEMBL:ENSOANG00000009047</td>\n",
       "      <td>5</td>\n",
       "      <td>13317</td>\n",
       "      <td>in 1 to 1 orthology relationship with</td>\n",
       "      <td>ZFIN:ZDB-GENE-040426-2326</td>\n",
       "      <td>nup58</td>\n",
       "      <td>5</td>\n",
       "      <td>2504</td>\n",
       "      <td>2</td>\n",
       "    </tr>\n",
       "    <tr>\n",
       "      <th>171330</th>\n",
       "      <td>ENSEMBL:ENSMMUG00000018420</td>\n",
       "      <td>ENSEMBL:ENSMMUG00000018420</td>\n",
       "      <td>5</td>\n",
       "      <td>1448</td>\n",
       "      <td>in 1 to 1 orthology relationship with</td>\n",
       "      <td>ZFIN:ZDB-GENE-040426-2326</td>\n",
       "      <td>nup58</td>\n",
       "      <td>5</td>\n",
       "      <td>2504</td>\n",
       "      <td>2</td>\n",
       "    </tr>\n",
       "    <tr>\n",
       "      <th>181417</th>\n",
       "      <td>ENSEMBL:ENSMODG00000008614</td>\n",
       "      <td>ENSEMBL:ENSMODG00000008614</td>\n",
       "      <td>5</td>\n",
       "      <td>1482</td>\n",
       "      <td>in 1 to 1 orthology relationship with</td>\n",
       "      <td>ZFIN:ZDB-GENE-040426-2326</td>\n",
       "      <td>nup58</td>\n",
       "      <td>5</td>\n",
       "      <td>2504</td>\n",
       "      <td>2</td>\n",
       "    </tr>\n",
       "    <tr>\n",
       "      <th>190246</th>\n",
       "      <td>ENSEMBL:ENSPTRG00000005719</td>\n",
       "      <td>ENSEMBL:ENSPTRG00000005719</td>\n",
       "      <td>5</td>\n",
       "      <td>2724</td>\n",
       "      <td>in 1 to 1 orthology relationship with</td>\n",
       "      <td>ZFIN:ZDB-GENE-040426-2326</td>\n",
       "      <td>nup58</td>\n",
       "      <td>5</td>\n",
       "      <td>2504</td>\n",
       "      <td>2</td>\n",
       "    </tr>\n",
       "    <tr>\n",
       "      <th>191803</th>\n",
       "      <td>ENSEMBL:ENSFCAG00000001580</td>\n",
       "      <td>ENSEMBL:ENSFCAG00000001580</td>\n",
       "      <td>5</td>\n",
       "      <td>8448</td>\n",
       "      <td>in 1 to 1 orthology relationship with</td>\n",
       "      <td>ZFIN:ZDB-GENE-040426-2326</td>\n",
       "      <td>nup58</td>\n",
       "      <td>5</td>\n",
       "      <td>2504</td>\n",
       "      <td>2</td>\n",
       "    </tr>\n",
       "    <tr>\n",
       "      <th>211227</th>\n",
       "      <td>PomBase:SPAC22G7.09c</td>\n",
       "      <td>nup45</td>\n",
       "      <td>4</td>\n",
       "      <td>6330</td>\n",
       "      <td>in 1 to 1 orthology relationship with</td>\n",
       "      <td>ZFIN:ZDB-GENE-040426-2326</td>\n",
       "      <td>nup58</td>\n",
       "      <td>5</td>\n",
       "      <td>2504</td>\n",
       "      <td>2</td>\n",
       "    </tr>\n",
       "    <tr>\n",
       "      <th>214426</th>\n",
       "      <td>RGD:631334</td>\n",
       "      <td>Nup58</td>\n",
       "      <td>5</td>\n",
       "      <td>11330</td>\n",
       "      <td>in 1 to 1 orthology relationship with</td>\n",
       "      <td>ZFIN:ZDB-GENE-040426-2326</td>\n",
       "      <td>nup58</td>\n",
       "      <td>5</td>\n",
       "      <td>2504</td>\n",
       "      <td>2</td>\n",
       "    </tr>\n",
       "    <tr>\n",
       "      <th>218091</th>\n",
       "      <td>Xenbase:XB-GENE-6257751</td>\n",
       "      <td>nup58</td>\n",
       "      <td>5</td>\n",
       "      <td>14397</td>\n",
       "      <td>in 1 to 1 orthology relationship with</td>\n",
       "      <td>ZFIN:ZDB-GENE-040426-2326</td>\n",
       "      <td>nup58</td>\n",
       "      <td>5</td>\n",
       "      <td>2504</td>\n",
       "      <td>2</td>\n",
       "    </tr>\n",
       "  </tbody>\n",
       "</table>\n",
       "</div>"
      ],
      "text/plain": [
       "                              head                  label_head  class_head  \\\n",
       "4834        ZFIN:ZDB-GENE-120409-2                      gemin7           5   \n",
       "13050   ENSEMBL:ENSECAG00000015901  ENSEMBL:ENSECAG00000015901           5   \n",
       "73362   ENSEMBL:ENSGALG00000017111  ENSEMBL:ENSGALG00000017111           5   \n",
       "89484          FlyBase:FBgn0038722                       Nup58           5   \n",
       "112647      ZFIN:ZDB-GENE-040801-7                      sumo2b           5   \n",
       "125080                 MGI:1919094                       Nupl1           5   \n",
       "128127                  HGNC:20261                       NUP58           3   \n",
       "134253  ENSEMBL:ENSSSCG00000035318                       NUP58           5   \n",
       "139447  ENSEMBL:ENSCAFG00000007067  ENSEMBL:ENSCAFG00000007067           5   \n",
       "157330  ENSEMBL:ENSACAG00000002295  ENSEMBL:ENSACAG00000002295           5   \n",
       "157664   ZFIN:ZDB-GENE-040426-1029                        rae1           5   \n",
       "167075  ENSEMBL:ENSOANG00000009047  ENSEMBL:ENSOANG00000009047           5   \n",
       "171330  ENSEMBL:ENSMMUG00000018420  ENSEMBL:ENSMMUG00000018420           5   \n",
       "181417  ENSEMBL:ENSMODG00000008614  ENSEMBL:ENSMODG00000008614           5   \n",
       "190246  ENSEMBL:ENSPTRG00000005719  ENSEMBL:ENSPTRG00000005719           5   \n",
       "191803  ENSEMBL:ENSFCAG00000001580  ENSEMBL:ENSFCAG00000001580           5   \n",
       "211227        PomBase:SPAC22G7.09c                       nup45           4   \n",
       "214426                  RGD:631334                       Nup58           5   \n",
       "218091     Xenbase:XB-GENE-6257751                       nup58           5   \n",
       "\n",
       "        index_head                               relation  \\\n",
       "4834          9157                         interacts with   \n",
       "13050        14525  in 1 to 1 orthology relationship with   \n",
       "73362         4332  in 1 to 1 orthology relationship with   \n",
       "89484         5945  in 1 to 1 orthology relationship with   \n",
       "112647        2255                         interacts with   \n",
       "125080       12360  in 1 to 1 orthology relationship with   \n",
       "128127        9821         in orthology relationship with   \n",
       "134253        6966  in 1 to 1 orthology relationship with   \n",
       "139447        1018  in 1 to 1 orthology relationship with   \n",
       "157330        6214  in 1 to 1 orthology relationship with   \n",
       "157664        5276                         interacts with   \n",
       "167075       13317  in 1 to 1 orthology relationship with   \n",
       "171330        1448  in 1 to 1 orthology relationship with   \n",
       "181417        1482  in 1 to 1 orthology relationship with   \n",
       "190246        2724  in 1 to 1 orthology relationship with   \n",
       "191803        8448  in 1 to 1 orthology relationship with   \n",
       "211227        6330  in 1 to 1 orthology relationship with   \n",
       "214426       11330  in 1 to 1 orthology relationship with   \n",
       "218091       14397  in 1 to 1 orthology relationship with   \n",
       "\n",
       "                             tail label_tail  class_tail  index_tail  type  \n",
       "4834    ZFIN:ZDB-GENE-040426-2326      nup58           5        2504     0  \n",
       "13050   ZFIN:ZDB-GENE-040426-2326      nup58           5        2504     2  \n",
       "73362   ZFIN:ZDB-GENE-040426-2326      nup58           5        2504     2  \n",
       "89484   ZFIN:ZDB-GENE-040426-2326      nup58           5        2504     2  \n",
       "112647  ZFIN:ZDB-GENE-040426-2326      nup58           5        2504     0  \n",
       "125080  ZFIN:ZDB-GENE-040426-2326      nup58           5        2504     2  \n",
       "128127  ZFIN:ZDB-GENE-040426-2326      nup58           5        2504     1  \n",
       "134253  ZFIN:ZDB-GENE-040426-2326      nup58           5        2504     2  \n",
       "139447  ZFIN:ZDB-GENE-040426-2326      nup58           5        2504     2  \n",
       "157330  ZFIN:ZDB-GENE-040426-2326      nup58           5        2504     2  \n",
       "157664  ZFIN:ZDB-GENE-040426-2326      nup58           5        2504     0  \n",
       "167075  ZFIN:ZDB-GENE-040426-2326      nup58           5        2504     2  \n",
       "171330  ZFIN:ZDB-GENE-040426-2326      nup58           5        2504     2  \n",
       "181417  ZFIN:ZDB-GENE-040426-2326      nup58           5        2504     2  \n",
       "190246  ZFIN:ZDB-GENE-040426-2326      nup58           5        2504     2  \n",
       "191803  ZFIN:ZDB-GENE-040426-2326      nup58           5        2504     2  \n",
       "211227  ZFIN:ZDB-GENE-040426-2326      nup58           5        2504     2  \n",
       "214426  ZFIN:ZDB-GENE-040426-2326      nup58           5        2504     2  \n",
       "218091  ZFIN:ZDB-GENE-040426-2326      nup58           5        2504     2  "
      ]
     },
     "execution_count": 13,
     "metadata": {},
     "output_type": "execute_result"
    }
   ],
   "source": [
    "edges.loc[edges['index_tail'] == 2504]"
   ]
  },
  {
   "cell_type": "markdown",
   "metadata": {},
   "source": [
    "Index list can be used later for converting back to the label of the relation."
   ]
  },
  {
   "cell_type": "code",
   "execution_count": 14,
   "metadata": {
    "execution": {
     "iopub.execute_input": "2024-08-06T23:02:20.067474Z",
     "iopub.status.busy": "2024-08-06T23:02:20.067474Z",
     "iopub.status.idle": "2024-08-06T23:02:20.108494Z",
     "shell.execute_reply": "2024-08-06T23:02:20.106494Z"
    }
   },
   "outputs": [
    {
     "data": {
      "text/plain": [
       "Index(['interacts with', 'in orthology relationship with',\n",
       "       'in 1 to 1 orthology relationship with', 'has phenotype', 'targets',\n",
       "       'is part of', 'enables', 'expressed in', 'contributes to condition',\n",
       "       'involved in', 'colocalizes with', 'has genotype',\n",
       "       'has role in modeling', 'has affected feature',\n",
       "       'is substance that treats', 'is allele of', 'pathogenic for condition',\n",
       "       'is causal germline mutation partially giving rise to',\n",
       "       'contributes to', 'causes condition', 'is causal germline mutation in'],\n",
       "      dtype='object')"
      ]
     },
     "execution_count": 14,
     "metadata": {},
     "output_type": "execute_result"
    }
   ],
   "source": [
    "_, relation_labels = pd.factorize(edges['relation'])\n",
    "relation_labels"
   ]
  },
  {
   "attachments": {},
   "cell_type": "markdown",
   "metadata": {},
   "source": [
    "# Link Prediction"
   ]
  },
  {
   "cell_type": "markdown",
   "metadata": {},
   "source": []
  },
  {
   "cell_type": "code",
   "execution_count": 15,
   "metadata": {
    "execution": {
     "iopub.execute_input": "2024-08-06T23:02:20.113496Z",
     "iopub.status.busy": "2024-08-06T23:02:20.113496Z",
     "iopub.status.idle": "2024-08-06T23:02:20.138500Z",
     "shell.execute_reply": "2024-08-06T23:02:20.137493Z"
    }
   },
   "outputs": [],
   "source": [
    "gnn_params = {\n",
    "    'dmd': {\n",
    "        'prev': {\n",
    "            'neg_sampl_ratio': 1.0,\n",
    "            'device': torch_device,\n",
    "            'hidden_dim': 256,\n",
    "            'output_dim': 64,\n",
    "            'epochs': 150,\n",
    "            'lr': 0.07,\n",
    "            'aggr': 'mean',\n",
    "            'layers': 2,\n",
    "            'dropout': 0.2\n",
    "        }, \n",
    "        'restr': {\n",
    "            'neg_sampl_ratio': 1.0,\n",
    "            'device': torch_device,\n",
    "            'hidden_dim': 256,\n",
    "            'output_dim': 64,\n",
    "            'epochs': 100,\n",
    "            'lr': 0.013477408995651594,\n",
    "            'aggr': 'mean',\n",
    "            'layers': 2,\n",
    "            'dropout': 0.2\n",
    "        }\n",
    "    },\n",
    "    'hd': {\n",
    "        'prev': {\n",
    "            'neg_sampl_ratio': 1.5,\n",
    "            'device': torch_device,\n",
    "            'hidden_dim': 256,\n",
    "            'output_dim': 64,\n",
    "            'epochs': 150,\n",
    "            'lr': 0.015119455370138871,\n",
    "            'aggr': 'mean',\n",
    "            'layers': 4,\n",
    "            'dropout': 0.1\n",
    "        }, \n",
    "        'restr': {\n",
    "            'neg_sampl_ratio': 0.5,\n",
    "            'device': torch_device,\n",
    "            'hidden_dim': 256,\n",
    "            'output_dim': 64,\n",
    "            'epochs': 150,\n",
    "            'lr': 0.036447056879784764,\n",
    "            'aggr': 'sum',\n",
    "            'layers': 6,\n",
    "            'dropout': 0.2\n",
    "        }\n",
    "    },\n",
    "    'oi': {\n",
    "        'prev': {\n",
    "            'neg_sampl_ratio': 1.5,\n",
    "            'device': torch_device,\n",
    "            'hidden_dim': 256,\n",
    "            'output_dim': 64,\n",
    "            'epochs': 100,\n",
    "            'lr': 0.0006060400655270159,\n",
    "            'aggr': 'mean',\n",
    "            'layers': 2,\n",
    "            'dropout': 0.2\n",
    "        }, \n",
    "        'restr': {\n",
    "            'neg_sampl_ratio': 1.0,\n",
    "            'device': torch_device,\n",
    "            'hidden_dim': 64,\n",
    "            'output_dim': 128,\n",
    "            'epochs': 150,\n",
    "            'lr': 0.02678894881316133,\n",
    "            'aggr': 'mean',\n",
    "            'layers': 2,\n",
    "            'dropout': 0.1\n",
    "        }\n",
    "    }\n",
    "}\n",
    "\n",
    "weight_decay = 5e-4\n",
    "args = gnn_params[disease_prefix][dataset_prefix]"
   ]
  },
  {
   "attachments": {},
   "cell_type": "markdown",
   "metadata": {},
   "source": [
    "Creating a graph including the node embeddings as features of each node."
   ]
  },
  {
   "cell_type": "code",
   "execution_count": 16,
   "metadata": {
    "execution": {
     "iopub.execute_input": "2024-08-06T23:02:20.144492Z",
     "iopub.status.busy": "2024-08-06T23:02:20.143504Z",
     "iopub.status.idle": "2024-08-06T23:02:36.045240Z",
     "shell.execute_reply": "2024-08-06T23:02:36.043436Z"
    }
   },
   "outputs": [
    {
     "name": "stdout",
     "output_type": "stream",
     "text": [
      "(0, {'node_feature': tensor([-3.6823e-01, -1.0420e+00,  1.5686e-01,  3.5320e-01,  1.8272e-01,\n",
      "         8.4703e-01,  2.1347e-01,  1.5856e-01,  3.9750e-01,  1.2561e-01,\n",
      "         1.6750e-01,  4.9165e-01, -9.1964e-01, -5.1454e-01,  9.0146e-01,\n",
      "         3.5664e-01, -5.0017e-01, -8.3796e-02,  2.7497e-01, -2.4140e-01,\n",
      "         2.2472e-01, -8.2301e-01,  7.8148e-02, -3.2327e-02,  2.8873e-02,\n",
      "        -3.0639e-01,  4.2547e-01,  6.7562e-01,  4.7047e-01,  6.7768e-01,\n",
      "        -3.6489e-01,  4.3961e-01, -5.0209e-02, -3.2303e-01, -1.3308e-01,\n",
      "        -6.3882e-01, -5.1489e-02, -1.5246e-01,  4.2719e-01,  4.9958e-01,\n",
      "         5.8866e-01, -1.2268e-01,  4.3092e-01,  8.8413e-01,  3.5554e-01,\n",
      "         4.8797e-01,  1.4603e-01, -1.0260e-03, -2.7754e-01, -7.0690e-01,\n",
      "         4.0878e-02,  3.0485e-01, -5.3491e-01,  6.9842e-01, -3.8943e-01,\n",
      "        -3.8155e-01,  2.1177e-01,  2.7187e-01, -5.2092e-01, -2.8076e-01,\n",
      "        -3.3632e-01,  4.5760e-01, -7.8589e-02,  4.2976e-01])})\n",
      "(0, 5364, {})\n",
      "Number of edges is 134749\n",
      "Number of nodes is 14833\n"
     ]
    }
   ],
   "source": [
    "embedded_node_G = nx.Graph() # TODO: DiGraph() or Graph()?\n",
    "\n",
    "for ind, node in embedding.iterrows(): \n",
    "  embedded_node_G.add_node(int(node['Node']), node_feature=torch.Tensor(node['Embedding']))\n",
    "for ind, edge in edges.iterrows(): \n",
    "  embedded_node_G.add_edge(int(edge['index_head']), int(edge['index_tail']))\n",
    "    \n",
    "for node in embedded_node_G.nodes(data=True):\n",
    "    print(node)\n",
    "    break\n",
    "for edge in embedded_node_G.edges(data=True):\n",
    "    print(edge)\n",
    "    break\n",
    "\n",
    "print(\"Number of edges is {}\".format(embedded_node_G.number_of_edges()))\n",
    "print(\"Number of nodes is {}\".format(embedded_node_G.number_of_nodes()))"
   ]
  },
  {
   "attachments": {},
   "cell_type": "markdown",
   "metadata": {},
   "source": [
    "## Generate graph datasets for training, validation and testing"
   ]
  },
  {
   "attachments": {},
   "cell_type": "markdown",
   "metadata": {},
   "source": [
    "Transductive link prediction split (https://zqfang.github.io/2021-08-12-graph-linkpredict/):\n",
    "- Train/validation/test sets are on the same graph\n",
    "- The dataset consists of one graph\n",
    "- The entire graph can be observed in all dataset splits\n",
    "- The labels of the edges are split"
   ]
  },
  {
   "cell_type": "code",
   "execution_count": 17,
   "metadata": {
    "execution": {
     "iopub.execute_input": "2024-08-06T23:02:36.052260Z",
     "iopub.status.busy": "2024-08-06T23:02:36.051235Z",
     "iopub.status.idle": "2024-08-06T23:02:42.555048Z",
     "shell.execute_reply": "2024-08-06T23:02:42.554040Z"
    }
   },
   "outputs": [
    {
     "name": "stderr",
     "output_type": "stream",
     "text": [
      "c:\\Users\\rosa-\\anaconda3\\envs\\xaifo\\lib\\site-packages\\deepsnap\\graph.py:2126: UserWarning: __floordiv__ is deprecated, and its behavior will change in a future version of pytorch. It currently rounds toward 0 (like the 'trunc' function NOT 'floor'). This results in incorrect rounding for negative values. To keep the current behavior, use torch.div(a, b, rounding_mode='trunc'), or for actual floor division, use torch.div(a, b, rounding_mode='floor').\n",
      "  row = perm // num_nodes\n"
     ]
    },
    {
     "name": "stdout",
     "output_type": "stream",
     "text": [
      "Input dimension (embedding dimension): 64 \n",
      " Number of edge classes (link or no link): 2\n"
     ]
    }
   ],
   "source": [
    "dataset = GraphDataset(\n",
    "    embedded_node_G,\n",
    "    task='link_pred',\n",
    "    edge_train_mode='all',\n",
    "    edge_negative_sampling_ratio=args['neg_sampl_ratio']\n",
    ")\n",
    "\n",
    "datasets = {}\n",
    "datasets['train'], datasets['val'], datasets['test'] = dataset.split(\n",
    "    transductive=True, split_ratio=[0.8, 0.1, 0.1]\n",
    ")\n",
    "\n",
    "input_dim = datasets['train'].num_node_features\n",
    "num_classes = datasets['train'].num_edge_labels\n",
    "\n",
    "print(f'Input dimension (embedding dimension): {input_dim} \\n Number of edge classes (link or no link): {num_classes}')   "
   ]
  },
  {
   "attachments": {},
   "cell_type": "markdown",
   "metadata": {},
   "source": [
    "Dataloaders allow to feed data into the model by batch."
   ]
  },
  {
   "cell_type": "code",
   "execution_count": 18,
   "metadata": {
    "execution": {
     "iopub.execute_input": "2024-08-06T23:02:42.560042Z",
     "iopub.status.busy": "2024-08-06T23:02:42.560042Z",
     "iopub.status.idle": "2024-08-06T23:02:42.571045Z",
     "shell.execute_reply": "2024-08-06T23:02:42.569036Z"
    }
   },
   "outputs": [],
   "source": [
    "dataloaders = {split: DataLoader(ds, collate_fn=Batch.collate([]), batch_size=1, shuffle=(split=='train')) for split, ds in datasets.items()}"
   ]
  },
  {
   "attachments": {},
   "cell_type": "markdown",
   "metadata": {},
   "source": [
    "## Train GNN"
   ]
  },
  {
   "attachments": {},
   "cell_type": "markdown",
   "metadata": {},
   "source": [
    "### Predefined Arguments"
   ]
  },
  {
   "attachments": {},
   "cell_type": "markdown",
   "metadata": {},
   "source": [
    "Train GNN with predefined arguments"
   ]
  },
  {
   "cell_type": "code",
   "execution_count": 19,
   "metadata": {
    "execution": {
     "iopub.execute_input": "2024-08-06T23:02:42.577037Z",
     "iopub.status.busy": "2024-08-06T23:02:42.576042Z",
     "iopub.status.idle": "2024-08-06T23:02:42.601049Z",
     "shell.execute_reply": "2024-08-06T23:02:42.600036Z"
    }
   },
   "outputs": [
    {
     "name": "stdout",
     "output_type": "stream",
     "text": [
      "{'neg_sampl_ratio': 1.5, 'device': device(type='cpu'), 'hidden_dim': 256, 'output_dim': 64, 'epochs': 150, 'lr': 0.015119455370138871, 'aggr': 'mean', 'layers': 4, 'dropout': 0.1} 0.0005\n"
     ]
    }
   ],
   "source": [
    "print(args, weight_decay)\n",
    "\n",
    "model = LinkPredModel(input_dim, args['hidden_dim'], args['output_dim'], args['layers'], args['aggr'], args['dropout'], args['device']).to(args['device'])\n",
    "optimizer = torch.optim.SGD(model.parameters(), lr=args['lr'], momentum=0.9, weight_decay=weight_decay)"
   ]
  },
  {
   "cell_type": "code",
   "execution_count": 20,
   "metadata": {
    "execution": {
     "iopub.execute_input": "2024-08-06T23:02:42.608048Z",
     "iopub.status.busy": "2024-08-06T23:02:42.608048Z",
     "iopub.status.idle": "2024-08-06T23:16:27.260850Z",
     "shell.execute_reply": "2024-08-06T23:16:27.258843Z"
    }
   },
   "outputs": [
    {
     "name": "stdout",
     "output_type": "stream",
     "text": [
      "Start Train Function\n",
      "Epoch: 001, Train: 0.9850, Val: 0.9514, Test: 0.9533, Loss: 2.41034\n"
     ]
    },
    {
     "name": "stderr",
     "output_type": "stream",
     "text": [
      "c:\\Users\\rosa-\\anaconda3\\envs\\xaifo\\lib\\site-packages\\deepsnap\\graph.py:2126: UserWarning: __floordiv__ is deprecated, and its behavior will change in a future version of pytorch. It currently rounds toward 0 (like the 'trunc' function NOT 'floor'). This results in incorrect rounding for negative values. To keep the current behavior, use torch.div(a, b, rounding_mode='trunc'), or for actual floor division, use torch.div(a, b, rounding_mode='floor').\n",
      "  row = perm // num_nodes\n"
     ]
    },
    {
     "name": "stdout",
     "output_type": "stream",
     "text": [
      "Epoch: 002, Train: 0.9817, Val: 0.9481, Test: 0.9500, Loss: 2.36477\n"
     ]
    },
    {
     "name": "stderr",
     "output_type": "stream",
     "text": [
      "c:\\Users\\rosa-\\anaconda3\\envs\\xaifo\\lib\\site-packages\\deepsnap\\graph.py:2126: UserWarning: __floordiv__ is deprecated, and its behavior will change in a future version of pytorch. It currently rounds toward 0 (like the 'trunc' function NOT 'floor'). This results in incorrect rounding for negative values. To keep the current behavior, use torch.div(a, b, rounding_mode='trunc'), or for actual floor division, use torch.div(a, b, rounding_mode='floor').\n",
      "  row = perm // num_nodes\n"
     ]
    },
    {
     "name": "stdout",
     "output_type": "stream",
     "text": [
      "Epoch: 003, Train: 0.9781, Val: 0.9444, Test: 0.9461, Loss: 2.29733\n"
     ]
    },
    {
     "name": "stderr",
     "output_type": "stream",
     "text": [
      "c:\\Users\\rosa-\\anaconda3\\envs\\xaifo\\lib\\site-packages\\deepsnap\\graph.py:2126: UserWarning: __floordiv__ is deprecated, and its behavior will change in a future version of pytorch. It currently rounds toward 0 (like the 'trunc' function NOT 'floor'). This results in incorrect rounding for negative values. To keep the current behavior, use torch.div(a, b, rounding_mode='trunc'), or for actual floor division, use torch.div(a, b, rounding_mode='floor').\n",
      "  row = perm // num_nodes\n"
     ]
    },
    {
     "name": "stdout",
     "output_type": "stream",
     "text": [
      "Epoch: 004, Train: 0.9740, Val: 0.9405, Test: 0.9420, Loss: 2.23875\n"
     ]
    },
    {
     "name": "stderr",
     "output_type": "stream",
     "text": [
      "c:\\Users\\rosa-\\anaconda3\\envs\\xaifo\\lib\\site-packages\\deepsnap\\graph.py:2126: UserWarning: __floordiv__ is deprecated, and its behavior will change in a future version of pytorch. It currently rounds toward 0 (like the 'trunc' function NOT 'floor'). This results in incorrect rounding for negative values. To keep the current behavior, use torch.div(a, b, rounding_mode='trunc'), or for actual floor division, use torch.div(a, b, rounding_mode='floor').\n",
      "  row = perm // num_nodes\n"
     ]
    },
    {
     "name": "stdout",
     "output_type": "stream",
     "text": [
      "Epoch: 005, Train: 0.9707, Val: 0.9373, Test: 0.9386, Loss: 2.17624\n"
     ]
    },
    {
     "name": "stderr",
     "output_type": "stream",
     "text": [
      "c:\\Users\\rosa-\\anaconda3\\envs\\xaifo\\lib\\site-packages\\deepsnap\\graph.py:2126: UserWarning: __floordiv__ is deprecated, and its behavior will change in a future version of pytorch. It currently rounds toward 0 (like the 'trunc' function NOT 'floor'). This results in incorrect rounding for negative values. To keep the current behavior, use torch.div(a, b, rounding_mode='trunc'), or for actual floor division, use torch.div(a, b, rounding_mode='floor').\n",
      "  row = perm // num_nodes\n"
     ]
    },
    {
     "name": "stdout",
     "output_type": "stream",
     "text": [
      "Epoch: 006, Train: 0.9682, Val: 0.9349, Test: 0.9361, Loss: 2.12091\n"
     ]
    },
    {
     "name": "stderr",
     "output_type": "stream",
     "text": [
      "c:\\Users\\rosa-\\anaconda3\\envs\\xaifo\\lib\\site-packages\\deepsnap\\graph.py:2126: UserWarning: __floordiv__ is deprecated, and its behavior will change in a future version of pytorch. It currently rounds toward 0 (like the 'trunc' function NOT 'floor'). This results in incorrect rounding for negative values. To keep the current behavior, use torch.div(a, b, rounding_mode='trunc'), or for actual floor division, use torch.div(a, b, rounding_mode='floor').\n",
      "  row = perm // num_nodes\n"
     ]
    },
    {
     "name": "stdout",
     "output_type": "stream",
     "text": [
      "Epoch: 007, Train: 0.9653, Val: 0.9338, Test: 0.9349, Loss: 2.08107\n"
     ]
    },
    {
     "name": "stderr",
     "output_type": "stream",
     "text": [
      "c:\\Users\\rosa-\\anaconda3\\envs\\xaifo\\lib\\site-packages\\deepsnap\\graph.py:2126: UserWarning: __floordiv__ is deprecated, and its behavior will change in a future version of pytorch. It currently rounds toward 0 (like the 'trunc' function NOT 'floor'). This results in incorrect rounding for negative values. To keep the current behavior, use torch.div(a, b, rounding_mode='trunc'), or for actual floor division, use torch.div(a, b, rounding_mode='floor').\n",
      "  row = perm // num_nodes\n"
     ]
    },
    {
     "name": "stdout",
     "output_type": "stream",
     "text": [
      "Epoch: 008, Train: 0.9632, Val: 0.9334, Test: 0.9342, Loss: 2.03283\n"
     ]
    },
    {
     "name": "stderr",
     "output_type": "stream",
     "text": [
      "c:\\Users\\rosa-\\anaconda3\\envs\\xaifo\\lib\\site-packages\\deepsnap\\graph.py:2126: UserWarning: __floordiv__ is deprecated, and its behavior will change in a future version of pytorch. It currently rounds toward 0 (like the 'trunc' function NOT 'floor'). This results in incorrect rounding for negative values. To keep the current behavior, use torch.div(a, b, rounding_mode='trunc'), or for actual floor division, use torch.div(a, b, rounding_mode='floor').\n",
      "  row = perm // num_nodes\n"
     ]
    },
    {
     "name": "stdout",
     "output_type": "stream",
     "text": [
      "Epoch: 009, Train: 0.9612, Val: 0.9333, Test: 0.9340, Loss: 1.97623\n"
     ]
    },
    {
     "name": "stderr",
     "output_type": "stream",
     "text": [
      "c:\\Users\\rosa-\\anaconda3\\envs\\xaifo\\lib\\site-packages\\deepsnap\\graph.py:2126: UserWarning: __floordiv__ is deprecated, and its behavior will change in a future version of pytorch. It currently rounds toward 0 (like the 'trunc' function NOT 'floor'). This results in incorrect rounding for negative values. To keep the current behavior, use torch.div(a, b, rounding_mode='trunc'), or for actual floor division, use torch.div(a, b, rounding_mode='floor').\n",
      "  row = perm // num_nodes\n"
     ]
    },
    {
     "name": "stdout",
     "output_type": "stream",
     "text": [
      "Epoch: 010, Train: 0.9595, Val: 0.9336, Test: 0.9342, Loss: 1.93997\n"
     ]
    },
    {
     "name": "stderr",
     "output_type": "stream",
     "text": [
      "c:\\Users\\rosa-\\anaconda3\\envs\\xaifo\\lib\\site-packages\\deepsnap\\graph.py:2126: UserWarning: __floordiv__ is deprecated, and its behavior will change in a future version of pytorch. It currently rounds toward 0 (like the 'trunc' function NOT 'floor'). This results in incorrect rounding for negative values. To keep the current behavior, use torch.div(a, b, rounding_mode='trunc'), or for actual floor division, use torch.div(a, b, rounding_mode='floor').\n",
      "  row = perm // num_nodes\n"
     ]
    },
    {
     "name": "stdout",
     "output_type": "stream",
     "text": [
      "Epoch: 011, Train: 0.9581, Val: 0.9338, Test: 0.9345, Loss: 1.90353\n"
     ]
    },
    {
     "name": "stderr",
     "output_type": "stream",
     "text": [
      "c:\\Users\\rosa-\\anaconda3\\envs\\xaifo\\lib\\site-packages\\deepsnap\\graph.py:2126: UserWarning: __floordiv__ is deprecated, and its behavior will change in a future version of pytorch. It currently rounds toward 0 (like the 'trunc' function NOT 'floor'). This results in incorrect rounding for negative values. To keep the current behavior, use torch.div(a, b, rounding_mode='trunc'), or for actual floor division, use torch.div(a, b, rounding_mode='floor').\n",
      "  row = perm // num_nodes\n"
     ]
    },
    {
     "name": "stdout",
     "output_type": "stream",
     "text": [
      "Epoch: 012, Train: 0.9567, Val: 0.9337, Test: 0.9345, Loss: 1.86515\n"
     ]
    },
    {
     "name": "stderr",
     "output_type": "stream",
     "text": [
      "c:\\Users\\rosa-\\anaconda3\\envs\\xaifo\\lib\\site-packages\\deepsnap\\graph.py:2126: UserWarning: __floordiv__ is deprecated, and its behavior will change in a future version of pytorch. It currently rounds toward 0 (like the 'trunc' function NOT 'floor'). This results in incorrect rounding for negative values. To keep the current behavior, use torch.div(a, b, rounding_mode='trunc'), or for actual floor division, use torch.div(a, b, rounding_mode='floor').\n",
      "  row = perm // num_nodes\n"
     ]
    },
    {
     "name": "stdout",
     "output_type": "stream",
     "text": [
      "Epoch: 013, Train: 0.9550, Val: 0.9335, Test: 0.9346, Loss: 1.81283\n"
     ]
    },
    {
     "name": "stderr",
     "output_type": "stream",
     "text": [
      "c:\\Users\\rosa-\\anaconda3\\envs\\xaifo\\lib\\site-packages\\deepsnap\\graph.py:2126: UserWarning: __floordiv__ is deprecated, and its behavior will change in a future version of pytorch. It currently rounds toward 0 (like the 'trunc' function NOT 'floor'). This results in incorrect rounding for negative values. To keep the current behavior, use torch.div(a, b, rounding_mode='trunc'), or for actual floor division, use torch.div(a, b, rounding_mode='floor').\n",
      "  row = perm // num_nodes\n"
     ]
    },
    {
     "name": "stdout",
     "output_type": "stream",
     "text": [
      "Epoch: 014, Train: 0.9535, Val: 0.9329, Test: 0.9343, Loss: 1.77299\n"
     ]
    },
    {
     "name": "stderr",
     "output_type": "stream",
     "text": [
      "c:\\Users\\rosa-\\anaconda3\\envs\\xaifo\\lib\\site-packages\\deepsnap\\graph.py:2126: UserWarning: __floordiv__ is deprecated, and its behavior will change in a future version of pytorch. It currently rounds toward 0 (like the 'trunc' function NOT 'floor'). This results in incorrect rounding for negative values. To keep the current behavior, use torch.div(a, b, rounding_mode='trunc'), or for actual floor division, use torch.div(a, b, rounding_mode='floor').\n",
      "  row = perm // num_nodes\n"
     ]
    },
    {
     "name": "stdout",
     "output_type": "stream",
     "text": [
      "Epoch: 015, Train: 0.9520, Val: 0.9321, Test: 0.9338, Loss: 1.72690\n"
     ]
    },
    {
     "name": "stderr",
     "output_type": "stream",
     "text": [
      "c:\\Users\\rosa-\\anaconda3\\envs\\xaifo\\lib\\site-packages\\deepsnap\\graph.py:2126: UserWarning: __floordiv__ is deprecated, and its behavior will change in a future version of pytorch. It currently rounds toward 0 (like the 'trunc' function NOT 'floor'). This results in incorrect rounding for negative values. To keep the current behavior, use torch.div(a, b, rounding_mode='trunc'), or for actual floor division, use torch.div(a, b, rounding_mode='floor').\n",
      "  row = perm // num_nodes\n"
     ]
    },
    {
     "name": "stdout",
     "output_type": "stream",
     "text": [
      "Epoch: 016, Train: 0.9507, Val: 0.9314, Test: 0.9333, Loss: 1.68853\n"
     ]
    },
    {
     "name": "stderr",
     "output_type": "stream",
     "text": [
      "c:\\Users\\rosa-\\anaconda3\\envs\\xaifo\\lib\\site-packages\\deepsnap\\graph.py:2126: UserWarning: __floordiv__ is deprecated, and its behavior will change in a future version of pytorch. It currently rounds toward 0 (like the 'trunc' function NOT 'floor'). This results in incorrect rounding for negative values. To keep the current behavior, use torch.div(a, b, rounding_mode='trunc'), or for actual floor division, use torch.div(a, b, rounding_mode='floor').\n",
      "  row = perm // num_nodes\n"
     ]
    },
    {
     "name": "stdout",
     "output_type": "stream",
     "text": [
      "Epoch: 017, Train: 0.9500, Val: 0.9309, Test: 0.9330, Loss: 1.65346\n"
     ]
    },
    {
     "name": "stderr",
     "output_type": "stream",
     "text": [
      "c:\\Users\\rosa-\\anaconda3\\envs\\xaifo\\lib\\site-packages\\deepsnap\\graph.py:2126: UserWarning: __floordiv__ is deprecated, and its behavior will change in a future version of pytorch. It currently rounds toward 0 (like the 'trunc' function NOT 'floor'). This results in incorrect rounding for negative values. To keep the current behavior, use torch.div(a, b, rounding_mode='trunc'), or for actual floor division, use torch.div(a, b, rounding_mode='floor').\n",
      "  row = perm // num_nodes\n"
     ]
    },
    {
     "name": "stdout",
     "output_type": "stream",
     "text": [
      "Epoch: 018, Train: 0.9490, Val: 0.9304, Test: 0.9327, Loss: 1.61635\n"
     ]
    },
    {
     "name": "stderr",
     "output_type": "stream",
     "text": [
      "c:\\Users\\rosa-\\anaconda3\\envs\\xaifo\\lib\\site-packages\\deepsnap\\graph.py:2126: UserWarning: __floordiv__ is deprecated, and its behavior will change in a future version of pytorch. It currently rounds toward 0 (like the 'trunc' function NOT 'floor'). This results in incorrect rounding for negative values. To keep the current behavior, use torch.div(a, b, rounding_mode='trunc'), or for actual floor division, use torch.div(a, b, rounding_mode='floor').\n",
      "  row = perm // num_nodes\n"
     ]
    },
    {
     "name": "stdout",
     "output_type": "stream",
     "text": [
      "Epoch: 019, Train: 0.9489, Val: 0.9300, Test: 0.9326, Loss: 1.58165\n"
     ]
    },
    {
     "name": "stderr",
     "output_type": "stream",
     "text": [
      "c:\\Users\\rosa-\\anaconda3\\envs\\xaifo\\lib\\site-packages\\deepsnap\\graph.py:2126: UserWarning: __floordiv__ is deprecated, and its behavior will change in a future version of pytorch. It currently rounds toward 0 (like the 'trunc' function NOT 'floor'). This results in incorrect rounding for negative values. To keep the current behavior, use torch.div(a, b, rounding_mode='trunc'), or for actual floor division, use torch.div(a, b, rounding_mode='floor').\n",
      "  row = perm // num_nodes\n"
     ]
    },
    {
     "name": "stdout",
     "output_type": "stream",
     "text": [
      "Epoch: 020, Train: 0.9483, Val: 0.9299, Test: 0.9327, Loss: 1.53623\n"
     ]
    },
    {
     "name": "stderr",
     "output_type": "stream",
     "text": [
      "c:\\Users\\rosa-\\anaconda3\\envs\\xaifo\\lib\\site-packages\\deepsnap\\graph.py:2126: UserWarning: __floordiv__ is deprecated, and its behavior will change in a future version of pytorch. It currently rounds toward 0 (like the 'trunc' function NOT 'floor'). This results in incorrect rounding for negative values. To keep the current behavior, use torch.div(a, b, rounding_mode='trunc'), or for actual floor division, use torch.div(a, b, rounding_mode='floor').\n",
      "  row = perm // num_nodes\n"
     ]
    },
    {
     "name": "stdout",
     "output_type": "stream",
     "text": [
      "Epoch: 021, Train: 0.9486, Val: 0.9301, Test: 0.9332, Loss: 1.51154\n"
     ]
    },
    {
     "name": "stderr",
     "output_type": "stream",
     "text": [
      "c:\\Users\\rosa-\\anaconda3\\envs\\xaifo\\lib\\site-packages\\deepsnap\\graph.py:2126: UserWarning: __floordiv__ is deprecated, and its behavior will change in a future version of pytorch. It currently rounds toward 0 (like the 'trunc' function NOT 'floor'). This results in incorrect rounding for negative values. To keep the current behavior, use torch.div(a, b, rounding_mode='trunc'), or for actual floor division, use torch.div(a, b, rounding_mode='floor').\n",
      "  row = perm // num_nodes\n"
     ]
    },
    {
     "name": "stdout",
     "output_type": "stream",
     "text": [
      "Epoch: 022, Train: 0.9487, Val: 0.9306, Test: 0.9338, Loss: 1.46743\n"
     ]
    },
    {
     "name": "stderr",
     "output_type": "stream",
     "text": [
      "c:\\Users\\rosa-\\anaconda3\\envs\\xaifo\\lib\\site-packages\\deepsnap\\graph.py:2126: UserWarning: __floordiv__ is deprecated, and its behavior will change in a future version of pytorch. It currently rounds toward 0 (like the 'trunc' function NOT 'floor'). This results in incorrect rounding for negative values. To keep the current behavior, use torch.div(a, b, rounding_mode='trunc'), or for actual floor division, use torch.div(a, b, rounding_mode='floor').\n",
      "  row = perm // num_nodes\n"
     ]
    },
    {
     "name": "stdout",
     "output_type": "stream",
     "text": [
      "Epoch: 023, Train: 0.9490, Val: 0.9311, Test: 0.9344, Loss: 1.43723\n"
     ]
    },
    {
     "name": "stderr",
     "output_type": "stream",
     "text": [
      "c:\\Users\\rosa-\\anaconda3\\envs\\xaifo\\lib\\site-packages\\deepsnap\\graph.py:2126: UserWarning: __floordiv__ is deprecated, and its behavior will change in a future version of pytorch. It currently rounds toward 0 (like the 'trunc' function NOT 'floor'). This results in incorrect rounding for negative values. To keep the current behavior, use torch.div(a, b, rounding_mode='trunc'), or for actual floor division, use torch.div(a, b, rounding_mode='floor').\n",
      "  row = perm // num_nodes\n"
     ]
    },
    {
     "name": "stdout",
     "output_type": "stream",
     "text": [
      "Epoch: 024, Train: 0.9502, Val: 0.9317, Test: 0.9352, Loss: 1.39941\n"
     ]
    },
    {
     "name": "stderr",
     "output_type": "stream",
     "text": [
      "c:\\Users\\rosa-\\anaconda3\\envs\\xaifo\\lib\\site-packages\\deepsnap\\graph.py:2126: UserWarning: __floordiv__ is deprecated, and its behavior will change in a future version of pytorch. It currently rounds toward 0 (like the 'trunc' function NOT 'floor'). This results in incorrect rounding for negative values. To keep the current behavior, use torch.div(a, b, rounding_mode='trunc'), or for actual floor division, use torch.div(a, b, rounding_mode='floor').\n",
      "  row = perm // num_nodes\n"
     ]
    },
    {
     "name": "stdout",
     "output_type": "stream",
     "text": [
      "Epoch: 025, Train: 0.9505, Val: 0.9324, Test: 0.9359, Loss: 1.36293\n"
     ]
    },
    {
     "name": "stderr",
     "output_type": "stream",
     "text": [
      "c:\\Users\\rosa-\\anaconda3\\envs\\xaifo\\lib\\site-packages\\deepsnap\\graph.py:2126: UserWarning: __floordiv__ is deprecated, and its behavior will change in a future version of pytorch. It currently rounds toward 0 (like the 'trunc' function NOT 'floor'). This results in incorrect rounding for negative values. To keep the current behavior, use torch.div(a, b, rounding_mode='trunc'), or for actual floor division, use torch.div(a, b, rounding_mode='floor').\n",
      "  row = perm // num_nodes\n"
     ]
    },
    {
     "name": "stdout",
     "output_type": "stream",
     "text": [
      "Epoch: 026, Train: 0.9516, Val: 0.9333, Test: 0.9369, Loss: 1.33342\n"
     ]
    },
    {
     "name": "stderr",
     "output_type": "stream",
     "text": [
      "c:\\Users\\rosa-\\anaconda3\\envs\\xaifo\\lib\\site-packages\\deepsnap\\graph.py:2126: UserWarning: __floordiv__ is deprecated, and its behavior will change in a future version of pytorch. It currently rounds toward 0 (like the 'trunc' function NOT 'floor'). This results in incorrect rounding for negative values. To keep the current behavior, use torch.div(a, b, rounding_mode='trunc'), or for actual floor division, use torch.div(a, b, rounding_mode='floor').\n",
      "  row = perm // num_nodes\n"
     ]
    },
    {
     "name": "stdout",
     "output_type": "stream",
     "text": [
      "Epoch: 027, Train: 0.9522, Val: 0.9340, Test: 0.9376, Loss: 1.29426\n"
     ]
    },
    {
     "name": "stderr",
     "output_type": "stream",
     "text": [
      "c:\\Users\\rosa-\\anaconda3\\envs\\xaifo\\lib\\site-packages\\deepsnap\\graph.py:2126: UserWarning: __floordiv__ is deprecated, and its behavior will change in a future version of pytorch. It currently rounds toward 0 (like the 'trunc' function NOT 'floor'). This results in incorrect rounding for negative values. To keep the current behavior, use torch.div(a, b, rounding_mode='trunc'), or for actual floor division, use torch.div(a, b, rounding_mode='floor').\n",
      "  row = perm // num_nodes\n"
     ]
    },
    {
     "name": "stdout",
     "output_type": "stream",
     "text": [
      "Epoch: 028, Train: 0.9532, Val: 0.9350, Test: 0.9385, Loss: 1.25992\n"
     ]
    },
    {
     "name": "stderr",
     "output_type": "stream",
     "text": [
      "c:\\Users\\rosa-\\anaconda3\\envs\\xaifo\\lib\\site-packages\\deepsnap\\graph.py:2126: UserWarning: __floordiv__ is deprecated, and its behavior will change in a future version of pytorch. It currently rounds toward 0 (like the 'trunc' function NOT 'floor'). This results in incorrect rounding for negative values. To keep the current behavior, use torch.div(a, b, rounding_mode='trunc'), or for actual floor division, use torch.div(a, b, rounding_mode='floor').\n",
      "  row = perm // num_nodes\n"
     ]
    },
    {
     "name": "stdout",
     "output_type": "stream",
     "text": [
      "Epoch: 029, Train: 0.9538, Val: 0.9360, Test: 0.9394, Loss: 1.23076\n"
     ]
    },
    {
     "name": "stderr",
     "output_type": "stream",
     "text": [
      "c:\\Users\\rosa-\\anaconda3\\envs\\xaifo\\lib\\site-packages\\deepsnap\\graph.py:2126: UserWarning: __floordiv__ is deprecated, and its behavior will change in a future version of pytorch. It currently rounds toward 0 (like the 'trunc' function NOT 'floor'). This results in incorrect rounding for negative values. To keep the current behavior, use torch.div(a, b, rounding_mode='trunc'), or for actual floor division, use torch.div(a, b, rounding_mode='floor').\n",
      "  row = perm // num_nodes\n"
     ]
    },
    {
     "name": "stdout",
     "output_type": "stream",
     "text": [
      "Epoch: 030, Train: 0.9553, Val: 0.9373, Test: 0.9406, Loss: 1.20549\n"
     ]
    },
    {
     "name": "stderr",
     "output_type": "stream",
     "text": [
      "c:\\Users\\rosa-\\anaconda3\\envs\\xaifo\\lib\\site-packages\\deepsnap\\graph.py:2126: UserWarning: __floordiv__ is deprecated, and its behavior will change in a future version of pytorch. It currently rounds toward 0 (like the 'trunc' function NOT 'floor'). This results in incorrect rounding for negative values. To keep the current behavior, use torch.div(a, b, rounding_mode='trunc'), or for actual floor division, use torch.div(a, b, rounding_mode='floor').\n",
      "  row = perm // num_nodes\n"
     ]
    },
    {
     "name": "stdout",
     "output_type": "stream",
     "text": [
      "Epoch: 031, Train: 0.9566, Val: 0.9382, Test: 0.9414, Loss: 1.16824\n"
     ]
    },
    {
     "name": "stderr",
     "output_type": "stream",
     "text": [
      "c:\\Users\\rosa-\\anaconda3\\envs\\xaifo\\lib\\site-packages\\deepsnap\\graph.py:2126: UserWarning: __floordiv__ is deprecated, and its behavior will change in a future version of pytorch. It currently rounds toward 0 (like the 'trunc' function NOT 'floor'). This results in incorrect rounding for negative values. To keep the current behavior, use torch.div(a, b, rounding_mode='trunc'), or for actual floor division, use torch.div(a, b, rounding_mode='floor').\n",
      "  row = perm // num_nodes\n"
     ]
    },
    {
     "name": "stdout",
     "output_type": "stream",
     "text": [
      "Epoch: 032, Train: 0.9579, Val: 0.9393, Test: 0.9424, Loss: 1.14486\n"
     ]
    },
    {
     "name": "stderr",
     "output_type": "stream",
     "text": [
      "c:\\Users\\rosa-\\anaconda3\\envs\\xaifo\\lib\\site-packages\\deepsnap\\graph.py:2126: UserWarning: __floordiv__ is deprecated, and its behavior will change in a future version of pytorch. It currently rounds toward 0 (like the 'trunc' function NOT 'floor'). This results in incorrect rounding for negative values. To keep the current behavior, use torch.div(a, b, rounding_mode='trunc'), or for actual floor division, use torch.div(a, b, rounding_mode='floor').\n",
      "  row = perm // num_nodes\n"
     ]
    },
    {
     "name": "stdout",
     "output_type": "stream",
     "text": [
      "Epoch: 033, Train: 0.9588, Val: 0.9403, Test: 0.9433, Loss: 1.10855\n"
     ]
    },
    {
     "name": "stderr",
     "output_type": "stream",
     "text": [
      "c:\\Users\\rosa-\\anaconda3\\envs\\xaifo\\lib\\site-packages\\deepsnap\\graph.py:2126: UserWarning: __floordiv__ is deprecated, and its behavior will change in a future version of pytorch. It currently rounds toward 0 (like the 'trunc' function NOT 'floor'). This results in incorrect rounding for negative values. To keep the current behavior, use torch.div(a, b, rounding_mode='trunc'), or for actual floor division, use torch.div(a, b, rounding_mode='floor').\n",
      "  row = perm // num_nodes\n"
     ]
    },
    {
     "name": "stdout",
     "output_type": "stream",
     "text": [
      "Epoch: 034, Train: 0.9594, Val: 0.9412, Test: 0.9442, Loss: 1.10133\n"
     ]
    },
    {
     "name": "stderr",
     "output_type": "stream",
     "text": [
      "c:\\Users\\rosa-\\anaconda3\\envs\\xaifo\\lib\\site-packages\\deepsnap\\graph.py:2126: UserWarning: __floordiv__ is deprecated, and its behavior will change in a future version of pytorch. It currently rounds toward 0 (like the 'trunc' function NOT 'floor'). This results in incorrect rounding for negative values. To keep the current behavior, use torch.div(a, b, rounding_mode='trunc'), or for actual floor division, use torch.div(a, b, rounding_mode='floor').\n",
      "  row = perm // num_nodes\n"
     ]
    },
    {
     "name": "stdout",
     "output_type": "stream",
     "text": [
      "Epoch: 035, Train: 0.9601, Val: 0.9420, Test: 0.9449, Loss: 1.05702\n"
     ]
    },
    {
     "name": "stderr",
     "output_type": "stream",
     "text": [
      "c:\\Users\\rosa-\\anaconda3\\envs\\xaifo\\lib\\site-packages\\deepsnap\\graph.py:2126: UserWarning: __floordiv__ is deprecated, and its behavior will change in a future version of pytorch. It currently rounds toward 0 (like the 'trunc' function NOT 'floor'). This results in incorrect rounding for negative values. To keep the current behavior, use torch.div(a, b, rounding_mode='trunc'), or for actual floor division, use torch.div(a, b, rounding_mode='floor').\n",
      "  row = perm // num_nodes\n"
     ]
    },
    {
     "name": "stdout",
     "output_type": "stream",
     "text": [
      "Epoch: 036, Train: 0.9608, Val: 0.9428, Test: 0.9455, Loss: 1.03959\n"
     ]
    },
    {
     "name": "stderr",
     "output_type": "stream",
     "text": [
      "c:\\Users\\rosa-\\anaconda3\\envs\\xaifo\\lib\\site-packages\\deepsnap\\graph.py:2126: UserWarning: __floordiv__ is deprecated, and its behavior will change in a future version of pytorch. It currently rounds toward 0 (like the 'trunc' function NOT 'floor'). This results in incorrect rounding for negative values. To keep the current behavior, use torch.div(a, b, rounding_mode='trunc'), or for actual floor division, use torch.div(a, b, rounding_mode='floor').\n",
      "  row = perm // num_nodes\n"
     ]
    },
    {
     "name": "stdout",
     "output_type": "stream",
     "text": [
      "Epoch: 037, Train: 0.9615, Val: 0.9435, Test: 0.9462, Loss: 1.01339\n"
     ]
    },
    {
     "name": "stderr",
     "output_type": "stream",
     "text": [
      "c:\\Users\\rosa-\\anaconda3\\envs\\xaifo\\lib\\site-packages\\deepsnap\\graph.py:2126: UserWarning: __floordiv__ is deprecated, and its behavior will change in a future version of pytorch. It currently rounds toward 0 (like the 'trunc' function NOT 'floor'). This results in incorrect rounding for negative values. To keep the current behavior, use torch.div(a, b, rounding_mode='trunc'), or for actual floor division, use torch.div(a, b, rounding_mode='floor').\n",
      "  row = perm // num_nodes\n"
     ]
    },
    {
     "name": "stdout",
     "output_type": "stream",
     "text": [
      "Epoch: 038, Train: 0.9617, Val: 0.9440, Test: 0.9467, Loss: 0.99878\n"
     ]
    },
    {
     "name": "stderr",
     "output_type": "stream",
     "text": [
      "c:\\Users\\rosa-\\anaconda3\\envs\\xaifo\\lib\\site-packages\\deepsnap\\graph.py:2126: UserWarning: __floordiv__ is deprecated, and its behavior will change in a future version of pytorch. It currently rounds toward 0 (like the 'trunc' function NOT 'floor'). This results in incorrect rounding for negative values. To keep the current behavior, use torch.div(a, b, rounding_mode='trunc'), or for actual floor division, use torch.div(a, b, rounding_mode='floor').\n",
      "  row = perm // num_nodes\n"
     ]
    },
    {
     "name": "stdout",
     "output_type": "stream",
     "text": [
      "Epoch: 039, Train: 0.9620, Val: 0.9445, Test: 0.9472, Loss: 0.96872\n"
     ]
    },
    {
     "name": "stderr",
     "output_type": "stream",
     "text": [
      "c:\\Users\\rosa-\\anaconda3\\envs\\xaifo\\lib\\site-packages\\deepsnap\\graph.py:2126: UserWarning: __floordiv__ is deprecated, and its behavior will change in a future version of pytorch. It currently rounds toward 0 (like the 'trunc' function NOT 'floor'). This results in incorrect rounding for negative values. To keep the current behavior, use torch.div(a, b, rounding_mode='trunc'), or for actual floor division, use torch.div(a, b, rounding_mode='floor').\n",
      "  row = perm // num_nodes\n"
     ]
    },
    {
     "name": "stdout",
     "output_type": "stream",
     "text": [
      "Epoch: 040, Train: 0.9627, Val: 0.9449, Test: 0.9476, Loss: 0.94686\n"
     ]
    },
    {
     "name": "stderr",
     "output_type": "stream",
     "text": [
      "c:\\Users\\rosa-\\anaconda3\\envs\\xaifo\\lib\\site-packages\\deepsnap\\graph.py:2126: UserWarning: __floordiv__ is deprecated, and its behavior will change in a future version of pytorch. It currently rounds toward 0 (like the 'trunc' function NOT 'floor'). This results in incorrect rounding for negative values. To keep the current behavior, use torch.div(a, b, rounding_mode='trunc'), or for actual floor division, use torch.div(a, b, rounding_mode='floor').\n",
      "  row = perm // num_nodes\n"
     ]
    },
    {
     "name": "stdout",
     "output_type": "stream",
     "text": [
      "Epoch: 041, Train: 0.9630, Val: 0.9454, Test: 0.9481, Loss: 0.92598\n"
     ]
    },
    {
     "name": "stderr",
     "output_type": "stream",
     "text": [
      "c:\\Users\\rosa-\\anaconda3\\envs\\xaifo\\lib\\site-packages\\deepsnap\\graph.py:2126: UserWarning: __floordiv__ is deprecated, and its behavior will change in a future version of pytorch. It currently rounds toward 0 (like the 'trunc' function NOT 'floor'). This results in incorrect rounding for negative values. To keep the current behavior, use torch.div(a, b, rounding_mode='trunc'), or for actual floor division, use torch.div(a, b, rounding_mode='floor').\n",
      "  row = perm // num_nodes\n"
     ]
    },
    {
     "name": "stdout",
     "output_type": "stream",
     "text": [
      "Epoch: 042, Train: 0.9630, Val: 0.9459, Test: 0.9487, Loss: 0.91146\n"
     ]
    },
    {
     "name": "stderr",
     "output_type": "stream",
     "text": [
      "c:\\Users\\rosa-\\anaconda3\\envs\\xaifo\\lib\\site-packages\\deepsnap\\graph.py:2126: UserWarning: __floordiv__ is deprecated, and its behavior will change in a future version of pytorch. It currently rounds toward 0 (like the 'trunc' function NOT 'floor'). This results in incorrect rounding for negative values. To keep the current behavior, use torch.div(a, b, rounding_mode='trunc'), or for actual floor division, use torch.div(a, b, rounding_mode='floor').\n",
      "  row = perm // num_nodes\n"
     ]
    },
    {
     "name": "stdout",
     "output_type": "stream",
     "text": [
      "Epoch: 043, Train: 0.9635, Val: 0.9464, Test: 0.9493, Loss: 0.89632\n"
     ]
    },
    {
     "name": "stderr",
     "output_type": "stream",
     "text": [
      "c:\\Users\\rosa-\\anaconda3\\envs\\xaifo\\lib\\site-packages\\deepsnap\\graph.py:2126: UserWarning: __floordiv__ is deprecated, and its behavior will change in a future version of pytorch. It currently rounds toward 0 (like the 'trunc' function NOT 'floor'). This results in incorrect rounding for negative values. To keep the current behavior, use torch.div(a, b, rounding_mode='trunc'), or for actual floor division, use torch.div(a, b, rounding_mode='floor').\n",
      "  row = perm // num_nodes\n"
     ]
    },
    {
     "name": "stdout",
     "output_type": "stream",
     "text": [
      "Epoch: 044, Train: 0.9639, Val: 0.9468, Test: 0.9498, Loss: 0.86228\n"
     ]
    },
    {
     "name": "stderr",
     "output_type": "stream",
     "text": [
      "c:\\Users\\rosa-\\anaconda3\\envs\\xaifo\\lib\\site-packages\\deepsnap\\graph.py:2126: UserWarning: __floordiv__ is deprecated, and its behavior will change in a future version of pytorch. It currently rounds toward 0 (like the 'trunc' function NOT 'floor'). This results in incorrect rounding for negative values. To keep the current behavior, use torch.div(a, b, rounding_mode='trunc'), or for actual floor division, use torch.div(a, b, rounding_mode='floor').\n",
      "  row = perm // num_nodes\n"
     ]
    },
    {
     "name": "stdout",
     "output_type": "stream",
     "text": [
      "Epoch: 045, Train: 0.9641, Val: 0.9472, Test: 0.9503, Loss: 0.85192\n"
     ]
    },
    {
     "name": "stderr",
     "output_type": "stream",
     "text": [
      "c:\\Users\\rosa-\\anaconda3\\envs\\xaifo\\lib\\site-packages\\deepsnap\\graph.py:2126: UserWarning: __floordiv__ is deprecated, and its behavior will change in a future version of pytorch. It currently rounds toward 0 (like the 'trunc' function NOT 'floor'). This results in incorrect rounding for negative values. To keep the current behavior, use torch.div(a, b, rounding_mode='trunc'), or for actual floor division, use torch.div(a, b, rounding_mode='floor').\n",
      "  row = perm // num_nodes\n"
     ]
    },
    {
     "name": "stdout",
     "output_type": "stream",
     "text": [
      "Epoch: 046, Train: 0.9645, Val: 0.9476, Test: 0.9508, Loss: 0.83869\n"
     ]
    },
    {
     "name": "stderr",
     "output_type": "stream",
     "text": [
      "c:\\Users\\rosa-\\anaconda3\\envs\\xaifo\\lib\\site-packages\\deepsnap\\graph.py:2126: UserWarning: __floordiv__ is deprecated, and its behavior will change in a future version of pytorch. It currently rounds toward 0 (like the 'trunc' function NOT 'floor'). This results in incorrect rounding for negative values. To keep the current behavior, use torch.div(a, b, rounding_mode='trunc'), or for actual floor division, use torch.div(a, b, rounding_mode='floor').\n",
      "  row = perm // num_nodes\n"
     ]
    },
    {
     "name": "stdout",
     "output_type": "stream",
     "text": [
      "Epoch: 047, Train: 0.9646, Val: 0.9480, Test: 0.9513, Loss: 0.82170\n"
     ]
    },
    {
     "name": "stderr",
     "output_type": "stream",
     "text": [
      "c:\\Users\\rosa-\\anaconda3\\envs\\xaifo\\lib\\site-packages\\deepsnap\\graph.py:2126: UserWarning: __floordiv__ is deprecated, and its behavior will change in a future version of pytorch. It currently rounds toward 0 (like the 'trunc' function NOT 'floor'). This results in incorrect rounding for negative values. To keep the current behavior, use torch.div(a, b, rounding_mode='trunc'), or for actual floor division, use torch.div(a, b, rounding_mode='floor').\n",
      "  row = perm // num_nodes\n"
     ]
    },
    {
     "name": "stdout",
     "output_type": "stream",
     "text": [
      "Epoch: 048, Train: 0.9647, Val: 0.9483, Test: 0.9517, Loss: 0.80778\n"
     ]
    },
    {
     "name": "stderr",
     "output_type": "stream",
     "text": [
      "c:\\Users\\rosa-\\anaconda3\\envs\\xaifo\\lib\\site-packages\\deepsnap\\graph.py:2126: UserWarning: __floordiv__ is deprecated, and its behavior will change in a future version of pytorch. It currently rounds toward 0 (like the 'trunc' function NOT 'floor'). This results in incorrect rounding for negative values. To keep the current behavior, use torch.div(a, b, rounding_mode='trunc'), or for actual floor division, use torch.div(a, b, rounding_mode='floor').\n",
      "  row = perm // num_nodes\n"
     ]
    },
    {
     "name": "stdout",
     "output_type": "stream",
     "text": [
      "Epoch: 049, Train: 0.9652, Val: 0.9487, Test: 0.9521, Loss: 0.79719\n"
     ]
    },
    {
     "name": "stderr",
     "output_type": "stream",
     "text": [
      "c:\\Users\\rosa-\\anaconda3\\envs\\xaifo\\lib\\site-packages\\deepsnap\\graph.py:2126: UserWarning: __floordiv__ is deprecated, and its behavior will change in a future version of pytorch. It currently rounds toward 0 (like the 'trunc' function NOT 'floor'). This results in incorrect rounding for negative values. To keep the current behavior, use torch.div(a, b, rounding_mode='trunc'), or for actual floor division, use torch.div(a, b, rounding_mode='floor').\n",
      "  row = perm // num_nodes\n"
     ]
    },
    {
     "name": "stdout",
     "output_type": "stream",
     "text": [
      "Epoch: 050, Train: 0.9651, Val: 0.9489, Test: 0.9525, Loss: 0.78596\n"
     ]
    },
    {
     "name": "stderr",
     "output_type": "stream",
     "text": [
      "c:\\Users\\rosa-\\anaconda3\\envs\\xaifo\\lib\\site-packages\\deepsnap\\graph.py:2126: UserWarning: __floordiv__ is deprecated, and its behavior will change in a future version of pytorch. It currently rounds toward 0 (like the 'trunc' function NOT 'floor'). This results in incorrect rounding for negative values. To keep the current behavior, use torch.div(a, b, rounding_mode='trunc'), or for actual floor division, use torch.div(a, b, rounding_mode='floor').\n",
      "  row = perm // num_nodes\n"
     ]
    },
    {
     "name": "stdout",
     "output_type": "stream",
     "text": [
      "Epoch: 051, Train: 0.9654, Val: 0.9492, Test: 0.9529, Loss: 0.75396\n"
     ]
    },
    {
     "name": "stderr",
     "output_type": "stream",
     "text": [
      "c:\\Users\\rosa-\\anaconda3\\envs\\xaifo\\lib\\site-packages\\deepsnap\\graph.py:2126: UserWarning: __floordiv__ is deprecated, and its behavior will change in a future version of pytorch. It currently rounds toward 0 (like the 'trunc' function NOT 'floor'). This results in incorrect rounding for negative values. To keep the current behavior, use torch.div(a, b, rounding_mode='trunc'), or for actual floor division, use torch.div(a, b, rounding_mode='floor').\n",
      "  row = perm // num_nodes\n"
     ]
    },
    {
     "name": "stdout",
     "output_type": "stream",
     "text": [
      "Epoch: 052, Train: 0.9655, Val: 0.9496, Test: 0.9533, Loss: 0.75564\n"
     ]
    },
    {
     "name": "stderr",
     "output_type": "stream",
     "text": [
      "c:\\Users\\rosa-\\anaconda3\\envs\\xaifo\\lib\\site-packages\\deepsnap\\graph.py:2126: UserWarning: __floordiv__ is deprecated, and its behavior will change in a future version of pytorch. It currently rounds toward 0 (like the 'trunc' function NOT 'floor'). This results in incorrect rounding for negative values. To keep the current behavior, use torch.div(a, b, rounding_mode='trunc'), or for actual floor division, use torch.div(a, b, rounding_mode='floor').\n",
      "  row = perm // num_nodes\n"
     ]
    },
    {
     "name": "stdout",
     "output_type": "stream",
     "text": [
      "Epoch: 053, Train: 0.9657, Val: 0.9499, Test: 0.9537, Loss: 0.73898\n"
     ]
    },
    {
     "name": "stderr",
     "output_type": "stream",
     "text": [
      "c:\\Users\\rosa-\\anaconda3\\envs\\xaifo\\lib\\site-packages\\deepsnap\\graph.py:2126: UserWarning: __floordiv__ is deprecated, and its behavior will change in a future version of pytorch. It currently rounds toward 0 (like the 'trunc' function NOT 'floor'). This results in incorrect rounding for negative values. To keep the current behavior, use torch.div(a, b, rounding_mode='trunc'), or for actual floor division, use torch.div(a, b, rounding_mode='floor').\n",
      "  row = perm // num_nodes\n"
     ]
    },
    {
     "name": "stdout",
     "output_type": "stream",
     "text": [
      "Epoch: 054, Train: 0.9660, Val: 0.9502, Test: 0.9541, Loss: 0.73670\n"
     ]
    },
    {
     "name": "stderr",
     "output_type": "stream",
     "text": [
      "c:\\Users\\rosa-\\anaconda3\\envs\\xaifo\\lib\\site-packages\\deepsnap\\graph.py:2126: UserWarning: __floordiv__ is deprecated, and its behavior will change in a future version of pytorch. It currently rounds toward 0 (like the 'trunc' function NOT 'floor'). This results in incorrect rounding for negative values. To keep the current behavior, use torch.div(a, b, rounding_mode='trunc'), or for actual floor division, use torch.div(a, b, rounding_mode='floor').\n",
      "  row = perm // num_nodes\n"
     ]
    },
    {
     "name": "stdout",
     "output_type": "stream",
     "text": [
      "Epoch: 055, Train: 0.9662, Val: 0.9505, Test: 0.9545, Loss: 0.70849\n"
     ]
    },
    {
     "name": "stderr",
     "output_type": "stream",
     "text": [
      "c:\\Users\\rosa-\\anaconda3\\envs\\xaifo\\lib\\site-packages\\deepsnap\\graph.py:2126: UserWarning: __floordiv__ is deprecated, and its behavior will change in a future version of pytorch. It currently rounds toward 0 (like the 'trunc' function NOT 'floor'). This results in incorrect rounding for negative values. To keep the current behavior, use torch.div(a, b, rounding_mode='trunc'), or for actual floor division, use torch.div(a, b, rounding_mode='floor').\n",
      "  row = perm // num_nodes\n"
     ]
    },
    {
     "name": "stdout",
     "output_type": "stream",
     "text": [
      "Epoch: 056, Train: 0.9659, Val: 0.9507, Test: 0.9549, Loss: 0.71248\n"
     ]
    },
    {
     "name": "stderr",
     "output_type": "stream",
     "text": [
      "c:\\Users\\rosa-\\anaconda3\\envs\\xaifo\\lib\\site-packages\\deepsnap\\graph.py:2126: UserWarning: __floordiv__ is deprecated, and its behavior will change in a future version of pytorch. It currently rounds toward 0 (like the 'trunc' function NOT 'floor'). This results in incorrect rounding for negative values. To keep the current behavior, use torch.div(a, b, rounding_mode='trunc'), or for actual floor division, use torch.div(a, b, rounding_mode='floor').\n",
      "  row = perm // num_nodes\n"
     ]
    },
    {
     "name": "stdout",
     "output_type": "stream",
     "text": [
      "Epoch: 057, Train: 0.9663, Val: 0.9509, Test: 0.9552, Loss: 0.71132\n"
     ]
    },
    {
     "name": "stderr",
     "output_type": "stream",
     "text": [
      "c:\\Users\\rosa-\\anaconda3\\envs\\xaifo\\lib\\site-packages\\deepsnap\\graph.py:2126: UserWarning: __floordiv__ is deprecated, and its behavior will change in a future version of pytorch. It currently rounds toward 0 (like the 'trunc' function NOT 'floor'). This results in incorrect rounding for negative values. To keep the current behavior, use torch.div(a, b, rounding_mode='trunc'), or for actual floor division, use torch.div(a, b, rounding_mode='floor').\n",
      "  row = perm // num_nodes\n"
     ]
    },
    {
     "name": "stdout",
     "output_type": "stream",
     "text": [
      "Epoch: 058, Train: 0.9663, Val: 0.9512, Test: 0.9557, Loss: 0.70335\n"
     ]
    },
    {
     "name": "stderr",
     "output_type": "stream",
     "text": [
      "c:\\Users\\rosa-\\anaconda3\\envs\\xaifo\\lib\\site-packages\\deepsnap\\graph.py:2126: UserWarning: __floordiv__ is deprecated, and its behavior will change in a future version of pytorch. It currently rounds toward 0 (like the 'trunc' function NOT 'floor'). This results in incorrect rounding for negative values. To keep the current behavior, use torch.div(a, b, rounding_mode='trunc'), or for actual floor division, use torch.div(a, b, rounding_mode='floor').\n",
      "  row = perm // num_nodes\n"
     ]
    },
    {
     "name": "stdout",
     "output_type": "stream",
     "text": [
      "Epoch: 059, Train: 0.9669, Val: 0.9515, Test: 0.9561, Loss: 0.68851\n"
     ]
    },
    {
     "name": "stderr",
     "output_type": "stream",
     "text": [
      "c:\\Users\\rosa-\\anaconda3\\envs\\xaifo\\lib\\site-packages\\deepsnap\\graph.py:2126: UserWarning: __floordiv__ is deprecated, and its behavior will change in a future version of pytorch. It currently rounds toward 0 (like the 'trunc' function NOT 'floor'). This results in incorrect rounding for negative values. To keep the current behavior, use torch.div(a, b, rounding_mode='trunc'), or for actual floor division, use torch.div(a, b, rounding_mode='floor').\n",
      "  row = perm // num_nodes\n"
     ]
    },
    {
     "name": "stdout",
     "output_type": "stream",
     "text": [
      "Epoch: 060, Train: 0.9668, Val: 0.9517, Test: 0.9565, Loss: 0.69037\n"
     ]
    },
    {
     "name": "stderr",
     "output_type": "stream",
     "text": [
      "c:\\Users\\rosa-\\anaconda3\\envs\\xaifo\\lib\\site-packages\\deepsnap\\graph.py:2126: UserWarning: __floordiv__ is deprecated, and its behavior will change in a future version of pytorch. It currently rounds toward 0 (like the 'trunc' function NOT 'floor'). This results in incorrect rounding for negative values. To keep the current behavior, use torch.div(a, b, rounding_mode='trunc'), or for actual floor division, use torch.div(a, b, rounding_mode='floor').\n",
      "  row = perm // num_nodes\n"
     ]
    },
    {
     "name": "stdout",
     "output_type": "stream",
     "text": [
      "Epoch: 061, Train: 0.9669, Val: 0.9519, Test: 0.9569, Loss: 0.66767\n"
     ]
    },
    {
     "name": "stderr",
     "output_type": "stream",
     "text": [
      "c:\\Users\\rosa-\\anaconda3\\envs\\xaifo\\lib\\site-packages\\deepsnap\\graph.py:2126: UserWarning: __floordiv__ is deprecated, and its behavior will change in a future version of pytorch. It currently rounds toward 0 (like the 'trunc' function NOT 'floor'). This results in incorrect rounding for negative values. To keep the current behavior, use torch.div(a, b, rounding_mode='trunc'), or for actual floor division, use torch.div(a, b, rounding_mode='floor').\n",
      "  row = perm // num_nodes\n"
     ]
    },
    {
     "name": "stdout",
     "output_type": "stream",
     "text": [
      "Epoch: 062, Train: 0.9669, Val: 0.9522, Test: 0.9572, Loss: 0.66408\n"
     ]
    },
    {
     "name": "stderr",
     "output_type": "stream",
     "text": [
      "c:\\Users\\rosa-\\anaconda3\\envs\\xaifo\\lib\\site-packages\\deepsnap\\graph.py:2126: UserWarning: __floordiv__ is deprecated, and its behavior will change in a future version of pytorch. It currently rounds toward 0 (like the 'trunc' function NOT 'floor'). This results in incorrect rounding for negative values. To keep the current behavior, use torch.div(a, b, rounding_mode='trunc'), or for actual floor division, use torch.div(a, b, rounding_mode='floor').\n",
      "  row = perm // num_nodes\n"
     ]
    },
    {
     "name": "stdout",
     "output_type": "stream",
     "text": [
      "Epoch: 063, Train: 0.9673, Val: 0.9524, Test: 0.9576, Loss: 0.65650\n"
     ]
    },
    {
     "name": "stderr",
     "output_type": "stream",
     "text": [
      "c:\\Users\\rosa-\\anaconda3\\envs\\xaifo\\lib\\site-packages\\deepsnap\\graph.py:2126: UserWarning: __floordiv__ is deprecated, and its behavior will change in a future version of pytorch. It currently rounds toward 0 (like the 'trunc' function NOT 'floor'). This results in incorrect rounding for negative values. To keep the current behavior, use torch.div(a, b, rounding_mode='trunc'), or for actual floor division, use torch.div(a, b, rounding_mode='floor').\n",
      "  row = perm // num_nodes\n"
     ]
    },
    {
     "name": "stdout",
     "output_type": "stream",
     "text": [
      "Epoch: 064, Train: 0.9677, Val: 0.9527, Test: 0.9579, Loss: 0.65752\n"
     ]
    },
    {
     "name": "stderr",
     "output_type": "stream",
     "text": [
      "c:\\Users\\rosa-\\anaconda3\\envs\\xaifo\\lib\\site-packages\\deepsnap\\graph.py:2126: UserWarning: __floordiv__ is deprecated, and its behavior will change in a future version of pytorch. It currently rounds toward 0 (like the 'trunc' function NOT 'floor'). This results in incorrect rounding for negative values. To keep the current behavior, use torch.div(a, b, rounding_mode='trunc'), or for actual floor division, use torch.div(a, b, rounding_mode='floor').\n",
      "  row = perm // num_nodes\n"
     ]
    },
    {
     "name": "stdout",
     "output_type": "stream",
     "text": [
      "Epoch: 065, Train: 0.9678, Val: 0.9529, Test: 0.9583, Loss: 0.64089\n"
     ]
    },
    {
     "name": "stderr",
     "output_type": "stream",
     "text": [
      "c:\\Users\\rosa-\\anaconda3\\envs\\xaifo\\lib\\site-packages\\deepsnap\\graph.py:2126: UserWarning: __floordiv__ is deprecated, and its behavior will change in a future version of pytorch. It currently rounds toward 0 (like the 'trunc' function NOT 'floor'). This results in incorrect rounding for negative values. To keep the current behavior, use torch.div(a, b, rounding_mode='trunc'), or for actual floor division, use torch.div(a, b, rounding_mode='floor').\n",
      "  row = perm // num_nodes\n"
     ]
    },
    {
     "name": "stdout",
     "output_type": "stream",
     "text": [
      "Epoch: 066, Train: 0.9681, Val: 0.9532, Test: 0.9587, Loss: 0.65111\n"
     ]
    },
    {
     "name": "stderr",
     "output_type": "stream",
     "text": [
      "c:\\Users\\rosa-\\anaconda3\\envs\\xaifo\\lib\\site-packages\\deepsnap\\graph.py:2126: UserWarning: __floordiv__ is deprecated, and its behavior will change in a future version of pytorch. It currently rounds toward 0 (like the 'trunc' function NOT 'floor'). This results in incorrect rounding for negative values. To keep the current behavior, use torch.div(a, b, rounding_mode='trunc'), or for actual floor division, use torch.div(a, b, rounding_mode='floor').\n",
      "  row = perm // num_nodes\n"
     ]
    },
    {
     "name": "stdout",
     "output_type": "stream",
     "text": [
      "Epoch: 067, Train: 0.9687, Val: 0.9536, Test: 0.9590, Loss: 0.64611\n"
     ]
    },
    {
     "name": "stderr",
     "output_type": "stream",
     "text": [
      "c:\\Users\\rosa-\\anaconda3\\envs\\xaifo\\lib\\site-packages\\deepsnap\\graph.py:2126: UserWarning: __floordiv__ is deprecated, and its behavior will change in a future version of pytorch. It currently rounds toward 0 (like the 'trunc' function NOT 'floor'). This results in incorrect rounding for negative values. To keep the current behavior, use torch.div(a, b, rounding_mode='trunc'), or for actual floor division, use torch.div(a, b, rounding_mode='floor').\n",
      "  row = perm // num_nodes\n"
     ]
    },
    {
     "name": "stdout",
     "output_type": "stream",
     "text": [
      "Epoch: 068, Train: 0.9691, Val: 0.9540, Test: 0.9594, Loss: 0.62146\n"
     ]
    },
    {
     "name": "stderr",
     "output_type": "stream",
     "text": [
      "c:\\Users\\rosa-\\anaconda3\\envs\\xaifo\\lib\\site-packages\\deepsnap\\graph.py:2126: UserWarning: __floordiv__ is deprecated, and its behavior will change in a future version of pytorch. It currently rounds toward 0 (like the 'trunc' function NOT 'floor'). This results in incorrect rounding for negative values. To keep the current behavior, use torch.div(a, b, rounding_mode='trunc'), or for actual floor division, use torch.div(a, b, rounding_mode='floor').\n",
      "  row = perm // num_nodes\n"
     ]
    },
    {
     "name": "stdout",
     "output_type": "stream",
     "text": [
      "Epoch: 069, Train: 0.9696, Val: 0.9545, Test: 0.9598, Loss: 0.63321\n"
     ]
    },
    {
     "name": "stderr",
     "output_type": "stream",
     "text": [
      "c:\\Users\\rosa-\\anaconda3\\envs\\xaifo\\lib\\site-packages\\deepsnap\\graph.py:2126: UserWarning: __floordiv__ is deprecated, and its behavior will change in a future version of pytorch. It currently rounds toward 0 (like the 'trunc' function NOT 'floor'). This results in incorrect rounding for negative values. To keep the current behavior, use torch.div(a, b, rounding_mode='trunc'), or for actual floor division, use torch.div(a, b, rounding_mode='floor').\n",
      "  row = perm // num_nodes\n"
     ]
    },
    {
     "name": "stdout",
     "output_type": "stream",
     "text": [
      "Epoch: 070, Train: 0.9700, Val: 0.9550, Test: 0.9603, Loss: 0.62335\n"
     ]
    },
    {
     "name": "stderr",
     "output_type": "stream",
     "text": [
      "c:\\Users\\rosa-\\anaconda3\\envs\\xaifo\\lib\\site-packages\\deepsnap\\graph.py:2126: UserWarning: __floordiv__ is deprecated, and its behavior will change in a future version of pytorch. It currently rounds toward 0 (like the 'trunc' function NOT 'floor'). This results in incorrect rounding for negative values. To keep the current behavior, use torch.div(a, b, rounding_mode='trunc'), or for actual floor division, use torch.div(a, b, rounding_mode='floor').\n",
      "  row = perm // num_nodes\n"
     ]
    },
    {
     "name": "stdout",
     "output_type": "stream",
     "text": [
      "Epoch: 071, Train: 0.9706, Val: 0.9556, Test: 0.9609, Loss: 0.63703\n"
     ]
    },
    {
     "name": "stderr",
     "output_type": "stream",
     "text": [
      "c:\\Users\\rosa-\\anaconda3\\envs\\xaifo\\lib\\site-packages\\deepsnap\\graph.py:2126: UserWarning: __floordiv__ is deprecated, and its behavior will change in a future version of pytorch. It currently rounds toward 0 (like the 'trunc' function NOT 'floor'). This results in incorrect rounding for negative values. To keep the current behavior, use torch.div(a, b, rounding_mode='trunc'), or for actual floor division, use torch.div(a, b, rounding_mode='floor').\n",
      "  row = perm // num_nodes\n"
     ]
    },
    {
     "name": "stdout",
     "output_type": "stream",
     "text": [
      "Epoch: 072, Train: 0.9712, Val: 0.9562, Test: 0.9614, Loss: 0.62211\n"
     ]
    },
    {
     "name": "stderr",
     "output_type": "stream",
     "text": [
      "c:\\Users\\rosa-\\anaconda3\\envs\\xaifo\\lib\\site-packages\\deepsnap\\graph.py:2126: UserWarning: __floordiv__ is deprecated, and its behavior will change in a future version of pytorch. It currently rounds toward 0 (like the 'trunc' function NOT 'floor'). This results in incorrect rounding for negative values. To keep the current behavior, use torch.div(a, b, rounding_mode='trunc'), or for actual floor division, use torch.div(a, b, rounding_mode='floor').\n",
      "  row = perm // num_nodes\n"
     ]
    },
    {
     "name": "stdout",
     "output_type": "stream",
     "text": [
      "Epoch: 073, Train: 0.9721, Val: 0.9567, Test: 0.9619, Loss: 0.60252\n"
     ]
    },
    {
     "name": "stderr",
     "output_type": "stream",
     "text": [
      "c:\\Users\\rosa-\\anaconda3\\envs\\xaifo\\lib\\site-packages\\deepsnap\\graph.py:2126: UserWarning: __floordiv__ is deprecated, and its behavior will change in a future version of pytorch. It currently rounds toward 0 (like the 'trunc' function NOT 'floor'). This results in incorrect rounding for negative values. To keep the current behavior, use torch.div(a, b, rounding_mode='trunc'), or for actual floor division, use torch.div(a, b, rounding_mode='floor').\n",
      "  row = perm // num_nodes\n"
     ]
    },
    {
     "name": "stdout",
     "output_type": "stream",
     "text": [
      "Epoch: 074, Train: 0.9722, Val: 0.9572, Test: 0.9623, Loss: 0.61747\n"
     ]
    },
    {
     "name": "stderr",
     "output_type": "stream",
     "text": [
      "c:\\Users\\rosa-\\anaconda3\\envs\\xaifo\\lib\\site-packages\\deepsnap\\graph.py:2126: UserWarning: __floordiv__ is deprecated, and its behavior will change in a future version of pytorch. It currently rounds toward 0 (like the 'trunc' function NOT 'floor'). This results in incorrect rounding for negative values. To keep the current behavior, use torch.div(a, b, rounding_mode='trunc'), or for actual floor division, use torch.div(a, b, rounding_mode='floor').\n",
      "  row = perm // num_nodes\n"
     ]
    },
    {
     "name": "stdout",
     "output_type": "stream",
     "text": [
      "Epoch: 075, Train: 0.9728, Val: 0.9577, Test: 0.9627, Loss: 0.59451\n"
     ]
    },
    {
     "name": "stderr",
     "output_type": "stream",
     "text": [
      "c:\\Users\\rosa-\\anaconda3\\envs\\xaifo\\lib\\site-packages\\deepsnap\\graph.py:2126: UserWarning: __floordiv__ is deprecated, and its behavior will change in a future version of pytorch. It currently rounds toward 0 (like the 'trunc' function NOT 'floor'). This results in incorrect rounding for negative values. To keep the current behavior, use torch.div(a, b, rounding_mode='trunc'), or for actual floor division, use torch.div(a, b, rounding_mode='floor').\n",
      "  row = perm // num_nodes\n"
     ]
    },
    {
     "name": "stdout",
     "output_type": "stream",
     "text": [
      "Epoch: 076, Train: 0.9732, Val: 0.9581, Test: 0.9630, Loss: 0.61061\n"
     ]
    },
    {
     "name": "stderr",
     "output_type": "stream",
     "text": [
      "c:\\Users\\rosa-\\anaconda3\\envs\\xaifo\\lib\\site-packages\\deepsnap\\graph.py:2126: UserWarning: __floordiv__ is deprecated, and its behavior will change in a future version of pytorch. It currently rounds toward 0 (like the 'trunc' function NOT 'floor'). This results in incorrect rounding for negative values. To keep the current behavior, use torch.div(a, b, rounding_mode='trunc'), or for actual floor division, use torch.div(a, b, rounding_mode='floor').\n",
      "  row = perm // num_nodes\n"
     ]
    },
    {
     "name": "stdout",
     "output_type": "stream",
     "text": [
      "Epoch: 077, Train: 0.9735, Val: 0.9587, Test: 0.9636, Loss: 0.61423\n"
     ]
    },
    {
     "name": "stderr",
     "output_type": "stream",
     "text": [
      "c:\\Users\\rosa-\\anaconda3\\envs\\xaifo\\lib\\site-packages\\deepsnap\\graph.py:2126: UserWarning: __floordiv__ is deprecated, and its behavior will change in a future version of pytorch. It currently rounds toward 0 (like the 'trunc' function NOT 'floor'). This results in incorrect rounding for negative values. To keep the current behavior, use torch.div(a, b, rounding_mode='trunc'), or for actual floor division, use torch.div(a, b, rounding_mode='floor').\n",
      "  row = perm // num_nodes\n"
     ]
    },
    {
     "name": "stdout",
     "output_type": "stream",
     "text": [
      "Epoch: 078, Train: 0.9742, Val: 0.9592, Test: 0.9640, Loss: 0.59573\n"
     ]
    },
    {
     "name": "stderr",
     "output_type": "stream",
     "text": [
      "c:\\Users\\rosa-\\anaconda3\\envs\\xaifo\\lib\\site-packages\\deepsnap\\graph.py:2126: UserWarning: __floordiv__ is deprecated, and its behavior will change in a future version of pytorch. It currently rounds toward 0 (like the 'trunc' function NOT 'floor'). This results in incorrect rounding for negative values. To keep the current behavior, use torch.div(a, b, rounding_mode='trunc'), or for actual floor division, use torch.div(a, b, rounding_mode='floor').\n",
      "  row = perm // num_nodes\n"
     ]
    },
    {
     "name": "stdout",
     "output_type": "stream",
     "text": [
      "Epoch: 079, Train: 0.9747, Val: 0.9597, Test: 0.9645, Loss: 0.59458\n"
     ]
    },
    {
     "name": "stderr",
     "output_type": "stream",
     "text": [
      "c:\\Users\\rosa-\\anaconda3\\envs\\xaifo\\lib\\site-packages\\deepsnap\\graph.py:2126: UserWarning: __floordiv__ is deprecated, and its behavior will change in a future version of pytorch. It currently rounds toward 0 (like the 'trunc' function NOT 'floor'). This results in incorrect rounding for negative values. To keep the current behavior, use torch.div(a, b, rounding_mode='trunc'), or for actual floor division, use torch.div(a, b, rounding_mode='floor').\n",
      "  row = perm // num_nodes\n"
     ]
    },
    {
     "name": "stdout",
     "output_type": "stream",
     "text": [
      "Epoch: 080, Train: 0.9751, Val: 0.9603, Test: 0.9650, Loss: 0.57904\n"
     ]
    },
    {
     "name": "stderr",
     "output_type": "stream",
     "text": [
      "c:\\Users\\rosa-\\anaconda3\\envs\\xaifo\\lib\\site-packages\\deepsnap\\graph.py:2126: UserWarning: __floordiv__ is deprecated, and its behavior will change in a future version of pytorch. It currently rounds toward 0 (like the 'trunc' function NOT 'floor'). This results in incorrect rounding for negative values. To keep the current behavior, use torch.div(a, b, rounding_mode='trunc'), or for actual floor division, use torch.div(a, b, rounding_mode='floor').\n",
      "  row = perm // num_nodes\n"
     ]
    },
    {
     "name": "stdout",
     "output_type": "stream",
     "text": [
      "Epoch: 081, Train: 0.9759, Val: 0.9609, Test: 0.9655, Loss: 0.60252\n"
     ]
    },
    {
     "name": "stderr",
     "output_type": "stream",
     "text": [
      "c:\\Users\\rosa-\\anaconda3\\envs\\xaifo\\lib\\site-packages\\deepsnap\\graph.py:2126: UserWarning: __floordiv__ is deprecated, and its behavior will change in a future version of pytorch. It currently rounds toward 0 (like the 'trunc' function NOT 'floor'). This results in incorrect rounding for negative values. To keep the current behavior, use torch.div(a, b, rounding_mode='trunc'), or for actual floor division, use torch.div(a, b, rounding_mode='floor').\n",
      "  row = perm // num_nodes\n"
     ]
    },
    {
     "name": "stdout",
     "output_type": "stream",
     "text": [
      "Epoch: 082, Train: 0.9763, Val: 0.9615, Test: 0.9660, Loss: 0.58689\n"
     ]
    },
    {
     "name": "stderr",
     "output_type": "stream",
     "text": [
      "c:\\Users\\rosa-\\anaconda3\\envs\\xaifo\\lib\\site-packages\\deepsnap\\graph.py:2126: UserWarning: __floordiv__ is deprecated, and its behavior will change in a future version of pytorch. It currently rounds toward 0 (like the 'trunc' function NOT 'floor'). This results in incorrect rounding for negative values. To keep the current behavior, use torch.div(a, b, rounding_mode='trunc'), or for actual floor division, use torch.div(a, b, rounding_mode='floor').\n",
      "  row = perm // num_nodes\n"
     ]
    },
    {
     "name": "stdout",
     "output_type": "stream",
     "text": [
      "Epoch: 083, Train: 0.9770, Val: 0.9620, Test: 0.9665, Loss: 0.58582\n"
     ]
    },
    {
     "name": "stderr",
     "output_type": "stream",
     "text": [
      "c:\\Users\\rosa-\\anaconda3\\envs\\xaifo\\lib\\site-packages\\deepsnap\\graph.py:2126: UserWarning: __floordiv__ is deprecated, and its behavior will change in a future version of pytorch. It currently rounds toward 0 (like the 'trunc' function NOT 'floor'). This results in incorrect rounding for negative values. To keep the current behavior, use torch.div(a, b, rounding_mode='trunc'), or for actual floor division, use torch.div(a, b, rounding_mode='floor').\n",
      "  row = perm // num_nodes\n"
     ]
    },
    {
     "name": "stdout",
     "output_type": "stream",
     "text": [
      "Epoch: 084, Train: 0.9774, Val: 0.9626, Test: 0.9671, Loss: 0.58743\n"
     ]
    },
    {
     "name": "stderr",
     "output_type": "stream",
     "text": [
      "c:\\Users\\rosa-\\anaconda3\\envs\\xaifo\\lib\\site-packages\\deepsnap\\graph.py:2126: UserWarning: __floordiv__ is deprecated, and its behavior will change in a future version of pytorch. It currently rounds toward 0 (like the 'trunc' function NOT 'floor'). This results in incorrect rounding for negative values. To keep the current behavior, use torch.div(a, b, rounding_mode='trunc'), or for actual floor division, use torch.div(a, b, rounding_mode='floor').\n",
      "  row = perm // num_nodes\n"
     ]
    },
    {
     "name": "stdout",
     "output_type": "stream",
     "text": [
      "Epoch: 085, Train: 0.9779, Val: 0.9633, Test: 0.9676, Loss: 0.57536\n"
     ]
    },
    {
     "name": "stderr",
     "output_type": "stream",
     "text": [
      "c:\\Users\\rosa-\\anaconda3\\envs\\xaifo\\lib\\site-packages\\deepsnap\\graph.py:2126: UserWarning: __floordiv__ is deprecated, and its behavior will change in a future version of pytorch. It currently rounds toward 0 (like the 'trunc' function NOT 'floor'). This results in incorrect rounding for negative values. To keep the current behavior, use torch.div(a, b, rounding_mode='trunc'), or for actual floor division, use torch.div(a, b, rounding_mode='floor').\n",
      "  row = perm // num_nodes\n"
     ]
    },
    {
     "name": "stdout",
     "output_type": "stream",
     "text": [
      "Epoch: 086, Train: 0.9786, Val: 0.9639, Test: 0.9681, Loss: 0.56844\n"
     ]
    },
    {
     "name": "stderr",
     "output_type": "stream",
     "text": [
      "c:\\Users\\rosa-\\anaconda3\\envs\\xaifo\\lib\\site-packages\\deepsnap\\graph.py:2126: UserWarning: __floordiv__ is deprecated, and its behavior will change in a future version of pytorch. It currently rounds toward 0 (like the 'trunc' function NOT 'floor'). This results in incorrect rounding for negative values. To keep the current behavior, use torch.div(a, b, rounding_mode='trunc'), or for actual floor division, use torch.div(a, b, rounding_mode='floor').\n",
      "  row = perm // num_nodes\n"
     ]
    },
    {
     "name": "stdout",
     "output_type": "stream",
     "text": [
      "Epoch: 087, Train: 0.9791, Val: 0.9645, Test: 0.9687, Loss: 0.57199\n"
     ]
    },
    {
     "name": "stderr",
     "output_type": "stream",
     "text": [
      "c:\\Users\\rosa-\\anaconda3\\envs\\xaifo\\lib\\site-packages\\deepsnap\\graph.py:2126: UserWarning: __floordiv__ is deprecated, and its behavior will change in a future version of pytorch. It currently rounds toward 0 (like the 'trunc' function NOT 'floor'). This results in incorrect rounding for negative values. To keep the current behavior, use torch.div(a, b, rounding_mode='trunc'), or for actual floor division, use torch.div(a, b, rounding_mode='floor').\n",
      "  row = perm // num_nodes\n"
     ]
    },
    {
     "name": "stdout",
     "output_type": "stream",
     "text": [
      "Epoch: 088, Train: 0.9797, Val: 0.9651, Test: 0.9691, Loss: 0.59118\n"
     ]
    },
    {
     "name": "stderr",
     "output_type": "stream",
     "text": [
      "c:\\Users\\rosa-\\anaconda3\\envs\\xaifo\\lib\\site-packages\\deepsnap\\graph.py:2126: UserWarning: __floordiv__ is deprecated, and its behavior will change in a future version of pytorch. It currently rounds toward 0 (like the 'trunc' function NOT 'floor'). This results in incorrect rounding for negative values. To keep the current behavior, use torch.div(a, b, rounding_mode='trunc'), or for actual floor division, use torch.div(a, b, rounding_mode='floor').\n",
      "  row = perm // num_nodes\n"
     ]
    },
    {
     "name": "stdout",
     "output_type": "stream",
     "text": [
      "Epoch: 089, Train: 0.9805, Val: 0.9657, Test: 0.9696, Loss: 0.57554\n"
     ]
    },
    {
     "name": "stderr",
     "output_type": "stream",
     "text": [
      "c:\\Users\\rosa-\\anaconda3\\envs\\xaifo\\lib\\site-packages\\deepsnap\\graph.py:2126: UserWarning: __floordiv__ is deprecated, and its behavior will change in a future version of pytorch. It currently rounds toward 0 (like the 'trunc' function NOT 'floor'). This results in incorrect rounding for negative values. To keep the current behavior, use torch.div(a, b, rounding_mode='trunc'), or for actual floor division, use torch.div(a, b, rounding_mode='floor').\n",
      "  row = perm // num_nodes\n"
     ]
    },
    {
     "name": "stdout",
     "output_type": "stream",
     "text": [
      "Epoch: 090, Train: 0.9808, Val: 0.9663, Test: 0.9701, Loss: 0.56503\n"
     ]
    },
    {
     "name": "stderr",
     "output_type": "stream",
     "text": [
      "c:\\Users\\rosa-\\anaconda3\\envs\\xaifo\\lib\\site-packages\\deepsnap\\graph.py:2126: UserWarning: __floordiv__ is deprecated, and its behavior will change in a future version of pytorch. It currently rounds toward 0 (like the 'trunc' function NOT 'floor'). This results in incorrect rounding for negative values. To keep the current behavior, use torch.div(a, b, rounding_mode='trunc'), or for actual floor division, use torch.div(a, b, rounding_mode='floor').\n",
      "  row = perm // num_nodes\n"
     ]
    },
    {
     "name": "stdout",
     "output_type": "stream",
     "text": [
      "Epoch: 091, Train: 0.9812, Val: 0.9668, Test: 0.9706, Loss: 0.57188\n"
     ]
    },
    {
     "name": "stderr",
     "output_type": "stream",
     "text": [
      "c:\\Users\\rosa-\\anaconda3\\envs\\xaifo\\lib\\site-packages\\deepsnap\\graph.py:2126: UserWarning: __floordiv__ is deprecated, and its behavior will change in a future version of pytorch. It currently rounds toward 0 (like the 'trunc' function NOT 'floor'). This results in incorrect rounding for negative values. To keep the current behavior, use torch.div(a, b, rounding_mode='trunc'), or for actual floor division, use torch.div(a, b, rounding_mode='floor').\n",
      "  row = perm // num_nodes\n"
     ]
    },
    {
     "name": "stdout",
     "output_type": "stream",
     "text": [
      "Epoch: 092, Train: 0.9816, Val: 0.9674, Test: 0.9710, Loss: 0.56590\n"
     ]
    },
    {
     "name": "stderr",
     "output_type": "stream",
     "text": [
      "c:\\Users\\rosa-\\anaconda3\\envs\\xaifo\\lib\\site-packages\\deepsnap\\graph.py:2126: UserWarning: __floordiv__ is deprecated, and its behavior will change in a future version of pytorch. It currently rounds toward 0 (like the 'trunc' function NOT 'floor'). This results in incorrect rounding for negative values. To keep the current behavior, use torch.div(a, b, rounding_mode='trunc'), or for actual floor division, use torch.div(a, b, rounding_mode='floor').\n",
      "  row = perm // num_nodes\n"
     ]
    },
    {
     "name": "stdout",
     "output_type": "stream",
     "text": [
      "Epoch: 093, Train: 0.9821, Val: 0.9679, Test: 0.9714, Loss: 0.57734\n"
     ]
    },
    {
     "name": "stderr",
     "output_type": "stream",
     "text": [
      "c:\\Users\\rosa-\\anaconda3\\envs\\xaifo\\lib\\site-packages\\deepsnap\\graph.py:2126: UserWarning: __floordiv__ is deprecated, and its behavior will change in a future version of pytorch. It currently rounds toward 0 (like the 'trunc' function NOT 'floor'). This results in incorrect rounding for negative values. To keep the current behavior, use torch.div(a, b, rounding_mode='trunc'), or for actual floor division, use torch.div(a, b, rounding_mode='floor').\n",
      "  row = perm // num_nodes\n"
     ]
    },
    {
     "name": "stdout",
     "output_type": "stream",
     "text": [
      "Epoch: 094, Train: 0.9825, Val: 0.9684, Test: 0.9718, Loss: 0.56723\n"
     ]
    },
    {
     "name": "stderr",
     "output_type": "stream",
     "text": [
      "c:\\Users\\rosa-\\anaconda3\\envs\\xaifo\\lib\\site-packages\\deepsnap\\graph.py:2126: UserWarning: __floordiv__ is deprecated, and its behavior will change in a future version of pytorch. It currently rounds toward 0 (like the 'trunc' function NOT 'floor'). This results in incorrect rounding for negative values. To keep the current behavior, use torch.div(a, b, rounding_mode='trunc'), or for actual floor division, use torch.div(a, b, rounding_mode='floor').\n",
      "  row = perm // num_nodes\n"
     ]
    },
    {
     "name": "stdout",
     "output_type": "stream",
     "text": [
      "Epoch: 095, Train: 0.9830, Val: 0.9689, Test: 0.9723, Loss: 0.57710\n"
     ]
    },
    {
     "name": "stderr",
     "output_type": "stream",
     "text": [
      "c:\\Users\\rosa-\\anaconda3\\envs\\xaifo\\lib\\site-packages\\deepsnap\\graph.py:2126: UserWarning: __floordiv__ is deprecated, and its behavior will change in a future version of pytorch. It currently rounds toward 0 (like the 'trunc' function NOT 'floor'). This results in incorrect rounding for negative values. To keep the current behavior, use torch.div(a, b, rounding_mode='trunc'), or for actual floor division, use torch.div(a, b, rounding_mode='floor').\n",
      "  row = perm // num_nodes\n"
     ]
    },
    {
     "name": "stdout",
     "output_type": "stream",
     "text": [
      "Epoch: 096, Train: 0.9835, Val: 0.9695, Test: 0.9727, Loss: 0.57545\n"
     ]
    },
    {
     "name": "stderr",
     "output_type": "stream",
     "text": [
      "c:\\Users\\rosa-\\anaconda3\\envs\\xaifo\\lib\\site-packages\\deepsnap\\graph.py:2126: UserWarning: __floordiv__ is deprecated, and its behavior will change in a future version of pytorch. It currently rounds toward 0 (like the 'trunc' function NOT 'floor'). This results in incorrect rounding for negative values. To keep the current behavior, use torch.div(a, b, rounding_mode='trunc'), or for actual floor division, use torch.div(a, b, rounding_mode='floor').\n",
      "  row = perm // num_nodes\n"
     ]
    },
    {
     "name": "stdout",
     "output_type": "stream",
     "text": [
      "Epoch: 097, Train: 0.9840, Val: 0.9699, Test: 0.9730, Loss: 0.55913\n"
     ]
    },
    {
     "name": "stderr",
     "output_type": "stream",
     "text": [
      "c:\\Users\\rosa-\\anaconda3\\envs\\xaifo\\lib\\site-packages\\deepsnap\\graph.py:2126: UserWarning: __floordiv__ is deprecated, and its behavior will change in a future version of pytorch. It currently rounds toward 0 (like the 'trunc' function NOT 'floor'). This results in incorrect rounding for negative values. To keep the current behavior, use torch.div(a, b, rounding_mode='trunc'), or for actual floor division, use torch.div(a, b, rounding_mode='floor').\n",
      "  row = perm // num_nodes\n"
     ]
    },
    {
     "name": "stdout",
     "output_type": "stream",
     "text": [
      "Epoch: 098, Train: 0.9843, Val: 0.9703, Test: 0.9733, Loss: 0.55545\n"
     ]
    },
    {
     "name": "stderr",
     "output_type": "stream",
     "text": [
      "c:\\Users\\rosa-\\anaconda3\\envs\\xaifo\\lib\\site-packages\\deepsnap\\graph.py:2126: UserWarning: __floordiv__ is deprecated, and its behavior will change in a future version of pytorch. It currently rounds toward 0 (like the 'trunc' function NOT 'floor'). This results in incorrect rounding for negative values. To keep the current behavior, use torch.div(a, b, rounding_mode='trunc'), or for actual floor division, use torch.div(a, b, rounding_mode='floor').\n",
      "  row = perm // num_nodes\n"
     ]
    },
    {
     "name": "stdout",
     "output_type": "stream",
     "text": [
      "Epoch: 099, Train: 0.9845, Val: 0.9707, Test: 0.9737, Loss: 0.58056\n"
     ]
    },
    {
     "name": "stderr",
     "output_type": "stream",
     "text": [
      "c:\\Users\\rosa-\\anaconda3\\envs\\xaifo\\lib\\site-packages\\deepsnap\\graph.py:2126: UserWarning: __floordiv__ is deprecated, and its behavior will change in a future version of pytorch. It currently rounds toward 0 (like the 'trunc' function NOT 'floor'). This results in incorrect rounding for negative values. To keep the current behavior, use torch.div(a, b, rounding_mode='trunc'), or for actual floor division, use torch.div(a, b, rounding_mode='floor').\n",
      "  row = perm // num_nodes\n"
     ]
    },
    {
     "name": "stdout",
     "output_type": "stream",
     "text": [
      "Epoch: 100, Train: 0.9849, Val: 0.9711, Test: 0.9740, Loss: 0.56308\n"
     ]
    },
    {
     "name": "stderr",
     "output_type": "stream",
     "text": [
      "c:\\Users\\rosa-\\anaconda3\\envs\\xaifo\\lib\\site-packages\\deepsnap\\graph.py:2126: UserWarning: __floordiv__ is deprecated, and its behavior will change in a future version of pytorch. It currently rounds toward 0 (like the 'trunc' function NOT 'floor'). This results in incorrect rounding for negative values. To keep the current behavior, use torch.div(a, b, rounding_mode='trunc'), or for actual floor division, use torch.div(a, b, rounding_mode='floor').\n",
      "  row = perm // num_nodes\n"
     ]
    },
    {
     "name": "stdout",
     "output_type": "stream",
     "text": [
      "Epoch: 101, Train: 0.9853, Val: 0.9715, Test: 0.9743, Loss: 0.55034\n"
     ]
    },
    {
     "name": "stderr",
     "output_type": "stream",
     "text": [
      "c:\\Users\\rosa-\\anaconda3\\envs\\xaifo\\lib\\site-packages\\deepsnap\\graph.py:2126: UserWarning: __floordiv__ is deprecated, and its behavior will change in a future version of pytorch. It currently rounds toward 0 (like the 'trunc' function NOT 'floor'). This results in incorrect rounding for negative values. To keep the current behavior, use torch.div(a, b, rounding_mode='trunc'), or for actual floor division, use torch.div(a, b, rounding_mode='floor').\n",
      "  row = perm // num_nodes\n"
     ]
    },
    {
     "name": "stdout",
     "output_type": "stream",
     "text": [
      "Epoch: 102, Train: 0.9855, Val: 0.9718, Test: 0.9745, Loss: 0.55055\n"
     ]
    },
    {
     "name": "stderr",
     "output_type": "stream",
     "text": [
      "c:\\Users\\rosa-\\anaconda3\\envs\\xaifo\\lib\\site-packages\\deepsnap\\graph.py:2126: UserWarning: __floordiv__ is deprecated, and its behavior will change in a future version of pytorch. It currently rounds toward 0 (like the 'trunc' function NOT 'floor'). This results in incorrect rounding for negative values. To keep the current behavior, use torch.div(a, b, rounding_mode='trunc'), or for actual floor division, use torch.div(a, b, rounding_mode='floor').\n",
      "  row = perm // num_nodes\n"
     ]
    },
    {
     "name": "stdout",
     "output_type": "stream",
     "text": [
      "Epoch: 103, Train: 0.9858, Val: 0.9722, Test: 0.9748, Loss: 0.56775\n"
     ]
    },
    {
     "name": "stderr",
     "output_type": "stream",
     "text": [
      "c:\\Users\\rosa-\\anaconda3\\envs\\xaifo\\lib\\site-packages\\deepsnap\\graph.py:2126: UserWarning: __floordiv__ is deprecated, and its behavior will change in a future version of pytorch. It currently rounds toward 0 (like the 'trunc' function NOT 'floor'). This results in incorrect rounding for negative values. To keep the current behavior, use torch.div(a, b, rounding_mode='trunc'), or for actual floor division, use torch.div(a, b, rounding_mode='floor').\n",
      "  row = perm // num_nodes\n"
     ]
    },
    {
     "name": "stdout",
     "output_type": "stream",
     "text": [
      "Epoch: 104, Train: 0.9863, Val: 0.9726, Test: 0.9752, Loss: 0.54639\n"
     ]
    },
    {
     "name": "stderr",
     "output_type": "stream",
     "text": [
      "c:\\Users\\rosa-\\anaconda3\\envs\\xaifo\\lib\\site-packages\\deepsnap\\graph.py:2126: UserWarning: __floordiv__ is deprecated, and its behavior will change in a future version of pytorch. It currently rounds toward 0 (like the 'trunc' function NOT 'floor'). This results in incorrect rounding for negative values. To keep the current behavior, use torch.div(a, b, rounding_mode='trunc'), or for actual floor division, use torch.div(a, b, rounding_mode='floor').\n",
      "  row = perm // num_nodes\n"
     ]
    },
    {
     "name": "stdout",
     "output_type": "stream",
     "text": [
      "Epoch: 105, Train: 0.9863, Val: 0.9729, Test: 0.9754, Loss: 0.54190\n"
     ]
    },
    {
     "name": "stderr",
     "output_type": "stream",
     "text": [
      "c:\\Users\\rosa-\\anaconda3\\envs\\xaifo\\lib\\site-packages\\deepsnap\\graph.py:2126: UserWarning: __floordiv__ is deprecated, and its behavior will change in a future version of pytorch. It currently rounds toward 0 (like the 'trunc' function NOT 'floor'). This results in incorrect rounding for negative values. To keep the current behavior, use torch.div(a, b, rounding_mode='trunc'), or for actual floor division, use torch.div(a, b, rounding_mode='floor').\n",
      "  row = perm // num_nodes\n"
     ]
    },
    {
     "name": "stdout",
     "output_type": "stream",
     "text": [
      "Epoch: 106, Train: 0.9865, Val: 0.9731, Test: 0.9757, Loss: 0.54386\n"
     ]
    },
    {
     "name": "stderr",
     "output_type": "stream",
     "text": [
      "c:\\Users\\rosa-\\anaconda3\\envs\\xaifo\\lib\\site-packages\\deepsnap\\graph.py:2126: UserWarning: __floordiv__ is deprecated, and its behavior will change in a future version of pytorch. It currently rounds toward 0 (like the 'trunc' function NOT 'floor'). This results in incorrect rounding for negative values. To keep the current behavior, use torch.div(a, b, rounding_mode='trunc'), or for actual floor division, use torch.div(a, b, rounding_mode='floor').\n",
      "  row = perm // num_nodes\n"
     ]
    },
    {
     "name": "stdout",
     "output_type": "stream",
     "text": [
      "Epoch: 107, Train: 0.9867, Val: 0.9734, Test: 0.9759, Loss: 0.54827\n"
     ]
    },
    {
     "name": "stderr",
     "output_type": "stream",
     "text": [
      "c:\\Users\\rosa-\\anaconda3\\envs\\xaifo\\lib\\site-packages\\deepsnap\\graph.py:2126: UserWarning: __floordiv__ is deprecated, and its behavior will change in a future version of pytorch. It currently rounds toward 0 (like the 'trunc' function NOT 'floor'). This results in incorrect rounding for negative values. To keep the current behavior, use torch.div(a, b, rounding_mode='trunc'), or for actual floor division, use torch.div(a, b, rounding_mode='floor').\n",
      "  row = perm // num_nodes\n"
     ]
    },
    {
     "name": "stdout",
     "output_type": "stream",
     "text": [
      "Epoch: 108, Train: 0.9870, Val: 0.9736, Test: 0.9761, Loss: 0.54001\n"
     ]
    },
    {
     "name": "stderr",
     "output_type": "stream",
     "text": [
      "c:\\Users\\rosa-\\anaconda3\\envs\\xaifo\\lib\\site-packages\\deepsnap\\graph.py:2126: UserWarning: __floordiv__ is deprecated, and its behavior will change in a future version of pytorch. It currently rounds toward 0 (like the 'trunc' function NOT 'floor'). This results in incorrect rounding for negative values. To keep the current behavior, use torch.div(a, b, rounding_mode='trunc'), or for actual floor division, use torch.div(a, b, rounding_mode='floor').\n",
      "  row = perm // num_nodes\n"
     ]
    },
    {
     "name": "stdout",
     "output_type": "stream",
     "text": [
      "Epoch: 109, Train: 0.9871, Val: 0.9739, Test: 0.9762, Loss: 0.55459\n"
     ]
    },
    {
     "name": "stderr",
     "output_type": "stream",
     "text": [
      "c:\\Users\\rosa-\\anaconda3\\envs\\xaifo\\lib\\site-packages\\deepsnap\\graph.py:2126: UserWarning: __floordiv__ is deprecated, and its behavior will change in a future version of pytorch. It currently rounds toward 0 (like the 'trunc' function NOT 'floor'). This results in incorrect rounding for negative values. To keep the current behavior, use torch.div(a, b, rounding_mode='trunc'), or for actual floor division, use torch.div(a, b, rounding_mode='floor').\n",
      "  row = perm // num_nodes\n"
     ]
    },
    {
     "name": "stdout",
     "output_type": "stream",
     "text": [
      "Epoch: 110, Train: 0.9874, Val: 0.9741, Test: 0.9764, Loss: 0.56150\n"
     ]
    },
    {
     "name": "stderr",
     "output_type": "stream",
     "text": [
      "c:\\Users\\rosa-\\anaconda3\\envs\\xaifo\\lib\\site-packages\\deepsnap\\graph.py:2126: UserWarning: __floordiv__ is deprecated, and its behavior will change in a future version of pytorch. It currently rounds toward 0 (like the 'trunc' function NOT 'floor'). This results in incorrect rounding for negative values. To keep the current behavior, use torch.div(a, b, rounding_mode='trunc'), or for actual floor division, use torch.div(a, b, rounding_mode='floor').\n",
      "  row = perm // num_nodes\n"
     ]
    },
    {
     "name": "stdout",
     "output_type": "stream",
     "text": [
      "Epoch: 111, Train: 0.9875, Val: 0.9743, Test: 0.9766, Loss: 0.53386\n"
     ]
    },
    {
     "name": "stderr",
     "output_type": "stream",
     "text": [
      "c:\\Users\\rosa-\\anaconda3\\envs\\xaifo\\lib\\site-packages\\deepsnap\\graph.py:2126: UserWarning: __floordiv__ is deprecated, and its behavior will change in a future version of pytorch. It currently rounds toward 0 (like the 'trunc' function NOT 'floor'). This results in incorrect rounding for negative values. To keep the current behavior, use torch.div(a, b, rounding_mode='trunc'), or for actual floor division, use torch.div(a, b, rounding_mode='floor').\n",
      "  row = perm // num_nodes\n"
     ]
    },
    {
     "name": "stdout",
     "output_type": "stream",
     "text": [
      "Epoch: 112, Train: 0.9878, Val: 0.9745, Test: 0.9768, Loss: 0.52788\n"
     ]
    },
    {
     "name": "stderr",
     "output_type": "stream",
     "text": [
      "c:\\Users\\rosa-\\anaconda3\\envs\\xaifo\\lib\\site-packages\\deepsnap\\graph.py:2126: UserWarning: __floordiv__ is deprecated, and its behavior will change in a future version of pytorch. It currently rounds toward 0 (like the 'trunc' function NOT 'floor'). This results in incorrect rounding for negative values. To keep the current behavior, use torch.div(a, b, rounding_mode='trunc'), or for actual floor division, use torch.div(a, b, rounding_mode='floor').\n",
      "  row = perm // num_nodes\n"
     ]
    },
    {
     "name": "stdout",
     "output_type": "stream",
     "text": [
      "Epoch: 113, Train: 0.9879, Val: 0.9748, Test: 0.9770, Loss: 0.53796\n"
     ]
    },
    {
     "name": "stderr",
     "output_type": "stream",
     "text": [
      "c:\\Users\\rosa-\\anaconda3\\envs\\xaifo\\lib\\site-packages\\deepsnap\\graph.py:2126: UserWarning: __floordiv__ is deprecated, and its behavior will change in a future version of pytorch. It currently rounds toward 0 (like the 'trunc' function NOT 'floor'). This results in incorrect rounding for negative values. To keep the current behavior, use torch.div(a, b, rounding_mode='trunc'), or for actual floor division, use torch.div(a, b, rounding_mode='floor').\n",
      "  row = perm // num_nodes\n"
     ]
    },
    {
     "name": "stdout",
     "output_type": "stream",
     "text": [
      "Epoch: 114, Train: 0.9881, Val: 0.9750, Test: 0.9772, Loss: 0.53604\n"
     ]
    },
    {
     "name": "stderr",
     "output_type": "stream",
     "text": [
      "c:\\Users\\rosa-\\anaconda3\\envs\\xaifo\\lib\\site-packages\\deepsnap\\graph.py:2126: UserWarning: __floordiv__ is deprecated, and its behavior will change in a future version of pytorch. It currently rounds toward 0 (like the 'trunc' function NOT 'floor'). This results in incorrect rounding for negative values. To keep the current behavior, use torch.div(a, b, rounding_mode='trunc'), or for actual floor division, use torch.div(a, b, rounding_mode='floor').\n",
      "  row = perm // num_nodes\n"
     ]
    },
    {
     "name": "stdout",
     "output_type": "stream",
     "text": [
      "Epoch: 115, Train: 0.9884, Val: 0.9752, Test: 0.9774, Loss: 0.55239\n"
     ]
    },
    {
     "name": "stderr",
     "output_type": "stream",
     "text": [
      "c:\\Users\\rosa-\\anaconda3\\envs\\xaifo\\lib\\site-packages\\deepsnap\\graph.py:2126: UserWarning: __floordiv__ is deprecated, and its behavior will change in a future version of pytorch. It currently rounds toward 0 (like the 'trunc' function NOT 'floor'). This results in incorrect rounding for negative values. To keep the current behavior, use torch.div(a, b, rounding_mode='trunc'), or for actual floor division, use torch.div(a, b, rounding_mode='floor').\n",
      "  row = perm // num_nodes\n"
     ]
    },
    {
     "name": "stdout",
     "output_type": "stream",
     "text": [
      "Epoch: 116, Train: 0.9885, Val: 0.9754, Test: 0.9776, Loss: 0.54873\n"
     ]
    },
    {
     "name": "stderr",
     "output_type": "stream",
     "text": [
      "c:\\Users\\rosa-\\anaconda3\\envs\\xaifo\\lib\\site-packages\\deepsnap\\graph.py:2126: UserWarning: __floordiv__ is deprecated, and its behavior will change in a future version of pytorch. It currently rounds toward 0 (like the 'trunc' function NOT 'floor'). This results in incorrect rounding for negative values. To keep the current behavior, use torch.div(a, b, rounding_mode='trunc'), or for actual floor division, use torch.div(a, b, rounding_mode='floor').\n",
      "  row = perm // num_nodes\n"
     ]
    },
    {
     "name": "stdout",
     "output_type": "stream",
     "text": [
      "Epoch: 117, Train: 0.9887, Val: 0.9756, Test: 0.9778, Loss: 0.52632\n"
     ]
    },
    {
     "name": "stderr",
     "output_type": "stream",
     "text": [
      "c:\\Users\\rosa-\\anaconda3\\envs\\xaifo\\lib\\site-packages\\deepsnap\\graph.py:2126: UserWarning: __floordiv__ is deprecated, and its behavior will change in a future version of pytorch. It currently rounds toward 0 (like the 'trunc' function NOT 'floor'). This results in incorrect rounding for negative values. To keep the current behavior, use torch.div(a, b, rounding_mode='trunc'), or for actual floor division, use torch.div(a, b, rounding_mode='floor').\n",
      "  row = perm // num_nodes\n"
     ]
    },
    {
     "name": "stdout",
     "output_type": "stream",
     "text": [
      "Epoch: 118, Train: 0.9890, Val: 0.9759, Test: 0.9780, Loss: 0.54759\n"
     ]
    },
    {
     "name": "stderr",
     "output_type": "stream",
     "text": [
      "c:\\Users\\rosa-\\anaconda3\\envs\\xaifo\\lib\\site-packages\\deepsnap\\graph.py:2126: UserWarning: __floordiv__ is deprecated, and its behavior will change in a future version of pytorch. It currently rounds toward 0 (like the 'trunc' function NOT 'floor'). This results in incorrect rounding for negative values. To keep the current behavior, use torch.div(a, b, rounding_mode='trunc'), or for actual floor division, use torch.div(a, b, rounding_mode='floor').\n",
      "  row = perm // num_nodes\n"
     ]
    },
    {
     "name": "stdout",
     "output_type": "stream",
     "text": [
      "Epoch: 119, Train: 0.9891, Val: 0.9761, Test: 0.9782, Loss: 0.53715\n"
     ]
    },
    {
     "name": "stderr",
     "output_type": "stream",
     "text": [
      "c:\\Users\\rosa-\\anaconda3\\envs\\xaifo\\lib\\site-packages\\deepsnap\\graph.py:2126: UserWarning: __floordiv__ is deprecated, and its behavior will change in a future version of pytorch. It currently rounds toward 0 (like the 'trunc' function NOT 'floor'). This results in incorrect rounding for negative values. To keep the current behavior, use torch.div(a, b, rounding_mode='trunc'), or for actual floor division, use torch.div(a, b, rounding_mode='floor').\n",
      "  row = perm // num_nodes\n"
     ]
    },
    {
     "name": "stdout",
     "output_type": "stream",
     "text": [
      "Epoch: 120, Train: 0.9893, Val: 0.9763, Test: 0.9783, Loss: 0.53132\n"
     ]
    },
    {
     "name": "stderr",
     "output_type": "stream",
     "text": [
      "c:\\Users\\rosa-\\anaconda3\\envs\\xaifo\\lib\\site-packages\\deepsnap\\graph.py:2126: UserWarning: __floordiv__ is deprecated, and its behavior will change in a future version of pytorch. It currently rounds toward 0 (like the 'trunc' function NOT 'floor'). This results in incorrect rounding for negative values. To keep the current behavior, use torch.div(a, b, rounding_mode='trunc'), or for actual floor division, use torch.div(a, b, rounding_mode='floor').\n",
      "  row = perm // num_nodes\n"
     ]
    },
    {
     "name": "stdout",
     "output_type": "stream",
     "text": [
      "Epoch: 121, Train: 0.9894, Val: 0.9764, Test: 0.9784, Loss: 0.52836\n"
     ]
    },
    {
     "name": "stderr",
     "output_type": "stream",
     "text": [
      "c:\\Users\\rosa-\\anaconda3\\envs\\xaifo\\lib\\site-packages\\deepsnap\\graph.py:2126: UserWarning: __floordiv__ is deprecated, and its behavior will change in a future version of pytorch. It currently rounds toward 0 (like the 'trunc' function NOT 'floor'). This results in incorrect rounding for negative values. To keep the current behavior, use torch.div(a, b, rounding_mode='trunc'), or for actual floor division, use torch.div(a, b, rounding_mode='floor').\n",
      "  row = perm // num_nodes\n"
     ]
    },
    {
     "name": "stdout",
     "output_type": "stream",
     "text": [
      "Epoch: 122, Train: 0.9896, Val: 0.9765, Test: 0.9785, Loss: 0.53998\n"
     ]
    },
    {
     "name": "stderr",
     "output_type": "stream",
     "text": [
      "c:\\Users\\rosa-\\anaconda3\\envs\\xaifo\\lib\\site-packages\\deepsnap\\graph.py:2126: UserWarning: __floordiv__ is deprecated, and its behavior will change in a future version of pytorch. It currently rounds toward 0 (like the 'trunc' function NOT 'floor'). This results in incorrect rounding for negative values. To keep the current behavior, use torch.div(a, b, rounding_mode='trunc'), or for actual floor division, use torch.div(a, b, rounding_mode='floor').\n",
      "  row = perm // num_nodes\n"
     ]
    },
    {
     "name": "stdout",
     "output_type": "stream",
     "text": [
      "Epoch: 123, Train: 0.9896, Val: 0.9767, Test: 0.9787, Loss: 0.52574\n"
     ]
    },
    {
     "name": "stderr",
     "output_type": "stream",
     "text": [
      "c:\\Users\\rosa-\\anaconda3\\envs\\xaifo\\lib\\site-packages\\deepsnap\\graph.py:2126: UserWarning: __floordiv__ is deprecated, and its behavior will change in a future version of pytorch. It currently rounds toward 0 (like the 'trunc' function NOT 'floor'). This results in incorrect rounding for negative values. To keep the current behavior, use torch.div(a, b, rounding_mode='trunc'), or for actual floor division, use torch.div(a, b, rounding_mode='floor').\n",
      "  row = perm // num_nodes\n"
     ]
    },
    {
     "name": "stdout",
     "output_type": "stream",
     "text": [
      "Epoch: 124, Train: 0.9898, Val: 0.9769, Test: 0.9789, Loss: 0.53476\n"
     ]
    },
    {
     "name": "stderr",
     "output_type": "stream",
     "text": [
      "c:\\Users\\rosa-\\anaconda3\\envs\\xaifo\\lib\\site-packages\\deepsnap\\graph.py:2126: UserWarning: __floordiv__ is deprecated, and its behavior will change in a future version of pytorch. It currently rounds toward 0 (like the 'trunc' function NOT 'floor'). This results in incorrect rounding for negative values. To keep the current behavior, use torch.div(a, b, rounding_mode='trunc'), or for actual floor division, use torch.div(a, b, rounding_mode='floor').\n",
      "  row = perm // num_nodes\n"
     ]
    },
    {
     "name": "stdout",
     "output_type": "stream",
     "text": [
      "Epoch: 125, Train: 0.9898, Val: 0.9770, Test: 0.9790, Loss: 0.53853\n"
     ]
    },
    {
     "name": "stderr",
     "output_type": "stream",
     "text": [
      "c:\\Users\\rosa-\\anaconda3\\envs\\xaifo\\lib\\site-packages\\deepsnap\\graph.py:2126: UserWarning: __floordiv__ is deprecated, and its behavior will change in a future version of pytorch. It currently rounds toward 0 (like the 'trunc' function NOT 'floor'). This results in incorrect rounding for negative values. To keep the current behavior, use torch.div(a, b, rounding_mode='trunc'), or for actual floor division, use torch.div(a, b, rounding_mode='floor').\n",
      "  row = perm // num_nodes\n"
     ]
    },
    {
     "name": "stdout",
     "output_type": "stream",
     "text": [
      "Epoch: 126, Train: 0.9900, Val: 0.9772, Test: 0.9791, Loss: 0.53740\n"
     ]
    },
    {
     "name": "stderr",
     "output_type": "stream",
     "text": [
      "c:\\Users\\rosa-\\anaconda3\\envs\\xaifo\\lib\\site-packages\\deepsnap\\graph.py:2126: UserWarning: __floordiv__ is deprecated, and its behavior will change in a future version of pytorch. It currently rounds toward 0 (like the 'trunc' function NOT 'floor'). This results in incorrect rounding for negative values. To keep the current behavior, use torch.div(a, b, rounding_mode='trunc'), or for actual floor division, use torch.div(a, b, rounding_mode='floor').\n",
      "  row = perm // num_nodes\n"
     ]
    },
    {
     "name": "stdout",
     "output_type": "stream",
     "text": [
      "Epoch: 127, Train: 0.9903, Val: 0.9773, Test: 0.9792, Loss: 0.54377\n"
     ]
    },
    {
     "name": "stderr",
     "output_type": "stream",
     "text": [
      "c:\\Users\\rosa-\\anaconda3\\envs\\xaifo\\lib\\site-packages\\deepsnap\\graph.py:2126: UserWarning: __floordiv__ is deprecated, and its behavior will change in a future version of pytorch. It currently rounds toward 0 (like the 'trunc' function NOT 'floor'). This results in incorrect rounding for negative values. To keep the current behavior, use torch.div(a, b, rounding_mode='trunc'), or for actual floor division, use torch.div(a, b, rounding_mode='floor').\n",
      "  row = perm // num_nodes\n"
     ]
    },
    {
     "name": "stdout",
     "output_type": "stream",
     "text": [
      "Epoch: 128, Train: 0.9904, Val: 0.9775, Test: 0.9793, Loss: 0.54193\n"
     ]
    },
    {
     "name": "stderr",
     "output_type": "stream",
     "text": [
      "c:\\Users\\rosa-\\anaconda3\\envs\\xaifo\\lib\\site-packages\\deepsnap\\graph.py:2126: UserWarning: __floordiv__ is deprecated, and its behavior will change in a future version of pytorch. It currently rounds toward 0 (like the 'trunc' function NOT 'floor'). This results in incorrect rounding for negative values. To keep the current behavior, use torch.div(a, b, rounding_mode='trunc'), or for actual floor division, use torch.div(a, b, rounding_mode='floor').\n",
      "  row = perm // num_nodes\n"
     ]
    },
    {
     "name": "stdout",
     "output_type": "stream",
     "text": [
      "Epoch: 129, Train: 0.9904, Val: 0.9775, Test: 0.9794, Loss: 0.52447\n"
     ]
    },
    {
     "name": "stderr",
     "output_type": "stream",
     "text": [
      "c:\\Users\\rosa-\\anaconda3\\envs\\xaifo\\lib\\site-packages\\deepsnap\\graph.py:2126: UserWarning: __floordiv__ is deprecated, and its behavior will change in a future version of pytorch. It currently rounds toward 0 (like the 'trunc' function NOT 'floor'). This results in incorrect rounding for negative values. To keep the current behavior, use torch.div(a, b, rounding_mode='trunc'), or for actual floor division, use torch.div(a, b, rounding_mode='floor').\n",
      "  row = perm // num_nodes\n"
     ]
    },
    {
     "name": "stdout",
     "output_type": "stream",
     "text": [
      "Epoch: 130, Train: 0.9906, Val: 0.9777, Test: 0.9795, Loss: 0.53070\n"
     ]
    },
    {
     "name": "stderr",
     "output_type": "stream",
     "text": [
      "c:\\Users\\rosa-\\anaconda3\\envs\\xaifo\\lib\\site-packages\\deepsnap\\graph.py:2126: UserWarning: __floordiv__ is deprecated, and its behavior will change in a future version of pytorch. It currently rounds toward 0 (like the 'trunc' function NOT 'floor'). This results in incorrect rounding for negative values. To keep the current behavior, use torch.div(a, b, rounding_mode='trunc'), or for actual floor division, use torch.div(a, b, rounding_mode='floor').\n",
      "  row = perm // num_nodes\n"
     ]
    },
    {
     "name": "stdout",
     "output_type": "stream",
     "text": [
      "Epoch: 131, Train: 0.9906, Val: 0.9778, Test: 0.9796, Loss: 0.52186\n"
     ]
    },
    {
     "name": "stderr",
     "output_type": "stream",
     "text": [
      "c:\\Users\\rosa-\\anaconda3\\envs\\xaifo\\lib\\site-packages\\deepsnap\\graph.py:2126: UserWarning: __floordiv__ is deprecated, and its behavior will change in a future version of pytorch. It currently rounds toward 0 (like the 'trunc' function NOT 'floor'). This results in incorrect rounding for negative values. To keep the current behavior, use torch.div(a, b, rounding_mode='trunc'), or for actual floor division, use torch.div(a, b, rounding_mode='floor').\n",
      "  row = perm // num_nodes\n"
     ]
    },
    {
     "name": "stdout",
     "output_type": "stream",
     "text": [
      "Epoch: 132, Train: 0.9906, Val: 0.9779, Test: 0.9797, Loss: 0.52744\n"
     ]
    },
    {
     "name": "stderr",
     "output_type": "stream",
     "text": [
      "c:\\Users\\rosa-\\anaconda3\\envs\\xaifo\\lib\\site-packages\\deepsnap\\graph.py:2126: UserWarning: __floordiv__ is deprecated, and its behavior will change in a future version of pytorch. It currently rounds toward 0 (like the 'trunc' function NOT 'floor'). This results in incorrect rounding for negative values. To keep the current behavior, use torch.div(a, b, rounding_mode='trunc'), or for actual floor division, use torch.div(a, b, rounding_mode='floor').\n",
      "  row = perm // num_nodes\n"
     ]
    },
    {
     "name": "stdout",
     "output_type": "stream",
     "text": [
      "Epoch: 133, Train: 0.9909, Val: 0.9780, Test: 0.9799, Loss: 0.51683\n"
     ]
    },
    {
     "name": "stderr",
     "output_type": "stream",
     "text": [
      "c:\\Users\\rosa-\\anaconda3\\envs\\xaifo\\lib\\site-packages\\deepsnap\\graph.py:2126: UserWarning: __floordiv__ is deprecated, and its behavior will change in a future version of pytorch. It currently rounds toward 0 (like the 'trunc' function NOT 'floor'). This results in incorrect rounding for negative values. To keep the current behavior, use torch.div(a, b, rounding_mode='trunc'), or for actual floor division, use torch.div(a, b, rounding_mode='floor').\n",
      "  row = perm // num_nodes\n"
     ]
    },
    {
     "name": "stdout",
     "output_type": "stream",
     "text": [
      "Epoch: 134, Train: 0.9909, Val: 0.9782, Test: 0.9800, Loss: 0.52566\n"
     ]
    },
    {
     "name": "stderr",
     "output_type": "stream",
     "text": [
      "c:\\Users\\rosa-\\anaconda3\\envs\\xaifo\\lib\\site-packages\\deepsnap\\graph.py:2126: UserWarning: __floordiv__ is deprecated, and its behavior will change in a future version of pytorch. It currently rounds toward 0 (like the 'trunc' function NOT 'floor'). This results in incorrect rounding for negative values. To keep the current behavior, use torch.div(a, b, rounding_mode='trunc'), or for actual floor division, use torch.div(a, b, rounding_mode='floor').\n",
      "  row = perm // num_nodes\n"
     ]
    },
    {
     "name": "stdout",
     "output_type": "stream",
     "text": [
      "Epoch: 135, Train: 0.9909, Val: 0.9782, Test: 0.9800, Loss: 0.51156\n"
     ]
    },
    {
     "name": "stderr",
     "output_type": "stream",
     "text": [
      "c:\\Users\\rosa-\\anaconda3\\envs\\xaifo\\lib\\site-packages\\deepsnap\\graph.py:2126: UserWarning: __floordiv__ is deprecated, and its behavior will change in a future version of pytorch. It currently rounds toward 0 (like the 'trunc' function NOT 'floor'). This results in incorrect rounding for negative values. To keep the current behavior, use torch.div(a, b, rounding_mode='trunc'), or for actual floor division, use torch.div(a, b, rounding_mode='floor').\n",
      "  row = perm // num_nodes\n"
     ]
    },
    {
     "name": "stdout",
     "output_type": "stream",
     "text": [
      "Epoch: 136, Train: 0.9911, Val: 0.9783, Test: 0.9800, Loss: 0.53078\n"
     ]
    },
    {
     "name": "stderr",
     "output_type": "stream",
     "text": [
      "c:\\Users\\rosa-\\anaconda3\\envs\\xaifo\\lib\\site-packages\\deepsnap\\graph.py:2126: UserWarning: __floordiv__ is deprecated, and its behavior will change in a future version of pytorch. It currently rounds toward 0 (like the 'trunc' function NOT 'floor'). This results in incorrect rounding for negative values. To keep the current behavior, use torch.div(a, b, rounding_mode='trunc'), or for actual floor division, use torch.div(a, b, rounding_mode='floor').\n",
      "  row = perm // num_nodes\n"
     ]
    },
    {
     "name": "stdout",
     "output_type": "stream",
     "text": [
      "Epoch: 137, Train: 0.9912, Val: 0.9784, Test: 0.9801, Loss: 0.53143\n"
     ]
    },
    {
     "name": "stderr",
     "output_type": "stream",
     "text": [
      "c:\\Users\\rosa-\\anaconda3\\envs\\xaifo\\lib\\site-packages\\deepsnap\\graph.py:2126: UserWarning: __floordiv__ is deprecated, and its behavior will change in a future version of pytorch. It currently rounds toward 0 (like the 'trunc' function NOT 'floor'). This results in incorrect rounding for negative values. To keep the current behavior, use torch.div(a, b, rounding_mode='trunc'), or for actual floor division, use torch.div(a, b, rounding_mode='floor').\n",
      "  row = perm // num_nodes\n"
     ]
    },
    {
     "name": "stdout",
     "output_type": "stream",
     "text": [
      "Epoch: 138, Train: 0.9912, Val: 0.9785, Test: 0.9802, Loss: 0.52266\n"
     ]
    },
    {
     "name": "stderr",
     "output_type": "stream",
     "text": [
      "c:\\Users\\rosa-\\anaconda3\\envs\\xaifo\\lib\\site-packages\\deepsnap\\graph.py:2126: UserWarning: __floordiv__ is deprecated, and its behavior will change in a future version of pytorch. It currently rounds toward 0 (like the 'trunc' function NOT 'floor'). This results in incorrect rounding for negative values. To keep the current behavior, use torch.div(a, b, rounding_mode='trunc'), or for actual floor division, use torch.div(a, b, rounding_mode='floor').\n",
      "  row = perm // num_nodes\n"
     ]
    },
    {
     "name": "stdout",
     "output_type": "stream",
     "text": [
      "Epoch: 139, Train: 0.9913, Val: 0.9786, Test: 0.9803, Loss: 0.51673\n"
     ]
    },
    {
     "name": "stderr",
     "output_type": "stream",
     "text": [
      "c:\\Users\\rosa-\\anaconda3\\envs\\xaifo\\lib\\site-packages\\deepsnap\\graph.py:2126: UserWarning: __floordiv__ is deprecated, and its behavior will change in a future version of pytorch. It currently rounds toward 0 (like the 'trunc' function NOT 'floor'). This results in incorrect rounding for negative values. To keep the current behavior, use torch.div(a, b, rounding_mode='trunc'), or for actual floor division, use torch.div(a, b, rounding_mode='floor').\n",
      "  row = perm // num_nodes\n"
     ]
    },
    {
     "name": "stdout",
     "output_type": "stream",
     "text": [
      "Epoch: 140, Train: 0.9915, Val: 0.9788, Test: 0.9804, Loss: 0.52014\n"
     ]
    },
    {
     "name": "stderr",
     "output_type": "stream",
     "text": [
      "c:\\Users\\rosa-\\anaconda3\\envs\\xaifo\\lib\\site-packages\\deepsnap\\graph.py:2126: UserWarning: __floordiv__ is deprecated, and its behavior will change in a future version of pytorch. It currently rounds toward 0 (like the 'trunc' function NOT 'floor'). This results in incorrect rounding for negative values. To keep the current behavior, use torch.div(a, b, rounding_mode='trunc'), or for actual floor division, use torch.div(a, b, rounding_mode='floor').\n",
      "  row = perm // num_nodes\n"
     ]
    },
    {
     "name": "stdout",
     "output_type": "stream",
     "text": [
      "Epoch: 141, Train: 0.9915, Val: 0.9789, Test: 0.9805, Loss: 0.52481\n"
     ]
    },
    {
     "name": "stderr",
     "output_type": "stream",
     "text": [
      "c:\\Users\\rosa-\\anaconda3\\envs\\xaifo\\lib\\site-packages\\deepsnap\\graph.py:2126: UserWarning: __floordiv__ is deprecated, and its behavior will change in a future version of pytorch. It currently rounds toward 0 (like the 'trunc' function NOT 'floor'). This results in incorrect rounding for negative values. To keep the current behavior, use torch.div(a, b, rounding_mode='trunc'), or for actual floor division, use torch.div(a, b, rounding_mode='floor').\n",
      "  row = perm // num_nodes\n"
     ]
    },
    {
     "name": "stdout",
     "output_type": "stream",
     "text": [
      "Epoch: 142, Train: 0.9916, Val: 0.9790, Test: 0.9806, Loss: 0.52738\n"
     ]
    },
    {
     "name": "stderr",
     "output_type": "stream",
     "text": [
      "c:\\Users\\rosa-\\anaconda3\\envs\\xaifo\\lib\\site-packages\\deepsnap\\graph.py:2126: UserWarning: __floordiv__ is deprecated, and its behavior will change in a future version of pytorch. It currently rounds toward 0 (like the 'trunc' function NOT 'floor'). This results in incorrect rounding for negative values. To keep the current behavior, use torch.div(a, b, rounding_mode='trunc'), or for actual floor division, use torch.div(a, b, rounding_mode='floor').\n",
      "  row = perm // num_nodes\n"
     ]
    },
    {
     "name": "stdout",
     "output_type": "stream",
     "text": [
      "Epoch: 143, Train: 0.9918, Val: 0.9792, Test: 0.9807, Loss: 0.51193\n"
     ]
    },
    {
     "name": "stderr",
     "output_type": "stream",
     "text": [
      "c:\\Users\\rosa-\\anaconda3\\envs\\xaifo\\lib\\site-packages\\deepsnap\\graph.py:2126: UserWarning: __floordiv__ is deprecated, and its behavior will change in a future version of pytorch. It currently rounds toward 0 (like the 'trunc' function NOT 'floor'). This results in incorrect rounding for negative values. To keep the current behavior, use torch.div(a, b, rounding_mode='trunc'), or for actual floor division, use torch.div(a, b, rounding_mode='floor').\n",
      "  row = perm // num_nodes\n"
     ]
    },
    {
     "name": "stdout",
     "output_type": "stream",
     "text": [
      "Epoch: 144, Train: 0.9918, Val: 0.9793, Test: 0.9808, Loss: 0.51445\n"
     ]
    },
    {
     "name": "stderr",
     "output_type": "stream",
     "text": [
      "c:\\Users\\rosa-\\anaconda3\\envs\\xaifo\\lib\\site-packages\\deepsnap\\graph.py:2126: UserWarning: __floordiv__ is deprecated, and its behavior will change in a future version of pytorch. It currently rounds toward 0 (like the 'trunc' function NOT 'floor'). This results in incorrect rounding for negative values. To keep the current behavior, use torch.div(a, b, rounding_mode='trunc'), or for actual floor division, use torch.div(a, b, rounding_mode='floor').\n",
      "  row = perm // num_nodes\n"
     ]
    },
    {
     "name": "stdout",
     "output_type": "stream",
     "text": [
      "Epoch: 145, Train: 0.9917, Val: 0.9793, Test: 0.9808, Loss: 0.52019\n"
     ]
    },
    {
     "name": "stderr",
     "output_type": "stream",
     "text": [
      "c:\\Users\\rosa-\\anaconda3\\envs\\xaifo\\lib\\site-packages\\deepsnap\\graph.py:2126: UserWarning: __floordiv__ is deprecated, and its behavior will change in a future version of pytorch. It currently rounds toward 0 (like the 'trunc' function NOT 'floor'). This results in incorrect rounding for negative values. To keep the current behavior, use torch.div(a, b, rounding_mode='trunc'), or for actual floor division, use torch.div(a, b, rounding_mode='floor').\n",
      "  row = perm // num_nodes\n"
     ]
    },
    {
     "name": "stdout",
     "output_type": "stream",
     "text": [
      "Epoch: 146, Train: 0.9918, Val: 0.9795, Test: 0.9809, Loss: 0.52135\n"
     ]
    },
    {
     "name": "stderr",
     "output_type": "stream",
     "text": [
      "c:\\Users\\rosa-\\anaconda3\\envs\\xaifo\\lib\\site-packages\\deepsnap\\graph.py:2126: UserWarning: __floordiv__ is deprecated, and its behavior will change in a future version of pytorch. It currently rounds toward 0 (like the 'trunc' function NOT 'floor'). This results in incorrect rounding for negative values. To keep the current behavior, use torch.div(a, b, rounding_mode='trunc'), or for actual floor division, use torch.div(a, b, rounding_mode='floor').\n",
      "  row = perm // num_nodes\n"
     ]
    },
    {
     "name": "stdout",
     "output_type": "stream",
     "text": [
      "Epoch: 147, Train: 0.9921, Val: 0.9796, Test: 0.9810, Loss: 0.52666\n"
     ]
    },
    {
     "name": "stderr",
     "output_type": "stream",
     "text": [
      "c:\\Users\\rosa-\\anaconda3\\envs\\xaifo\\lib\\site-packages\\deepsnap\\graph.py:2126: UserWarning: __floordiv__ is deprecated, and its behavior will change in a future version of pytorch. It currently rounds toward 0 (like the 'trunc' function NOT 'floor'). This results in incorrect rounding for negative values. To keep the current behavior, use torch.div(a, b, rounding_mode='trunc'), or for actual floor division, use torch.div(a, b, rounding_mode='floor').\n",
      "  row = perm // num_nodes\n"
     ]
    },
    {
     "name": "stdout",
     "output_type": "stream",
     "text": [
      "Epoch: 148, Train: 0.9920, Val: 0.9796, Test: 0.9811, Loss: 0.51254\n"
     ]
    },
    {
     "name": "stderr",
     "output_type": "stream",
     "text": [
      "c:\\Users\\rosa-\\anaconda3\\envs\\xaifo\\lib\\site-packages\\deepsnap\\graph.py:2126: UserWarning: __floordiv__ is deprecated, and its behavior will change in a future version of pytorch. It currently rounds toward 0 (like the 'trunc' function NOT 'floor'). This results in incorrect rounding for negative values. To keep the current behavior, use torch.div(a, b, rounding_mode='trunc'), or for actual floor division, use torch.div(a, b, rounding_mode='floor').\n",
      "  row = perm // num_nodes\n"
     ]
    },
    {
     "name": "stdout",
     "output_type": "stream",
     "text": [
      "Epoch: 149, Train: 0.9922, Val: 0.9797, Test: 0.9812, Loss: 0.52867\n"
     ]
    },
    {
     "name": "stderr",
     "output_type": "stream",
     "text": [
      "c:\\Users\\rosa-\\anaconda3\\envs\\xaifo\\lib\\site-packages\\deepsnap\\graph.py:2126: UserWarning: __floordiv__ is deprecated, and its behavior will change in a future version of pytorch. It currently rounds toward 0 (like the 'trunc' function NOT 'floor'). This results in incorrect rounding for negative values. To keep the current behavior, use torch.div(a, b, rounding_mode='trunc'), or for actual floor division, use torch.div(a, b, rounding_mode='floor').\n",
      "  row = perm // num_nodes\n"
     ]
    },
    {
     "name": "stdout",
     "output_type": "stream",
     "text": [
      "Train: 0.9921, Val: 0.9797, Test: 0.9812\n"
     ]
    }
   ],
   "source": [
    "best_model, best_x, performance = train(model, dataloaders, optimizer, args)\n",
    "\n",
    "best_train_roc = test(best_model, dataloaders['train'], args)\n",
    "best_val_roc = test(best_model, dataloaders['val'], args)\n",
    "best_test_roc = test(best_model, dataloaders['test'], args)\n",
    "\n",
    "print('Train: {:.4f}, Val: {:.4f}, Test: {:.4f}'.format(best_train_roc, best_val_roc, best_test_roc))"
   ]
  },
  {
   "attachments": {},
   "cell_type": "markdown",
   "metadata": {},
   "source": [
    "Save the model and parameters"
   ]
  },
  {
   "cell_type": "code",
   "execution_count": 21,
   "metadata": {
    "execution": {
     "iopub.execute_input": "2024-08-06T23:16:27.266848Z",
     "iopub.status.busy": "2024-08-06T23:16:27.266848Z",
     "iopub.status.idle": "2024-08-06T23:16:27.291378Z",
     "shell.execute_reply": "2024-08-06T23:16:27.289373Z"
    }
   },
   "outputs": [],
   "source": [
    "torch.save(best_model.state_dict(), f'{run_dir}/{dataset_prefix}_{disease_prefix}_best_model_{embedding_method}.pth')\n",
    "with open(f'{run_dir}/{dataset_prefix}_{disease_prefix}_best_model_{embedding_method}_args.pkl', 'wb') as f:\n",
    "    pickle.dump(args, f)"
   ]
  },
  {
   "attachments": {},
   "cell_type": "markdown",
   "metadata": {},
   "source": [
    "### Visualize Trained GNN Model Accuracy"
   ]
  },
  {
   "attachments": {},
   "cell_type": "markdown",
   "metadata": {},
   "source": [
    "Plot AUC and loss throughout epochs"
   ]
  },
  {
   "cell_type": "code",
   "execution_count": 22,
   "metadata": {
    "execution": {
     "iopub.execute_input": "2024-08-06T23:16:27.297378Z",
     "iopub.status.busy": "2024-08-06T23:16:27.296380Z",
     "iopub.status.idle": "2024-08-06T23:16:27.743119Z",
     "shell.execute_reply": "2024-08-06T23:16:27.741117Z"
    }
   },
   "outputs": [
    {
     "data": {
      "image/png": "[encoded data removed]",
      "text/plain": [
       "<Figure size 1000x700 with 1 Axes>"
      ]
     },
     "metadata": {},
     "output_type": "display_data"
    }
   ],
   "source": [
    "plt.figure(figsize= (10,7))\n",
    "plt.plot(np.log10(performance[0]), label = 'Loss')\n",
    "plt.plot(performance[1], label = 'AUC Train')\n",
    "plt.plot(performance[2], label = 'AUC Validation')\n",
    "plt.plot(performance[3], label = 'AUC Test')\n",
    "plt.legend()\n",
    "plt.ylabel('AUC/Loss')\n",
    "plt.xlabel('Epochs')\n",
    "plt.title(f'Training curve of GNN on {dataset_prefix} {disease_prefix} dataset and embedding method {embedding_method}')\n",
    "plt.show()"
   ]
  },
  {
   "cell_type": "code",
   "execution_count": 23,
   "metadata": {
    "execution": {
     "iopub.execute_input": "2024-08-06T23:16:27.749117Z",
     "iopub.status.busy": "2024-08-06T23:16:27.748120Z",
     "iopub.status.idle": "2024-08-06T23:16:27.758118Z",
     "shell.execute_reply": "2024-08-06T23:16:27.757113Z"
    }
   },
   "outputs": [],
   "source": [
    "performance_scores = {}\n",
    "sets = ['Loss', 'AUC Train', 'AUC Validation', 'AUC Test']\n",
    "for set_name, score_list in zip(sets, performance):\n",
    "    performance_scores[set_name] = score_list"
   ]
  },
  {
   "attachments": {},
   "cell_type": "markdown",
   "metadata": {},
   "source": [
    "Plot ROC curve using test set\n",
    "- High TPR and lower FPR indicates that the proportion of correctly classified samples (true positives) is greater than the proportion of incorrectly classified samples (false positives)"
   ]
  },
  {
   "cell_type": "code",
   "execution_count": 24,
   "metadata": {
    "execution": {
     "iopub.execute_input": "2024-08-06T23:16:27.763129Z",
     "iopub.status.busy": "2024-08-06T23:16:27.762130Z",
     "iopub.status.idle": "2024-08-06T23:16:28.756348Z",
     "shell.execute_reply": "2024-08-06T23:16:28.754400Z"
    }
   },
   "outputs": [
    {
     "name": "stdout",
     "output_type": "stream",
     "text": [
      "ROC AUC score: 0.9811563851385017\n"
     ]
    },
    {
     "data": {
      "image/png": "[encoded data removed]",
      "text/plain": [
       "<Figure size 700x700 with 1 Axes>"
      ]
     },
     "metadata": {},
     "output_type": "display_data"
    }
   ],
   "source": [
    "for batch in dataloaders['test']:\n",
    "    feat, edge_index, edge_label_index = batch.node_feature, batch.edge_index, batch.edge_label_index\n",
    "    batch.to(args[\"device\"])\n",
    "    pred, x = best_model(feat, edge_index, edge_label_index, training = False)\n",
    "    pred = torch.sigmoid(pred)\n",
    "    score = roc_auc_score(batch.edge_label.flatten().cpu().numpy(), pred.flatten().data.cpu().numpy())\n",
    "    \n",
    "    performance_scores['ROC AUC Score'] = score\n",
    "    print(f'ROC AUC score: {score}')\n",
    "    \n",
    "fpr, tpr, thresholds = roc_curve(batch.edge_label.flatten().cpu().numpy(), pred.flatten().data.cpu().numpy())\n",
    "performance_scores['ROC FPR'] = fpr\n",
    "performance_scores['ROC TPR'] = tpr\n",
    "performance_scores['ROC Thresholds'] = thresholds\n",
    "\n",
    "plt.figure(figsize = (7, 7))\n",
    "plt.plot(fpr, tpr, marker='.')\n",
    "plt.xlabel('False Positive Rate')   # 1 - specificity\n",
    "plt.ylabel('True Positive Rate')    # sensitivity\n",
    "plt.title(f'ROC curve on test set from {dataset_prefix} {disease_prefix} dataset and embedding method {embedding_method}')\n",
    "plt.show()"
   ]
  },
  {
   "attachments": {},
   "cell_type": "markdown",
   "metadata": {},
   "source": [
    "Calculate F1-score using test set\n",
    "\n",
    "Elements of the F1-score:\n",
    "- Precision represents the proportion of correctly classifying samples as positive (high precision: classifying a sample as positive has a high probability to be correct)\n",
    "- Recall represents the proportion of finding all positives (high recall: all positive samples have been classified as being positive)\n",
    "\n",
    "Maximizing both elements in order to yield a model that identifies all positive samples and only identifies these samples as positives.\n",
    "\n",
    "For the F1-score, the average of precision and recall is calculated, using the harmonic mean method (equal importance):\n",
    "- High F1-score indicates that precision and recall are both high\n",
    "- Medium F1-score indicates that one of the elements is high and the other low\n",
    "- Low F1-score indicates that precision and recall are both low"
   ]
  },
  {
   "cell_type": "code",
   "execution_count": 25,
   "metadata": {
    "execution": {
     "iopub.execute_input": "2024-08-06T23:16:28.761398Z",
     "iopub.status.busy": "2024-08-06T23:16:28.761398Z",
     "iopub.status.idle": "2024-08-06T23:16:29.566874Z",
     "shell.execute_reply": "2024-08-06T23:16:29.564881Z"
    }
   },
   "outputs": [
    {
     "name": "stdout",
     "output_type": "stream",
     "text": [
      "F1-Score in the test set from prev hd dataset and embedding method e2v: 0.9045951246847858\n",
      "              precision    recall  f1-score   support\n",
      "\n",
      "           0       0.97      0.89      0.93     40428\n",
      "           1       0.86      0.96      0.90     26952\n",
      "\n",
      "    accuracy                           0.92     67380\n",
      "   macro avg       0.91      0.93      0.92     67380\n",
      "weighted avg       0.92      0.92      0.92     67380\n",
      "\n"
     ]
    }
   ],
   "source": [
    "def test_f1(model, dataloader, args, threshold):\n",
    "    model.eval()\n",
    "    score = 0\n",
    "    num_batches = 0\n",
    "    for batch in dataloader:\n",
    "        feat, edge_index, edge_label_index = batch.node_feature, batch.edge_index, batch.edge_label_index\n",
    "        batch.to(args[\"device\"])\n",
    "        pred, x = model(feat, edge_index, edge_label_index, training = False)\n",
    "        pred = torch.sigmoid(pred) > threshold\n",
    "        score += f1_score(batch.edge_label.flatten().cpu().numpy(), pred.flatten().data.cpu().numpy())\n",
    "        num_batches += 1\n",
    "    score /= num_batches \n",
    "    return batch.edge_label.flatten().cpu().numpy(), pred.flatten().data.cpu().numpy(), score\n",
    "\n",
    "true_label, pred_label, best_test_f1 = test_f1(best_model, dataloaders['test'], args, 0.7)\n",
    "performance_scores['True Labels'] = true_label\n",
    "performance_scores['Predicted Labels'] = pred_label\n",
    "performance_scores['F1 Score'] = best_test_f1\n",
    "\n",
    "print(f'F1-Score in the test set from {dataset_prefix} {disease_prefix} dataset and embedding method {embedding_method}:', best_test_f1)\n",
    "print(classification_report(true_label, pred_label))"
   ]
  },
  {
   "cell_type": "code",
   "execution_count": 26,
   "metadata": {
    "execution": {
     "iopub.execute_input": "2024-08-06T23:16:29.571874Z",
     "iopub.status.busy": "2024-08-06T23:16:29.570873Z",
     "iopub.status.idle": "2024-08-06T23:16:29.612394Z",
     "shell.execute_reply": "2024-08-06T23:16:29.611393Z"
    }
   },
   "outputs": [
    {
     "data": {
      "text/plain": [
       "{'Loss': [array(2.4103353, dtype=float32),\n",
       "  array(2.3647714, dtype=float32),\n",
       "  array(2.2973297, dtype=float32),\n",
       "  array(2.2387536, dtype=float32),\n",
       "  array(2.1762369, dtype=float32),\n",
       "  array(2.1209116, dtype=float32),\n",
       "  array(2.0810704, dtype=float32),\n",
       "  array(2.0328298, dtype=float32),\n",
       "  array(1.9762307, dtype=float32),\n",
       "  array(1.9399732, dtype=float32),\n",
       "  array(1.9035304, dtype=float32),\n",
       "  array(1.8651477, dtype=float32),\n",
       "  array(1.8128299, dtype=float32),\n",
       "  array(1.7729865, dtype=float32),\n",
       "  array(1.7268975, dtype=float32),\n",
       "  array(1.6885343, dtype=float32),\n",
       "  array(1.653461, dtype=float32),\n",
       "  array(1.6163474, dtype=float32),\n",
       "  array(1.581648, dtype=float32),\n",
       "  array(1.5362273, dtype=float32),\n",
       "  array(1.5115356, dtype=float32),\n",
       "  array(1.4674283, dtype=float32),\n",
       "  array(1.4372288, dtype=float32),\n",
       "  array(1.3994066, dtype=float32),\n",
       "  array(1.3629314, dtype=float32),\n",
       "  array(1.3334231, dtype=float32),\n",
       "  array(1.2942648, dtype=float32),\n",
       "  array(1.2599187, dtype=float32),\n",
       "  array(1.2307558, dtype=float32),\n",
       "  array(1.2054912, dtype=float32),\n",
       "  array(1.1682439, dtype=float32),\n",
       "  array(1.1448586, dtype=float32),\n",
       "  array(1.1085546, dtype=float32),\n",
       "  array(1.101331, dtype=float32),\n",
       "  array(1.0570172, dtype=float32),\n",
       "  array(1.0395898, dtype=float32),\n",
       "  array(1.0133882, dtype=float32),\n",
       "  array(0.99878186, dtype=float32),\n",
       "  array(0.96871704, dtype=float32),\n",
       "  array(0.9468588, dtype=float32),\n",
       "  array(0.92597723, dtype=float32),\n",
       "  array(0.9114613, dtype=float32),\n",
       "  array(0.896323, dtype=float32),\n",
       "  array(0.86227906, dtype=float32),\n",
       "  array(0.8519183, dtype=float32),\n",
       "  array(0.8386942, dtype=float32),\n",
       "  array(0.8216975, dtype=float32),\n",
       "  array(0.8077846, dtype=float32),\n",
       "  array(0.79719186, dtype=float32),\n",
       "  array(0.7859639, dtype=float32),\n",
       "  array(0.7539596, dtype=float32),\n",
       "  array(0.755645, dtype=float32),\n",
       "  array(0.7389761, dtype=float32),\n",
       "  array(0.73669904, dtype=float32),\n",
       "  array(0.70848835, dtype=float32),\n",
       "  array(0.71248174, dtype=float32),\n",
       "  array(0.7113226, dtype=float32),\n",
       "  array(0.70334846, dtype=float32),\n",
       "  array(0.6885099, dtype=float32),\n",
       "  array(0.6903668, dtype=float32),\n",
       "  array(0.66767067, dtype=float32),\n",
       "  array(0.6640756, dtype=float32),\n",
       "  array(0.6565001, dtype=float32),\n",
       "  array(0.6575243, dtype=float32),\n",
       "  array(0.6408886, dtype=float32),\n",
       "  array(0.6511075, dtype=float32),\n",
       "  array(0.6461131, dtype=float32),\n",
       "  array(0.62145615, dtype=float32),\n",
       "  array(0.6332103, dtype=float32),\n",
       "  array(0.6233482, dtype=float32),\n",
       "  array(0.63703257, dtype=float32),\n",
       "  array(0.6221144, dtype=float32),\n",
       "  array(0.6025245, dtype=float32),\n",
       "  array(0.6174747, dtype=float32),\n",
       "  array(0.59451395, dtype=float32),\n",
       "  array(0.6106106, dtype=float32),\n",
       "  array(0.61423063, dtype=float32),\n",
       "  array(0.59572774, dtype=float32),\n",
       "  array(0.5945792, dtype=float32),\n",
       "  array(0.579044, dtype=float32),\n",
       "  array(0.60251963, dtype=float32),\n",
       "  array(0.58689, dtype=float32),\n",
       "  array(0.5858235, dtype=float32),\n",
       "  array(0.5874331, dtype=float32),\n",
       "  array(0.5753627, dtype=float32),\n",
       "  array(0.5684402, dtype=float32),\n",
       "  array(0.5719865, dtype=float32),\n",
       "  array(0.5911804, dtype=float32),\n",
       "  array(0.57553947, dtype=float32),\n",
       "  array(0.56502867, dtype=float32),\n",
       "  array(0.5718764, dtype=float32),\n",
       "  array(0.5658993, dtype=float32),\n",
       "  array(0.5773359, dtype=float32),\n",
       "  array(0.5672288, dtype=float32),\n",
       "  array(0.5770996, dtype=float32),\n",
       "  array(0.57544506, dtype=float32),\n",
       "  array(0.55913347, dtype=float32),\n",
       "  array(0.5554536, dtype=float32),\n",
       "  array(0.5805649, dtype=float32),\n",
       "  array(0.5630755, dtype=float32),\n",
       "  array(0.5503352, dtype=float32),\n",
       "  array(0.5505491, dtype=float32),\n",
       "  array(0.5677526, dtype=float32),\n",
       "  array(0.5463941, dtype=float32),\n",
       "  array(0.5418968, dtype=float32),\n",
       "  array(0.5438572, dtype=float32),\n",
       "  array(0.5482659, dtype=float32),\n",
       "  array(0.54000527, dtype=float32),\n",
       "  array(0.554589, dtype=float32),\n",
       "  array(0.56150484, dtype=float32),\n",
       "  array(0.5338616, dtype=float32),\n",
       "  array(0.52788216, dtype=float32),\n",
       "  array(0.53795904, dtype=float32),\n",
       "  array(0.5360354, dtype=float32),\n",
       "  array(0.55238575, dtype=float32),\n",
       "  array(0.5487346, dtype=float32),\n",
       "  array(0.5263169, dtype=float32),\n",
       "  array(0.5475936, dtype=float32),\n",
       "  array(0.5371476, dtype=float32),\n",
       "  array(0.5313204, dtype=float32),\n",
       "  array(0.52835715, dtype=float32),\n",
       "  array(0.53998363, dtype=float32),\n",
       "  array(0.5257372, dtype=float32),\n",
       "  array(0.5347584, dtype=float32),\n",
       "  array(0.5385322, dtype=float32),\n",
       "  array(0.5374043, dtype=float32),\n",
       "  array(0.5437702, dtype=float32),\n",
       "  array(0.54193103, dtype=float32),\n",
       "  array(0.524469, dtype=float32),\n",
       "  array(0.53070074, dtype=float32),\n",
       "  array(0.521862, dtype=float32),\n",
       "  array(0.52744156, dtype=float32),\n",
       "  array(0.5168311, dtype=float32),\n",
       "  array(0.52566004, dtype=float32),\n",
       "  array(0.51156384, dtype=float32),\n",
       "  array(0.530784, dtype=float32),\n",
       "  array(0.53143317, dtype=float32),\n",
       "  array(0.5226622, dtype=float32),\n",
       "  array(0.5167297, dtype=float32),\n",
       "  array(0.5201395, dtype=float32),\n",
       "  array(0.52481365, dtype=float32),\n",
       "  array(0.52737516, dtype=float32),\n",
       "  array(0.51193404, dtype=float32),\n",
       "  array(0.514451, dtype=float32),\n",
       "  array(0.52018964, dtype=float32),\n",
       "  array(0.52134955, dtype=float32),\n",
       "  array(0.5266591, dtype=float32),\n",
       "  array(0.5125397, dtype=float32),\n",
       "  array(0.5286699, dtype=float32)],\n",
       " 'AUC Train': [0.9849502288949049,\n",
       "  0.9817208110479514,\n",
       "  0.97812668815701,\n",
       "  0.9740307222813808,\n",
       "  0.9706670102737911,\n",
       "  0.9681572157343378,\n",
       "  0.9653440469488016,\n",
       "  0.9632105107338399,\n",
       "  0.9611589097316929,\n",
       "  0.9595408647640132,\n",
       "  0.9581273728322096,\n",
       "  0.9567203354445634,\n",
       "  0.9550340704335676,\n",
       "  0.9535333811792821,\n",
       "  0.9520090367130352,\n",
       "  0.9506534323476352,\n",
       "  0.9500399485604772,\n",
       "  0.949028082723705,\n",
       "  0.9488691903438335,\n",
       "  0.9483098918406676,\n",
       "  0.948600325961664,\n",
       "  0.9487453417492713,\n",
       "  0.9490118233994657,\n",
       "  0.9502105343883062,\n",
       "  0.9505157149343442,\n",
       "  0.9515764818869592,\n",
       "  0.9522002527719422,\n",
       "  0.953151603759506,\n",
       "  0.9538493066728971,\n",
       "  0.9553252432842313,\n",
       "  0.9566063542199499,\n",
       "  0.9578519896523072,\n",
       "  0.9588446929071919,\n",
       "  0.9594196353345046,\n",
       "  0.9600545612569045,\n",
       "  0.960777247480714,\n",
       "  0.9614583040137851,\n",
       "  0.9617433006759594,\n",
       "  0.9620004715384599,\n",
       "  0.9626760394393258,\n",
       "  0.9629564097006449,\n",
       "  0.9630139425528906,\n",
       "  0.96354712087328,\n",
       "  0.9638984719876815,\n",
       "  0.9640762158359228,\n",
       "  0.9644528015954874,\n",
       "  0.9646070114673637,\n",
       "  0.9646798276349063,\n",
       "  0.9652019986007061,\n",
       "  0.9650645554411805,\n",
       "  0.9654464956462425,\n",
       "  0.9654936482616637,\n",
       "  0.965671420306898,\n",
       "  0.9659902232419924,\n",
       "  0.9662399013057418,\n",
       "  0.9659412329743134,\n",
       "  0.9662786440173605,\n",
       "  0.9662536846586097,\n",
       "  0.9668592946720781,\n",
       "  0.9668204002187564,\n",
       "  0.966930043624254,\n",
       "  0.9669360386836354,\n",
       "  0.9673474152587405,\n",
       "  0.9676795546975072,\n",
       "  0.9677879458467148,\n",
       "  0.9680885069335785,\n",
       "  0.9687459532035061,\n",
       "  0.9691201404832326,\n",
       "  0.9695979515980572,\n",
       "  0.9700097649540521,\n",
       "  0.9706234895486949,\n",
       "  0.9712383125496047,\n",
       "  0.9721174655664702,\n",
       "  0.9722185158881061,\n",
       "  0.9728065283245187,\n",
       "  0.9731673823706208,\n",
       "  0.9735390557005233,\n",
       "  0.9741566863101759,\n",
       "  0.9747291094236386,\n",
       "  0.9751171753178958,\n",
       "  0.9759005445689102,\n",
       "  0.9763459217696588,\n",
       "  0.9770316876165135,\n",
       "  0.9773754569524358,\n",
       "  0.9779489938184432,\n",
       "  0.9786465708780119,\n",
       "  0.9791341136414494,\n",
       "  0.9796700809255707,\n",
       "  0.9804857107637733,\n",
       "  0.9807999694364559,\n",
       "  0.9811641233195842,\n",
       "  0.981587086578447,\n",
       "  0.9821273324479196,\n",
       "  0.9825312031010542,\n",
       "  0.9830431084681608,\n",
       "  0.9834518047225771,\n",
       "  0.9839708362271276,\n",
       "  0.9842522929475644,\n",
       "  0.9844838720699193,\n",
       "  0.9849143107446463,\n",
       "  0.9852600478606588,\n",
       "  0.985453562648597,\n",
       "  0.9857629925790308,\n",
       "  0.98625763223593,\n",
       "  0.9863489819170402,\n",
       "  0.9865492696915766,\n",
       "  0.986679714259874,\n",
       "  0.9869720514054043,\n",
       "  0.9870608672008715,\n",
       "  0.9874063960951411,\n",
       "  0.9874841103787145,\n",
       "  0.9878013955382235,\n",
       "  0.987927311864476,\n",
       "  0.988111576905617,\n",
       "  0.9884210457324116,\n",
       "  0.9884653042118976,\n",
       "  0.9886855589714537,\n",
       "  0.9890357052739465,\n",
       "  0.9891314952930471,\n",
       "  0.9892527151418886,\n",
       "  0.9893637837146373,\n",
       "  0.9896290108424555,\n",
       "  0.9896424140235549,\n",
       "  0.9898469195003112,\n",
       "  0.9897782818948083,\n",
       "  0.9900313068383801,\n",
       "  0.990254820960947,\n",
       "  0.9903701788040722,\n",
       "  0.9904121383537348,\n",
       "  0.9905502969940339,\n",
       "  0.990590045661351,\n",
       "  0.9906495800268144,\n",
       "  0.9908660129177282,\n",
       "  0.9909110713972555,\n",
       "  0.9909112688766039,\n",
       "  0.9911349639848552,\n",
       "  0.991163007041931,\n",
       "  0.9911735672317941,\n",
       "  0.991275384078506,\n",
       "  0.9914667807932249,\n",
       "  0.991521200502371,\n",
       "  0.9916072833265076,\n",
       "  0.9917515151918097,\n",
       "  0.9917793375493276,\n",
       "  0.9917414428845085,\n",
       "  0.9918366708856163,\n",
       "  0.992105300943028,\n",
       "  0.9920176317870363,\n",
       "  0.9921905471798753],\n",
       " 'AUC Validation': [0.9513525893188006,\n",
       "  0.9481408886727436,\n",
       "  0.9444179816914041,\n",
       "  0.9405266258546918,\n",
       "  0.9372746485906622,\n",
       "  0.9349396063161963,\n",
       "  0.9337894611433759,\n",
       "  0.9333629740525713,\n",
       "  0.933344001179423,\n",
       "  0.9336462635508286,\n",
       "  0.9338018159566932,\n",
       "  0.9337315914475006,\n",
       "  0.9335356807192212,\n",
       "  0.932881572396228,\n",
       "  0.9320939525882304,\n",
       "  0.931355398592937,\n",
       "  0.9309129525130769,\n",
       "  0.9304317509867162,\n",
       "  0.93004477028886,\n",
       "  0.9299359959713137,\n",
       "  0.930141981132744,\n",
       "  0.930565659977603,\n",
       "  0.9310532867780318,\n",
       "  0.9317345347462993,\n",
       "  0.932394761722195,\n",
       "  0.9332613750375134,\n",
       "  0.9340229247022067,\n",
       "  0.9349583019450571,\n",
       "  0.9360091495976172,\n",
       "  0.9372542766436921,\n",
       "  0.9382242873898273,\n",
       "  0.9392977772712225,\n",
       "  0.9402760043629659,\n",
       "  0.9411745182138738,\n",
       "  0.9420126763505929,\n",
       "  0.9427651705925963,\n",
       "  0.9435015543710161,\n",
       "  0.9440331803906958,\n",
       "  0.944489221538948,\n",
       "  0.9449446274122097,\n",
       "  0.9454142553666068,\n",
       "  0.9459126552190701,\n",
       "  0.9463717579888419,\n",
       "  0.946841508958916,\n",
       "  0.9472476268568327,\n",
       "  0.9476307022659496,\n",
       "  0.9480077480708259,\n",
       "  0.9483422139268773,\n",
       "  0.9486550326958412,\n",
       "  0.9489192621083432,\n",
       "  0.9492484171756413,\n",
       "  0.9495593044148668,\n",
       "  0.9499418464500397,\n",
       "  0.9501885663251362,\n",
       "  0.9504903347977781,\n",
       "  0.9507206899156896,\n",
       "  0.9509204343265677,\n",
       "  0.9512089308764774,\n",
       "  0.951450637403712,\n",
       "  0.9517158867447023,\n",
       "  0.9519282898359813,\n",
       "  0.9521977887260017,\n",
       "  0.9524265602465753,\n",
       "  0.952673477497572,\n",
       "  0.9529172202096736,\n",
       "  0.9532350725231032,\n",
       "  0.9535864870017927,\n",
       "  0.9540261055571307,\n",
       "  0.9544824560806308,\n",
       "  0.9550073557132414,\n",
       "  0.9556219943643838,\n",
       "  0.9561784291576622,\n",
       "  0.9567443269778146,\n",
       "  0.9572031414869697,\n",
       "  0.9576687466451146,\n",
       "  0.9580765564676073,\n",
       "  0.9586926960936177,\n",
       "  0.9591939556015636,\n",
       "  0.9597270311865747,\n",
       "  0.9602612708303823,\n",
       "  0.960851859916621,\n",
       "  0.9614536645441212,\n",
       "  0.9620265503891641,\n",
       "  0.9626353531398562,\n",
       "  0.9633006522173702,\n",
       "  0.9638885009916937,\n",
       "  0.9645269541927146,\n",
       "  0.9651219846957186,\n",
       "  0.9657104173354956,\n",
       "  0.9662908392678116,\n",
       "  0.966843815851715,\n",
       "  0.9673640629212483,\n",
       "  0.9678774339652396,\n",
       "  0.9684158506339092,\n",
       "  0.9689428681558291,\n",
       "  0.9694501058584787,\n",
       "  0.9698936131780621,\n",
       "  0.9703072249339896,\n",
       "  0.9706962262102461,\n",
       "  0.9711110001889152,\n",
       "  0.9714937230754944,\n",
       "  0.9718215176261232,\n",
       "  0.9721715486374576,\n",
       "  0.9725537987399038,\n",
       "  0.9728746429047676,\n",
       "  0.9731415318427697,\n",
       "  0.9734012675109419,\n",
       "  0.9736206301682603,\n",
       "  0.9738624275802118,\n",
       "  0.9740918160152268,\n",
       "  0.9743195786236413,\n",
       "  0.9745357502175707,\n",
       "  0.9747658381894967,\n",
       "  0.9749632710072751,\n",
       "  0.9751827621884357,\n",
       "  0.9754310326118819,\n",
       "  0.9756495617002829,\n",
       "  0.975921546608617,\n",
       "  0.9760973819127898,\n",
       "  0.9762624028536934,\n",
       "  0.9764209214062239,\n",
       "  0.9765456290080573,\n",
       "  0.9767280704377046,\n",
       "  0.9768907338841367,\n",
       "  0.9770355729097504,\n",
       "  0.9771848515160749,\n",
       "  0.9773191607669265,\n",
       "  0.977452466613784,\n",
       "  0.977548591431204,\n",
       "  0.9776511626373231,\n",
       "  0.9778019045793904,\n",
       "  0.977921015885936,\n",
       "  0.9780430951752024,\n",
       "  0.978165862067023,\n",
       "  0.9782401157986595,\n",
       "  0.9783079947477374,\n",
       "  0.9784030886203396,\n",
       "  0.9785013524416999,\n",
       "  0.9786447015087751,\n",
       "  0.9787654514943052,\n",
       "  0.9788818215709085,\n",
       "  0.979025233981877,\n",
       "  0.9791704888739223,\n",
       "  0.9792668771652181,\n",
       "  0.9793437564553394,\n",
       "  0.9794520313659572,\n",
       "  0.979568708063726,\n",
       "  0.9796336575872356,\n",
       "  0.97970631854126],\n",
       " 'AUC Test': [0.9532656803649451,\n",
       "  0.9500423725634083,\n",
       "  0.9461081910350582,\n",
       "  0.9419862047184471,\n",
       "  0.9385686632550851,\n",
       "  0.9361147938782541,\n",
       "  0.9348831612021479,\n",
       "  0.9342474598671625,\n",
       "  0.9340208533165302,\n",
       "  0.9342313707047855,\n",
       "  0.9344560664895709,\n",
       "  0.9345390352098677,\n",
       "  0.9346379343209317,\n",
       "  0.9342774043763198,\n",
       "  0.9337854418247166,\n",
       "  0.9332817852392873,\n",
       "  0.9330131400045045,\n",
       "  0.9327244454946498,\n",
       "  0.9325910938620166,\n",
       "  0.9327254788867458,\n",
       "  0.9331608792818004,\n",
       "  0.9337757751116188,\n",
       "  0.9344023181697598,\n",
       "  0.9351871207304167,\n",
       "  0.9359229968558742,\n",
       "  0.936871594817025,\n",
       "  0.9376280883078811,\n",
       "  0.9385009430336128,\n",
       "  0.9394492619972528,\n",
       "  0.9405826067871048,\n",
       "  0.9414451000592267,\n",
       "  0.9424298456353761,\n",
       "  0.9433339765327264,\n",
       "  0.9441675999867609,\n",
       "  0.9449132263410185,\n",
       "  0.9455419215345638,\n",
       "  0.9461856266106418,\n",
       "  0.9466979082572778,\n",
       "  0.9471534139104576,\n",
       "  0.9476354261626774,\n",
       "  0.9481416827479363,\n",
       "  0.9487146647082804,\n",
       "  0.9492724101006145,\n",
       "  0.949818192556916,\n",
       "  0.9503341865224055,\n",
       "  0.9508259343193457,\n",
       "  0.9513081025899104,\n",
       "  0.9517470748873078,\n",
       "  0.9521492727430623,\n",
       "  0.9525064115830604,\n",
       "  0.9529238203096855,\n",
       "  0.9533047290034037,\n",
       "  0.9537428670615333,\n",
       "  0.9540728880776816,\n",
       "  0.9544903004753267,\n",
       "  0.9548710513151899,\n",
       "  0.9552419500554514,\n",
       "  0.9557024556377072,\n",
       "  0.9561032456573376,\n",
       "  0.9565324053185971,\n",
       "  0.9568749178976405,\n",
       "  0.9572414187560863,\n",
       "  0.9575966330639127,\n",
       "  0.9579323772000532,\n",
       "  0.9582502966991687,\n",
       "  0.9586529690342425,\n",
       "  0.9589972739887419,\n",
       "  0.9593932861759993,\n",
       "  0.9598270272700684,\n",
       "  0.9603124856922001,\n",
       "  0.9608708514868938,\n",
       "  0.9613730653615105,\n",
       "  0.9618731610576566,\n",
       "  0.9622717117551609,\n",
       "  0.9626770841253559,\n",
       "  0.963042514881507,\n",
       "  0.9635751991388786,\n",
       "  0.9640144017927734,\n",
       "  0.964495260426996,\n",
       "  0.9649653336048126,\n",
       "  0.9655052681264462,\n",
       "  0.9660437525952275,\n",
       "  0.9665344936149656,\n",
       "  0.9670561611416789,\n",
       "  0.9676344688341132,\n",
       "  0.9681213718025673,\n",
       "  0.9686576958761497,\n",
       "  0.9691318025870588,\n",
       "  0.9696218121560861,\n",
       "  0.9701202118410479,\n",
       "  0.9705668951157022,\n",
       "  0.9709914063480392,\n",
       "  0.9714027698226776,\n",
       "  0.9718397423319955,\n",
       "  0.9722652566705148,\n",
       "  0.9726798800108064,\n",
       "  0.9730164161694859,\n",
       "  0.9733335794385062,\n",
       "  0.9736534500846876,\n",
       "  0.9739834747718555,\n",
       "  0.9742913292522165,\n",
       "  0.974549135800805,\n",
       "  0.97483583970013,\n",
       "  0.975161177412667,\n",
       "  0.9754451216227974,\n",
       "  0.9756734067472699,\n",
       "  0.9758955355714044,\n",
       "  0.9760647448084657,\n",
       "  0.9762452057214578,\n",
       "  0.9764395706222434,\n",
       "  0.9766435343222593,\n",
       "  0.9768324780444376,\n",
       "  0.9770339041519617,\n",
       "  0.9772052031170894,\n",
       "  0.97740353180159,\n",
       "  0.9776141418830975,\n",
       "  0.9777874810175233,\n",
       "  0.9780161341617387,\n",
       "  0.9781628703328525,\n",
       "  0.9783045845487713,\n",
       "  0.9784397671025694,\n",
       "  0.978544686686236,\n",
       "  0.9787032013246332,\n",
       "  0.9788560350597669,\n",
       "  0.9789859506177929,\n",
       "  0.9791090931441413,\n",
       "  0.9792248569205317,\n",
       "  0.9793456683492565,\n",
       "  0.9794306423641627,\n",
       "  0.9795065324403767,\n",
       "  0.9796305404096616,\n",
       "  0.9797425037627219,\n",
       "  0.9798519019906414,\n",
       "  0.9799507432831424,\n",
       "  0.9799973477982677,\n",
       "  0.980030271340057,\n",
       "  0.9800900621585896,\n",
       "  0.9801828169001303,\n",
       "  0.9802997067618688,\n",
       "  0.9804018226041022,\n",
       "  0.9805111116191801,\n",
       "  0.980628178607628,\n",
       "  0.9807340783536022,\n",
       "  0.9807873411810341,\n",
       "  0.9808388483432086,\n",
       "  0.9809249264173434,\n",
       "  0.9810336445888301,\n",
       "  0.9810928058274534,\n",
       "  0.9811563851385017],\n",
       " 'ROC AUC Score': 0.9811563851385017,\n",
       " 'ROC FPR': array([0.00000000e+00, 7.42059958e-05, 1.23676660e-04, ...,\n",
       "        9.99975265e-01, 9.99975265e-01, 1.00000000e+00]),\n",
       " 'ROC TPR': array([0.        , 0.11093796, 0.11093796, ..., 0.99992579, 1.        ,\n",
       "        1.        ]),\n",
       " 'ROC Thresholds': array([2.0000000e+00, 1.0000000e+00, 9.9991894e-01, ..., 1.0434906e-05,\n",
       "        2.8386785e-06, 1.6143116e-07], dtype=float32),\n",
       " 'True Labels': array([1, 1, 1, ..., 0, 0, 0], dtype=int64),\n",
       " 'Predicted Labels': array([ True, False,  True, ..., False, False, False]),\n",
       " 'F1 Score': 0.9045951246847858}"
      ]
     },
     "execution_count": 26,
     "metadata": {},
     "output_type": "execute_result"
    }
   ],
   "source": [
    "performance_scores"
   ]
  },
  {
   "cell_type": "code",
   "execution_count": 27,
   "metadata": {
    "execution": {
     "iopub.execute_input": "2024-08-06T23:16:29.617391Z",
     "iopub.status.busy": "2024-08-06T23:16:29.617391Z",
     "iopub.status.idle": "2024-08-06T23:16:30.328782Z",
     "shell.execute_reply": "2024-08-06T23:16:30.326776Z"
    }
   },
   "outputs": [
    {
     "data": {
      "text/plain": [
       "array([[39013,  1415],\n",
       "       [ 2398, 24554]], dtype=int64)"
      ]
     },
     "execution_count": 27,
     "metadata": {},
     "output_type": "execute_result"
    }
   ],
   "source": [
    "def test_cm(model, dataloader, args, threshold):\n",
    "    model.eval()\n",
    "    for batch in dataloader:\n",
    "        feat, edge_index, edge_label_index = batch.node_feature, batch.edge_index, batch.edge_label_index\n",
    "        batch.to(args[\"device\"])\n",
    "        pred, x = model(feat, edge_index, edge_label_index, training = False)\n",
    "        pred = torch.sigmoid(pred) > threshold\n",
    "        score = confusion_matrix(batch.edge_label.flatten().cpu().numpy(), pred.flatten().data.cpu().numpy())\n",
    "    return score\n",
    "\n",
    "table = test_cm(best_model, dataloaders['test'], args, 0.8)\n",
    "table"
   ]
  },
  {
   "cell_type": "code",
   "execution_count": 28,
   "metadata": {
    "execution": {
     "iopub.execute_input": "2024-08-06T23:16:30.335339Z",
     "iopub.status.busy": "2024-08-06T23:16:30.334340Z",
     "iopub.status.idle": "2024-08-06T23:16:30.388744Z",
     "shell.execute_reply": "2024-08-06T23:16:30.387740Z"
    }
   },
   "outputs": [
    {
     "data": {
      "text/plain": [
       "{'Loss': [array(2.4103353, dtype=float32),\n",
       "  array(2.3647714, dtype=float32),\n",
       "  array(2.2973297, dtype=float32),\n",
       "  array(2.2387536, dtype=float32),\n",
       "  array(2.1762369, dtype=float32),\n",
       "  array(2.1209116, dtype=float32),\n",
       "  array(2.0810704, dtype=float32),\n",
       "  array(2.0328298, dtype=float32),\n",
       "  array(1.9762307, dtype=float32),\n",
       "  array(1.9399732, dtype=float32),\n",
       "  array(1.9035304, dtype=float32),\n",
       "  array(1.8651477, dtype=float32),\n",
       "  array(1.8128299, dtype=float32),\n",
       "  array(1.7729865, dtype=float32),\n",
       "  array(1.7268975, dtype=float32),\n",
       "  array(1.6885343, dtype=float32),\n",
       "  array(1.653461, dtype=float32),\n",
       "  array(1.6163474, dtype=float32),\n",
       "  array(1.581648, dtype=float32),\n",
       "  array(1.5362273, dtype=float32),\n",
       "  array(1.5115356, dtype=float32),\n",
       "  array(1.4674283, dtype=float32),\n",
       "  array(1.4372288, dtype=float32),\n",
       "  array(1.3994066, dtype=float32),\n",
       "  array(1.3629314, dtype=float32),\n",
       "  array(1.3334231, dtype=float32),\n",
       "  array(1.2942648, dtype=float32),\n",
       "  array(1.2599187, dtype=float32),\n",
       "  array(1.2307558, dtype=float32),\n",
       "  array(1.2054912, dtype=float32),\n",
       "  array(1.1682439, dtype=float32),\n",
       "  array(1.1448586, dtype=float32),\n",
       "  array(1.1085546, dtype=float32),\n",
       "  array(1.101331, dtype=float32),\n",
       "  array(1.0570172, dtype=float32),\n",
       "  array(1.0395898, dtype=float32),\n",
       "  array(1.0133882, dtype=float32),\n",
       "  array(0.99878186, dtype=float32),\n",
       "  array(0.96871704, dtype=float32),\n",
       "  array(0.9468588, dtype=float32),\n",
       "  array(0.92597723, dtype=float32),\n",
       "  array(0.9114613, dtype=float32),\n",
       "  array(0.896323, dtype=float32),\n",
       "  array(0.86227906, dtype=float32),\n",
       "  array(0.8519183, dtype=float32),\n",
       "  array(0.8386942, dtype=float32),\n",
       "  array(0.8216975, dtype=float32),\n",
       "  array(0.8077846, dtype=float32),\n",
       "  array(0.79719186, dtype=float32),\n",
       "  array(0.7859639, dtype=float32),\n",
       "  array(0.7539596, dtype=float32),\n",
       "  array(0.755645, dtype=float32),\n",
       "  array(0.7389761, dtype=float32),\n",
       "  array(0.73669904, dtype=float32),\n",
       "  array(0.70848835, dtype=float32),\n",
       "  array(0.71248174, dtype=float32),\n",
       "  array(0.7113226, dtype=float32),\n",
       "  array(0.70334846, dtype=float32),\n",
       "  array(0.6885099, dtype=float32),\n",
       "  array(0.6903668, dtype=float32),\n",
       "  array(0.66767067, dtype=float32),\n",
       "  array(0.6640756, dtype=float32),\n",
       "  array(0.6565001, dtype=float32),\n",
       "  array(0.6575243, dtype=float32),\n",
       "  array(0.6408886, dtype=float32),\n",
       "  array(0.6511075, dtype=float32),\n",
       "  array(0.6461131, dtype=float32),\n",
       "  array(0.62145615, dtype=float32),\n",
       "  array(0.6332103, dtype=float32),\n",
       "  array(0.6233482, dtype=float32),\n",
       "  array(0.63703257, dtype=float32),\n",
       "  array(0.6221144, dtype=float32),\n",
       "  array(0.6025245, dtype=float32),\n",
       "  array(0.6174747, dtype=float32),\n",
       "  array(0.59451395, dtype=float32),\n",
       "  array(0.6106106, dtype=float32),\n",
       "  array(0.61423063, dtype=float32),\n",
       "  array(0.59572774, dtype=float32),\n",
       "  array(0.5945792, dtype=float32),\n",
       "  array(0.579044, dtype=float32),\n",
       "  array(0.60251963, dtype=float32),\n",
       "  array(0.58689, dtype=float32),\n",
       "  array(0.5858235, dtype=float32),\n",
       "  array(0.5874331, dtype=float32),\n",
       "  array(0.5753627, dtype=float32),\n",
       "  array(0.5684402, dtype=float32),\n",
       "  array(0.5719865, dtype=float32),\n",
       "  array(0.5911804, dtype=float32),\n",
       "  array(0.57553947, dtype=float32),\n",
       "  array(0.56502867, dtype=float32),\n",
       "  array(0.5718764, dtype=float32),\n",
       "  array(0.5658993, dtype=float32),\n",
       "  array(0.5773359, dtype=float32),\n",
       "  array(0.5672288, dtype=float32),\n",
       "  array(0.5770996, dtype=float32),\n",
       "  array(0.57544506, dtype=float32),\n",
       "  array(0.55913347, dtype=float32),\n",
       "  array(0.5554536, dtype=float32),\n",
       "  array(0.5805649, dtype=float32),\n",
       "  array(0.5630755, dtype=float32),\n",
       "  array(0.5503352, dtype=float32),\n",
       "  array(0.5505491, dtype=float32),\n",
       "  array(0.5677526, dtype=float32),\n",
       "  array(0.5463941, dtype=float32),\n",
       "  array(0.5418968, dtype=float32),\n",
       "  array(0.5438572, dtype=float32),\n",
       "  array(0.5482659, dtype=float32),\n",
       "  array(0.54000527, dtype=float32),\n",
       "  array(0.554589, dtype=float32),\n",
       "  array(0.56150484, dtype=float32),\n",
       "  array(0.5338616, dtype=float32),\n",
       "  array(0.52788216, dtype=float32),\n",
       "  array(0.53795904, dtype=float32),\n",
       "  array(0.5360354, dtype=float32),\n",
       "  array(0.55238575, dtype=float32),\n",
       "  array(0.5487346, dtype=float32),\n",
       "  array(0.5263169, dtype=float32),\n",
       "  array(0.5475936, dtype=float32),\n",
       "  array(0.5371476, dtype=float32),\n",
       "  array(0.5313204, dtype=float32),\n",
       "  array(0.52835715, dtype=float32),\n",
       "  array(0.53998363, dtype=float32),\n",
       "  array(0.5257372, dtype=float32),\n",
       "  array(0.5347584, dtype=float32),\n",
       "  array(0.5385322, dtype=float32),\n",
       "  array(0.5374043, dtype=float32),\n",
       "  array(0.5437702, dtype=float32),\n",
       "  array(0.54193103, dtype=float32),\n",
       "  array(0.524469, dtype=float32),\n",
       "  array(0.53070074, dtype=float32),\n",
       "  array(0.521862, dtype=float32),\n",
       "  array(0.52744156, dtype=float32),\n",
       "  array(0.5168311, dtype=float32),\n",
       "  array(0.52566004, dtype=float32),\n",
       "  array(0.51156384, dtype=float32),\n",
       "  array(0.530784, dtype=float32),\n",
       "  array(0.53143317, dtype=float32),\n",
       "  array(0.5226622, dtype=float32),\n",
       "  array(0.5167297, dtype=float32),\n",
       "  array(0.5201395, dtype=float32),\n",
       "  array(0.52481365, dtype=float32),\n",
       "  array(0.52737516, dtype=float32),\n",
       "  array(0.51193404, dtype=float32),\n",
       "  array(0.514451, dtype=float32),\n",
       "  array(0.52018964, dtype=float32),\n",
       "  array(0.52134955, dtype=float32),\n",
       "  array(0.5266591, dtype=float32),\n",
       "  array(0.5125397, dtype=float32),\n",
       "  array(0.5286699, dtype=float32)],\n",
       " 'AUC Train': [0.9849502288949049,\n",
       "  0.9817208110479514,\n",
       "  0.97812668815701,\n",
       "  0.9740307222813808,\n",
       "  0.9706670102737911,\n",
       "  0.9681572157343378,\n",
       "  0.9653440469488016,\n",
       "  0.9632105107338399,\n",
       "  0.9611589097316929,\n",
       "  0.9595408647640132,\n",
       "  0.9581273728322096,\n",
       "  0.9567203354445634,\n",
       "  0.9550340704335676,\n",
       "  0.9535333811792821,\n",
       "  0.9520090367130352,\n",
       "  0.9506534323476352,\n",
       "  0.9500399485604772,\n",
       "  0.949028082723705,\n",
       "  0.9488691903438335,\n",
       "  0.9483098918406676,\n",
       "  0.948600325961664,\n",
       "  0.9487453417492713,\n",
       "  0.9490118233994657,\n",
       "  0.9502105343883062,\n",
       "  0.9505157149343442,\n",
       "  0.9515764818869592,\n",
       "  0.9522002527719422,\n",
       "  0.953151603759506,\n",
       "  0.9538493066728971,\n",
       "  0.9553252432842313,\n",
       "  0.9566063542199499,\n",
       "  0.9578519896523072,\n",
       "  0.9588446929071919,\n",
       "  0.9594196353345046,\n",
       "  0.9600545612569045,\n",
       "  0.960777247480714,\n",
       "  0.9614583040137851,\n",
       "  0.9617433006759594,\n",
       "  0.9620004715384599,\n",
       "  0.9626760394393258,\n",
       "  0.9629564097006449,\n",
       "  0.9630139425528906,\n",
       "  0.96354712087328,\n",
       "  0.9638984719876815,\n",
       "  0.9640762158359228,\n",
       "  0.9644528015954874,\n",
       "  0.9646070114673637,\n",
       "  0.9646798276349063,\n",
       "  0.9652019986007061,\n",
       "  0.9650645554411805,\n",
       "  0.9654464956462425,\n",
       "  0.9654936482616637,\n",
       "  0.965671420306898,\n",
       "  0.9659902232419924,\n",
       "  0.9662399013057418,\n",
       "  0.9659412329743134,\n",
       "  0.9662786440173605,\n",
       "  0.9662536846586097,\n",
       "  0.9668592946720781,\n",
       "  0.9668204002187564,\n",
       "  0.966930043624254,\n",
       "  0.9669360386836354,\n",
       "  0.9673474152587405,\n",
       "  0.9676795546975072,\n",
       "  0.9677879458467148,\n",
       "  0.9680885069335785,\n",
       "  0.9687459532035061,\n",
       "  0.9691201404832326,\n",
       "  0.9695979515980572,\n",
       "  0.9700097649540521,\n",
       "  0.9706234895486949,\n",
       "  0.9712383125496047,\n",
       "  0.9721174655664702,\n",
       "  0.9722185158881061,\n",
       "  0.9728065283245187,\n",
       "  0.9731673823706208,\n",
       "  0.9735390557005233,\n",
       "  0.9741566863101759,\n",
       "  0.9747291094236386,\n",
       "  0.9751171753178958,\n",
       "  0.9759005445689102,\n",
       "  0.9763459217696588,\n",
       "  0.9770316876165135,\n",
       "  0.9773754569524358,\n",
       "  0.9779489938184432,\n",
       "  0.9786465708780119,\n",
       "  0.9791341136414494,\n",
       "  0.9796700809255707,\n",
       "  0.9804857107637733,\n",
       "  0.9807999694364559,\n",
       "  0.9811641233195842,\n",
       "  0.981587086578447,\n",
       "  0.9821273324479196,\n",
       "  0.9825312031010542,\n",
       "  0.9830431084681608,\n",
       "  0.9834518047225771,\n",
       "  0.9839708362271276,\n",
       "  0.9842522929475644,\n",
       "  0.9844838720699193,\n",
       "  0.9849143107446463,\n",
       "  0.9852600478606588,\n",
       "  0.985453562648597,\n",
       "  0.9857629925790308,\n",
       "  0.98625763223593,\n",
       "  0.9863489819170402,\n",
       "  0.9865492696915766,\n",
       "  0.986679714259874,\n",
       "  0.9869720514054043,\n",
       "  0.9870608672008715,\n",
       "  0.9874063960951411,\n",
       "  0.9874841103787145,\n",
       "  0.9878013955382235,\n",
       "  0.987927311864476,\n",
       "  0.988111576905617,\n",
       "  0.9884210457324116,\n",
       "  0.9884653042118976,\n",
       "  0.9886855589714537,\n",
       "  0.9890357052739465,\n",
       "  0.9891314952930471,\n",
       "  0.9892527151418886,\n",
       "  0.9893637837146373,\n",
       "  0.9896290108424555,\n",
       "  0.9896424140235549,\n",
       "  0.9898469195003112,\n",
       "  0.9897782818948083,\n",
       "  0.9900313068383801,\n",
       "  0.990254820960947,\n",
       "  0.9903701788040722,\n",
       "  0.9904121383537348,\n",
       "  0.9905502969940339,\n",
       "  0.990590045661351,\n",
       "  0.9906495800268144,\n",
       "  0.9908660129177282,\n",
       "  0.9909110713972555,\n",
       "  0.9909112688766039,\n",
       "  0.9911349639848552,\n",
       "  0.991163007041931,\n",
       "  0.9911735672317941,\n",
       "  0.991275384078506,\n",
       "  0.9914667807932249,\n",
       "  0.991521200502371,\n",
       "  0.9916072833265076,\n",
       "  0.9917515151918097,\n",
       "  0.9917793375493276,\n",
       "  0.9917414428845085,\n",
       "  0.9918366708856163,\n",
       "  0.992105300943028,\n",
       "  0.9920176317870363,\n",
       "  0.9921905471798753],\n",
       " 'AUC Validation': [0.9513525893188006,\n",
       "  0.9481408886727436,\n",
       "  0.9444179816914041,\n",
       "  0.9405266258546918,\n",
       "  0.9372746485906622,\n",
       "  0.9349396063161963,\n",
       "  0.9337894611433759,\n",
       "  0.9333629740525713,\n",
       "  0.933344001179423,\n",
       "  0.9336462635508286,\n",
       "  0.9338018159566932,\n",
       "  0.9337315914475006,\n",
       "  0.9335356807192212,\n",
       "  0.932881572396228,\n",
       "  0.9320939525882304,\n",
       "  0.931355398592937,\n",
       "  0.9309129525130769,\n",
       "  0.9304317509867162,\n",
       "  0.93004477028886,\n",
       "  0.9299359959713137,\n",
       "  0.930141981132744,\n",
       "  0.930565659977603,\n",
       "  0.9310532867780318,\n",
       "  0.9317345347462993,\n",
       "  0.932394761722195,\n",
       "  0.9332613750375134,\n",
       "  0.9340229247022067,\n",
       "  0.9349583019450571,\n",
       "  0.9360091495976172,\n",
       "  0.9372542766436921,\n",
       "  0.9382242873898273,\n",
       "  0.9392977772712225,\n",
       "  0.9402760043629659,\n",
       "  0.9411745182138738,\n",
       "  0.9420126763505929,\n",
       "  0.9427651705925963,\n",
       "  0.9435015543710161,\n",
       "  0.9440331803906958,\n",
       "  0.944489221538948,\n",
       "  0.9449446274122097,\n",
       "  0.9454142553666068,\n",
       "  0.9459126552190701,\n",
       "  0.9463717579888419,\n",
       "  0.946841508958916,\n",
       "  0.9472476268568327,\n",
       "  0.9476307022659496,\n",
       "  0.9480077480708259,\n",
       "  0.9483422139268773,\n",
       "  0.9486550326958412,\n",
       "  0.9489192621083432,\n",
       "  0.9492484171756413,\n",
       "  0.9495593044148668,\n",
       "  0.9499418464500397,\n",
       "  0.9501885663251362,\n",
       "  0.9504903347977781,\n",
       "  0.9507206899156896,\n",
       "  0.9509204343265677,\n",
       "  0.9512089308764774,\n",
       "  0.951450637403712,\n",
       "  0.9517158867447023,\n",
       "  0.9519282898359813,\n",
       "  0.9521977887260017,\n",
       "  0.9524265602465753,\n",
       "  0.952673477497572,\n",
       "  0.9529172202096736,\n",
       "  0.9532350725231032,\n",
       "  0.9535864870017927,\n",
       "  0.9540261055571307,\n",
       "  0.9544824560806308,\n",
       "  0.9550073557132414,\n",
       "  0.9556219943643838,\n",
       "  0.9561784291576622,\n",
       "  0.9567443269778146,\n",
       "  0.9572031414869697,\n",
       "  0.9576687466451146,\n",
       "  0.9580765564676073,\n",
       "  0.9586926960936177,\n",
       "  0.9591939556015636,\n",
       "  0.9597270311865747,\n",
       "  0.9602612708303823,\n",
       "  0.960851859916621,\n",
       "  0.9614536645441212,\n",
       "  0.9620265503891641,\n",
       "  0.9626353531398562,\n",
       "  0.9633006522173702,\n",
       "  0.9638885009916937,\n",
       "  0.9645269541927146,\n",
       "  0.9651219846957186,\n",
       "  0.9657104173354956,\n",
       "  0.9662908392678116,\n",
       "  0.966843815851715,\n",
       "  0.9673640629212483,\n",
       "  0.9678774339652396,\n",
       "  0.9684158506339092,\n",
       "  0.9689428681558291,\n",
       "  0.9694501058584787,\n",
       "  0.9698936131780621,\n",
       "  0.9703072249339896,\n",
       "  0.9706962262102461,\n",
       "  0.9711110001889152,\n",
       "  0.9714937230754944,\n",
       "  0.9718215176261232,\n",
       "  0.9721715486374576,\n",
       "  0.9725537987399038,\n",
       "  0.9728746429047676,\n",
       "  0.9731415318427697,\n",
       "  0.9734012675109419,\n",
       "  0.9736206301682603,\n",
       "  0.9738624275802118,\n",
       "  0.9740918160152268,\n",
       "  0.9743195786236413,\n",
       "  0.9745357502175707,\n",
       "  0.9747658381894967,\n",
       "  0.9749632710072751,\n",
       "  0.9751827621884357,\n",
       "  0.9754310326118819,\n",
       "  0.9756495617002829,\n",
       "  0.975921546608617,\n",
       "  0.9760973819127898,\n",
       "  0.9762624028536934,\n",
       "  0.9764209214062239,\n",
       "  0.9765456290080573,\n",
       "  0.9767280704377046,\n",
       "  0.9768907338841367,\n",
       "  0.9770355729097504,\n",
       "  0.9771848515160749,\n",
       "  0.9773191607669265,\n",
       "  0.977452466613784,\n",
       "  0.977548591431204,\n",
       "  0.9776511626373231,\n",
       "  0.9778019045793904,\n",
       "  0.977921015885936,\n",
       "  0.9780430951752024,\n",
       "  0.978165862067023,\n",
       "  0.9782401157986595,\n",
       "  0.9783079947477374,\n",
       "  0.9784030886203396,\n",
       "  0.9785013524416999,\n",
       "  0.9786447015087751,\n",
       "  0.9787654514943052,\n",
       "  0.9788818215709085,\n",
       "  0.979025233981877,\n",
       "  0.9791704888739223,\n",
       "  0.9792668771652181,\n",
       "  0.9793437564553394,\n",
       "  0.9794520313659572,\n",
       "  0.979568708063726,\n",
       "  0.9796336575872356,\n",
       "  0.97970631854126],\n",
       " 'AUC Test': [0.9532656803649451,\n",
       "  0.9500423725634083,\n",
       "  0.9461081910350582,\n",
       "  0.9419862047184471,\n",
       "  0.9385686632550851,\n",
       "  0.9361147938782541,\n",
       "  0.9348831612021479,\n",
       "  0.9342474598671625,\n",
       "  0.9340208533165302,\n",
       "  0.9342313707047855,\n",
       "  0.9344560664895709,\n",
       "  0.9345390352098677,\n",
       "  0.9346379343209317,\n",
       "  0.9342774043763198,\n",
       "  0.9337854418247166,\n",
       "  0.9332817852392873,\n",
       "  0.9330131400045045,\n",
       "  0.9327244454946498,\n",
       "  0.9325910938620166,\n",
       "  0.9327254788867458,\n",
       "  0.9331608792818004,\n",
       "  0.9337757751116188,\n",
       "  0.9344023181697598,\n",
       "  0.9351871207304167,\n",
       "  0.9359229968558742,\n",
       "  0.936871594817025,\n",
       "  0.9376280883078811,\n",
       "  0.9385009430336128,\n",
       "  0.9394492619972528,\n",
       "  0.9405826067871048,\n",
       "  0.9414451000592267,\n",
       "  0.9424298456353761,\n",
       "  0.9433339765327264,\n",
       "  0.9441675999867609,\n",
       "  0.9449132263410185,\n",
       "  0.9455419215345638,\n",
       "  0.9461856266106418,\n",
       "  0.9466979082572778,\n",
       "  0.9471534139104576,\n",
       "  0.9476354261626774,\n",
       "  0.9481416827479363,\n",
       "  0.9487146647082804,\n",
       "  0.9492724101006145,\n",
       "  0.949818192556916,\n",
       "  0.9503341865224055,\n",
       "  0.9508259343193457,\n",
       "  0.9513081025899104,\n",
       "  0.9517470748873078,\n",
       "  0.9521492727430623,\n",
       "  0.9525064115830604,\n",
       "  0.9529238203096855,\n",
       "  0.9533047290034037,\n",
       "  0.9537428670615333,\n",
       "  0.9540728880776816,\n",
       "  0.9544903004753267,\n",
       "  0.9548710513151899,\n",
       "  0.9552419500554514,\n",
       "  0.9557024556377072,\n",
       "  0.9561032456573376,\n",
       "  0.9565324053185971,\n",
       "  0.9568749178976405,\n",
       "  0.9572414187560863,\n",
       "  0.9575966330639127,\n",
       "  0.9579323772000532,\n",
       "  0.9582502966991687,\n",
       "  0.9586529690342425,\n",
       "  0.9589972739887419,\n",
       "  0.9593932861759993,\n",
       "  0.9598270272700684,\n",
       "  0.9603124856922001,\n",
       "  0.9608708514868938,\n",
       "  0.9613730653615105,\n",
       "  0.9618731610576566,\n",
       "  0.9622717117551609,\n",
       "  0.9626770841253559,\n",
       "  0.963042514881507,\n",
       "  0.9635751991388786,\n",
       "  0.9640144017927734,\n",
       "  0.964495260426996,\n",
       "  0.9649653336048126,\n",
       "  0.9655052681264462,\n",
       "  0.9660437525952275,\n",
       "  0.9665344936149656,\n",
       "  0.9670561611416789,\n",
       "  0.9676344688341132,\n",
       "  0.9681213718025673,\n",
       "  0.9686576958761497,\n",
       "  0.9691318025870588,\n",
       "  0.9696218121560861,\n",
       "  0.9701202118410479,\n",
       "  0.9705668951157022,\n",
       "  0.9709914063480392,\n",
       "  0.9714027698226776,\n",
       "  0.9718397423319955,\n",
       "  0.9722652566705148,\n",
       "  0.9726798800108064,\n",
       "  0.9730164161694859,\n",
       "  0.9733335794385062,\n",
       "  0.9736534500846876,\n",
       "  0.9739834747718555,\n",
       "  0.9742913292522165,\n",
       "  0.974549135800805,\n",
       "  0.97483583970013,\n",
       "  0.975161177412667,\n",
       "  0.9754451216227974,\n",
       "  0.9756734067472699,\n",
       "  0.9758955355714044,\n",
       "  0.9760647448084657,\n",
       "  0.9762452057214578,\n",
       "  0.9764395706222434,\n",
       "  0.9766435343222593,\n",
       "  0.9768324780444376,\n",
       "  0.9770339041519617,\n",
       "  0.9772052031170894,\n",
       "  0.97740353180159,\n",
       "  0.9776141418830975,\n",
       "  0.9777874810175233,\n",
       "  0.9780161341617387,\n",
       "  0.9781628703328525,\n",
       "  0.9783045845487713,\n",
       "  0.9784397671025694,\n",
       "  0.978544686686236,\n",
       "  0.9787032013246332,\n",
       "  0.9788560350597669,\n",
       "  0.9789859506177929,\n",
       "  0.9791090931441413,\n",
       "  0.9792248569205317,\n",
       "  0.9793456683492565,\n",
       "  0.9794306423641627,\n",
       "  0.9795065324403767,\n",
       "  0.9796305404096616,\n",
       "  0.9797425037627219,\n",
       "  0.9798519019906414,\n",
       "  0.9799507432831424,\n",
       "  0.9799973477982677,\n",
       "  0.980030271340057,\n",
       "  0.9800900621585896,\n",
       "  0.9801828169001303,\n",
       "  0.9802997067618688,\n",
       "  0.9804018226041022,\n",
       "  0.9805111116191801,\n",
       "  0.980628178607628,\n",
       "  0.9807340783536022,\n",
       "  0.9807873411810341,\n",
       "  0.9808388483432086,\n",
       "  0.9809249264173434,\n",
       "  0.9810336445888301,\n",
       "  0.9810928058274534,\n",
       "  0.9811563851385017],\n",
       " 'ROC AUC Score': 0.9811563851385017,\n",
       " 'ROC FPR': array([0.00000000e+00, 7.42059958e-05, 1.23676660e-04, ...,\n",
       "        9.99975265e-01, 9.99975265e-01, 1.00000000e+00]),\n",
       " 'ROC TPR': array([0.        , 0.11093796, 0.11093796, ..., 0.99992579, 1.        ,\n",
       "        1.        ]),\n",
       " 'ROC Thresholds': array([2.0000000e+00, 1.0000000e+00, 9.9991894e-01, ..., 1.0434906e-05,\n",
       "        2.8386785e-06, 1.6143116e-07], dtype=float32),\n",
       " 'True Labels': array([1, 1, 1, ..., 0, 0, 0], dtype=int64),\n",
       " 'Predicted Labels': array([ True, False,  True, ..., False, False, False]),\n",
       " 'F1 Score': 0.9045951246847858}"
      ]
     },
     "execution_count": 28,
     "metadata": {},
     "output_type": "execute_result"
    }
   ],
   "source": [
    "performance_scores"
   ]
  },
  {
   "cell_type": "code",
   "execution_count": 29,
   "metadata": {
    "execution": {
     "iopub.execute_input": "2024-08-06T23:16:30.397309Z",
     "iopub.status.busy": "2024-08-06T23:16:30.396291Z",
     "iopub.status.idle": "2024-08-06T23:16:30.420447Z",
     "shell.execute_reply": "2024-08-06T23:16:30.418437Z"
    }
   },
   "outputs": [],
   "source": [
    "with open(f'{pred_output_dir}/{dataset_prefix}_{disease_prefix}_performance_scores_{embedding_method}.pkl', 'wb') as f:\n",
    "    pickle.dump(performance_scores, f)"
   ]
  },
  {
   "attachments": {},
   "cell_type": "markdown",
   "metadata": {},
   "source": [
    "# Hyperparameter Optimization of Node Embedding and GNN Training"
   ]
  },
  {
   "attachments": {},
   "cell_type": "markdown",
   "metadata": {},
   "source": [
    "The routine including node embedding and GNN training that needs to be optimized is contained in `hyperparam_opt.py`."
   ]
  },
  {
   "attachments": {},
   "cell_type": "markdown",
   "metadata": {},
   "source": [
    "# GNN Predictions"
   ]
  },
  {
   "attachments": {},
   "cell_type": "markdown",
   "metadata": {},
   "source": [
    "Load the Edge2Vec embedding"
   ]
  },
  {
   "cell_type": "code",
   "execution_count": 30,
   "metadata": {
    "execution": {
     "iopub.execute_input": "2024-08-06T23:16:30.427489Z",
     "iopub.status.busy": "2024-08-06T23:16:30.426975Z",
     "iopub.status.idle": "2024-08-06T23:16:30.467079Z",
     "shell.execute_reply": "2024-08-06T23:16:30.465073Z"
    }
   },
   "outputs": [
    {
     "data": {
      "text/html": [
       "<div>\n",
       "<style scoped>\n",
       "    .dataframe tbody tr th:only-of-type {\n",
       "        vertical-align: middle;\n",
       "    }\n",
       "\n",
       "    .dataframe tbody tr th {\n",
       "        vertical-align: top;\n",
       "    }\n",
       "\n",
       "    .dataframe thead th {\n",
       "        text-align: right;\n",
       "    }\n",
       "</style>\n",
       "<table border=\"1\" class=\"dataframe\">\n",
       "  <thead>\n",
       "    <tr style=\"text-align: right;\">\n",
       "      <th></th>\n",
       "      <th>Node</th>\n",
       "      <th>Embedding</th>\n",
       "    </tr>\n",
       "  </thead>\n",
       "  <tbody>\n",
       "    <tr>\n",
       "      <th>0</th>\n",
       "      <td>0</td>\n",
       "      <td>[-0.36822534, -1.0419636, 0.15685625, 0.353203...</td>\n",
       "    </tr>\n",
       "    <tr>\n",
       "      <th>1</th>\n",
       "      <td>1</td>\n",
       "      <td>[-1.2148598, -0.22034197, -0.22069965, -0.7424...</td>\n",
       "    </tr>\n",
       "    <tr>\n",
       "      <th>2</th>\n",
       "      <td>2</td>\n",
       "      <td>[-0.4276218, -0.37631527, -0.1278258, 0.471441...</td>\n",
       "    </tr>\n",
       "    <tr>\n",
       "      <th>3</th>\n",
       "      <td>3</td>\n",
       "      <td>[-0.43522185, 0.16255687, 0.45039496, -0.35696...</td>\n",
       "    </tr>\n",
       "    <tr>\n",
       "      <th>4</th>\n",
       "      <td>4</td>\n",
       "      <td>[-0.5819615, -0.16989481, -0.13449295, -0.1185...</td>\n",
       "    </tr>\n",
       "    <tr>\n",
       "      <th>...</th>\n",
       "      <td>...</td>\n",
       "      <td>...</td>\n",
       "    </tr>\n",
       "    <tr>\n",
       "      <th>14828</th>\n",
       "      <td>14828</td>\n",
       "      <td>[-1.0514777, 0.36091715, 0.65293604, 0.0389217...</td>\n",
       "    </tr>\n",
       "    <tr>\n",
       "      <th>14829</th>\n",
       "      <td>14829</td>\n",
       "      <td>[-0.43430686, -1.5259709, 0.12833416, 0.149288...</td>\n",
       "    </tr>\n",
       "    <tr>\n",
       "      <th>14830</th>\n",
       "      <td>14830</td>\n",
       "      <td>[-1.2081007, -0.34487432, 0.030222572, -0.2861...</td>\n",
       "    </tr>\n",
       "    <tr>\n",
       "      <th>14831</th>\n",
       "      <td>14831</td>\n",
       "      <td>[-0.6264139, -0.6350618, 0.20773192, -0.014214...</td>\n",
       "    </tr>\n",
       "    <tr>\n",
       "      <th>14832</th>\n",
       "      <td>14832</td>\n",
       "      <td>[-1.1213555, -0.11369154, -0.036389794, 0.2933...</td>\n",
       "    </tr>\n",
       "  </tbody>\n",
       "</table>\n",
       "<p>14833 rows × 2 columns</p>\n",
       "</div>"
      ],
      "text/plain": [
       "        Node                                          Embedding\n",
       "0          0  [-0.36822534, -1.0419636, 0.15685625, 0.353203...\n",
       "1          1  [-1.2148598, -0.22034197, -0.22069965, -0.7424...\n",
       "2          2  [-0.4276218, -0.37631527, -0.1278258, 0.471441...\n",
       "3          3  [-0.43522185, 0.16255687, 0.45039496, -0.35696...\n",
       "4          4  [-0.5819615, -0.16989481, -0.13449295, -0.1185...\n",
       "...      ...                                                ...\n",
       "14828  14828  [-1.0514777, 0.36091715, 0.65293604, 0.0389217...\n",
       "14829  14829  [-0.43430686, -1.5259709, 0.12833416, 0.149288...\n",
       "14830  14830  [-1.2081007, -0.34487432, 0.030222572, -0.2861...\n",
       "14831  14831  [-0.6264139, -0.6350618, 0.20773192, -0.014214...\n",
       "14832  14832  [-1.1213555, -0.11369154, -0.036389794, 0.2933...\n",
       "\n",
       "[14833 rows x 2 columns]"
      ]
     },
     "execution_count": 30,
     "metadata": {},
     "output_type": "execute_result"
    }
   ],
   "source": [
    "embedding"
   ]
  },
  {
   "attachments": {},
   "cell_type": "markdown",
   "metadata": {},
   "source": [
    "Initialize a graph with nodes and their embedding features."
   ]
  },
  {
   "cell_type": "code",
   "execution_count": 31,
   "metadata": {
    "execution": {
     "iopub.execute_input": "2024-08-06T23:16:30.472629Z",
     "iopub.status.busy": "2024-08-06T23:16:30.471630Z",
     "iopub.status.idle": "2024-08-06T23:16:30.497690Z",
     "shell.execute_reply": "2024-08-06T23:16:30.495691Z"
    }
   },
   "outputs": [
    {
     "name": "stdout",
     "output_type": "stream",
     "text": [
      "(0, {'node_feature': tensor([-3.6823e-01, -1.0420e+00,  1.5686e-01,  3.5320e-01,  1.8272e-01,\n",
      "         8.4703e-01,  2.1347e-01,  1.5856e-01,  3.9750e-01,  1.2561e-01,\n",
      "         1.6750e-01,  4.9165e-01, -9.1964e-01, -5.1454e-01,  9.0146e-01,\n",
      "         3.5664e-01, -5.0017e-01, -8.3796e-02,  2.7497e-01, -2.4140e-01,\n",
      "         2.2472e-01, -8.2301e-01,  7.8148e-02, -3.2327e-02,  2.8873e-02,\n",
      "        -3.0639e-01,  4.2547e-01,  6.7562e-01,  4.7047e-01,  6.7768e-01,\n",
      "        -3.6489e-01,  4.3961e-01, -5.0209e-02, -3.2303e-01, -1.3308e-01,\n",
      "        -6.3882e-01, -5.1489e-02, -1.5246e-01,  4.2719e-01,  4.9958e-01,\n",
      "         5.8866e-01, -1.2268e-01,  4.3092e-01,  8.8413e-01,  3.5554e-01,\n",
      "         4.8797e-01,  1.4603e-01, -1.0260e-03, -2.7754e-01, -7.0690e-01,\n",
      "         4.0878e-02,  3.0485e-01, -5.3491e-01,  6.9842e-01, -3.8943e-01,\n",
      "        -3.8155e-01,  2.1177e-01,  2.7187e-01, -5.2092e-01, -2.8076e-01,\n",
      "        -3.3632e-01,  4.5760e-01, -7.8589e-02,  4.2976e-01])})\n",
      "(0, 5364, {})\n",
      "Number of edges is 134749\n",
      "Number of nodes is 14833\n"
     ]
    }
   ],
   "source": [
    "for node in embedded_node_G.nodes(data=True):\n",
    "    print(node)\n",
    "    break\n",
    "for edge in embedded_node_G.edges(data=True):\n",
    "    print(edge)\n",
    "    break\n",
    "\n",
    "print(\"Number of edges is {}\".format(embedded_node_G.number_of_edges()))\n",
    "print(\"Number of nodes is {}\".format(embedded_node_G.number_of_nodes()))"
   ]
  },
  {
   "cell_type": "code",
   "execution_count": 32,
   "metadata": {
    "execution": {
     "iopub.execute_input": "2024-08-06T23:16:30.504235Z",
     "iopub.status.busy": "2024-08-06T23:16:30.503223Z",
     "iopub.status.idle": "2024-08-06T23:16:30.776977Z",
     "shell.execute_reply": "2024-08-06T23:16:30.775965Z"
    }
   },
   "outputs": [
    {
     "name": "stdout",
     "output_type": "stream",
     "text": [
      "torch.Size([2, 269498])\n"
     ]
    }
   ],
   "source": [
    "DeepG = Graph(embedded_node_G)\n",
    "print(DeepG.edge_index.shape)"
   ]
  },
  {
   "attachments": {},
   "cell_type": "markdown",
   "metadata": {},
   "source": [
    "Load arguments and parameters of trained GNN model."
   ]
  },
  {
   "cell_type": "code",
   "execution_count": 33,
   "metadata": {
    "execution": {
     "iopub.execute_input": "2024-08-06T23:16:30.782561Z",
     "iopub.status.busy": "2024-08-06T23:16:30.781556Z",
     "iopub.status.idle": "2024-08-06T23:16:30.823671Z",
     "shell.execute_reply": "2024-08-06T23:16:30.822664Z"
    }
   },
   "outputs": [
    {
     "data": {
      "text/plain": [
       "<All keys matched successfully>"
      ]
     },
     "execution_count": 33,
     "metadata": {},
     "output_type": "execute_result"
    }
   ],
   "source": [
    "with open(f'{run_dir}/{dataset_prefix}_{disease_prefix}_best_model_{embedding_method}_args.pkl', 'rb') as f:\n",
    "    loaded_args = pickle.load(f)\n",
    "    \n",
    "best_model = LinkPredModel(len(embedding['Embedding'][0]), loaded_args['hidden_dim'], loaded_args['output_dim'], loaded_args['layers'], loaded_args['aggr'], loaded_args['dropout'], loaded_args['device']).to(loaded_args['device'])\n",
    "best_model.load_state_dict(torch.load(f'{run_dir}/{dataset_prefix}_{disease_prefix}_best_model_{embedding_method}.pth'))"
   ]
  },
  {
   "attachments": {},
   "cell_type": "markdown",
   "metadata": {},
   "source": [
    "Get output of best model given the graph"
   ]
  },
  {
   "cell_type": "code",
   "execution_count": 34,
   "metadata": {
    "execution": {
     "iopub.execute_input": "2024-08-06T23:16:30.828991Z",
     "iopub.status.busy": "2024-08-06T23:16:30.828991Z",
     "iopub.status.idle": "2024-08-06T23:16:31.556058Z",
     "shell.execute_reply": "2024-08-06T23:16:31.554052Z"
    }
   },
   "outputs": [
    {
     "name": "stdout",
     "output_type": "stream",
     "text": [
      "torch.Size([14833, 64])\n"
     ]
    }
   ],
   "source": [
    "_, best_x = best_model(DeepG.node_feature, DeepG.edge_index, DeepG.edge_label_index, training = False)\n",
    "print(best_x.shape)"
   ]
  },
  {
   "cell_type": "code",
   "execution_count": 35,
   "metadata": {
    "execution": {
     "iopub.execute_input": "2024-08-06T23:16:31.562058Z",
     "iopub.status.busy": "2024-08-06T23:16:31.561057Z",
     "iopub.status.idle": "2024-08-06T23:16:31.586059Z",
     "shell.execute_reply": "2024-08-06T23:16:31.585056Z"
    }
   },
   "outputs": [
    {
     "data": {
      "text/html": [
       "<div>\n",
       "<style scoped>\n",
       "    .dataframe tbody tr th:only-of-type {\n",
       "        vertical-align: middle;\n",
       "    }\n",
       "\n",
       "    .dataframe tbody tr th {\n",
       "        vertical-align: top;\n",
       "    }\n",
       "\n",
       "    .dataframe thead th {\n",
       "        text-align: right;\n",
       "    }\n",
       "</style>\n",
       "<table border=\"1\" class=\"dataframe\">\n",
       "  <thead>\n",
       "    <tr style=\"text-align: right;\">\n",
       "      <th></th>\n",
       "      <th>id</th>\n",
       "      <th>semantic</th>\n",
       "      <th>label</th>\n",
       "      <th>semantic_id</th>\n",
       "    </tr>\n",
       "  </thead>\n",
       "  <tbody>\n",
       "    <tr>\n",
       "      <th>0</th>\n",
       "      <td>ENSEMBL:ENSRNOG00000061099</td>\n",
       "      <td>ORTH</td>\n",
       "      <td>A0A0G2JVI3</td>\n",
       "      <td>5</td>\n",
       "    </tr>\n",
       "    <tr>\n",
       "      <th>1</th>\n",
       "      <td>ENSEMBL:ENSSSCG00000038558</td>\n",
       "      <td>ORTH</td>\n",
       "      <td>ENSEMBL:ENSSSCG00000038558</td>\n",
       "      <td>5</td>\n",
       "    </tr>\n",
       "    <tr>\n",
       "      <th>2</th>\n",
       "      <td>MP:0002682</td>\n",
       "      <td>DISO</td>\n",
       "      <td>decreased mature ovarian follicle number</td>\n",
       "      <td>1</td>\n",
       "    </tr>\n",
       "    <tr>\n",
       "      <th>3</th>\n",
       "      <td>ENSEMBL:ENSECAG00000014460</td>\n",
       "      <td>ORTH</td>\n",
       "      <td>ENSEMBL:ENSECAG00000014460</td>\n",
       "      <td>5</td>\n",
       "    </tr>\n",
       "    <tr>\n",
       "      <th>4</th>\n",
       "      <td>HP:0000736</td>\n",
       "      <td>DISO</td>\n",
       "      <td>Short attention span</td>\n",
       "      <td>1</td>\n",
       "    </tr>\n",
       "    <tr>\n",
       "      <th>...</th>\n",
       "      <td>...</td>\n",
       "      <td>...</td>\n",
       "      <td>...</td>\n",
       "      <td>...</td>\n",
       "    </tr>\n",
       "    <tr>\n",
       "      <th>14828</th>\n",
       "      <td>ENSEMBL:ENSPTRG00000041525</td>\n",
       "      <td>ORTH</td>\n",
       "      <td>ENSEMBL:ENSPTRG00000041525</td>\n",
       "      <td>5</td>\n",
       "    </tr>\n",
       "    <tr>\n",
       "      <th>14829</th>\n",
       "      <td>RGD:1308778</td>\n",
       "      <td>ORTH</td>\n",
       "      <td>Upf3a</td>\n",
       "      <td>5</td>\n",
       "    </tr>\n",
       "    <tr>\n",
       "      <th>14830</th>\n",
       "      <td>ENSEMBL:ENSECAG00000023674</td>\n",
       "      <td>ORTH</td>\n",
       "      <td>ENSEMBL:ENSECAG00000023674</td>\n",
       "      <td>5</td>\n",
       "    </tr>\n",
       "    <tr>\n",
       "      <th>14831</th>\n",
       "      <td>dictyBase:DDB_G0292406</td>\n",
       "      <td>GENO</td>\n",
       "      <td>rab4</td>\n",
       "      <td>4</td>\n",
       "    </tr>\n",
       "    <tr>\n",
       "      <th>14832</th>\n",
       "      <td>ENSEMBL:ENSECAG00000021107</td>\n",
       "      <td>ORTH</td>\n",
       "      <td>ENSEMBL:ENSECAG00000021107</td>\n",
       "      <td>5</td>\n",
       "    </tr>\n",
       "  </tbody>\n",
       "</table>\n",
       "<p>14833 rows × 4 columns</p>\n",
       "</div>"
      ],
      "text/plain": [
       "                               id semantic  \\\n",
       "0      ENSEMBL:ENSRNOG00000061099     ORTH   \n",
       "1      ENSEMBL:ENSSSCG00000038558     ORTH   \n",
       "2                      MP:0002682     DISO   \n",
       "3      ENSEMBL:ENSECAG00000014460     ORTH   \n",
       "4                      HP:0000736     DISO   \n",
       "...                           ...      ...   \n",
       "14828  ENSEMBL:ENSPTRG00000041525     ORTH   \n",
       "14829                 RGD:1308778     ORTH   \n",
       "14830  ENSEMBL:ENSECAG00000023674     ORTH   \n",
       "14831      dictyBase:DDB_G0292406     GENO   \n",
       "14832  ENSEMBL:ENSECAG00000021107     ORTH   \n",
       "\n",
       "                                          label  semantic_id  \n",
       "0                                    A0A0G2JVI3            5  \n",
       "1                    ENSEMBL:ENSSSCG00000038558            5  \n",
       "2      decreased mature ovarian follicle number            1  \n",
       "3                    ENSEMBL:ENSECAG00000014460            5  \n",
       "4                          Short attention span            1  \n",
       "...                                         ...          ...  \n",
       "14828                ENSEMBL:ENSPTRG00000041525            5  \n",
       "14829                                     Upf3a            5  \n",
       "14830                ENSEMBL:ENSECAG00000023674            5  \n",
       "14831                                      rab4            4  \n",
       "14832                ENSEMBL:ENSECAG00000021107            5  \n",
       "\n",
       "[14833 rows x 4 columns]"
      ]
     },
     "execution_count": 35,
     "metadata": {},
     "output_type": "execute_result"
    }
   ],
   "source": [
    "nodes"
   ]
  },
  {
   "attachments": {},
   "cell_type": "markdown",
   "metadata": {},
   "source": [
    "Define the score function"
   ]
  },
  {
   "cell_type": "code",
   "execution_count": 36,
   "metadata": {
    "execution": {
     "iopub.execute_input": "2024-08-06T23:16:31.592059Z",
     "iopub.status.busy": "2024-08-06T23:16:31.591059Z",
     "iopub.status.idle": "2024-08-06T23:16:31.617067Z",
     "shell.execute_reply": "2024-08-06T23:16:31.615057Z"
    }
   },
   "outputs": [],
   "source": [
    "def score(x, id1, id2): \n",
    "    n1 = x[id1]\n",
    "    n2 = x[id2]\n",
    "    \n",
    "    score = torch.Tensor([torch.sum(n1 * n2, dim=-1)])\n",
    "    p = torch.sigmoid(score).cpu().detach().numpy()\n",
    "    return p\n",
    "\n",
    "def candidates(nodes, id, x): \n",
    "  ind = nodes[nodes['id'] == id].index.values.astype(int)[0]\n",
    "  predictions = nodes.copy()\n",
    "  scores = []\n",
    "  for i in range(len(x)):  \n",
    "    s = score(x, i, ind)\n",
    "    scores.append(s)\n",
    "    \n",
    "  predictions['Score'] = scores\n",
    "  return predictions"
   ]
  },
  {
   "attachments": {},
   "cell_type": "markdown",
   "metadata": {},
   "source": [
    "Calculate the predictions of an edge existing or not between given node ID and each node in the graph contained by semantic group DRUG. Show the top 20 highest probability that an edge exists between a pair of nodes."
   ]
  },
  {
   "cell_type": "code",
   "execution_count": 37,
   "metadata": {
    "execution": {
     "iopub.execute_input": "2024-08-06T23:16:31.623064Z",
     "iopub.status.busy": "2024-08-06T23:16:31.622063Z",
     "iopub.status.idle": "2024-08-06T23:16:32.366809Z",
     "shell.execute_reply": "2024-08-06T23:16:32.364841Z"
    }
   },
   "outputs": [
    {
     "data": {
      "text/html": [
       "<div>\n",
       "<style scoped>\n",
       "    .dataframe tbody tr th:only-of-type {\n",
       "        vertical-align: middle;\n",
       "    }\n",
       "\n",
       "    .dataframe tbody tr th {\n",
       "        vertical-align: top;\n",
       "    }\n",
       "\n",
       "    .dataframe thead th {\n",
       "        text-align: right;\n",
       "    }\n",
       "</style>\n",
       "<table border=\"1\" class=\"dataframe\">\n",
       "  <thead>\n",
       "    <tr style=\"text-align: right;\">\n",
       "      <th></th>\n",
       "      <th>id</th>\n",
       "      <th>semantic</th>\n",
       "      <th>label</th>\n",
       "      <th>semantic_id</th>\n",
       "      <th>Score</th>\n",
       "    </tr>\n",
       "  </thead>\n",
       "  <tbody>\n",
       "    <tr>\n",
       "      <th>1065</th>\n",
       "      <td>2054</td>\n",
       "      <td>DRUG</td>\n",
       "      <td>pantoprazole</td>\n",
       "      <td>2</td>\n",
       "      <td>[0.95297194]</td>\n",
       "    </tr>\n",
       "    <tr>\n",
       "      <th>1041</th>\n",
       "      <td>1990</td>\n",
       "      <td>DRUG</td>\n",
       "      <td>omeprazole</td>\n",
       "      <td>2</td>\n",
       "      <td>[0.9472377]</td>\n",
       "    </tr>\n",
       "    <tr>\n",
       "      <th>1040</th>\n",
       "      <td>1989</td>\n",
       "      <td>DRUG</td>\n",
       "      <td>omapatrilat</td>\n",
       "      <td>2</td>\n",
       "      <td>[0.93339694]</td>\n",
       "    </tr>\n",
       "    <tr>\n",
       "      <th>1043</th>\n",
       "      <td>1996</td>\n",
       "      <td>DRUG</td>\n",
       "      <td>orlistat</td>\n",
       "      <td>2</td>\n",
       "      <td>[0.9298743]</td>\n",
       "    </tr>\n",
       "    <tr>\n",
       "      <th>1106</th>\n",
       "      <td>2123</td>\n",
       "      <td>DRUG</td>\n",
       "      <td>phenelzine</td>\n",
       "      <td>2</td>\n",
       "      <td>[0.91923904]</td>\n",
       "    </tr>\n",
       "    <tr>\n",
       "      <th>1453</th>\n",
       "      <td>2817</td>\n",
       "      <td>DRUG</td>\n",
       "      <td>vesnarinone</td>\n",
       "      <td>2</td>\n",
       "      <td>[0.9184352]</td>\n",
       "    </tr>\n",
       "    <tr>\n",
       "      <th>1178</th>\n",
       "      <td>2286</td>\n",
       "      <td>DRUG</td>\n",
       "      <td>promethazine</td>\n",
       "      <td>2</td>\n",
       "      <td>[0.90241355]</td>\n",
       "    </tr>\n",
       "    <tr>\n",
       "      <th>1774</th>\n",
       "      <td>3514</td>\n",
       "      <td>DRUG</td>\n",
       "      <td>quercetin</td>\n",
       "      <td>2</td>\n",
       "      <td>[0.89862543]</td>\n",
       "    </tr>\n",
       "    <tr>\n",
       "      <th>1322</th>\n",
       "      <td>2551</td>\n",
       "      <td>DRUG</td>\n",
       "      <td>tacrine</td>\n",
       "      <td>2</td>\n",
       "      <td>[0.8885104]</td>\n",
       "    </tr>\n",
       "    <tr>\n",
       "      <th>2120</th>\n",
       "      <td>4285</td>\n",
       "      <td>DRUG</td>\n",
       "      <td>Florbetapir F-18</td>\n",
       "      <td>2</td>\n",
       "      <td>[0.8883608]</td>\n",
       "    </tr>\n",
       "    <tr>\n",
       "      <th>1465</th>\n",
       "      <td>2835</td>\n",
       "      <td>DRUG</td>\n",
       "      <td>nicotinic acid</td>\n",
       "      <td>2</td>\n",
       "      <td>[0.8854429]</td>\n",
       "    </tr>\n",
       "    <tr>\n",
       "      <th>86</th>\n",
       "      <td>186</td>\n",
       "      <td>DRUG</td>\n",
       "      <td>amodiaquine</td>\n",
       "      <td>2</td>\n",
       "      <td>[0.8844107]</td>\n",
       "    </tr>\n",
       "    <tr>\n",
       "      <th>2128</th>\n",
       "      <td>4301</td>\n",
       "      <td>DRUG</td>\n",
       "      <td>Flutemetamol (18F)</td>\n",
       "      <td>2</td>\n",
       "      <td>[0.8832903]</td>\n",
       "    </tr>\n",
       "    <tr>\n",
       "      <th>46</th>\n",
       "      <td>91</td>\n",
       "      <td>DRUG</td>\n",
       "      <td>adenosine triphosphate</td>\n",
       "      <td>2</td>\n",
       "      <td>[0.88314945]</td>\n",
       "    </tr>\n",
       "    <tr>\n",
       "      <th>429</th>\n",
       "      <td>849</td>\n",
       "      <td>DRUG</td>\n",
       "      <td>diacerein</td>\n",
       "      <td>2</td>\n",
       "      <td>[0.8820367]</td>\n",
       "    </tr>\n",
       "    <tr>\n",
       "      <th>300</th>\n",
       "      <td>607</td>\n",
       "      <td>DRUG</td>\n",
       "      <td>chloroquine</td>\n",
       "      <td>2</td>\n",
       "      <td>[0.88143766]</td>\n",
       "    </tr>\n",
       "    <tr>\n",
       "      <th>313</th>\n",
       "      <td>629</td>\n",
       "      <td>DRUG</td>\n",
       "      <td>cianidanol</td>\n",
       "      <td>2</td>\n",
       "      <td>[0.8805947]</td>\n",
       "    </tr>\n",
       "    <tr>\n",
       "      <th>711</th>\n",
       "      <td>1364</td>\n",
       "      <td>DRUG</td>\n",
       "      <td>hexachlorophene</td>\n",
       "      <td>2</td>\n",
       "      <td>[0.88039464]</td>\n",
       "    </tr>\n",
       "    <tr>\n",
       "      <th>1464</th>\n",
       "      <td>2832</td>\n",
       "      <td>DRUG</td>\n",
       "      <td>thiamine</td>\n",
       "      <td>2</td>\n",
       "      <td>[0.87915605]</td>\n",
       "    </tr>\n",
       "    <tr>\n",
       "      <th>330</th>\n",
       "      <td>681</td>\n",
       "      <td>DRUG</td>\n",
       "      <td>clioquinol</td>\n",
       "      <td>2</td>\n",
       "      <td>[0.87862676]</td>\n",
       "    </tr>\n",
       "  </tbody>\n",
       "</table>\n",
       "</div>"
      ],
      "text/plain": [
       "        id semantic                   label  semantic_id         Score\n",
       "1065  2054     DRUG            pantoprazole            2  [0.95297194]\n",
       "1041  1990     DRUG              omeprazole            2   [0.9472377]\n",
       "1040  1989     DRUG             omapatrilat            2  [0.93339694]\n",
       "1043  1996     DRUG                orlistat            2   [0.9298743]\n",
       "1106  2123     DRUG              phenelzine            2  [0.91923904]\n",
       "1453  2817     DRUG             vesnarinone            2   [0.9184352]\n",
       "1178  2286     DRUG            promethazine            2  [0.90241355]\n",
       "1774  3514     DRUG               quercetin            2  [0.89862543]\n",
       "1322  2551     DRUG                 tacrine            2   [0.8885104]\n",
       "2120  4285     DRUG        Florbetapir F-18            2   [0.8883608]\n",
       "1465  2835     DRUG          nicotinic acid            2   [0.8854429]\n",
       "86     186     DRUG             amodiaquine            2   [0.8844107]\n",
       "2128  4301     DRUG      Flutemetamol (18F)            2   [0.8832903]\n",
       "46      91     DRUG  adenosine triphosphate            2  [0.88314945]\n",
       "429    849     DRUG               diacerein            2   [0.8820367]\n",
       "300    607     DRUG             chloroquine            2  [0.88143766]\n",
       "313    629     DRUG              cianidanol            2   [0.8805947]\n",
       "711   1364     DRUG         hexachlorophene            2  [0.88039464]\n",
       "1464  2832     DRUG                thiamine            2  [0.87915605]\n",
       "330    681     DRUG              clioquinol            2  [0.87862676]"
      ]
     },
     "execution_count": 37,
     "metadata": {},
     "output_type": "execute_result"
    }
   ],
   "source": [
    "if dataset_prefix == 'prev':\n",
    "    drug_semantic = 'DRUG'\n",
    "else:\n",
    "    drug_semantic = 'drug'\n",
    "\n",
    "predictions = candidates(nodes, 'HP:0001265', best_x)\n",
    "\n",
    "predictions[predictions['semantic'] == drug_semantic].sort_values(by = ['Score'], ascending = False).head(20)"
   ]
  },
  {
   "attachments": {},
   "cell_type": "markdown",
   "metadata": {},
   "source": [
    "Use the node semantics dictionary"
   ]
  },
  {
   "cell_type": "code",
   "execution_count": 38,
   "metadata": {
    "execution": {
     "iopub.execute_input": "2024-08-06T23:16:32.371809Z",
     "iopub.status.busy": "2024-08-06T23:16:32.371809Z",
     "iopub.status.idle": "2024-08-06T23:16:32.397822Z",
     "shell.execute_reply": "2024-08-06T23:16:32.396839Z"
    }
   },
   "outputs": [
    {
     "data": {
      "text/plain": [
       "{5: 'ORTH',\n",
       " 1: 'DISO',\n",
       " 4: 'GENO',\n",
       " 2: 'DRUG',\n",
       " 3: 'GENE',\n",
       " 0: 'ANAT',\n",
       " 6: 'PHYS',\n",
       " 7: 'VARI'}"
      ]
     },
     "execution_count": 38,
     "metadata": {},
     "output_type": "execute_result"
    }
   ],
   "source": [
    "node_semantics = nodes[['semantic', 'semantic_id']].drop_duplicates().set_index('semantic_id').to_dict()\n",
    "node_semantics_dict = node_semantics['semantic']\n",
    "\n",
    "node_semantics_dict"
   ]
  },
  {
   "attachments": {},
   "cell_type": "markdown",
   "metadata": {},
   "source": [
    "Get all phenotypes and diseases relevant to the disease."
   ]
  },
  {
   "cell_type": "code",
   "execution_count": 39,
   "metadata": {
    "execution": {
     "iopub.execute_input": "2024-08-06T23:16:32.402804Z",
     "iopub.status.busy": "2024-08-06T23:16:32.402804Z",
     "iopub.status.idle": "2024-08-06T23:16:32.445394Z",
     "shell.execute_reply": "2024-08-06T23:16:32.443409Z"
    }
   },
   "outputs": [
    {
     "name": "stdout",
     "output_type": "stream",
     "text": [
      "A total of 58 symptoms found that are associated with MONDO:0007739\n",
      "                 head          label_head  class_head  index_head  \\\n",
      "2652    MONDO:0007739  Huntington disease           1        8449   \n",
      "5460    MONDO:0007739  Huntington disease           1        8449   \n",
      "7545    MONDO:0007739  Huntington disease           1        8449   \n",
      "9541    MONDO:0007739  Huntington disease           1        8449   \n",
      "14936   MONDO:0007739  Huntington disease           1        8449   \n",
      "15080   MONDO:0007739  Huntington disease           1        8449   \n",
      "17747   MONDO:0007739  Huntington disease           1        8449   \n",
      "19047   MONDO:0007739  Huntington disease           1        8449   \n",
      "22873   MONDO:0007739  Huntington disease           1        8449   \n",
      "31557   MONDO:0007739  Huntington disease           1        8449   \n",
      "31929   MONDO:0007739  Huntington disease           1        8449   \n",
      "43151   MONDO:0007739  Huntington disease           1        8449   \n",
      "51884   MONDO:0007739  Huntington disease           1        8449   \n",
      "54192   MONDO:0007739  Huntington disease           1        8449   \n",
      "59203   MONDO:0007739  Huntington disease           1        8449   \n",
      "63215   MONDO:0007739  Huntington disease           1        8449   \n",
      "69496   MONDO:0007739  Huntington disease           1        8449   \n",
      "71847   MONDO:0007739  Huntington disease           1        8449   \n",
      "73791   MONDO:0007739  Huntington disease           1        8449   \n",
      "76765   MONDO:0007739  Huntington disease           1        8449   \n",
      "76936   MONDO:0007739  Huntington disease           1        8449   \n",
      "81132   MONDO:0007739  Huntington disease           1        8449   \n",
      "84910   MONDO:0007739  Huntington disease           1        8449   \n",
      "89085   MONDO:0007739  Huntington disease           1        8449   \n",
      "95048   MONDO:0007739  Huntington disease           1        8449   \n",
      "95851   MONDO:0007739  Huntington disease           1        8449   \n",
      "100695  MONDO:0007739  Huntington disease           1        8449   \n",
      "101433  MONDO:0007739  Huntington disease           1        8449   \n",
      "103994  MONDO:0007739  Huntington disease           1        8449   \n",
      "105494  MONDO:0007739  Huntington disease           1        8449   \n",
      "108644  MONDO:0007739  Huntington disease           1        8449   \n",
      "119687  MONDO:0007739  Huntington disease           1        8449   \n",
      "121027  MONDO:0007739  Huntington disease           1        8449   \n",
      "122940  MONDO:0007739  Huntington disease           1        8449   \n",
      "123801  MONDO:0007739  Huntington disease           1        8449   \n",
      "124987  MONDO:0007739  Huntington disease           1        8449   \n",
      "131202  MONDO:0007739  Huntington disease           1        8449   \n",
      "139166  MONDO:0007739  Huntington disease           1        8449   \n",
      "155189  MONDO:0007739  Huntington disease           1        8449   \n",
      "156051  MONDO:0007739  Huntington disease           1        8449   \n",
      "161556  MONDO:0007739  Huntington disease           1        8449   \n",
      "163325  MONDO:0007739  Huntington disease           1        8449   \n",
      "164979  MONDO:0007739  Huntington disease           1        8449   \n",
      "167316  MONDO:0007739  Huntington disease           1        8449   \n",
      "169259  MONDO:0007739  Huntington disease           1        8449   \n",
      "170423  MONDO:0007739  Huntington disease           1        8449   \n",
      "171242  MONDO:0007739  Huntington disease           1        8449   \n",
      "177666  MONDO:0007739  Huntington disease           1        8449   \n",
      "178888  MONDO:0007739  Huntington disease           1        8449   \n",
      "182516  MONDO:0007739  Huntington disease           1        8449   \n",
      "195340  MONDO:0007739  Huntington disease           1        8449   \n",
      "196498  MONDO:0007739  Huntington disease           1        8449   \n",
      "200375  MONDO:0007739  Huntington disease           1        8449   \n",
      "201190  MONDO:0007739  Huntington disease           1        8449   \n",
      "202312  MONDO:0007739  Huntington disease           1        8449   \n",
      "214611  MONDO:0007739  Huntington disease           1        8449   \n",
      "221067  MONDO:0007739  Huntington disease           1        8449   \n",
      "221848  MONDO:0007739  Huntington disease           1        8449   \n",
      "\n",
      "             relation        tail  \\\n",
      "2652    has phenotype  HP:0030842   \n",
      "5460    has phenotype  HP:0000738   \n",
      "7545    has phenotype  HP:0003107   \n",
      "9541    has phenotype  HP:0002169   \n",
      "14936   has phenotype  HP:0002067   \n",
      "15080   has phenotype  HP:0000496   \n",
      "17747   has phenotype  HP:0031589   \n",
      "19047   has phenotype  HP:0001824   \n",
      "22873   has phenotype  HP:0031843   \n",
      "31557   has phenotype  HP:0000741   \n",
      "31929   has phenotype  HP:0001336   \n",
      "43151   has phenotype  HP:0004305   \n",
      "51884   has phenotype  HP:0002540   \n",
      "54192   has phenotype  HP:0000722   \n",
      "59203   has phenotype  HP:0002171   \n",
      "63215   has phenotype  HP:0000718   \n",
      "69496   has phenotype  HP:0010794   \n",
      "71847   has phenotype  HP:0002354   \n",
      "73791   has phenotype  HP:0002529   \n",
      "76765   has phenotype  HP:0001272   \n",
      "76936   has phenotype  HP:0031845   \n",
      "81132   has phenotype  HP:0009088   \n",
      "84910   has phenotype  HP:0002500   \n",
      "89085   has phenotype  HP:0031473   \n",
      "95048   has phenotype  HP:0002072   \n",
      "95851   has phenotype  HP:0002355   \n",
      "100695  has phenotype  HP:0002591   \n",
      "101433  has phenotype  HP:0001262   \n",
      "103994  has phenotype  HP:0000751   \n",
      "105494  has phenotype  HP:0002059   \n",
      "108644  has phenotype  HP:0000716   \n",
      "119687  has phenotype  HP:0003324   \n",
      "121027  has phenotype  HP:0002312   \n",
      "122940  has phenotype  HP:0002066   \n",
      "123801  has phenotype  HP:0000734   \n",
      "124987  has phenotype  HP:0030955   \n",
      "131202  has phenotype  HP:0001268   \n",
      "139166  has phenotype  HP:0007010   \n",
      "155189  has phenotype  HP:0002063   \n",
      "156051  has phenotype  HP:0002340   \n",
      "161556  has phenotype  HP:0001332   \n",
      "163325  has phenotype  HP:0000746   \n",
      "164979  has phenotype  HP:0002141   \n",
      "167316  has phenotype  HP:0001347   \n",
      "169259  has phenotype  HP:0000737   \n",
      "170423  has phenotype  HP:0200136   \n",
      "171242  has phenotype  HP:0000713   \n",
      "177666  has phenotype  HP:0040140   \n",
      "178888  has phenotype  HP:0002300   \n",
      "182516  has phenotype  HP:0001250   \n",
      "195340  has phenotype  HP:0000739   \n",
      "196498  has phenotype  HP:0025401   \n",
      "200375  has phenotype  HP:0003487   \n",
      "201190  has phenotype  HP:0045082   \n",
      "202312  has phenotype  HP:0004408   \n",
      "214611  has phenotype  HP:0100785   \n",
      "221067  has phenotype  HP:0001288   \n",
      "221848  has phenotype  HP:0000726   \n",
      "\n",
      "                                            label_tail  class_tail  \\\n",
      "2652                                  Choking episodes           1   \n",
      "5460                                    Hallucinations           1   \n",
      "7545    Abnormal circulating cholesterol concentration           1   \n",
      "9541                                            Clonus           1   \n",
      "14936                                     Bradykinesia           1   \n",
      "15080                      Abnormality of eye movement           1   \n",
      "17747                                Suicidal ideation           1   \n",
      "19047                                      Weight loss           1   \n",
      "22873                                     Bradyphrenia           1   \n",
      "31557                                           Apathy           1   \n",
      "31929                                        Myoclonus           1   \n",
      "43151                            Involuntary movements           1   \n",
      "51884                                Inability to walk           1   \n",
      "54192                    Obsessive-compulsive behavior           1   \n",
      "59203                                          Gliosis           1   \n",
      "63215                              Aggressive behavior           1   \n",
      "69496     Impaired visuospatial constructive cognition           1   \n",
      "71847                                Memory impairment           1   \n",
      "73791          Neuronal loss in central nervous system           1   \n",
      "76765                               Cerebellar atrophy           1   \n",
      "76936                                  Abnormal libido           1   \n",
      "81132                 Speech articulation difficulties           1   \n",
      "84910        Abnormal cerebral white matter morphology           1   \n",
      "89085                                        Hostility           1   \n",
      "95048                                           Chorea           1   \n",
      "95851                               Difficulty walking           1   \n",
      "100695                                      Polyphagia           1   \n",
      "101433                    Excessive daytime somnolence           1   \n",
      "103994                             Personality changes           1   \n",
      "105494                                Cerebral atrophy           1   \n",
      "108644                                      Depression           1   \n",
      "119687                     Generalized muscle weakness           1   \n",
      "121027                                      Clumsiness           1   \n",
      "122940                                     Gait ataxia           1   \n",
      "123801                                   Disinhibition           1   \n",
      "124987                                      Alcoholism           1   \n",
      "131202                            Mental deterioration           1   \n",
      "139166                    Poor fine motor coordination           1   \n",
      "155189                                        Rigidity           1   \n",
      "156051                                 Caudate atrophy           1   \n",
      "161556                                        Dystonia           1   \n",
      "163325                                       Delusions           1   \n",
      "164979                                  Gait imbalance           1   \n",
      "167316                                   Hyperreflexia           1   \n",
      "169259                                    Irritability           1   \n",
      "170423                       Oral-pharyngeal dysphagia           1   \n",
      "171242                                       Agitation           1   \n",
      "177666                    Degeneration of the striatum           1   \n",
      "178888                                          Mutism           1   \n",
      "182516                                         Seizure           1   \n",
      "195340                                         Anxiety           1   \n",
      "196498                                    Staring gaze           1   \n",
      "200375                                   Babinski sign           1   \n",
      "201190                       Decreased body mass index           1   \n",
      "202312               Abnormality of the sense of smell           1   \n",
      "214611                                        Insomnia           1   \n",
      "221067                                Gait disturbance           1   \n",
      "221848                                        Dementia           1   \n",
      "\n",
      "        index_tail  type  \n",
      "2652           633     3  \n",
      "5460          1534     3  \n",
      "7545         13107     3  \n",
      "9541          4187     3  \n",
      "14936        11657     3  \n",
      "15080        12076     3  \n",
      "17747        10273     3  \n",
      "19047        14007     3  \n",
      "22873         6908     3  \n",
      "31557          722     3  \n",
      "31929        11383     3  \n",
      "43151         4547     3  \n",
      "51884         6006     3  \n",
      "54192         4851     3  \n",
      "59203          828     3  \n",
      "63215        11586     3  \n",
      "69496         2096     3  \n",
      "71847         6259     3  \n",
      "73791         8106     3  \n",
      "76765        13638     3  \n",
      "76936        11576     3  \n",
      "81132         6559     3  \n",
      "84910          817     3  \n",
      "89085         5731     3  \n",
      "95048        14063     3  \n",
      "95851         6956     3  \n",
      "100695       10953     3  \n",
      "101433        3072     3  \n",
      "103994       13386     3  \n",
      "105494        9536     3  \n",
      "108644       14189     3  \n",
      "119687       11379     3  \n",
      "121027        8923     3  \n",
      "122940        9556     3  \n",
      "123801        6011     3  \n",
      "124987        5639     3  \n",
      "131202       11853     3  \n",
      "139166        2962     3  \n",
      "155189       10668     3  \n",
      "156051        6538     3  \n",
      "161556         838     3  \n",
      "163325       11103     3  \n",
      "164979        6457     3  \n",
      "167316        7735     3  \n",
      "169259         397     3  \n",
      "170423        9001     3  \n",
      "171242       10164     3  \n",
      "177666        5865     3  \n",
      "178888        7097     3  \n",
      "182516       12806     3  \n",
      "195340        5117     3  \n",
      "196498         152     3  \n",
      "200375       13199     3  \n",
      "201190        9632     3  \n",
      "202312        3305     3  \n",
      "214611        3326     3  \n",
      "221067         562     3  \n",
      "221848       12887     3  \n"
     ]
    }
   ],
   "source": [
    "if disease_prefix == 'dmd':\n",
    "    disease_ID = 'MONDO:0010679'\n",
    "elif disease_prefix == 'hd':\n",
    "    disease_ID = 'MONDO:0007739'\n",
    "elif disease_prefix == 'oi':\n",
    "    disease_ID = 'MONDO:0019019'\n",
    "\n",
    "if dataset_prefix == 'prev':\n",
    "    pheno_rel = 'has phenotype'\n",
    "else:\n",
    "    pheno_rel = 'associated with phenotype'\n",
    "\n",
    "relation_index = list(relation_labels).index(pheno_rel)\n",
    "\n",
    "symptoms = edges[(edges['head'] == disease_ID) & (edges['type'] == relation_index)]\n",
    "\n",
    "print(f'A total of {symptoms.shape[0]} symptoms found that are associated with {disease_ID}')\n",
    "\n",
    "print(symptoms.head(symptoms.shape[0]))"
   ]
  },
  {
   "attachments": {},
   "cell_type": "markdown",
   "metadata": {},
   "source": [
    "Check alignment between dataframes containing the associations and the nodes"
   ]
  },
  {
   "cell_type": "code",
   "execution_count": 40,
   "metadata": {
    "execution": {
     "iopub.execute_input": "2024-08-06T23:16:32.450403Z",
     "iopub.status.busy": "2024-08-06T23:16:32.449395Z",
     "iopub.status.idle": "2024-08-06T23:16:32.475401Z",
     "shell.execute_reply": "2024-08-06T23:16:32.474398Z"
    }
   },
   "outputs": [
    {
     "data": {
      "text/html": [
       "<div>\n",
       "<style scoped>\n",
       "    .dataframe tbody tr th:only-of-type {\n",
       "        vertical-align: middle;\n",
       "    }\n",
       "\n",
       "    .dataframe tbody tr th {\n",
       "        vertical-align: top;\n",
       "    }\n",
       "\n",
       "    .dataframe thead th {\n",
       "        text-align: right;\n",
       "    }\n",
       "</style>\n",
       "<table border=\"1\" class=\"dataframe\">\n",
       "  <thead>\n",
       "    <tr style=\"text-align: right;\">\n",
       "      <th></th>\n",
       "      <th>id</th>\n",
       "      <th>semantic</th>\n",
       "      <th>label</th>\n",
       "      <th>semantic_id</th>\n",
       "    </tr>\n",
       "  </thead>\n",
       "  <tbody>\n",
       "    <tr>\n",
       "      <th>6315</th>\n",
       "      <td>ENSEMBL:ENSGALG00000006045</td>\n",
       "      <td>ORTH</td>\n",
       "      <td>SH3GL3</td>\n",
       "      <td>5</td>\n",
       "    </tr>\n",
       "  </tbody>\n",
       "</table>\n",
       "</div>"
      ],
      "text/plain": [
       "                              id semantic   label  semantic_id\n",
       "6315  ENSEMBL:ENSGALG00000006045     ORTH  SH3GL3            5"
      ]
     },
     "execution_count": 40,
     "metadata": {},
     "output_type": "execute_result"
    }
   ],
   "source": [
    "nodes.loc[[6315]]"
   ]
  },
  {
   "cell_type": "markdown",
   "metadata": {},
   "source": [
    "Get list of drugs that appear at least once in the top 3 of suggested drugs for an associated phenotype"
   ]
  },
  {
   "cell_type": "code",
   "execution_count": 41,
   "metadata": {
    "execution": {
     "iopub.execute_input": "2024-08-06T23:16:32.481379Z",
     "iopub.status.busy": "2024-08-06T23:16:32.480402Z",
     "iopub.status.idle": "2024-08-06T23:17:21.335359Z",
     "shell.execute_reply": "2024-08-06T23:17:21.333358Z"
    }
   },
   "outputs": [],
   "source": [
    "def add_drug_candidate(candidates, drug_name):\n",
    "    if drug_name in candidates:\n",
    "        candidates[drug_name] += 1\n",
    "    else:\n",
    "        candidates[drug_name] = 1\n",
    "        \n",
    "    return candidates\n",
    "\n",
    "\n",
    "if dataset_prefix == 'prev':\n",
    "    treats_rel = 'is substance that treats'\n",
    "else:\n",
    "    treats_rel = 'is substance that treats'\n",
    "\n",
    "relation_treats_index = list(relation_labels).index(treats_rel)\n",
    "\n",
    "drug_candidates = {}\n",
    "symptom_drugs = {}\n",
    "symptom_drugs_scores = []\n",
    "\n",
    "for ind, symptom in symptoms.iterrows(): \n",
    "    symptom_id = symptom['tail']\n",
    "    symptom_drugs[symptom_id] = []\n",
    "    \n",
    "    predictions = candidates(nodes, symptom_id, best_x)\n",
    "    \n",
    "    predictions_drugs = predictions[predictions['semantic'] == drug_semantic]\n",
    "    \n",
    "    symptom_treated_by = edges.loc[(edges['tail'] == symptom_id) & (edges['type'] == relation_treats_index)]\n",
    "    \n",
    "    merged_df = pd.merge(predictions_drugs, symptom_treated_by, how='left', left_on='id', right_on='head', indicator=True)\n",
    "    result_df = merged_df[merged_df['_merge'] == 'left_only']\n",
    "    result_df = result_df.drop('_merge', axis=1)\n",
    "    \n",
    "    ordered_predictions = result_df.sort_values(by = ['Score'], ascending = False).head(3)\n",
    "    \n",
    "    for ind, drug in ordered_predictions.iterrows():\n",
    "        symptom_drugs_scores.append({'Symptom': symptom['label_tail'], 'Symptom ID': symptom['tail'], 'Drug Candidate': drug['label'], 'Score': drug['Score'][0]})\n",
    "        \n",
    "        symptom_drugs[symptom_id].append(drug['id'])\n",
    "        drug_candidates = add_drug_candidate(drug_candidates, drug['label'])"
   ]
  },
  {
   "cell_type": "code",
   "execution_count": 42,
   "metadata": {
    "execution": {
     "iopub.execute_input": "2024-08-06T23:17:21.342357Z",
     "iopub.status.busy": "2024-08-06T23:17:21.341356Z",
     "iopub.status.idle": "2024-08-06T23:17:21.366353Z",
     "shell.execute_reply": "2024-08-06T23:17:21.364362Z"
    }
   },
   "outputs": [
    {
     "name": "stdout",
     "output_type": "stream",
     "text": [
      "              Symptom  Symptom ID          Drug Candidate     Score\n",
      "0    Choking episodes  HP:0030842             ganciclovir  0.852467\n",
      "1    Choking episodes  HP:0030842           glutamic acid  0.851424\n",
      "2    Choking episodes  HP:0030842             vesnarinone  0.834515\n",
      "3      Hallucinations  HP:0000738             omapatrilat  0.958557\n",
      "4      Hallucinations  HP:0000738             vesnarinone  0.958016\n",
      "..                ...         ...                     ...       ...\n",
      "169  Gait disturbance  HP:0001288               memantine  0.862045\n",
      "170  Gait disturbance  HP:0001288  adenosine triphosphate  0.853539\n",
      "171          Dementia  HP:0000726             omapatrilat  0.951251\n",
      "172          Dementia  HP:0000726             vesnarinone  0.946062\n",
      "173          Dementia  HP:0000726           glutamic acid  0.934763\n",
      "\n",
      "[174 rows x 4 columns]\n"
     ]
    }
   ],
   "source": [
    "symptom_drugs_scores_df = pd.DataFrame.from_dict(symptom_drugs_scores)\n",
    "symptom_drugs_scores_df.to_pickle(f'{pred_output_dir}/{dataset_prefix}_{disease_prefix}_score_per_symptom_drug_pair_{embedding_method}.pkl')\n",
    "\n",
    "print(symptom_drugs_scores_df)"
   ]
  },
  {
   "cell_type": "markdown",
   "metadata": {},
   "source": [
    "Get list of drug candidate ids per relevant symptom id."
   ]
  },
  {
   "cell_type": "code",
   "execution_count": 43,
   "metadata": {
    "execution": {
     "iopub.execute_input": "2024-08-06T23:17:21.373356Z",
     "iopub.status.busy": "2024-08-06T23:17:21.372354Z",
     "iopub.status.idle": "2024-08-06T23:17:21.395357Z",
     "shell.execute_reply": "2024-08-06T23:17:21.394356Z"
    }
   },
   "outputs": [
    {
     "name": "stdout",
     "output_type": "stream",
     "text": [
      "       Symptom          Candidates\n",
      "0   HP:0030842  [1277, 1310, 2817]\n",
      "1   HP:0000738  [1989, 2817, 1310]\n",
      "2   HP:0003107  [1277, 1310, 2123]\n",
      "3   HP:0002169  [2123, 1277, 1310]\n",
      "4   HP:0002067  [2817, 2123, 1989]\n",
      "5   HP:0000496  [1277, 1310, 2123]\n",
      "6   HP:0031589  [2817, 1310, 1277]\n",
      "7   HP:0001824    [91, 2817, 1679]\n",
      "8   HP:0031843  [1277, 1310, 2817]\n",
      "9   HP:0000741  [1989, 2817, 1310]\n",
      "10  HP:0001336  [1989, 1679, 1310]\n",
      "11  HP:0004305  [1679, 2123, 1989]\n",
      "12  HP:0002540  [1989, 1277, 1310]\n",
      "13  HP:0000722  [2123, 2054, 1990]\n",
      "14  HP:0002171    [578, 434, 2123]\n",
      "15  HP:0000718   [2054, 1990, 849]\n",
      "16  HP:0010794  [1277, 1310, 2817]\n",
      "17  HP:0002354  [1989, 2817, 1364]\n",
      "18  HP:0002529  [1989, 2817, 1310]\n",
      "19  HP:0001272  [1989, 2054, 1990]\n",
      "20  HP:0031845  [1310, 1277, 2817]\n",
      "21  HP:0009088  [1277, 1310, 2817]\n",
      "22  HP:0002500  [1989, 2123, 1679]\n",
      "23  HP:0031473  [1277, 1310, 2123]\n",
      "24  HP:0002072  [1989, 2123, 1277]\n",
      "25  HP:0002355  [1989, 2123, 2054]\n",
      "26  HP:0002591  [1989, 1679, 2286]\n",
      "27  HP:0001262  [1277, 1310, 1989]\n",
      "28  HP:0000751  [2817, 1989, 2123]\n",
      "29  HP:0002059  [1989, 2054, 1990]\n",
      "30  HP:0000716  [1989, 2054, 1990]\n",
      "31  HP:0003324  [2817, 1989, 2286]\n",
      "32  HP:0002312  [2817, 2123, 1989]\n",
      "33  HP:0002066  [2123, 1989, 1310]\n",
      "34  HP:0000734  [2817, 1989, 2123]\n",
      "35  HP:0030955  [2817, 1277, 1310]\n",
      "36  HP:0001268   [1989, 849, 2817]\n",
      "37  HP:0007010  [2817, 2123, 1277]\n",
      "38  HP:0002063  [1989, 1310, 1277]\n",
      "39  HP:0002340  [2123, 1310, 1277]\n",
      "40  HP:0001332  [1989, 2123, 2054]\n",
      "41  HP:0000746  [1277, 1310, 1989]\n",
      "42  HP:0002141  [1989, 2817, 1310]\n",
      "43  HP:0001347  [1989, 2123, 1310]\n",
      "44  HP:0000737  [2817, 2123, 1277]\n",
      "45  HP:0200136   [1679, 1989, 759]\n",
      "46  HP:0000713  [1989, 2817, 2286]\n",
      "47  HP:0040140  [2817, 1310, 1277]\n",
      "48  HP:0002300  [2817, 1989, 1310]\n",
      "49  HP:0001250  [2054, 1990, 2286]\n",
      "50  HP:0000739  [2817, 1989, 2054]\n",
      "51  HP:0025401  [1277, 1310, 2817]\n",
      "52  HP:0003487  [1989, 2817, 2123]\n",
      "53  HP:0045082  [2817, 1277, 1310]\n",
      "54  HP:0004408  [1310, 1277, 1989]\n",
      "55  HP:0100785  [2817, 1310, 1277]\n",
      "56  HP:0001288     [578, 1679, 91]\n",
      "57  HP:0000726  [1989, 2817, 1310]\n"
     ]
    }
   ],
   "source": [
    "symptom_drugs_df_dict = {\n",
    "    'Symptom': [],\n",
    "    'Candidates': [] \n",
    "}\n",
    "for key, val in symptom_drugs.items():\n",
    "    symptom_drugs_df_dict['Symptom'].append(key)\n",
    "    symptom_drugs_df_dict['Candidates'].append(val)\n",
    "    \n",
    "symptom_drugs_df = pd.DataFrame.from_dict(symptom_drugs_df_dict)\n",
    "symptom_drugs_df.to_pickle(f'{pred_output_dir}/{dataset_prefix}_{disease_prefix}_candidates_per_symptom_{embedding_method}.pkl')\n",
    "\n",
    "print(symptom_drugs_df)"
   ]
  },
  {
   "cell_type": "markdown",
   "metadata": {},
   "source": [
    "Save dataframe as csv file with all drugs and their total of appearances as a candidate for one or more relevant symptoms."
   ]
  },
  {
   "cell_type": "code",
   "execution_count": 44,
   "metadata": {
    "execution": {
     "iopub.execute_input": "2024-08-06T23:17:21.403356Z",
     "iopub.status.busy": "2024-08-06T23:17:21.401355Z",
     "iopub.status.idle": "2024-08-06T23:17:21.427927Z",
     "shell.execute_reply": "2024-08-06T23:17:21.425910Z"
    }
   },
   "outputs": [
    {
     "name": "stdout",
     "output_type": "stream",
     "text": [
      "                      Drug  Appearances Percentage\n",
      "3              omapatrilat           34     58.62%\n",
      "1            glutamic acid           30     51.72%\n",
      "2              vesnarinone           30     51.72%\n",
      "0              ganciclovir           24     41.38%\n",
      "4               phenelzine           21     36.21%\n",
      "7             pantoprazole            9     15.52%\n",
      "6                memantine            7     12.07%\n",
      "8               omeprazole            6     10.34%\n",
      "13            promethazine            4      6.90%\n",
      "5   adenosine triphosphate            2      3.45%\n",
      "9                cerulenin            2      3.45%\n",
      "11               diacerein            2      3.45%\n",
      "10           buprenorphine            1      1.72%\n",
      "12         hexachlorophene            1      1.72%\n",
      "14             cycloserine            1      1.72%\n"
     ]
    }
   ],
   "source": [
    "drug_candidate_df_dict = {\n",
    "    'Drug': [],\n",
    "    'Appearances': [],\n",
    "    'Percentage': []\n",
    "}\n",
    "for key, val in drug_candidates.items():\n",
    "    drug_candidate_df_dict['Drug'].append(key)\n",
    "    drug_candidate_df_dict['Appearances'].append(val)\n",
    "    drug_candidate_df_dict['Percentage'].append(val/symptoms.shape[0]*100)\n",
    "    \n",
    "drug_candidates_df = pd.DataFrame.from_dict(drug_candidate_df_dict)\n",
    "drug_candidates_df['Percentage'] = drug_candidates_df['Percentage'].transform(lambda x: '{:,.2f}%'.format(x))\n",
    "drug_candidates_df = drug_candidates_df.sort_values(by = ['Appearances'], ascending = False)\n",
    "\n",
    "drug_candidates_df.to_pickle(f'{pred_output_dir}/{dataset_prefix}_{disease_prefix}_drug_candidates_{embedding_method}.pkl')\n",
    "\n",
    "print(drug_candidates_df)"
   ]
  },
  {
   "attachments": {},
   "cell_type": "markdown",
   "metadata": {},
   "source": [
    "## Component Analysis"
   ]
  },
  {
   "cell_type": "code",
   "execution_count": 45,
   "metadata": {
    "execution": {
     "iopub.execute_input": "2024-08-06T23:17:21.433928Z",
     "iopub.status.busy": "2024-08-06T23:17:21.433928Z",
     "iopub.status.idle": "2024-08-06T23:17:21.457923Z",
     "shell.execute_reply": "2024-08-06T23:17:21.455925Z"
    }
   },
   "outputs": [],
   "source": [
    "X_data = best_x.detach().cpu().numpy()\n",
    "np.save(f'{pred_output_dir}/{dataset_prefix}_{disease_prefix}_trained_node_embeddings_{embedding_method}.npy', X_data)"
   ]
  },
  {
   "cell_type": "code",
   "execution_count": 46,
   "metadata": {
    "execution": {
     "iopub.execute_input": "2024-08-06T23:17:21.461926Z",
     "iopub.status.busy": "2024-08-06T23:17:21.461926Z",
     "iopub.status.idle": "2024-08-06T23:17:21.502923Z",
     "shell.execute_reply": "2024-08-06T23:17:21.501925Z"
    }
   },
   "outputs": [],
   "source": [
    "z = StandardScaler().fit_transform(X_data)"
   ]
  },
  {
   "attachments": {},
   "cell_type": "markdown",
   "metadata": {},
   "source": [
    "### PCA"
   ]
  },
  {
   "cell_type": "code",
   "execution_count": 47,
   "metadata": {
    "execution": {
     "iopub.execute_input": "2024-08-06T23:17:21.508930Z",
     "iopub.status.busy": "2024-08-06T23:17:21.508930Z",
     "iopub.status.idle": "2024-08-06T23:17:21.703042Z",
     "shell.execute_reply": "2024-08-06T23:17:21.702044Z"
    }
   },
   "outputs": [
    {
     "data": {
      "text/html": [
       "<div>\n",
       "<style scoped>\n",
       "    .dataframe tbody tr th:only-of-type {\n",
       "        vertical-align: middle;\n",
       "    }\n",
       "\n",
       "    .dataframe tbody tr th {\n",
       "        vertical-align: top;\n",
       "    }\n",
       "\n",
       "    .dataframe thead th {\n",
       "        text-align: right;\n",
       "    }\n",
       "</style>\n",
       "<table border=\"1\" class=\"dataframe\">\n",
       "  <thead>\n",
       "    <tr style=\"text-align: right;\">\n",
       "      <th></th>\n",
       "      <th>principal component 1</th>\n",
       "      <th>principal component 2</th>\n",
       "    </tr>\n",
       "  </thead>\n",
       "  <tbody>\n",
       "    <tr>\n",
       "      <th>0</th>\n",
       "      <td>-0.867509</td>\n",
       "      <td>-2.247633</td>\n",
       "    </tr>\n",
       "    <tr>\n",
       "      <th>1</th>\n",
       "      <td>-0.700480</td>\n",
       "      <td>0.910057</td>\n",
       "    </tr>\n",
       "    <tr>\n",
       "      <th>2</th>\n",
       "      <td>-0.682463</td>\n",
       "      <td>0.019283</td>\n",
       "    </tr>\n",
       "    <tr>\n",
       "      <th>3</th>\n",
       "      <td>-0.778517</td>\n",
       "      <td>-0.394189</td>\n",
       "    </tr>\n",
       "    <tr>\n",
       "      <th>4</th>\n",
       "      <td>-0.881471</td>\n",
       "      <td>0.734681</td>\n",
       "    </tr>\n",
       "    <tr>\n",
       "      <th>...</th>\n",
       "      <td>...</td>\n",
       "      <td>...</td>\n",
       "    </tr>\n",
       "    <tr>\n",
       "      <th>14828</th>\n",
       "      <td>-0.751435</td>\n",
       "      <td>0.346862</td>\n",
       "    </tr>\n",
       "    <tr>\n",
       "      <th>14829</th>\n",
       "      <td>-0.603838</td>\n",
       "      <td>-1.014859</td>\n",
       "    </tr>\n",
       "    <tr>\n",
       "      <th>14830</th>\n",
       "      <td>-0.772998</td>\n",
       "      <td>1.714419</td>\n",
       "    </tr>\n",
       "    <tr>\n",
       "      <th>14831</th>\n",
       "      <td>-0.924257</td>\n",
       "      <td>-0.474357</td>\n",
       "    </tr>\n",
       "    <tr>\n",
       "      <th>14832</th>\n",
       "      <td>-0.735252</td>\n",
       "      <td>1.209969</td>\n",
       "    </tr>\n",
       "  </tbody>\n",
       "</table>\n",
       "<p>14833 rows × 2 columns</p>\n",
       "</div>"
      ],
      "text/plain": [
       "       principal component 1  principal component 2\n",
       "0                  -0.867509              -2.247633\n",
       "1                  -0.700480               0.910057\n",
       "2                  -0.682463               0.019283\n",
       "3                  -0.778517              -0.394189\n",
       "4                  -0.881471               0.734681\n",
       "...                      ...                    ...\n",
       "14828              -0.751435               0.346862\n",
       "14829              -0.603838              -1.014859\n",
       "14830              -0.772998               1.714419\n",
       "14831              -0.924257              -0.474357\n",
       "14832              -0.735252               1.209969\n",
       "\n",
       "[14833 rows x 2 columns]"
      ]
     },
     "execution_count": 47,
     "metadata": {},
     "output_type": "execute_result"
    }
   ],
   "source": [
    "pca = PCA(n_components=32)\n",
    "princ_comp = pca.fit_transform(z)\n",
    "princ_df = pd.DataFrame(data=princ_comp[:, [0,1]], columns=['principal component 1', 'principal component 2'])\n",
    "princ_df"
   ]
  },
  {
   "attachments": {},
   "cell_type": "markdown",
   "metadata": {},
   "source": [
    "Based on plot below, choose the number of components for PCA analysis yielding an amount of variance close to 1.0."
   ]
  },
  {
   "cell_type": "code",
   "execution_count": 48,
   "metadata": {
    "execution": {
     "iopub.execute_input": "2024-08-06T23:17:21.710046Z",
     "iopub.status.busy": "2024-08-06T23:17:21.709045Z",
     "iopub.status.idle": "2024-08-06T23:17:21.935266Z",
     "shell.execute_reply": "2024-08-06T23:17:21.933261Z"
    }
   },
   "outputs": [
    {
     "data": {
      "image/png": "[encoded data removed]",
      "text/plain": [
       "<Figure size 640x480 with 1 Axes>"
      ]
     },
     "metadata": {},
     "output_type": "display_data"
    }
   ],
   "source": [
    "plt.plot(np.cumsum(pca.explained_variance_ratio_))\n",
    "plt.xlabel('number of components')\n",
    "plt.ylabel('cumulative explained variance')\n",
    "plt.show()"
   ]
  },
  {
   "cell_type": "code",
   "execution_count": 49,
   "metadata": {
    "execution": {
     "iopub.execute_input": "2024-08-06T23:17:21.940273Z",
     "iopub.status.busy": "2024-08-06T23:17:21.940273Z",
     "iopub.status.idle": "2024-08-06T23:17:21.964804Z",
     "shell.execute_reply": "2024-08-06T23:17:21.963804Z"
    }
   },
   "outputs": [
    {
     "data": {
      "text/html": [
       "<div>\n",
       "<style scoped>\n",
       "    .dataframe tbody tr th:only-of-type {\n",
       "        vertical-align: middle;\n",
       "    }\n",
       "\n",
       "    .dataframe tbody tr th {\n",
       "        vertical-align: top;\n",
       "    }\n",
       "\n",
       "    .dataframe thead th {\n",
       "        text-align: right;\n",
       "    }\n",
       "</style>\n",
       "<table border=\"1\" class=\"dataframe\">\n",
       "  <thead>\n",
       "    <tr style=\"text-align: right;\">\n",
       "      <th></th>\n",
       "      <th>principal component 1</th>\n",
       "      <th>principal component 2</th>\n",
       "      <th>semantic</th>\n",
       "    </tr>\n",
       "  </thead>\n",
       "  <tbody>\n",
       "    <tr>\n",
       "      <th>0</th>\n",
       "      <td>-0.867509</td>\n",
       "      <td>-2.247633</td>\n",
       "      <td>ORTH</td>\n",
       "    </tr>\n",
       "    <tr>\n",
       "      <th>1</th>\n",
       "      <td>-0.700480</td>\n",
       "      <td>0.910057</td>\n",
       "      <td>ORTH</td>\n",
       "    </tr>\n",
       "    <tr>\n",
       "      <th>2</th>\n",
       "      <td>-0.682463</td>\n",
       "      <td>0.019283</td>\n",
       "      <td>DISO</td>\n",
       "    </tr>\n",
       "    <tr>\n",
       "      <th>3</th>\n",
       "      <td>-0.778517</td>\n",
       "      <td>-0.394189</td>\n",
       "      <td>ORTH</td>\n",
       "    </tr>\n",
       "    <tr>\n",
       "      <th>4</th>\n",
       "      <td>-0.881471</td>\n",
       "      <td>0.734681</td>\n",
       "      <td>DISO</td>\n",
       "    </tr>\n",
       "    <tr>\n",
       "      <th>...</th>\n",
       "      <td>...</td>\n",
       "      <td>...</td>\n",
       "      <td>...</td>\n",
       "    </tr>\n",
       "    <tr>\n",
       "      <th>14828</th>\n",
       "      <td>-0.751435</td>\n",
       "      <td>0.346862</td>\n",
       "      <td>ORTH</td>\n",
       "    </tr>\n",
       "    <tr>\n",
       "      <th>14829</th>\n",
       "      <td>-0.603838</td>\n",
       "      <td>-1.014859</td>\n",
       "      <td>ORTH</td>\n",
       "    </tr>\n",
       "    <tr>\n",
       "      <th>14830</th>\n",
       "      <td>-0.772998</td>\n",
       "      <td>1.714419</td>\n",
       "      <td>ORTH</td>\n",
       "    </tr>\n",
       "    <tr>\n",
       "      <th>14831</th>\n",
       "      <td>-0.924257</td>\n",
       "      <td>-0.474357</td>\n",
       "      <td>GENO</td>\n",
       "    </tr>\n",
       "    <tr>\n",
       "      <th>14832</th>\n",
       "      <td>-0.735252</td>\n",
       "      <td>1.209969</td>\n",
       "      <td>ORTH</td>\n",
       "    </tr>\n",
       "  </tbody>\n",
       "</table>\n",
       "<p>14833 rows × 3 columns</p>\n",
       "</div>"
      ],
      "text/plain": [
       "       principal component 1  principal component 2 semantic\n",
       "0                  -0.867509              -2.247633     ORTH\n",
       "1                  -0.700480               0.910057     ORTH\n",
       "2                  -0.682463               0.019283     DISO\n",
       "3                  -0.778517              -0.394189     ORTH\n",
       "4                  -0.881471               0.734681     DISO\n",
       "...                      ...                    ...      ...\n",
       "14828              -0.751435               0.346862     ORTH\n",
       "14829              -0.603838              -1.014859     ORTH\n",
       "14830              -0.772998               1.714419     ORTH\n",
       "14831              -0.924257              -0.474357     GENO\n",
       "14832              -0.735252               1.209969     ORTH\n",
       "\n",
       "[14833 rows x 3 columns]"
      ]
     },
     "execution_count": 49,
     "metadata": {},
     "output_type": "execute_result"
    }
   ],
   "source": [
    "pca_df = pd.concat([princ_df, nodes[['semantic']]], axis=1)\n",
    "pca_df"
   ]
  },
  {
   "cell_type": "code",
   "execution_count": 50,
   "metadata": {
    "execution": {
     "iopub.execute_input": "2024-08-06T23:17:21.970807Z",
     "iopub.status.busy": "2024-08-06T23:17:21.970807Z",
     "iopub.status.idle": "2024-08-06T23:17:22.701718Z",
     "shell.execute_reply": "2024-08-06T23:17:22.699717Z"
    }
   },
   "outputs": [
    {
     "data": {
      "image/png": "[encoded data removed]",
      "text/plain": [
       "<Figure size 800x800 with 1 Axes>"
      ]
     },
     "metadata": {},
     "output_type": "display_data"
    }
   ],
   "source": [
    "fig = plt.figure(figsize = (8,8))\n",
    "ax = fig.add_subplot(1, 1, 1)\n",
    "ax.set_xlabel('Principal Component 1', fontsize = 15)\n",
    "ax.set_ylabel('Principal Component 2', fontsize = 15)\n",
    "ax.set_title(f'Two components from 32-PCA on {dataset_prefix} {disease_prefix} dataset with embedding method {embedding_method}', fontsize = 12)\n",
    "\n",
    "unique_node_semantics = list(node_semantic_dict.values())\n",
    "colors = ['silver', 'indianred', 'peru', 'gold', 'olivedrab', 'cadetblue', 'skyblue', 'steelblue', 'royalblue', 'mediumpurple', 'palevioletred', 'lightpink']\n",
    "\n",
    "for target, color in zip(unique_node_semantics, colors):\n",
    "    indicesToKeep = pca_df['semantic'] == target\n",
    "    ax.scatter(pca_df.loc[indicesToKeep, 'principal component 1'], pca_df.loc[indicesToKeep, 'principal component 2'], c = color, s = 50)\n",
    "    \n",
    "ax.legend(unique_node_semantics)\n",
    "ax.grid()\n",
    "\n",
    "plt.show()"
   ]
  },
  {
   "attachments": {},
   "cell_type": "markdown",
   "metadata": {},
   "source": [
    "### t-SNE"
   ]
  },
  {
   "cell_type": "code",
   "execution_count": 51,
   "metadata": {
    "execution": {
     "iopub.execute_input": "2024-08-06T23:17:22.707722Z",
     "iopub.status.busy": "2024-08-06T23:17:22.706721Z",
     "iopub.status.idle": "2024-08-06T23:18:51.200783Z",
     "shell.execute_reply": "2024-08-06T23:18:51.198783Z"
    }
   },
   "outputs": [],
   "source": [
    "X_tsne = TSNE(learning_rate=100, perplexity=40).fit_transform(X_data)"
   ]
  },
  {
   "cell_type": "code",
   "execution_count": 52,
   "metadata": {
    "execution": {
     "iopub.execute_input": "2024-08-06T23:18:51.209319Z",
     "iopub.status.busy": "2024-08-06T23:18:51.209319Z",
     "iopub.status.idle": "2024-08-06T23:18:51.246860Z",
     "shell.execute_reply": "2024-08-06T23:18:51.244858Z"
    }
   },
   "outputs": [
    {
     "data": {
      "text/html": [
       "<div>\n",
       "<style scoped>\n",
       "    .dataframe tbody tr th:only-of-type {\n",
       "        vertical-align: middle;\n",
       "    }\n",
       "\n",
       "    .dataframe tbody tr th {\n",
       "        vertical-align: top;\n",
       "    }\n",
       "\n",
       "    .dataframe thead th {\n",
       "        text-align: right;\n",
       "    }\n",
       "</style>\n",
       "<table border=\"1\" class=\"dataframe\">\n",
       "  <thead>\n",
       "    <tr style=\"text-align: right;\">\n",
       "      <th></th>\n",
       "      <th>t-SNE 1</th>\n",
       "      <th>t-SNE 2</th>\n",
       "    </tr>\n",
       "  </thead>\n",
       "  <tbody>\n",
       "    <tr>\n",
       "      <th>0</th>\n",
       "      <td>-8.520000</td>\n",
       "      <td>-63.885803</td>\n",
       "    </tr>\n",
       "    <tr>\n",
       "      <th>1</th>\n",
       "      <td>-14.580507</td>\n",
       "      <td>-17.774715</td>\n",
       "    </tr>\n",
       "    <tr>\n",
       "      <th>2</th>\n",
       "      <td>23.198734</td>\n",
       "      <td>5.562070</td>\n",
       "    </tr>\n",
       "    <tr>\n",
       "      <th>3</th>\n",
       "      <td>23.357655</td>\n",
       "      <td>-40.969532</td>\n",
       "    </tr>\n",
       "    <tr>\n",
       "      <th>4</th>\n",
       "      <td>-27.245508</td>\n",
       "      <td>41.269440</td>\n",
       "    </tr>\n",
       "    <tr>\n",
       "      <th>...</th>\n",
       "      <td>...</td>\n",
       "      <td>...</td>\n",
       "    </tr>\n",
       "    <tr>\n",
       "      <th>14828</th>\n",
       "      <td>13.329216</td>\n",
       "      <td>55.852943</td>\n",
       "    </tr>\n",
       "    <tr>\n",
       "      <th>14829</th>\n",
       "      <td>23.532076</td>\n",
       "      <td>-31.597076</td>\n",
       "    </tr>\n",
       "    <tr>\n",
       "      <th>14830</th>\n",
       "      <td>-67.754036</td>\n",
       "      <td>15.546421</td>\n",
       "    </tr>\n",
       "    <tr>\n",
       "      <th>14831</th>\n",
       "      <td>2.954003</td>\n",
       "      <td>38.547955</td>\n",
       "    </tr>\n",
       "    <tr>\n",
       "      <th>14832</th>\n",
       "      <td>23.289835</td>\n",
       "      <td>49.052059</td>\n",
       "    </tr>\n",
       "  </tbody>\n",
       "</table>\n",
       "<p>14833 rows × 2 columns</p>\n",
       "</div>"
      ],
      "text/plain": [
       "         t-SNE 1    t-SNE 2\n",
       "0      -8.520000 -63.885803\n",
       "1     -14.580507 -17.774715\n",
       "2      23.198734   5.562070\n",
       "3      23.357655 -40.969532\n",
       "4     -27.245508  41.269440\n",
       "...          ...        ...\n",
       "14828  13.329216  55.852943\n",
       "14829  23.532076 -31.597076\n",
       "14830 -67.754036  15.546421\n",
       "14831   2.954003  38.547955\n",
       "14832  23.289835  49.052059\n",
       "\n",
       "[14833 rows x 2 columns]"
      ]
     },
     "execution_count": 52,
     "metadata": {},
     "output_type": "execute_result"
    }
   ],
   "source": [
    "comp_tsne = pd.DataFrame(data=X_tsne, columns=['t-SNE 1', 't-SNE 2'])\n",
    "comp_tsne"
   ]
  },
  {
   "cell_type": "code",
   "execution_count": 53,
   "metadata": {
    "execution": {
     "iopub.execute_input": "2024-08-06T23:18:51.255863Z",
     "iopub.status.busy": "2024-08-06T23:18:51.253856Z",
     "iopub.status.idle": "2024-08-06T23:18:51.293871Z",
     "shell.execute_reply": "2024-08-06T23:18:51.290857Z"
    }
   },
   "outputs": [
    {
     "data": {
      "text/html": [
       "<div>\n",
       "<style scoped>\n",
       "    .dataframe tbody tr th:only-of-type {\n",
       "        vertical-align: middle;\n",
       "    }\n",
       "\n",
       "    .dataframe tbody tr th {\n",
       "        vertical-align: top;\n",
       "    }\n",
       "\n",
       "    .dataframe thead th {\n",
       "        text-align: right;\n",
       "    }\n",
       "</style>\n",
       "<table border=\"1\" class=\"dataframe\">\n",
       "  <thead>\n",
       "    <tr style=\"text-align: right;\">\n",
       "      <th></th>\n",
       "      <th>t-SNE 1</th>\n",
       "      <th>t-SNE 2</th>\n",
       "      <th>semantic</th>\n",
       "    </tr>\n",
       "  </thead>\n",
       "  <tbody>\n",
       "    <tr>\n",
       "      <th>0</th>\n",
       "      <td>-8.520000</td>\n",
       "      <td>-63.885803</td>\n",
       "      <td>ORTH</td>\n",
       "    </tr>\n",
       "    <tr>\n",
       "      <th>1</th>\n",
       "      <td>-14.580507</td>\n",
       "      <td>-17.774715</td>\n",
       "      <td>ORTH</td>\n",
       "    </tr>\n",
       "    <tr>\n",
       "      <th>2</th>\n",
       "      <td>23.198734</td>\n",
       "      <td>5.562070</td>\n",
       "      <td>DISO</td>\n",
       "    </tr>\n",
       "    <tr>\n",
       "      <th>3</th>\n",
       "      <td>23.357655</td>\n",
       "      <td>-40.969532</td>\n",
       "      <td>ORTH</td>\n",
       "    </tr>\n",
       "    <tr>\n",
       "      <th>4</th>\n",
       "      <td>-27.245508</td>\n",
       "      <td>41.269440</td>\n",
       "      <td>DISO</td>\n",
       "    </tr>\n",
       "    <tr>\n",
       "      <th>...</th>\n",
       "      <td>...</td>\n",
       "      <td>...</td>\n",
       "      <td>...</td>\n",
       "    </tr>\n",
       "    <tr>\n",
       "      <th>14828</th>\n",
       "      <td>13.329216</td>\n",
       "      <td>55.852943</td>\n",
       "      <td>ORTH</td>\n",
       "    </tr>\n",
       "    <tr>\n",
       "      <th>14829</th>\n",
       "      <td>23.532076</td>\n",
       "      <td>-31.597076</td>\n",
       "      <td>ORTH</td>\n",
       "    </tr>\n",
       "    <tr>\n",
       "      <th>14830</th>\n",
       "      <td>-67.754036</td>\n",
       "      <td>15.546421</td>\n",
       "      <td>ORTH</td>\n",
       "    </tr>\n",
       "    <tr>\n",
       "      <th>14831</th>\n",
       "      <td>2.954003</td>\n",
       "      <td>38.547955</td>\n",
       "      <td>GENO</td>\n",
       "    </tr>\n",
       "    <tr>\n",
       "      <th>14832</th>\n",
       "      <td>23.289835</td>\n",
       "      <td>49.052059</td>\n",
       "      <td>ORTH</td>\n",
       "    </tr>\n",
       "  </tbody>\n",
       "</table>\n",
       "<p>14833 rows × 3 columns</p>\n",
       "</div>"
      ],
      "text/plain": [
       "         t-SNE 1    t-SNE 2 semantic\n",
       "0      -8.520000 -63.885803     ORTH\n",
       "1     -14.580507 -17.774715     ORTH\n",
       "2      23.198734   5.562070     DISO\n",
       "3      23.357655 -40.969532     ORTH\n",
       "4     -27.245508  41.269440     DISO\n",
       "...          ...        ...      ...\n",
       "14828  13.329216  55.852943     ORTH\n",
       "14829  23.532076 -31.597076     ORTH\n",
       "14830 -67.754036  15.546421     ORTH\n",
       "14831   2.954003  38.547955     GENO\n",
       "14832  23.289835  49.052059     ORTH\n",
       "\n",
       "[14833 rows x 3 columns]"
      ]
     },
     "execution_count": 53,
     "metadata": {},
     "output_type": "execute_result"
    }
   ],
   "source": [
    "tsne_df = pd.concat([comp_tsne, nodes[['semantic']]], axis=1)\n",
    "tsne_df"
   ]
  },
  {
   "cell_type": "code",
   "execution_count": 54,
   "metadata": {
    "execution": {
     "iopub.execute_input": "2024-08-06T23:18:51.302886Z",
     "iopub.status.busy": "2024-08-06T23:18:51.300884Z",
     "iopub.status.idle": "2024-08-06T23:18:52.723369Z",
     "shell.execute_reply": "2024-08-06T23:18:52.721368Z"
    }
   },
   "outputs": [
    {
     "data": {
      "image/png": "[encoded data removed]",
      "text/plain": [
       "<Figure size 800x800 with 1 Axes>"
      ]
     },
     "metadata": {},
     "output_type": "display_data"
    }
   ],
   "source": [
    "fig = plt.figure(figsize = (8,8))\n",
    "ax = fig.add_subplot(1, 1, 1)\n",
    "ax.set_xlabel('Principal Component 1', fontsize = 15)\n",
    "ax.set_ylabel('Principal Component 2', fontsize = 15)\n",
    "ax.set_title(f'Two component t-SNE on {dataset_prefix} {disease_prefix} dataset with embedding method {embedding_method}', fontsize = 12)\n",
    "\n",
    "unique_node_semantics = list(node_semantic_dict.values())\n",
    "colors = ['silver', 'indianred', 'peru', 'gold', 'olivedrab', 'cadetblue', 'skyblue', 'steelblue', 'royalblue', 'mediumpurple', 'palevioletred', 'lightpink']\n",
    "\n",
    "for target, color in zip(unique_node_semantics, colors):\n",
    "    indicesToKeep = tsne_df['semantic'] == target\n",
    "    ax.scatter(tsne_df.loc[indicesToKeep, 't-SNE 1'], tsne_df.loc[indicesToKeep, 't-SNE 2'], c = color, s = 50)\n",
    "    \n",
    "ax.legend(unique_node_semantics)\n",
    "ax.grid()\n",
    "\n",
    "plt.show()"
   ]
  }
 ],
 "metadata": {
  "kernelspec": {
   "display_name": "xaifo",
   "language": "python",
   "name": "python3"
  },
  "language_info": {
   "codemirror_mode": {
    "name": "ipython",
    "version": 3
   },
   "file_extension": ".py",
   "mimetype": "text/x-python",
   "name": "python",
   "nbconvert_exporter": "python",
   "pygments_lexer": "ipython3",
   "version": "3.10.11"
  }
 },
 "nbformat": 4,
 "nbformat_minor": 2
}
