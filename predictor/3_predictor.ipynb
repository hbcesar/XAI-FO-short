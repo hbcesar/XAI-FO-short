{
 "cells": [
  {
   "attachments": {},
   "cell_type": "markdown",
   "metadata": {},
   "source": [
    "Adapted by Rosa Zwart from Jupyter Notebooks found at https://github.com/PPerdomoQ/rare-disease-explainer"
   ]
  },
  {
   "attachments": {},
   "cell_type": "markdown",
   "metadata": {},
   "source": [
    "# Import Libraries"
   ]
  },
  {
   "cell_type": "code",
   "execution_count": 1,
   "metadata": {
    "execution": {
     "iopub.execute_input": "2024-08-07T09:41:00.400301Z",
     "iopub.status.busy": "2024-08-07T09:41:00.400301Z",
     "iopub.status.idle": "2024-08-07T09:41:03.922869Z",
     "shell.execute_reply": "2024-08-07T09:41:03.921870Z"
    }
   },
   "outputs": [],
   "source": [
    "import os\n",
    "import pandas as pd\n",
    "import numpy as np\n",
    "import networkx as nx\n",
    "import pickle\n",
    "\n",
    "import torch\n",
    "from torch.utils.data import DataLoader\n",
    "\n",
    "from deepsnap.dataset import GraphDataset\n",
    "from deepsnap.batch import Batch\n",
    "from deepsnap.graph import Graph\n",
    "\n",
    "from sklearn.metrics import roc_auc_score, roc_curve, f1_score, classification_report, confusion_matrix\n",
    "import matplotlib.pyplot as plt\n",
    "\n",
    "from gensim.models import KeyedVectors\n",
    "\n",
    "from sklearn.preprocessing import StandardScaler\n",
    "from sklearn.decomposition import PCA\n",
    "from sklearn.manifold import TSNE\n",
    "\n",
    "from gnn.linkpred_model import LinkPredModel, train, test\n",
    "import data_params as input_data_params"
   ]
  },
  {
   "cell_type": "code",
   "execution_count": 2,
   "metadata": {
    "execution": {
     "iopub.execute_input": "2024-08-07T09:41:03.927377Z",
     "iopub.status.busy": "2024-08-07T09:41:03.925869Z",
     "iopub.status.idle": "2024-08-07T09:41:03.939915Z",
     "shell.execute_reply": "2024-08-07T09:41:03.937993Z"
    }
   },
   "outputs": [
    {
     "name": "stdout",
     "output_type": "stream",
     "text": [
      "Using device: cpu\n"
     ]
    }
   ],
   "source": [
    "torch_device = torch.device('cuda' if torch.cuda.is_available() else 'cpu')\n",
    "print('Using device:', torch_device)"
   ]
  },
  {
   "cell_type": "markdown",
   "metadata": {},
   "source": [
    "# Set Parameters"
   ]
  },
  {
   "attachments": {},
   "cell_type": "markdown",
   "metadata": {},
   "source": [
    "Specify which dataset is used, 1 (original knowledge graph) or 2 (restructured knowledge graph)"
   ]
  },
  {
   "cell_type": "code",
   "execution_count": 3,
   "metadata": {
    "execution": {
     "iopub.execute_input": "2024-08-07T09:41:03.985561Z",
     "iopub.status.busy": "2024-08-07T09:41:03.984608Z",
     "iopub.status.idle": "2024-08-07T09:41:04.001125Z",
     "shell.execute_reply": "2024-08-07T09:41:04.000116Z"
    }
   },
   "outputs": [
    {
     "name": "stdout",
     "output_type": "stream",
     "text": [
      "restr hd\n"
     ]
    }
   ],
   "source": [
    "dataset_prefix = input_data_params.dataset\n",
    "\n",
    "disease_prefix = input_data_params.disease\n",
    "assert disease_prefix == 'dmd' or 'hd' or 'oi'\n",
    "\n",
    "embedding_method = 'e2v'\n",
    "\n",
    "seeded_emb = input_data_params.e2v_seed\n",
    "\n",
    "if seeded_emb:\n",
    "    fixed_emb = '_seeded'\n",
    "else:\n",
    "    fixed_emb = ''\n",
    "\n",
    "print(dataset_prefix, disease_prefix)"
   ]
  },
  {
   "cell_type": "markdown",
   "metadata": {},
   "source": [
    "# Set Folder"
   ]
  },
  {
   "cell_type": "code",
   "execution_count": 4,
   "metadata": {
    "execution": {
     "iopub.execute_input": "2024-08-07T09:41:04.005634Z",
     "iopub.status.busy": "2024-08-07T09:41:04.005634Z",
     "iopub.status.idle": "2024-08-07T09:41:04.032224Z",
     "shell.execute_reply": "2024-08-07T09:41:04.031234Z"
    }
   },
   "outputs": [
    {
     "name": "stdout",
     "output_type": "stream",
     "text": [
      "Output folder for dataset restr hd exists and will be used: C:\\Users\\rosa-\\OneDrive\\Documents\\GitHub\\XAI-FO\\output\\hd\\restr_e2v\n",
      "Output folder for predictions from dataset restr hd is created: C:\\Users\\rosa-\\OneDrive\\Documents\\GitHub\\XAI-FO\\output\\hd\\restr_e2v\\run_002\\pred\n"
     ]
    }
   ],
   "source": [
    "curr_working_dir = os.path.dirname(os.getcwd())\n",
    "curr_output_dir = os.path.join(curr_working_dir, 'output', disease_prefix)\n",
    "dataset_output_dir = os.path.join(curr_output_dir, f'{dataset_prefix}_{embedding_method}{fixed_emb}')\n",
    "\n",
    "if not os.path.exists(dataset_output_dir):\n",
    "    print('First, run the edge2vec embedding script. Then, run this script.')\n",
    "else:\n",
    "    print(f'Output folder for dataset {dataset_prefix} {disease_prefix} exists and will be used: {dataset_output_dir}')\n",
    "    \n",
    "run_folders_list = []\n",
    "for item in os.listdir(dataset_output_dir):\n",
    "    curr_path = os.path.join(dataset_output_dir, item)\n",
    "    if os.path.isdir(curr_path) and 'run' in item:\n",
    "        run_folders_list.append(item)\n",
    "        \n",
    "if len(run_folders_list) > 0:\n",
    "    run_folders_list.sort(reverse=True)\n",
    "    latest_run = run_folders_list[0]\n",
    "    \n",
    "    run_dir = os.path.join(dataset_output_dir, latest_run)\n",
    "    \n",
    "    pred_output_dir = os.path.join(run_dir, 'pred')\n",
    "    if not os.path.exists(pred_output_dir):\n",
    "        os.mkdir(pred_output_dir)\n",
    "        print(f'Output folder for predictions from dataset {dataset_prefix} {disease_prefix} is created: {pred_output_dir}')\n",
    "    else:\n",
    "        print(f'Output folder for predictions from dataset {dataset_prefix} {disease_prefix} already exists and will be used: {pred_output_dir}')\n",
    "    \n",
    "else:\n",
    "    print('First, run the edge2vec embedding script. Then, run this script.')"
   ]
  },
  {
   "cell_type": "code",
   "execution_count": 5,
   "metadata": {
    "execution": {
     "iopub.execute_input": "2024-08-07T09:41:04.036785Z",
     "iopub.status.busy": "2024-08-07T09:41:04.035782Z",
     "iopub.status.idle": "2024-08-07T09:41:04.047343Z",
     "shell.execute_reply": "2024-08-07T09:41:04.046367Z"
    }
   },
   "outputs": [
    {
     "data": {
      "text/plain": [
       "'C:\\\\Users\\\\rosa-\\\\OneDrive\\\\Documents\\\\GitHub\\\\XAI-FO\\\\output\\\\hd\\\\restr_e2v\\\\run_002'"
      ]
     },
     "execution_count": 5,
     "metadata": {},
     "output_type": "execute_result"
    }
   ],
   "source": [
    "run_dir"
   ]
  },
  {
   "attachments": {},
   "cell_type": "markdown",
   "metadata": {},
   "source": [
    "# Load Data"
   ]
  },
  {
   "cell_type": "markdown",
   "metadata": {},
   "source": [
    "Load all nodes"
   ]
  },
  {
   "cell_type": "code",
   "execution_count": 6,
   "metadata": {
    "execution": {
     "iopub.execute_input": "2024-08-07T09:41:04.052370Z",
     "iopub.status.busy": "2024-08-07T09:41:04.052370Z",
     "iopub.status.idle": "2024-08-07T09:41:04.094109Z",
     "shell.execute_reply": "2024-08-07T09:41:04.093114Z"
    }
   },
   "outputs": [
    {
     "data": {
      "text/html": [
       "<div>\n",
       "<style scoped>\n",
       "    .dataframe tbody tr th:only-of-type {\n",
       "        vertical-align: middle;\n",
       "    }\n",
       "\n",
       "    .dataframe tbody tr th {\n",
       "        vertical-align: top;\n",
       "    }\n",
       "\n",
       "    .dataframe thead th {\n",
       "        text-align: right;\n",
       "    }\n",
       "</style>\n",
       "<table border=\"1\" class=\"dataframe\">\n",
       "  <thead>\n",
       "    <tr style=\"text-align: right;\">\n",
       "      <th></th>\n",
       "      <th>id</th>\n",
       "      <th>semantic</th>\n",
       "      <th>label</th>\n",
       "      <th>semantic_id</th>\n",
       "    </tr>\n",
       "  </thead>\n",
       "  <tbody>\n",
       "    <tr>\n",
       "      <th>0</th>\n",
       "      <td>ENSEMBL:ENSSSCG00000033987</td>\n",
       "      <td>gene</td>\n",
       "      <td>UBE2E3</td>\n",
       "      <td>4</td>\n",
       "    </tr>\n",
       "    <tr>\n",
       "      <th>1</th>\n",
       "      <td>MP:0000790</td>\n",
       "      <td>phenotype</td>\n",
       "      <td>abnormal stratification in cerebral cortex</td>\n",
       "      <td>8</td>\n",
       "    </tr>\n",
       "    <tr>\n",
       "      <th>2</th>\n",
       "      <td>ZP:0011626</td>\n",
       "      <td>phenotype</td>\n",
       "      <td>cell trunk apoptotic, abnormal</td>\n",
       "      <td>8</td>\n",
       "    </tr>\n",
       "    <tr>\n",
       "      <th>3</th>\n",
       "      <td>ZP:0019272</td>\n",
       "      <td>phenotype</td>\n",
       "      <td>pronephric nephron tubule epithelial cell diff...</td>\n",
       "      <td>8</td>\n",
       "    </tr>\n",
       "    <tr>\n",
       "      <th>4</th>\n",
       "      <td>ENSEMBL:ENSACAG00000007327</td>\n",
       "      <td>gene</td>\n",
       "      <td>ENSEMBL:ENSACAG00000007327</td>\n",
       "      <td>4</td>\n",
       "    </tr>\n",
       "    <tr>\n",
       "      <th>...</th>\n",
       "      <td>...</td>\n",
       "      <td>...</td>\n",
       "      <td>...</td>\n",
       "      <td>...</td>\n",
       "    </tr>\n",
       "    <tr>\n",
       "      <th>14877</th>\n",
       "      <td>MP:0008584</td>\n",
       "      <td>phenotype</td>\n",
       "      <td>photoreceptor outer segment degeneration</td>\n",
       "      <td>8</td>\n",
       "    </tr>\n",
       "    <tr>\n",
       "      <th>14878</th>\n",
       "      <td>ENSEMBL:ENSFCAG00000011716</td>\n",
       "      <td>gene</td>\n",
       "      <td>ENSEMBL:ENSFCAG00000011716</td>\n",
       "      <td>4</td>\n",
       "    </tr>\n",
       "    <tr>\n",
       "      <th>14879</th>\n",
       "      <td>MP:0009412</td>\n",
       "      <td>phenotype</td>\n",
       "      <td>skeletal muscle fiber degeneration</td>\n",
       "      <td>8</td>\n",
       "    </tr>\n",
       "    <tr>\n",
       "      <th>14880</th>\n",
       "      <td>ZP:0002448</td>\n",
       "      <td>phenotype</td>\n",
       "      <td>retinal outer nuclear layer disorganized, abno...</td>\n",
       "      <td>8</td>\n",
       "    </tr>\n",
       "    <tr>\n",
       "      <th>14881</th>\n",
       "      <td>ENSEMBL:ENSCAFG00000012067</td>\n",
       "      <td>gene</td>\n",
       "      <td>ENSEMBL:ENSCAFG00000012067</td>\n",
       "      <td>4</td>\n",
       "    </tr>\n",
       "  </tbody>\n",
       "</table>\n",
       "<p>14882 rows × 4 columns</p>\n",
       "</div>"
      ],
      "text/plain": [
       "                               id   semantic  \\\n",
       "0      ENSEMBL:ENSSSCG00000033987       gene   \n",
       "1                      MP:0000790  phenotype   \n",
       "2                      ZP:0011626  phenotype   \n",
       "3                      ZP:0019272  phenotype   \n",
       "4      ENSEMBL:ENSACAG00000007327       gene   \n",
       "...                           ...        ...   \n",
       "14877                  MP:0008584  phenotype   \n",
       "14878  ENSEMBL:ENSFCAG00000011716       gene   \n",
       "14879                  MP:0009412  phenotype   \n",
       "14880                  ZP:0002448  phenotype   \n",
       "14881  ENSEMBL:ENSCAFG00000012067       gene   \n",
       "\n",
       "                                                   label  semantic_id  \n",
       "0                                                 UBE2E3            4  \n",
       "1             abnormal stratification in cerebral cortex            8  \n",
       "2                         cell trunk apoptotic, abnormal            8  \n",
       "3      pronephric nephron tubule epithelial cell diff...            8  \n",
       "4                             ENSEMBL:ENSACAG00000007327            4  \n",
       "...                                                  ...          ...  \n",
       "14877           photoreceptor outer segment degeneration            8  \n",
       "14878                         ENSEMBL:ENSFCAG00000011716            4  \n",
       "14879                 skeletal muscle fiber degeneration            8  \n",
       "14880  retinal outer nuclear layer disorganized, abno...            8  \n",
       "14881                         ENSEMBL:ENSCAFG00000012067            4  \n",
       "\n",
       "[14882 rows x 4 columns]"
      ]
     },
     "execution_count": 6,
     "metadata": {},
     "output_type": "execute_result"
    }
   ],
   "source": [
    "nodes = pd.read_csv(f'../output/{disease_prefix}/{dataset_prefix}_{disease_prefix}_indexed_nodes.csv')\n",
    "nodes.drop('index_id', axis=1, inplace=True)\n",
    "nodes['semantic'] = nodes['semantic'].astype('category')\n",
    "nodes"
   ]
  },
  {
   "cell_type": "code",
   "execution_count": 7,
   "metadata": {
    "execution": {
     "iopub.execute_input": "2024-08-07T09:41:04.098126Z",
     "iopub.status.busy": "2024-08-07T09:41:04.098126Z",
     "iopub.status.idle": "2024-08-07T09:41:04.125001Z",
     "shell.execute_reply": "2024-08-07T09:41:04.124326Z"
    }
   },
   "outputs": [
    {
     "data": {
      "text/html": [
       "<div>\n",
       "<style scoped>\n",
       "    .dataframe tbody tr th:only-of-type {\n",
       "        vertical-align: middle;\n",
       "    }\n",
       "\n",
       "    .dataframe tbody tr th {\n",
       "        vertical-align: top;\n",
       "    }\n",
       "\n",
       "    .dataframe thead th {\n",
       "        text-align: right;\n",
       "    }\n",
       "</style>\n",
       "<table border=\"1\" class=\"dataframe\">\n",
       "  <thead>\n",
       "    <tr style=\"text-align: right;\">\n",
       "      <th></th>\n",
       "      <th>id</th>\n",
       "      <th>semantic</th>\n",
       "      <th>label</th>\n",
       "      <th>semantic_id</th>\n",
       "    </tr>\n",
       "  </thead>\n",
       "  <tbody>\n",
       "    <tr>\n",
       "      <th>57</th>\n",
       "      <td>522</td>\n",
       "      <td>drug</td>\n",
       "      <td>carvedilol</td>\n",
       "      <td>3</td>\n",
       "    </tr>\n",
       "    <tr>\n",
       "      <th>190</th>\n",
       "      <td>5001</td>\n",
       "      <td>drug</td>\n",
       "      <td>eluxadoline</td>\n",
       "      <td>3</td>\n",
       "    </tr>\n",
       "    <tr>\n",
       "      <th>195</th>\n",
       "      <td>114</td>\n",
       "      <td>drug</td>\n",
       "      <td>alfentanil</td>\n",
       "      <td>3</td>\n",
       "    </tr>\n",
       "    <tr>\n",
       "      <th>283</th>\n",
       "      <td>2119</td>\n",
       "      <td>drug</td>\n",
       "      <td>phenazocine</td>\n",
       "      <td>3</td>\n",
       "    </tr>\n",
       "    <tr>\n",
       "      <th>512</th>\n",
       "      <td>5256</td>\n",
       "      <td>drug</td>\n",
       "      <td>copanlisib</td>\n",
       "      <td>3</td>\n",
       "    </tr>\n",
       "    <tr>\n",
       "      <th>...</th>\n",
       "      <td>...</td>\n",
       "      <td>...</td>\n",
       "      <td>...</td>\n",
       "      <td>...</td>\n",
       "    </tr>\n",
       "    <tr>\n",
       "      <th>14735</th>\n",
       "      <td>3157</td>\n",
       "      <td>drug</td>\n",
       "      <td>diosmin</td>\n",
       "      <td>3</td>\n",
       "    </tr>\n",
       "    <tr>\n",
       "      <th>14758</th>\n",
       "      <td>1805</td>\n",
       "      <td>drug</td>\n",
       "      <td>mifepristone</td>\n",
       "      <td>3</td>\n",
       "    </tr>\n",
       "    <tr>\n",
       "      <th>14785</th>\n",
       "      <td>1821</td>\n",
       "      <td>drug</td>\n",
       "      <td>mitoxantrone</td>\n",
       "      <td>3</td>\n",
       "    </tr>\n",
       "    <tr>\n",
       "      <th>14851</th>\n",
       "      <td>4118</td>\n",
       "      <td>drug</td>\n",
       "      <td>pazopanib</td>\n",
       "      <td>3</td>\n",
       "    </tr>\n",
       "    <tr>\n",
       "      <th>14873</th>\n",
       "      <td>91</td>\n",
       "      <td>drug</td>\n",
       "      <td>adenosine triphosphate</td>\n",
       "      <td>3</td>\n",
       "    </tr>\n",
       "  </tbody>\n",
       "</table>\n",
       "<p>215 rows × 4 columns</p>\n",
       "</div>"
      ],
      "text/plain": [
       "         id semantic                   label  semantic_id\n",
       "57      522     drug              carvedilol            3\n",
       "190    5001     drug             eluxadoline            3\n",
       "195     114     drug              alfentanil            3\n",
       "283    2119     drug             phenazocine            3\n",
       "512    5256     drug              copanlisib            3\n",
       "...     ...      ...                     ...          ...\n",
       "14735  3157     drug                 diosmin            3\n",
       "14758  1805     drug            mifepristone            3\n",
       "14785  1821     drug            mitoxantrone            3\n",
       "14851  4118     drug               pazopanib            3\n",
       "14873    91     drug  adenosine triphosphate            3\n",
       "\n",
       "[215 rows x 4 columns]"
      ]
     },
     "execution_count": 7,
     "metadata": {},
     "output_type": "execute_result"
    }
   ],
   "source": [
    "if dataset_prefix == 'prev':\n",
    "    drug_semantic_name = 'DRUG'\n",
    "else:\n",
    "    drug_semantic_name = 'drug'\n",
    "    \n",
    "nodes[nodes['semantic'] == drug_semantic_name]"
   ]
  },
  {
   "cell_type": "code",
   "execution_count": 8,
   "metadata": {
    "execution": {
     "iopub.execute_input": "2024-08-07T09:41:04.130023Z",
     "iopub.status.busy": "2024-08-07T09:41:04.129027Z",
     "iopub.status.idle": "2024-08-07T09:41:04.155035Z",
     "shell.execute_reply": "2024-08-07T09:41:04.154048Z"
    }
   },
   "outputs": [
    {
     "data": {
      "text/html": [
       "<div>\n",
       "<style scoped>\n",
       "    .dataframe tbody tr th:only-of-type {\n",
       "        vertical-align: middle;\n",
       "    }\n",
       "\n",
       "    .dataframe tbody tr th {\n",
       "        vertical-align: top;\n",
       "    }\n",
       "\n",
       "    .dataframe thead th {\n",
       "        text-align: right;\n",
       "    }\n",
       "</style>\n",
       "<table border=\"1\" class=\"dataframe\">\n",
       "  <thead>\n",
       "    <tr style=\"text-align: right;\">\n",
       "      <th></th>\n",
       "      <th>id</th>\n",
       "      <th>semantic</th>\n",
       "      <th>label</th>\n",
       "      <th>semantic_id</th>\n",
       "    </tr>\n",
       "  </thead>\n",
       "  <tbody>\n",
       "    <tr>\n",
       "      <th>24</th>\n",
       "      <td>ZP:0000378</td>\n",
       "      <td>phenotype</td>\n",
       "      <td>cardiac jelly increased volume, abnormal</td>\n",
       "      <td>8</td>\n",
       "    </tr>\n",
       "  </tbody>\n",
       "</table>\n",
       "</div>"
      ],
      "text/plain": [
       "            id   semantic                                     label  \\\n",
       "24  ZP:0000378  phenotype  cardiac jelly increased volume, abnormal   \n",
       "\n",
       "    semantic_id  \n",
       "24            8  "
      ]
     },
     "execution_count": 8,
     "metadata": {},
     "output_type": "execute_result"
    }
   ],
   "source": [
    "nodes.iloc[[24]]"
   ]
  },
  {
   "cell_type": "markdown",
   "metadata": {},
   "source": [
    "The dictionary below can be used as mapping between generated semantic ID and semantic group label."
   ]
  },
  {
   "cell_type": "code",
   "execution_count": 9,
   "metadata": {
    "execution": {
     "iopub.execute_input": "2024-08-07T09:41:04.160026Z",
     "iopub.status.busy": "2024-08-07T09:41:04.159025Z",
     "iopub.status.idle": "2024-08-07T09:41:04.170028Z",
     "shell.execute_reply": "2024-08-07T09:41:04.169021Z"
    }
   },
   "outputs": [
    {
     "data": {
      "text/plain": [
       "{4: 'gene',\n",
       " 8: 'phenotype',\n",
       " 3: 'drug',\n",
       " 7: 'molecular function',\n",
       " 0: 'biological artifact',\n",
       " 9: 'taxon',\n",
       " 10: 'variant',\n",
       " 6: 'genotype',\n",
       " 5: 'gene product',\n",
       " 1: 'biological process',\n",
       " 2: 'disease'}"
      ]
     },
     "execution_count": 9,
     "metadata": {},
     "output_type": "execute_result"
    }
   ],
   "source": [
    "node_semantic_dict = dict(zip(nodes['semantic_id'], nodes['semantic']))\n",
    "node_semantic_dict"
   ]
  },
  {
   "cell_type": "markdown",
   "metadata": {},
   "source": [
    "Load the node embeddings"
   ]
  },
  {
   "cell_type": "code",
   "execution_count": 10,
   "metadata": {
    "execution": {
     "iopub.execute_input": "2024-08-07T09:41:04.175030Z",
     "iopub.status.busy": "2024-08-07T09:41:04.174030Z",
     "iopub.status.idle": "2024-08-07T09:41:04.185544Z",
     "shell.execute_reply": "2024-08-07T09:41:04.184534Z"
    }
   },
   "outputs": [],
   "source": [
    "def loadEdge2VecEmbedding(): \n",
    "    node_feat = KeyedVectors.load(f'{run_dir}/w2v_{dataset_prefix}_{disease_prefix}.dvectors', mmap='r')\n",
    "    e2v_embedding = pd.DataFrame(columns = ['Node', 'Embedding'])\n",
    "    for idx, key in enumerate(node_feat.index_to_key):\n",
    "        e2v_embedding.loc[int(key)] = pd.Series({'Node':int(key), 'Embedding':list(node_feat[key])})\n",
    "        \n",
    "    return e2v_embedding.sort_values('Node')"
   ]
  },
  {
   "cell_type": "code",
   "execution_count": 11,
   "metadata": {
    "execution": {
     "iopub.execute_input": "2024-08-07T09:41:04.190542Z",
     "iopub.status.busy": "2024-08-07T09:41:04.190542Z",
     "iopub.status.idle": "2024-08-07T09:41:38.318608Z",
     "shell.execute_reply": "2024-08-07T09:41:38.317658Z"
    }
   },
   "outputs": [
    {
     "data": {
      "text/html": [
       "<div>\n",
       "<style scoped>\n",
       "    .dataframe tbody tr th:only-of-type {\n",
       "        vertical-align: middle;\n",
       "    }\n",
       "\n",
       "    .dataframe tbody tr th {\n",
       "        vertical-align: top;\n",
       "    }\n",
       "\n",
       "    .dataframe thead th {\n",
       "        text-align: right;\n",
       "    }\n",
       "</style>\n",
       "<table border=\"1\" class=\"dataframe\">\n",
       "  <thead>\n",
       "    <tr style=\"text-align: right;\">\n",
       "      <th></th>\n",
       "      <th>Node</th>\n",
       "      <th>Embedding</th>\n",
       "    </tr>\n",
       "  </thead>\n",
       "  <tbody>\n",
       "    <tr>\n",
       "      <th>0</th>\n",
       "      <td>0</td>\n",
       "      <td>[-0.058269434, 0.014183376, 1.2083212e-05, -0....</td>\n",
       "    </tr>\n",
       "    <tr>\n",
       "      <th>1</th>\n",
       "      <td>1</td>\n",
       "      <td>[-0.12131524, 0.08582904, 0.08592999, -0.12857...</td>\n",
       "    </tr>\n",
       "    <tr>\n",
       "      <th>2</th>\n",
       "      <td>2</td>\n",
       "      <td>[-0.078891054, 0.06885156, 0.05804187, -0.0688...</td>\n",
       "    </tr>\n",
       "    <tr>\n",
       "      <th>3</th>\n",
       "      <td>3</td>\n",
       "      <td>[-0.10666232, 0.07140139, 0.08746274, -0.11454...</td>\n",
       "    </tr>\n",
       "    <tr>\n",
       "      <th>4</th>\n",
       "      <td>4</td>\n",
       "      <td>[-0.085767895, 0.024970269, 0.08932996, -0.057...</td>\n",
       "    </tr>\n",
       "    <tr>\n",
       "      <th>...</th>\n",
       "      <td>...</td>\n",
       "      <td>...</td>\n",
       "    </tr>\n",
       "    <tr>\n",
       "      <th>14877</th>\n",
       "      <td>14877</td>\n",
       "      <td>[-0.12024251, 0.115060784, 0.084497035, -0.118...</td>\n",
       "    </tr>\n",
       "    <tr>\n",
       "      <th>14878</th>\n",
       "      <td>14878</td>\n",
       "      <td>[-0.10697104, 0.094787516, 0.06884946, -0.1416...</td>\n",
       "    </tr>\n",
       "    <tr>\n",
       "      <th>14879</th>\n",
       "      <td>14879</td>\n",
       "      <td>[-0.11737815, 0.07667069, 0.07174187, -0.10063...</td>\n",
       "    </tr>\n",
       "    <tr>\n",
       "      <th>14880</th>\n",
       "      <td>14880</td>\n",
       "      <td>[-0.11237405, 0.014095693, 0.09444593, -0.2295...</td>\n",
       "    </tr>\n",
       "    <tr>\n",
       "      <th>14881</th>\n",
       "      <td>14881</td>\n",
       "      <td>[-0.16007091, 0.20826142, -0.048187826, -0.223...</td>\n",
       "    </tr>\n",
       "  </tbody>\n",
       "</table>\n",
       "<p>14882 rows × 2 columns</p>\n",
       "</div>"
      ],
      "text/plain": [
       "        Node                                          Embedding\n",
       "0          0  [-0.058269434, 0.014183376, 1.2083212e-05, -0....\n",
       "1          1  [-0.12131524, 0.08582904, 0.08592999, -0.12857...\n",
       "2          2  [-0.078891054, 0.06885156, 0.05804187, -0.0688...\n",
       "3          3  [-0.10666232, 0.07140139, 0.08746274, -0.11454...\n",
       "4          4  [-0.085767895, 0.024970269, 0.08932996, -0.057...\n",
       "...      ...                                                ...\n",
       "14877  14877  [-0.12024251, 0.115060784, 0.084497035, -0.118...\n",
       "14878  14878  [-0.10697104, 0.094787516, 0.06884946, -0.1416...\n",
       "14879  14879  [-0.11737815, 0.07667069, 0.07174187, -0.10063...\n",
       "14880  14880  [-0.11237405, 0.014095693, 0.09444593, -0.2295...\n",
       "14881  14881  [-0.16007091, 0.20826142, -0.048187826, -0.223...\n",
       "\n",
       "[14882 rows x 2 columns]"
      ]
     },
     "execution_count": 11,
     "metadata": {},
     "output_type": "execute_result"
    }
   ],
   "source": [
    "embedding = loadEdge2VecEmbedding()\n",
    "embedding"
   ]
  },
  {
   "cell_type": "markdown",
   "metadata": {},
   "source": [
    "Load the edges"
   ]
  },
  {
   "cell_type": "code",
   "execution_count": 12,
   "metadata": {
    "execution": {
     "iopub.execute_input": "2024-08-07T09:41:38.323621Z",
     "iopub.status.busy": "2024-08-07T09:41:38.323621Z",
     "iopub.status.idle": "2024-08-07T09:41:38.660528Z",
     "shell.execute_reply": "2024-08-07T09:41:38.659517Z"
    }
   },
   "outputs": [
    {
     "data": {
      "text/html": [
       "<div>\n",
       "<style scoped>\n",
       "    .dataframe tbody tr th:only-of-type {\n",
       "        vertical-align: middle;\n",
       "    }\n",
       "\n",
       "    .dataframe tbody tr th {\n",
       "        vertical-align: top;\n",
       "    }\n",
       "\n",
       "    .dataframe thead th {\n",
       "        text-align: right;\n",
       "    }\n",
       "</style>\n",
       "<table border=\"1\" class=\"dataframe\">\n",
       "  <thead>\n",
       "    <tr style=\"text-align: right;\">\n",
       "      <th></th>\n",
       "      <th>head</th>\n",
       "      <th>label_head</th>\n",
       "      <th>class_head</th>\n",
       "      <th>index_head</th>\n",
       "      <th>relation</th>\n",
       "      <th>tail</th>\n",
       "      <th>label_tail</th>\n",
       "      <th>class_tail</th>\n",
       "      <th>index_tail</th>\n",
       "      <th>type</th>\n",
       "    </tr>\n",
       "  </thead>\n",
       "  <tbody>\n",
       "    <tr>\n",
       "      <th>0</th>\n",
       "      <td>HGNC:11280</td>\n",
       "      <td>SQSTM1</td>\n",
       "      <td>4</td>\n",
       "      <td>9467</td>\n",
       "      <td>interacts with</td>\n",
       "      <td>HGNC:9539</td>\n",
       "      <td>PSMB2</td>\n",
       "      <td>4</td>\n",
       "      <td>12355</td>\n",
       "      <td>0</td>\n",
       "    </tr>\n",
       "    <tr>\n",
       "      <th>1</th>\n",
       "      <td>FlyBase:FBgn0264855</td>\n",
       "      <td>AP-2alpha</td>\n",
       "      <td>4</td>\n",
       "      <td>6589</td>\n",
       "      <td>in orthology relationship with</td>\n",
       "      <td>MGI:101921</td>\n",
       "      <td>Ap2a1</td>\n",
       "      <td>4</td>\n",
       "      <td>10645</td>\n",
       "      <td>1</td>\n",
       "    </tr>\n",
       "    <tr>\n",
       "      <th>2</th>\n",
       "      <td>SGD:S000001709</td>\n",
       "      <td>VPS1</td>\n",
       "      <td>4</td>\n",
       "      <td>9926</td>\n",
       "      <td>in orthology relationship with</td>\n",
       "      <td>WormBase:WBGene00001134</td>\n",
       "      <td>eat-3</td>\n",
       "      <td>4</td>\n",
       "      <td>8881</td>\n",
       "      <td>1</td>\n",
       "    </tr>\n",
       "    <tr>\n",
       "      <th>3</th>\n",
       "      <td>RGD:1595923</td>\n",
       "      <td>RT1-A2</td>\n",
       "      <td>4</td>\n",
       "      <td>9824</td>\n",
       "      <td>in orthology relationship with</td>\n",
       "      <td>ENSEMBL:ENSDARG00000115781</td>\n",
       "      <td>CR339041.3</td>\n",
       "      <td>4</td>\n",
       "      <td>14166</td>\n",
       "      <td>1</td>\n",
       "    </tr>\n",
       "    <tr>\n",
       "      <th>4</th>\n",
       "      <td>WormBase:WBGene00012735</td>\n",
       "      <td>sptf-3</td>\n",
       "      <td>4</td>\n",
       "      <td>1165</td>\n",
       "      <td>in orthology relationship with</td>\n",
       "      <td>FlyBase:CG5669</td>\n",
       "      <td>FlyBase:CG5669</td>\n",
       "      <td>4</td>\n",
       "      <td>3446</td>\n",
       "      <td>1</td>\n",
       "    </tr>\n",
       "    <tr>\n",
       "      <th>...</th>\n",
       "      <td>...</td>\n",
       "      <td>...</td>\n",
       "      <td>...</td>\n",
       "      <td>...</td>\n",
       "      <td>...</td>\n",
       "      <td>...</td>\n",
       "      <td>...</td>\n",
       "      <td>...</td>\n",
       "      <td>...</td>\n",
       "      <td>...</td>\n",
       "    </tr>\n",
       "    <tr>\n",
       "      <th>230223</th>\n",
       "      <td>ENSEMBL:ENSGALG00000003800</td>\n",
       "      <td>PABPC4</td>\n",
       "      <td>4</td>\n",
       "      <td>942</td>\n",
       "      <td>in orthology relationship with</td>\n",
       "      <td>ENSEMBL:ENSECAG00000009396</td>\n",
       "      <td>ENSEMBL:ENSECAG00000009396</td>\n",
       "      <td>4</td>\n",
       "      <td>7423</td>\n",
       "      <td>1</td>\n",
       "    </tr>\n",
       "    <tr>\n",
       "      <th>230224</th>\n",
       "      <td>ENSEMBL:ENSECAG00000006095</td>\n",
       "      <td>ENSEMBL:ENSECAG00000006095</td>\n",
       "      <td>4</td>\n",
       "      <td>541</td>\n",
       "      <td>in orthology relationship with</td>\n",
       "      <td>ENSEMBL:ENSGALG00000050515</td>\n",
       "      <td>A0A3Q2UAA5</td>\n",
       "      <td>4</td>\n",
       "      <td>13107</td>\n",
       "      <td>1</td>\n",
       "    </tr>\n",
       "    <tr>\n",
       "      <th>230225</th>\n",
       "      <td>ZFIN:ZDB-GENE-060825-293</td>\n",
       "      <td>rab9a</td>\n",
       "      <td>4</td>\n",
       "      <td>4090</td>\n",
       "      <td>in orthology relationship with</td>\n",
       "      <td>ENSEMBL:ENSCAFG00000011750</td>\n",
       "      <td>ENSEMBL:ENSCAFG00000011750</td>\n",
       "      <td>4</td>\n",
       "      <td>3844</td>\n",
       "      <td>1</td>\n",
       "    </tr>\n",
       "    <tr>\n",
       "      <th>230226</th>\n",
       "      <td>ENSEMBL:ENSGALG00000008534</td>\n",
       "      <td>POLR2H</td>\n",
       "      <td>4</td>\n",
       "      <td>11884</td>\n",
       "      <td>in orthology relationship with</td>\n",
       "      <td>ZFIN:ZDB-GENE-050417-66</td>\n",
       "      <td>polr2h</td>\n",
       "      <td>4</td>\n",
       "      <td>3372</td>\n",
       "      <td>1</td>\n",
       "    </tr>\n",
       "    <tr>\n",
       "      <th>230227</th>\n",
       "      <td>WormBase:WBGene00001134</td>\n",
       "      <td>eat-3</td>\n",
       "      <td>4</td>\n",
       "      <td>8881</td>\n",
       "      <td>in orthology relationship with</td>\n",
       "      <td>ENSEMBL:ENSFCAG00000000695</td>\n",
       "      <td>ENSEMBL:ENSFCAG00000000695</td>\n",
       "      <td>4</td>\n",
       "      <td>14385</td>\n",
       "      <td>1</td>\n",
       "    </tr>\n",
       "  </tbody>\n",
       "</table>\n",
       "<p>230228 rows × 10 columns</p>\n",
       "</div>"
      ],
      "text/plain": [
       "                              head                  label_head  class_head  \\\n",
       "0                       HGNC:11280                      SQSTM1           4   \n",
       "1              FlyBase:FBgn0264855                   AP-2alpha           4   \n",
       "2                   SGD:S000001709                        VPS1           4   \n",
       "3                      RGD:1595923                      RT1-A2           4   \n",
       "4          WormBase:WBGene00012735                      sptf-3           4   \n",
       "...                            ...                         ...         ...   \n",
       "230223  ENSEMBL:ENSGALG00000003800                      PABPC4           4   \n",
       "230224  ENSEMBL:ENSECAG00000006095  ENSEMBL:ENSECAG00000006095           4   \n",
       "230225    ZFIN:ZDB-GENE-060825-293                       rab9a           4   \n",
       "230226  ENSEMBL:ENSGALG00000008534                      POLR2H           4   \n",
       "230227     WormBase:WBGene00001134                       eat-3           4   \n",
       "\n",
       "        index_head                        relation  \\\n",
       "0             9467                  interacts with   \n",
       "1             6589  in orthology relationship with   \n",
       "2             9926  in orthology relationship with   \n",
       "3             9824  in orthology relationship with   \n",
       "4             1165  in orthology relationship with   \n",
       "...            ...                             ...   \n",
       "230223         942  in orthology relationship with   \n",
       "230224         541  in orthology relationship with   \n",
       "230225        4090  in orthology relationship with   \n",
       "230226       11884  in orthology relationship with   \n",
       "230227        8881  in orthology relationship with   \n",
       "\n",
       "                              tail                  label_tail  class_tail  \\\n",
       "0                        HGNC:9539                       PSMB2           4   \n",
       "1                       MGI:101921                       Ap2a1           4   \n",
       "2          WormBase:WBGene00001134                       eat-3           4   \n",
       "3       ENSEMBL:ENSDARG00000115781                  CR339041.3           4   \n",
       "4                   FlyBase:CG5669              FlyBase:CG5669           4   \n",
       "...                            ...                         ...         ...   \n",
       "230223  ENSEMBL:ENSECAG00000009396  ENSEMBL:ENSECAG00000009396           4   \n",
       "230224  ENSEMBL:ENSGALG00000050515                  A0A3Q2UAA5           4   \n",
       "230225  ENSEMBL:ENSCAFG00000011750  ENSEMBL:ENSCAFG00000011750           4   \n",
       "230226     ZFIN:ZDB-GENE-050417-66                      polr2h           4   \n",
       "230227  ENSEMBL:ENSFCAG00000000695  ENSEMBL:ENSFCAG00000000695           4   \n",
       "\n",
       "        index_tail  type  \n",
       "0            12355     0  \n",
       "1            10645     1  \n",
       "2             8881     1  \n",
       "3            14166     1  \n",
       "4             3446     1  \n",
       "...            ...   ...  \n",
       "230223        7423     1  \n",
       "230224       13107     1  \n",
       "230225        3844     1  \n",
       "230226        3372     1  \n",
       "230227       14385     1  \n",
       "\n",
       "[230228 rows x 10 columns]"
      ]
     },
     "execution_count": 12,
     "metadata": {},
     "output_type": "execute_result"
    }
   ],
   "source": [
    "edges = pd.read_csv(f'../output/{disease_prefix}/{dataset_prefix}_{disease_prefix}_indexed_edges.csv')\n",
    "edges"
   ]
  },
  {
   "cell_type": "code",
   "execution_count": 13,
   "metadata": {
    "execution": {
     "iopub.execute_input": "2024-08-07T09:41:38.664540Z",
     "iopub.status.busy": "2024-08-07T09:41:38.664540Z",
     "iopub.status.idle": "2024-08-07T09:41:38.691772Z",
     "shell.execute_reply": "2024-08-07T09:41:38.690651Z"
    }
   },
   "outputs": [
    {
     "data": {
      "text/html": [
       "<div>\n",
       "<style scoped>\n",
       "    .dataframe tbody tr th:only-of-type {\n",
       "        vertical-align: middle;\n",
       "    }\n",
       "\n",
       "    .dataframe tbody tr th {\n",
       "        vertical-align: top;\n",
       "    }\n",
       "\n",
       "    .dataframe thead th {\n",
       "        text-align: right;\n",
       "    }\n",
       "</style>\n",
       "<table border=\"1\" class=\"dataframe\">\n",
       "  <thead>\n",
       "    <tr style=\"text-align: right;\">\n",
       "      <th></th>\n",
       "      <th>head</th>\n",
       "      <th>label_head</th>\n",
       "      <th>class_head</th>\n",
       "      <th>index_head</th>\n",
       "      <th>relation</th>\n",
       "      <th>tail</th>\n",
       "      <th>label_tail</th>\n",
       "      <th>class_tail</th>\n",
       "      <th>index_tail</th>\n",
       "      <th>type</th>\n",
       "    </tr>\n",
       "  </thead>\n",
       "  <tbody>\n",
       "    <tr>\n",
       "      <th>48485</th>\n",
       "      <td>HGNC:144</td>\n",
       "      <td>ACTG1</td>\n",
       "      <td>4</td>\n",
       "      <td>6880</td>\n",
       "      <td>causes condition</td>\n",
       "      <td>HP:0002381</td>\n",
       "      <td>Aphasia</td>\n",
       "      <td>8</td>\n",
       "      <td>2504</td>\n",
       "      <td>2</td>\n",
       "    </tr>\n",
       "    <tr>\n",
       "      <th>54410</th>\n",
       "      <td>HGNC:30892</td>\n",
       "      <td>HUWE1</td>\n",
       "      <td>4</td>\n",
       "      <td>28</td>\n",
       "      <td>causes condition</td>\n",
       "      <td>HP:0002381</td>\n",
       "      <td>Aphasia</td>\n",
       "      <td>8</td>\n",
       "      <td>2504</td>\n",
       "      <td>2</td>\n",
       "    </tr>\n",
       "    <tr>\n",
       "      <th>94320</th>\n",
       "      <td>HGNC:6572</td>\n",
       "      <td>LGI1</td>\n",
       "      <td>4</td>\n",
       "      <td>5286</td>\n",
       "      <td>causes condition</td>\n",
       "      <td>HP:0002381</td>\n",
       "      <td>Aphasia</td>\n",
       "      <td>8</td>\n",
       "      <td>2504</td>\n",
       "      <td>2</td>\n",
       "    </tr>\n",
       "    <tr>\n",
       "      <th>151935</th>\n",
       "      <td>HGNC:12666</td>\n",
       "      <td>VCP</td>\n",
       "      <td>4</td>\n",
       "      <td>11564</td>\n",
       "      <td>causes condition</td>\n",
       "      <td>HP:0002381</td>\n",
       "      <td>Aphasia</td>\n",
       "      <td>8</td>\n",
       "      <td>2504</td>\n",
       "      <td>2</td>\n",
       "    </tr>\n",
       "    <tr>\n",
       "      <th>169169</th>\n",
       "      <td>HGNC:9069</td>\n",
       "      <td>PLEC</td>\n",
       "      <td>4</td>\n",
       "      <td>3519</td>\n",
       "      <td>causes condition</td>\n",
       "      <td>HP:0002381</td>\n",
       "      <td>Aphasia</td>\n",
       "      <td>8</td>\n",
       "      <td>2504</td>\n",
       "      <td>2</td>\n",
       "    </tr>\n",
       "    <tr>\n",
       "      <th>220573</th>\n",
       "      <td>HGNC:620</td>\n",
       "      <td>APP</td>\n",
       "      <td>4</td>\n",
       "      <td>10694</td>\n",
       "      <td>causes condition</td>\n",
       "      <td>HP:0002381</td>\n",
       "      <td>Aphasia</td>\n",
       "      <td>8</td>\n",
       "      <td>2504</td>\n",
       "      <td>2</td>\n",
       "    </tr>\n",
       "  </tbody>\n",
       "</table>\n",
       "</div>"
      ],
      "text/plain": [
       "              head label_head  class_head  index_head          relation  \\\n",
       "48485     HGNC:144      ACTG1           4        6880  causes condition   \n",
       "54410   HGNC:30892      HUWE1           4          28  causes condition   \n",
       "94320    HGNC:6572       LGI1           4        5286  causes condition   \n",
       "151935  HGNC:12666        VCP           4       11564  causes condition   \n",
       "169169   HGNC:9069       PLEC           4        3519  causes condition   \n",
       "220573    HGNC:620        APP           4       10694  causes condition   \n",
       "\n",
       "              tail label_tail  class_tail  index_tail  type  \n",
       "48485   HP:0002381    Aphasia           8        2504     2  \n",
       "54410   HP:0002381    Aphasia           8        2504     2  \n",
       "94320   HP:0002381    Aphasia           8        2504     2  \n",
       "151935  HP:0002381    Aphasia           8        2504     2  \n",
       "169169  HP:0002381    Aphasia           8        2504     2  \n",
       "220573  HP:0002381    Aphasia           8        2504     2  "
      ]
     },
     "execution_count": 13,
     "metadata": {},
     "output_type": "execute_result"
    }
   ],
   "source": [
    "edges.loc[edges['index_tail'] == 2504]"
   ]
  },
  {
   "cell_type": "markdown",
   "metadata": {},
   "source": [
    "Index list can be used later for converting back to the label of the relation."
   ]
  },
  {
   "cell_type": "code",
   "execution_count": 14,
   "metadata": {
    "execution": {
     "iopub.execute_input": "2024-08-07T09:41:38.695771Z",
     "iopub.status.busy": "2024-08-07T09:41:38.695771Z",
     "iopub.status.idle": "2024-08-07T09:41:38.738152Z",
     "shell.execute_reply": "2024-08-07T09:41:38.737149Z"
    }
   },
   "outputs": [
    {
     "data": {
      "text/plain": [
       "Index(['interacts with', 'in orthology relationship with', 'causes condition',\n",
       "       'is variant in', 'enables', 'found in', 'contributes to condition',\n",
       "       'colocalizes with', 'has role in modeling', 'expresses gene',\n",
       "       'associated with phenotype', 'is of', 'targets',\n",
       "       'is substance that treats', 'has affected feature', 'is product of',\n",
       "       'is allele of', 'has genotype', 'involved in'],\n",
       "      dtype='object')"
      ]
     },
     "execution_count": 14,
     "metadata": {},
     "output_type": "execute_result"
    }
   ],
   "source": [
    "_, relation_labels = pd.factorize(edges['relation'])\n",
    "relation_labels"
   ]
  },
  {
   "attachments": {},
   "cell_type": "markdown",
   "metadata": {},
   "source": [
    "# Link Prediction"
   ]
  },
  {
   "cell_type": "markdown",
   "metadata": {},
   "source": []
  },
  {
   "cell_type": "code",
   "execution_count": 15,
   "metadata": {
    "execution": {
     "iopub.execute_input": "2024-08-07T09:41:38.742161Z",
     "iopub.status.busy": "2024-08-07T09:41:38.741172Z",
     "iopub.status.idle": "2024-08-07T09:41:38.753157Z",
     "shell.execute_reply": "2024-08-07T09:41:38.752147Z"
    }
   },
   "outputs": [],
   "source": [
    "gnn_params = {\n",
    "    'dmd': {\n",
    "        'prev': {\n",
    "            'neg_sampl_ratio': 1.0,\n",
    "            'device': torch_device,\n",
    "            'hidden_dim': 256,\n",
    "            'output_dim': 64,\n",
    "            'epochs': 150,\n",
    "            'lr': 0.07,\n",
    "            'aggr': 'mean',\n",
    "            'layers': 2,\n",
    "            'dropout': 0.2\n",
    "        }, \n",
    "        'restr': {\n",
    "            'neg_sampl_ratio': 1.0,\n",
    "            'device': torch_device,\n",
    "            'hidden_dim': 256,\n",
    "            'output_dim': 64,\n",
    "            'epochs': 100,\n",
    "            'lr': 0.013477408995651594,\n",
    "            'aggr': 'mean',\n",
    "            'layers': 2,\n",
    "            'dropout': 0.2\n",
    "        }\n",
    "    },\n",
    "    'hd': {\n",
    "        'prev': {\n",
    "            'neg_sampl_ratio': 1.5,\n",
    "            'device': torch_device,\n",
    "            'hidden_dim': 256,\n",
    "            'output_dim': 64,\n",
    "            'epochs': 150,\n",
    "            'lr': 0.015119455370138871,\n",
    "            'aggr': 'mean',\n",
    "            'layers': 4,\n",
    "            'dropout': 0.1\n",
    "        }, \n",
    "        'restr': {\n",
    "            'neg_sampl_ratio': 0.5,\n",
    "            'device': torch_device,\n",
    "            'hidden_dim': 256,\n",
    "            'output_dim': 64,\n",
    "            'epochs': 150,\n",
    "            'lr': 0.036447056879784764,\n",
    "            'aggr': 'sum',\n",
    "            'layers': 6,\n",
    "            'dropout': 0.2\n",
    "        }\n",
    "    },\n",
    "    'oi': {\n",
    "        'prev': {\n",
    "            'neg_sampl_ratio': 1.5,\n",
    "            'device': torch_device,\n",
    "            'hidden_dim': 256,\n",
    "            'output_dim': 64,\n",
    "            'epochs': 100,\n",
    "            'lr': 0.0006060400655270159,\n",
    "            'aggr': 'mean',\n",
    "            'layers': 2,\n",
    "            'dropout': 0.2\n",
    "        }, \n",
    "        'restr': {\n",
    "            'neg_sampl_ratio': 1.0,\n",
    "            'device': torch_device,\n",
    "            'hidden_dim': 64,\n",
    "            'output_dim': 128,\n",
    "            'epochs': 150,\n",
    "            'lr': 0.02678894881316133,\n",
    "            'aggr': 'mean',\n",
    "            'layers': 2,\n",
    "            'dropout': 0.1\n",
    "        }\n",
    "    }\n",
    "}\n",
    "\n",
    "weight_decay = 5e-4\n",
    "args = gnn_params[disease_prefix][dataset_prefix]"
   ]
  },
  {
   "attachments": {},
   "cell_type": "markdown",
   "metadata": {},
   "source": [
    "Creating a graph including the node embeddings as features of each node."
   ]
  },
  {
   "cell_type": "code",
   "execution_count": 16,
   "metadata": {
    "execution": {
     "iopub.execute_input": "2024-08-07T09:41:38.759157Z",
     "iopub.status.busy": "2024-08-07T09:41:38.758159Z",
     "iopub.status.idle": "2024-08-07T09:41:51.200960Z",
     "shell.execute_reply": "2024-08-07T09:41:51.198959Z"
    }
   },
   "outputs": [
    {
     "name": "stdout",
     "output_type": "stream",
     "text": [
      "(0, {'node_feature': tensor([-5.8269e-02,  1.4183e-02,  1.2083e-05, -2.2304e-01, -3.9862e-02,\n",
      "        -3.3126e-02,  3.7162e-02, -8.1139e-02,  5.1235e-02, -1.1945e-01,\n",
      "        -3.5881e-01,  1.3948e-01, -2.2644e-01,  1.3902e-02,  5.5379e-02,\n",
      "        -5.8606e-02, -7.1530e-02,  3.0371e-01,  1.1037e-02,  7.7348e-02,\n",
      "        -1.0673e-01, -2.0792e-02,  5.3197e-02, -2.0558e-01, -3.5895e-02,\n",
      "        -1.9295e-01,  1.3220e-01, -8.8172e-02,  1.1726e-01, -4.2762e-02,\n",
      "        -2.5583e-01,  8.4298e-02, -1.4668e-01, -7.5209e-02, -5.1197e-02,\n",
      "        -2.1389e-02, -2.6256e-02, -6.4257e-04,  1.1496e-01, -1.2730e-01,\n",
      "         1.4372e-01,  5.5362e-02, -1.5789e-01, -1.3221e-01,  2.8352e-01,\n",
      "        -5.6998e-02, -1.9726e-01,  1.0538e-01, -1.4199e-01, -9.0209e-02,\n",
      "         3.8874e-02, -1.5574e-02, -1.6230e-01,  1.5988e-01, -1.5472e-02,\n",
      "         4.8139e-02,  1.3163e-01,  1.8343e-02, -6.1870e-02, -9.9100e-02,\n",
      "         1.5358e-01, -1.7626e-02,  1.4429e-01,  9.5676e-02, -3.5467e-02,\n",
      "         6.7254e-02, -1.3797e-03, -3.6841e-02, -7.4630e-02, -1.0317e-01,\n",
      "         1.5062e-01, -1.3213e-01,  5.7279e-02,  1.4581e-01, -4.5993e-02,\n",
      "        -7.7790e-02,  9.6927e-02,  1.1105e-01, -4.7390e-02,  1.8014e-02,\n",
      "         9.7522e-02,  1.1178e-01,  5.6866e-02, -1.8012e-02,  2.3333e-01,\n",
      "         1.7271e-01, -7.8582e-03, -6.4464e-02,  1.0948e-01, -2.3678e-03,\n",
      "         4.2673e-02,  2.2731e-01,  7.0634e-02,  9.8010e-02,  1.6844e-01,\n",
      "        -8.8690e-02, -9.4807e-02, -8.3893e-02, -8.4746e-02, -7.6776e-02,\n",
      "        -1.4425e-01,  2.9738e-02, -1.4061e-02, -1.2071e-02,  1.9486e-01,\n",
      "        -3.5890e-03,  1.2450e-01, -2.0581e-01,  9.7757e-02,  1.1343e-01,\n",
      "        -1.8203e-01,  1.4425e-01, -5.5236e-02, -1.3986e-01,  8.8312e-02,\n",
      "        -3.8845e-02,  1.0540e-01, -1.6710e-01, -1.3130e-01, -1.6502e-01,\n",
      "        -2.2400e-01,  2.2182e-02, -4.6679e-02, -1.3118e-01, -3.7184e-02,\n",
      "        -1.6212e-02,  1.6046e-01, -1.9616e-01])})\n",
      "(0, 1496, {})\n",
      "Number of edges is 135988\n",
      "Number of nodes is 14882\n"
     ]
    }
   ],
   "source": [
    "embedded_node_G = nx.Graph() # TODO: DiGraph() or Graph()?\n",
    "\n",
    "for ind, node in embedding.iterrows(): \n",
    "  embedded_node_G.add_node(int(node['Node']), node_feature=torch.Tensor(node['Embedding']))\n",
    "for ind, edge in edges.iterrows(): \n",
    "  embedded_node_G.add_edge(int(edge['index_head']), int(edge['index_tail']))\n",
    "    \n",
    "for node in embedded_node_G.nodes(data=True):\n",
    "    print(node)\n",
    "    break\n",
    "for edge in embedded_node_G.edges(data=True):\n",
    "    print(edge)\n",
    "    break\n",
    "\n",
    "print(\"Number of edges is {}\".format(embedded_node_G.number_of_edges()))\n",
    "print(\"Number of nodes is {}\".format(embedded_node_G.number_of_nodes()))"
   ]
  },
  {
   "attachments": {},
   "cell_type": "markdown",
   "metadata": {},
   "source": [
    "## Generate graph datasets for training, validation and testing"
   ]
  },
  {
   "attachments": {},
   "cell_type": "markdown",
   "metadata": {},
   "source": [
    "Transductive link prediction split (https://zqfang.github.io/2021-08-12-graph-linkpredict/):\n",
    "- Train/validation/test sets are on the same graph\n",
    "- The dataset consists of one graph\n",
    "- The entire graph can be observed in all dataset splits\n",
    "- The labels of the edges are split"
   ]
  },
  {
   "cell_type": "code",
   "execution_count": 17,
   "metadata": {
    "execution": {
     "iopub.execute_input": "2024-08-07T09:41:51.204972Z",
     "iopub.status.busy": "2024-08-07T09:41:51.203973Z",
     "iopub.status.idle": "2024-08-07T09:41:55.844473Z",
     "shell.execute_reply": "2024-08-07T09:41:55.843473Z"
    }
   },
   "outputs": [
    {
     "name": "stderr",
     "output_type": "stream",
     "text": [
      "c:\\Users\\rosa-\\anaconda3\\envs\\xaifo\\lib\\site-packages\\deepsnap\\graph.py:2126: UserWarning: __floordiv__ is deprecated, and its behavior will change in a future version of pytorch. It currently rounds toward 0 (like the 'trunc' function NOT 'floor'). This results in incorrect rounding for negative values. To keep the current behavior, use torch.div(a, b, rounding_mode='trunc'), or for actual floor division, use torch.div(a, b, rounding_mode='floor').\n",
      "  row = perm // num_nodes\n"
     ]
    },
    {
     "name": "stdout",
     "output_type": "stream",
     "text": [
      "Input dimension (embedding dimension): 128 \n",
      " Number of edge classes (link or no link): 2\n"
     ]
    }
   ],
   "source": [
    "dataset = GraphDataset(\n",
    "    embedded_node_G,\n",
    "    task='link_pred',\n",
    "    edge_train_mode='all',\n",
    "    edge_negative_sampling_ratio=args['neg_sampl_ratio']\n",
    ")\n",
    "\n",
    "datasets = {}\n",
    "datasets['train'], datasets['val'], datasets['test'] = dataset.split(\n",
    "    transductive=True, split_ratio=[0.8, 0.1, 0.1]\n",
    ")\n",
    "\n",
    "input_dim = datasets['train'].num_node_features\n",
    "num_classes = datasets['train'].num_edge_labels\n",
    "\n",
    "print(f'Input dimension (embedding dimension): {input_dim} \\n Number of edge classes (link or no link): {num_classes}')   "
   ]
  },
  {
   "attachments": {},
   "cell_type": "markdown",
   "metadata": {},
   "source": [
    "Dataloaders allow to feed data into the model by batch."
   ]
  },
  {
   "cell_type": "code",
   "execution_count": 18,
   "metadata": {
    "execution": {
     "iopub.execute_input": "2024-08-07T09:41:55.848473Z",
     "iopub.status.busy": "2024-08-07T09:41:55.848473Z",
     "iopub.status.idle": "2024-08-07T09:41:55.860483Z",
     "shell.execute_reply": "2024-08-07T09:41:55.859478Z"
    }
   },
   "outputs": [],
   "source": [
    "dataloaders = {split: DataLoader(ds, collate_fn=Batch.collate([]), batch_size=1, shuffle=(split=='train')) for split, ds in datasets.items()}"
   ]
  },
  {
   "attachments": {},
   "cell_type": "markdown",
   "metadata": {},
   "source": [
    "## Train GNN"
   ]
  },
  {
   "attachments": {},
   "cell_type": "markdown",
   "metadata": {},
   "source": [
    "### Predefined Arguments"
   ]
  },
  {
   "attachments": {},
   "cell_type": "markdown",
   "metadata": {},
   "source": [
    "Train GNN with predefined arguments"
   ]
  },
  {
   "cell_type": "code",
   "execution_count": 19,
   "metadata": {
    "execution": {
     "iopub.execute_input": "2024-08-07T09:41:55.864483Z",
     "iopub.status.busy": "2024-08-07T09:41:55.864483Z",
     "iopub.status.idle": "2024-08-07T09:41:55.891992Z",
     "shell.execute_reply": "2024-08-07T09:41:55.890988Z"
    }
   },
   "outputs": [
    {
     "name": "stdout",
     "output_type": "stream",
     "text": [
      "{'neg_sampl_ratio': 0.5, 'device': device(type='cpu'), 'hidden_dim': 256, 'output_dim': 64, 'epochs': 150, 'lr': 0.036447056879784764, 'aggr': 'sum', 'layers': 6, 'dropout': 0.2} 0.0005\n"
     ]
    }
   ],
   "source": [
    "print(args, weight_decay)\n",
    "\n",
    "model = LinkPredModel(input_dim, args['hidden_dim'], args['output_dim'], args['layers'], args['aggr'], args['dropout'], args['device']).to(args['device'])\n",
    "optimizer = torch.optim.SGD(model.parameters(), lr=args['lr'], momentum=0.9, weight_decay=weight_decay)"
   ]
  },
  {
   "cell_type": "code",
   "execution_count": 20,
   "metadata": {
    "execution": {
     "iopub.execute_input": "2024-08-07T09:41:55.895988Z",
     "iopub.status.busy": "2024-08-07T09:41:55.895988Z",
     "iopub.status.idle": "2024-08-07T09:57:18.424301Z",
     "shell.execute_reply": "2024-08-07T09:57:18.423290Z"
    }
   },
   "outputs": [
    {
     "name": "stdout",
     "output_type": "stream",
     "text": [
      "Start Train Function\n",
      "Epoch: 001, Train: 0.9011, Val: 0.8750, Test: 0.8831, Loss: 1.61948\n"
     ]
    },
    {
     "name": "stderr",
     "output_type": "stream",
     "text": [
      "c:\\Users\\rosa-\\anaconda3\\envs\\xaifo\\lib\\site-packages\\deepsnap\\graph.py:2126: UserWarning: __floordiv__ is deprecated, and its behavior will change in a future version of pytorch. It currently rounds toward 0 (like the 'trunc' function NOT 'floor'). This results in incorrect rounding for negative values. To keep the current behavior, use torch.div(a, b, rounding_mode='trunc'), or for actual floor division, use torch.div(a, b, rounding_mode='floor').\n",
      "  row = perm // num_nodes\n"
     ]
    },
    {
     "name": "stdout",
     "output_type": "stream",
     "text": [
      "Epoch: 002, Train: 0.9075, Val: 0.8826, Test: 0.8907, Loss: 1.44283\n"
     ]
    },
    {
     "name": "stderr",
     "output_type": "stream",
     "text": [
      "c:\\Users\\rosa-\\anaconda3\\envs\\xaifo\\lib\\site-packages\\deepsnap\\graph.py:2126: UserWarning: __floordiv__ is deprecated, and its behavior will change in a future version of pytorch. It currently rounds toward 0 (like the 'trunc' function NOT 'floor'). This results in incorrect rounding for negative values. To keep the current behavior, use torch.div(a, b, rounding_mode='trunc'), or for actual floor division, use torch.div(a, b, rounding_mode='floor').\n",
      "  row = perm // num_nodes\n"
     ]
    },
    {
     "name": "stdout",
     "output_type": "stream",
     "text": [
      "Epoch: 003, Train: 0.9130, Val: 0.8877, Test: 0.8961, Loss: 1.29481\n"
     ]
    },
    {
     "name": "stderr",
     "output_type": "stream",
     "text": [
      "c:\\Users\\rosa-\\anaconda3\\envs\\xaifo\\lib\\site-packages\\deepsnap\\graph.py:2126: UserWarning: __floordiv__ is deprecated, and its behavior will change in a future version of pytorch. It currently rounds toward 0 (like the 'trunc' function NOT 'floor'). This results in incorrect rounding for negative values. To keep the current behavior, use torch.div(a, b, rounding_mode='trunc'), or for actual floor division, use torch.div(a, b, rounding_mode='floor').\n",
      "  row = perm // num_nodes\n"
     ]
    },
    {
     "name": "stdout",
     "output_type": "stream",
     "text": [
      "Epoch: 004, Train: 0.9161, Val: 0.8903, Test: 0.8988, Loss: 1.25909\n"
     ]
    },
    {
     "name": "stderr",
     "output_type": "stream",
     "text": [
      "c:\\Users\\rosa-\\anaconda3\\envs\\xaifo\\lib\\site-packages\\deepsnap\\graph.py:2126: UserWarning: __floordiv__ is deprecated, and its behavior will change in a future version of pytorch. It currently rounds toward 0 (like the 'trunc' function NOT 'floor'). This results in incorrect rounding for negative values. To keep the current behavior, use torch.div(a, b, rounding_mode='trunc'), or for actual floor division, use torch.div(a, b, rounding_mode='floor').\n",
      "  row = perm // num_nodes\n"
     ]
    },
    {
     "name": "stdout",
     "output_type": "stream",
     "text": [
      "Epoch: 005, Train: 0.9151, Val: 0.8887, Test: 0.8971, Loss: 1.23357\n"
     ]
    },
    {
     "name": "stderr",
     "output_type": "stream",
     "text": [
      "c:\\Users\\rosa-\\anaconda3\\envs\\xaifo\\lib\\site-packages\\deepsnap\\graph.py:2126: UserWarning: __floordiv__ is deprecated, and its behavior will change in a future version of pytorch. It currently rounds toward 0 (like the 'trunc' function NOT 'floor'). This results in incorrect rounding for negative values. To keep the current behavior, use torch.div(a, b, rounding_mode='trunc'), or for actual floor division, use torch.div(a, b, rounding_mode='floor').\n",
      "  row = perm // num_nodes\n"
     ]
    },
    {
     "name": "stdout",
     "output_type": "stream",
     "text": [
      "Epoch: 006, Train: 0.9116, Val: 0.8840, Test: 0.8926, Loss: 1.22296\n"
     ]
    },
    {
     "name": "stderr",
     "output_type": "stream",
     "text": [
      "c:\\Users\\rosa-\\anaconda3\\envs\\xaifo\\lib\\site-packages\\deepsnap\\graph.py:2126: UserWarning: __floordiv__ is deprecated, and its behavior will change in a future version of pytorch. It currently rounds toward 0 (like the 'trunc' function NOT 'floor'). This results in incorrect rounding for negative values. To keep the current behavior, use torch.div(a, b, rounding_mode='trunc'), or for actual floor division, use torch.div(a, b, rounding_mode='floor').\n",
      "  row = perm // num_nodes\n"
     ]
    },
    {
     "name": "stdout",
     "output_type": "stream",
     "text": [
      "Epoch: 007, Train: 0.9054, Val: 0.8774, Test: 0.8861, Loss: 1.16438\n"
     ]
    },
    {
     "name": "stderr",
     "output_type": "stream",
     "text": [
      "c:\\Users\\rosa-\\anaconda3\\envs\\xaifo\\lib\\site-packages\\deepsnap\\graph.py:2126: UserWarning: __floordiv__ is deprecated, and its behavior will change in a future version of pytorch. It currently rounds toward 0 (like the 'trunc' function NOT 'floor'). This results in incorrect rounding for negative values. To keep the current behavior, use torch.div(a, b, rounding_mode='trunc'), or for actual floor division, use torch.div(a, b, rounding_mode='floor').\n",
      "  row = perm // num_nodes\n"
     ]
    },
    {
     "name": "stdout",
     "output_type": "stream",
     "text": [
      "Epoch: 008, Train: 0.9002, Val: 0.8714, Test: 0.8799, Loss: 1.11601\n"
     ]
    },
    {
     "name": "stderr",
     "output_type": "stream",
     "text": [
      "c:\\Users\\rosa-\\anaconda3\\envs\\xaifo\\lib\\site-packages\\deepsnap\\graph.py:2126: UserWarning: __floordiv__ is deprecated, and its behavior will change in a future version of pytorch. It currently rounds toward 0 (like the 'trunc' function NOT 'floor'). This results in incorrect rounding for negative values. To keep the current behavior, use torch.div(a, b, rounding_mode='trunc'), or for actual floor division, use torch.div(a, b, rounding_mode='floor').\n",
      "  row = perm // num_nodes\n"
     ]
    },
    {
     "name": "stdout",
     "output_type": "stream",
     "text": [
      "Epoch: 009, Train: 0.8990, Val: 0.8697, Test: 0.8783, Loss: 1.08598\n"
     ]
    },
    {
     "name": "stderr",
     "output_type": "stream",
     "text": [
      "c:\\Users\\rosa-\\anaconda3\\envs\\xaifo\\lib\\site-packages\\deepsnap\\graph.py:2126: UserWarning: __floordiv__ is deprecated, and its behavior will change in a future version of pytorch. It currently rounds toward 0 (like the 'trunc' function NOT 'floor'). This results in incorrect rounding for negative values. To keep the current behavior, use torch.div(a, b, rounding_mode='trunc'), or for actual floor division, use torch.div(a, b, rounding_mode='floor').\n",
      "  row = perm // num_nodes\n"
     ]
    },
    {
     "name": "stdout",
     "output_type": "stream",
     "text": [
      "Epoch: 010, Train: 0.8998, Val: 0.8682, Test: 0.8770, Loss: 1.05749\n"
     ]
    },
    {
     "name": "stderr",
     "output_type": "stream",
     "text": [
      "c:\\Users\\rosa-\\anaconda3\\envs\\xaifo\\lib\\site-packages\\deepsnap\\graph.py:2126: UserWarning: __floordiv__ is deprecated, and its behavior will change in a future version of pytorch. It currently rounds toward 0 (like the 'trunc' function NOT 'floor'). This results in incorrect rounding for negative values. To keep the current behavior, use torch.div(a, b, rounding_mode='trunc'), or for actual floor division, use torch.div(a, b, rounding_mode='floor').\n",
      "  row = perm // num_nodes\n"
     ]
    },
    {
     "name": "stdout",
     "output_type": "stream",
     "text": [
      "Epoch: 011, Train: 0.9004, Val: 0.8684, Test: 0.8777, Loss: 1.00249\n"
     ]
    },
    {
     "name": "stderr",
     "output_type": "stream",
     "text": [
      "c:\\Users\\rosa-\\anaconda3\\envs\\xaifo\\lib\\site-packages\\deepsnap\\graph.py:2126: UserWarning: __floordiv__ is deprecated, and its behavior will change in a future version of pytorch. It currently rounds toward 0 (like the 'trunc' function NOT 'floor'). This results in incorrect rounding for negative values. To keep the current behavior, use torch.div(a, b, rounding_mode='trunc'), or for actual floor division, use torch.div(a, b, rounding_mode='floor').\n",
      "  row = perm // num_nodes\n"
     ]
    },
    {
     "name": "stdout",
     "output_type": "stream",
     "text": [
      "Epoch: 012, Train: 0.9019, Val: 0.8685, Test: 0.8782, Loss: 0.95199\n"
     ]
    },
    {
     "name": "stderr",
     "output_type": "stream",
     "text": [
      "c:\\Users\\rosa-\\anaconda3\\envs\\xaifo\\lib\\site-packages\\deepsnap\\graph.py:2126: UserWarning: __floordiv__ is deprecated, and its behavior will change in a future version of pytorch. It currently rounds toward 0 (like the 'trunc' function NOT 'floor'). This results in incorrect rounding for negative values. To keep the current behavior, use torch.div(a, b, rounding_mode='trunc'), or for actual floor division, use torch.div(a, b, rounding_mode='floor').\n",
      "  row = perm // num_nodes\n"
     ]
    },
    {
     "name": "stdout",
     "output_type": "stream",
     "text": [
      "Epoch: 013, Train: 0.9038, Val: 0.8695, Test: 0.8792, Loss: 0.91902\n"
     ]
    },
    {
     "name": "stderr",
     "output_type": "stream",
     "text": [
      "c:\\Users\\rosa-\\anaconda3\\envs\\xaifo\\lib\\site-packages\\deepsnap\\graph.py:2126: UserWarning: __floordiv__ is deprecated, and its behavior will change in a future version of pytorch. It currently rounds toward 0 (like the 'trunc' function NOT 'floor'). This results in incorrect rounding for negative values. To keep the current behavior, use torch.div(a, b, rounding_mode='trunc'), or for actual floor division, use torch.div(a, b, rounding_mode='floor').\n",
      "  row = perm // num_nodes\n"
     ]
    },
    {
     "name": "stdout",
     "output_type": "stream",
     "text": [
      "Epoch: 014, Train: 0.9067, Val: 0.8712, Test: 0.8807, Loss: 0.89095\n"
     ]
    },
    {
     "name": "stderr",
     "output_type": "stream",
     "text": [
      "c:\\Users\\rosa-\\anaconda3\\envs\\xaifo\\lib\\site-packages\\deepsnap\\graph.py:2126: UserWarning: __floordiv__ is deprecated, and its behavior will change in a future version of pytorch. It currently rounds toward 0 (like the 'trunc' function NOT 'floor'). This results in incorrect rounding for negative values. To keep the current behavior, use torch.div(a, b, rounding_mode='trunc'), or for actual floor division, use torch.div(a, b, rounding_mode='floor').\n",
      "  row = perm // num_nodes\n"
     ]
    },
    {
     "name": "stdout",
     "output_type": "stream",
     "text": [
      "Epoch: 015, Train: 0.9099, Val: 0.8729, Test: 0.8820, Loss: 0.85187\n"
     ]
    },
    {
     "name": "stderr",
     "output_type": "stream",
     "text": [
      "c:\\Users\\rosa-\\anaconda3\\envs\\xaifo\\lib\\site-packages\\deepsnap\\graph.py:2126: UserWarning: __floordiv__ is deprecated, and its behavior will change in a future version of pytorch. It currently rounds toward 0 (like the 'trunc' function NOT 'floor'). This results in incorrect rounding for negative values. To keep the current behavior, use torch.div(a, b, rounding_mode='trunc'), or for actual floor division, use torch.div(a, b, rounding_mode='floor').\n",
      "  row = perm // num_nodes\n"
     ]
    },
    {
     "name": "stdout",
     "output_type": "stream",
     "text": [
      "Epoch: 016, Train: 0.9121, Val: 0.8738, Test: 0.8825, Loss: 0.81495\n"
     ]
    },
    {
     "name": "stderr",
     "output_type": "stream",
     "text": [
      "c:\\Users\\rosa-\\anaconda3\\envs\\xaifo\\lib\\site-packages\\deepsnap\\graph.py:2126: UserWarning: __floordiv__ is deprecated, and its behavior will change in a future version of pytorch. It currently rounds toward 0 (like the 'trunc' function NOT 'floor'). This results in incorrect rounding for negative values. To keep the current behavior, use torch.div(a, b, rounding_mode='trunc'), or for actual floor division, use torch.div(a, b, rounding_mode='floor').\n",
      "  row = perm // num_nodes\n"
     ]
    },
    {
     "name": "stdout",
     "output_type": "stream",
     "text": [
      "Epoch: 017, Train: 0.9148, Val: 0.8741, Test: 0.8826, Loss: 0.78103\n"
     ]
    },
    {
     "name": "stderr",
     "output_type": "stream",
     "text": [
      "c:\\Users\\rosa-\\anaconda3\\envs\\xaifo\\lib\\site-packages\\deepsnap\\graph.py:2126: UserWarning: __floordiv__ is deprecated, and its behavior will change in a future version of pytorch. It currently rounds toward 0 (like the 'trunc' function NOT 'floor'). This results in incorrect rounding for negative values. To keep the current behavior, use torch.div(a, b, rounding_mode='trunc'), or for actual floor division, use torch.div(a, b, rounding_mode='floor').\n",
      "  row = perm // num_nodes\n"
     ]
    },
    {
     "name": "stdout",
     "output_type": "stream",
     "text": [
      "Epoch: 018, Train: 0.9179, Val: 0.8751, Test: 0.8835, Loss: 0.75969\n"
     ]
    },
    {
     "name": "stderr",
     "output_type": "stream",
     "text": [
      "c:\\Users\\rosa-\\anaconda3\\envs\\xaifo\\lib\\site-packages\\deepsnap\\graph.py:2126: UserWarning: __floordiv__ is deprecated, and its behavior will change in a future version of pytorch. It currently rounds toward 0 (like the 'trunc' function NOT 'floor'). This results in incorrect rounding for negative values. To keep the current behavior, use torch.div(a, b, rounding_mode='trunc'), or for actual floor division, use torch.div(a, b, rounding_mode='floor').\n",
      "  row = perm // num_nodes\n"
     ]
    },
    {
     "name": "stdout",
     "output_type": "stream",
     "text": [
      "Epoch: 019, Train: 0.9190, Val: 0.8759, Test: 0.8844, Loss: 0.73133\n"
     ]
    },
    {
     "name": "stderr",
     "output_type": "stream",
     "text": [
      "c:\\Users\\rosa-\\anaconda3\\envs\\xaifo\\lib\\site-packages\\deepsnap\\graph.py:2126: UserWarning: __floordiv__ is deprecated, and its behavior will change in a future version of pytorch. It currently rounds toward 0 (like the 'trunc' function NOT 'floor'). This results in incorrect rounding for negative values. To keep the current behavior, use torch.div(a, b, rounding_mode='trunc'), or for actual floor division, use torch.div(a, b, rounding_mode='floor').\n",
      "  row = perm // num_nodes\n"
     ]
    },
    {
     "name": "stdout",
     "output_type": "stream",
     "text": [
      "Epoch: 020, Train: 0.9227, Val: 0.8788, Test: 0.8872, Loss: 0.69369\n"
     ]
    },
    {
     "name": "stderr",
     "output_type": "stream",
     "text": [
      "c:\\Users\\rosa-\\anaconda3\\envs\\xaifo\\lib\\site-packages\\deepsnap\\graph.py:2126: UserWarning: __floordiv__ is deprecated, and its behavior will change in a future version of pytorch. It currently rounds toward 0 (like the 'trunc' function NOT 'floor'). This results in incorrect rounding for negative values. To keep the current behavior, use torch.div(a, b, rounding_mode='trunc'), or for actual floor division, use torch.div(a, b, rounding_mode='floor').\n",
      "  row = perm // num_nodes\n"
     ]
    },
    {
     "name": "stdout",
     "output_type": "stream",
     "text": [
      "Epoch: 021, Train: 0.9265, Val: 0.8835, Test: 0.8917, Loss: 0.66794\n"
     ]
    },
    {
     "name": "stderr",
     "output_type": "stream",
     "text": [
      "c:\\Users\\rosa-\\anaconda3\\envs\\xaifo\\lib\\site-packages\\deepsnap\\graph.py:2126: UserWarning: __floordiv__ is deprecated, and its behavior will change in a future version of pytorch. It currently rounds toward 0 (like the 'trunc' function NOT 'floor'). This results in incorrect rounding for negative values. To keep the current behavior, use torch.div(a, b, rounding_mode='trunc'), or for actual floor division, use torch.div(a, b, rounding_mode='floor').\n",
      "  row = perm // num_nodes\n"
     ]
    },
    {
     "name": "stdout",
     "output_type": "stream",
     "text": [
      "Epoch: 022, Train: 0.9330, Val: 0.8897, Test: 0.8976, Loss: 0.66381\n"
     ]
    },
    {
     "name": "stderr",
     "output_type": "stream",
     "text": [
      "c:\\Users\\rosa-\\anaconda3\\envs\\xaifo\\lib\\site-packages\\deepsnap\\graph.py:2126: UserWarning: __floordiv__ is deprecated, and its behavior will change in a future version of pytorch. It currently rounds toward 0 (like the 'trunc' function NOT 'floor'). This results in incorrect rounding for negative values. To keep the current behavior, use torch.div(a, b, rounding_mode='trunc'), or for actual floor division, use torch.div(a, b, rounding_mode='floor').\n",
      "  row = perm // num_nodes\n"
     ]
    },
    {
     "name": "stdout",
     "output_type": "stream",
     "text": [
      "Epoch: 023, Train: 0.9388, Val: 0.8958, Test: 0.9033, Loss: 0.62541\n"
     ]
    },
    {
     "name": "stderr",
     "output_type": "stream",
     "text": [
      "c:\\Users\\rosa-\\anaconda3\\envs\\xaifo\\lib\\site-packages\\deepsnap\\graph.py:2126: UserWarning: __floordiv__ is deprecated, and its behavior will change in a future version of pytorch. It currently rounds toward 0 (like the 'trunc' function NOT 'floor'). This results in incorrect rounding for negative values. To keep the current behavior, use torch.div(a, b, rounding_mode='trunc'), or for actual floor division, use torch.div(a, b, rounding_mode='floor').\n",
      "  row = perm // num_nodes\n"
     ]
    },
    {
     "name": "stdout",
     "output_type": "stream",
     "text": [
      "Epoch: 024, Train: 0.9439, Val: 0.9010, Test: 0.9081, Loss: 0.60306\n"
     ]
    },
    {
     "name": "stderr",
     "output_type": "stream",
     "text": [
      "c:\\Users\\rosa-\\anaconda3\\envs\\xaifo\\lib\\site-packages\\deepsnap\\graph.py:2126: UserWarning: __floordiv__ is deprecated, and its behavior will change in a future version of pytorch. It currently rounds toward 0 (like the 'trunc' function NOT 'floor'). This results in incorrect rounding for negative values. To keep the current behavior, use torch.div(a, b, rounding_mode='trunc'), or for actual floor division, use torch.div(a, b, rounding_mode='floor').\n",
      "  row = perm // num_nodes\n"
     ]
    },
    {
     "name": "stdout",
     "output_type": "stream",
     "text": [
      "Epoch: 025, Train: 0.9483, Val: 0.9058, Test: 0.9122, Loss: 0.58898\n"
     ]
    },
    {
     "name": "stderr",
     "output_type": "stream",
     "text": [
      "c:\\Users\\rosa-\\anaconda3\\envs\\xaifo\\lib\\site-packages\\deepsnap\\graph.py:2126: UserWarning: __floordiv__ is deprecated, and its behavior will change in a future version of pytorch. It currently rounds toward 0 (like the 'trunc' function NOT 'floor'). This results in incorrect rounding for negative values. To keep the current behavior, use torch.div(a, b, rounding_mode='trunc'), or for actual floor division, use torch.div(a, b, rounding_mode='floor').\n",
      "  row = perm // num_nodes\n"
     ]
    },
    {
     "name": "stdout",
     "output_type": "stream",
     "text": [
      "Epoch: 026, Train: 0.9516, Val: 0.9090, Test: 0.9150, Loss: 0.56549\n"
     ]
    },
    {
     "name": "stderr",
     "output_type": "stream",
     "text": [
      "c:\\Users\\rosa-\\anaconda3\\envs\\xaifo\\lib\\site-packages\\deepsnap\\graph.py:2126: UserWarning: __floordiv__ is deprecated, and its behavior will change in a future version of pytorch. It currently rounds toward 0 (like the 'trunc' function NOT 'floor'). This results in incorrect rounding for negative values. To keep the current behavior, use torch.div(a, b, rounding_mode='trunc'), or for actual floor division, use torch.div(a, b, rounding_mode='floor').\n",
      "  row = perm // num_nodes\n"
     ]
    },
    {
     "name": "stdout",
     "output_type": "stream",
     "text": [
      "Epoch: 027, Train: 0.9530, Val: 0.9115, Test: 0.9175, Loss: 0.55715\n"
     ]
    },
    {
     "name": "stderr",
     "output_type": "stream",
     "text": [
      "c:\\Users\\rosa-\\anaconda3\\envs\\xaifo\\lib\\site-packages\\deepsnap\\graph.py:2126: UserWarning: __floordiv__ is deprecated, and its behavior will change in a future version of pytorch. It currently rounds toward 0 (like the 'trunc' function NOT 'floor'). This results in incorrect rounding for negative values. To keep the current behavior, use torch.div(a, b, rounding_mode='trunc'), or for actual floor division, use torch.div(a, b, rounding_mode='floor').\n",
      "  row = perm // num_nodes\n"
     ]
    },
    {
     "name": "stdout",
     "output_type": "stream",
     "text": [
      "Epoch: 028, Train: 0.9551, Val: 0.9136, Test: 0.9194, Loss: 0.54021\n"
     ]
    },
    {
     "name": "stderr",
     "output_type": "stream",
     "text": [
      "c:\\Users\\rosa-\\anaconda3\\envs\\xaifo\\lib\\site-packages\\deepsnap\\graph.py:2126: UserWarning: __floordiv__ is deprecated, and its behavior will change in a future version of pytorch. It currently rounds toward 0 (like the 'trunc' function NOT 'floor'). This results in incorrect rounding for negative values. To keep the current behavior, use torch.div(a, b, rounding_mode='trunc'), or for actual floor division, use torch.div(a, b, rounding_mode='floor').\n",
      "  row = perm // num_nodes\n"
     ]
    },
    {
     "name": "stdout",
     "output_type": "stream",
     "text": [
      "Epoch: 029, Train: 0.9566, Val: 0.9159, Test: 0.9216, Loss: 0.52685\n"
     ]
    },
    {
     "name": "stderr",
     "output_type": "stream",
     "text": [
      "c:\\Users\\rosa-\\anaconda3\\envs\\xaifo\\lib\\site-packages\\deepsnap\\graph.py:2126: UserWarning: __floordiv__ is deprecated, and its behavior will change in a future version of pytorch. It currently rounds toward 0 (like the 'trunc' function NOT 'floor'). This results in incorrect rounding for negative values. To keep the current behavior, use torch.div(a, b, rounding_mode='trunc'), or for actual floor division, use torch.div(a, b, rounding_mode='floor').\n",
      "  row = perm // num_nodes\n"
     ]
    },
    {
     "name": "stdout",
     "output_type": "stream",
     "text": [
      "Epoch: 030, Train: 0.9584, Val: 0.9185, Test: 0.9239, Loss: 0.51900\n"
     ]
    },
    {
     "name": "stderr",
     "output_type": "stream",
     "text": [
      "c:\\Users\\rosa-\\anaconda3\\envs\\xaifo\\lib\\site-packages\\deepsnap\\graph.py:2126: UserWarning: __floordiv__ is deprecated, and its behavior will change in a future version of pytorch. It currently rounds toward 0 (like the 'trunc' function NOT 'floor'). This results in incorrect rounding for negative values. To keep the current behavior, use torch.div(a, b, rounding_mode='trunc'), or for actual floor division, use torch.div(a, b, rounding_mode='floor').\n",
      "  row = perm // num_nodes\n"
     ]
    },
    {
     "name": "stdout",
     "output_type": "stream",
     "text": [
      "Epoch: 031, Train: 0.9600, Val: 0.9208, Test: 0.9261, Loss: 0.49499\n"
     ]
    },
    {
     "name": "stderr",
     "output_type": "stream",
     "text": [
      "c:\\Users\\rosa-\\anaconda3\\envs\\xaifo\\lib\\site-packages\\deepsnap\\graph.py:2126: UserWarning: __floordiv__ is deprecated, and its behavior will change in a future version of pytorch. It currently rounds toward 0 (like the 'trunc' function NOT 'floor'). This results in incorrect rounding for negative values. To keep the current behavior, use torch.div(a, b, rounding_mode='trunc'), or for actual floor division, use torch.div(a, b, rounding_mode='floor').\n",
      "  row = perm // num_nodes\n"
     ]
    },
    {
     "name": "stdout",
     "output_type": "stream",
     "text": [
      "Epoch: 032, Train: 0.9623, Val: 0.9228, Test: 0.9280, Loss: 0.48247\n"
     ]
    },
    {
     "name": "stderr",
     "output_type": "stream",
     "text": [
      "c:\\Users\\rosa-\\anaconda3\\envs\\xaifo\\lib\\site-packages\\deepsnap\\graph.py:2126: UserWarning: __floordiv__ is deprecated, and its behavior will change in a future version of pytorch. It currently rounds toward 0 (like the 'trunc' function NOT 'floor'). This results in incorrect rounding for negative values. To keep the current behavior, use torch.div(a, b, rounding_mode='trunc'), or for actual floor division, use torch.div(a, b, rounding_mode='floor').\n",
      "  row = perm // num_nodes\n"
     ]
    },
    {
     "name": "stdout",
     "output_type": "stream",
     "text": [
      "Epoch: 033, Train: 0.9628, Val: 0.9243, Test: 0.9293, Loss: 0.46989\n"
     ]
    },
    {
     "name": "stderr",
     "output_type": "stream",
     "text": [
      "c:\\Users\\rosa-\\anaconda3\\envs\\xaifo\\lib\\site-packages\\deepsnap\\graph.py:2126: UserWarning: __floordiv__ is deprecated, and its behavior will change in a future version of pytorch. It currently rounds toward 0 (like the 'trunc' function NOT 'floor'). This results in incorrect rounding for negative values. To keep the current behavior, use torch.div(a, b, rounding_mode='trunc'), or for actual floor division, use torch.div(a, b, rounding_mode='floor').\n",
      "  row = perm // num_nodes\n"
     ]
    },
    {
     "name": "stdout",
     "output_type": "stream",
     "text": [
      "Epoch: 034, Train: 0.9638, Val: 0.9257, Test: 0.9306, Loss: 0.46436\n"
     ]
    },
    {
     "name": "stderr",
     "output_type": "stream",
     "text": [
      "c:\\Users\\rosa-\\anaconda3\\envs\\xaifo\\lib\\site-packages\\deepsnap\\graph.py:2126: UserWarning: __floordiv__ is deprecated, and its behavior will change in a future version of pytorch. It currently rounds toward 0 (like the 'trunc' function NOT 'floor'). This results in incorrect rounding for negative values. To keep the current behavior, use torch.div(a, b, rounding_mode='trunc'), or for actual floor division, use torch.div(a, b, rounding_mode='floor').\n",
      "  row = perm // num_nodes\n"
     ]
    },
    {
     "name": "stdout",
     "output_type": "stream",
     "text": [
      "Epoch: 035, Train: 0.9651, Val: 0.9271, Test: 0.9319, Loss: 0.46433\n"
     ]
    },
    {
     "name": "stderr",
     "output_type": "stream",
     "text": [
      "c:\\Users\\rosa-\\anaconda3\\envs\\xaifo\\lib\\site-packages\\deepsnap\\graph.py:2126: UserWarning: __floordiv__ is deprecated, and its behavior will change in a future version of pytorch. It currently rounds toward 0 (like the 'trunc' function NOT 'floor'). This results in incorrect rounding for negative values. To keep the current behavior, use torch.div(a, b, rounding_mode='trunc'), or for actual floor division, use torch.div(a, b, rounding_mode='floor').\n",
      "  row = perm // num_nodes\n"
     ]
    },
    {
     "name": "stdout",
     "output_type": "stream",
     "text": [
      "Epoch: 036, Train: 0.9658, Val: 0.9281, Test: 0.9331, Loss: 0.44045\n"
     ]
    },
    {
     "name": "stderr",
     "output_type": "stream",
     "text": [
      "c:\\Users\\rosa-\\anaconda3\\envs\\xaifo\\lib\\site-packages\\deepsnap\\graph.py:2126: UserWarning: __floordiv__ is deprecated, and its behavior will change in a future version of pytorch. It currently rounds toward 0 (like the 'trunc' function NOT 'floor'). This results in incorrect rounding for negative values. To keep the current behavior, use torch.div(a, b, rounding_mode='trunc'), or for actual floor division, use torch.div(a, b, rounding_mode='floor').\n",
      "  row = perm // num_nodes\n"
     ]
    },
    {
     "name": "stdout",
     "output_type": "stream",
     "text": [
      "Epoch: 037, Train: 0.9674, Val: 0.9290, Test: 0.9341, Loss: 0.44629\n"
     ]
    },
    {
     "name": "stderr",
     "output_type": "stream",
     "text": [
      "c:\\Users\\rosa-\\anaconda3\\envs\\xaifo\\lib\\site-packages\\deepsnap\\graph.py:2126: UserWarning: __floordiv__ is deprecated, and its behavior will change in a future version of pytorch. It currently rounds toward 0 (like the 'trunc' function NOT 'floor'). This results in incorrect rounding for negative values. To keep the current behavior, use torch.div(a, b, rounding_mode='trunc'), or for actual floor division, use torch.div(a, b, rounding_mode='floor').\n",
      "  row = perm // num_nodes\n"
     ]
    },
    {
     "name": "stdout",
     "output_type": "stream",
     "text": [
      "Epoch: 038, Train: 0.9686, Val: 0.9301, Test: 0.9352, Loss: 0.43685\n"
     ]
    },
    {
     "name": "stderr",
     "output_type": "stream",
     "text": [
      "c:\\Users\\rosa-\\anaconda3\\envs\\xaifo\\lib\\site-packages\\deepsnap\\graph.py:2126: UserWarning: __floordiv__ is deprecated, and its behavior will change in a future version of pytorch. It currently rounds toward 0 (like the 'trunc' function NOT 'floor'). This results in incorrect rounding for negative values. To keep the current behavior, use torch.div(a, b, rounding_mode='trunc'), or for actual floor division, use torch.div(a, b, rounding_mode='floor').\n",
      "  row = perm // num_nodes\n"
     ]
    },
    {
     "name": "stdout",
     "output_type": "stream",
     "text": [
      "Epoch: 039, Train: 0.9692, Val: 0.9312, Test: 0.9363, Loss: 0.42536\n"
     ]
    },
    {
     "name": "stderr",
     "output_type": "stream",
     "text": [
      "c:\\Users\\rosa-\\anaconda3\\envs\\xaifo\\lib\\site-packages\\deepsnap\\graph.py:2126: UserWarning: __floordiv__ is deprecated, and its behavior will change in a future version of pytorch. It currently rounds toward 0 (like the 'trunc' function NOT 'floor'). This results in incorrect rounding for negative values. To keep the current behavior, use torch.div(a, b, rounding_mode='trunc'), or for actual floor division, use torch.div(a, b, rounding_mode='floor').\n",
      "  row = perm // num_nodes\n"
     ]
    },
    {
     "name": "stdout",
     "output_type": "stream",
     "text": [
      "Epoch: 040, Train: 0.9703, Val: 0.9323, Test: 0.9374, Loss: 0.43095\n"
     ]
    },
    {
     "name": "stderr",
     "output_type": "stream",
     "text": [
      "c:\\Users\\rosa-\\anaconda3\\envs\\xaifo\\lib\\site-packages\\deepsnap\\graph.py:2126: UserWarning: __floordiv__ is deprecated, and its behavior will change in a future version of pytorch. It currently rounds toward 0 (like the 'trunc' function NOT 'floor'). This results in incorrect rounding for negative values. To keep the current behavior, use torch.div(a, b, rounding_mode='trunc'), or for actual floor division, use torch.div(a, b, rounding_mode='floor').\n",
      "  row = perm // num_nodes\n"
     ]
    },
    {
     "name": "stdout",
     "output_type": "stream",
     "text": [
      "Epoch: 041, Train: 0.9702, Val: 0.9336, Test: 0.9388, Loss: 0.41289\n"
     ]
    },
    {
     "name": "stderr",
     "output_type": "stream",
     "text": [
      "c:\\Users\\rosa-\\anaconda3\\envs\\xaifo\\lib\\site-packages\\deepsnap\\graph.py:2126: UserWarning: __floordiv__ is deprecated, and its behavior will change in a future version of pytorch. It currently rounds toward 0 (like the 'trunc' function NOT 'floor'). This results in incorrect rounding for negative values. To keep the current behavior, use torch.div(a, b, rounding_mode='trunc'), or for actual floor division, use torch.div(a, b, rounding_mode='floor').\n",
      "  row = perm // num_nodes\n"
     ]
    },
    {
     "name": "stdout",
     "output_type": "stream",
     "text": [
      "Epoch: 042, Train: 0.9704, Val: 0.9354, Test: 0.9406, Loss: 0.41464\n"
     ]
    },
    {
     "name": "stderr",
     "output_type": "stream",
     "text": [
      "c:\\Users\\rosa-\\anaconda3\\envs\\xaifo\\lib\\site-packages\\deepsnap\\graph.py:2126: UserWarning: __floordiv__ is deprecated, and its behavior will change in a future version of pytorch. It currently rounds toward 0 (like the 'trunc' function NOT 'floor'). This results in incorrect rounding for negative values. To keep the current behavior, use torch.div(a, b, rounding_mode='trunc'), or for actual floor division, use torch.div(a, b, rounding_mode='floor').\n",
      "  row = perm // num_nodes\n"
     ]
    },
    {
     "name": "stdout",
     "output_type": "stream",
     "text": [
      "Epoch: 043, Train: 0.9709, Val: 0.9372, Test: 0.9424, Loss: 0.40797\n"
     ]
    },
    {
     "name": "stderr",
     "output_type": "stream",
     "text": [
      "c:\\Users\\rosa-\\anaconda3\\envs\\xaifo\\lib\\site-packages\\deepsnap\\graph.py:2126: UserWarning: __floordiv__ is deprecated, and its behavior will change in a future version of pytorch. It currently rounds toward 0 (like the 'trunc' function NOT 'floor'). This results in incorrect rounding for negative values. To keep the current behavior, use torch.div(a, b, rounding_mode='trunc'), or for actual floor division, use torch.div(a, b, rounding_mode='floor').\n",
      "  row = perm // num_nodes\n"
     ]
    },
    {
     "name": "stdout",
     "output_type": "stream",
     "text": [
      "Epoch: 044, Train: 0.9714, Val: 0.9390, Test: 0.9441, Loss: 0.40981\n"
     ]
    },
    {
     "name": "stderr",
     "output_type": "stream",
     "text": [
      "c:\\Users\\rosa-\\anaconda3\\envs\\xaifo\\lib\\site-packages\\deepsnap\\graph.py:2126: UserWarning: __floordiv__ is deprecated, and its behavior will change in a future version of pytorch. It currently rounds toward 0 (like the 'trunc' function NOT 'floor'). This results in incorrect rounding for negative values. To keep the current behavior, use torch.div(a, b, rounding_mode='trunc'), or for actual floor division, use torch.div(a, b, rounding_mode='floor').\n",
      "  row = perm // num_nodes\n"
     ]
    },
    {
     "name": "stdout",
     "output_type": "stream",
     "text": [
      "Epoch: 045, Train: 0.9713, Val: 0.9408, Test: 0.9461, Loss: 0.41086\n"
     ]
    },
    {
     "name": "stderr",
     "output_type": "stream",
     "text": [
      "c:\\Users\\rosa-\\anaconda3\\envs\\xaifo\\lib\\site-packages\\deepsnap\\graph.py:2126: UserWarning: __floordiv__ is deprecated, and its behavior will change in a future version of pytorch. It currently rounds toward 0 (like the 'trunc' function NOT 'floor'). This results in incorrect rounding for negative values. To keep the current behavior, use torch.div(a, b, rounding_mode='trunc'), or for actual floor division, use torch.div(a, b, rounding_mode='floor').\n",
      "  row = perm // num_nodes\n"
     ]
    },
    {
     "name": "stdout",
     "output_type": "stream",
     "text": [
      "Epoch: 046, Train: 0.9719, Val: 0.9429, Test: 0.9482, Loss: 0.39642\n"
     ]
    },
    {
     "name": "stderr",
     "output_type": "stream",
     "text": [
      "c:\\Users\\rosa-\\anaconda3\\envs\\xaifo\\lib\\site-packages\\deepsnap\\graph.py:2126: UserWarning: __floordiv__ is deprecated, and its behavior will change in a future version of pytorch. It currently rounds toward 0 (like the 'trunc' function NOT 'floor'). This results in incorrect rounding for negative values. To keep the current behavior, use torch.div(a, b, rounding_mode='trunc'), or for actual floor division, use torch.div(a, b, rounding_mode='floor').\n",
      "  row = perm // num_nodes\n"
     ]
    },
    {
     "name": "stdout",
     "output_type": "stream",
     "text": [
      "Epoch: 047, Train: 0.9724, Val: 0.9448, Test: 0.9503, Loss: 0.38888\n"
     ]
    },
    {
     "name": "stderr",
     "output_type": "stream",
     "text": [
      "c:\\Users\\rosa-\\anaconda3\\envs\\xaifo\\lib\\site-packages\\deepsnap\\graph.py:2126: UserWarning: __floordiv__ is deprecated, and its behavior will change in a future version of pytorch. It currently rounds toward 0 (like the 'trunc' function NOT 'floor'). This results in incorrect rounding for negative values. To keep the current behavior, use torch.div(a, b, rounding_mode='trunc'), or for actual floor division, use torch.div(a, b, rounding_mode='floor').\n",
      "  row = perm // num_nodes\n"
     ]
    },
    {
     "name": "stdout",
     "output_type": "stream",
     "text": [
      "Epoch: 048, Train: 0.9724, Val: 0.9464, Test: 0.9519, Loss: 0.40123\n"
     ]
    },
    {
     "name": "stderr",
     "output_type": "stream",
     "text": [
      "c:\\Users\\rosa-\\anaconda3\\envs\\xaifo\\lib\\site-packages\\deepsnap\\graph.py:2126: UserWarning: __floordiv__ is deprecated, and its behavior will change in a future version of pytorch. It currently rounds toward 0 (like the 'trunc' function NOT 'floor'). This results in incorrect rounding for negative values. To keep the current behavior, use torch.div(a, b, rounding_mode='trunc'), or for actual floor division, use torch.div(a, b, rounding_mode='floor').\n",
      "  row = perm // num_nodes\n"
     ]
    },
    {
     "name": "stdout",
     "output_type": "stream",
     "text": [
      "Epoch: 049, Train: 0.9735, Val: 0.9475, Test: 0.9532, Loss: 0.37890\n"
     ]
    },
    {
     "name": "stderr",
     "output_type": "stream",
     "text": [
      "c:\\Users\\rosa-\\anaconda3\\envs\\xaifo\\lib\\site-packages\\deepsnap\\graph.py:2126: UserWarning: __floordiv__ is deprecated, and its behavior will change in a future version of pytorch. It currently rounds toward 0 (like the 'trunc' function NOT 'floor'). This results in incorrect rounding for negative values. To keep the current behavior, use torch.div(a, b, rounding_mode='trunc'), or for actual floor division, use torch.div(a, b, rounding_mode='floor').\n",
      "  row = perm // num_nodes\n"
     ]
    },
    {
     "name": "stdout",
     "output_type": "stream",
     "text": [
      "Epoch: 050, Train: 0.9740, Val: 0.9484, Test: 0.9541, Loss: 0.38386\n"
     ]
    },
    {
     "name": "stderr",
     "output_type": "stream",
     "text": [
      "c:\\Users\\rosa-\\anaconda3\\envs\\xaifo\\lib\\site-packages\\deepsnap\\graph.py:2126: UserWarning: __floordiv__ is deprecated, and its behavior will change in a future version of pytorch. It currently rounds toward 0 (like the 'trunc' function NOT 'floor'). This results in incorrect rounding for negative values. To keep the current behavior, use torch.div(a, b, rounding_mode='trunc'), or for actual floor division, use torch.div(a, b, rounding_mode='floor').\n",
      "  row = perm // num_nodes\n"
     ]
    },
    {
     "name": "stdout",
     "output_type": "stream",
     "text": [
      "Epoch: 051, Train: 0.9748, Val: 0.9493, Test: 0.9551, Loss: 0.36615\n"
     ]
    },
    {
     "name": "stderr",
     "output_type": "stream",
     "text": [
      "c:\\Users\\rosa-\\anaconda3\\envs\\xaifo\\lib\\site-packages\\deepsnap\\graph.py:2126: UserWarning: __floordiv__ is deprecated, and its behavior will change in a future version of pytorch. It currently rounds toward 0 (like the 'trunc' function NOT 'floor'). This results in incorrect rounding for negative values. To keep the current behavior, use torch.div(a, b, rounding_mode='trunc'), or for actual floor division, use torch.div(a, b, rounding_mode='floor').\n",
      "  row = perm // num_nodes\n"
     ]
    },
    {
     "name": "stdout",
     "output_type": "stream",
     "text": [
      "Epoch: 052, Train: 0.9747, Val: 0.9501, Test: 0.9560, Loss: 0.38081\n"
     ]
    },
    {
     "name": "stderr",
     "output_type": "stream",
     "text": [
      "c:\\Users\\rosa-\\anaconda3\\envs\\xaifo\\lib\\site-packages\\deepsnap\\graph.py:2126: UserWarning: __floordiv__ is deprecated, and its behavior will change in a future version of pytorch. It currently rounds toward 0 (like the 'trunc' function NOT 'floor'). This results in incorrect rounding for negative values. To keep the current behavior, use torch.div(a, b, rounding_mode='trunc'), or for actual floor division, use torch.div(a, b, rounding_mode='floor').\n",
      "  row = perm // num_nodes\n"
     ]
    },
    {
     "name": "stdout",
     "output_type": "stream",
     "text": [
      "Epoch: 053, Train: 0.9753, Val: 0.9507, Test: 0.9568, Loss: 0.37229\n"
     ]
    },
    {
     "name": "stderr",
     "output_type": "stream",
     "text": [
      "c:\\Users\\rosa-\\anaconda3\\envs\\xaifo\\lib\\site-packages\\deepsnap\\graph.py:2126: UserWarning: __floordiv__ is deprecated, and its behavior will change in a future version of pytorch. It currently rounds toward 0 (like the 'trunc' function NOT 'floor'). This results in incorrect rounding for negative values. To keep the current behavior, use torch.div(a, b, rounding_mode='trunc'), or for actual floor division, use torch.div(a, b, rounding_mode='floor').\n",
      "  row = perm // num_nodes\n"
     ]
    },
    {
     "name": "stdout",
     "output_type": "stream",
     "text": [
      "Epoch: 054, Train: 0.9755, Val: 0.9510, Test: 0.9576, Loss: 0.38786\n"
     ]
    },
    {
     "name": "stderr",
     "output_type": "stream",
     "text": [
      "c:\\Users\\rosa-\\anaconda3\\envs\\xaifo\\lib\\site-packages\\deepsnap\\graph.py:2126: UserWarning: __floordiv__ is deprecated, and its behavior will change in a future version of pytorch. It currently rounds toward 0 (like the 'trunc' function NOT 'floor'). This results in incorrect rounding for negative values. To keep the current behavior, use torch.div(a, b, rounding_mode='trunc'), or for actual floor division, use torch.div(a, b, rounding_mode='floor').\n",
      "  row = perm // num_nodes\n"
     ]
    },
    {
     "name": "stdout",
     "output_type": "stream",
     "text": [
      "Epoch: 055, Train: 0.9756, Val: 0.9512, Test: 0.9582, Loss: 0.37537\n"
     ]
    },
    {
     "name": "stderr",
     "output_type": "stream",
     "text": [
      "c:\\Users\\rosa-\\anaconda3\\envs\\xaifo\\lib\\site-packages\\deepsnap\\graph.py:2126: UserWarning: __floordiv__ is deprecated, and its behavior will change in a future version of pytorch. It currently rounds toward 0 (like the 'trunc' function NOT 'floor'). This results in incorrect rounding for negative values. To keep the current behavior, use torch.div(a, b, rounding_mode='trunc'), or for actual floor division, use torch.div(a, b, rounding_mode='floor').\n",
      "  row = perm // num_nodes\n"
     ]
    },
    {
     "name": "stdout",
     "output_type": "stream",
     "text": [
      "Epoch: 056, Train: 0.9765, Val: 0.9517, Test: 0.9590, Loss: 0.37969\n"
     ]
    },
    {
     "name": "stderr",
     "output_type": "stream",
     "text": [
      "c:\\Users\\rosa-\\anaconda3\\envs\\xaifo\\lib\\site-packages\\deepsnap\\graph.py:2126: UserWarning: __floordiv__ is deprecated, and its behavior will change in a future version of pytorch. It currently rounds toward 0 (like the 'trunc' function NOT 'floor'). This results in incorrect rounding for negative values. To keep the current behavior, use torch.div(a, b, rounding_mode='trunc'), or for actual floor division, use torch.div(a, b, rounding_mode='floor').\n",
      "  row = perm // num_nodes\n"
     ]
    },
    {
     "name": "stdout",
     "output_type": "stream",
     "text": [
      "Epoch: 057, Train: 0.9764, Val: 0.9522, Test: 0.9596, Loss: 0.36771\n"
     ]
    },
    {
     "name": "stderr",
     "output_type": "stream",
     "text": [
      "c:\\Users\\rosa-\\anaconda3\\envs\\xaifo\\lib\\site-packages\\deepsnap\\graph.py:2126: UserWarning: __floordiv__ is deprecated, and its behavior will change in a future version of pytorch. It currently rounds toward 0 (like the 'trunc' function NOT 'floor'). This results in incorrect rounding for negative values. To keep the current behavior, use torch.div(a, b, rounding_mode='trunc'), or for actual floor division, use torch.div(a, b, rounding_mode='floor').\n",
      "  row = perm // num_nodes\n"
     ]
    },
    {
     "name": "stdout",
     "output_type": "stream",
     "text": [
      "Epoch: 058, Train: 0.9766, Val: 0.9531, Test: 0.9605, Loss: 0.35700\n"
     ]
    },
    {
     "name": "stderr",
     "output_type": "stream",
     "text": [
      "c:\\Users\\rosa-\\anaconda3\\envs\\xaifo\\lib\\site-packages\\deepsnap\\graph.py:2126: UserWarning: __floordiv__ is deprecated, and its behavior will change in a future version of pytorch. It currently rounds toward 0 (like the 'trunc' function NOT 'floor'). This results in incorrect rounding for negative values. To keep the current behavior, use torch.div(a, b, rounding_mode='trunc'), or for actual floor division, use torch.div(a, b, rounding_mode='floor').\n",
      "  row = perm // num_nodes\n"
     ]
    },
    {
     "name": "stdout",
     "output_type": "stream",
     "text": [
      "Epoch: 059, Train: 0.9774, Val: 0.9540, Test: 0.9613, Loss: 0.36913\n"
     ]
    },
    {
     "name": "stderr",
     "output_type": "stream",
     "text": [
      "c:\\Users\\rosa-\\anaconda3\\envs\\xaifo\\lib\\site-packages\\deepsnap\\graph.py:2126: UserWarning: __floordiv__ is deprecated, and its behavior will change in a future version of pytorch. It currently rounds toward 0 (like the 'trunc' function NOT 'floor'). This results in incorrect rounding for negative values. To keep the current behavior, use torch.div(a, b, rounding_mode='trunc'), or for actual floor division, use torch.div(a, b, rounding_mode='floor').\n",
      "  row = perm // num_nodes\n"
     ]
    },
    {
     "name": "stdout",
     "output_type": "stream",
     "text": [
      "Epoch: 060, Train: 0.9770, Val: 0.9547, Test: 0.9618, Loss: 0.36451\n"
     ]
    },
    {
     "name": "stderr",
     "output_type": "stream",
     "text": [
      "c:\\Users\\rosa-\\anaconda3\\envs\\xaifo\\lib\\site-packages\\deepsnap\\graph.py:2126: UserWarning: __floordiv__ is deprecated, and its behavior will change in a future version of pytorch. It currently rounds toward 0 (like the 'trunc' function NOT 'floor'). This results in incorrect rounding for negative values. To keep the current behavior, use torch.div(a, b, rounding_mode='trunc'), or for actual floor division, use torch.div(a, b, rounding_mode='floor').\n",
      "  row = perm // num_nodes\n"
     ]
    },
    {
     "name": "stdout",
     "output_type": "stream",
     "text": [
      "Epoch: 061, Train: 0.9781, Val: 0.9553, Test: 0.9623, Loss: 0.35829\n"
     ]
    },
    {
     "name": "stderr",
     "output_type": "stream",
     "text": [
      "c:\\Users\\rosa-\\anaconda3\\envs\\xaifo\\lib\\site-packages\\deepsnap\\graph.py:2126: UserWarning: __floordiv__ is deprecated, and its behavior will change in a future version of pytorch. It currently rounds toward 0 (like the 'trunc' function NOT 'floor'). This results in incorrect rounding for negative values. To keep the current behavior, use torch.div(a, b, rounding_mode='trunc'), or for actual floor division, use torch.div(a, b, rounding_mode='floor').\n",
      "  row = perm // num_nodes\n"
     ]
    },
    {
     "name": "stdout",
     "output_type": "stream",
     "text": [
      "Epoch: 062, Train: 0.9785, Val: 0.9560, Test: 0.9628, Loss: 0.36291\n"
     ]
    },
    {
     "name": "stderr",
     "output_type": "stream",
     "text": [
      "c:\\Users\\rosa-\\anaconda3\\envs\\xaifo\\lib\\site-packages\\deepsnap\\graph.py:2126: UserWarning: __floordiv__ is deprecated, and its behavior will change in a future version of pytorch. It currently rounds toward 0 (like the 'trunc' function NOT 'floor'). This results in incorrect rounding for negative values. To keep the current behavior, use torch.div(a, b, rounding_mode='trunc'), or for actual floor division, use torch.div(a, b, rounding_mode='floor').\n",
      "  row = perm // num_nodes\n"
     ]
    },
    {
     "name": "stdout",
     "output_type": "stream",
     "text": [
      "Epoch: 063, Train: 0.9784, Val: 0.9566, Test: 0.9632, Loss: 0.36242\n"
     ]
    },
    {
     "name": "stderr",
     "output_type": "stream",
     "text": [
      "c:\\Users\\rosa-\\anaconda3\\envs\\xaifo\\lib\\site-packages\\deepsnap\\graph.py:2126: UserWarning: __floordiv__ is deprecated, and its behavior will change in a future version of pytorch. It currently rounds toward 0 (like the 'trunc' function NOT 'floor'). This results in incorrect rounding for negative values. To keep the current behavior, use torch.div(a, b, rounding_mode='trunc'), or for actual floor division, use torch.div(a, b, rounding_mode='floor').\n",
      "  row = perm // num_nodes\n"
     ]
    },
    {
     "name": "stdout",
     "output_type": "stream",
     "text": [
      "Epoch: 064, Train: 0.9790, Val: 0.9568, Test: 0.9634, Loss: 0.36469\n"
     ]
    },
    {
     "name": "stderr",
     "output_type": "stream",
     "text": [
      "c:\\Users\\rosa-\\anaconda3\\envs\\xaifo\\lib\\site-packages\\deepsnap\\graph.py:2126: UserWarning: __floordiv__ is deprecated, and its behavior will change in a future version of pytorch. It currently rounds toward 0 (like the 'trunc' function NOT 'floor'). This results in incorrect rounding for negative values. To keep the current behavior, use torch.div(a, b, rounding_mode='trunc'), or for actual floor division, use torch.div(a, b, rounding_mode='floor').\n",
      "  row = perm // num_nodes\n"
     ]
    },
    {
     "name": "stdout",
     "output_type": "stream",
     "text": [
      "Epoch: 065, Train: 0.9783, Val: 0.9570, Test: 0.9634, Loss: 0.35434\n"
     ]
    },
    {
     "name": "stderr",
     "output_type": "stream",
     "text": [
      "c:\\Users\\rosa-\\anaconda3\\envs\\xaifo\\lib\\site-packages\\deepsnap\\graph.py:2126: UserWarning: __floordiv__ is deprecated, and its behavior will change in a future version of pytorch. It currently rounds toward 0 (like the 'trunc' function NOT 'floor'). This results in incorrect rounding for negative values. To keep the current behavior, use torch.div(a, b, rounding_mode='trunc'), or for actual floor division, use torch.div(a, b, rounding_mode='floor').\n",
      "  row = perm // num_nodes\n"
     ]
    },
    {
     "name": "stdout",
     "output_type": "stream",
     "text": [
      "Epoch: 066, Train: 0.9787, Val: 0.9571, Test: 0.9636, Loss: 0.34440\n"
     ]
    },
    {
     "name": "stderr",
     "output_type": "stream",
     "text": [
      "c:\\Users\\rosa-\\anaconda3\\envs\\xaifo\\lib\\site-packages\\deepsnap\\graph.py:2126: UserWarning: __floordiv__ is deprecated, and its behavior will change in a future version of pytorch. It currently rounds toward 0 (like the 'trunc' function NOT 'floor'). This results in incorrect rounding for negative values. To keep the current behavior, use torch.div(a, b, rounding_mode='trunc'), or for actual floor division, use torch.div(a, b, rounding_mode='floor').\n",
      "  row = perm // num_nodes\n"
     ]
    },
    {
     "name": "stdout",
     "output_type": "stream",
     "text": [
      "Epoch: 067, Train: 0.9786, Val: 0.9574, Test: 0.9638, Loss: 0.34226\n"
     ]
    },
    {
     "name": "stderr",
     "output_type": "stream",
     "text": [
      "c:\\Users\\rosa-\\anaconda3\\envs\\xaifo\\lib\\site-packages\\deepsnap\\graph.py:2126: UserWarning: __floordiv__ is deprecated, and its behavior will change in a future version of pytorch. It currently rounds toward 0 (like the 'trunc' function NOT 'floor'). This results in incorrect rounding for negative values. To keep the current behavior, use torch.div(a, b, rounding_mode='trunc'), or for actual floor division, use torch.div(a, b, rounding_mode='floor').\n",
      "  row = perm // num_nodes\n"
     ]
    },
    {
     "name": "stdout",
     "output_type": "stream",
     "text": [
      "Epoch: 068, Train: 0.9792, Val: 0.9577, Test: 0.9641, Loss: 0.36250\n"
     ]
    },
    {
     "name": "stderr",
     "output_type": "stream",
     "text": [
      "c:\\Users\\rosa-\\anaconda3\\envs\\xaifo\\lib\\site-packages\\deepsnap\\graph.py:2126: UserWarning: __floordiv__ is deprecated, and its behavior will change in a future version of pytorch. It currently rounds toward 0 (like the 'trunc' function NOT 'floor'). This results in incorrect rounding for negative values. To keep the current behavior, use torch.div(a, b, rounding_mode='trunc'), or for actual floor division, use torch.div(a, b, rounding_mode='floor').\n",
      "  row = perm // num_nodes\n"
     ]
    },
    {
     "name": "stdout",
     "output_type": "stream",
     "text": [
      "Epoch: 069, Train: 0.9796, Val: 0.9579, Test: 0.9642, Loss: 0.34680\n"
     ]
    },
    {
     "name": "stderr",
     "output_type": "stream",
     "text": [
      "c:\\Users\\rosa-\\anaconda3\\envs\\xaifo\\lib\\site-packages\\deepsnap\\graph.py:2126: UserWarning: __floordiv__ is deprecated, and its behavior will change in a future version of pytorch. It currently rounds toward 0 (like the 'trunc' function NOT 'floor'). This results in incorrect rounding for negative values. To keep the current behavior, use torch.div(a, b, rounding_mode='trunc'), or for actual floor division, use torch.div(a, b, rounding_mode='floor').\n",
      "  row = perm // num_nodes\n"
     ]
    },
    {
     "name": "stdout",
     "output_type": "stream",
     "text": [
      "Epoch: 070, Train: 0.9799, Val: 0.9579, Test: 0.9643, Loss: 0.34893\n"
     ]
    },
    {
     "name": "stderr",
     "output_type": "stream",
     "text": [
      "c:\\Users\\rosa-\\anaconda3\\envs\\xaifo\\lib\\site-packages\\deepsnap\\graph.py:2126: UserWarning: __floordiv__ is deprecated, and its behavior will change in a future version of pytorch. It currently rounds toward 0 (like the 'trunc' function NOT 'floor'). This results in incorrect rounding for negative values. To keep the current behavior, use torch.div(a, b, rounding_mode='trunc'), or for actual floor division, use torch.div(a, b, rounding_mode='floor').\n",
      "  row = perm // num_nodes\n"
     ]
    },
    {
     "name": "stdout",
     "output_type": "stream",
     "text": [
      "Epoch: 071, Train: 0.9807, Val: 0.9577, Test: 0.9641, Loss: 0.34309\n"
     ]
    },
    {
     "name": "stderr",
     "output_type": "stream",
     "text": [
      "c:\\Users\\rosa-\\anaconda3\\envs\\xaifo\\lib\\site-packages\\deepsnap\\graph.py:2126: UserWarning: __floordiv__ is deprecated, and its behavior will change in a future version of pytorch. It currently rounds toward 0 (like the 'trunc' function NOT 'floor'). This results in incorrect rounding for negative values. To keep the current behavior, use torch.div(a, b, rounding_mode='trunc'), or for actual floor division, use torch.div(a, b, rounding_mode='floor').\n",
      "  row = perm // num_nodes\n"
     ]
    },
    {
     "name": "stdout",
     "output_type": "stream",
     "text": [
      "Epoch: 072, Train: 0.9809, Val: 0.9574, Test: 0.9639, Loss: 0.35429\n"
     ]
    },
    {
     "name": "stderr",
     "output_type": "stream",
     "text": [
      "c:\\Users\\rosa-\\anaconda3\\envs\\xaifo\\lib\\site-packages\\deepsnap\\graph.py:2126: UserWarning: __floordiv__ is deprecated, and its behavior will change in a future version of pytorch. It currently rounds toward 0 (like the 'trunc' function NOT 'floor'). This results in incorrect rounding for negative values. To keep the current behavior, use torch.div(a, b, rounding_mode='trunc'), or for actual floor division, use torch.div(a, b, rounding_mode='floor').\n",
      "  row = perm // num_nodes\n"
     ]
    },
    {
     "name": "stdout",
     "output_type": "stream",
     "text": [
      "Epoch: 073, Train: 0.9815, Val: 0.9571, Test: 0.9636, Loss: 0.35650\n"
     ]
    },
    {
     "name": "stderr",
     "output_type": "stream",
     "text": [
      "c:\\Users\\rosa-\\anaconda3\\envs\\xaifo\\lib\\site-packages\\deepsnap\\graph.py:2126: UserWarning: __floordiv__ is deprecated, and its behavior will change in a future version of pytorch. It currently rounds toward 0 (like the 'trunc' function NOT 'floor'). This results in incorrect rounding for negative values. To keep the current behavior, use torch.div(a, b, rounding_mode='trunc'), or for actual floor division, use torch.div(a, b, rounding_mode='floor').\n",
      "  row = perm // num_nodes\n"
     ]
    },
    {
     "name": "stdout",
     "output_type": "stream",
     "text": [
      "Epoch: 074, Train: 0.9814, Val: 0.9568, Test: 0.9633, Loss: 0.34687\n"
     ]
    },
    {
     "name": "stderr",
     "output_type": "stream",
     "text": [
      "c:\\Users\\rosa-\\anaconda3\\envs\\xaifo\\lib\\site-packages\\deepsnap\\graph.py:2126: UserWarning: __floordiv__ is deprecated, and its behavior will change in a future version of pytorch. It currently rounds toward 0 (like the 'trunc' function NOT 'floor'). This results in incorrect rounding for negative values. To keep the current behavior, use torch.div(a, b, rounding_mode='trunc'), or for actual floor division, use torch.div(a, b, rounding_mode='floor').\n",
      "  row = perm // num_nodes\n"
     ]
    },
    {
     "name": "stdout",
     "output_type": "stream",
     "text": [
      "Epoch: 075, Train: 0.9821, Val: 0.9567, Test: 0.9632, Loss: 0.35697\n"
     ]
    },
    {
     "name": "stderr",
     "output_type": "stream",
     "text": [
      "c:\\Users\\rosa-\\anaconda3\\envs\\xaifo\\lib\\site-packages\\deepsnap\\graph.py:2126: UserWarning: __floordiv__ is deprecated, and its behavior will change in a future version of pytorch. It currently rounds toward 0 (like the 'trunc' function NOT 'floor'). This results in incorrect rounding for negative values. To keep the current behavior, use torch.div(a, b, rounding_mode='trunc'), or for actual floor division, use torch.div(a, b, rounding_mode='floor').\n",
      "  row = perm // num_nodes\n"
     ]
    },
    {
     "name": "stdout",
     "output_type": "stream",
     "text": [
      "Epoch: 076, Train: 0.9820, Val: 0.9565, Test: 0.9631, Loss: 0.34271\n"
     ]
    },
    {
     "name": "stderr",
     "output_type": "stream",
     "text": [
      "c:\\Users\\rosa-\\anaconda3\\envs\\xaifo\\lib\\site-packages\\deepsnap\\graph.py:2126: UserWarning: __floordiv__ is deprecated, and its behavior will change in a future version of pytorch. It currently rounds toward 0 (like the 'trunc' function NOT 'floor'). This results in incorrect rounding for negative values. To keep the current behavior, use torch.div(a, b, rounding_mode='trunc'), or for actual floor division, use torch.div(a, b, rounding_mode='floor').\n",
      "  row = perm // num_nodes\n"
     ]
    },
    {
     "name": "stdout",
     "output_type": "stream",
     "text": [
      "Epoch: 077, Train: 0.9822, Val: 0.9566, Test: 0.9632, Loss: 0.34125\n"
     ]
    },
    {
     "name": "stderr",
     "output_type": "stream",
     "text": [
      "c:\\Users\\rosa-\\anaconda3\\envs\\xaifo\\lib\\site-packages\\deepsnap\\graph.py:2126: UserWarning: __floordiv__ is deprecated, and its behavior will change in a future version of pytorch. It currently rounds toward 0 (like the 'trunc' function NOT 'floor'). This results in incorrect rounding for negative values. To keep the current behavior, use torch.div(a, b, rounding_mode='trunc'), or for actual floor division, use torch.div(a, b, rounding_mode='floor').\n",
      "  row = perm // num_nodes\n"
     ]
    },
    {
     "name": "stdout",
     "output_type": "stream",
     "text": [
      "Epoch: 078, Train: 0.9828, Val: 0.9566, Test: 0.9634, Loss: 0.35086\n"
     ]
    },
    {
     "name": "stderr",
     "output_type": "stream",
     "text": [
      "c:\\Users\\rosa-\\anaconda3\\envs\\xaifo\\lib\\site-packages\\deepsnap\\graph.py:2126: UserWarning: __floordiv__ is deprecated, and its behavior will change in a future version of pytorch. It currently rounds toward 0 (like the 'trunc' function NOT 'floor'). This results in incorrect rounding for negative values. To keep the current behavior, use torch.div(a, b, rounding_mode='trunc'), or for actual floor division, use torch.div(a, b, rounding_mode='floor').\n",
      "  row = perm // num_nodes\n"
     ]
    },
    {
     "name": "stdout",
     "output_type": "stream",
     "text": [
      "Epoch: 079, Train: 0.9826, Val: 0.9567, Test: 0.9636, Loss: 0.33721\n"
     ]
    },
    {
     "name": "stderr",
     "output_type": "stream",
     "text": [
      "c:\\Users\\rosa-\\anaconda3\\envs\\xaifo\\lib\\site-packages\\deepsnap\\graph.py:2126: UserWarning: __floordiv__ is deprecated, and its behavior will change in a future version of pytorch. It currently rounds toward 0 (like the 'trunc' function NOT 'floor'). This results in incorrect rounding for negative values. To keep the current behavior, use torch.div(a, b, rounding_mode='trunc'), or for actual floor division, use torch.div(a, b, rounding_mode='floor').\n",
      "  row = perm // num_nodes\n"
     ]
    },
    {
     "name": "stdout",
     "output_type": "stream",
     "text": [
      "Epoch: 080, Train: 0.9826, Val: 0.9570, Test: 0.9638, Loss: 0.34551\n"
     ]
    },
    {
     "name": "stderr",
     "output_type": "stream",
     "text": [
      "c:\\Users\\rosa-\\anaconda3\\envs\\xaifo\\lib\\site-packages\\deepsnap\\graph.py:2126: UserWarning: __floordiv__ is deprecated, and its behavior will change in a future version of pytorch. It currently rounds toward 0 (like the 'trunc' function NOT 'floor'). This results in incorrect rounding for negative values. To keep the current behavior, use torch.div(a, b, rounding_mode='trunc'), or for actual floor division, use torch.div(a, b, rounding_mode='floor').\n",
      "  row = perm // num_nodes\n"
     ]
    },
    {
     "name": "stdout",
     "output_type": "stream",
     "text": [
      "Epoch: 081, Train: 0.9830, Val: 0.9572, Test: 0.9640, Loss: 0.33847\n"
     ]
    },
    {
     "name": "stderr",
     "output_type": "stream",
     "text": [
      "c:\\Users\\rosa-\\anaconda3\\envs\\xaifo\\lib\\site-packages\\deepsnap\\graph.py:2126: UserWarning: __floordiv__ is deprecated, and its behavior will change in a future version of pytorch. It currently rounds toward 0 (like the 'trunc' function NOT 'floor'). This results in incorrect rounding for negative values. To keep the current behavior, use torch.div(a, b, rounding_mode='trunc'), or for actual floor division, use torch.div(a, b, rounding_mode='floor').\n",
      "  row = perm // num_nodes\n"
     ]
    },
    {
     "name": "stdout",
     "output_type": "stream",
     "text": [
      "Epoch: 082, Train: 0.9831, Val: 0.9573, Test: 0.9639, Loss: 0.33762\n"
     ]
    },
    {
     "name": "stderr",
     "output_type": "stream",
     "text": [
      "c:\\Users\\rosa-\\anaconda3\\envs\\xaifo\\lib\\site-packages\\deepsnap\\graph.py:2126: UserWarning: __floordiv__ is deprecated, and its behavior will change in a future version of pytorch. It currently rounds toward 0 (like the 'trunc' function NOT 'floor'). This results in incorrect rounding for negative values. To keep the current behavior, use torch.div(a, b, rounding_mode='trunc'), or for actual floor division, use torch.div(a, b, rounding_mode='floor').\n",
      "  row = perm // num_nodes\n"
     ]
    },
    {
     "name": "stdout",
     "output_type": "stream",
     "text": [
      "Epoch: 083, Train: 0.9829, Val: 0.9571, Test: 0.9637, Loss: 0.34234\n"
     ]
    },
    {
     "name": "stderr",
     "output_type": "stream",
     "text": [
      "c:\\Users\\rosa-\\anaconda3\\envs\\xaifo\\lib\\site-packages\\deepsnap\\graph.py:2126: UserWarning: __floordiv__ is deprecated, and its behavior will change in a future version of pytorch. It currently rounds toward 0 (like the 'trunc' function NOT 'floor'). This results in incorrect rounding for negative values. To keep the current behavior, use torch.div(a, b, rounding_mode='trunc'), or for actual floor division, use torch.div(a, b, rounding_mode='floor').\n",
      "  row = perm // num_nodes\n"
     ]
    },
    {
     "name": "stdout",
     "output_type": "stream",
     "text": [
      "Epoch: 084, Train: 0.9834, Val: 0.9567, Test: 0.9632, Loss: 0.33924\n"
     ]
    },
    {
     "name": "stderr",
     "output_type": "stream",
     "text": [
      "c:\\Users\\rosa-\\anaconda3\\envs\\xaifo\\lib\\site-packages\\deepsnap\\graph.py:2126: UserWarning: __floordiv__ is deprecated, and its behavior will change in a future version of pytorch. It currently rounds toward 0 (like the 'trunc' function NOT 'floor'). This results in incorrect rounding for negative values. To keep the current behavior, use torch.div(a, b, rounding_mode='trunc'), or for actual floor division, use torch.div(a, b, rounding_mode='floor').\n",
      "  row = perm // num_nodes\n"
     ]
    },
    {
     "name": "stdout",
     "output_type": "stream",
     "text": [
      "Epoch: 085, Train: 0.9832, Val: 0.9564, Test: 0.9628, Loss: 0.33730\n"
     ]
    },
    {
     "name": "stderr",
     "output_type": "stream",
     "text": [
      "c:\\Users\\rosa-\\anaconda3\\envs\\xaifo\\lib\\site-packages\\deepsnap\\graph.py:2126: UserWarning: __floordiv__ is deprecated, and its behavior will change in a future version of pytorch. It currently rounds toward 0 (like the 'trunc' function NOT 'floor'). This results in incorrect rounding for negative values. To keep the current behavior, use torch.div(a, b, rounding_mode='trunc'), or for actual floor division, use torch.div(a, b, rounding_mode='floor').\n",
      "  row = perm // num_nodes\n"
     ]
    },
    {
     "name": "stdout",
     "output_type": "stream",
     "text": [
      "Epoch: 086, Train: 0.9830, Val: 0.9562, Test: 0.9625, Loss: 0.35215\n"
     ]
    },
    {
     "name": "stderr",
     "output_type": "stream",
     "text": [
      "c:\\Users\\rosa-\\anaconda3\\envs\\xaifo\\lib\\site-packages\\deepsnap\\graph.py:2126: UserWarning: __floordiv__ is deprecated, and its behavior will change in a future version of pytorch. It currently rounds toward 0 (like the 'trunc' function NOT 'floor'). This results in incorrect rounding for negative values. To keep the current behavior, use torch.div(a, b, rounding_mode='trunc'), or for actual floor division, use torch.div(a, b, rounding_mode='floor').\n",
      "  row = perm // num_nodes\n"
     ]
    },
    {
     "name": "stdout",
     "output_type": "stream",
     "text": [
      "Epoch: 087, Train: 0.9832, Val: 0.9559, Test: 0.9621, Loss: 0.33305\n"
     ]
    },
    {
     "name": "stderr",
     "output_type": "stream",
     "text": [
      "c:\\Users\\rosa-\\anaconda3\\envs\\xaifo\\lib\\site-packages\\deepsnap\\graph.py:2126: UserWarning: __floordiv__ is deprecated, and its behavior will change in a future version of pytorch. It currently rounds toward 0 (like the 'trunc' function NOT 'floor'). This results in incorrect rounding for negative values. To keep the current behavior, use torch.div(a, b, rounding_mode='trunc'), or for actual floor division, use torch.div(a, b, rounding_mode='floor').\n",
      "  row = perm // num_nodes\n"
     ]
    },
    {
     "name": "stdout",
     "output_type": "stream",
     "text": [
      "Epoch: 088, Train: 0.9829, Val: 0.9554, Test: 0.9615, Loss: 0.31431\n"
     ]
    },
    {
     "name": "stderr",
     "output_type": "stream",
     "text": [
      "c:\\Users\\rosa-\\anaconda3\\envs\\xaifo\\lib\\site-packages\\deepsnap\\graph.py:2126: UserWarning: __floordiv__ is deprecated, and its behavior will change in a future version of pytorch. It currently rounds toward 0 (like the 'trunc' function NOT 'floor'). This results in incorrect rounding for negative values. To keep the current behavior, use torch.div(a, b, rounding_mode='trunc'), or for actual floor division, use torch.div(a, b, rounding_mode='floor').\n",
      "  row = perm // num_nodes\n"
     ]
    },
    {
     "name": "stdout",
     "output_type": "stream",
     "text": [
      "Epoch: 089, Train: 0.9833, Val: 0.9550, Test: 0.9611, Loss: 0.32415\n"
     ]
    },
    {
     "name": "stderr",
     "output_type": "stream",
     "text": [
      "c:\\Users\\rosa-\\anaconda3\\envs\\xaifo\\lib\\site-packages\\deepsnap\\graph.py:2126: UserWarning: __floordiv__ is deprecated, and its behavior will change in a future version of pytorch. It currently rounds toward 0 (like the 'trunc' function NOT 'floor'). This results in incorrect rounding for negative values. To keep the current behavior, use torch.div(a, b, rounding_mode='trunc'), or for actual floor division, use torch.div(a, b, rounding_mode='floor').\n",
      "  row = perm // num_nodes\n"
     ]
    },
    {
     "name": "stdout",
     "output_type": "stream",
     "text": [
      "Epoch: 090, Train: 0.9833, Val: 0.9548, Test: 0.9607, Loss: 0.33368\n"
     ]
    },
    {
     "name": "stderr",
     "output_type": "stream",
     "text": [
      "c:\\Users\\rosa-\\anaconda3\\envs\\xaifo\\lib\\site-packages\\deepsnap\\graph.py:2126: UserWarning: __floordiv__ is deprecated, and its behavior will change in a future version of pytorch. It currently rounds toward 0 (like the 'trunc' function NOT 'floor'). This results in incorrect rounding for negative values. To keep the current behavior, use torch.div(a, b, rounding_mode='trunc'), or for actual floor division, use torch.div(a, b, rounding_mode='floor').\n",
      "  row = perm // num_nodes\n"
     ]
    },
    {
     "name": "stdout",
     "output_type": "stream",
     "text": [
      "Epoch: 091, Train: 0.9837, Val: 0.9550, Test: 0.9608, Loss: 0.33397\n"
     ]
    },
    {
     "name": "stderr",
     "output_type": "stream",
     "text": [
      "c:\\Users\\rosa-\\anaconda3\\envs\\xaifo\\lib\\site-packages\\deepsnap\\graph.py:2126: UserWarning: __floordiv__ is deprecated, and its behavior will change in a future version of pytorch. It currently rounds toward 0 (like the 'trunc' function NOT 'floor'). This results in incorrect rounding for negative values. To keep the current behavior, use torch.div(a, b, rounding_mode='trunc'), or for actual floor division, use torch.div(a, b, rounding_mode='floor').\n",
      "  row = perm // num_nodes\n"
     ]
    },
    {
     "name": "stdout",
     "output_type": "stream",
     "text": [
      "Epoch: 092, Train: 0.9844, Val: 0.9553, Test: 0.9611, Loss: 0.33001\n"
     ]
    },
    {
     "name": "stderr",
     "output_type": "stream",
     "text": [
      "c:\\Users\\rosa-\\anaconda3\\envs\\xaifo\\lib\\site-packages\\deepsnap\\graph.py:2126: UserWarning: __floordiv__ is deprecated, and its behavior will change in a future version of pytorch. It currently rounds toward 0 (like the 'trunc' function NOT 'floor'). This results in incorrect rounding for negative values. To keep the current behavior, use torch.div(a, b, rounding_mode='trunc'), or for actual floor division, use torch.div(a, b, rounding_mode='floor').\n",
      "  row = perm // num_nodes\n"
     ]
    },
    {
     "name": "stdout",
     "output_type": "stream",
     "text": [
      "Epoch: 093, Train: 0.9847, Val: 0.9554, Test: 0.9613, Loss: 0.33162\n"
     ]
    },
    {
     "name": "stderr",
     "output_type": "stream",
     "text": [
      "c:\\Users\\rosa-\\anaconda3\\envs\\xaifo\\lib\\site-packages\\deepsnap\\graph.py:2126: UserWarning: __floordiv__ is deprecated, and its behavior will change in a future version of pytorch. It currently rounds toward 0 (like the 'trunc' function NOT 'floor'). This results in incorrect rounding for negative values. To keep the current behavior, use torch.div(a, b, rounding_mode='trunc'), or for actual floor division, use torch.div(a, b, rounding_mode='floor').\n",
      "  row = perm // num_nodes\n"
     ]
    },
    {
     "name": "stdout",
     "output_type": "stream",
     "text": [
      "Epoch: 094, Train: 0.9850, Val: 0.9552, Test: 0.9611, Loss: 0.33130\n"
     ]
    },
    {
     "name": "stderr",
     "output_type": "stream",
     "text": [
      "c:\\Users\\rosa-\\anaconda3\\envs\\xaifo\\lib\\site-packages\\deepsnap\\graph.py:2126: UserWarning: __floordiv__ is deprecated, and its behavior will change in a future version of pytorch. It currently rounds toward 0 (like the 'trunc' function NOT 'floor'). This results in incorrect rounding for negative values. To keep the current behavior, use torch.div(a, b, rounding_mode='trunc'), or for actual floor division, use torch.div(a, b, rounding_mode='floor').\n",
      "  row = perm // num_nodes\n"
     ]
    },
    {
     "name": "stdout",
     "output_type": "stream",
     "text": [
      "Epoch: 095, Train: 0.9850, Val: 0.9544, Test: 0.9604, Loss: 0.32397\n"
     ]
    },
    {
     "name": "stderr",
     "output_type": "stream",
     "text": [
      "c:\\Users\\rosa-\\anaconda3\\envs\\xaifo\\lib\\site-packages\\deepsnap\\graph.py:2126: UserWarning: __floordiv__ is deprecated, and its behavior will change in a future version of pytorch. It currently rounds toward 0 (like the 'trunc' function NOT 'floor'). This results in incorrect rounding for negative values. To keep the current behavior, use torch.div(a, b, rounding_mode='trunc'), or for actual floor division, use torch.div(a, b, rounding_mode='floor').\n",
      "  row = perm // num_nodes\n"
     ]
    },
    {
     "name": "stdout",
     "output_type": "stream",
     "text": [
      "Epoch: 096, Train: 0.9850, Val: 0.9535, Test: 0.9594, Loss: 0.32699\n"
     ]
    },
    {
     "name": "stderr",
     "output_type": "stream",
     "text": [
      "c:\\Users\\rosa-\\anaconda3\\envs\\xaifo\\lib\\site-packages\\deepsnap\\graph.py:2126: UserWarning: __floordiv__ is deprecated, and its behavior will change in a future version of pytorch. It currently rounds toward 0 (like the 'trunc' function NOT 'floor'). This results in incorrect rounding for negative values. To keep the current behavior, use torch.div(a, b, rounding_mode='trunc'), or for actual floor division, use torch.div(a, b, rounding_mode='floor').\n",
      "  row = perm // num_nodes\n"
     ]
    },
    {
     "name": "stdout",
     "output_type": "stream",
     "text": [
      "Epoch: 097, Train: 0.9852, Val: 0.9524, Test: 0.9583, Loss: 0.33091\n"
     ]
    },
    {
     "name": "stderr",
     "output_type": "stream",
     "text": [
      "c:\\Users\\rosa-\\anaconda3\\envs\\xaifo\\lib\\site-packages\\deepsnap\\graph.py:2126: UserWarning: __floordiv__ is deprecated, and its behavior will change in a future version of pytorch. It currently rounds toward 0 (like the 'trunc' function NOT 'floor'). This results in incorrect rounding for negative values. To keep the current behavior, use torch.div(a, b, rounding_mode='trunc'), or for actual floor division, use torch.div(a, b, rounding_mode='floor').\n",
      "  row = perm // num_nodes\n"
     ]
    },
    {
     "name": "stdout",
     "output_type": "stream",
     "text": [
      "Epoch: 098, Train: 0.9854, Val: 0.9517, Test: 0.9576, Loss: 0.32730\n"
     ]
    },
    {
     "name": "stderr",
     "output_type": "stream",
     "text": [
      "c:\\Users\\rosa-\\anaconda3\\envs\\xaifo\\lib\\site-packages\\deepsnap\\graph.py:2126: UserWarning: __floordiv__ is deprecated, and its behavior will change in a future version of pytorch. It currently rounds toward 0 (like the 'trunc' function NOT 'floor'). This results in incorrect rounding for negative values. To keep the current behavior, use torch.div(a, b, rounding_mode='trunc'), or for actual floor division, use torch.div(a, b, rounding_mode='floor').\n",
      "  row = perm // num_nodes\n"
     ]
    },
    {
     "name": "stdout",
     "output_type": "stream",
     "text": [
      "Epoch: 099, Train: 0.9851, Val: 0.9515, Test: 0.9574, Loss: 0.32217\n"
     ]
    },
    {
     "name": "stderr",
     "output_type": "stream",
     "text": [
      "c:\\Users\\rosa-\\anaconda3\\envs\\xaifo\\lib\\site-packages\\deepsnap\\graph.py:2126: UserWarning: __floordiv__ is deprecated, and its behavior will change in a future version of pytorch. It currently rounds toward 0 (like the 'trunc' function NOT 'floor'). This results in incorrect rounding for negative values. To keep the current behavior, use torch.div(a, b, rounding_mode='trunc'), or for actual floor division, use torch.div(a, b, rounding_mode='floor').\n",
      "  row = perm // num_nodes\n"
     ]
    },
    {
     "name": "stdout",
     "output_type": "stream",
     "text": [
      "Epoch: 100, Train: 0.9854, Val: 0.9517, Test: 0.9574, Loss: 0.33675\n"
     ]
    },
    {
     "name": "stderr",
     "output_type": "stream",
     "text": [
      "c:\\Users\\rosa-\\anaconda3\\envs\\xaifo\\lib\\site-packages\\deepsnap\\graph.py:2126: UserWarning: __floordiv__ is deprecated, and its behavior will change in a future version of pytorch. It currently rounds toward 0 (like the 'trunc' function NOT 'floor'). This results in incorrect rounding for negative values. To keep the current behavior, use torch.div(a, b, rounding_mode='trunc'), or for actual floor division, use torch.div(a, b, rounding_mode='floor').\n",
      "  row = perm // num_nodes\n"
     ]
    },
    {
     "name": "stdout",
     "output_type": "stream",
     "text": [
      "Epoch: 101, Train: 0.9856, Val: 0.9519, Test: 0.9575, Loss: 0.32266\n"
     ]
    },
    {
     "name": "stderr",
     "output_type": "stream",
     "text": [
      "c:\\Users\\rosa-\\anaconda3\\envs\\xaifo\\lib\\site-packages\\deepsnap\\graph.py:2126: UserWarning: __floordiv__ is deprecated, and its behavior will change in a future version of pytorch. It currently rounds toward 0 (like the 'trunc' function NOT 'floor'). This results in incorrect rounding for negative values. To keep the current behavior, use torch.div(a, b, rounding_mode='trunc'), or for actual floor division, use torch.div(a, b, rounding_mode='floor').\n",
      "  row = perm // num_nodes\n"
     ]
    },
    {
     "name": "stdout",
     "output_type": "stream",
     "text": [
      "Epoch: 102, Train: 0.9854, Val: 0.9521, Test: 0.9576, Loss: 0.31282\n"
     ]
    },
    {
     "name": "stderr",
     "output_type": "stream",
     "text": [
      "c:\\Users\\rosa-\\anaconda3\\envs\\xaifo\\lib\\site-packages\\deepsnap\\graph.py:2126: UserWarning: __floordiv__ is deprecated, and its behavior will change in a future version of pytorch. It currently rounds toward 0 (like the 'trunc' function NOT 'floor'). This results in incorrect rounding for negative values. To keep the current behavior, use torch.div(a, b, rounding_mode='trunc'), or for actual floor division, use torch.div(a, b, rounding_mode='floor').\n",
      "  row = perm // num_nodes\n"
     ]
    },
    {
     "name": "stdout",
     "output_type": "stream",
     "text": [
      "Epoch: 103, Train: 0.9858, Val: 0.9525, Test: 0.9579, Loss: 0.32984\n"
     ]
    },
    {
     "name": "stderr",
     "output_type": "stream",
     "text": [
      "c:\\Users\\rosa-\\anaconda3\\envs\\xaifo\\lib\\site-packages\\deepsnap\\graph.py:2126: UserWarning: __floordiv__ is deprecated, and its behavior will change in a future version of pytorch. It currently rounds toward 0 (like the 'trunc' function NOT 'floor'). This results in incorrect rounding for negative values. To keep the current behavior, use torch.div(a, b, rounding_mode='trunc'), or for actual floor division, use torch.div(a, b, rounding_mode='floor').\n",
      "  row = perm // num_nodes\n"
     ]
    },
    {
     "name": "stdout",
     "output_type": "stream",
     "text": [
      "Epoch: 104, Train: 0.9864, Val: 0.9525, Test: 0.9578, Loss: 0.32948\n"
     ]
    },
    {
     "name": "stderr",
     "output_type": "stream",
     "text": [
      "c:\\Users\\rosa-\\anaconda3\\envs\\xaifo\\lib\\site-packages\\deepsnap\\graph.py:2126: UserWarning: __floordiv__ is deprecated, and its behavior will change in a future version of pytorch. It currently rounds toward 0 (like the 'trunc' function NOT 'floor'). This results in incorrect rounding for negative values. To keep the current behavior, use torch.div(a, b, rounding_mode='trunc'), or for actual floor division, use torch.div(a, b, rounding_mode='floor').\n",
      "  row = perm // num_nodes\n"
     ]
    },
    {
     "name": "stdout",
     "output_type": "stream",
     "text": [
      "Epoch: 105, Train: 0.9864, Val: 0.9523, Test: 0.9577, Loss: 0.32104\n"
     ]
    },
    {
     "name": "stderr",
     "output_type": "stream",
     "text": [
      "c:\\Users\\rosa-\\anaconda3\\envs\\xaifo\\lib\\site-packages\\deepsnap\\graph.py:2126: UserWarning: __floordiv__ is deprecated, and its behavior will change in a future version of pytorch. It currently rounds toward 0 (like the 'trunc' function NOT 'floor'). This results in incorrect rounding for negative values. To keep the current behavior, use torch.div(a, b, rounding_mode='trunc'), or for actual floor division, use torch.div(a, b, rounding_mode='floor').\n",
      "  row = perm // num_nodes\n"
     ]
    },
    {
     "name": "stdout",
     "output_type": "stream",
     "text": [
      "Epoch: 106, Train: 0.9867, Val: 0.9524, Test: 0.9578, Loss: 0.30984\n"
     ]
    },
    {
     "name": "stderr",
     "output_type": "stream",
     "text": [
      "c:\\Users\\rosa-\\anaconda3\\envs\\xaifo\\lib\\site-packages\\deepsnap\\graph.py:2126: UserWarning: __floordiv__ is deprecated, and its behavior will change in a future version of pytorch. It currently rounds toward 0 (like the 'trunc' function NOT 'floor'). This results in incorrect rounding for negative values. To keep the current behavior, use torch.div(a, b, rounding_mode='trunc'), or for actual floor division, use torch.div(a, b, rounding_mode='floor').\n",
      "  row = perm // num_nodes\n"
     ]
    },
    {
     "name": "stdout",
     "output_type": "stream",
     "text": [
      "Epoch: 107, Train: 0.9863, Val: 0.9525, Test: 0.9579, Loss: 0.31663\n"
     ]
    },
    {
     "name": "stderr",
     "output_type": "stream",
     "text": [
      "c:\\Users\\rosa-\\anaconda3\\envs\\xaifo\\lib\\site-packages\\deepsnap\\graph.py:2126: UserWarning: __floordiv__ is deprecated, and its behavior will change in a future version of pytorch. It currently rounds toward 0 (like the 'trunc' function NOT 'floor'). This results in incorrect rounding for negative values. To keep the current behavior, use torch.div(a, b, rounding_mode='trunc'), or for actual floor division, use torch.div(a, b, rounding_mode='floor').\n",
      "  row = perm // num_nodes\n"
     ]
    },
    {
     "name": "stdout",
     "output_type": "stream",
     "text": [
      "Epoch: 108, Train: 0.9865, Val: 0.9527, Test: 0.9579, Loss: 0.31505\n"
     ]
    },
    {
     "name": "stderr",
     "output_type": "stream",
     "text": [
      "c:\\Users\\rosa-\\anaconda3\\envs\\xaifo\\lib\\site-packages\\deepsnap\\graph.py:2126: UserWarning: __floordiv__ is deprecated, and its behavior will change in a future version of pytorch. It currently rounds toward 0 (like the 'trunc' function NOT 'floor'). This results in incorrect rounding for negative values. To keep the current behavior, use torch.div(a, b, rounding_mode='trunc'), or for actual floor division, use torch.div(a, b, rounding_mode='floor').\n",
      "  row = perm // num_nodes\n"
     ]
    },
    {
     "name": "stdout",
     "output_type": "stream",
     "text": [
      "Epoch: 109, Train: 0.9870, Val: 0.9528, Test: 0.9579, Loss: 0.31763\n"
     ]
    },
    {
     "name": "stderr",
     "output_type": "stream",
     "text": [
      "c:\\Users\\rosa-\\anaconda3\\envs\\xaifo\\lib\\site-packages\\deepsnap\\graph.py:2126: UserWarning: __floordiv__ is deprecated, and its behavior will change in a future version of pytorch. It currently rounds toward 0 (like the 'trunc' function NOT 'floor'). This results in incorrect rounding for negative values. To keep the current behavior, use torch.div(a, b, rounding_mode='trunc'), or for actual floor division, use torch.div(a, b, rounding_mode='floor').\n",
      "  row = perm // num_nodes\n"
     ]
    },
    {
     "name": "stdout",
     "output_type": "stream",
     "text": [
      "Epoch: 110, Train: 0.9869, Val: 0.9527, Test: 0.9577, Loss: 0.33353\n"
     ]
    },
    {
     "name": "stderr",
     "output_type": "stream",
     "text": [
      "c:\\Users\\rosa-\\anaconda3\\envs\\xaifo\\lib\\site-packages\\deepsnap\\graph.py:2126: UserWarning: __floordiv__ is deprecated, and its behavior will change in a future version of pytorch. It currently rounds toward 0 (like the 'trunc' function NOT 'floor'). This results in incorrect rounding for negative values. To keep the current behavior, use torch.div(a, b, rounding_mode='trunc'), or for actual floor division, use torch.div(a, b, rounding_mode='floor').\n",
      "  row = perm // num_nodes\n"
     ]
    },
    {
     "name": "stdout",
     "output_type": "stream",
     "text": [
      "Epoch: 111, Train: 0.9871, Val: 0.9524, Test: 0.9573, Loss: 0.31039\n"
     ]
    },
    {
     "name": "stderr",
     "output_type": "stream",
     "text": [
      "c:\\Users\\rosa-\\anaconda3\\envs\\xaifo\\lib\\site-packages\\deepsnap\\graph.py:2126: UserWarning: __floordiv__ is deprecated, and its behavior will change in a future version of pytorch. It currently rounds toward 0 (like the 'trunc' function NOT 'floor'). This results in incorrect rounding for negative values. To keep the current behavior, use torch.div(a, b, rounding_mode='trunc'), or for actual floor division, use torch.div(a, b, rounding_mode='floor').\n",
      "  row = perm // num_nodes\n"
     ]
    },
    {
     "name": "stdout",
     "output_type": "stream",
     "text": [
      "Epoch: 112, Train: 0.9873, Val: 0.9522, Test: 0.9571, Loss: 0.32003\n"
     ]
    },
    {
     "name": "stderr",
     "output_type": "stream",
     "text": [
      "c:\\Users\\rosa-\\anaconda3\\envs\\xaifo\\lib\\site-packages\\deepsnap\\graph.py:2126: UserWarning: __floordiv__ is deprecated, and its behavior will change in a future version of pytorch. It currently rounds toward 0 (like the 'trunc' function NOT 'floor'). This results in incorrect rounding for negative values. To keep the current behavior, use torch.div(a, b, rounding_mode='trunc'), or for actual floor division, use torch.div(a, b, rounding_mode='floor').\n",
      "  row = perm // num_nodes\n"
     ]
    },
    {
     "name": "stdout",
     "output_type": "stream",
     "text": [
      "Epoch: 113, Train: 0.9873, Val: 0.9520, Test: 0.9569, Loss: 0.32058\n"
     ]
    },
    {
     "name": "stderr",
     "output_type": "stream",
     "text": [
      "c:\\Users\\rosa-\\anaconda3\\envs\\xaifo\\lib\\site-packages\\deepsnap\\graph.py:2126: UserWarning: __floordiv__ is deprecated, and its behavior will change in a future version of pytorch. It currently rounds toward 0 (like the 'trunc' function NOT 'floor'). This results in incorrect rounding for negative values. To keep the current behavior, use torch.div(a, b, rounding_mode='trunc'), or for actual floor division, use torch.div(a, b, rounding_mode='floor').\n",
      "  row = perm // num_nodes\n"
     ]
    },
    {
     "name": "stdout",
     "output_type": "stream",
     "text": [
      "Epoch: 114, Train: 0.9877, Val: 0.9518, Test: 0.9568, Loss: 0.32397\n"
     ]
    },
    {
     "name": "stderr",
     "output_type": "stream",
     "text": [
      "c:\\Users\\rosa-\\anaconda3\\envs\\xaifo\\lib\\site-packages\\deepsnap\\graph.py:2126: UserWarning: __floordiv__ is deprecated, and its behavior will change in a future version of pytorch. It currently rounds toward 0 (like the 'trunc' function NOT 'floor'). This results in incorrect rounding for negative values. To keep the current behavior, use torch.div(a, b, rounding_mode='trunc'), or for actual floor division, use torch.div(a, b, rounding_mode='floor').\n",
      "  row = perm // num_nodes\n"
     ]
    },
    {
     "name": "stdout",
     "output_type": "stream",
     "text": [
      "Epoch: 115, Train: 0.9877, Val: 0.9517, Test: 0.9568, Loss: 0.31718\n"
     ]
    },
    {
     "name": "stderr",
     "output_type": "stream",
     "text": [
      "c:\\Users\\rosa-\\anaconda3\\envs\\xaifo\\lib\\site-packages\\deepsnap\\graph.py:2126: UserWarning: __floordiv__ is deprecated, and its behavior will change in a future version of pytorch. It currently rounds toward 0 (like the 'trunc' function NOT 'floor'). This results in incorrect rounding for negative values. To keep the current behavior, use torch.div(a, b, rounding_mode='trunc'), or for actual floor division, use torch.div(a, b, rounding_mode='floor').\n",
      "  row = perm // num_nodes\n"
     ]
    },
    {
     "name": "stdout",
     "output_type": "stream",
     "text": [
      "Epoch: 116, Train: 0.9877, Val: 0.9516, Test: 0.9567, Loss: 0.30120\n"
     ]
    },
    {
     "name": "stderr",
     "output_type": "stream",
     "text": [
      "c:\\Users\\rosa-\\anaconda3\\envs\\xaifo\\lib\\site-packages\\deepsnap\\graph.py:2126: UserWarning: __floordiv__ is deprecated, and its behavior will change in a future version of pytorch. It currently rounds toward 0 (like the 'trunc' function NOT 'floor'). This results in incorrect rounding for negative values. To keep the current behavior, use torch.div(a, b, rounding_mode='trunc'), or for actual floor division, use torch.div(a, b, rounding_mode='floor').\n",
      "  row = perm // num_nodes\n"
     ]
    },
    {
     "name": "stdout",
     "output_type": "stream",
     "text": [
      "Epoch: 117, Train: 0.9877, Val: 0.9517, Test: 0.9568, Loss: 0.32423\n"
     ]
    },
    {
     "name": "stderr",
     "output_type": "stream",
     "text": [
      "c:\\Users\\rosa-\\anaconda3\\envs\\xaifo\\lib\\site-packages\\deepsnap\\graph.py:2126: UserWarning: __floordiv__ is deprecated, and its behavior will change in a future version of pytorch. It currently rounds toward 0 (like the 'trunc' function NOT 'floor'). This results in incorrect rounding for negative values. To keep the current behavior, use torch.div(a, b, rounding_mode='trunc'), or for actual floor division, use torch.div(a, b, rounding_mode='floor').\n",
      "  row = perm // num_nodes\n"
     ]
    },
    {
     "name": "stdout",
     "output_type": "stream",
     "text": [
      "Epoch: 118, Train: 0.9880, Val: 0.9517, Test: 0.9568, Loss: 0.31950\n"
     ]
    },
    {
     "name": "stderr",
     "output_type": "stream",
     "text": [
      "c:\\Users\\rosa-\\anaconda3\\envs\\xaifo\\lib\\site-packages\\deepsnap\\graph.py:2126: UserWarning: __floordiv__ is deprecated, and its behavior will change in a future version of pytorch. It currently rounds toward 0 (like the 'trunc' function NOT 'floor'). This results in incorrect rounding for negative values. To keep the current behavior, use torch.div(a, b, rounding_mode='trunc'), or for actual floor division, use torch.div(a, b, rounding_mode='floor').\n",
      "  row = perm // num_nodes\n"
     ]
    },
    {
     "name": "stdout",
     "output_type": "stream",
     "text": [
      "Epoch: 119, Train: 0.9880, Val: 0.9518, Test: 0.9569, Loss: 0.29274\n"
     ]
    },
    {
     "name": "stderr",
     "output_type": "stream",
     "text": [
      "c:\\Users\\rosa-\\anaconda3\\envs\\xaifo\\lib\\site-packages\\deepsnap\\graph.py:2126: UserWarning: __floordiv__ is deprecated, and its behavior will change in a future version of pytorch. It currently rounds toward 0 (like the 'trunc' function NOT 'floor'). This results in incorrect rounding for negative values. To keep the current behavior, use torch.div(a, b, rounding_mode='trunc'), or for actual floor division, use torch.div(a, b, rounding_mode='floor').\n",
      "  row = perm // num_nodes\n"
     ]
    },
    {
     "name": "stdout",
     "output_type": "stream",
     "text": [
      "Epoch: 120, Train: 0.9883, Val: 0.9519, Test: 0.9569, Loss: 0.32255\n"
     ]
    },
    {
     "name": "stderr",
     "output_type": "stream",
     "text": [
      "c:\\Users\\rosa-\\anaconda3\\envs\\xaifo\\lib\\site-packages\\deepsnap\\graph.py:2126: UserWarning: __floordiv__ is deprecated, and its behavior will change in a future version of pytorch. It currently rounds toward 0 (like the 'trunc' function NOT 'floor'). This results in incorrect rounding for negative values. To keep the current behavior, use torch.div(a, b, rounding_mode='trunc'), or for actual floor division, use torch.div(a, b, rounding_mode='floor').\n",
      "  row = perm // num_nodes\n"
     ]
    },
    {
     "name": "stdout",
     "output_type": "stream",
     "text": [
      "Epoch: 121, Train: 0.9882, Val: 0.9519, Test: 0.9569, Loss: 0.31483\n"
     ]
    },
    {
     "name": "stderr",
     "output_type": "stream",
     "text": [
      "c:\\Users\\rosa-\\anaconda3\\envs\\xaifo\\lib\\site-packages\\deepsnap\\graph.py:2126: UserWarning: __floordiv__ is deprecated, and its behavior will change in a future version of pytorch. It currently rounds toward 0 (like the 'trunc' function NOT 'floor'). This results in incorrect rounding for negative values. To keep the current behavior, use torch.div(a, b, rounding_mode='trunc'), or for actual floor division, use torch.div(a, b, rounding_mode='floor').\n",
      "  row = perm // num_nodes\n"
     ]
    },
    {
     "name": "stdout",
     "output_type": "stream",
     "text": [
      "Epoch: 122, Train: 0.9884, Val: 0.9518, Test: 0.9568, Loss: 0.32769\n"
     ]
    },
    {
     "name": "stderr",
     "output_type": "stream",
     "text": [
      "c:\\Users\\rosa-\\anaconda3\\envs\\xaifo\\lib\\site-packages\\deepsnap\\graph.py:2126: UserWarning: __floordiv__ is deprecated, and its behavior will change in a future version of pytorch. It currently rounds toward 0 (like the 'trunc' function NOT 'floor'). This results in incorrect rounding for negative values. To keep the current behavior, use torch.div(a, b, rounding_mode='trunc'), or for actual floor division, use torch.div(a, b, rounding_mode='floor').\n",
      "  row = perm // num_nodes\n"
     ]
    },
    {
     "name": "stdout",
     "output_type": "stream",
     "text": [
      "Epoch: 123, Train: 0.9887, Val: 0.9516, Test: 0.9566, Loss: 0.30241\n"
     ]
    },
    {
     "name": "stderr",
     "output_type": "stream",
     "text": [
      "c:\\Users\\rosa-\\anaconda3\\envs\\xaifo\\lib\\site-packages\\deepsnap\\graph.py:2126: UserWarning: __floordiv__ is deprecated, and its behavior will change in a future version of pytorch. It currently rounds toward 0 (like the 'trunc' function NOT 'floor'). This results in incorrect rounding for negative values. To keep the current behavior, use torch.div(a, b, rounding_mode='trunc'), or for actual floor division, use torch.div(a, b, rounding_mode='floor').\n",
      "  row = perm // num_nodes\n"
     ]
    },
    {
     "name": "stdout",
     "output_type": "stream",
     "text": [
      "Epoch: 124, Train: 0.9886, Val: 0.9513, Test: 0.9564, Loss: 0.31111\n"
     ]
    },
    {
     "name": "stderr",
     "output_type": "stream",
     "text": [
      "c:\\Users\\rosa-\\anaconda3\\envs\\xaifo\\lib\\site-packages\\deepsnap\\graph.py:2126: UserWarning: __floordiv__ is deprecated, and its behavior will change in a future version of pytorch. It currently rounds toward 0 (like the 'trunc' function NOT 'floor'). This results in incorrect rounding for negative values. To keep the current behavior, use torch.div(a, b, rounding_mode='trunc'), or for actual floor division, use torch.div(a, b, rounding_mode='floor').\n",
      "  row = perm // num_nodes\n"
     ]
    },
    {
     "name": "stdout",
     "output_type": "stream",
     "text": [
      "Epoch: 125, Train: 0.9884, Val: 0.9510, Test: 0.9562, Loss: 0.30463\n"
     ]
    },
    {
     "name": "stderr",
     "output_type": "stream",
     "text": [
      "c:\\Users\\rosa-\\anaconda3\\envs\\xaifo\\lib\\site-packages\\deepsnap\\graph.py:2126: UserWarning: __floordiv__ is deprecated, and its behavior will change in a future version of pytorch. It currently rounds toward 0 (like the 'trunc' function NOT 'floor'). This results in incorrect rounding for negative values. To keep the current behavior, use torch.div(a, b, rounding_mode='trunc'), or for actual floor division, use torch.div(a, b, rounding_mode='floor').\n",
      "  row = perm // num_nodes\n"
     ]
    },
    {
     "name": "stdout",
     "output_type": "stream",
     "text": [
      "Epoch: 126, Train: 0.9886, Val: 0.9508, Test: 0.9560, Loss: 0.31801\n"
     ]
    },
    {
     "name": "stderr",
     "output_type": "stream",
     "text": [
      "c:\\Users\\rosa-\\anaconda3\\envs\\xaifo\\lib\\site-packages\\deepsnap\\graph.py:2126: UserWarning: __floordiv__ is deprecated, and its behavior will change in a future version of pytorch. It currently rounds toward 0 (like the 'trunc' function NOT 'floor'). This results in incorrect rounding for negative values. To keep the current behavior, use torch.div(a, b, rounding_mode='trunc'), or for actual floor division, use torch.div(a, b, rounding_mode='floor').\n",
      "  row = perm // num_nodes\n"
     ]
    },
    {
     "name": "stdout",
     "output_type": "stream",
     "text": [
      "Epoch: 127, Train: 0.9888, Val: 0.9508, Test: 0.9560, Loss: 0.30284\n"
     ]
    },
    {
     "name": "stderr",
     "output_type": "stream",
     "text": [
      "c:\\Users\\rosa-\\anaconda3\\envs\\xaifo\\lib\\site-packages\\deepsnap\\graph.py:2126: UserWarning: __floordiv__ is deprecated, and its behavior will change in a future version of pytorch. It currently rounds toward 0 (like the 'trunc' function NOT 'floor'). This results in incorrect rounding for negative values. To keep the current behavior, use torch.div(a, b, rounding_mode='trunc'), or for actual floor division, use torch.div(a, b, rounding_mode='floor').\n",
      "  row = perm // num_nodes\n"
     ]
    },
    {
     "name": "stdout",
     "output_type": "stream",
     "text": [
      "Epoch: 128, Train: 0.9886, Val: 0.9509, Test: 0.9560, Loss: 0.30312\n"
     ]
    },
    {
     "name": "stderr",
     "output_type": "stream",
     "text": [
      "c:\\Users\\rosa-\\anaconda3\\envs\\xaifo\\lib\\site-packages\\deepsnap\\graph.py:2126: UserWarning: __floordiv__ is deprecated, and its behavior will change in a future version of pytorch. It currently rounds toward 0 (like the 'trunc' function NOT 'floor'). This results in incorrect rounding for negative values. To keep the current behavior, use torch.div(a, b, rounding_mode='trunc'), or for actual floor division, use torch.div(a, b, rounding_mode='floor').\n",
      "  row = perm // num_nodes\n"
     ]
    },
    {
     "name": "stdout",
     "output_type": "stream",
     "text": [
      "Epoch: 129, Train: 0.9888, Val: 0.9510, Test: 0.9561, Loss: 0.31986\n"
     ]
    },
    {
     "name": "stderr",
     "output_type": "stream",
     "text": [
      "c:\\Users\\rosa-\\anaconda3\\envs\\xaifo\\lib\\site-packages\\deepsnap\\graph.py:2126: UserWarning: __floordiv__ is deprecated, and its behavior will change in a future version of pytorch. It currently rounds toward 0 (like the 'trunc' function NOT 'floor'). This results in incorrect rounding for negative values. To keep the current behavior, use torch.div(a, b, rounding_mode='trunc'), or for actual floor division, use torch.div(a, b, rounding_mode='floor').\n",
      "  row = perm // num_nodes\n"
     ]
    },
    {
     "name": "stdout",
     "output_type": "stream",
     "text": [
      "Epoch: 130, Train: 0.9890, Val: 0.9512, Test: 0.9563, Loss: 0.30192\n"
     ]
    },
    {
     "name": "stderr",
     "output_type": "stream",
     "text": [
      "c:\\Users\\rosa-\\anaconda3\\envs\\xaifo\\lib\\site-packages\\deepsnap\\graph.py:2126: UserWarning: __floordiv__ is deprecated, and its behavior will change in a future version of pytorch. It currently rounds toward 0 (like the 'trunc' function NOT 'floor'). This results in incorrect rounding for negative values. To keep the current behavior, use torch.div(a, b, rounding_mode='trunc'), or for actual floor division, use torch.div(a, b, rounding_mode='floor').\n",
      "  row = perm // num_nodes\n"
     ]
    },
    {
     "name": "stdout",
     "output_type": "stream",
     "text": [
      "Epoch: 131, Train: 0.9890, Val: 0.9515, Test: 0.9566, Loss: 0.31829\n"
     ]
    },
    {
     "name": "stderr",
     "output_type": "stream",
     "text": [
      "c:\\Users\\rosa-\\anaconda3\\envs\\xaifo\\lib\\site-packages\\deepsnap\\graph.py:2126: UserWarning: __floordiv__ is deprecated, and its behavior will change in a future version of pytorch. It currently rounds toward 0 (like the 'trunc' function NOT 'floor'). This results in incorrect rounding for negative values. To keep the current behavior, use torch.div(a, b, rounding_mode='trunc'), or for actual floor division, use torch.div(a, b, rounding_mode='floor').\n",
      "  row = perm // num_nodes\n"
     ]
    },
    {
     "name": "stdout",
     "output_type": "stream",
     "text": [
      "Epoch: 132, Train: 0.9891, Val: 0.9516, Test: 0.9568, Loss: 0.30176\n"
     ]
    },
    {
     "name": "stderr",
     "output_type": "stream",
     "text": [
      "c:\\Users\\rosa-\\anaconda3\\envs\\xaifo\\lib\\site-packages\\deepsnap\\graph.py:2126: UserWarning: __floordiv__ is deprecated, and its behavior will change in a future version of pytorch. It currently rounds toward 0 (like the 'trunc' function NOT 'floor'). This results in incorrect rounding for negative values. To keep the current behavior, use torch.div(a, b, rounding_mode='trunc'), or for actual floor division, use torch.div(a, b, rounding_mode='floor').\n",
      "  row = perm // num_nodes\n"
     ]
    },
    {
     "name": "stdout",
     "output_type": "stream",
     "text": [
      "Epoch: 133, Train: 0.9893, Val: 0.9518, Test: 0.9570, Loss: 0.31915\n"
     ]
    },
    {
     "name": "stderr",
     "output_type": "stream",
     "text": [
      "c:\\Users\\rosa-\\anaconda3\\envs\\xaifo\\lib\\site-packages\\deepsnap\\graph.py:2126: UserWarning: __floordiv__ is deprecated, and its behavior will change in a future version of pytorch. It currently rounds toward 0 (like the 'trunc' function NOT 'floor'). This results in incorrect rounding for negative values. To keep the current behavior, use torch.div(a, b, rounding_mode='trunc'), or for actual floor division, use torch.div(a, b, rounding_mode='floor').\n",
      "  row = perm // num_nodes\n"
     ]
    },
    {
     "name": "stdout",
     "output_type": "stream",
     "text": [
      "Epoch: 134, Train: 0.9896, Val: 0.9518, Test: 0.9570, Loss: 0.31320\n"
     ]
    },
    {
     "name": "stderr",
     "output_type": "stream",
     "text": [
      "c:\\Users\\rosa-\\anaconda3\\envs\\xaifo\\lib\\site-packages\\deepsnap\\graph.py:2126: UserWarning: __floordiv__ is deprecated, and its behavior will change in a future version of pytorch. It currently rounds toward 0 (like the 'trunc' function NOT 'floor'). This results in incorrect rounding for negative values. To keep the current behavior, use torch.div(a, b, rounding_mode='trunc'), or for actual floor division, use torch.div(a, b, rounding_mode='floor').\n",
      "  row = perm // num_nodes\n"
     ]
    },
    {
     "name": "stdout",
     "output_type": "stream",
     "text": [
      "Epoch: 135, Train: 0.9896, Val: 0.9518, Test: 0.9571, Loss: 0.30468\n"
     ]
    },
    {
     "name": "stderr",
     "output_type": "stream",
     "text": [
      "c:\\Users\\rosa-\\anaconda3\\envs\\xaifo\\lib\\site-packages\\deepsnap\\graph.py:2126: UserWarning: __floordiv__ is deprecated, and its behavior will change in a future version of pytorch. It currently rounds toward 0 (like the 'trunc' function NOT 'floor'). This results in incorrect rounding for negative values. To keep the current behavior, use torch.div(a, b, rounding_mode='trunc'), or for actual floor division, use torch.div(a, b, rounding_mode='floor').\n",
      "  row = perm // num_nodes\n"
     ]
    },
    {
     "name": "stdout",
     "output_type": "stream",
     "text": [
      "Epoch: 136, Train: 0.9897, Val: 0.9518, Test: 0.9570, Loss: 0.31721\n"
     ]
    },
    {
     "name": "stderr",
     "output_type": "stream",
     "text": [
      "c:\\Users\\rosa-\\anaconda3\\envs\\xaifo\\lib\\site-packages\\deepsnap\\graph.py:2126: UserWarning: __floordiv__ is deprecated, and its behavior will change in a future version of pytorch. It currently rounds toward 0 (like the 'trunc' function NOT 'floor'). This results in incorrect rounding for negative values. To keep the current behavior, use torch.div(a, b, rounding_mode='trunc'), or for actual floor division, use torch.div(a, b, rounding_mode='floor').\n",
      "  row = perm // num_nodes\n"
     ]
    },
    {
     "name": "stdout",
     "output_type": "stream",
     "text": [
      "Epoch: 137, Train: 0.9895, Val: 0.9517, Test: 0.9570, Loss: 0.30678\n"
     ]
    },
    {
     "name": "stderr",
     "output_type": "stream",
     "text": [
      "c:\\Users\\rosa-\\anaconda3\\envs\\xaifo\\lib\\site-packages\\deepsnap\\graph.py:2126: UserWarning: __floordiv__ is deprecated, and its behavior will change in a future version of pytorch. It currently rounds toward 0 (like the 'trunc' function NOT 'floor'). This results in incorrect rounding for negative values. To keep the current behavior, use torch.div(a, b, rounding_mode='trunc'), or for actual floor division, use torch.div(a, b, rounding_mode='floor').\n",
      "  row = perm // num_nodes\n"
     ]
    },
    {
     "name": "stdout",
     "output_type": "stream",
     "text": [
      "Epoch: 138, Train: 0.9896, Val: 0.9518, Test: 0.9570, Loss: 0.31028\n"
     ]
    },
    {
     "name": "stderr",
     "output_type": "stream",
     "text": [
      "c:\\Users\\rosa-\\anaconda3\\envs\\xaifo\\lib\\site-packages\\deepsnap\\graph.py:2126: UserWarning: __floordiv__ is deprecated, and its behavior will change in a future version of pytorch. It currently rounds toward 0 (like the 'trunc' function NOT 'floor'). This results in incorrect rounding for negative values. To keep the current behavior, use torch.div(a, b, rounding_mode='trunc'), or for actual floor division, use torch.div(a, b, rounding_mode='floor').\n",
      "  row = perm // num_nodes\n"
     ]
    },
    {
     "name": "stdout",
     "output_type": "stream",
     "text": [
      "Epoch: 139, Train: 0.9895, Val: 0.9519, Test: 0.9571, Loss: 0.30531\n"
     ]
    },
    {
     "name": "stderr",
     "output_type": "stream",
     "text": [
      "c:\\Users\\rosa-\\anaconda3\\envs\\xaifo\\lib\\site-packages\\deepsnap\\graph.py:2126: UserWarning: __floordiv__ is deprecated, and its behavior will change in a future version of pytorch. It currently rounds toward 0 (like the 'trunc' function NOT 'floor'). This results in incorrect rounding for negative values. To keep the current behavior, use torch.div(a, b, rounding_mode='trunc'), or for actual floor division, use torch.div(a, b, rounding_mode='floor').\n",
      "  row = perm // num_nodes\n"
     ]
    },
    {
     "name": "stdout",
     "output_type": "stream",
     "text": [
      "Epoch: 140, Train: 0.9894, Val: 0.9521, Test: 0.9572, Loss: 0.30624\n"
     ]
    },
    {
     "name": "stderr",
     "output_type": "stream",
     "text": [
      "c:\\Users\\rosa-\\anaconda3\\envs\\xaifo\\lib\\site-packages\\deepsnap\\graph.py:2126: UserWarning: __floordiv__ is deprecated, and its behavior will change in a future version of pytorch. It currently rounds toward 0 (like the 'trunc' function NOT 'floor'). This results in incorrect rounding for negative values. To keep the current behavior, use torch.div(a, b, rounding_mode='trunc'), or for actual floor division, use torch.div(a, b, rounding_mode='floor').\n",
      "  row = perm // num_nodes\n"
     ]
    },
    {
     "name": "stdout",
     "output_type": "stream",
     "text": [
      "Epoch: 141, Train: 0.9894, Val: 0.9524, Test: 0.9575, Loss: 0.31178\n"
     ]
    },
    {
     "name": "stderr",
     "output_type": "stream",
     "text": [
      "c:\\Users\\rosa-\\anaconda3\\envs\\xaifo\\lib\\site-packages\\deepsnap\\graph.py:2126: UserWarning: __floordiv__ is deprecated, and its behavior will change in a future version of pytorch. It currently rounds toward 0 (like the 'trunc' function NOT 'floor'). This results in incorrect rounding for negative values. To keep the current behavior, use torch.div(a, b, rounding_mode='trunc'), or for actual floor division, use torch.div(a, b, rounding_mode='floor').\n",
      "  row = perm // num_nodes\n"
     ]
    },
    {
     "name": "stdout",
     "output_type": "stream",
     "text": [
      "Epoch: 142, Train: 0.9892, Val: 0.9527, Test: 0.9579, Loss: 0.30858\n"
     ]
    },
    {
     "name": "stderr",
     "output_type": "stream",
     "text": [
      "c:\\Users\\rosa-\\anaconda3\\envs\\xaifo\\lib\\site-packages\\deepsnap\\graph.py:2126: UserWarning: __floordiv__ is deprecated, and its behavior will change in a future version of pytorch. It currently rounds toward 0 (like the 'trunc' function NOT 'floor'). This results in incorrect rounding for negative values. To keep the current behavior, use torch.div(a, b, rounding_mode='trunc'), or for actual floor division, use torch.div(a, b, rounding_mode='floor').\n",
      "  row = perm // num_nodes\n"
     ]
    },
    {
     "name": "stdout",
     "output_type": "stream",
     "text": [
      "Epoch: 143, Train: 0.9893, Val: 0.9529, Test: 0.9581, Loss: 0.31196\n"
     ]
    },
    {
     "name": "stderr",
     "output_type": "stream",
     "text": [
      "c:\\Users\\rosa-\\anaconda3\\envs\\xaifo\\lib\\site-packages\\deepsnap\\graph.py:2126: UserWarning: __floordiv__ is deprecated, and its behavior will change in a future version of pytorch. It currently rounds toward 0 (like the 'trunc' function NOT 'floor'). This results in incorrect rounding for negative values. To keep the current behavior, use torch.div(a, b, rounding_mode='trunc'), or for actual floor division, use torch.div(a, b, rounding_mode='floor').\n",
      "  row = perm // num_nodes\n"
     ]
    },
    {
     "name": "stdout",
     "output_type": "stream",
     "text": [
      "Epoch: 144, Train: 0.9895, Val: 0.9531, Test: 0.9582, Loss: 0.31090\n"
     ]
    },
    {
     "name": "stderr",
     "output_type": "stream",
     "text": [
      "c:\\Users\\rosa-\\anaconda3\\envs\\xaifo\\lib\\site-packages\\deepsnap\\graph.py:2126: UserWarning: __floordiv__ is deprecated, and its behavior will change in a future version of pytorch. It currently rounds toward 0 (like the 'trunc' function NOT 'floor'). This results in incorrect rounding for negative values. To keep the current behavior, use torch.div(a, b, rounding_mode='trunc'), or for actual floor division, use torch.div(a, b, rounding_mode='floor').\n",
      "  row = perm // num_nodes\n"
     ]
    },
    {
     "name": "stdout",
     "output_type": "stream",
     "text": [
      "Epoch: 145, Train: 0.9896, Val: 0.9533, Test: 0.9583, Loss: 0.29853\n"
     ]
    },
    {
     "name": "stderr",
     "output_type": "stream",
     "text": [
      "c:\\Users\\rosa-\\anaconda3\\envs\\xaifo\\lib\\site-packages\\deepsnap\\graph.py:2126: UserWarning: __floordiv__ is deprecated, and its behavior will change in a future version of pytorch. It currently rounds toward 0 (like the 'trunc' function NOT 'floor'). This results in incorrect rounding for negative values. To keep the current behavior, use torch.div(a, b, rounding_mode='trunc'), or for actual floor division, use torch.div(a, b, rounding_mode='floor').\n",
      "  row = perm // num_nodes\n"
     ]
    },
    {
     "name": "stdout",
     "output_type": "stream",
     "text": [
      "Epoch: 146, Train: 0.9897, Val: 0.9534, Test: 0.9584, Loss: 0.30724\n"
     ]
    },
    {
     "name": "stderr",
     "output_type": "stream",
     "text": [
      "c:\\Users\\rosa-\\anaconda3\\envs\\xaifo\\lib\\site-packages\\deepsnap\\graph.py:2126: UserWarning: __floordiv__ is deprecated, and its behavior will change in a future version of pytorch. It currently rounds toward 0 (like the 'trunc' function NOT 'floor'). This results in incorrect rounding for negative values. To keep the current behavior, use torch.div(a, b, rounding_mode='trunc'), or for actual floor division, use torch.div(a, b, rounding_mode='floor').\n",
      "  row = perm // num_nodes\n"
     ]
    },
    {
     "name": "stdout",
     "output_type": "stream",
     "text": [
      "Epoch: 147, Train: 0.9899, Val: 0.9534, Test: 0.9584, Loss: 0.30833\n"
     ]
    },
    {
     "name": "stderr",
     "output_type": "stream",
     "text": [
      "c:\\Users\\rosa-\\anaconda3\\envs\\xaifo\\lib\\site-packages\\deepsnap\\graph.py:2126: UserWarning: __floordiv__ is deprecated, and its behavior will change in a future version of pytorch. It currently rounds toward 0 (like the 'trunc' function NOT 'floor'). This results in incorrect rounding for negative values. To keep the current behavior, use torch.div(a, b, rounding_mode='trunc'), or for actual floor division, use torch.div(a, b, rounding_mode='floor').\n",
      "  row = perm // num_nodes\n"
     ]
    },
    {
     "name": "stdout",
     "output_type": "stream",
     "text": [
      "Epoch: 148, Train: 0.9897, Val: 0.9534, Test: 0.9584, Loss: 0.32817\n"
     ]
    },
    {
     "name": "stderr",
     "output_type": "stream",
     "text": [
      "c:\\Users\\rosa-\\anaconda3\\envs\\xaifo\\lib\\site-packages\\deepsnap\\graph.py:2126: UserWarning: __floordiv__ is deprecated, and its behavior will change in a future version of pytorch. It currently rounds toward 0 (like the 'trunc' function NOT 'floor'). This results in incorrect rounding for negative values. To keep the current behavior, use torch.div(a, b, rounding_mode='trunc'), or for actual floor division, use torch.div(a, b, rounding_mode='floor').\n",
      "  row = perm // num_nodes\n"
     ]
    },
    {
     "name": "stdout",
     "output_type": "stream",
     "text": [
      "Epoch: 149, Train: 0.9898, Val: 0.9533, Test: 0.9583, Loss: 0.31329\n"
     ]
    },
    {
     "name": "stderr",
     "output_type": "stream",
     "text": [
      "c:\\Users\\rosa-\\anaconda3\\envs\\xaifo\\lib\\site-packages\\deepsnap\\graph.py:2126: UserWarning: __floordiv__ is deprecated, and its behavior will change in a future version of pytorch. It currently rounds toward 0 (like the 'trunc' function NOT 'floor'). This results in incorrect rounding for negative values. To keep the current behavior, use torch.div(a, b, rounding_mode='trunc'), or for actual floor division, use torch.div(a, b, rounding_mode='floor').\n",
      "  row = perm // num_nodes\n"
     ]
    },
    {
     "name": "stdout",
     "output_type": "stream",
     "text": [
      "Train: 0.9802, Val: 0.9579, Test: 0.9643\n"
     ]
    }
   ],
   "source": [
    "best_model, best_x, performance = train(model, dataloaders, optimizer, args)\n",
    "\n",
    "best_train_roc = test(best_model, dataloaders['train'], args)\n",
    "best_val_roc = test(best_model, dataloaders['val'], args)\n",
    "best_test_roc = test(best_model, dataloaders['test'], args)\n",
    "\n",
    "print('Train: {:.4f}, Val: {:.4f}, Test: {:.4f}'.format(best_train_roc, best_val_roc, best_test_roc))"
   ]
  },
  {
   "attachments": {},
   "cell_type": "markdown",
   "metadata": {},
   "source": [
    "Save the model and parameters"
   ]
  },
  {
   "cell_type": "code",
   "execution_count": 21,
   "metadata": {
    "execution": {
     "iopub.execute_input": "2024-08-07T09:57:18.431844Z",
     "iopub.status.busy": "2024-08-07T09:57:18.429842Z",
     "iopub.status.idle": "2024-08-07T09:57:18.455890Z",
     "shell.execute_reply": "2024-08-07T09:57:18.454888Z"
    }
   },
   "outputs": [],
   "source": [
    "torch.save(best_model.state_dict(), f'{run_dir}/{dataset_prefix}_{disease_prefix}_best_model_{embedding_method}.pth')\n",
    "with open(f'{run_dir}/{dataset_prefix}_{disease_prefix}_best_model_{embedding_method}_args.pkl', 'wb') as f:\n",
    "    pickle.dump(args, f)"
   ]
  },
  {
   "attachments": {},
   "cell_type": "markdown",
   "metadata": {},
   "source": [
    "### Visualize Trained GNN Model Accuracy"
   ]
  },
  {
   "attachments": {},
   "cell_type": "markdown",
   "metadata": {},
   "source": [
    "Plot AUC and loss throughout epochs"
   ]
  },
  {
   "cell_type": "code",
   "execution_count": 22,
   "metadata": {
    "execution": {
     "iopub.execute_input": "2024-08-07T09:57:18.463432Z",
     "iopub.status.busy": "2024-08-07T09:57:18.462432Z",
     "iopub.status.idle": "2024-08-07T09:57:18.801033Z",
     "shell.execute_reply": "2024-08-07T09:57:18.799093Z"
    }
   },
   "outputs": [
    {
     "data": {
      "image/png": "[encoded data removed]",
      "text/plain": [
       "<Figure size 1000x700 with 1 Axes>"
      ]
     },
     "metadata": {},
     "output_type": "display_data"
    }
   ],
   "source": [
    "plt.figure(figsize= (10,7))\n",
    "plt.plot(np.log10(performance[0]), label = 'Loss')\n",
    "plt.plot(performance[1], label = 'AUC Train')\n",
    "plt.plot(performance[2], label = 'AUC Validation')\n",
    "plt.plot(performance[3], label = 'AUC Test')\n",
    "plt.legend()\n",
    "plt.ylabel('AUC/Loss')\n",
    "plt.xlabel('Epochs')\n",
    "plt.title(f'Training curve of GNN on {dataset_prefix} {disease_prefix} dataset and embedding method {embedding_method}')\n",
    "plt.show()"
   ]
  },
  {
   "cell_type": "code",
   "execution_count": 23,
   "metadata": {
    "execution": {
     "iopub.execute_input": "2024-08-07T09:57:18.806021Z",
     "iopub.status.busy": "2024-08-07T09:57:18.806021Z",
     "iopub.status.idle": "2024-08-07T09:57:18.815568Z",
     "shell.execute_reply": "2024-08-07T09:57:18.814570Z"
    }
   },
   "outputs": [],
   "source": [
    "performance_scores = {}\n",
    "sets = ['Loss', 'AUC Train', 'AUC Validation', 'AUC Test']\n",
    "for set_name, score_list in zip(sets, performance):\n",
    "    performance_scores[set_name] = score_list"
   ]
  },
  {
   "attachments": {},
   "cell_type": "markdown",
   "metadata": {},
   "source": [
    "Plot ROC curve using test set\n",
    "- High TPR and lower FPR indicates that the proportion of correctly classified samples (true positives) is greater than the proportion of incorrectly classified samples (false positives)"
   ]
  },
  {
   "cell_type": "code",
   "execution_count": 24,
   "metadata": {
    "execution": {
     "iopub.execute_input": "2024-08-07T09:57:18.819562Z",
     "iopub.status.busy": "2024-08-07T09:57:18.818557Z",
     "iopub.status.idle": "2024-08-07T09:57:20.063461Z",
     "shell.execute_reply": "2024-08-07T09:57:20.061460Z"
    }
   },
   "outputs": [
    {
     "name": "stdout",
     "output_type": "stream",
     "text": [
      "ROC AUC score: 0.9642799848615918\n"
     ]
    },
    {
     "data": {
      "image/png": "[encoded data removed]",
      "text/plain": [
       "<Figure size 700x700 with 1 Axes>"
      ]
     },
     "metadata": {},
     "output_type": "display_data"
    }
   ],
   "source": [
    "for batch in dataloaders['test']:\n",
    "    feat, edge_index, edge_label_index = batch.node_feature, batch.edge_index, batch.edge_label_index\n",
    "    batch.to(args[\"device\"])\n",
    "    pred, x = best_model(feat, edge_index, edge_label_index, training = False)\n",
    "    pred = torch.sigmoid(pred)\n",
    "    score = roc_auc_score(batch.edge_label.flatten().cpu().numpy(), pred.flatten().data.cpu().numpy())\n",
    "    \n",
    "    performance_scores['ROC AUC Score'] = score\n",
    "    print(f'ROC AUC score: {score}')\n",
    "    \n",
    "fpr, tpr, thresholds = roc_curve(batch.edge_label.flatten().cpu().numpy(), pred.flatten().data.cpu().numpy())\n",
    "performance_scores['ROC FPR'] = fpr\n",
    "performance_scores['ROC TPR'] = tpr\n",
    "performance_scores['ROC Thresholds'] = thresholds\n",
    "\n",
    "plt.figure(figsize = (7, 7))\n",
    "plt.plot(fpr, tpr, marker='.')\n",
    "plt.xlabel('False Positive Rate')   # 1 - specificity\n",
    "plt.ylabel('True Positive Rate')    # sensitivity\n",
    "plt.title(f'ROC curve on test set from {dataset_prefix} {disease_prefix} dataset and embedding method {embedding_method}')\n",
    "plt.show()"
   ]
  },
  {
   "attachments": {},
   "cell_type": "markdown",
   "metadata": {},
   "source": [
    "Calculate F1-score using test set\n",
    "\n",
    "Elements of the F1-score:\n",
    "- Precision represents the proportion of correctly classifying samples as positive (high precision: classifying a sample as positive has a high probability to be correct)\n",
    "- Recall represents the proportion of finding all positives (high recall: all positive samples have been classified as being positive)\n",
    "\n",
    "Maximizing both elements in order to yield a model that identifies all positive samples and only identifies these samples as positives.\n",
    "\n",
    "For the F1-score, the average of precision and recall is calculated, using the harmonic mean method (equal importance):\n",
    "- High F1-score indicates that precision and recall are both high\n",
    "- Medium F1-score indicates that one of the elements is high and the other low\n",
    "- Low F1-score indicates that precision and recall are both low"
   ]
  },
  {
   "cell_type": "code",
   "execution_count": 25,
   "metadata": {
    "execution": {
     "iopub.execute_input": "2024-08-07T09:57:20.068461Z",
     "iopub.status.busy": "2024-08-07T09:57:20.067461Z",
     "iopub.status.idle": "2024-08-07T09:57:21.177016Z",
     "shell.execute_reply": "2024-08-07T09:57:21.176012Z"
    }
   },
   "outputs": [
    {
     "name": "stdout",
     "output_type": "stream",
     "text": [
      "F1-Score in the test set from restr hd dataset and embedding method e2v: 0.9330235451235798\n",
      "              precision    recall  f1-score   support\n",
      "\n",
      "           0       0.87      0.86      0.86     13600\n",
      "           1       0.93      0.94      0.93     27200\n",
      "\n",
      "    accuracy                           0.91     40800\n",
      "   macro avg       0.90      0.90      0.90     40800\n",
      "weighted avg       0.91      0.91      0.91     40800\n",
      "\n"
     ]
    }
   ],
   "source": [
    "def test_f1(model, dataloader, args, threshold):\n",
    "    model.eval()\n",
    "    score = 0\n",
    "    num_batches = 0\n",
    "    for batch in dataloader:\n",
    "        feat, edge_index, edge_label_index = batch.node_feature, batch.edge_index, batch.edge_label_index\n",
    "        batch.to(args[\"device\"])\n",
    "        pred, x = model(feat, edge_index, edge_label_index, training = False)\n",
    "        pred = torch.sigmoid(pred) > threshold\n",
    "        score += f1_score(batch.edge_label.flatten().cpu().numpy(), pred.flatten().data.cpu().numpy())\n",
    "        num_batches += 1\n",
    "    score /= num_batches \n",
    "    return batch.edge_label.flatten().cpu().numpy(), pred.flatten().data.cpu().numpy(), score\n",
    "\n",
    "true_label, pred_label, best_test_f1 = test_f1(best_model, dataloaders['test'], args, 0.7)\n",
    "performance_scores['True Labels'] = true_label\n",
    "performance_scores['Predicted Labels'] = pred_label\n",
    "performance_scores['F1 Score'] = best_test_f1\n",
    "\n",
    "print(f'F1-Score in the test set from {dataset_prefix} {disease_prefix} dataset and embedding method {embedding_method}:', best_test_f1)\n",
    "print(classification_report(true_label, pred_label))"
   ]
  },
  {
   "cell_type": "code",
   "execution_count": 26,
   "metadata": {
    "execution": {
     "iopub.execute_input": "2024-08-07T09:57:21.181013Z",
     "iopub.status.busy": "2024-08-07T09:57:21.181013Z",
     "iopub.status.idle": "2024-08-07T09:57:21.224539Z",
     "shell.execute_reply": "2024-08-07T09:57:21.223539Z"
    }
   },
   "outputs": [
    {
     "data": {
      "text/plain": [
       "{'Loss': [array(1.6194777, dtype=float32),\n",
       "  array(1.4428257, dtype=float32),\n",
       "  array(1.2948102, dtype=float32),\n",
       "  array(1.259093, dtype=float32),\n",
       "  array(1.2335699, dtype=float32),\n",
       "  array(1.2229624, dtype=float32),\n",
       "  array(1.1643769, dtype=float32),\n",
       "  array(1.1160147, dtype=float32),\n",
       "  array(1.0859798, dtype=float32),\n",
       "  array(1.0574907, dtype=float32),\n",
       "  array(1.0024886, dtype=float32),\n",
       "  array(0.9519945, dtype=float32),\n",
       "  array(0.91901743, dtype=float32),\n",
       "  array(0.8909487, dtype=float32),\n",
       "  array(0.8518683, dtype=float32),\n",
       "  array(0.8149537, dtype=float32),\n",
       "  array(0.78102875, dtype=float32),\n",
       "  array(0.7596861, dtype=float32),\n",
       "  array(0.73132926, dtype=float32),\n",
       "  array(0.6936882, dtype=float32),\n",
       "  array(0.6679447, dtype=float32),\n",
       "  array(0.66381156, dtype=float32),\n",
       "  array(0.6254078, dtype=float32),\n",
       "  array(0.6030556, dtype=float32),\n",
       "  array(0.5889764, dtype=float32),\n",
       "  array(0.5654905, dtype=float32),\n",
       "  array(0.5571463, dtype=float32),\n",
       "  array(0.54020643, dtype=float32),\n",
       "  array(0.52685106, dtype=float32),\n",
       "  array(0.5190047, dtype=float32),\n",
       "  array(0.4949928, dtype=float32),\n",
       "  array(0.48246717, dtype=float32),\n",
       "  array(0.46988526, dtype=float32),\n",
       "  array(0.46436483, dtype=float32),\n",
       "  array(0.4643271, dtype=float32),\n",
       "  array(0.4404534, dtype=float32),\n",
       "  array(0.44628507, dtype=float32),\n",
       "  array(0.43684804, dtype=float32),\n",
       "  array(0.4253571, dtype=float32),\n",
       "  array(0.43094584, dtype=float32),\n",
       "  array(0.41289434, dtype=float32),\n",
       "  array(0.4146392, dtype=float32),\n",
       "  array(0.40796977, dtype=float32),\n",
       "  array(0.40981334, dtype=float32),\n",
       "  array(0.4108612, dtype=float32),\n",
       "  array(0.3964189, dtype=float32),\n",
       "  array(0.38887903, dtype=float32),\n",
       "  array(0.4012312, dtype=float32),\n",
       "  array(0.37890044, dtype=float32),\n",
       "  array(0.38386258, dtype=float32),\n",
       "  array(0.3661464, dtype=float32),\n",
       "  array(0.38081488, dtype=float32),\n",
       "  array(0.37229306, dtype=float32),\n",
       "  array(0.38786164, dtype=float32),\n",
       "  array(0.3753725, dtype=float32),\n",
       "  array(0.37968814, dtype=float32),\n",
       "  array(0.36771175, dtype=float32),\n",
       "  array(0.35700235, dtype=float32),\n",
       "  array(0.36913455, dtype=float32),\n",
       "  array(0.36451328, dtype=float32),\n",
       "  array(0.35828686, dtype=float32),\n",
       "  array(0.36291474, dtype=float32),\n",
       "  array(0.36241698, dtype=float32),\n",
       "  array(0.36468887, dtype=float32),\n",
       "  array(0.35433924, dtype=float32),\n",
       "  array(0.34439796, dtype=float32),\n",
       "  array(0.3422554, dtype=float32),\n",
       "  array(0.36249828, dtype=float32),\n",
       "  array(0.3468046, dtype=float32),\n",
       "  array(0.348934, dtype=float32),\n",
       "  array(0.34309438, dtype=float32),\n",
       "  array(0.35429168, dtype=float32),\n",
       "  array(0.35650143, dtype=float32),\n",
       "  array(0.3468724, dtype=float32),\n",
       "  array(0.35697362, dtype=float32),\n",
       "  array(0.34270692, dtype=float32),\n",
       "  array(0.34125116, dtype=float32),\n",
       "  array(0.35086277, dtype=float32),\n",
       "  array(0.3372072, dtype=float32),\n",
       "  array(0.34550846, dtype=float32),\n",
       "  array(0.33846623, dtype=float32),\n",
       "  array(0.33762234, dtype=float32),\n",
       "  array(0.34233522, dtype=float32),\n",
       "  array(0.339235, dtype=float32),\n",
       "  array(0.33729863, dtype=float32),\n",
       "  array(0.35214525, dtype=float32),\n",
       "  array(0.33304834, dtype=float32),\n",
       "  array(0.31431067, dtype=float32),\n",
       "  array(0.32414824, dtype=float32),\n",
       "  array(0.33367527, dtype=float32),\n",
       "  array(0.33397135, dtype=float32),\n",
       "  array(0.33001092, dtype=float32),\n",
       "  array(0.331621, dtype=float32),\n",
       "  array(0.3313007, dtype=float32),\n",
       "  array(0.32397208, dtype=float32),\n",
       "  array(0.3269866, dtype=float32),\n",
       "  array(0.33091277, dtype=float32),\n",
       "  array(0.32730106, dtype=float32),\n",
       "  array(0.32216588, dtype=float32),\n",
       "  array(0.33675122, dtype=float32),\n",
       "  array(0.32265633, dtype=float32),\n",
       "  array(0.31282285, dtype=float32),\n",
       "  array(0.32983753, dtype=float32),\n",
       "  array(0.32947788, dtype=float32),\n",
       "  array(0.3210382, dtype=float32),\n",
       "  array(0.30983987, dtype=float32),\n",
       "  array(0.31662792, dtype=float32),\n",
       "  array(0.3150477, dtype=float32),\n",
       "  array(0.3176328, dtype=float32),\n",
       "  array(0.33352762, dtype=float32),\n",
       "  array(0.31038582, dtype=float32),\n",
       "  array(0.3200261, dtype=float32),\n",
       "  array(0.32057783, dtype=float32),\n",
       "  array(0.32396844, dtype=float32),\n",
       "  array(0.317182, dtype=float32),\n",
       "  array(0.30119926, dtype=float32),\n",
       "  array(0.32422936, dtype=float32),\n",
       "  array(0.31950402, dtype=float32),\n",
       "  array(0.29273745, dtype=float32),\n",
       "  array(0.32255363, dtype=float32),\n",
       "  array(0.31483245, dtype=float32),\n",
       "  array(0.32768834, dtype=float32),\n",
       "  array(0.3024109, dtype=float32),\n",
       "  array(0.31110767, dtype=float32),\n",
       "  array(0.3046271, dtype=float32),\n",
       "  array(0.31800538, dtype=float32),\n",
       "  array(0.3028367, dtype=float32),\n",
       "  array(0.30311656, dtype=float32),\n",
       "  array(0.31986108, dtype=float32),\n",
       "  array(0.30191654, dtype=float32),\n",
       "  array(0.31829137, dtype=float32),\n",
       "  array(0.30175894, dtype=float32),\n",
       "  array(0.3191463, dtype=float32),\n",
       "  array(0.31320235, dtype=float32),\n",
       "  array(0.30467844, dtype=float32),\n",
       "  array(0.31721407, dtype=float32),\n",
       "  array(0.30678132, dtype=float32),\n",
       "  array(0.31028047, dtype=float32),\n",
       "  array(0.30531448, dtype=float32),\n",
       "  array(0.30624118, dtype=float32),\n",
       "  array(0.31178215, dtype=float32),\n",
       "  array(0.30858302, dtype=float32),\n",
       "  array(0.31196293, dtype=float32),\n",
       "  array(0.31090373, dtype=float32),\n",
       "  array(0.29853225, dtype=float32),\n",
       "  array(0.30723917, dtype=float32),\n",
       "  array(0.3083345, dtype=float32),\n",
       "  array(0.32816646, dtype=float32),\n",
       "  array(0.31329402, dtype=float32)],\n",
       " 'AUC Train': [0.9011230394089812,\n",
       "  0.9075253547996449,\n",
       "  0.9129568403547497,\n",
       "  0.9160946075973075,\n",
       "  0.9150773732628408,\n",
       "  0.9115500501167524,\n",
       "  0.9053741594156737,\n",
       "  0.9001529964591157,\n",
       "  0.8990083950893838,\n",
       "  0.8998473929703013,\n",
       "  0.9003979881614979,\n",
       "  0.9018706202339837,\n",
       "  0.9038061905606314,\n",
       "  0.9067455268277453,\n",
       "  0.909866193522458,\n",
       "  0.9121327717139831,\n",
       "  0.9147562676695994,\n",
       "  0.9178676187715997,\n",
       "  0.918988557847222,\n",
       "  0.922712303479565,\n",
       "  0.9265079106684235,\n",
       "  0.9329672578240142,\n",
       "  0.9388248967338211,\n",
       "  0.9438907634938201,\n",
       "  0.9482925927271872,\n",
       "  0.951565081847223,\n",
       "  0.9529927072772292,\n",
       "  0.9551207338077061,\n",
       "  0.956594895588346,\n",
       "  0.9584248413603207,\n",
       "  0.9599648796599309,\n",
       "  0.9623448441678627,\n",
       "  0.9627935044981379,\n",
       "  0.963827280880027,\n",
       "  0.9650841044180839,\n",
       "  0.9657769255863078,\n",
       "  0.9673665266159966,\n",
       "  0.9685577575324238,\n",
       "  0.9692453336127919,\n",
       "  0.9703136786782816,\n",
       "  0.9702115613119271,\n",
       "  0.9703714214962047,\n",
       "  0.9708830767029524,\n",
       "  0.9714252174567022,\n",
       "  0.9712910707248181,\n",
       "  0.9718536509464119,\n",
       "  0.9723643990758094,\n",
       "  0.9723758119178769,\n",
       "  0.9734876717284238,\n",
       "  0.9740417083299393,\n",
       "  0.974817592790346,\n",
       "  0.9746947856871229,\n",
       "  0.975327020332398,\n",
       "  0.9755297352426635,\n",
       "  0.9755629856202364,\n",
       "  0.9764687482977248,\n",
       "  0.9764446242902175,\n",
       "  0.9765791939530948,\n",
       "  0.977397406450778,\n",
       "  0.9770221319353575,\n",
       "  0.9780555740619257,\n",
       "  0.9784582913109645,\n",
       "  0.9784188994143357,\n",
       "  0.978968904166659,\n",
       "  0.978251540115611,\n",
       "  0.978678260082088,\n",
       "  0.9785886109630624,\n",
       "  0.9791839736385775,\n",
       "  0.9795731659253806,\n",
       "  0.9799205568636191,\n",
       "  0.9807020935848825,\n",
       "  0.9808941795815102,\n",
       "  0.9815255006012076,\n",
       "  0.9813905644910789,\n",
       "  0.9820909080938885,\n",
       "  0.9819904246581198,\n",
       "  0.9821621790847912,\n",
       "  0.9828422744702416,\n",
       "  0.9825856935461204,\n",
       "  0.9825913813363911,\n",
       "  0.9830049083146357,\n",
       "  0.9830526036170162,\n",
       "  0.9828712836243341,\n",
       "  0.9833508550941418,\n",
       "  0.9831627423506333,\n",
       "  0.9830025242529231,\n",
       "  0.9831684808791044,\n",
       "  0.9828553265237232,\n",
       "  0.9833265479052555,\n",
       "  0.983298469486625,\n",
       "  0.9837305020933161,\n",
       "  0.984358013903551,\n",
       "  0.9847364974728364,\n",
       "  0.9849941224801229,\n",
       "  0.9850356169491815,\n",
       "  0.9850432537876362,\n",
       "  0.9852068385191339,\n",
       "  0.9854131469275789,\n",
       "  0.9851286869889113,\n",
       "  0.9853979857534401,\n",
       "  0.9855870371747767,\n",
       "  0.9854070893948199,\n",
       "  0.9857978002366673,\n",
       "  0.9863810292581473,\n",
       "  0.9864192153092722,\n",
       "  0.9866563353241944,\n",
       "  0.986251983933337,\n",
       "  0.9865453338299397,\n",
       "  0.986962106658862,\n",
       "  0.9869300701114054,\n",
       "  0.9870822202015754,\n",
       "  0.987327305649225,\n",
       "  0.9873370776322601,\n",
       "  0.9877030218953881,\n",
       "  0.9877011064332732,\n",
       "  0.9877027457291807,\n",
       "  0.9877005996427235,\n",
       "  0.9879911129317342,\n",
       "  0.9880267551021527,\n",
       "  0.9882989527458033,\n",
       "  0.9881844620180465,\n",
       "  0.9883502744987329,\n",
       "  0.988723561859511,\n",
       "  0.9886362756788841,\n",
       "  0.9883908269102335,\n",
       "  0.9886426809858853,\n",
       "  0.9887656757063833,\n",
       "  0.9886445776060038,\n",
       "  0.9888487546720652,\n",
       "  0.9890183682931079,\n",
       "  0.9889666040912429,\n",
       "  0.9891209794380507,\n",
       "  0.989309756171812,\n",
       "  0.989588885261969,\n",
       "  0.9896141424930265,\n",
       "  0.9897280562585841,\n",
       "  0.9894673878464614,\n",
       "  0.9896080514164445,\n",
       "  0.9894842799071969,\n",
       "  0.9894123813003886,\n",
       "  0.9893958555179179,\n",
       "  0.9892183031640164,\n",
       "  0.9893229339090118,\n",
       "  0.9894745360604162,\n",
       "  0.9896440362070162,\n",
       "  0.9897305181385856,\n",
       "  0.9899439301485464,\n",
       "  0.9897415377490394,\n",
       "  0.9898086079042376],\n",
       " 'AUC Validation': [0.8750087368904189,\n",
       "  0.8825983527248855,\n",
       "  0.8877437349059468,\n",
       "  0.8902753969533557,\n",
       "  0.8887266256137916,\n",
       "  0.883992845343941,\n",
       "  0.8774220574731744,\n",
       "  0.8714196650308121,\n",
       "  0.8697297378829038,\n",
       "  0.8681735059798403,\n",
       "  0.8683523053200702,\n",
       "  0.8685172462377073,\n",
       "  0.8694764464791452,\n",
       "  0.871246595641309,\n",
       "  0.8728964077259659,\n",
       "  0.873751414262166,\n",
       "  0.8741388038190557,\n",
       "  0.8750916765075438,\n",
       "  0.8759287360484759,\n",
       "  0.878835262342833,\n",
       "  0.8834806164122532,\n",
       "  0.8896860962634751,\n",
       "  0.8957959516467657,\n",
       "  0.9010468390130566,\n",
       "  0.9057807950482669,\n",
       "  0.9090423132875951,\n",
       "  0.9114738350493694,\n",
       "  0.9135769973742928,\n",
       "  0.9159049392575469,\n",
       "  0.918516320359874,\n",
       "  0.9208264125948287,\n",
       "  0.9227613728786717,\n",
       "  0.92425533246683,\n",
       "  0.9256923332621114,\n",
       "  0.927054314697785,\n",
       "  0.9280666880166596,\n",
       "  0.9290166808573309,\n",
       "  0.9300748234758747,\n",
       "  0.931178978761509,\n",
       "  0.9322994261439476,\n",
       "  0.9335803067385671,\n",
       "  0.9353668047832666,\n",
       "  0.9372144799894762,\n",
       "  0.9389821305794497,\n",
       "  0.9408246220595888,\n",
       "  0.9429316566305908,\n",
       "  0.9447909458709537,\n",
       "  0.9463894777358938,\n",
       "  0.9475420847709949,\n",
       "  0.9484461785160389,\n",
       "  0.9493474194540906,\n",
       "  0.9500826243211105,\n",
       "  0.950688606495669,\n",
       "  0.9510147810338945,\n",
       "  0.9512316944163575,\n",
       "  0.9517356840087983,\n",
       "  0.9522428157450545,\n",
       "  0.9531414093863808,\n",
       "  0.9540459087437934,\n",
       "  0.9547482481926292,\n",
       "  0.9553289147472244,\n",
       "  0.9560058168923857,\n",
       "  0.9565554973661047,\n",
       "  0.9568238153560774,\n",
       "  0.95695751871317,\n",
       "  0.9571272864179929,\n",
       "  0.9573862672112415,\n",
       "  0.9577343150724625,\n",
       "  0.9578890102216697,\n",
       "  0.9578951755296718,\n",
       "  0.9576965606731962,\n",
       "  0.9574313740107088,\n",
       "  0.9571067543198961,\n",
       "  0.9568402210243451,\n",
       "  0.9566657644405412,\n",
       "  0.956493801020763,\n",
       "  0.9565529663449248,\n",
       "  0.9566354273394548,\n",
       "  0.9567479333941658,\n",
       "  0.957000619083454,\n",
       "  0.9571676908180673,\n",
       "  0.9572643861026517,\n",
       "  0.9571127330462088,\n",
       "  0.9566854663853239,\n",
       "  0.9564138980882374,\n",
       "  0.956158927449273,\n",
       "  0.9558606941950769,\n",
       "  0.9553912438478609,\n",
       "  0.9550099979663138,\n",
       "  0.9547500626319577,\n",
       "  0.9549514870301065,\n",
       "  0.9552588492666776,\n",
       "  0.9554206696731593,\n",
       "  0.9552004194529443,\n",
       "  0.9544433304465992,\n",
       "  0.9535279309328019,\n",
       "  0.9524464547867354,\n",
       "  0.9516786711342724,\n",
       "  0.9514959319459025,\n",
       "  0.951664347609497,\n",
       "  0.9518711423154055,\n",
       "  0.9521214430039665,\n",
       "  0.9524603456583176,\n",
       "  0.9524607025972021,\n",
       "  0.9522765005002228,\n",
       "  0.9524215691158825,\n",
       "  0.9525410435910855,\n",
       "  0.9526893760342711,\n",
       "  0.952780035806811,\n",
       "  0.9526959658832189,\n",
       "  0.9524065695704929,\n",
       "  0.9522341897220162,\n",
       "  0.952010005061826,\n",
       "  0.9517861286670359,\n",
       "  0.9516836899113128,\n",
       "  0.9516130836142749,\n",
       "  0.9516895956273992,\n",
       "  0.9517157792578315,\n",
       "  0.951791328617601,\n",
       "  0.9519069362548903,\n",
       "  0.951886341962897,\n",
       "  0.9517595718732245,\n",
       "  0.9515643668647273,\n",
       "  0.9512657225899979,\n",
       "  0.9510373087448448,\n",
       "  0.9508463166968157,\n",
       "  0.9507566601388675,\n",
       "  0.950860207568398,\n",
       "  0.9510115739921003,\n",
       "  0.9512456501859187,\n",
       "  0.9514746129598105,\n",
       "  0.9516011532024741,\n",
       "  0.9517566974335726,\n",
       "  0.9517759910619042,\n",
       "  0.9518082615819474,\n",
       "  0.951754693708472,\n",
       "  0.9517425929394763,\n",
       "  0.9518050166829989,\n",
       "  0.9519052191625301,\n",
       "  0.9520645247723265,\n",
       "  0.9523793692050567,\n",
       "  0.9526921882800263,\n",
       "  0.9529367427933662,\n",
       "  0.9531424207132198,\n",
       "  0.953328007300417,\n",
       "  0.953426416973279,\n",
       "  0.9534388233035923,\n",
       "  0.9534024209455545,\n",
       "  0.9532910749422174],\n",
       " 'AUC Test': [0.8830867944420415,\n",
       "  0.890680030817474,\n",
       "  0.8961236970155709,\n",
       "  0.8988326989619377,\n",
       "  0.8971207450259515,\n",
       "  0.892572312932526,\n",
       "  0.8861012164792388,\n",
       "  0.879915611483564,\n",
       "  0.8782502270761245,\n",
       "  0.8770165927768165,\n",
       "  0.8777010840181662,\n",
       "  0.8781973859212802,\n",
       "  0.8792062283737023,\n",
       "  0.8806827827638409,\n",
       "  0.8819724913494811,\n",
       "  0.8825284493944637,\n",
       "  0.8825912197231833,\n",
       "  0.8835069366349481,\n",
       "  0.8843838911115919,\n",
       "  0.8872318879757786,\n",
       "  0.8916546118079585,\n",
       "  0.897593790549308,\n",
       "  0.9032740457396193,\n",
       "  0.9080581612240485,\n",
       "  0.912218847318339,\n",
       "  0.915011705233564,\n",
       "  0.9174645247621107,\n",
       "  0.9194379325259515,\n",
       "  0.921576508434256,\n",
       "  0.9239166684688581,\n",
       "  0.9261165549307958,\n",
       "  0.928000765030277,\n",
       "  0.9292822934688582,\n",
       "  0.9306239727508652,\n",
       "  0.9319354617214533,\n",
       "  0.9330573826773358,\n",
       "  0.9340797172361591,\n",
       "  0.9351924172794118,\n",
       "  0.9362629027897924,\n",
       "  0.9374117268598616,\n",
       "  0.9387667063148789,\n",
       "  0.940610799632353,\n",
       "  0.9423759839965398,\n",
       "  0.9441173010380621,\n",
       "  0.9460546415441178,\n",
       "  0.9482482212370243,\n",
       "  0.9502520815311419,\n",
       "  0.9519410196799307,\n",
       "  0.953166884731834,\n",
       "  0.9540837937932526,\n",
       "  0.9550719236591696,\n",
       "  0.9559843128243943,\n",
       "  0.9568251973399653,\n",
       "  0.9575573502378891,\n",
       "  0.9582061013192041,\n",
       "  0.9589786197015571,\n",
       "  0.9596161629541522,\n",
       "  0.9604920334126298,\n",
       "  0.9612647275086503,\n",
       "  0.961824670198962,\n",
       "  0.9622882920631487,\n",
       "  0.9628237591911764,\n",
       "  0.9631929390138408,\n",
       "  0.9633726454368512,\n",
       "  0.9634479211721453,\n",
       "  0.9635970399005191,\n",
       "  0.9638093560769897,\n",
       "  0.9640600589316608,\n",
       "  0.9642226319204152,\n",
       "  0.9642799848615918,\n",
       "  0.964148672685986,\n",
       "  0.9639147815743944,\n",
       "  0.9635963289359861,\n",
       "  0.9633291089965398,\n",
       "  0.9631923469939445,\n",
       "  0.9631035115700692,\n",
       "  0.9632425118944637,\n",
       "  0.963393844615052,\n",
       "  0.9635682417820068,\n",
       "  0.9638495647707612,\n",
       "  0.9639696420847751,\n",
       "  0.9639467993079583,\n",
       "  0.963716776600346,\n",
       "  0.963190105968858,\n",
       "  0.9628459099264706,\n",
       "  0.9624881947448097,\n",
       "  0.9620761407871973,\n",
       "  0.9615196447880624,\n",
       "  0.9610629892949826,\n",
       "  0.9607486348399654,\n",
       "  0.9608431525735294,\n",
       "  0.9611053876513842,\n",
       "  0.961261991782007,\n",
       "  0.961069282547578,\n",
       "  0.9603828476427335,\n",
       "  0.959408977616782,\n",
       "  0.958253152032872,\n",
       "  0.9575785845588236,\n",
       "  0.9573595290873703,\n",
       "  0.957404030601211,\n",
       "  0.9574846507352941,\n",
       "  0.9576083504541523,\n",
       "  0.9578700719074394,\n",
       "  0.9578107780060552,\n",
       "  0.9576893923010381,\n",
       "  0.9578263354238754,\n",
       "  0.9578704611807959,\n",
       "  0.9578998729455017,\n",
       "  0.957862651384083,\n",
       "  0.9576727778979238,\n",
       "  0.9573417955233564,\n",
       "  0.957117392949827,\n",
       "  0.9569354319852942,\n",
       "  0.9567963235294117,\n",
       "  0.9567638381271626,\n",
       "  0.9567488916522491,\n",
       "  0.9568233807309688,\n",
       "  0.9568242701124567,\n",
       "  0.956861059147924,\n",
       "  0.9569246377595155,\n",
       "  0.9568616322448096,\n",
       "  0.9567522599480969,\n",
       "  0.9566181796064015,\n",
       "  0.9563746891219723,\n",
       "  0.9561888894896194,\n",
       "  0.9560476508434257,\n",
       "  0.9559612862240484,\n",
       "  0.9560417847102076,\n",
       "  0.956140143814879,\n",
       "  0.9563420388192041,\n",
       "  0.9566317960640139,\n",
       "  0.9567974264705882,\n",
       "  0.9569687337802768,\n",
       "  0.957028152032872,\n",
       "  0.9570775519031143,\n",
       "  0.957007250216263,\n",
       "  0.956951619269031,\n",
       "  0.9570041035899653,\n",
       "  0.9570917117214534,\n",
       "  0.9572403438581315,\n",
       "  0.9575407817906575,\n",
       "  0.9578510786115917,\n",
       "  0.9580512786548443,\n",
       "  0.9582173280709343,\n",
       "  0.9583438770544984,\n",
       "  0.958402519463668,\n",
       "  0.9584061932309689,\n",
       "  0.9583823421280278,\n",
       "  0.9583091668468858],\n",
       " 'ROC AUC Score': 0.9642799848615918,\n",
       " 'ROC FPR': array([0.00000000e+00, 7.35294118e-05, 5.14705882e-04, ...,\n",
       "        9.99485294e-01, 9.99485294e-01, 1.00000000e+00]),\n",
       " 'ROC TPR': array([0.        , 0.11610294, 0.11610294, ..., 0.99985294, 1.        ,\n",
       "        1.        ]),\n",
       " 'ROC Thresholds': array([2.0000000e+00, 1.0000000e+00, 9.9999988e-01, ..., 3.7344578e-14,\n",
       "        2.0519227e-14, 7.5881505e-16], dtype=float32),\n",
       " 'True Labels': array([1, 1, 1, ..., 0, 0, 0], dtype=int64),\n",
       " 'Predicted Labels': array([ True,  True,  True, ..., False,  True,  True]),\n",
       " 'F1 Score': 0.9330235451235798}"
      ]
     },
     "execution_count": 26,
     "metadata": {},
     "output_type": "execute_result"
    }
   ],
   "source": [
    "performance_scores"
   ]
  },
  {
   "cell_type": "code",
   "execution_count": 27,
   "metadata": {
    "execution": {
     "iopub.execute_input": "2024-08-07T09:57:21.229528Z",
     "iopub.status.busy": "2024-08-07T09:57:21.228532Z",
     "iopub.status.idle": "2024-08-07T09:57:22.393725Z",
     "shell.execute_reply": "2024-08-07T09:57:22.392722Z"
    }
   },
   "outputs": [
    {
     "data": {
      "text/plain": [
       "array([[12901,   699],\n",
       "       [ 3436, 23764]], dtype=int64)"
      ]
     },
     "execution_count": 27,
     "metadata": {},
     "output_type": "execute_result"
    }
   ],
   "source": [
    "def test_cm(model, dataloader, args, threshold):\n",
    "    model.eval()\n",
    "    for batch in dataloader:\n",
    "        feat, edge_index, edge_label_index = batch.node_feature, batch.edge_index, batch.edge_label_index\n",
    "        batch.to(args[\"device\"])\n",
    "        pred, x = model(feat, edge_index, edge_label_index, training = False)\n",
    "        pred = torch.sigmoid(pred) > threshold\n",
    "        score = confusion_matrix(batch.edge_label.flatten().cpu().numpy(), pred.flatten().data.cpu().numpy())\n",
    "    return score\n",
    "\n",
    "table = test_cm(best_model, dataloaders['test'], args, 0.8)\n",
    "table"
   ]
  },
  {
   "cell_type": "code",
   "execution_count": 28,
   "metadata": {
    "execution": {
     "iopub.execute_input": "2024-08-07T09:57:22.400241Z",
     "iopub.status.busy": "2024-08-07T09:57:22.399241Z",
     "iopub.status.idle": "2024-08-07T09:57:22.457373Z",
     "shell.execute_reply": "2024-08-07T09:57:22.456373Z"
    }
   },
   "outputs": [
    {
     "data": {
      "text/plain": [
       "{'Loss': [array(1.6194777, dtype=float32),\n",
       "  array(1.4428257, dtype=float32),\n",
       "  array(1.2948102, dtype=float32),\n",
       "  array(1.259093, dtype=float32),\n",
       "  array(1.2335699, dtype=float32),\n",
       "  array(1.2229624, dtype=float32),\n",
       "  array(1.1643769, dtype=float32),\n",
       "  array(1.1160147, dtype=float32),\n",
       "  array(1.0859798, dtype=float32),\n",
       "  array(1.0574907, dtype=float32),\n",
       "  array(1.0024886, dtype=float32),\n",
       "  array(0.9519945, dtype=float32),\n",
       "  array(0.91901743, dtype=float32),\n",
       "  array(0.8909487, dtype=float32),\n",
       "  array(0.8518683, dtype=float32),\n",
       "  array(0.8149537, dtype=float32),\n",
       "  array(0.78102875, dtype=float32),\n",
       "  array(0.7596861, dtype=float32),\n",
       "  array(0.73132926, dtype=float32),\n",
       "  array(0.6936882, dtype=float32),\n",
       "  array(0.6679447, dtype=float32),\n",
       "  array(0.66381156, dtype=float32),\n",
       "  array(0.6254078, dtype=float32),\n",
       "  array(0.6030556, dtype=float32),\n",
       "  array(0.5889764, dtype=float32),\n",
       "  array(0.5654905, dtype=float32),\n",
       "  array(0.5571463, dtype=float32),\n",
       "  array(0.54020643, dtype=float32),\n",
       "  array(0.52685106, dtype=float32),\n",
       "  array(0.5190047, dtype=float32),\n",
       "  array(0.4949928, dtype=float32),\n",
       "  array(0.48246717, dtype=float32),\n",
       "  array(0.46988526, dtype=float32),\n",
       "  array(0.46436483, dtype=float32),\n",
       "  array(0.4643271, dtype=float32),\n",
       "  array(0.4404534, dtype=float32),\n",
       "  array(0.44628507, dtype=float32),\n",
       "  array(0.43684804, dtype=float32),\n",
       "  array(0.4253571, dtype=float32),\n",
       "  array(0.43094584, dtype=float32),\n",
       "  array(0.41289434, dtype=float32),\n",
       "  array(0.4146392, dtype=float32),\n",
       "  array(0.40796977, dtype=float32),\n",
       "  array(0.40981334, dtype=float32),\n",
       "  array(0.4108612, dtype=float32),\n",
       "  array(0.3964189, dtype=float32),\n",
       "  array(0.38887903, dtype=float32),\n",
       "  array(0.4012312, dtype=float32),\n",
       "  array(0.37890044, dtype=float32),\n",
       "  array(0.38386258, dtype=float32),\n",
       "  array(0.3661464, dtype=float32),\n",
       "  array(0.38081488, dtype=float32),\n",
       "  array(0.37229306, dtype=float32),\n",
       "  array(0.38786164, dtype=float32),\n",
       "  array(0.3753725, dtype=float32),\n",
       "  array(0.37968814, dtype=float32),\n",
       "  array(0.36771175, dtype=float32),\n",
       "  array(0.35700235, dtype=float32),\n",
       "  array(0.36913455, dtype=float32),\n",
       "  array(0.36451328, dtype=float32),\n",
       "  array(0.35828686, dtype=float32),\n",
       "  array(0.36291474, dtype=float32),\n",
       "  array(0.36241698, dtype=float32),\n",
       "  array(0.36468887, dtype=float32),\n",
       "  array(0.35433924, dtype=float32),\n",
       "  array(0.34439796, dtype=float32),\n",
       "  array(0.3422554, dtype=float32),\n",
       "  array(0.36249828, dtype=float32),\n",
       "  array(0.3468046, dtype=float32),\n",
       "  array(0.348934, dtype=float32),\n",
       "  array(0.34309438, dtype=float32),\n",
       "  array(0.35429168, dtype=float32),\n",
       "  array(0.35650143, dtype=float32),\n",
       "  array(0.3468724, dtype=float32),\n",
       "  array(0.35697362, dtype=float32),\n",
       "  array(0.34270692, dtype=float32),\n",
       "  array(0.34125116, dtype=float32),\n",
       "  array(0.35086277, dtype=float32),\n",
       "  array(0.3372072, dtype=float32),\n",
       "  array(0.34550846, dtype=float32),\n",
       "  array(0.33846623, dtype=float32),\n",
       "  array(0.33762234, dtype=float32),\n",
       "  array(0.34233522, dtype=float32),\n",
       "  array(0.339235, dtype=float32),\n",
       "  array(0.33729863, dtype=float32),\n",
       "  array(0.35214525, dtype=float32),\n",
       "  array(0.33304834, dtype=float32),\n",
       "  array(0.31431067, dtype=float32),\n",
       "  array(0.32414824, dtype=float32),\n",
       "  array(0.33367527, dtype=float32),\n",
       "  array(0.33397135, dtype=float32),\n",
       "  array(0.33001092, dtype=float32),\n",
       "  array(0.331621, dtype=float32),\n",
       "  array(0.3313007, dtype=float32),\n",
       "  array(0.32397208, dtype=float32),\n",
       "  array(0.3269866, dtype=float32),\n",
       "  array(0.33091277, dtype=float32),\n",
       "  array(0.32730106, dtype=float32),\n",
       "  array(0.32216588, dtype=float32),\n",
       "  array(0.33675122, dtype=float32),\n",
       "  array(0.32265633, dtype=float32),\n",
       "  array(0.31282285, dtype=float32),\n",
       "  array(0.32983753, dtype=float32),\n",
       "  array(0.32947788, dtype=float32),\n",
       "  array(0.3210382, dtype=float32),\n",
       "  array(0.30983987, dtype=float32),\n",
       "  array(0.31662792, dtype=float32),\n",
       "  array(0.3150477, dtype=float32),\n",
       "  array(0.3176328, dtype=float32),\n",
       "  array(0.33352762, dtype=float32),\n",
       "  array(0.31038582, dtype=float32),\n",
       "  array(0.3200261, dtype=float32),\n",
       "  array(0.32057783, dtype=float32),\n",
       "  array(0.32396844, dtype=float32),\n",
       "  array(0.317182, dtype=float32),\n",
       "  array(0.30119926, dtype=float32),\n",
       "  array(0.32422936, dtype=float32),\n",
       "  array(0.31950402, dtype=float32),\n",
       "  array(0.29273745, dtype=float32),\n",
       "  array(0.32255363, dtype=float32),\n",
       "  array(0.31483245, dtype=float32),\n",
       "  array(0.32768834, dtype=float32),\n",
       "  array(0.3024109, dtype=float32),\n",
       "  array(0.31110767, dtype=float32),\n",
       "  array(0.3046271, dtype=float32),\n",
       "  array(0.31800538, dtype=float32),\n",
       "  array(0.3028367, dtype=float32),\n",
       "  array(0.30311656, dtype=float32),\n",
       "  array(0.31986108, dtype=float32),\n",
       "  array(0.30191654, dtype=float32),\n",
       "  array(0.31829137, dtype=float32),\n",
       "  array(0.30175894, dtype=float32),\n",
       "  array(0.3191463, dtype=float32),\n",
       "  array(0.31320235, dtype=float32),\n",
       "  array(0.30467844, dtype=float32),\n",
       "  array(0.31721407, dtype=float32),\n",
       "  array(0.30678132, dtype=float32),\n",
       "  array(0.31028047, dtype=float32),\n",
       "  array(0.30531448, dtype=float32),\n",
       "  array(0.30624118, dtype=float32),\n",
       "  array(0.31178215, dtype=float32),\n",
       "  array(0.30858302, dtype=float32),\n",
       "  array(0.31196293, dtype=float32),\n",
       "  array(0.31090373, dtype=float32),\n",
       "  array(0.29853225, dtype=float32),\n",
       "  array(0.30723917, dtype=float32),\n",
       "  array(0.3083345, dtype=float32),\n",
       "  array(0.32816646, dtype=float32),\n",
       "  array(0.31329402, dtype=float32)],\n",
       " 'AUC Train': [0.9011230394089812,\n",
       "  0.9075253547996449,\n",
       "  0.9129568403547497,\n",
       "  0.9160946075973075,\n",
       "  0.9150773732628408,\n",
       "  0.9115500501167524,\n",
       "  0.9053741594156737,\n",
       "  0.9001529964591157,\n",
       "  0.8990083950893838,\n",
       "  0.8998473929703013,\n",
       "  0.9003979881614979,\n",
       "  0.9018706202339837,\n",
       "  0.9038061905606314,\n",
       "  0.9067455268277453,\n",
       "  0.909866193522458,\n",
       "  0.9121327717139831,\n",
       "  0.9147562676695994,\n",
       "  0.9178676187715997,\n",
       "  0.918988557847222,\n",
       "  0.922712303479565,\n",
       "  0.9265079106684235,\n",
       "  0.9329672578240142,\n",
       "  0.9388248967338211,\n",
       "  0.9438907634938201,\n",
       "  0.9482925927271872,\n",
       "  0.951565081847223,\n",
       "  0.9529927072772292,\n",
       "  0.9551207338077061,\n",
       "  0.956594895588346,\n",
       "  0.9584248413603207,\n",
       "  0.9599648796599309,\n",
       "  0.9623448441678627,\n",
       "  0.9627935044981379,\n",
       "  0.963827280880027,\n",
       "  0.9650841044180839,\n",
       "  0.9657769255863078,\n",
       "  0.9673665266159966,\n",
       "  0.9685577575324238,\n",
       "  0.9692453336127919,\n",
       "  0.9703136786782816,\n",
       "  0.9702115613119271,\n",
       "  0.9703714214962047,\n",
       "  0.9708830767029524,\n",
       "  0.9714252174567022,\n",
       "  0.9712910707248181,\n",
       "  0.9718536509464119,\n",
       "  0.9723643990758094,\n",
       "  0.9723758119178769,\n",
       "  0.9734876717284238,\n",
       "  0.9740417083299393,\n",
       "  0.974817592790346,\n",
       "  0.9746947856871229,\n",
       "  0.975327020332398,\n",
       "  0.9755297352426635,\n",
       "  0.9755629856202364,\n",
       "  0.9764687482977248,\n",
       "  0.9764446242902175,\n",
       "  0.9765791939530948,\n",
       "  0.977397406450778,\n",
       "  0.9770221319353575,\n",
       "  0.9780555740619257,\n",
       "  0.9784582913109645,\n",
       "  0.9784188994143357,\n",
       "  0.978968904166659,\n",
       "  0.978251540115611,\n",
       "  0.978678260082088,\n",
       "  0.9785886109630624,\n",
       "  0.9791839736385775,\n",
       "  0.9795731659253806,\n",
       "  0.9799205568636191,\n",
       "  0.9807020935848825,\n",
       "  0.9808941795815102,\n",
       "  0.9815255006012076,\n",
       "  0.9813905644910789,\n",
       "  0.9820909080938885,\n",
       "  0.9819904246581198,\n",
       "  0.9821621790847912,\n",
       "  0.9828422744702416,\n",
       "  0.9825856935461204,\n",
       "  0.9825913813363911,\n",
       "  0.9830049083146357,\n",
       "  0.9830526036170162,\n",
       "  0.9828712836243341,\n",
       "  0.9833508550941418,\n",
       "  0.9831627423506333,\n",
       "  0.9830025242529231,\n",
       "  0.9831684808791044,\n",
       "  0.9828553265237232,\n",
       "  0.9833265479052555,\n",
       "  0.983298469486625,\n",
       "  0.9837305020933161,\n",
       "  0.984358013903551,\n",
       "  0.9847364974728364,\n",
       "  0.9849941224801229,\n",
       "  0.9850356169491815,\n",
       "  0.9850432537876362,\n",
       "  0.9852068385191339,\n",
       "  0.9854131469275789,\n",
       "  0.9851286869889113,\n",
       "  0.9853979857534401,\n",
       "  0.9855870371747767,\n",
       "  0.9854070893948199,\n",
       "  0.9857978002366673,\n",
       "  0.9863810292581473,\n",
       "  0.9864192153092722,\n",
       "  0.9866563353241944,\n",
       "  0.986251983933337,\n",
       "  0.9865453338299397,\n",
       "  0.986962106658862,\n",
       "  0.9869300701114054,\n",
       "  0.9870822202015754,\n",
       "  0.987327305649225,\n",
       "  0.9873370776322601,\n",
       "  0.9877030218953881,\n",
       "  0.9877011064332732,\n",
       "  0.9877027457291807,\n",
       "  0.9877005996427235,\n",
       "  0.9879911129317342,\n",
       "  0.9880267551021527,\n",
       "  0.9882989527458033,\n",
       "  0.9881844620180465,\n",
       "  0.9883502744987329,\n",
       "  0.988723561859511,\n",
       "  0.9886362756788841,\n",
       "  0.9883908269102335,\n",
       "  0.9886426809858853,\n",
       "  0.9887656757063833,\n",
       "  0.9886445776060038,\n",
       "  0.9888487546720652,\n",
       "  0.9890183682931079,\n",
       "  0.9889666040912429,\n",
       "  0.9891209794380507,\n",
       "  0.989309756171812,\n",
       "  0.989588885261969,\n",
       "  0.9896141424930265,\n",
       "  0.9897280562585841,\n",
       "  0.9894673878464614,\n",
       "  0.9896080514164445,\n",
       "  0.9894842799071969,\n",
       "  0.9894123813003886,\n",
       "  0.9893958555179179,\n",
       "  0.9892183031640164,\n",
       "  0.9893229339090118,\n",
       "  0.9894745360604162,\n",
       "  0.9896440362070162,\n",
       "  0.9897305181385856,\n",
       "  0.9899439301485464,\n",
       "  0.9897415377490394,\n",
       "  0.9898086079042376],\n",
       " 'AUC Validation': [0.8750087368904189,\n",
       "  0.8825983527248855,\n",
       "  0.8877437349059468,\n",
       "  0.8902753969533557,\n",
       "  0.8887266256137916,\n",
       "  0.883992845343941,\n",
       "  0.8774220574731744,\n",
       "  0.8714196650308121,\n",
       "  0.8697297378829038,\n",
       "  0.8681735059798403,\n",
       "  0.8683523053200702,\n",
       "  0.8685172462377073,\n",
       "  0.8694764464791452,\n",
       "  0.871246595641309,\n",
       "  0.8728964077259659,\n",
       "  0.873751414262166,\n",
       "  0.8741388038190557,\n",
       "  0.8750916765075438,\n",
       "  0.8759287360484759,\n",
       "  0.878835262342833,\n",
       "  0.8834806164122532,\n",
       "  0.8896860962634751,\n",
       "  0.8957959516467657,\n",
       "  0.9010468390130566,\n",
       "  0.9057807950482669,\n",
       "  0.9090423132875951,\n",
       "  0.9114738350493694,\n",
       "  0.9135769973742928,\n",
       "  0.9159049392575469,\n",
       "  0.918516320359874,\n",
       "  0.9208264125948287,\n",
       "  0.9227613728786717,\n",
       "  0.92425533246683,\n",
       "  0.9256923332621114,\n",
       "  0.927054314697785,\n",
       "  0.9280666880166596,\n",
       "  0.9290166808573309,\n",
       "  0.9300748234758747,\n",
       "  0.931178978761509,\n",
       "  0.9322994261439476,\n",
       "  0.9335803067385671,\n",
       "  0.9353668047832666,\n",
       "  0.9372144799894762,\n",
       "  0.9389821305794497,\n",
       "  0.9408246220595888,\n",
       "  0.9429316566305908,\n",
       "  0.9447909458709537,\n",
       "  0.9463894777358938,\n",
       "  0.9475420847709949,\n",
       "  0.9484461785160389,\n",
       "  0.9493474194540906,\n",
       "  0.9500826243211105,\n",
       "  0.950688606495669,\n",
       "  0.9510147810338945,\n",
       "  0.9512316944163575,\n",
       "  0.9517356840087983,\n",
       "  0.9522428157450545,\n",
       "  0.9531414093863808,\n",
       "  0.9540459087437934,\n",
       "  0.9547482481926292,\n",
       "  0.9553289147472244,\n",
       "  0.9560058168923857,\n",
       "  0.9565554973661047,\n",
       "  0.9568238153560774,\n",
       "  0.95695751871317,\n",
       "  0.9571272864179929,\n",
       "  0.9573862672112415,\n",
       "  0.9577343150724625,\n",
       "  0.9578890102216697,\n",
       "  0.9578951755296718,\n",
       "  0.9576965606731962,\n",
       "  0.9574313740107088,\n",
       "  0.9571067543198961,\n",
       "  0.9568402210243451,\n",
       "  0.9566657644405412,\n",
       "  0.956493801020763,\n",
       "  0.9565529663449248,\n",
       "  0.9566354273394548,\n",
       "  0.9567479333941658,\n",
       "  0.957000619083454,\n",
       "  0.9571676908180673,\n",
       "  0.9572643861026517,\n",
       "  0.9571127330462088,\n",
       "  0.9566854663853239,\n",
       "  0.9564138980882374,\n",
       "  0.956158927449273,\n",
       "  0.9558606941950769,\n",
       "  0.9553912438478609,\n",
       "  0.9550099979663138,\n",
       "  0.9547500626319577,\n",
       "  0.9549514870301065,\n",
       "  0.9552588492666776,\n",
       "  0.9554206696731593,\n",
       "  0.9552004194529443,\n",
       "  0.9544433304465992,\n",
       "  0.9535279309328019,\n",
       "  0.9524464547867354,\n",
       "  0.9516786711342724,\n",
       "  0.9514959319459025,\n",
       "  0.951664347609497,\n",
       "  0.9518711423154055,\n",
       "  0.9521214430039665,\n",
       "  0.9524603456583176,\n",
       "  0.9524607025972021,\n",
       "  0.9522765005002228,\n",
       "  0.9524215691158825,\n",
       "  0.9525410435910855,\n",
       "  0.9526893760342711,\n",
       "  0.952780035806811,\n",
       "  0.9526959658832189,\n",
       "  0.9524065695704929,\n",
       "  0.9522341897220162,\n",
       "  0.952010005061826,\n",
       "  0.9517861286670359,\n",
       "  0.9516836899113128,\n",
       "  0.9516130836142749,\n",
       "  0.9516895956273992,\n",
       "  0.9517157792578315,\n",
       "  0.951791328617601,\n",
       "  0.9519069362548903,\n",
       "  0.951886341962897,\n",
       "  0.9517595718732245,\n",
       "  0.9515643668647273,\n",
       "  0.9512657225899979,\n",
       "  0.9510373087448448,\n",
       "  0.9508463166968157,\n",
       "  0.9507566601388675,\n",
       "  0.950860207568398,\n",
       "  0.9510115739921003,\n",
       "  0.9512456501859187,\n",
       "  0.9514746129598105,\n",
       "  0.9516011532024741,\n",
       "  0.9517566974335726,\n",
       "  0.9517759910619042,\n",
       "  0.9518082615819474,\n",
       "  0.951754693708472,\n",
       "  0.9517425929394763,\n",
       "  0.9518050166829989,\n",
       "  0.9519052191625301,\n",
       "  0.9520645247723265,\n",
       "  0.9523793692050567,\n",
       "  0.9526921882800263,\n",
       "  0.9529367427933662,\n",
       "  0.9531424207132198,\n",
       "  0.953328007300417,\n",
       "  0.953426416973279,\n",
       "  0.9534388233035923,\n",
       "  0.9534024209455545,\n",
       "  0.9532910749422174],\n",
       " 'AUC Test': [0.8830867944420415,\n",
       "  0.890680030817474,\n",
       "  0.8961236970155709,\n",
       "  0.8988326989619377,\n",
       "  0.8971207450259515,\n",
       "  0.892572312932526,\n",
       "  0.8861012164792388,\n",
       "  0.879915611483564,\n",
       "  0.8782502270761245,\n",
       "  0.8770165927768165,\n",
       "  0.8777010840181662,\n",
       "  0.8781973859212802,\n",
       "  0.8792062283737023,\n",
       "  0.8806827827638409,\n",
       "  0.8819724913494811,\n",
       "  0.8825284493944637,\n",
       "  0.8825912197231833,\n",
       "  0.8835069366349481,\n",
       "  0.8843838911115919,\n",
       "  0.8872318879757786,\n",
       "  0.8916546118079585,\n",
       "  0.897593790549308,\n",
       "  0.9032740457396193,\n",
       "  0.9080581612240485,\n",
       "  0.912218847318339,\n",
       "  0.915011705233564,\n",
       "  0.9174645247621107,\n",
       "  0.9194379325259515,\n",
       "  0.921576508434256,\n",
       "  0.9239166684688581,\n",
       "  0.9261165549307958,\n",
       "  0.928000765030277,\n",
       "  0.9292822934688582,\n",
       "  0.9306239727508652,\n",
       "  0.9319354617214533,\n",
       "  0.9330573826773358,\n",
       "  0.9340797172361591,\n",
       "  0.9351924172794118,\n",
       "  0.9362629027897924,\n",
       "  0.9374117268598616,\n",
       "  0.9387667063148789,\n",
       "  0.940610799632353,\n",
       "  0.9423759839965398,\n",
       "  0.9441173010380621,\n",
       "  0.9460546415441178,\n",
       "  0.9482482212370243,\n",
       "  0.9502520815311419,\n",
       "  0.9519410196799307,\n",
       "  0.953166884731834,\n",
       "  0.9540837937932526,\n",
       "  0.9550719236591696,\n",
       "  0.9559843128243943,\n",
       "  0.9568251973399653,\n",
       "  0.9575573502378891,\n",
       "  0.9582061013192041,\n",
       "  0.9589786197015571,\n",
       "  0.9596161629541522,\n",
       "  0.9604920334126298,\n",
       "  0.9612647275086503,\n",
       "  0.961824670198962,\n",
       "  0.9622882920631487,\n",
       "  0.9628237591911764,\n",
       "  0.9631929390138408,\n",
       "  0.9633726454368512,\n",
       "  0.9634479211721453,\n",
       "  0.9635970399005191,\n",
       "  0.9638093560769897,\n",
       "  0.9640600589316608,\n",
       "  0.9642226319204152,\n",
       "  0.9642799848615918,\n",
       "  0.964148672685986,\n",
       "  0.9639147815743944,\n",
       "  0.9635963289359861,\n",
       "  0.9633291089965398,\n",
       "  0.9631923469939445,\n",
       "  0.9631035115700692,\n",
       "  0.9632425118944637,\n",
       "  0.963393844615052,\n",
       "  0.9635682417820068,\n",
       "  0.9638495647707612,\n",
       "  0.9639696420847751,\n",
       "  0.9639467993079583,\n",
       "  0.963716776600346,\n",
       "  0.963190105968858,\n",
       "  0.9628459099264706,\n",
       "  0.9624881947448097,\n",
       "  0.9620761407871973,\n",
       "  0.9615196447880624,\n",
       "  0.9610629892949826,\n",
       "  0.9607486348399654,\n",
       "  0.9608431525735294,\n",
       "  0.9611053876513842,\n",
       "  0.961261991782007,\n",
       "  0.961069282547578,\n",
       "  0.9603828476427335,\n",
       "  0.959408977616782,\n",
       "  0.958253152032872,\n",
       "  0.9575785845588236,\n",
       "  0.9573595290873703,\n",
       "  0.957404030601211,\n",
       "  0.9574846507352941,\n",
       "  0.9576083504541523,\n",
       "  0.9578700719074394,\n",
       "  0.9578107780060552,\n",
       "  0.9576893923010381,\n",
       "  0.9578263354238754,\n",
       "  0.9578704611807959,\n",
       "  0.9578998729455017,\n",
       "  0.957862651384083,\n",
       "  0.9576727778979238,\n",
       "  0.9573417955233564,\n",
       "  0.957117392949827,\n",
       "  0.9569354319852942,\n",
       "  0.9567963235294117,\n",
       "  0.9567638381271626,\n",
       "  0.9567488916522491,\n",
       "  0.9568233807309688,\n",
       "  0.9568242701124567,\n",
       "  0.956861059147924,\n",
       "  0.9569246377595155,\n",
       "  0.9568616322448096,\n",
       "  0.9567522599480969,\n",
       "  0.9566181796064015,\n",
       "  0.9563746891219723,\n",
       "  0.9561888894896194,\n",
       "  0.9560476508434257,\n",
       "  0.9559612862240484,\n",
       "  0.9560417847102076,\n",
       "  0.956140143814879,\n",
       "  0.9563420388192041,\n",
       "  0.9566317960640139,\n",
       "  0.9567974264705882,\n",
       "  0.9569687337802768,\n",
       "  0.957028152032872,\n",
       "  0.9570775519031143,\n",
       "  0.957007250216263,\n",
       "  0.956951619269031,\n",
       "  0.9570041035899653,\n",
       "  0.9570917117214534,\n",
       "  0.9572403438581315,\n",
       "  0.9575407817906575,\n",
       "  0.9578510786115917,\n",
       "  0.9580512786548443,\n",
       "  0.9582173280709343,\n",
       "  0.9583438770544984,\n",
       "  0.958402519463668,\n",
       "  0.9584061932309689,\n",
       "  0.9583823421280278,\n",
       "  0.9583091668468858],\n",
       " 'ROC AUC Score': 0.9642799848615918,\n",
       " 'ROC FPR': array([0.00000000e+00, 7.35294118e-05, 5.14705882e-04, ...,\n",
       "        9.99485294e-01, 9.99485294e-01, 1.00000000e+00]),\n",
       " 'ROC TPR': array([0.        , 0.11610294, 0.11610294, ..., 0.99985294, 1.        ,\n",
       "        1.        ]),\n",
       " 'ROC Thresholds': array([2.0000000e+00, 1.0000000e+00, 9.9999988e-01, ..., 3.7344578e-14,\n",
       "        2.0519227e-14, 7.5881505e-16], dtype=float32),\n",
       " 'True Labels': array([1, 1, 1, ..., 0, 0, 0], dtype=int64),\n",
       " 'Predicted Labels': array([ True,  True,  True, ..., False,  True,  True]),\n",
       " 'F1 Score': 0.9330235451235798}"
      ]
     },
     "execution_count": 28,
     "metadata": {},
     "output_type": "execute_result"
    }
   ],
   "source": [
    "performance_scores"
   ]
  },
  {
   "cell_type": "code",
   "execution_count": 29,
   "metadata": {
    "execution": {
     "iopub.execute_input": "2024-08-07T09:57:22.463896Z",
     "iopub.status.busy": "2024-08-07T09:57:22.462896Z",
     "iopub.status.idle": "2024-08-07T09:57:22.473419Z",
     "shell.execute_reply": "2024-08-07T09:57:22.472419Z"
    }
   },
   "outputs": [],
   "source": [
    "with open(f'{pred_output_dir}/{dataset_prefix}_{disease_prefix}_performance_scores_{embedding_method}.pkl', 'wb') as f:\n",
    "    pickle.dump(performance_scores, f)"
   ]
  },
  {
   "attachments": {},
   "cell_type": "markdown",
   "metadata": {},
   "source": [
    "# Hyperparameter Optimization of Node Embedding and GNN Training"
   ]
  },
  {
   "attachments": {},
   "cell_type": "markdown",
   "metadata": {},
   "source": [
    "The routine including node embedding and GNN training that needs to be optimized is contained in `hyperparam_opt.py`."
   ]
  },
  {
   "attachments": {},
   "cell_type": "markdown",
   "metadata": {},
   "source": [
    "# GNN Predictions"
   ]
  },
  {
   "attachments": {},
   "cell_type": "markdown",
   "metadata": {},
   "source": [
    "Load the Edge2Vec embedding"
   ]
  },
  {
   "cell_type": "code",
   "execution_count": 30,
   "metadata": {
    "execution": {
     "iopub.execute_input": "2024-08-07T09:57:22.479982Z",
     "iopub.status.busy": "2024-08-07T09:57:22.479982Z",
     "iopub.status.idle": "2024-08-07T09:57:22.520044Z",
     "shell.execute_reply": "2024-08-07T09:57:22.519043Z"
    }
   },
   "outputs": [
    {
     "data": {
      "text/html": [
       "<div>\n",
       "<style scoped>\n",
       "    .dataframe tbody tr th:only-of-type {\n",
       "        vertical-align: middle;\n",
       "    }\n",
       "\n",
       "    .dataframe tbody tr th {\n",
       "        vertical-align: top;\n",
       "    }\n",
       "\n",
       "    .dataframe thead th {\n",
       "        text-align: right;\n",
       "    }\n",
       "</style>\n",
       "<table border=\"1\" class=\"dataframe\">\n",
       "  <thead>\n",
       "    <tr style=\"text-align: right;\">\n",
       "      <th></th>\n",
       "      <th>Node</th>\n",
       "      <th>Embedding</th>\n",
       "    </tr>\n",
       "  </thead>\n",
       "  <tbody>\n",
       "    <tr>\n",
       "      <th>0</th>\n",
       "      <td>0</td>\n",
       "      <td>[-0.058269434, 0.014183376, 1.2083212e-05, -0....</td>\n",
       "    </tr>\n",
       "    <tr>\n",
       "      <th>1</th>\n",
       "      <td>1</td>\n",
       "      <td>[-0.12131524, 0.08582904, 0.08592999, -0.12857...</td>\n",
       "    </tr>\n",
       "    <tr>\n",
       "      <th>2</th>\n",
       "      <td>2</td>\n",
       "      <td>[-0.078891054, 0.06885156, 0.05804187, -0.0688...</td>\n",
       "    </tr>\n",
       "    <tr>\n",
       "      <th>3</th>\n",
       "      <td>3</td>\n",
       "      <td>[-0.10666232, 0.07140139, 0.08746274, -0.11454...</td>\n",
       "    </tr>\n",
       "    <tr>\n",
       "      <th>4</th>\n",
       "      <td>4</td>\n",
       "      <td>[-0.085767895, 0.024970269, 0.08932996, -0.057...</td>\n",
       "    </tr>\n",
       "    <tr>\n",
       "      <th>...</th>\n",
       "      <td>...</td>\n",
       "      <td>...</td>\n",
       "    </tr>\n",
       "    <tr>\n",
       "      <th>14877</th>\n",
       "      <td>14877</td>\n",
       "      <td>[-0.12024251, 0.115060784, 0.084497035, -0.118...</td>\n",
       "    </tr>\n",
       "    <tr>\n",
       "      <th>14878</th>\n",
       "      <td>14878</td>\n",
       "      <td>[-0.10697104, 0.094787516, 0.06884946, -0.1416...</td>\n",
       "    </tr>\n",
       "    <tr>\n",
       "      <th>14879</th>\n",
       "      <td>14879</td>\n",
       "      <td>[-0.11737815, 0.07667069, 0.07174187, -0.10063...</td>\n",
       "    </tr>\n",
       "    <tr>\n",
       "      <th>14880</th>\n",
       "      <td>14880</td>\n",
       "      <td>[-0.11237405, 0.014095693, 0.09444593, -0.2295...</td>\n",
       "    </tr>\n",
       "    <tr>\n",
       "      <th>14881</th>\n",
       "      <td>14881</td>\n",
       "      <td>[-0.16007091, 0.20826142, -0.048187826, -0.223...</td>\n",
       "    </tr>\n",
       "  </tbody>\n",
       "</table>\n",
       "<p>14882 rows × 2 columns</p>\n",
       "</div>"
      ],
      "text/plain": [
       "        Node                                          Embedding\n",
       "0          0  [-0.058269434, 0.014183376, 1.2083212e-05, -0....\n",
       "1          1  [-0.12131524, 0.08582904, 0.08592999, -0.12857...\n",
       "2          2  [-0.078891054, 0.06885156, 0.05804187, -0.0688...\n",
       "3          3  [-0.10666232, 0.07140139, 0.08746274, -0.11454...\n",
       "4          4  [-0.085767895, 0.024970269, 0.08932996, -0.057...\n",
       "...      ...                                                ...\n",
       "14877  14877  [-0.12024251, 0.115060784, 0.084497035, -0.118...\n",
       "14878  14878  [-0.10697104, 0.094787516, 0.06884946, -0.1416...\n",
       "14879  14879  [-0.11737815, 0.07667069, 0.07174187, -0.10063...\n",
       "14880  14880  [-0.11237405, 0.014095693, 0.09444593, -0.2295...\n",
       "14881  14881  [-0.16007091, 0.20826142, -0.048187826, -0.223...\n",
       "\n",
       "[14882 rows x 2 columns]"
      ]
     },
     "execution_count": 30,
     "metadata": {},
     "output_type": "execute_result"
    }
   ],
   "source": [
    "embedding"
   ]
  },
  {
   "attachments": {},
   "cell_type": "markdown",
   "metadata": {},
   "source": [
    "Initialize a graph with nodes and their embedding features."
   ]
  },
  {
   "cell_type": "code",
   "execution_count": 31,
   "metadata": {
    "execution": {
     "iopub.execute_input": "2024-08-07T09:57:22.526573Z",
     "iopub.status.busy": "2024-08-07T09:57:22.525572Z",
     "iopub.status.idle": "2024-08-07T09:57:22.551641Z",
     "shell.execute_reply": "2024-08-07T09:57:22.549649Z"
    }
   },
   "outputs": [
    {
     "name": "stdout",
     "output_type": "stream",
     "text": [
      "(0, {'node_feature': tensor([-5.8269e-02,  1.4183e-02,  1.2083e-05, -2.2304e-01, -3.9862e-02,\n",
      "        -3.3126e-02,  3.7162e-02, -8.1139e-02,  5.1235e-02, -1.1945e-01,\n",
      "        -3.5881e-01,  1.3948e-01, -2.2644e-01,  1.3902e-02,  5.5379e-02,\n",
      "        -5.8606e-02, -7.1530e-02,  3.0371e-01,  1.1037e-02,  7.7348e-02,\n",
      "        -1.0673e-01, -2.0792e-02,  5.3197e-02, -2.0558e-01, -3.5895e-02,\n",
      "        -1.9295e-01,  1.3220e-01, -8.8172e-02,  1.1726e-01, -4.2762e-02,\n",
      "        -2.5583e-01,  8.4298e-02, -1.4668e-01, -7.5209e-02, -5.1197e-02,\n",
      "        -2.1389e-02, -2.6256e-02, -6.4257e-04,  1.1496e-01, -1.2730e-01,\n",
      "         1.4372e-01,  5.5362e-02, -1.5789e-01, -1.3221e-01,  2.8352e-01,\n",
      "        -5.6998e-02, -1.9726e-01,  1.0538e-01, -1.4199e-01, -9.0209e-02,\n",
      "         3.8874e-02, -1.5574e-02, -1.6230e-01,  1.5988e-01, -1.5472e-02,\n",
      "         4.8139e-02,  1.3163e-01,  1.8343e-02, -6.1870e-02, -9.9100e-02,\n",
      "         1.5358e-01, -1.7626e-02,  1.4429e-01,  9.5676e-02, -3.5467e-02,\n",
      "         6.7254e-02, -1.3797e-03, -3.6841e-02, -7.4630e-02, -1.0317e-01,\n",
      "         1.5062e-01, -1.3213e-01,  5.7279e-02,  1.4581e-01, -4.5993e-02,\n",
      "        -7.7790e-02,  9.6927e-02,  1.1105e-01, -4.7390e-02,  1.8014e-02,\n",
      "         9.7522e-02,  1.1178e-01,  5.6866e-02, -1.8012e-02,  2.3333e-01,\n",
      "         1.7271e-01, -7.8582e-03, -6.4464e-02,  1.0948e-01, -2.3678e-03,\n",
      "         4.2673e-02,  2.2731e-01,  7.0634e-02,  9.8010e-02,  1.6844e-01,\n",
      "        -8.8690e-02, -9.4807e-02, -8.3893e-02, -8.4746e-02, -7.6776e-02,\n",
      "        -1.4425e-01,  2.9738e-02, -1.4061e-02, -1.2071e-02,  1.9486e-01,\n",
      "        -3.5890e-03,  1.2450e-01, -2.0581e-01,  9.7757e-02,  1.1343e-01,\n",
      "        -1.8203e-01,  1.4425e-01, -5.5236e-02, -1.3986e-01,  8.8312e-02,\n",
      "        -3.8845e-02,  1.0540e-01, -1.6710e-01, -1.3130e-01, -1.6502e-01,\n",
      "        -2.2400e-01,  2.2182e-02, -4.6679e-02, -1.3118e-01, -3.7184e-02,\n",
      "        -1.6212e-02,  1.6046e-01, -1.9616e-01])})\n",
      "(0, 1496, {})\n",
      "Number of edges is 135988\n",
      "Number of nodes is 14882\n"
     ]
    }
   ],
   "source": [
    "for node in embedded_node_G.nodes(data=True):\n",
    "    print(node)\n",
    "    break\n",
    "for edge in embedded_node_G.edges(data=True):\n",
    "    print(edge)\n",
    "    break\n",
    "\n",
    "print(\"Number of edges is {}\".format(embedded_node_G.number_of_edges()))\n",
    "print(\"Number of nodes is {}\".format(embedded_node_G.number_of_nodes()))"
   ]
  },
  {
   "cell_type": "code",
   "execution_count": 32,
   "metadata": {
    "execution": {
     "iopub.execute_input": "2024-08-07T09:57:22.557701Z",
     "iopub.status.busy": "2024-08-07T09:57:22.557701Z",
     "iopub.status.idle": "2024-08-07T09:57:22.801062Z",
     "shell.execute_reply": "2024-08-07T09:57:22.800145Z"
    }
   },
   "outputs": [
    {
     "name": "stdout",
     "output_type": "stream",
     "text": [
      "torch.Size([2, 271976])\n"
     ]
    }
   ],
   "source": [
    "DeepG = Graph(embedded_node_G)\n",
    "print(DeepG.edge_index.shape)"
   ]
  },
  {
   "attachments": {},
   "cell_type": "markdown",
   "metadata": {},
   "source": [
    "Load arguments and parameters of trained GNN model."
   ]
  },
  {
   "cell_type": "code",
   "execution_count": 33,
   "metadata": {
    "execution": {
     "iopub.execute_input": "2024-08-07T09:57:22.805070Z",
     "iopub.status.busy": "2024-08-07T09:57:22.805070Z",
     "iopub.status.idle": "2024-08-07T09:57:22.848147Z",
     "shell.execute_reply": "2024-08-07T09:57:22.847145Z"
    }
   },
   "outputs": [
    {
     "data": {
      "text/plain": [
       "<All keys matched successfully>"
      ]
     },
     "execution_count": 33,
     "metadata": {},
     "output_type": "execute_result"
    }
   ],
   "source": [
    "with open(f'{run_dir}/{dataset_prefix}_{disease_prefix}_best_model_{embedding_method}_args.pkl', 'rb') as f:\n",
    "    loaded_args = pickle.load(f)\n",
    "    \n",
    "best_model = LinkPredModel(len(embedding['Embedding'][0]), loaded_args['hidden_dim'], loaded_args['output_dim'], loaded_args['layers'], loaded_args['aggr'], loaded_args['dropout'], loaded_args['device']).to(loaded_args['device'])\n",
    "best_model.load_state_dict(torch.load(f'{run_dir}/{dataset_prefix}_{disease_prefix}_best_model_{embedding_method}.pth'))"
   ]
  },
  {
   "attachments": {},
   "cell_type": "markdown",
   "metadata": {},
   "source": [
    "Get output of best model given the graph"
   ]
  },
  {
   "cell_type": "code",
   "execution_count": 34,
   "metadata": {
    "execution": {
     "iopub.execute_input": "2024-08-07T09:57:22.852147Z",
     "iopub.status.busy": "2024-08-07T09:57:22.852147Z",
     "iopub.status.idle": "2024-08-07T09:57:23.926591Z",
     "shell.execute_reply": "2024-08-07T09:57:23.925585Z"
    }
   },
   "outputs": [
    {
     "name": "stdout",
     "output_type": "stream",
     "text": [
      "torch.Size([14882, 64])\n"
     ]
    }
   ],
   "source": [
    "_, best_x = best_model(DeepG.node_feature, DeepG.edge_index, DeepG.edge_label_index, training = False)\n",
    "print(best_x.shape)"
   ]
  },
  {
   "cell_type": "code",
   "execution_count": 35,
   "metadata": {
    "execution": {
     "iopub.execute_input": "2024-08-07T09:57:23.931589Z",
     "iopub.status.busy": "2024-08-07T09:57:23.930590Z",
     "iopub.status.idle": "2024-08-07T09:57:23.956587Z",
     "shell.execute_reply": "2024-08-07T09:57:23.955587Z"
    }
   },
   "outputs": [
    {
     "data": {
      "text/html": [
       "<div>\n",
       "<style scoped>\n",
       "    .dataframe tbody tr th:only-of-type {\n",
       "        vertical-align: middle;\n",
       "    }\n",
       "\n",
       "    .dataframe tbody tr th {\n",
       "        vertical-align: top;\n",
       "    }\n",
       "\n",
       "    .dataframe thead th {\n",
       "        text-align: right;\n",
       "    }\n",
       "</style>\n",
       "<table border=\"1\" class=\"dataframe\">\n",
       "  <thead>\n",
       "    <tr style=\"text-align: right;\">\n",
       "      <th></th>\n",
       "      <th>id</th>\n",
       "      <th>semantic</th>\n",
       "      <th>label</th>\n",
       "      <th>semantic_id</th>\n",
       "    </tr>\n",
       "  </thead>\n",
       "  <tbody>\n",
       "    <tr>\n",
       "      <th>0</th>\n",
       "      <td>ENSEMBL:ENSSSCG00000033987</td>\n",
       "      <td>gene</td>\n",
       "      <td>UBE2E3</td>\n",
       "      <td>4</td>\n",
       "    </tr>\n",
       "    <tr>\n",
       "      <th>1</th>\n",
       "      <td>MP:0000790</td>\n",
       "      <td>phenotype</td>\n",
       "      <td>abnormal stratification in cerebral cortex</td>\n",
       "      <td>8</td>\n",
       "    </tr>\n",
       "    <tr>\n",
       "      <th>2</th>\n",
       "      <td>ZP:0011626</td>\n",
       "      <td>phenotype</td>\n",
       "      <td>cell trunk apoptotic, abnormal</td>\n",
       "      <td>8</td>\n",
       "    </tr>\n",
       "    <tr>\n",
       "      <th>3</th>\n",
       "      <td>ZP:0019272</td>\n",
       "      <td>phenotype</td>\n",
       "      <td>pronephric nephron tubule epithelial cell diff...</td>\n",
       "      <td>8</td>\n",
       "    </tr>\n",
       "    <tr>\n",
       "      <th>4</th>\n",
       "      <td>ENSEMBL:ENSACAG00000007327</td>\n",
       "      <td>gene</td>\n",
       "      <td>ENSEMBL:ENSACAG00000007327</td>\n",
       "      <td>4</td>\n",
       "    </tr>\n",
       "    <tr>\n",
       "      <th>...</th>\n",
       "      <td>...</td>\n",
       "      <td>...</td>\n",
       "      <td>...</td>\n",
       "      <td>...</td>\n",
       "    </tr>\n",
       "    <tr>\n",
       "      <th>14877</th>\n",
       "      <td>MP:0008584</td>\n",
       "      <td>phenotype</td>\n",
       "      <td>photoreceptor outer segment degeneration</td>\n",
       "      <td>8</td>\n",
       "    </tr>\n",
       "    <tr>\n",
       "      <th>14878</th>\n",
       "      <td>ENSEMBL:ENSFCAG00000011716</td>\n",
       "      <td>gene</td>\n",
       "      <td>ENSEMBL:ENSFCAG00000011716</td>\n",
       "      <td>4</td>\n",
       "    </tr>\n",
       "    <tr>\n",
       "      <th>14879</th>\n",
       "      <td>MP:0009412</td>\n",
       "      <td>phenotype</td>\n",
       "      <td>skeletal muscle fiber degeneration</td>\n",
       "      <td>8</td>\n",
       "    </tr>\n",
       "    <tr>\n",
       "      <th>14880</th>\n",
       "      <td>ZP:0002448</td>\n",
       "      <td>phenotype</td>\n",
       "      <td>retinal outer nuclear layer disorganized, abno...</td>\n",
       "      <td>8</td>\n",
       "    </tr>\n",
       "    <tr>\n",
       "      <th>14881</th>\n",
       "      <td>ENSEMBL:ENSCAFG00000012067</td>\n",
       "      <td>gene</td>\n",
       "      <td>ENSEMBL:ENSCAFG00000012067</td>\n",
       "      <td>4</td>\n",
       "    </tr>\n",
       "  </tbody>\n",
       "</table>\n",
       "<p>14882 rows × 4 columns</p>\n",
       "</div>"
      ],
      "text/plain": [
       "                               id   semantic  \\\n",
       "0      ENSEMBL:ENSSSCG00000033987       gene   \n",
       "1                      MP:0000790  phenotype   \n",
       "2                      ZP:0011626  phenotype   \n",
       "3                      ZP:0019272  phenotype   \n",
       "4      ENSEMBL:ENSACAG00000007327       gene   \n",
       "...                           ...        ...   \n",
       "14877                  MP:0008584  phenotype   \n",
       "14878  ENSEMBL:ENSFCAG00000011716       gene   \n",
       "14879                  MP:0009412  phenotype   \n",
       "14880                  ZP:0002448  phenotype   \n",
       "14881  ENSEMBL:ENSCAFG00000012067       gene   \n",
       "\n",
       "                                                   label  semantic_id  \n",
       "0                                                 UBE2E3            4  \n",
       "1             abnormal stratification in cerebral cortex            8  \n",
       "2                         cell trunk apoptotic, abnormal            8  \n",
       "3      pronephric nephron tubule epithelial cell diff...            8  \n",
       "4                             ENSEMBL:ENSACAG00000007327            4  \n",
       "...                                                  ...          ...  \n",
       "14877           photoreceptor outer segment degeneration            8  \n",
       "14878                         ENSEMBL:ENSFCAG00000011716            4  \n",
       "14879                 skeletal muscle fiber degeneration            8  \n",
       "14880  retinal outer nuclear layer disorganized, abno...            8  \n",
       "14881                         ENSEMBL:ENSCAFG00000012067            4  \n",
       "\n",
       "[14882 rows x 4 columns]"
      ]
     },
     "execution_count": 35,
     "metadata": {},
     "output_type": "execute_result"
    }
   ],
   "source": [
    "nodes"
   ]
  },
  {
   "attachments": {},
   "cell_type": "markdown",
   "metadata": {},
   "source": [
    "Define the score function"
   ]
  },
  {
   "cell_type": "code",
   "execution_count": 36,
   "metadata": {
    "execution": {
     "iopub.execute_input": "2024-08-07T09:57:23.961585Z",
     "iopub.status.busy": "2024-08-07T09:57:23.960585Z",
     "iopub.status.idle": "2024-08-07T09:57:23.972589Z",
     "shell.execute_reply": "2024-08-07T09:57:23.971585Z"
    }
   },
   "outputs": [],
   "source": [
    "def score(x, id1, id2): \n",
    "    n1 = x[id1]\n",
    "    n2 = x[id2]\n",
    "    \n",
    "    score = torch.Tensor([torch.sum(n1 * n2, dim=-1)])\n",
    "    p = torch.sigmoid(score).cpu().detach().numpy()\n",
    "    return p\n",
    "\n",
    "def candidates(nodes, id, x): \n",
    "  ind = nodes[nodes['id'] == id].index.values.astype(int)[0]\n",
    "  predictions = nodes.copy()\n",
    "  scores = []\n",
    "  for i in range(len(x)):  \n",
    "    s = score(x, i, ind)\n",
    "    scores.append(s)\n",
    "    \n",
    "  predictions['Score'] = scores\n",
    "  return predictions"
   ]
  },
  {
   "attachments": {},
   "cell_type": "markdown",
   "metadata": {},
   "source": [
    "Calculate the predictions of an edge existing or not between given node ID and each node in the graph contained by semantic group DRUG. Show the top 20 highest probability that an edge exists between a pair of nodes."
   ]
  },
  {
   "cell_type": "code",
   "execution_count": 37,
   "metadata": {
    "execution": {
     "iopub.execute_input": "2024-08-07T09:57:23.977585Z",
     "iopub.status.busy": "2024-08-07T09:57:23.976585Z",
     "iopub.status.idle": "2024-08-07T09:57:24.463898Z",
     "shell.execute_reply": "2024-08-07T09:57:24.461872Z"
    }
   },
   "outputs": [
    {
     "data": {
      "text/html": [
       "<div>\n",
       "<style scoped>\n",
       "    .dataframe tbody tr th:only-of-type {\n",
       "        vertical-align: middle;\n",
       "    }\n",
       "\n",
       "    .dataframe tbody tr th {\n",
       "        vertical-align: top;\n",
       "    }\n",
       "\n",
       "    .dataframe thead th {\n",
       "        text-align: right;\n",
       "    }\n",
       "</style>\n",
       "<table border=\"1\" class=\"dataframe\">\n",
       "  <thead>\n",
       "    <tr style=\"text-align: right;\">\n",
       "      <th></th>\n",
       "      <th>id</th>\n",
       "      <th>semantic</th>\n",
       "      <th>label</th>\n",
       "      <th>semantic_id</th>\n",
       "      <th>Score</th>\n",
       "    </tr>\n",
       "  </thead>\n",
       "  <tbody>\n",
       "    <tr>\n",
       "      <th>14873</th>\n",
       "      <td>91</td>\n",
       "      <td>drug</td>\n",
       "      <td>adenosine triphosphate</td>\n",
       "      <td>3</td>\n",
       "      <td>[0.97481143]</td>\n",
       "    </tr>\n",
       "    <tr>\n",
       "      <th>6316</th>\n",
       "      <td>2054</td>\n",
       "      <td>drug</td>\n",
       "      <td>pantoprazole</td>\n",
       "      <td>3</td>\n",
       "      <td>[0.92999107]</td>\n",
       "    </tr>\n",
       "    <tr>\n",
       "      <th>6757</th>\n",
       "      <td>1990</td>\n",
       "      <td>drug</td>\n",
       "      <td>omeprazole</td>\n",
       "      <td>3</td>\n",
       "      <td>[0.92973053]</td>\n",
       "    </tr>\n",
       "    <tr>\n",
       "      <th>13124</th>\n",
       "      <td>2286</td>\n",
       "      <td>drug</td>\n",
       "      <td>promethazine</td>\n",
       "      <td>3</td>\n",
       "      <td>[0.9179898]</td>\n",
       "    </tr>\n",
       "    <tr>\n",
       "      <th>10892</th>\n",
       "      <td>1996</td>\n",
       "      <td>drug</td>\n",
       "      <td>orlistat</td>\n",
       "      <td>3</td>\n",
       "      <td>[0.9013416]</td>\n",
       "    </tr>\n",
       "    <tr>\n",
       "      <th>9303</th>\n",
       "      <td>1364</td>\n",
       "      <td>drug</td>\n",
       "      <td>hexachlorophene</td>\n",
       "      <td>3</td>\n",
       "      <td>[0.89919335]</td>\n",
       "    </tr>\n",
       "    <tr>\n",
       "      <th>12146</th>\n",
       "      <td>434</td>\n",
       "      <td>drug</td>\n",
       "      <td>buprenorphine</td>\n",
       "      <td>3</td>\n",
       "      <td>[0.8870639]</td>\n",
       "    </tr>\n",
       "    <tr>\n",
       "      <th>12144</th>\n",
       "      <td>2817</td>\n",
       "      <td>drug</td>\n",
       "      <td>vesnarinone</td>\n",
       "      <td>3</td>\n",
       "      <td>[0.88578033]</td>\n",
       "    </tr>\n",
       "    <tr>\n",
       "      <th>6730</th>\n",
       "      <td>1599</td>\n",
       "      <td>drug</td>\n",
       "      <td>loperamide</td>\n",
       "      <td>3</td>\n",
       "      <td>[0.86147887]</td>\n",
       "    </tr>\n",
       "    <tr>\n",
       "      <th>7127</th>\n",
       "      <td>918</td>\n",
       "      <td>drug</td>\n",
       "      <td>diphenoxylate</td>\n",
       "      <td>3</td>\n",
       "      <td>[0.8579698]</td>\n",
       "    </tr>\n",
       "    <tr>\n",
       "      <th>4613</th>\n",
       "      <td>3514</td>\n",
       "      <td>drug</td>\n",
       "      <td>quercetin</td>\n",
       "      <td>3</td>\n",
       "      <td>[0.852875]</td>\n",
       "    </tr>\n",
       "    <tr>\n",
       "      <th>11683</th>\n",
       "      <td>1574</td>\n",
       "      <td>drug</td>\n",
       "      <td>levorphanol</td>\n",
       "      <td>3</td>\n",
       "      <td>[0.8402254]</td>\n",
       "    </tr>\n",
       "    <tr>\n",
       "      <th>5003</th>\n",
       "      <td>4903</td>\n",
       "      <td>drug</td>\n",
       "      <td>nintedanib</td>\n",
       "      <td>3</td>\n",
       "      <td>[0.8361495]</td>\n",
       "    </tr>\n",
       "    <tr>\n",
       "      <th>965</th>\n",
       "      <td>5347</td>\n",
       "      <td>drug</td>\n",
       "      <td>fedratinib</td>\n",
       "      <td>3</td>\n",
       "      <td>[0.83530134]</td>\n",
       "    </tr>\n",
       "    <tr>\n",
       "      <th>11732</th>\n",
       "      <td>5231</td>\n",
       "      <td>drug</td>\n",
       "      <td>midostaurin</td>\n",
       "      <td>3</td>\n",
       "      <td>[0.83125204]</td>\n",
       "    </tr>\n",
       "    <tr>\n",
       "      <th>8505</th>\n",
       "      <td>2544</td>\n",
       "      <td>drug</td>\n",
       "      <td>sunitinib</td>\n",
       "      <td>3</td>\n",
       "      <td>[0.81639224]</td>\n",
       "    </tr>\n",
       "    <tr>\n",
       "      <th>7053</th>\n",
       "      <td>722</td>\n",
       "      <td>drug</td>\n",
       "      <td>clozapine</td>\n",
       "      <td>3</td>\n",
       "      <td>[0.81605786]</td>\n",
       "    </tr>\n",
       "    <tr>\n",
       "      <th>12587</th>\n",
       "      <td>4190</td>\n",
       "      <td>drug</td>\n",
       "      <td>ruxolitinib</td>\n",
       "      <td>3</td>\n",
       "      <td>[0.8110248]</td>\n",
       "    </tr>\n",
       "    <tr>\n",
       "      <th>1279</th>\n",
       "      <td>2370</td>\n",
       "      <td>drug</td>\n",
       "      <td>reserpine</td>\n",
       "      <td>3</td>\n",
       "      <td>[0.8001979]</td>\n",
       "    </tr>\n",
       "    <tr>\n",
       "      <th>10661</th>\n",
       "      <td>4867</td>\n",
       "      <td>drug</td>\n",
       "      <td>dexrabeprazole</td>\n",
       "      <td>3</td>\n",
       "      <td>[0.7973059]</td>\n",
       "    </tr>\n",
       "  </tbody>\n",
       "</table>\n",
       "</div>"
      ],
      "text/plain": [
       "         id semantic                   label  semantic_id         Score\n",
       "14873    91     drug  adenosine triphosphate            3  [0.97481143]\n",
       "6316   2054     drug            pantoprazole            3  [0.92999107]\n",
       "6757   1990     drug              omeprazole            3  [0.92973053]\n",
       "13124  2286     drug            promethazine            3   [0.9179898]\n",
       "10892  1996     drug                orlistat            3   [0.9013416]\n",
       "9303   1364     drug         hexachlorophene            3  [0.89919335]\n",
       "12146   434     drug           buprenorphine            3   [0.8870639]\n",
       "12144  2817     drug             vesnarinone            3  [0.88578033]\n",
       "6730   1599     drug              loperamide            3  [0.86147887]\n",
       "7127    918     drug           diphenoxylate            3   [0.8579698]\n",
       "4613   3514     drug               quercetin            3    [0.852875]\n",
       "11683  1574     drug             levorphanol            3   [0.8402254]\n",
       "5003   4903     drug              nintedanib            3   [0.8361495]\n",
       "965    5347     drug              fedratinib            3  [0.83530134]\n",
       "11732  5231     drug             midostaurin            3  [0.83125204]\n",
       "8505   2544     drug               sunitinib            3  [0.81639224]\n",
       "7053    722     drug               clozapine            3  [0.81605786]\n",
       "12587  4190     drug             ruxolitinib            3   [0.8110248]\n",
       "1279   2370     drug               reserpine            3   [0.8001979]\n",
       "10661  4867     drug          dexrabeprazole            3   [0.7973059]"
      ]
     },
     "execution_count": 37,
     "metadata": {},
     "output_type": "execute_result"
    }
   ],
   "source": [
    "if dataset_prefix == 'prev':\n",
    "    drug_semantic = 'DRUG'\n",
    "else:\n",
    "    drug_semantic = 'drug'\n",
    "\n",
    "predictions = candidates(nodes, 'HP:0001265', best_x)\n",
    "\n",
    "predictions[predictions['semantic'] == drug_semantic].sort_values(by = ['Score'], ascending = False).head(20)"
   ]
  },
  {
   "attachments": {},
   "cell_type": "markdown",
   "metadata": {},
   "source": [
    "Use the node semantics dictionary"
   ]
  },
  {
   "cell_type": "code",
   "execution_count": 38,
   "metadata": {
    "execution": {
     "iopub.execute_input": "2024-08-07T09:57:24.467910Z",
     "iopub.status.busy": "2024-08-07T09:57:24.467910Z",
     "iopub.status.idle": "2024-08-07T09:57:24.493005Z",
     "shell.execute_reply": "2024-08-07T09:57:24.491986Z"
    }
   },
   "outputs": [
    {
     "data": {
      "text/plain": [
       "{4: 'gene',\n",
       " 8: 'phenotype',\n",
       " 3: 'drug',\n",
       " 7: 'molecular function',\n",
       " 0: 'biological artifact',\n",
       " 9: 'taxon',\n",
       " 10: 'variant',\n",
       " 6: 'genotype',\n",
       " 5: 'gene product',\n",
       " 1: 'biological process',\n",
       " 2: 'disease'}"
      ]
     },
     "execution_count": 38,
     "metadata": {},
     "output_type": "execute_result"
    }
   ],
   "source": [
    "node_semantics = nodes[['semantic', 'semantic_id']].drop_duplicates().set_index('semantic_id').to_dict()\n",
    "node_semantics_dict = node_semantics['semantic']\n",
    "\n",
    "node_semantics_dict"
   ]
  },
  {
   "attachments": {},
   "cell_type": "markdown",
   "metadata": {},
   "source": [
    "Get all phenotypes and diseases relevant to the disease."
   ]
  },
  {
   "cell_type": "code",
   "execution_count": 39,
   "metadata": {
    "execution": {
     "iopub.execute_input": "2024-08-07T09:57:24.495977Z",
     "iopub.status.busy": "2024-08-07T09:57:24.495977Z",
     "iopub.status.idle": "2024-08-07T09:57:24.524512Z",
     "shell.execute_reply": "2024-08-07T09:57:24.523527Z"
    }
   },
   "outputs": [
    {
     "name": "stdout",
     "output_type": "stream",
     "text": [
      "A total of 58 symptoms found that are associated with MONDO:0007739\n",
      "                 head          label_head  class_head  index_head  \\\n",
      "6609    MONDO:0007739  Huntington disease           2        3838   \n",
      "20507   MONDO:0007739  Huntington disease           2        3838   \n",
      "22156   MONDO:0007739  Huntington disease           2        3838   \n",
      "24447   MONDO:0007739  Huntington disease           2        3838   \n",
      "30115   MONDO:0007739  Huntington disease           2        3838   \n",
      "31240   MONDO:0007739  Huntington disease           2        3838   \n",
      "32293   MONDO:0007739  Huntington disease           2        3838   \n",
      "34252   MONDO:0007739  Huntington disease           2        3838   \n",
      "38040   MONDO:0007739  Huntington disease           2        3838   \n",
      "48006   MONDO:0007739  Huntington disease           2        3838   \n",
      "61452   MONDO:0007739  Huntington disease           2        3838   \n",
      "62199   MONDO:0007739  Huntington disease           2        3838   \n",
      "71011   MONDO:0007739  Huntington disease           2        3838   \n",
      "73388   MONDO:0007739  Huntington disease           2        3838   \n",
      "76111   MONDO:0007739  Huntington disease           2        3838   \n",
      "79890   MONDO:0007739  Huntington disease           2        3838   \n",
      "79977   MONDO:0007739  Huntington disease           2        3838   \n",
      "82600   MONDO:0007739  Huntington disease           2        3838   \n",
      "84973   MONDO:0007739  Huntington disease           2        3838   \n",
      "89761   MONDO:0007739  Huntington disease           2        3838   \n",
      "96436   MONDO:0007739  Huntington disease           2        3838   \n",
      "97712   MONDO:0007739  Huntington disease           2        3838   \n",
      "98108   MONDO:0007739  Huntington disease           2        3838   \n",
      "103541  MONDO:0007739  Huntington disease           2        3838   \n",
      "103612  MONDO:0007739  Huntington disease           2        3838   \n",
      "106700  MONDO:0007739  Huntington disease           2        3838   \n",
      "107180  MONDO:0007739  Huntington disease           2        3838   \n",
      "107525  MONDO:0007739  Huntington disease           2        3838   \n",
      "109228  MONDO:0007739  Huntington disease           2        3838   \n",
      "122623  MONDO:0007739  Huntington disease           2        3838   \n",
      "127221  MONDO:0007739  Huntington disease           2        3838   \n",
      "133107  MONDO:0007739  Huntington disease           2        3838   \n",
      "137065  MONDO:0007739  Huntington disease           2        3838   \n",
      "138306  MONDO:0007739  Huntington disease           2        3838   \n",
      "139860  MONDO:0007739  Huntington disease           2        3838   \n",
      "141568  MONDO:0007739  Huntington disease           2        3838   \n",
      "148802  MONDO:0007739  Huntington disease           2        3838   \n",
      "150294  MONDO:0007739  Huntington disease           2        3838   \n",
      "151292  MONDO:0007739  Huntington disease           2        3838   \n",
      "157668  MONDO:0007739  Huntington disease           2        3838   \n",
      "159416  MONDO:0007739  Huntington disease           2        3838   \n",
      "161929  MONDO:0007739  Huntington disease           2        3838   \n",
      "162537  MONDO:0007739  Huntington disease           2        3838   \n",
      "174603  MONDO:0007739  Huntington disease           2        3838   \n",
      "183513  MONDO:0007739  Huntington disease           2        3838   \n",
      "185523  MONDO:0007739  Huntington disease           2        3838   \n",
      "186042  MONDO:0007739  Huntington disease           2        3838   \n",
      "190975  MONDO:0007739  Huntington disease           2        3838   \n",
      "195579  MONDO:0007739  Huntington disease           2        3838   \n",
      "199490  MONDO:0007739  Huntington disease           2        3838   \n",
      "200053  MONDO:0007739  Huntington disease           2        3838   \n",
      "203496  MONDO:0007739  Huntington disease           2        3838   \n",
      "205092  MONDO:0007739  Huntington disease           2        3838   \n",
      "206137  MONDO:0007739  Huntington disease           2        3838   \n",
      "207779  MONDO:0007739  Huntington disease           2        3838   \n",
      "220384  MONDO:0007739  Huntington disease           2        3838   \n",
      "222678  MONDO:0007739  Huntington disease           2        3838   \n",
      "225797  MONDO:0007739  Huntington disease           2        3838   \n",
      "\n",
      "                         relation        tail  \\\n",
      "6609    associated with phenotype  HP:0200136   \n",
      "20507   associated with phenotype  HP:0001288   \n",
      "22156   associated with phenotype  HP:0003107   \n",
      "24447   associated with phenotype  HP:0000713   \n",
      "30115   associated with phenotype  HP:0000751   \n",
      "31240   associated with phenotype  HP:0000716   \n",
      "32293   associated with phenotype  HP:0009088   \n",
      "34252   associated with phenotype  HP:0000739   \n",
      "38040   associated with phenotype  HP:0002063   \n",
      "48006   associated with phenotype  HP:0000734   \n",
      "61452   associated with phenotype  HP:0002529   \n",
      "62199   associated with phenotype  HP:0002066   \n",
      "71011   associated with phenotype  HP:0002171   \n",
      "73388   associated with phenotype  HP:0002059   \n",
      "76111   associated with phenotype  HP:0000718   \n",
      "79890   associated with phenotype  HP:0000737   \n",
      "79977   associated with phenotype  HP:0003487   \n",
      "82600   associated with phenotype  HP:0031589   \n",
      "84973   associated with phenotype  HP:0001268   \n",
      "89761   associated with phenotype  HP:0001250   \n",
      "96436   associated with phenotype  HP:0010794   \n",
      "97712   associated with phenotype  HP:0002340   \n",
      "98108   associated with phenotype  HP:0004305   \n",
      "103541  associated with phenotype  HP:0001262   \n",
      "103612  associated with phenotype  HP:0002141   \n",
      "106700  associated with phenotype  HP:0000746   \n",
      "107180  associated with phenotype  HP:0004408   \n",
      "107525  associated with phenotype  HP:0045082   \n",
      "109228  associated with phenotype  HP:0007010   \n",
      "122623  associated with phenotype  HP:0040140   \n",
      "127221  associated with phenotype  HP:0001336   \n",
      "133107  associated with phenotype  HP:0000722   \n",
      "137065  associated with phenotype  HP:0030842   \n",
      "138306  associated with phenotype  HP:0003324   \n",
      "139860  associated with phenotype  HP:0002355   \n",
      "141568  associated with phenotype  HP:0002067   \n",
      "148802  associated with phenotype  HP:0031843   \n",
      "150294  associated with phenotype  HP:0000496   \n",
      "151292  associated with phenotype  HP:0002500   \n",
      "157668  associated with phenotype  HP:0031473   \n",
      "159416  associated with phenotype  HP:0001332   \n",
      "161929  associated with phenotype  HP:0002169   \n",
      "162537  associated with phenotype  HP:0001272   \n",
      "174603  associated with phenotype  HP:0031845   \n",
      "183513  associated with phenotype  HP:0002354   \n",
      "185523  associated with phenotype  HP:0000726   \n",
      "186042  associated with phenotype  HP:0000738   \n",
      "190975  associated with phenotype  HP:0001347   \n",
      "195579  associated with phenotype  HP:0000741   \n",
      "199490  associated with phenotype  HP:0002072   \n",
      "200053  associated with phenotype  HP:0002540   \n",
      "203496  associated with phenotype  HP:0001824   \n",
      "205092  associated with phenotype  HP:0025401   \n",
      "206137  associated with phenotype  HP:0100785   \n",
      "207779  associated with phenotype  HP:0002300   \n",
      "220384  associated with phenotype  HP:0002591   \n",
      "222678  associated with phenotype  HP:0030955   \n",
      "225797  associated with phenotype  HP:0002312   \n",
      "\n",
      "                                            label_tail  class_tail  \\\n",
      "6609                         Oral-pharyngeal dysphagia           8   \n",
      "20507                                 Gait disturbance           8   \n",
      "22156   Abnormal circulating cholesterol concentration           8   \n",
      "24447                                        Agitation           8   \n",
      "30115                              Personality changes           8   \n",
      "31240                                       Depression           8   \n",
      "32293                 Speech articulation difficulties           8   \n",
      "34252                                          Anxiety           8   \n",
      "38040                                         Rigidity           8   \n",
      "48006                                    Disinhibition           8   \n",
      "61452          Neuronal loss in central nervous system           8   \n",
      "62199                                      Gait ataxia           8   \n",
      "71011                                          Gliosis           8   \n",
      "73388                                 Cerebral atrophy           8   \n",
      "76111                              Aggressive behavior           8   \n",
      "79890                                     Irritability           8   \n",
      "79977                                    Babinski sign           8   \n",
      "82600                                Suicidal ideation           8   \n",
      "84973                             Mental deterioration           8   \n",
      "89761                                          Seizure           8   \n",
      "96436     Impaired visuospatial constructive cognition           8   \n",
      "97712                                  Caudate atrophy           8   \n",
      "98108                            Involuntary movements           8   \n",
      "103541                    Excessive daytime somnolence           8   \n",
      "103612                                  Gait imbalance           8   \n",
      "106700                                       Delusions           8   \n",
      "107180               Abnormality of the sense of smell           8   \n",
      "107525                       Decreased body mass index           8   \n",
      "109228                    Poor fine motor coordination           8   \n",
      "122623                    Degeneration of the striatum           8   \n",
      "127221                                       Myoclonus           8   \n",
      "133107                   Obsessive-compulsive behavior           8   \n",
      "137065                                Choking episodes           8   \n",
      "138306                     Generalized muscle weakness           8   \n",
      "139860                              Difficulty walking           8   \n",
      "141568                                    Bradykinesia           8   \n",
      "148802                                    Bradyphrenia           8   \n",
      "150294                     Abnormality of eye movement           8   \n",
      "151292       Abnormal cerebral white matter morphology           8   \n",
      "157668                                       Hostility           8   \n",
      "159416                                        Dystonia           8   \n",
      "161929                                          Clonus           8   \n",
      "162537                              Cerebellar atrophy           8   \n",
      "174603                                 Abnormal libido           8   \n",
      "183513                               Memory impairment           8   \n",
      "185523                                        Dementia           8   \n",
      "186042                                  Hallucinations           8   \n",
      "190975                                   Hyperreflexia           8   \n",
      "195579                                          Apathy           8   \n",
      "199490                                          Chorea           8   \n",
      "200053                               Inability to walk           8   \n",
      "203496                                     Weight loss           8   \n",
      "205092                                    Staring gaze           8   \n",
      "206137                                        Insomnia           8   \n",
      "207779                                          Mutism           8   \n",
      "220384                                      Polyphagia           8   \n",
      "222678                                      Alcoholism           8   \n",
      "225797                                      Clumsiness           8   \n",
      "\n",
      "        index_tail  type  \n",
      "6609         10701    10  \n",
      "20507         5264    10  \n",
      "22156         6719    10  \n",
      "24447        12843    10  \n",
      "30115         5674    10  \n",
      "31240         7252    10  \n",
      "32293         5890    10  \n",
      "34252         7183    10  \n",
      "38040         2658    10  \n",
      "48006          917    10  \n",
      "61452         8637    10  \n",
      "62199         3732    10  \n",
      "71011         9740    10  \n",
      "73388         6857    10  \n",
      "76111         8354    10  \n",
      "79890         5540    10  \n",
      "79977         3981    10  \n",
      "82600         7688    10  \n",
      "84973         7666    10  \n",
      "89761        12541    10  \n",
      "96436         9162    10  \n",
      "97712        10558    10  \n",
      "98108         3069    10  \n",
      "103541       10461    10  \n",
      "103612        6785    10  \n",
      "106700        7004    10  \n",
      "107180        7667    10  \n",
      "107525        3149    10  \n",
      "109228        9227    10  \n",
      "122623       12192    10  \n",
      "127221        4445    10  \n",
      "133107        1161    10  \n",
      "137065       10510    10  \n",
      "138306       12394    10  \n",
      "139860        7427    10  \n",
      "141568       11776    10  \n",
      "148802        8341    10  \n",
      "150294       13355    10  \n",
      "151292        7626    10  \n",
      "157668        9775    10  \n",
      "159416       12666    10  \n",
      "161929        6832    10  \n",
      "162537        9012    10  \n",
      "174603       11783    10  \n",
      "183513        8526    10  \n",
      "185523       13567    10  \n",
      "186042        3637    10  \n",
      "190975       10722    10  \n",
      "195579        4853    10  \n",
      "199490        6163    10  \n",
      "200053       10071    10  \n",
      "203496        3040    10  \n",
      "205092        5194    10  \n",
      "206137       13153    10  \n",
      "207779        4109    10  \n",
      "220384        7876    10  \n",
      "222678        8613    10  \n",
      "225797        4078    10  \n"
     ]
    }
   ],
   "source": [
    "if disease_prefix == 'dmd':\n",
    "    disease_ID = 'MONDO:0010679'\n",
    "elif disease_prefix == 'hd':\n",
    "    disease_ID = 'MONDO:0007739'\n",
    "elif disease_prefix == 'oi':\n",
    "    disease_ID = 'MONDO:0019019'\n",
    "\n",
    "if dataset_prefix == 'prev':\n",
    "    pheno_rel = 'has phenotype'\n",
    "else:\n",
    "    pheno_rel = 'associated with phenotype'\n",
    "\n",
    "relation_index = list(relation_labels).index(pheno_rel)\n",
    "\n",
    "symptoms = edges[(edges['head'] == disease_ID) & (edges['type'] == relation_index)]\n",
    "\n",
    "print(f'A total of {symptoms.shape[0]} symptoms found that are associated with {disease_ID}')\n",
    "\n",
    "print(symptoms.head(symptoms.shape[0]))"
   ]
  },
  {
   "attachments": {},
   "cell_type": "markdown",
   "metadata": {},
   "source": [
    "Check alignment between dataframes containing the associations and the nodes"
   ]
  },
  {
   "cell_type": "code",
   "execution_count": 40,
   "metadata": {
    "execution": {
     "iopub.execute_input": "2024-08-07T09:57:24.528526Z",
     "iopub.status.busy": "2024-08-07T09:57:24.527515Z",
     "iopub.status.idle": "2024-08-07T09:57:24.540512Z",
     "shell.execute_reply": "2024-08-07T09:57:24.539524Z"
    }
   },
   "outputs": [
    {
     "data": {
      "text/html": [
       "<div>\n",
       "<style scoped>\n",
       "    .dataframe tbody tr th:only-of-type {\n",
       "        vertical-align: middle;\n",
       "    }\n",
       "\n",
       "    .dataframe tbody tr th {\n",
       "        vertical-align: top;\n",
       "    }\n",
       "\n",
       "    .dataframe thead th {\n",
       "        text-align: right;\n",
       "    }\n",
       "</style>\n",
       "<table border=\"1\" class=\"dataframe\">\n",
       "  <thead>\n",
       "    <tr style=\"text-align: right;\">\n",
       "      <th></th>\n",
       "      <th>id</th>\n",
       "      <th>semantic</th>\n",
       "      <th>label</th>\n",
       "      <th>semantic_id</th>\n",
       "    </tr>\n",
       "  </thead>\n",
       "  <tbody>\n",
       "    <tr>\n",
       "      <th>6315</th>\n",
       "      <td>ENSEMBL:ENSMMUG00000014627</td>\n",
       "      <td>gene</td>\n",
       "      <td>ENSEMBL:ENSMMUG00000014627</td>\n",
       "      <td>4</td>\n",
       "    </tr>\n",
       "  </tbody>\n",
       "</table>\n",
       "</div>"
      ],
      "text/plain": [
       "                              id semantic                       label  \\\n",
       "6315  ENSEMBL:ENSMMUG00000014627     gene  ENSEMBL:ENSMMUG00000014627   \n",
       "\n",
       "      semantic_id  \n",
       "6315            4  "
      ]
     },
     "execution_count": 40,
     "metadata": {},
     "output_type": "execute_result"
    }
   ],
   "source": [
    "nodes.loc[[6315]]"
   ]
  },
  {
   "cell_type": "markdown",
   "metadata": {},
   "source": [
    "Get list of drugs that appear at least once in the top 3 of suggested drugs for an associated phenotype"
   ]
  },
  {
   "cell_type": "code",
   "execution_count": 41,
   "metadata": {
    "execution": {
     "iopub.execute_input": "2024-08-07T09:57:24.544525Z",
     "iopub.status.busy": "2024-08-07T09:57:24.544525Z",
     "iopub.status.idle": "2024-08-07T09:57:53.298178Z",
     "shell.execute_reply": "2024-08-07T09:57:53.296141Z"
    }
   },
   "outputs": [],
   "source": [
    "def add_drug_candidate(candidates, drug_name):\n",
    "    if drug_name in candidates:\n",
    "        candidates[drug_name] += 1\n",
    "    else:\n",
    "        candidates[drug_name] = 1\n",
    "        \n",
    "    return candidates\n",
    "\n",
    "\n",
    "if dataset_prefix == 'prev':\n",
    "    treats_rel = 'is substance that treats'\n",
    "else:\n",
    "    treats_rel = 'is substance that treats'\n",
    "\n",
    "relation_treats_index = list(relation_labels).index(treats_rel)\n",
    "\n",
    "drug_candidates = {}\n",
    "symptom_drugs = {}\n",
    "symptom_drugs_scores = []\n",
    "\n",
    "for ind, symptom in symptoms.iterrows(): \n",
    "    symptom_id = symptom['tail']\n",
    "    symptom_drugs[symptom_id] = []\n",
    "    \n",
    "    predictions = candidates(nodes, symptom_id, best_x)\n",
    "    \n",
    "    predictions_drugs = predictions[predictions['semantic'] == drug_semantic]\n",
    "    \n",
    "    symptom_treated_by = edges.loc[(edges['tail'] == symptom_id) & (edges['type'] == relation_treats_index)]\n",
    "    \n",
    "    merged_df = pd.merge(predictions_drugs, symptom_treated_by, how='left', left_on='id', right_on='head', indicator=True)\n",
    "    result_df = merged_df[merged_df['_merge'] == 'left_only']\n",
    "    result_df = result_df.drop('_merge', axis=1)\n",
    "    \n",
    "    ordered_predictions = result_df.sort_values(by = ['Score'], ascending = False).head(3)\n",
    "    \n",
    "    for ind, drug in ordered_predictions.iterrows():\n",
    "        symptom_drugs_scores.append({'Symptom': symptom['label_tail'], 'Symptom ID': symptom['tail'], 'Drug Candidate': drug['label'], 'Score': drug['Score'][0]})\n",
    "        \n",
    "        symptom_drugs[symptom_id].append(drug['id'])\n",
    "        drug_candidates = add_drug_candidate(drug_candidates, drug['label'])"
   ]
  },
  {
   "cell_type": "code",
   "execution_count": 42,
   "metadata": {
    "execution": {
     "iopub.execute_input": "2024-08-07T09:57:53.304188Z",
     "iopub.status.busy": "2024-08-07T09:57:53.303180Z",
     "iopub.status.idle": "2024-08-07T09:57:53.329634Z",
     "shell.execute_reply": "2024-08-07T09:57:53.327638Z"
    }
   },
   "outputs": [
    {
     "name": "stdout",
     "output_type": "stream",
     "text": [
      "                       Symptom  Symptom ID          Drug Candidate     Score\n",
      "0    Oral-pharyngeal dysphagia  HP:0200136  adenosine triphosphate  0.974829\n",
      "1    Oral-pharyngeal dysphagia  HP:0200136            pantoprazole  0.951895\n",
      "2    Oral-pharyngeal dysphagia  HP:0200136              omeprazole  0.951786\n",
      "3             Gait disturbance  HP:0001288  adenosine triphosphate  0.869506\n",
      "4             Gait disturbance  HP:0001288                orlistat  0.795622\n",
      "..                         ...         ...                     ...       ...\n",
      "169                 Alcoholism  HP:0030955            promethazine  0.968080\n",
      "170                 Alcoholism  HP:0030955  adenosine triphosphate  0.954996\n",
      "171                 Clumsiness  HP:0002312  adenosine triphosphate  0.973394\n",
      "172                 Clumsiness  HP:0002312            promethazine  0.958392\n",
      "173                 Clumsiness  HP:0002312            pantoprazole  0.949080\n",
      "\n",
      "[174 rows x 4 columns]\n"
     ]
    }
   ],
   "source": [
    "symptom_drugs_scores_df = pd.DataFrame.from_dict(symptom_drugs_scores)\n",
    "symptom_drugs_scores_df.to_pickle(f'{pred_output_dir}/{dataset_prefix}_{disease_prefix}_score_per_symptom_drug_pair_{embedding_method}.pkl')\n",
    "\n",
    "print(symptom_drugs_scores_df)"
   ]
  },
  {
   "cell_type": "markdown",
   "metadata": {},
   "source": [
    "Get list of drug candidate ids per relevant symptom id."
   ]
  },
  {
   "cell_type": "code",
   "execution_count": 43,
   "metadata": {
    "execution": {
     "iopub.execute_input": "2024-08-07T09:57:53.334650Z",
     "iopub.status.busy": "2024-08-07T09:57:53.333670Z",
     "iopub.status.idle": "2024-08-07T09:57:53.361177Z",
     "shell.execute_reply": "2024-08-07T09:57:53.359155Z"
    }
   },
   "outputs": [
    {
     "name": "stdout",
     "output_type": "stream",
     "text": [
      "       Symptom          Candidates\n",
      "0   HP:0200136    [91, 2054, 1990]\n",
      "1   HP:0001288    [91, 1996, 2054]\n",
      "2   HP:0003107    [5359, 2286, 91]\n",
      "3   HP:0000713    [91, 2286, 2054]\n",
      "4   HP:0000751    [91, 2286, 2054]\n",
      "5   HP:0000716    [91, 2054, 1990]\n",
      "6   HP:0009088    [5359, 2286, 91]\n",
      "7   HP:0000739    [91, 2054, 2286]\n",
      "8   HP:0002063    [91, 2286, 2054]\n",
      "9   HP:0000734    [91, 2286, 2054]\n",
      "10  HP:0002529    [91, 2286, 2054]\n",
      "11  HP:0002066    [91, 2054, 1990]\n",
      "12  HP:0002171     [91, 578, 1996]\n",
      "13  HP:0002059    [91, 2054, 1990]\n",
      "14  HP:0000718    [91, 2054, 1990]\n",
      "15  HP:0000737    [91, 2286, 2054]\n",
      "16  HP:0003487    [91, 2054, 1990]\n",
      "17  HP:0031589  [2286, 5359, 2054]\n",
      "18  HP:0001268    [91, 2286, 2054]\n",
      "19  HP:0001250    [91, 2054, 1990]\n",
      "20  HP:0010794    [5359, 2286, 91]\n",
      "21  HP:0002340    [2286, 91, 5359]\n",
      "22  HP:0004305    [91, 2286, 2054]\n",
      "23  HP:0001262    [91, 2054, 2286]\n",
      "24  HP:0002141    [91, 2286, 2054]\n",
      "25  HP:0000746    [5359, 2286, 91]\n",
      "26  HP:0004408    [91, 2286, 5359]\n",
      "27  HP:0045082    [5359, 2286, 91]\n",
      "28  HP:0007010    [2286, 91, 5359]\n",
      "29  HP:0040140    [2286, 91, 5359]\n",
      "30  HP:0001336    [91, 2054, 1990]\n",
      "31  HP:0000722    [91, 2286, 2054]\n",
      "32  HP:0030842    [5359, 2286, 91]\n",
      "33  HP:0003324    [91, 2286, 2054]\n",
      "34  HP:0002355    [91, 2286, 2054]\n",
      "35  HP:0002067    [91, 2054, 1990]\n",
      "36  HP:0031843    [5359, 2286, 91]\n",
      "37  HP:0000496    [91, 2286, 2054]\n",
      "38  HP:0002500    [91, 2054, 1990]\n",
      "39  HP:0031473    [5359, 2286, 91]\n",
      "40  HP:0001332    [91, 2054, 1990]\n",
      "41  HP:0002169    [91, 2286, 2054]\n",
      "42  HP:0001272    [91, 2054, 1990]\n",
      "43  HP:0031845    [5359, 2286, 91]\n",
      "44  HP:0002354    [91, 2286, 2054]\n",
      "45  HP:0000726    [91, 2286, 2054]\n",
      "46  HP:0000738    [91, 2286, 2054]\n",
      "47  HP:0001347    [91, 2054, 1990]\n",
      "48  HP:0000741    [91, 2286, 2054]\n",
      "49  HP:0002072    [91, 2054, 1990]\n",
      "50  HP:0002540    [91, 2054, 1990]\n",
      "51  HP:0001824    [91, 1996, 2054]\n",
      "52  HP:0025401    [91, 2286, 5359]\n",
      "53  HP:0100785    [2286, 91, 2054]\n",
      "54  HP:0002300    [91, 2286, 2054]\n",
      "55  HP:0002591    [91, 1996, 2054]\n",
      "56  HP:0030955    [5359, 2286, 91]\n",
      "57  HP:0002312    [91, 2286, 2054]\n"
     ]
    }
   ],
   "source": [
    "symptom_drugs_df_dict = {\n",
    "    'Symptom': [],\n",
    "    'Candidates': [] \n",
    "}\n",
    "for key, val in symptom_drugs.items():\n",
    "    symptom_drugs_df_dict['Symptom'].append(key)\n",
    "    symptom_drugs_df_dict['Candidates'].append(val)\n",
    "    \n",
    "symptom_drugs_df = pd.DataFrame.from_dict(symptom_drugs_df_dict)\n",
    "symptom_drugs_df.to_pickle(f'{pred_output_dir}/{dataset_prefix}_{disease_prefix}_candidates_per_symptom_{embedding_method}.pkl')\n",
    "\n",
    "print(symptom_drugs_df)"
   ]
  },
  {
   "cell_type": "markdown",
   "metadata": {},
   "source": [
    "Save dataframe as csv file with all drugs and their total of appearances as a candidate for one or more relevant symptoms."
   ]
  },
  {
   "cell_type": "code",
   "execution_count": 44,
   "metadata": {
    "execution": {
     "iopub.execute_input": "2024-08-07T09:57:53.365210Z",
     "iopub.status.busy": "2024-08-07T09:57:53.365210Z",
     "iopub.status.idle": "2024-08-07T09:57:53.392269Z",
     "shell.execute_reply": "2024-08-07T09:57:53.391280Z"
    }
   },
   "outputs": [
    {
     "name": "stdout",
     "output_type": "stream",
     "text": [
      "                     Drug  Appearances Percentage\n",
      "0  adenosine triphosphate           57     98.28%\n",
      "1            pantoprazole           42     72.41%\n",
      "5            promethazine           39     67.24%\n",
      "4        brilliant Blue G           16     27.59%\n",
      "2              omeprazole           15     25.86%\n",
      "3                orlistat            4      6.90%\n",
      "6               cerulenin            1      1.72%\n"
     ]
    }
   ],
   "source": [
    "drug_candidate_df_dict = {\n",
    "    'Drug': [],\n",
    "    'Appearances': [],\n",
    "    'Percentage': []\n",
    "}\n",
    "for key, val in drug_candidates.items():\n",
    "    drug_candidate_df_dict['Drug'].append(key)\n",
    "    drug_candidate_df_dict['Appearances'].append(val)\n",
    "    drug_candidate_df_dict['Percentage'].append(val/symptoms.shape[0]*100)\n",
    "    \n",
    "drug_candidates_df = pd.DataFrame.from_dict(drug_candidate_df_dict)\n",
    "drug_candidates_df['Percentage'] = drug_candidates_df['Percentage'].transform(lambda x: '{:,.2f}%'.format(x))\n",
    "drug_candidates_df = drug_candidates_df.sort_values(by = ['Appearances'], ascending = False)\n",
    "\n",
    "drug_candidates_df.to_pickle(f'{pred_output_dir}/{dataset_prefix}_{disease_prefix}_drug_candidates_{embedding_method}.pkl')\n",
    "\n",
    "print(drug_candidates_df)"
   ]
  },
  {
   "attachments": {},
   "cell_type": "markdown",
   "metadata": {},
   "source": [
    "## Component Analysis"
   ]
  },
  {
   "cell_type": "code",
   "execution_count": 45,
   "metadata": {
    "execution": {
     "iopub.execute_input": "2024-08-07T09:57:53.397299Z",
     "iopub.status.busy": "2024-08-07T09:57:53.396299Z",
     "iopub.status.idle": "2024-08-07T09:57:53.408292Z",
     "shell.execute_reply": "2024-08-07T09:57:53.407268Z"
    }
   },
   "outputs": [],
   "source": [
    "X_data = best_x.detach().cpu().numpy()\n",
    "np.save(f'{pred_output_dir}/{dataset_prefix}_{disease_prefix}_trained_node_embeddings_{embedding_method}.npy', X_data)"
   ]
  },
  {
   "cell_type": "code",
   "execution_count": 46,
   "metadata": {
    "execution": {
     "iopub.execute_input": "2024-08-07T09:57:53.412312Z",
     "iopub.status.busy": "2024-08-07T09:57:53.412312Z",
     "iopub.status.idle": "2024-08-07T09:57:53.439019Z",
     "shell.execute_reply": "2024-08-07T09:57:53.437992Z"
    }
   },
   "outputs": [],
   "source": [
    "z = StandardScaler().fit_transform(X_data)"
   ]
  },
  {
   "attachments": {},
   "cell_type": "markdown",
   "metadata": {},
   "source": [
    "### PCA"
   ]
  },
  {
   "cell_type": "code",
   "execution_count": 47,
   "metadata": {
    "execution": {
     "iopub.execute_input": "2024-08-07T09:57:53.444042Z",
     "iopub.status.busy": "2024-08-07T09:57:53.444042Z",
     "iopub.status.idle": "2024-08-07T09:57:53.567033Z",
     "shell.execute_reply": "2024-08-07T09:57:53.565020Z"
    }
   },
   "outputs": [
    {
     "data": {
      "text/html": [
       "<div>\n",
       "<style scoped>\n",
       "    .dataframe tbody tr th:only-of-type {\n",
       "        vertical-align: middle;\n",
       "    }\n",
       "\n",
       "    .dataframe tbody tr th {\n",
       "        vertical-align: top;\n",
       "    }\n",
       "\n",
       "    .dataframe thead th {\n",
       "        text-align: right;\n",
       "    }\n",
       "</style>\n",
       "<table border=\"1\" class=\"dataframe\">\n",
       "  <thead>\n",
       "    <tr style=\"text-align: right;\">\n",
       "      <th></th>\n",
       "      <th>principal component 1</th>\n",
       "      <th>principal component 2</th>\n",
       "    </tr>\n",
       "  </thead>\n",
       "  <tbody>\n",
       "    <tr>\n",
       "      <th>0</th>\n",
       "      <td>-0.744149</td>\n",
       "      <td>-1.905825</td>\n",
       "    </tr>\n",
       "    <tr>\n",
       "      <th>1</th>\n",
       "      <td>-0.678230</td>\n",
       "      <td>0.006383</td>\n",
       "    </tr>\n",
       "    <tr>\n",
       "      <th>2</th>\n",
       "      <td>-1.316671</td>\n",
       "      <td>-0.053935</td>\n",
       "    </tr>\n",
       "    <tr>\n",
       "      <th>3</th>\n",
       "      <td>-1.631723</td>\n",
       "      <td>1.132725</td>\n",
       "    </tr>\n",
       "    <tr>\n",
       "      <th>4</th>\n",
       "      <td>-0.475055</td>\n",
       "      <td>0.063027</td>\n",
       "    </tr>\n",
       "    <tr>\n",
       "      <th>...</th>\n",
       "      <td>...</td>\n",
       "      <td>...</td>\n",
       "    </tr>\n",
       "    <tr>\n",
       "      <th>14877</th>\n",
       "      <td>-0.762428</td>\n",
       "      <td>1.166934</td>\n",
       "    </tr>\n",
       "    <tr>\n",
       "      <th>14878</th>\n",
       "      <td>-0.803428</td>\n",
       "      <td>-0.378577</td>\n",
       "    </tr>\n",
       "    <tr>\n",
       "      <th>14879</th>\n",
       "      <td>0.797437</td>\n",
       "      <td>0.895844</td>\n",
       "    </tr>\n",
       "    <tr>\n",
       "      <th>14880</th>\n",
       "      <td>-1.136879</td>\n",
       "      <td>1.365521</td>\n",
       "    </tr>\n",
       "    <tr>\n",
       "      <th>14881</th>\n",
       "      <td>-0.619124</td>\n",
       "      <td>0.456647</td>\n",
       "    </tr>\n",
       "  </tbody>\n",
       "</table>\n",
       "<p>14882 rows × 2 columns</p>\n",
       "</div>"
      ],
      "text/plain": [
       "       principal component 1  principal component 2\n",
       "0                  -0.744149              -1.905825\n",
       "1                  -0.678230               0.006383\n",
       "2                  -1.316671              -0.053935\n",
       "3                  -1.631723               1.132725\n",
       "4                  -0.475055               0.063027\n",
       "...                      ...                    ...\n",
       "14877              -0.762428               1.166934\n",
       "14878              -0.803428              -0.378577\n",
       "14879               0.797437               0.895844\n",
       "14880              -1.136879               1.365521\n",
       "14881              -0.619124               0.456647\n",
       "\n",
       "[14882 rows x 2 columns]"
      ]
     },
     "execution_count": 47,
     "metadata": {},
     "output_type": "execute_result"
    }
   ],
   "source": [
    "pca = PCA(n_components=32)\n",
    "princ_comp = pca.fit_transform(z)\n",
    "princ_df = pd.DataFrame(data=princ_comp[:, [0,1]], columns=['principal component 1', 'principal component 2'])\n",
    "princ_df"
   ]
  },
  {
   "attachments": {},
   "cell_type": "markdown",
   "metadata": {},
   "source": [
    "Based on plot below, choose the number of components for PCA analysis yielding an amount of variance close to 1.0."
   ]
  },
  {
   "cell_type": "code",
   "execution_count": 48,
   "metadata": {
    "execution": {
     "iopub.execute_input": "2024-08-07T09:57:53.572036Z",
     "iopub.status.busy": "2024-08-07T09:57:53.571037Z",
     "iopub.status.idle": "2024-08-07T09:57:53.691225Z",
     "shell.execute_reply": "2024-08-07T09:57:53.690242Z"
    }
   },
   "outputs": [
    {
     "data": {
      "image/png": "[encoded data removed]",
      "text/plain": [
       "<Figure size 640x480 with 1 Axes>"
      ]
     },
     "metadata": {},
     "output_type": "display_data"
    }
   ],
   "source": [
    "plt.plot(np.cumsum(pca.explained_variance_ratio_))\n",
    "plt.xlabel('number of components')\n",
    "plt.ylabel('cumulative explained variance')\n",
    "plt.show()"
   ]
  },
  {
   "cell_type": "code",
   "execution_count": 49,
   "metadata": {
    "execution": {
     "iopub.execute_input": "2024-08-07T09:57:53.695235Z",
     "iopub.status.busy": "2024-08-07T09:57:53.695235Z",
     "iopub.status.idle": "2024-08-07T09:57:53.722499Z",
     "shell.execute_reply": "2024-08-07T09:57:53.721521Z"
    }
   },
   "outputs": [
    {
     "data": {
      "text/html": [
       "<div>\n",
       "<style scoped>\n",
       "    .dataframe tbody tr th:only-of-type {\n",
       "        vertical-align: middle;\n",
       "    }\n",
       "\n",
       "    .dataframe tbody tr th {\n",
       "        vertical-align: top;\n",
       "    }\n",
       "\n",
       "    .dataframe thead th {\n",
       "        text-align: right;\n",
       "    }\n",
       "</style>\n",
       "<table border=\"1\" class=\"dataframe\">\n",
       "  <thead>\n",
       "    <tr style=\"text-align: right;\">\n",
       "      <th></th>\n",
       "      <th>principal component 1</th>\n",
       "      <th>principal component 2</th>\n",
       "      <th>semantic</th>\n",
       "    </tr>\n",
       "  </thead>\n",
       "  <tbody>\n",
       "    <tr>\n",
       "      <th>0</th>\n",
       "      <td>-0.744149</td>\n",
       "      <td>-1.905825</td>\n",
       "      <td>gene</td>\n",
       "    </tr>\n",
       "    <tr>\n",
       "      <th>1</th>\n",
       "      <td>-0.678230</td>\n",
       "      <td>0.006383</td>\n",
       "      <td>phenotype</td>\n",
       "    </tr>\n",
       "    <tr>\n",
       "      <th>2</th>\n",
       "      <td>-1.316671</td>\n",
       "      <td>-0.053935</td>\n",
       "      <td>phenotype</td>\n",
       "    </tr>\n",
       "    <tr>\n",
       "      <th>3</th>\n",
       "      <td>-1.631723</td>\n",
       "      <td>1.132725</td>\n",
       "      <td>phenotype</td>\n",
       "    </tr>\n",
       "    <tr>\n",
       "      <th>4</th>\n",
       "      <td>-0.475055</td>\n",
       "      <td>0.063027</td>\n",
       "      <td>gene</td>\n",
       "    </tr>\n",
       "    <tr>\n",
       "      <th>...</th>\n",
       "      <td>...</td>\n",
       "      <td>...</td>\n",
       "      <td>...</td>\n",
       "    </tr>\n",
       "    <tr>\n",
       "      <th>14877</th>\n",
       "      <td>-0.762428</td>\n",
       "      <td>1.166934</td>\n",
       "      <td>phenotype</td>\n",
       "    </tr>\n",
       "    <tr>\n",
       "      <th>14878</th>\n",
       "      <td>-0.803428</td>\n",
       "      <td>-0.378577</td>\n",
       "      <td>gene</td>\n",
       "    </tr>\n",
       "    <tr>\n",
       "      <th>14879</th>\n",
       "      <td>0.797437</td>\n",
       "      <td>0.895844</td>\n",
       "      <td>phenotype</td>\n",
       "    </tr>\n",
       "    <tr>\n",
       "      <th>14880</th>\n",
       "      <td>-1.136879</td>\n",
       "      <td>1.365521</td>\n",
       "      <td>phenotype</td>\n",
       "    </tr>\n",
       "    <tr>\n",
       "      <th>14881</th>\n",
       "      <td>-0.619124</td>\n",
       "      <td>0.456647</td>\n",
       "      <td>gene</td>\n",
       "    </tr>\n",
       "  </tbody>\n",
       "</table>\n",
       "<p>14882 rows × 3 columns</p>\n",
       "</div>"
      ],
      "text/plain": [
       "       principal component 1  principal component 2   semantic\n",
       "0                  -0.744149              -1.905825       gene\n",
       "1                  -0.678230               0.006383  phenotype\n",
       "2                  -1.316671              -0.053935  phenotype\n",
       "3                  -1.631723               1.132725  phenotype\n",
       "4                  -0.475055               0.063027       gene\n",
       "...                      ...                    ...        ...\n",
       "14877              -0.762428               1.166934  phenotype\n",
       "14878              -0.803428              -0.378577       gene\n",
       "14879               0.797437               0.895844  phenotype\n",
       "14880              -1.136879               1.365521  phenotype\n",
       "14881              -0.619124               0.456647       gene\n",
       "\n",
       "[14882 rows x 3 columns]"
      ]
     },
     "execution_count": 49,
     "metadata": {},
     "output_type": "execute_result"
    }
   ],
   "source": [
    "pca_df = pd.concat([princ_df, nodes[['semantic']]], axis=1)\n",
    "pca_df"
   ]
  },
  {
   "cell_type": "code",
   "execution_count": 50,
   "metadata": {
    "execution": {
     "iopub.execute_input": "2024-08-07T09:57:53.727057Z",
     "iopub.status.busy": "2024-08-07T09:57:53.726033Z",
     "iopub.status.idle": "2024-08-07T09:57:54.203918Z",
     "shell.execute_reply": "2024-08-07T09:57:54.202916Z"
    }
   },
   "outputs": [
    {
     "data": {
      "image/png": "[encoded data removed]",
      "text/plain": [
       "<Figure size 800x800 with 1 Axes>"
      ]
     },
     "metadata": {},
     "output_type": "display_data"
    }
   ],
   "source": [
    "fig = plt.figure(figsize = (8,8))\n",
    "ax = fig.add_subplot(1, 1, 1)\n",
    "ax.set_xlabel('Principal Component 1', fontsize = 15)\n",
    "ax.set_ylabel('Principal Component 2', fontsize = 15)\n",
    "ax.set_title(f'Two components from 32-PCA on {dataset_prefix} {disease_prefix} dataset with embedding method {embedding_method}', fontsize = 12)\n",
    "\n",
    "unique_node_semantics = list(node_semantic_dict.values())\n",
    "colors = ['silver', 'indianred', 'peru', 'gold', 'olivedrab', 'cadetblue', 'skyblue', 'steelblue', 'royalblue', 'mediumpurple', 'palevioletred', 'lightpink']\n",
    "\n",
    "for target, color in zip(unique_node_semantics, colors):\n",
    "    indicesToKeep = pca_df['semantic'] == target\n",
    "    ax.scatter(pca_df.loc[indicesToKeep, 'principal component 1'], pca_df.loc[indicesToKeep, 'principal component 2'], c = color, s = 50)\n",
    "    \n",
    "ax.legend(unique_node_semantics)\n",
    "ax.grid()\n",
    "\n",
    "plt.show()"
   ]
  },
  {
   "attachments": {},
   "cell_type": "markdown",
   "metadata": {},
   "source": [
    "### t-SNE"
   ]
  },
  {
   "cell_type": "code",
   "execution_count": 51,
   "metadata": {
    "execution": {
     "iopub.execute_input": "2024-08-07T09:57:54.207927Z",
     "iopub.status.busy": "2024-08-07T09:57:54.206926Z",
     "iopub.status.idle": "2024-08-07T09:59:04.360843Z",
     "shell.execute_reply": "2024-08-07T09:59:04.359837Z"
    }
   },
   "outputs": [],
   "source": [
    "X_tsne = TSNE(learning_rate=100, perplexity=40).fit_transform(X_data)"
   ]
  },
  {
   "cell_type": "code",
   "execution_count": 52,
   "metadata": {
    "execution": {
     "iopub.execute_input": "2024-08-07T09:59:04.367847Z",
     "iopub.status.busy": "2024-08-07T09:59:04.366853Z",
     "iopub.status.idle": "2024-08-07T09:59:04.392361Z",
     "shell.execute_reply": "2024-08-07T09:59:04.391360Z"
    }
   },
   "outputs": [
    {
     "data": {
      "text/html": [
       "<div>\n",
       "<style scoped>\n",
       "    .dataframe tbody tr th:only-of-type {\n",
       "        vertical-align: middle;\n",
       "    }\n",
       "\n",
       "    .dataframe tbody tr th {\n",
       "        vertical-align: top;\n",
       "    }\n",
       "\n",
       "    .dataframe thead th {\n",
       "        text-align: right;\n",
       "    }\n",
       "</style>\n",
       "<table border=\"1\" class=\"dataframe\">\n",
       "  <thead>\n",
       "    <tr style=\"text-align: right;\">\n",
       "      <th></th>\n",
       "      <th>t-SNE 1</th>\n",
       "      <th>t-SNE 2</th>\n",
       "    </tr>\n",
       "  </thead>\n",
       "  <tbody>\n",
       "    <tr>\n",
       "      <th>0</th>\n",
       "      <td>-15.662032</td>\n",
       "      <td>-55.225475</td>\n",
       "    </tr>\n",
       "    <tr>\n",
       "      <th>1</th>\n",
       "      <td>25.096575</td>\n",
       "      <td>19.224897</td>\n",
       "    </tr>\n",
       "    <tr>\n",
       "      <th>2</th>\n",
       "      <td>-34.995598</td>\n",
       "      <td>8.420835</td>\n",
       "    </tr>\n",
       "    <tr>\n",
       "      <th>3</th>\n",
       "      <td>40.673149</td>\n",
       "      <td>-28.384464</td>\n",
       "    </tr>\n",
       "    <tr>\n",
       "      <th>4</th>\n",
       "      <td>7.941656</td>\n",
       "      <td>-5.051728</td>\n",
       "    </tr>\n",
       "    <tr>\n",
       "      <th>...</th>\n",
       "      <td>...</td>\n",
       "      <td>...</td>\n",
       "    </tr>\n",
       "    <tr>\n",
       "      <th>14877</th>\n",
       "      <td>7.376659</td>\n",
       "      <td>16.041193</td>\n",
       "    </tr>\n",
       "    <tr>\n",
       "      <th>14878</th>\n",
       "      <td>18.292404</td>\n",
       "      <td>-27.252781</td>\n",
       "    </tr>\n",
       "    <tr>\n",
       "      <th>14879</th>\n",
       "      <td>16.339119</td>\n",
       "      <td>5.835560</td>\n",
       "    </tr>\n",
       "    <tr>\n",
       "      <th>14880</th>\n",
       "      <td>-57.266369</td>\n",
       "      <td>-2.536033</td>\n",
       "    </tr>\n",
       "    <tr>\n",
       "      <th>14881</th>\n",
       "      <td>-67.892403</td>\n",
       "      <td>-3.940002</td>\n",
       "    </tr>\n",
       "  </tbody>\n",
       "</table>\n",
       "<p>14882 rows × 2 columns</p>\n",
       "</div>"
      ],
      "text/plain": [
       "         t-SNE 1    t-SNE 2\n",
       "0     -15.662032 -55.225475\n",
       "1      25.096575  19.224897\n",
       "2     -34.995598   8.420835\n",
       "3      40.673149 -28.384464\n",
       "4       7.941656  -5.051728\n",
       "...          ...        ...\n",
       "14877   7.376659  16.041193\n",
       "14878  18.292404 -27.252781\n",
       "14879  16.339119   5.835560\n",
       "14880 -57.266369  -2.536033\n",
       "14881 -67.892403  -3.940002\n",
       "\n",
       "[14882 rows x 2 columns]"
      ]
     },
     "execution_count": 52,
     "metadata": {},
     "output_type": "execute_result"
    }
   ],
   "source": [
    "comp_tsne = pd.DataFrame(data=X_tsne, columns=['t-SNE 1', 't-SNE 2'])\n",
    "comp_tsne"
   ]
  },
  {
   "cell_type": "code",
   "execution_count": 53,
   "metadata": {
    "execution": {
     "iopub.execute_input": "2024-08-07T09:59:04.397361Z",
     "iopub.status.busy": "2024-08-07T09:59:04.397361Z",
     "iopub.status.idle": "2024-08-07T09:59:04.424362Z",
     "shell.execute_reply": "2024-08-07T09:59:04.423362Z"
    }
   },
   "outputs": [
    {
     "data": {
      "text/html": [
       "<div>\n",
       "<style scoped>\n",
       "    .dataframe tbody tr th:only-of-type {\n",
       "        vertical-align: middle;\n",
       "    }\n",
       "\n",
       "    .dataframe tbody tr th {\n",
       "        vertical-align: top;\n",
       "    }\n",
       "\n",
       "    .dataframe thead th {\n",
       "        text-align: right;\n",
       "    }\n",
       "</style>\n",
       "<table border=\"1\" class=\"dataframe\">\n",
       "  <thead>\n",
       "    <tr style=\"text-align: right;\">\n",
       "      <th></th>\n",
       "      <th>t-SNE 1</th>\n",
       "      <th>t-SNE 2</th>\n",
       "      <th>semantic</th>\n",
       "    </tr>\n",
       "  </thead>\n",
       "  <tbody>\n",
       "    <tr>\n",
       "      <th>0</th>\n",
       "      <td>-15.662032</td>\n",
       "      <td>-55.225475</td>\n",
       "      <td>gene</td>\n",
       "    </tr>\n",
       "    <tr>\n",
       "      <th>1</th>\n",
       "      <td>25.096575</td>\n",
       "      <td>19.224897</td>\n",
       "      <td>phenotype</td>\n",
       "    </tr>\n",
       "    <tr>\n",
       "      <th>2</th>\n",
       "      <td>-34.995598</td>\n",
       "      <td>8.420835</td>\n",
       "      <td>phenotype</td>\n",
       "    </tr>\n",
       "    <tr>\n",
       "      <th>3</th>\n",
       "      <td>40.673149</td>\n",
       "      <td>-28.384464</td>\n",
       "      <td>phenotype</td>\n",
       "    </tr>\n",
       "    <tr>\n",
       "      <th>4</th>\n",
       "      <td>7.941656</td>\n",
       "      <td>-5.051728</td>\n",
       "      <td>gene</td>\n",
       "    </tr>\n",
       "    <tr>\n",
       "      <th>...</th>\n",
       "      <td>...</td>\n",
       "      <td>...</td>\n",
       "      <td>...</td>\n",
       "    </tr>\n",
       "    <tr>\n",
       "      <th>14877</th>\n",
       "      <td>7.376659</td>\n",
       "      <td>16.041193</td>\n",
       "      <td>phenotype</td>\n",
       "    </tr>\n",
       "    <tr>\n",
       "      <th>14878</th>\n",
       "      <td>18.292404</td>\n",
       "      <td>-27.252781</td>\n",
       "      <td>gene</td>\n",
       "    </tr>\n",
       "    <tr>\n",
       "      <th>14879</th>\n",
       "      <td>16.339119</td>\n",
       "      <td>5.835560</td>\n",
       "      <td>phenotype</td>\n",
       "    </tr>\n",
       "    <tr>\n",
       "      <th>14880</th>\n",
       "      <td>-57.266369</td>\n",
       "      <td>-2.536033</td>\n",
       "      <td>phenotype</td>\n",
       "    </tr>\n",
       "    <tr>\n",
       "      <th>14881</th>\n",
       "      <td>-67.892403</td>\n",
       "      <td>-3.940002</td>\n",
       "      <td>gene</td>\n",
       "    </tr>\n",
       "  </tbody>\n",
       "</table>\n",
       "<p>14882 rows × 3 columns</p>\n",
       "</div>"
      ],
      "text/plain": [
       "         t-SNE 1    t-SNE 2   semantic\n",
       "0     -15.662032 -55.225475       gene\n",
       "1      25.096575  19.224897  phenotype\n",
       "2     -34.995598   8.420835  phenotype\n",
       "3      40.673149 -28.384464  phenotype\n",
       "4       7.941656  -5.051728       gene\n",
       "...          ...        ...        ...\n",
       "14877   7.376659  16.041193  phenotype\n",
       "14878  18.292404 -27.252781       gene\n",
       "14879  16.339119   5.835560  phenotype\n",
       "14880 -57.266369  -2.536033  phenotype\n",
       "14881 -67.892403  -3.940002       gene\n",
       "\n",
       "[14882 rows x 3 columns]"
      ]
     },
     "execution_count": 53,
     "metadata": {},
     "output_type": "execute_result"
    }
   ],
   "source": [
    "tsne_df = pd.concat([comp_tsne, nodes[['semantic']]], axis=1)\n",
    "tsne_df"
   ]
  },
  {
   "cell_type": "code",
   "execution_count": 54,
   "metadata": {
    "execution": {
     "iopub.execute_input": "2024-08-07T09:59:04.429361Z",
     "iopub.status.busy": "2024-08-07T09:59:04.428361Z",
     "iopub.status.idle": "2024-08-07T09:59:05.380836Z",
     "shell.execute_reply": "2024-08-07T09:59:05.379836Z"
    }
   },
   "outputs": [
    {
     "data": {
      "image/png": "[encoded data removed]",
      "text/plain": [
       "<Figure size 800x800 with 1 Axes>"
      ]
     },
     "metadata": {},
     "output_type": "display_data"
    }
   ],
   "source": [
    "fig = plt.figure(figsize = (8,8))\n",
    "ax = fig.add_subplot(1, 1, 1)\n",
    "ax.set_xlabel('Principal Component 1', fontsize = 15)\n",
    "ax.set_ylabel('Principal Component 2', fontsize = 15)\n",
    "ax.set_title(f'Two component t-SNE on {dataset_prefix} {disease_prefix} dataset with embedding method {embedding_method}', fontsize = 12)\n",
    "\n",
    "unique_node_semantics = list(node_semantic_dict.values())\n",
    "colors = ['silver', 'indianred', 'peru', 'gold', 'olivedrab', 'cadetblue', 'skyblue', 'steelblue', 'royalblue', 'mediumpurple', 'palevioletred', 'lightpink']\n",
    "\n",
    "for target, color in zip(unique_node_semantics, colors):\n",
    "    indicesToKeep = tsne_df['semantic'] == target\n",
    "    ax.scatter(tsne_df.loc[indicesToKeep, 't-SNE 1'], tsne_df.loc[indicesToKeep, 't-SNE 2'], c = color, s = 50)\n",
    "    \n",
    "ax.legend(unique_node_semantics)\n",
    "ax.grid()\n",
    "\n",
    "plt.show()"
   ]
  }
 ],
 "metadata": {
  "kernelspec": {
   "display_name": "xaifo",
   "language": "python",
   "name": "python3"
  },
  "language_info": {
   "codemirror_mode": {
    "name": "ipython",
    "version": 3
   },
   "file_extension": ".py",
   "mimetype": "text/x-python",
   "name": "python",
   "nbconvert_exporter": "python",
   "pygments_lexer": "ipython3",
   "version": "3.10.11"
  }
 },
 "nbformat": 4,
 "nbformat_minor": 2
}
