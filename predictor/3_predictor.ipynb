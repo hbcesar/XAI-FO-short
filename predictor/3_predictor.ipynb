{
 "cells": [
  {
   "attachments": {},
   "cell_type": "markdown",
   "metadata": {},
   "source": [
    "Adapted by Rosa Zwart from Jupyter Notebooks found at https://github.com/PPerdomoQ/rare-disease-explainer"
   ]
  },
  {
   "attachments": {},
   "cell_type": "markdown",
   "metadata": {},
   "source": [
    "# Import Libraries"
   ]
  },
  {
   "cell_type": "code",
   "execution_count": 1,
   "metadata": {
    "execution": {
     "iopub.execute_input": "2024-08-07T12:23:19.642365Z",
     "iopub.status.busy": "2024-08-07T12:23:19.642365Z",
     "iopub.status.idle": "2024-08-07T12:23:28.485861Z",
     "shell.execute_reply": "2024-08-07T12:23:28.483861Z"
    }
   },
   "outputs": [],
   "source": [
    "import os\n",
    "import pandas as pd\n",
    "import numpy as np\n",
    "import networkx as nx\n",
    "import pickle\n",
    "\n",
    "import torch\n",
    "from torch.utils.data import DataLoader\n",
    "\n",
    "from deepsnap.dataset import GraphDataset\n",
    "from deepsnap.batch import Batch\n",
    "from deepsnap.graph import Graph\n",
    "\n",
    "from sklearn.metrics import roc_auc_score, roc_curve, f1_score, classification_report, confusion_matrix\n",
    "import matplotlib.pyplot as plt\n",
    "\n",
    "from gensim.models import KeyedVectors\n",
    "\n",
    "from sklearn.preprocessing import StandardScaler\n",
    "from sklearn.decomposition import PCA\n",
    "from sklearn.manifold import TSNE\n",
    "\n",
    "from gnn.linkpred_model import LinkPredModel, train, test\n",
    "import data_params as input_data_params"
   ]
  },
  {
   "cell_type": "code",
   "execution_count": 2,
   "metadata": {
    "execution": {
     "iopub.execute_input": "2024-08-07T12:23:28.489830Z",
     "iopub.status.busy": "2024-08-07T12:23:28.488828Z",
     "iopub.status.idle": "2024-08-07T12:23:28.500838Z",
     "shell.execute_reply": "2024-08-07T12:23:28.499828Z"
    }
   },
   "outputs": [
    {
     "name": "stdout",
     "output_type": "stream",
     "text": [
      "Using device: cpu\n"
     ]
    }
   ],
   "source": [
    "torch_device = torch.device('cuda' if torch.cuda.is_available() else 'cpu')\n",
    "print('Using device:', torch_device)"
   ]
  },
  {
   "cell_type": "markdown",
   "metadata": {},
   "source": [
    "# Set Parameters"
   ]
  },
  {
   "attachments": {},
   "cell_type": "markdown",
   "metadata": {},
   "source": [
    "Specify which dataset is used, 1 (original knowledge graph) or 2 (restructured knowledge graph)"
   ]
  },
  {
   "cell_type": "code",
   "execution_count": 3,
   "metadata": {
    "execution": {
     "iopub.execute_input": "2024-08-07T12:23:28.541408Z",
     "iopub.status.busy": "2024-08-07T12:23:28.541408Z",
     "iopub.status.idle": "2024-08-07T12:23:28.562126Z",
     "shell.execute_reply": "2024-08-07T12:23:28.561115Z"
    }
   },
   "outputs": [
    {
     "name": "stdout",
     "output_type": "stream",
     "text": [
      "restr hd\n"
     ]
    }
   ],
   "source": [
    "dataset_prefix = input_data_params.dataset\n",
    "\n",
    "disease_prefix = input_data_params.disease\n",
    "assert disease_prefix == 'dmd' or 'hd' or 'oi'\n",
    "\n",
    "embedding_method = 'e2v'\n",
    "\n",
    "seeded_emb = input_data_params.e2v_seed\n",
    "\n",
    "if seeded_emb:\n",
    "    fixed_emb = '_seeded'\n",
    "else:\n",
    "    fixed_emb = ''\n",
    "\n",
    "print(dataset_prefix, disease_prefix)"
   ]
  },
  {
   "cell_type": "markdown",
   "metadata": {},
   "source": [
    "# Set Folder"
   ]
  },
  {
   "cell_type": "code",
   "execution_count": 4,
   "metadata": {
    "execution": {
     "iopub.execute_input": "2024-08-07T12:23:28.566538Z",
     "iopub.status.busy": "2024-08-07T12:23:28.566538Z",
     "iopub.status.idle": "2024-08-07T12:23:28.577552Z",
     "shell.execute_reply": "2024-08-07T12:23:28.576565Z"
    }
   },
   "outputs": [
    {
     "name": "stdout",
     "output_type": "stream",
     "text": [
      "Output folder for dataset restr hd exists and will be used: C:\\Users\\rosa-\\OneDrive\\Documents\\GitHub\\XAI-FO\\output\\hd\\restr_e2v\n",
      "Output folder for predictions from dataset restr hd is created: C:\\Users\\rosa-\\OneDrive\\Documents\\GitHub\\XAI-FO\\output\\hd\\restr_e2v\\run_010\\pred\n"
     ]
    }
   ],
   "source": [
    "curr_working_dir = os.path.dirname(os.getcwd())\n",
    "curr_output_dir = os.path.join(curr_working_dir, 'output', disease_prefix)\n",
    "dataset_output_dir = os.path.join(curr_output_dir, f'{dataset_prefix}_{embedding_method}{fixed_emb}')\n",
    "\n",
    "if not os.path.exists(dataset_output_dir):\n",
    "    print('First, run the edge2vec embedding script. Then, run this script.')\n",
    "else:\n",
    "    print(f'Output folder for dataset {dataset_prefix} {disease_prefix} exists and will be used: {dataset_output_dir}')\n",
    "    \n",
    "run_folders_list = []\n",
    "for item in os.listdir(dataset_output_dir):\n",
    "    curr_path = os.path.join(dataset_output_dir, item)\n",
    "    if os.path.isdir(curr_path) and 'run' in item:\n",
    "        run_folders_list.append(item)\n",
    "        \n",
    "if len(run_folders_list) > 0:\n",
    "    run_folders_list.sort(reverse=True)\n",
    "    latest_run = run_folders_list[0]\n",
    "    \n",
    "    run_dir = os.path.join(dataset_output_dir, latest_run)\n",
    "    \n",
    "    pred_output_dir = os.path.join(run_dir, 'pred')\n",
    "    if not os.path.exists(pred_output_dir):\n",
    "        os.mkdir(pred_output_dir)\n",
    "        print(f'Output folder for predictions from dataset {dataset_prefix} {disease_prefix} is created: {pred_output_dir}')\n",
    "    else:\n",
    "        print(f'Output folder for predictions from dataset {dataset_prefix} {disease_prefix} already exists and will be used: {pred_output_dir}')\n",
    "    \n",
    "else:\n",
    "    print('First, run the edge2vec embedding script. Then, run this script.')"
   ]
  },
  {
   "cell_type": "code",
   "execution_count": 5,
   "metadata": {
    "execution": {
     "iopub.execute_input": "2024-08-07T12:23:28.581551Z",
     "iopub.status.busy": "2024-08-07T12:23:28.580555Z",
     "iopub.status.idle": "2024-08-07T12:23:28.593550Z",
     "shell.execute_reply": "2024-08-07T12:23:28.592560Z"
    }
   },
   "outputs": [
    {
     "data": {
      "text/plain": [
       "'C:\\\\Users\\\\rosa-\\\\OneDrive\\\\Documents\\\\GitHub\\\\XAI-FO\\\\output\\\\hd\\\\restr_e2v\\\\run_010'"
      ]
     },
     "execution_count": 5,
     "metadata": {},
     "output_type": "execute_result"
    }
   ],
   "source": [
    "run_dir"
   ]
  },
  {
   "attachments": {},
   "cell_type": "markdown",
   "metadata": {},
   "source": [
    "# Load Data"
   ]
  },
  {
   "cell_type": "markdown",
   "metadata": {},
   "source": [
    "Load all nodes"
   ]
  },
  {
   "cell_type": "code",
   "execution_count": 6,
   "metadata": {
    "execution": {
     "iopub.execute_input": "2024-08-07T12:23:28.597550Z",
     "iopub.status.busy": "2024-08-07T12:23:28.597550Z",
     "iopub.status.idle": "2024-08-07T12:23:28.640747Z",
     "shell.execute_reply": "2024-08-07T12:23:28.639770Z"
    }
   },
   "outputs": [
    {
     "data": {
      "text/html": [
       "<div>\n",
       "<style scoped>\n",
       "    .dataframe tbody tr th:only-of-type {\n",
       "        vertical-align: middle;\n",
       "    }\n",
       "\n",
       "    .dataframe tbody tr th {\n",
       "        vertical-align: top;\n",
       "    }\n",
       "\n",
       "    .dataframe thead th {\n",
       "        text-align: right;\n",
       "    }\n",
       "</style>\n",
       "<table border=\"1\" class=\"dataframe\">\n",
       "  <thead>\n",
       "    <tr style=\"text-align: right;\">\n",
       "      <th></th>\n",
       "      <th>id</th>\n",
       "      <th>semantic</th>\n",
       "      <th>label</th>\n",
       "      <th>semantic_id</th>\n",
       "    </tr>\n",
       "  </thead>\n",
       "  <tbody>\n",
       "    <tr>\n",
       "      <th>0</th>\n",
       "      <td>ENSEMBL:ENSSSCG00000033987</td>\n",
       "      <td>gene</td>\n",
       "      <td>UBE2E3</td>\n",
       "      <td>4</td>\n",
       "    </tr>\n",
       "    <tr>\n",
       "      <th>1</th>\n",
       "      <td>MP:0000790</td>\n",
       "      <td>phenotype</td>\n",
       "      <td>abnormal stratification in cerebral cortex</td>\n",
       "      <td>8</td>\n",
       "    </tr>\n",
       "    <tr>\n",
       "      <th>2</th>\n",
       "      <td>ZP:0011626</td>\n",
       "      <td>phenotype</td>\n",
       "      <td>cell trunk apoptotic, abnormal</td>\n",
       "      <td>8</td>\n",
       "    </tr>\n",
       "    <tr>\n",
       "      <th>3</th>\n",
       "      <td>ZP:0019272</td>\n",
       "      <td>phenotype</td>\n",
       "      <td>pronephric nephron tubule epithelial cell diff...</td>\n",
       "      <td>8</td>\n",
       "    </tr>\n",
       "    <tr>\n",
       "      <th>4</th>\n",
       "      <td>ENSEMBL:ENSACAG00000007327</td>\n",
       "      <td>gene</td>\n",
       "      <td>ENSEMBL:ENSACAG00000007327</td>\n",
       "      <td>4</td>\n",
       "    </tr>\n",
       "    <tr>\n",
       "      <th>...</th>\n",
       "      <td>...</td>\n",
       "      <td>...</td>\n",
       "      <td>...</td>\n",
       "      <td>...</td>\n",
       "    </tr>\n",
       "    <tr>\n",
       "      <th>14877</th>\n",
       "      <td>MP:0008584</td>\n",
       "      <td>phenotype</td>\n",
       "      <td>photoreceptor outer segment degeneration</td>\n",
       "      <td>8</td>\n",
       "    </tr>\n",
       "    <tr>\n",
       "      <th>14878</th>\n",
       "      <td>ENSEMBL:ENSFCAG00000011716</td>\n",
       "      <td>gene</td>\n",
       "      <td>ENSEMBL:ENSFCAG00000011716</td>\n",
       "      <td>4</td>\n",
       "    </tr>\n",
       "    <tr>\n",
       "      <th>14879</th>\n",
       "      <td>MP:0009412</td>\n",
       "      <td>phenotype</td>\n",
       "      <td>skeletal muscle fiber degeneration</td>\n",
       "      <td>8</td>\n",
       "    </tr>\n",
       "    <tr>\n",
       "      <th>14880</th>\n",
       "      <td>ZP:0002448</td>\n",
       "      <td>phenotype</td>\n",
       "      <td>retinal outer nuclear layer disorganized, abno...</td>\n",
       "      <td>8</td>\n",
       "    </tr>\n",
       "    <tr>\n",
       "      <th>14881</th>\n",
       "      <td>ENSEMBL:ENSCAFG00000012067</td>\n",
       "      <td>gene</td>\n",
       "      <td>ENSEMBL:ENSCAFG00000012067</td>\n",
       "      <td>4</td>\n",
       "    </tr>\n",
       "  </tbody>\n",
       "</table>\n",
       "<p>14882 rows × 4 columns</p>\n",
       "</div>"
      ],
      "text/plain": [
       "                               id   semantic  \\\n",
       "0      ENSEMBL:ENSSSCG00000033987       gene   \n",
       "1                      MP:0000790  phenotype   \n",
       "2                      ZP:0011626  phenotype   \n",
       "3                      ZP:0019272  phenotype   \n",
       "4      ENSEMBL:ENSACAG00000007327       gene   \n",
       "...                           ...        ...   \n",
       "14877                  MP:0008584  phenotype   \n",
       "14878  ENSEMBL:ENSFCAG00000011716       gene   \n",
       "14879                  MP:0009412  phenotype   \n",
       "14880                  ZP:0002448  phenotype   \n",
       "14881  ENSEMBL:ENSCAFG00000012067       gene   \n",
       "\n",
       "                                                   label  semantic_id  \n",
       "0                                                 UBE2E3            4  \n",
       "1             abnormal stratification in cerebral cortex            8  \n",
       "2                         cell trunk apoptotic, abnormal            8  \n",
       "3      pronephric nephron tubule epithelial cell diff...            8  \n",
       "4                             ENSEMBL:ENSACAG00000007327            4  \n",
       "...                                                  ...          ...  \n",
       "14877           photoreceptor outer segment degeneration            8  \n",
       "14878                         ENSEMBL:ENSFCAG00000011716            4  \n",
       "14879                 skeletal muscle fiber degeneration            8  \n",
       "14880  retinal outer nuclear layer disorganized, abno...            8  \n",
       "14881                         ENSEMBL:ENSCAFG00000012067            4  \n",
       "\n",
       "[14882 rows x 4 columns]"
      ]
     },
     "execution_count": 6,
     "metadata": {},
     "output_type": "execute_result"
    }
   ],
   "source": [
    "nodes = pd.read_csv(f'../output/{disease_prefix}/{dataset_prefix}_{disease_prefix}_indexed_nodes.csv')\n",
    "nodes.drop('index_id', axis=1, inplace=True)\n",
    "nodes['semantic'] = nodes['semantic'].astype('category')\n",
    "nodes"
   ]
  },
  {
   "cell_type": "code",
   "execution_count": 7,
   "metadata": {
    "execution": {
     "iopub.execute_input": "2024-08-07T12:23:28.644761Z",
     "iopub.status.busy": "2024-08-07T12:23:28.644761Z",
     "iopub.status.idle": "2024-08-07T12:23:28.671753Z",
     "shell.execute_reply": "2024-08-07T12:23:28.670796Z"
    }
   },
   "outputs": [
    {
     "data": {
      "text/html": [
       "<div>\n",
       "<style scoped>\n",
       "    .dataframe tbody tr th:only-of-type {\n",
       "        vertical-align: middle;\n",
       "    }\n",
       "\n",
       "    .dataframe tbody tr th {\n",
       "        vertical-align: top;\n",
       "    }\n",
       "\n",
       "    .dataframe thead th {\n",
       "        text-align: right;\n",
       "    }\n",
       "</style>\n",
       "<table border=\"1\" class=\"dataframe\">\n",
       "  <thead>\n",
       "    <tr style=\"text-align: right;\">\n",
       "      <th></th>\n",
       "      <th>id</th>\n",
       "      <th>semantic</th>\n",
       "      <th>label</th>\n",
       "      <th>semantic_id</th>\n",
       "    </tr>\n",
       "  </thead>\n",
       "  <tbody>\n",
       "    <tr>\n",
       "      <th>57</th>\n",
       "      <td>522</td>\n",
       "      <td>drug</td>\n",
       "      <td>carvedilol</td>\n",
       "      <td>3</td>\n",
       "    </tr>\n",
       "    <tr>\n",
       "      <th>190</th>\n",
       "      <td>5001</td>\n",
       "      <td>drug</td>\n",
       "      <td>eluxadoline</td>\n",
       "      <td>3</td>\n",
       "    </tr>\n",
       "    <tr>\n",
       "      <th>195</th>\n",
       "      <td>114</td>\n",
       "      <td>drug</td>\n",
       "      <td>alfentanil</td>\n",
       "      <td>3</td>\n",
       "    </tr>\n",
       "    <tr>\n",
       "      <th>283</th>\n",
       "      <td>2119</td>\n",
       "      <td>drug</td>\n",
       "      <td>phenazocine</td>\n",
       "      <td>3</td>\n",
       "    </tr>\n",
       "    <tr>\n",
       "      <th>512</th>\n",
       "      <td>5256</td>\n",
       "      <td>drug</td>\n",
       "      <td>copanlisib</td>\n",
       "      <td>3</td>\n",
       "    </tr>\n",
       "    <tr>\n",
       "      <th>...</th>\n",
       "      <td>...</td>\n",
       "      <td>...</td>\n",
       "      <td>...</td>\n",
       "      <td>...</td>\n",
       "    </tr>\n",
       "    <tr>\n",
       "      <th>14735</th>\n",
       "      <td>3157</td>\n",
       "      <td>drug</td>\n",
       "      <td>diosmin</td>\n",
       "      <td>3</td>\n",
       "    </tr>\n",
       "    <tr>\n",
       "      <th>14758</th>\n",
       "      <td>1805</td>\n",
       "      <td>drug</td>\n",
       "      <td>mifepristone</td>\n",
       "      <td>3</td>\n",
       "    </tr>\n",
       "    <tr>\n",
       "      <th>14785</th>\n",
       "      <td>1821</td>\n",
       "      <td>drug</td>\n",
       "      <td>mitoxantrone</td>\n",
       "      <td>3</td>\n",
       "    </tr>\n",
       "    <tr>\n",
       "      <th>14851</th>\n",
       "      <td>4118</td>\n",
       "      <td>drug</td>\n",
       "      <td>pazopanib</td>\n",
       "      <td>3</td>\n",
       "    </tr>\n",
       "    <tr>\n",
       "      <th>14873</th>\n",
       "      <td>91</td>\n",
       "      <td>drug</td>\n",
       "      <td>adenosine triphosphate</td>\n",
       "      <td>3</td>\n",
       "    </tr>\n",
       "  </tbody>\n",
       "</table>\n",
       "<p>215 rows × 4 columns</p>\n",
       "</div>"
      ],
      "text/plain": [
       "         id semantic                   label  semantic_id\n",
       "57      522     drug              carvedilol            3\n",
       "190    5001     drug             eluxadoline            3\n",
       "195     114     drug              alfentanil            3\n",
       "283    2119     drug             phenazocine            3\n",
       "512    5256     drug              copanlisib            3\n",
       "...     ...      ...                     ...          ...\n",
       "14735  3157     drug                 diosmin            3\n",
       "14758  1805     drug            mifepristone            3\n",
       "14785  1821     drug            mitoxantrone            3\n",
       "14851  4118     drug               pazopanib            3\n",
       "14873    91     drug  adenosine triphosphate            3\n",
       "\n",
       "[215 rows x 4 columns]"
      ]
     },
     "execution_count": 7,
     "metadata": {},
     "output_type": "execute_result"
    }
   ],
   "source": [
    "if dataset_prefix == 'prev':\n",
    "    drug_semantic_name = 'DRUG'\n",
    "else:\n",
    "    drug_semantic_name = 'drug'\n",
    "    \n",
    "nodes[nodes['semantic'] == drug_semantic_name]"
   ]
  },
  {
   "cell_type": "code",
   "execution_count": 8,
   "metadata": {
    "execution": {
     "iopub.execute_input": "2024-08-07T12:23:28.675785Z",
     "iopub.status.busy": "2024-08-07T12:23:28.675785Z",
     "iopub.status.idle": "2024-08-07T12:23:28.686770Z",
     "shell.execute_reply": "2024-08-07T12:23:28.685795Z"
    }
   },
   "outputs": [
    {
     "data": {
      "text/html": [
       "<div>\n",
       "<style scoped>\n",
       "    .dataframe tbody tr th:only-of-type {\n",
       "        vertical-align: middle;\n",
       "    }\n",
       "\n",
       "    .dataframe tbody tr th {\n",
       "        vertical-align: top;\n",
       "    }\n",
       "\n",
       "    .dataframe thead th {\n",
       "        text-align: right;\n",
       "    }\n",
       "</style>\n",
       "<table border=\"1\" class=\"dataframe\">\n",
       "  <thead>\n",
       "    <tr style=\"text-align: right;\">\n",
       "      <th></th>\n",
       "      <th>id</th>\n",
       "      <th>semantic</th>\n",
       "      <th>label</th>\n",
       "      <th>semantic_id</th>\n",
       "    </tr>\n",
       "  </thead>\n",
       "  <tbody>\n",
       "    <tr>\n",
       "      <th>24</th>\n",
       "      <td>ZP:0000378</td>\n",
       "      <td>phenotype</td>\n",
       "      <td>cardiac jelly increased volume, abnormal</td>\n",
       "      <td>8</td>\n",
       "    </tr>\n",
       "  </tbody>\n",
       "</table>\n",
       "</div>"
      ],
      "text/plain": [
       "            id   semantic                                     label  \\\n",
       "24  ZP:0000378  phenotype  cardiac jelly increased volume, abnormal   \n",
       "\n",
       "    semantic_id  \n",
       "24            8  "
      ]
     },
     "execution_count": 8,
     "metadata": {},
     "output_type": "execute_result"
    }
   ],
   "source": [
    "nodes.iloc[[24]]"
   ]
  },
  {
   "cell_type": "markdown",
   "metadata": {},
   "source": [
    "The dictionary below can be used as mapping between generated semantic ID and semantic group label."
   ]
  },
  {
   "cell_type": "code",
   "execution_count": 9,
   "metadata": {
    "execution": {
     "iopub.execute_input": "2024-08-07T12:23:28.691785Z",
     "iopub.status.busy": "2024-08-07T12:23:28.690771Z",
     "iopub.status.idle": "2024-08-07T12:23:28.702348Z",
     "shell.execute_reply": "2024-08-07T12:23:28.701363Z"
    }
   },
   "outputs": [
    {
     "data": {
      "text/plain": [
       "{4: 'gene',\n",
       " 8: 'phenotype',\n",
       " 3: 'drug',\n",
       " 7: 'molecular function',\n",
       " 0: 'biological artifact',\n",
       " 9: 'taxon',\n",
       " 10: 'variant',\n",
       " 6: 'genotype',\n",
       " 5: 'gene product',\n",
       " 1: 'biological process',\n",
       " 2: 'disease'}"
      ]
     },
     "execution_count": 9,
     "metadata": {},
     "output_type": "execute_result"
    }
   ],
   "source": [
    "node_semantic_dict = dict(zip(nodes['semantic_id'], nodes['semantic']))\n",
    "node_semantic_dict"
   ]
  },
  {
   "cell_type": "markdown",
   "metadata": {},
   "source": [
    "Load the node embeddings"
   ]
  },
  {
   "cell_type": "code",
   "execution_count": 10,
   "metadata": {
    "execution": {
     "iopub.execute_input": "2024-08-07T12:23:28.706363Z",
     "iopub.status.busy": "2024-08-07T12:23:28.706363Z",
     "iopub.status.idle": "2024-08-07T12:23:28.717353Z",
     "shell.execute_reply": "2024-08-07T12:23:28.716375Z"
    }
   },
   "outputs": [],
   "source": [
    "def loadEdge2VecEmbedding(): \n",
    "    node_feat = KeyedVectors.load(f'{run_dir}/w2v_{dataset_prefix}_{disease_prefix}.dvectors', mmap='r')\n",
    "    e2v_embedding = pd.DataFrame(columns = ['Node', 'Embedding'])\n",
    "    for idx, key in enumerate(node_feat.index_to_key):\n",
    "        e2v_embedding.loc[int(key)] = pd.Series({'Node':int(key), 'Embedding':list(node_feat[key])})\n",
    "        \n",
    "    return e2v_embedding.sort_values('Node')"
   ]
  },
  {
   "cell_type": "code",
   "execution_count": 11,
   "metadata": {
    "execution": {
     "iopub.execute_input": "2024-08-07T12:23:28.721382Z",
     "iopub.status.busy": "2024-08-07T12:23:28.720359Z",
     "iopub.status.idle": "2024-08-07T12:24:03.426321Z",
     "shell.execute_reply": "2024-08-07T12:24:03.425303Z"
    }
   },
   "outputs": [
    {
     "data": {
      "text/html": [
       "<div>\n",
       "<style scoped>\n",
       "    .dataframe tbody tr th:only-of-type {\n",
       "        vertical-align: middle;\n",
       "    }\n",
       "\n",
       "    .dataframe tbody tr th {\n",
       "        vertical-align: top;\n",
       "    }\n",
       "\n",
       "    .dataframe thead th {\n",
       "        text-align: right;\n",
       "    }\n",
       "</style>\n",
       "<table border=\"1\" class=\"dataframe\">\n",
       "  <thead>\n",
       "    <tr style=\"text-align: right;\">\n",
       "      <th></th>\n",
       "      <th>Node</th>\n",
       "      <th>Embedding</th>\n",
       "    </tr>\n",
       "  </thead>\n",
       "  <tbody>\n",
       "    <tr>\n",
       "      <th>0</th>\n",
       "      <td>0</td>\n",
       "      <td>[0.13252565, -0.1611464, 0.008999971, 0.025334...</td>\n",
       "    </tr>\n",
       "    <tr>\n",
       "      <th>1</th>\n",
       "      <td>1</td>\n",
       "      <td>[0.13853446, -0.20387155, -0.006571308, 0.0561...</td>\n",
       "    </tr>\n",
       "    <tr>\n",
       "      <th>2</th>\n",
       "      <td>2</td>\n",
       "      <td>[0.13825284, -0.20753926, 0.0029043716, 0.0365...</td>\n",
       "    </tr>\n",
       "    <tr>\n",
       "      <th>3</th>\n",
       "      <td>3</td>\n",
       "      <td>[0.110843755, -0.13675536, -0.058031283, 0.038...</td>\n",
       "    </tr>\n",
       "    <tr>\n",
       "      <th>4</th>\n",
       "      <td>4</td>\n",
       "      <td>[0.058257855, -0.20879067, 0.08991305, 0.01281...</td>\n",
       "    </tr>\n",
       "    <tr>\n",
       "      <th>...</th>\n",
       "      <td>...</td>\n",
       "      <td>...</td>\n",
       "    </tr>\n",
       "    <tr>\n",
       "      <th>14877</th>\n",
       "      <td>14877</td>\n",
       "      <td>[0.0693241, -0.0881092, -0.015356085, 0.063320...</td>\n",
       "    </tr>\n",
       "    <tr>\n",
       "      <th>14878</th>\n",
       "      <td>14878</td>\n",
       "      <td>[0.15323506, -0.2183386, -0.02077197, 0.056754...</td>\n",
       "    </tr>\n",
       "    <tr>\n",
       "      <th>14879</th>\n",
       "      <td>14879</td>\n",
       "      <td>[0.12536395, -0.15534963, -0.022119183, 0.0664...</td>\n",
       "    </tr>\n",
       "    <tr>\n",
       "      <th>14880</th>\n",
       "      <td>14880</td>\n",
       "      <td>[0.21742862, -0.33455265, -0.10267707, -0.1389...</td>\n",
       "    </tr>\n",
       "    <tr>\n",
       "      <th>14881</th>\n",
       "      <td>14881</td>\n",
       "      <td>[0.14983824, -0.20142841, -0.037275784, 0.0660...</td>\n",
       "    </tr>\n",
       "  </tbody>\n",
       "</table>\n",
       "<p>14882 rows × 2 columns</p>\n",
       "</div>"
      ],
      "text/plain": [
       "        Node                                          Embedding\n",
       "0          0  [0.13252565, -0.1611464, 0.008999971, 0.025334...\n",
       "1          1  [0.13853446, -0.20387155, -0.006571308, 0.0561...\n",
       "2          2  [0.13825284, -0.20753926, 0.0029043716, 0.0365...\n",
       "3          3  [0.110843755, -0.13675536, -0.058031283, 0.038...\n",
       "4          4  [0.058257855, -0.20879067, 0.08991305, 0.01281...\n",
       "...      ...                                                ...\n",
       "14877  14877  [0.0693241, -0.0881092, -0.015356085, 0.063320...\n",
       "14878  14878  [0.15323506, -0.2183386, -0.02077197, 0.056754...\n",
       "14879  14879  [0.12536395, -0.15534963, -0.022119183, 0.0664...\n",
       "14880  14880  [0.21742862, -0.33455265, -0.10267707, -0.1389...\n",
       "14881  14881  [0.14983824, -0.20142841, -0.037275784, 0.0660...\n",
       "\n",
       "[14882 rows x 2 columns]"
      ]
     },
     "execution_count": 11,
     "metadata": {},
     "output_type": "execute_result"
    }
   ],
   "source": [
    "embedding = loadEdge2VecEmbedding()\n",
    "embedding"
   ]
  },
  {
   "cell_type": "markdown",
   "metadata": {},
   "source": [
    "Load the edges"
   ]
  },
  {
   "cell_type": "code",
   "execution_count": 12,
   "metadata": {
    "execution": {
     "iopub.execute_input": "2024-08-07T12:24:03.432297Z",
     "iopub.status.busy": "2024-08-07T12:24:03.431296Z",
     "iopub.status.idle": "2024-08-07T12:24:03.725588Z",
     "shell.execute_reply": "2024-08-07T12:24:03.724583Z"
    }
   },
   "outputs": [
    {
     "data": {
      "text/html": [
       "<div>\n",
       "<style scoped>\n",
       "    .dataframe tbody tr th:only-of-type {\n",
       "        vertical-align: middle;\n",
       "    }\n",
       "\n",
       "    .dataframe tbody tr th {\n",
       "        vertical-align: top;\n",
       "    }\n",
       "\n",
       "    .dataframe thead th {\n",
       "        text-align: right;\n",
       "    }\n",
       "</style>\n",
       "<table border=\"1\" class=\"dataframe\">\n",
       "  <thead>\n",
       "    <tr style=\"text-align: right;\">\n",
       "      <th></th>\n",
       "      <th>head</th>\n",
       "      <th>label_head</th>\n",
       "      <th>class_head</th>\n",
       "      <th>index_head</th>\n",
       "      <th>relation</th>\n",
       "      <th>tail</th>\n",
       "      <th>label_tail</th>\n",
       "      <th>class_tail</th>\n",
       "      <th>index_tail</th>\n",
       "      <th>type</th>\n",
       "    </tr>\n",
       "  </thead>\n",
       "  <tbody>\n",
       "    <tr>\n",
       "      <th>0</th>\n",
       "      <td>HGNC:11280</td>\n",
       "      <td>SQSTM1</td>\n",
       "      <td>4</td>\n",
       "      <td>9467</td>\n",
       "      <td>interacts with</td>\n",
       "      <td>HGNC:9539</td>\n",
       "      <td>PSMB2</td>\n",
       "      <td>4</td>\n",
       "      <td>12355</td>\n",
       "      <td>0</td>\n",
       "    </tr>\n",
       "    <tr>\n",
       "      <th>1</th>\n",
       "      <td>FlyBase:FBgn0264855</td>\n",
       "      <td>AP-2alpha</td>\n",
       "      <td>4</td>\n",
       "      <td>6589</td>\n",
       "      <td>in orthology relationship with</td>\n",
       "      <td>MGI:101921</td>\n",
       "      <td>Ap2a1</td>\n",
       "      <td>4</td>\n",
       "      <td>10645</td>\n",
       "      <td>1</td>\n",
       "    </tr>\n",
       "    <tr>\n",
       "      <th>2</th>\n",
       "      <td>SGD:S000001709</td>\n",
       "      <td>VPS1</td>\n",
       "      <td>4</td>\n",
       "      <td>9926</td>\n",
       "      <td>in orthology relationship with</td>\n",
       "      <td>WormBase:WBGene00001134</td>\n",
       "      <td>eat-3</td>\n",
       "      <td>4</td>\n",
       "      <td>8881</td>\n",
       "      <td>1</td>\n",
       "    </tr>\n",
       "    <tr>\n",
       "      <th>3</th>\n",
       "      <td>RGD:1595923</td>\n",
       "      <td>RT1-A2</td>\n",
       "      <td>4</td>\n",
       "      <td>9824</td>\n",
       "      <td>in orthology relationship with</td>\n",
       "      <td>ENSEMBL:ENSDARG00000115781</td>\n",
       "      <td>CR339041.3</td>\n",
       "      <td>4</td>\n",
       "      <td>14166</td>\n",
       "      <td>1</td>\n",
       "    </tr>\n",
       "    <tr>\n",
       "      <th>4</th>\n",
       "      <td>WormBase:WBGene00012735</td>\n",
       "      <td>sptf-3</td>\n",
       "      <td>4</td>\n",
       "      <td>1165</td>\n",
       "      <td>in orthology relationship with</td>\n",
       "      <td>FlyBase:CG5669</td>\n",
       "      <td>FlyBase:CG5669</td>\n",
       "      <td>4</td>\n",
       "      <td>3446</td>\n",
       "      <td>1</td>\n",
       "    </tr>\n",
       "    <tr>\n",
       "      <th>...</th>\n",
       "      <td>...</td>\n",
       "      <td>...</td>\n",
       "      <td>...</td>\n",
       "      <td>...</td>\n",
       "      <td>...</td>\n",
       "      <td>...</td>\n",
       "      <td>...</td>\n",
       "      <td>...</td>\n",
       "      <td>...</td>\n",
       "      <td>...</td>\n",
       "    </tr>\n",
       "    <tr>\n",
       "      <th>230223</th>\n",
       "      <td>ENSEMBL:ENSGALG00000003800</td>\n",
       "      <td>PABPC4</td>\n",
       "      <td>4</td>\n",
       "      <td>942</td>\n",
       "      <td>in orthology relationship with</td>\n",
       "      <td>ENSEMBL:ENSECAG00000009396</td>\n",
       "      <td>ENSEMBL:ENSECAG00000009396</td>\n",
       "      <td>4</td>\n",
       "      <td>7423</td>\n",
       "      <td>1</td>\n",
       "    </tr>\n",
       "    <tr>\n",
       "      <th>230224</th>\n",
       "      <td>ENSEMBL:ENSECAG00000006095</td>\n",
       "      <td>ENSEMBL:ENSECAG00000006095</td>\n",
       "      <td>4</td>\n",
       "      <td>541</td>\n",
       "      <td>in orthology relationship with</td>\n",
       "      <td>ENSEMBL:ENSGALG00000050515</td>\n",
       "      <td>A0A3Q2UAA5</td>\n",
       "      <td>4</td>\n",
       "      <td>13107</td>\n",
       "      <td>1</td>\n",
       "    </tr>\n",
       "    <tr>\n",
       "      <th>230225</th>\n",
       "      <td>ZFIN:ZDB-GENE-060825-293</td>\n",
       "      <td>rab9a</td>\n",
       "      <td>4</td>\n",
       "      <td>4090</td>\n",
       "      <td>in orthology relationship with</td>\n",
       "      <td>ENSEMBL:ENSCAFG00000011750</td>\n",
       "      <td>ENSEMBL:ENSCAFG00000011750</td>\n",
       "      <td>4</td>\n",
       "      <td>3844</td>\n",
       "      <td>1</td>\n",
       "    </tr>\n",
       "    <tr>\n",
       "      <th>230226</th>\n",
       "      <td>ENSEMBL:ENSGALG00000008534</td>\n",
       "      <td>POLR2H</td>\n",
       "      <td>4</td>\n",
       "      <td>11884</td>\n",
       "      <td>in orthology relationship with</td>\n",
       "      <td>ZFIN:ZDB-GENE-050417-66</td>\n",
       "      <td>polr2h</td>\n",
       "      <td>4</td>\n",
       "      <td>3372</td>\n",
       "      <td>1</td>\n",
       "    </tr>\n",
       "    <tr>\n",
       "      <th>230227</th>\n",
       "      <td>WormBase:WBGene00001134</td>\n",
       "      <td>eat-3</td>\n",
       "      <td>4</td>\n",
       "      <td>8881</td>\n",
       "      <td>in orthology relationship with</td>\n",
       "      <td>ENSEMBL:ENSFCAG00000000695</td>\n",
       "      <td>ENSEMBL:ENSFCAG00000000695</td>\n",
       "      <td>4</td>\n",
       "      <td>14385</td>\n",
       "      <td>1</td>\n",
       "    </tr>\n",
       "  </tbody>\n",
       "</table>\n",
       "<p>230228 rows × 10 columns</p>\n",
       "</div>"
      ],
      "text/plain": [
       "                              head                  label_head  class_head  \\\n",
       "0                       HGNC:11280                      SQSTM1           4   \n",
       "1              FlyBase:FBgn0264855                   AP-2alpha           4   \n",
       "2                   SGD:S000001709                        VPS1           4   \n",
       "3                      RGD:1595923                      RT1-A2           4   \n",
       "4          WormBase:WBGene00012735                      sptf-3           4   \n",
       "...                            ...                         ...         ...   \n",
       "230223  ENSEMBL:ENSGALG00000003800                      PABPC4           4   \n",
       "230224  ENSEMBL:ENSECAG00000006095  ENSEMBL:ENSECAG00000006095           4   \n",
       "230225    ZFIN:ZDB-GENE-060825-293                       rab9a           4   \n",
       "230226  ENSEMBL:ENSGALG00000008534                      POLR2H           4   \n",
       "230227     WormBase:WBGene00001134                       eat-3           4   \n",
       "\n",
       "        index_head                        relation  \\\n",
       "0             9467                  interacts with   \n",
       "1             6589  in orthology relationship with   \n",
       "2             9926  in orthology relationship with   \n",
       "3             9824  in orthology relationship with   \n",
       "4             1165  in orthology relationship with   \n",
       "...            ...                             ...   \n",
       "230223         942  in orthology relationship with   \n",
       "230224         541  in orthology relationship with   \n",
       "230225        4090  in orthology relationship with   \n",
       "230226       11884  in orthology relationship with   \n",
       "230227        8881  in orthology relationship with   \n",
       "\n",
       "                              tail                  label_tail  class_tail  \\\n",
       "0                        HGNC:9539                       PSMB2           4   \n",
       "1                       MGI:101921                       Ap2a1           4   \n",
       "2          WormBase:WBGene00001134                       eat-3           4   \n",
       "3       ENSEMBL:ENSDARG00000115781                  CR339041.3           4   \n",
       "4                   FlyBase:CG5669              FlyBase:CG5669           4   \n",
       "...                            ...                         ...         ...   \n",
       "230223  ENSEMBL:ENSECAG00000009396  ENSEMBL:ENSECAG00000009396           4   \n",
       "230224  ENSEMBL:ENSGALG00000050515                  A0A3Q2UAA5           4   \n",
       "230225  ENSEMBL:ENSCAFG00000011750  ENSEMBL:ENSCAFG00000011750           4   \n",
       "230226     ZFIN:ZDB-GENE-050417-66                      polr2h           4   \n",
       "230227  ENSEMBL:ENSFCAG00000000695  ENSEMBL:ENSFCAG00000000695           4   \n",
       "\n",
       "        index_tail  type  \n",
       "0            12355     0  \n",
       "1            10645     1  \n",
       "2             8881     1  \n",
       "3            14166     1  \n",
       "4             3446     1  \n",
       "...            ...   ...  \n",
       "230223        7423     1  \n",
       "230224       13107     1  \n",
       "230225        3844     1  \n",
       "230226        3372     1  \n",
       "230227       14385     1  \n",
       "\n",
       "[230228 rows x 10 columns]"
      ]
     },
     "execution_count": 12,
     "metadata": {},
     "output_type": "execute_result"
    }
   ],
   "source": [
    "edges = pd.read_csv(f'../output/{disease_prefix}/{dataset_prefix}_{disease_prefix}_indexed_edges.csv')\n",
    "edges"
   ]
  },
  {
   "cell_type": "code",
   "execution_count": 13,
   "metadata": {
    "execution": {
     "iopub.execute_input": "2024-08-07T12:24:03.730586Z",
     "iopub.status.busy": "2024-08-07T12:24:03.729586Z",
     "iopub.status.idle": "2024-08-07T12:24:03.757267Z",
     "shell.execute_reply": "2024-08-07T12:24:03.756277Z"
    }
   },
   "outputs": [
    {
     "data": {
      "text/html": [
       "<div>\n",
       "<style scoped>\n",
       "    .dataframe tbody tr th:only-of-type {\n",
       "        vertical-align: middle;\n",
       "    }\n",
       "\n",
       "    .dataframe tbody tr th {\n",
       "        vertical-align: top;\n",
       "    }\n",
       "\n",
       "    .dataframe thead th {\n",
       "        text-align: right;\n",
       "    }\n",
       "</style>\n",
       "<table border=\"1\" class=\"dataframe\">\n",
       "  <thead>\n",
       "    <tr style=\"text-align: right;\">\n",
       "      <th></th>\n",
       "      <th>head</th>\n",
       "      <th>label_head</th>\n",
       "      <th>class_head</th>\n",
       "      <th>index_head</th>\n",
       "      <th>relation</th>\n",
       "      <th>tail</th>\n",
       "      <th>label_tail</th>\n",
       "      <th>class_tail</th>\n",
       "      <th>index_tail</th>\n",
       "      <th>type</th>\n",
       "    </tr>\n",
       "  </thead>\n",
       "  <tbody>\n",
       "    <tr>\n",
       "      <th>48485</th>\n",
       "      <td>HGNC:144</td>\n",
       "      <td>ACTG1</td>\n",
       "      <td>4</td>\n",
       "      <td>6880</td>\n",
       "      <td>causes condition</td>\n",
       "      <td>HP:0002381</td>\n",
       "      <td>Aphasia</td>\n",
       "      <td>8</td>\n",
       "      <td>2504</td>\n",
       "      <td>2</td>\n",
       "    </tr>\n",
       "    <tr>\n",
       "      <th>54410</th>\n",
       "      <td>HGNC:30892</td>\n",
       "      <td>HUWE1</td>\n",
       "      <td>4</td>\n",
       "      <td>28</td>\n",
       "      <td>causes condition</td>\n",
       "      <td>HP:0002381</td>\n",
       "      <td>Aphasia</td>\n",
       "      <td>8</td>\n",
       "      <td>2504</td>\n",
       "      <td>2</td>\n",
       "    </tr>\n",
       "    <tr>\n",
       "      <th>94320</th>\n",
       "      <td>HGNC:6572</td>\n",
       "      <td>LGI1</td>\n",
       "      <td>4</td>\n",
       "      <td>5286</td>\n",
       "      <td>causes condition</td>\n",
       "      <td>HP:0002381</td>\n",
       "      <td>Aphasia</td>\n",
       "      <td>8</td>\n",
       "      <td>2504</td>\n",
       "      <td>2</td>\n",
       "    </tr>\n",
       "    <tr>\n",
       "      <th>151935</th>\n",
       "      <td>HGNC:12666</td>\n",
       "      <td>VCP</td>\n",
       "      <td>4</td>\n",
       "      <td>11564</td>\n",
       "      <td>causes condition</td>\n",
       "      <td>HP:0002381</td>\n",
       "      <td>Aphasia</td>\n",
       "      <td>8</td>\n",
       "      <td>2504</td>\n",
       "      <td>2</td>\n",
       "    </tr>\n",
       "    <tr>\n",
       "      <th>169169</th>\n",
       "      <td>HGNC:9069</td>\n",
       "      <td>PLEC</td>\n",
       "      <td>4</td>\n",
       "      <td>3519</td>\n",
       "      <td>causes condition</td>\n",
       "      <td>HP:0002381</td>\n",
       "      <td>Aphasia</td>\n",
       "      <td>8</td>\n",
       "      <td>2504</td>\n",
       "      <td>2</td>\n",
       "    </tr>\n",
       "    <tr>\n",
       "      <th>220573</th>\n",
       "      <td>HGNC:620</td>\n",
       "      <td>APP</td>\n",
       "      <td>4</td>\n",
       "      <td>10694</td>\n",
       "      <td>causes condition</td>\n",
       "      <td>HP:0002381</td>\n",
       "      <td>Aphasia</td>\n",
       "      <td>8</td>\n",
       "      <td>2504</td>\n",
       "      <td>2</td>\n",
       "    </tr>\n",
       "  </tbody>\n",
       "</table>\n",
       "</div>"
      ],
      "text/plain": [
       "              head label_head  class_head  index_head          relation  \\\n",
       "48485     HGNC:144      ACTG1           4        6880  causes condition   \n",
       "54410   HGNC:30892      HUWE1           4          28  causes condition   \n",
       "94320    HGNC:6572       LGI1           4        5286  causes condition   \n",
       "151935  HGNC:12666        VCP           4       11564  causes condition   \n",
       "169169   HGNC:9069       PLEC           4        3519  causes condition   \n",
       "220573    HGNC:620        APP           4       10694  causes condition   \n",
       "\n",
       "              tail label_tail  class_tail  index_tail  type  \n",
       "48485   HP:0002381    Aphasia           8        2504     2  \n",
       "54410   HP:0002381    Aphasia           8        2504     2  \n",
       "94320   HP:0002381    Aphasia           8        2504     2  \n",
       "151935  HP:0002381    Aphasia           8        2504     2  \n",
       "169169  HP:0002381    Aphasia           8        2504     2  \n",
       "220573  HP:0002381    Aphasia           8        2504     2  "
      ]
     },
     "execution_count": 13,
     "metadata": {},
     "output_type": "execute_result"
    }
   ],
   "source": [
    "edges.loc[edges['index_tail'] == 2504]"
   ]
  },
  {
   "cell_type": "markdown",
   "metadata": {},
   "source": [
    "Index list can be used later for converting back to the label of the relation."
   ]
  },
  {
   "cell_type": "code",
   "execution_count": 14,
   "metadata": {
    "execution": {
     "iopub.execute_input": "2024-08-07T12:24:03.762278Z",
     "iopub.status.busy": "2024-08-07T12:24:03.761280Z",
     "iopub.status.idle": "2024-08-07T12:24:03.790327Z",
     "shell.execute_reply": "2024-08-07T12:24:03.788352Z"
    }
   },
   "outputs": [
    {
     "data": {
      "text/plain": [
       "Index(['interacts with', 'in orthology relationship with', 'causes condition',\n",
       "       'is variant in', 'enables', 'found in', 'contributes to condition',\n",
       "       'colocalizes with', 'has role in modeling', 'expresses gene',\n",
       "       'associated with phenotype', 'is of', 'targets',\n",
       "       'is substance that treats', 'has affected feature', 'is product of',\n",
       "       'is allele of', 'has genotype', 'involved in'],\n",
       "      dtype='object')"
      ]
     },
     "execution_count": 14,
     "metadata": {},
     "output_type": "execute_result"
    }
   ],
   "source": [
    "_, relation_labels = pd.factorize(edges['relation'])\n",
    "relation_labels"
   ]
  },
  {
   "attachments": {},
   "cell_type": "markdown",
   "metadata": {},
   "source": [
    "# Link Prediction"
   ]
  },
  {
   "cell_type": "markdown",
   "metadata": {},
   "source": []
  },
  {
   "cell_type": "code",
   "execution_count": 15,
   "metadata": {
    "execution": {
     "iopub.execute_input": "2024-08-07T12:24:03.795329Z",
     "iopub.status.busy": "2024-08-07T12:24:03.794324Z",
     "iopub.status.idle": "2024-08-07T12:24:03.819880Z",
     "shell.execute_reply": "2024-08-07T12:24:03.818881Z"
    }
   },
   "outputs": [],
   "source": [
    "gnn_params = {\n",
    "    'dmd': {\n",
    "        'prev': {\n",
    "            'neg_sampl_ratio': 1.0,\n",
    "            'device': torch_device,\n",
    "            'hidden_dim': 256,\n",
    "            'output_dim': 64,\n",
    "            'epochs': 150,\n",
    "            'lr': 0.07,\n",
    "            'aggr': 'mean',\n",
    "            'layers': 2,\n",
    "            'dropout': 0.2\n",
    "        }, \n",
    "        'restr': {\n",
    "            'neg_sampl_ratio': 1.0,\n",
    "            'device': torch_device,\n",
    "            'hidden_dim': 256,\n",
    "            'output_dim': 64,\n",
    "            'epochs': 100,\n",
    "            'lr': 0.013477408995651594,\n",
    "            'aggr': 'mean',\n",
    "            'layers': 2,\n",
    "            'dropout': 0.2\n",
    "        }\n",
    "    },\n",
    "    'hd': {\n",
    "        'prev': {\n",
    "            'neg_sampl_ratio': 1.5,\n",
    "            'device': torch_device,\n",
    "            'hidden_dim': 256,\n",
    "            'output_dim': 64,\n",
    "            'epochs': 150,\n",
    "            'lr': 0.015119455370138871,\n",
    "            'aggr': 'mean',\n",
    "            'layers': 4,\n",
    "            'dropout': 0.1\n",
    "        }, \n",
    "        'restr': {\n",
    "            'neg_sampl_ratio': 0.5,\n",
    "            'device': torch_device,\n",
    "            'hidden_dim': 256,\n",
    "            'output_dim': 64,\n",
    "            'epochs': 150,\n",
    "            'lr': 0.036447056879784764,\n",
    "            'aggr': 'sum',\n",
    "            'layers': 6,\n",
    "            'dropout': 0.2\n",
    "        }\n",
    "    },\n",
    "    'oi': {\n",
    "        'prev': {\n",
    "            'neg_sampl_ratio': 1.5,\n",
    "            'device': torch_device,\n",
    "            'hidden_dim': 256,\n",
    "            'output_dim': 64,\n",
    "            'epochs': 100,\n",
    "            'lr': 0.0006060400655270159,\n",
    "            'aggr': 'mean',\n",
    "            'layers': 2,\n",
    "            'dropout': 0.2\n",
    "        }, \n",
    "        'restr': {\n",
    "            'neg_sampl_ratio': 1.0,\n",
    "            'device': torch_device,\n",
    "            'hidden_dim': 64,\n",
    "            'output_dim': 128,\n",
    "            'epochs': 150,\n",
    "            'lr': 0.02678894881316133,\n",
    "            'aggr': 'mean',\n",
    "            'layers': 2,\n",
    "            'dropout': 0.1\n",
    "        }\n",
    "    }\n",
    "}\n",
    "\n",
    "weight_decay = 5e-4\n",
    "args = gnn_params[disease_prefix][dataset_prefix]"
   ]
  },
  {
   "attachments": {},
   "cell_type": "markdown",
   "metadata": {},
   "source": [
    "Creating a graph including the node embeddings as features of each node."
   ]
  },
  {
   "cell_type": "code",
   "execution_count": 16,
   "metadata": {
    "execution": {
     "iopub.execute_input": "2024-08-07T12:24:03.823854Z",
     "iopub.status.busy": "2024-08-07T12:24:03.823854Z",
     "iopub.status.idle": "2024-08-07T12:24:15.675745Z",
     "shell.execute_reply": "2024-08-07T12:24:15.674745Z"
    }
   },
   "outputs": [
    {
     "name": "stdout",
     "output_type": "stream",
     "text": [
      "(0, {'node_feature': tensor([ 0.1325, -0.1611,  0.0090,  0.0253,  0.0140,  0.1380, -0.2626, -0.1679,\n",
      "        -0.0550,  0.1510,  0.0862, -0.0769,  0.0068, -0.0784, -0.0674,  0.0408,\n",
      "        -0.1120,  0.0045,  0.2128, -0.0831,  0.1172, -0.0303, -0.0411, -0.0067,\n",
      "         0.0862,  0.0329, -0.2598, -0.0087,  0.2121, -0.0187, -0.0023,  0.1453,\n",
      "         0.0382, -0.0534,  0.0231, -0.1446, -0.1020,  0.1347,  0.0993,  0.0661,\n",
      "         0.0407, -0.1220, -0.1159, -0.0981, -0.1817, -0.1948, -0.1019,  0.0925,\n",
      "        -0.1083, -0.0243,  0.0913, -0.0011, -0.1560,  0.0113,  0.0617,  0.0831,\n",
      "        -0.0857, -0.0811,  0.1383,  0.0789, -0.0918,  0.1685,  0.0116,  0.3780,\n",
      "        -0.1061,  0.0796, -0.0321, -0.2743, -0.0580, -0.0428, -0.0373, -0.2968,\n",
      "        -0.0794,  0.3384,  0.0475, -0.0402, -0.0728, -0.2009, -0.0099,  0.0597,\n",
      "         0.0659,  0.0395,  0.1373,  0.0900,  0.0820, -0.0593,  0.1181,  0.1785,\n",
      "         0.0510,  0.0777, -0.1465, -0.0264,  0.0215,  0.0578, -0.0084, -0.1424,\n",
      "        -0.0605,  0.0158,  0.1278, -0.0466,  0.2399,  0.2526,  0.0859, -0.0951,\n",
      "         0.0829, -0.0168, -0.0657,  0.0184,  0.0380, -0.0766,  0.2550, -0.1883,\n",
      "        -0.0242,  0.0981,  0.2976, -0.0217,  0.0560, -0.0986,  0.1730, -0.0365,\n",
      "        -0.0055, -0.0919, -0.0844,  0.0800, -0.0385,  0.1485,  0.1058,  0.2143])})\n",
      "(0, 1496, {})\n",
      "Number of edges is 135988\n",
      "Number of nodes is 14882\n"
     ]
    }
   ],
   "source": [
    "embedded_node_G = nx.Graph() # TODO: DiGraph() or Graph()?\n",
    "\n",
    "for ind, node in embedding.iterrows(): \n",
    "  embedded_node_G.add_node(int(node['Node']), node_feature=torch.Tensor(node['Embedding']))\n",
    "for ind, edge in edges.iterrows(): \n",
    "  embedded_node_G.add_edge(int(edge['index_head']), int(edge['index_tail']))\n",
    "    \n",
    "for node in embedded_node_G.nodes(data=True):\n",
    "    print(node)\n",
    "    break\n",
    "for edge in embedded_node_G.edges(data=True):\n",
    "    print(edge)\n",
    "    break\n",
    "\n",
    "print(\"Number of edges is {}\".format(embedded_node_G.number_of_edges()))\n",
    "print(\"Number of nodes is {}\".format(embedded_node_G.number_of_nodes()))"
   ]
  },
  {
   "attachments": {},
   "cell_type": "markdown",
   "metadata": {},
   "source": [
    "## Generate graph datasets for training, validation and testing"
   ]
  },
  {
   "attachments": {},
   "cell_type": "markdown",
   "metadata": {},
   "source": [
    "Transductive link prediction split (https://zqfang.github.io/2021-08-12-graph-linkpredict/):\n",
    "- Train/validation/test sets are on the same graph\n",
    "- The dataset consists of one graph\n",
    "- The entire graph can be observed in all dataset splits\n",
    "- The labels of the edges are split"
   ]
  },
  {
   "cell_type": "code",
   "execution_count": 17,
   "metadata": {
    "execution": {
     "iopub.execute_input": "2024-08-07T12:24:15.679766Z",
     "iopub.status.busy": "2024-08-07T12:24:15.678756Z",
     "iopub.status.idle": "2024-08-07T12:24:20.378312Z",
     "shell.execute_reply": "2024-08-07T12:24:20.377309Z"
    }
   },
   "outputs": [
    {
     "name": "stderr",
     "output_type": "stream",
     "text": [
      "c:\\Users\\rosa-\\anaconda3\\envs\\xaifo\\lib\\site-packages\\deepsnap\\graph.py:2126: UserWarning: __floordiv__ is deprecated, and its behavior will change in a future version of pytorch. It currently rounds toward 0 (like the 'trunc' function NOT 'floor'). This results in incorrect rounding for negative values. To keep the current behavior, use torch.div(a, b, rounding_mode='trunc'), or for actual floor division, use torch.div(a, b, rounding_mode='floor').\n",
      "  row = perm // num_nodes\n"
     ]
    },
    {
     "name": "stdout",
     "output_type": "stream",
     "text": [
      "Input dimension (embedding dimension): 128 \n",
      " Number of edge classes (link or no link): 2\n"
     ]
    }
   ],
   "source": [
    "dataset = GraphDataset(\n",
    "    embedded_node_G,\n",
    "    task='link_pred',\n",
    "    edge_train_mode='all',\n",
    "    edge_negative_sampling_ratio=args['neg_sampl_ratio']\n",
    ")\n",
    "\n",
    "datasets = {}\n",
    "datasets['train'], datasets['val'], datasets['test'] = dataset.split(\n",
    "    transductive=True, split_ratio=[0.8, 0.1, 0.1]\n",
    ")\n",
    "\n",
    "input_dim = datasets['train'].num_node_features\n",
    "num_classes = datasets['train'].num_edge_labels\n",
    "\n",
    "print(f'Input dimension (embedding dimension): {input_dim} \\n Number of edge classes (link or no link): {num_classes}')   "
   ]
  },
  {
   "attachments": {},
   "cell_type": "markdown",
   "metadata": {},
   "source": [
    "Dataloaders allow to feed data into the model by batch."
   ]
  },
  {
   "cell_type": "code",
   "execution_count": 18,
   "metadata": {
    "execution": {
     "iopub.execute_input": "2024-08-07T12:24:20.382313Z",
     "iopub.status.busy": "2024-08-07T12:24:20.381309Z",
     "iopub.status.idle": "2024-08-07T12:24:20.394318Z",
     "shell.execute_reply": "2024-08-07T12:24:20.393313Z"
    }
   },
   "outputs": [],
   "source": [
    "dataloaders = {split: DataLoader(ds, collate_fn=Batch.collate([]), batch_size=1, shuffle=(split=='train')) for split, ds in datasets.items()}"
   ]
  },
  {
   "attachments": {},
   "cell_type": "markdown",
   "metadata": {},
   "source": [
    "## Train GNN"
   ]
  },
  {
   "attachments": {},
   "cell_type": "markdown",
   "metadata": {},
   "source": [
    "### Predefined Arguments"
   ]
  },
  {
   "attachments": {},
   "cell_type": "markdown",
   "metadata": {},
   "source": [
    "Train GNN with predefined arguments"
   ]
  },
  {
   "cell_type": "code",
   "execution_count": 19,
   "metadata": {
    "execution": {
     "iopub.execute_input": "2024-08-07T12:24:20.397821Z",
     "iopub.status.busy": "2024-08-07T12:24:20.397821Z",
     "iopub.status.idle": "2024-08-07T12:24:20.425829Z",
     "shell.execute_reply": "2024-08-07T12:24:20.424822Z"
    }
   },
   "outputs": [
    {
     "name": "stdout",
     "output_type": "stream",
     "text": [
      "{'neg_sampl_ratio': 0.5, 'device': device(type='cpu'), 'hidden_dim': 256, 'output_dim': 64, 'epochs': 150, 'lr': 0.036447056879784764, 'aggr': 'sum', 'layers': 6, 'dropout': 0.2} 0.0005\n"
     ]
    }
   ],
   "source": [
    "print(args, weight_decay)\n",
    "\n",
    "model = LinkPredModel(input_dim, args['hidden_dim'], args['output_dim'], args['layers'], args['aggr'], args['dropout'], args['device']).to(args['device'])\n",
    "optimizer = torch.optim.SGD(model.parameters(), lr=args['lr'], momentum=0.9, weight_decay=weight_decay)"
   ]
  },
  {
   "cell_type": "code",
   "execution_count": 20,
   "metadata": {
    "execution": {
     "iopub.execute_input": "2024-08-07T12:24:20.429826Z",
     "iopub.status.busy": "2024-08-07T12:24:20.429826Z",
     "iopub.status.idle": "2024-08-07T12:39:08.576598Z",
     "shell.execute_reply": "2024-08-07T12:39:08.575597Z"
    }
   },
   "outputs": [
    {
     "name": "stdout",
     "output_type": "stream",
     "text": [
      "Start Train Function\n",
      "Epoch: 001, Train: 0.8536, Val: 0.8346, Test: 0.8406, Loss: 1.58343\n"
     ]
    },
    {
     "name": "stderr",
     "output_type": "stream",
     "text": [
      "c:\\Users\\rosa-\\anaconda3\\envs\\xaifo\\lib\\site-packages\\deepsnap\\graph.py:2126: UserWarning: __floordiv__ is deprecated, and its behavior will change in a future version of pytorch. It currently rounds toward 0 (like the 'trunc' function NOT 'floor'). This results in incorrect rounding for negative values. To keep the current behavior, use torch.div(a, b, rounding_mode='trunc'), or for actual floor division, use torch.div(a, b, rounding_mode='floor').\n",
      "  row = perm // num_nodes\n"
     ]
    },
    {
     "name": "stdout",
     "output_type": "stream",
     "text": [
      "Epoch: 002, Train: 0.8421, Val: 0.8220, Test: 0.8265, Loss: 1.50295\n"
     ]
    },
    {
     "name": "stderr",
     "output_type": "stream",
     "text": [
      "c:\\Users\\rosa-\\anaconda3\\envs\\xaifo\\lib\\site-packages\\deepsnap\\graph.py:2126: UserWarning: __floordiv__ is deprecated, and its behavior will change in a future version of pytorch. It currently rounds toward 0 (like the 'trunc' function NOT 'floor'). This results in incorrect rounding for negative values. To keep the current behavior, use torch.div(a, b, rounding_mode='trunc'), or for actual floor division, use torch.div(a, b, rounding_mode='floor').\n",
      "  row = perm // num_nodes\n"
     ]
    },
    {
     "name": "stdout",
     "output_type": "stream",
     "text": [
      "Epoch: 003, Train: 0.8420, Val: 0.8220, Test: 0.8259, Loss: 1.47615\n"
     ]
    },
    {
     "name": "stderr",
     "output_type": "stream",
     "text": [
      "c:\\Users\\rosa-\\anaconda3\\envs\\xaifo\\lib\\site-packages\\deepsnap\\graph.py:2126: UserWarning: __floordiv__ is deprecated, and its behavior will change in a future version of pytorch. It currently rounds toward 0 (like the 'trunc' function NOT 'floor'). This results in incorrect rounding for negative values. To keep the current behavior, use torch.div(a, b, rounding_mode='trunc'), or for actual floor division, use torch.div(a, b, rounding_mode='floor').\n",
      "  row = perm // num_nodes\n"
     ]
    },
    {
     "name": "stdout",
     "output_type": "stream",
     "text": [
      "Epoch: 004, Train: 0.8463, Val: 0.8267, Test: 0.8304, Loss: 1.36991\n"
     ]
    },
    {
     "name": "stderr",
     "output_type": "stream",
     "text": [
      "c:\\Users\\rosa-\\anaconda3\\envs\\xaifo\\lib\\site-packages\\deepsnap\\graph.py:2126: UserWarning: __floordiv__ is deprecated, and its behavior will change in a future version of pytorch. It currently rounds toward 0 (like the 'trunc' function NOT 'floor'). This results in incorrect rounding for negative values. To keep the current behavior, use torch.div(a, b, rounding_mode='trunc'), or for actual floor division, use torch.div(a, b, rounding_mode='floor').\n",
      "  row = perm // num_nodes\n"
     ]
    },
    {
     "name": "stdout",
     "output_type": "stream",
     "text": [
      "Epoch: 005, Train: 0.8552, Val: 0.8337, Test: 0.8378, Loss: 1.29717\n"
     ]
    },
    {
     "name": "stderr",
     "output_type": "stream",
     "text": [
      "c:\\Users\\rosa-\\anaconda3\\envs\\xaifo\\lib\\site-packages\\deepsnap\\graph.py:2126: UserWarning: __floordiv__ is deprecated, and its behavior will change in a future version of pytorch. It currently rounds toward 0 (like the 'trunc' function NOT 'floor'). This results in incorrect rounding for negative values. To keep the current behavior, use torch.div(a, b, rounding_mode='trunc'), or for actual floor division, use torch.div(a, b, rounding_mode='floor').\n",
      "  row = perm // num_nodes\n"
     ]
    },
    {
     "name": "stdout",
     "output_type": "stream",
     "text": [
      "Epoch: 006, Train: 0.8576, Val: 0.8349, Test: 0.8393, Loss: 1.25188\n"
     ]
    },
    {
     "name": "stderr",
     "output_type": "stream",
     "text": [
      "c:\\Users\\rosa-\\anaconda3\\envs\\xaifo\\lib\\site-packages\\deepsnap\\graph.py:2126: UserWarning: __floordiv__ is deprecated, and its behavior will change in a future version of pytorch. It currently rounds toward 0 (like the 'trunc' function NOT 'floor'). This results in incorrect rounding for negative values. To keep the current behavior, use torch.div(a, b, rounding_mode='trunc'), or for actual floor division, use torch.div(a, b, rounding_mode='floor').\n",
      "  row = perm // num_nodes\n"
     ]
    },
    {
     "name": "stdout",
     "output_type": "stream",
     "text": [
      "Epoch: 007, Train: 0.8569, Val: 0.8344, Test: 0.8389, Loss: 1.18511\n"
     ]
    },
    {
     "name": "stderr",
     "output_type": "stream",
     "text": [
      "c:\\Users\\rosa-\\anaconda3\\envs\\xaifo\\lib\\site-packages\\deepsnap\\graph.py:2126: UserWarning: __floordiv__ is deprecated, and its behavior will change in a future version of pytorch. It currently rounds toward 0 (like the 'trunc' function NOT 'floor'). This results in incorrect rounding for negative values. To keep the current behavior, use torch.div(a, b, rounding_mode='trunc'), or for actual floor division, use torch.div(a, b, rounding_mode='floor').\n",
      "  row = perm // num_nodes\n"
     ]
    },
    {
     "name": "stdout",
     "output_type": "stream",
     "text": [
      "Epoch: 008, Train: 0.8611, Val: 0.8369, Test: 0.8417, Loss: 1.12369\n"
     ]
    },
    {
     "name": "stderr",
     "output_type": "stream",
     "text": [
      "c:\\Users\\rosa-\\anaconda3\\envs\\xaifo\\lib\\site-packages\\deepsnap\\graph.py:2126: UserWarning: __floordiv__ is deprecated, and its behavior will change in a future version of pytorch. It currently rounds toward 0 (like the 'trunc' function NOT 'floor'). This results in incorrect rounding for negative values. To keep the current behavior, use torch.div(a, b, rounding_mode='trunc'), or for actual floor division, use torch.div(a, b, rounding_mode='floor').\n",
      "  row = perm // num_nodes\n"
     ]
    },
    {
     "name": "stdout",
     "output_type": "stream",
     "text": [
      "Epoch: 009, Train: 0.8659, Val: 0.8412, Test: 0.8460, Loss: 1.08091\n"
     ]
    },
    {
     "name": "stderr",
     "output_type": "stream",
     "text": [
      "c:\\Users\\rosa-\\anaconda3\\envs\\xaifo\\lib\\site-packages\\deepsnap\\graph.py:2126: UserWarning: __floordiv__ is deprecated, and its behavior will change in a future version of pytorch. It currently rounds toward 0 (like the 'trunc' function NOT 'floor'). This results in incorrect rounding for negative values. To keep the current behavior, use torch.div(a, b, rounding_mode='trunc'), or for actual floor division, use torch.div(a, b, rounding_mode='floor').\n",
      "  row = perm // num_nodes\n"
     ]
    },
    {
     "name": "stdout",
     "output_type": "stream",
     "text": [
      "Epoch: 010, Train: 0.8704, Val: 0.8456, Test: 0.8493, Loss: 1.04227\n"
     ]
    },
    {
     "name": "stderr",
     "output_type": "stream",
     "text": [
      "c:\\Users\\rosa-\\anaconda3\\envs\\xaifo\\lib\\site-packages\\deepsnap\\graph.py:2126: UserWarning: __floordiv__ is deprecated, and its behavior will change in a future version of pytorch. It currently rounds toward 0 (like the 'trunc' function NOT 'floor'). This results in incorrect rounding for negative values. To keep the current behavior, use torch.div(a, b, rounding_mode='trunc'), or for actual floor division, use torch.div(a, b, rounding_mode='floor').\n",
      "  row = perm // num_nodes\n"
     ]
    },
    {
     "name": "stdout",
     "output_type": "stream",
     "text": [
      "Epoch: 011, Train: 0.8746, Val: 0.8501, Test: 0.8526, Loss: 0.99779\n"
     ]
    },
    {
     "name": "stderr",
     "output_type": "stream",
     "text": [
      "c:\\Users\\rosa-\\anaconda3\\envs\\xaifo\\lib\\site-packages\\deepsnap\\graph.py:2126: UserWarning: __floordiv__ is deprecated, and its behavior will change in a future version of pytorch. It currently rounds toward 0 (like the 'trunc' function NOT 'floor'). This results in incorrect rounding for negative values. To keep the current behavior, use torch.div(a, b, rounding_mode='trunc'), or for actual floor division, use torch.div(a, b, rounding_mode='floor').\n",
      "  row = perm // num_nodes\n"
     ]
    },
    {
     "name": "stdout",
     "output_type": "stream",
     "text": [
      "Epoch: 012, Train: 0.8801, Val: 0.8546, Test: 0.8558, Loss: 0.95389\n"
     ]
    },
    {
     "name": "stderr",
     "output_type": "stream",
     "text": [
      "c:\\Users\\rosa-\\anaconda3\\envs\\xaifo\\lib\\site-packages\\deepsnap\\graph.py:2126: UserWarning: __floordiv__ is deprecated, and its behavior will change in a future version of pytorch. It currently rounds toward 0 (like the 'trunc' function NOT 'floor'). This results in incorrect rounding for negative values. To keep the current behavior, use torch.div(a, b, rounding_mode='trunc'), or for actual floor division, use torch.div(a, b, rounding_mode='floor').\n",
      "  row = perm // num_nodes\n"
     ]
    },
    {
     "name": "stdout",
     "output_type": "stream",
     "text": [
      "Epoch: 013, Train: 0.8851, Val: 0.8582, Test: 0.8587, Loss: 0.90286\n"
     ]
    },
    {
     "name": "stderr",
     "output_type": "stream",
     "text": [
      "c:\\Users\\rosa-\\anaconda3\\envs\\xaifo\\lib\\site-packages\\deepsnap\\graph.py:2126: UserWarning: __floordiv__ is deprecated, and its behavior will change in a future version of pytorch. It currently rounds toward 0 (like the 'trunc' function NOT 'floor'). This results in incorrect rounding for negative values. To keep the current behavior, use torch.div(a, b, rounding_mode='trunc'), or for actual floor division, use torch.div(a, b, rounding_mode='floor').\n",
      "  row = perm // num_nodes\n"
     ]
    },
    {
     "name": "stdout",
     "output_type": "stream",
     "text": [
      "Epoch: 014, Train: 0.8902, Val: 0.8615, Test: 0.8619, Loss: 0.86255\n"
     ]
    },
    {
     "name": "stderr",
     "output_type": "stream",
     "text": [
      "c:\\Users\\rosa-\\anaconda3\\envs\\xaifo\\lib\\site-packages\\deepsnap\\graph.py:2126: UserWarning: __floordiv__ is deprecated, and its behavior will change in a future version of pytorch. It currently rounds toward 0 (like the 'trunc' function NOT 'floor'). This results in incorrect rounding for negative values. To keep the current behavior, use torch.div(a, b, rounding_mode='trunc'), or for actual floor division, use torch.div(a, b, rounding_mode='floor').\n",
      "  row = perm // num_nodes\n"
     ]
    },
    {
     "name": "stdout",
     "output_type": "stream",
     "text": [
      "Epoch: 015, Train: 0.8931, Val: 0.8637, Test: 0.8640, Loss: 0.81159\n"
     ]
    },
    {
     "name": "stderr",
     "output_type": "stream",
     "text": [
      "c:\\Users\\rosa-\\anaconda3\\envs\\xaifo\\lib\\site-packages\\deepsnap\\graph.py:2126: UserWarning: __floordiv__ is deprecated, and its behavior will change in a future version of pytorch. It currently rounds toward 0 (like the 'trunc' function NOT 'floor'). This results in incorrect rounding for negative values. To keep the current behavior, use torch.div(a, b, rounding_mode='trunc'), or for actual floor division, use torch.div(a, b, rounding_mode='floor').\n",
      "  row = perm // num_nodes\n"
     ]
    },
    {
     "name": "stdout",
     "output_type": "stream",
     "text": [
      "Epoch: 016, Train: 0.8962, Val: 0.8651, Test: 0.8655, Loss: 0.78298\n"
     ]
    },
    {
     "name": "stderr",
     "output_type": "stream",
     "text": [
      "c:\\Users\\rosa-\\anaconda3\\envs\\xaifo\\lib\\site-packages\\deepsnap\\graph.py:2126: UserWarning: __floordiv__ is deprecated, and its behavior will change in a future version of pytorch. It currently rounds toward 0 (like the 'trunc' function NOT 'floor'). This results in incorrect rounding for negative values. To keep the current behavior, use torch.div(a, b, rounding_mode='trunc'), or for actual floor division, use torch.div(a, b, rounding_mode='floor').\n",
      "  row = perm // num_nodes\n"
     ]
    },
    {
     "name": "stdout",
     "output_type": "stream",
     "text": [
      "Epoch: 017, Train: 0.8981, Val: 0.8668, Test: 0.8672, Loss: 0.76066\n"
     ]
    },
    {
     "name": "stderr",
     "output_type": "stream",
     "text": [
      "c:\\Users\\rosa-\\anaconda3\\envs\\xaifo\\lib\\site-packages\\deepsnap\\graph.py:2126: UserWarning: __floordiv__ is deprecated, and its behavior will change in a future version of pytorch. It currently rounds toward 0 (like the 'trunc' function NOT 'floor'). This results in incorrect rounding for negative values. To keep the current behavior, use torch.div(a, b, rounding_mode='trunc'), or for actual floor division, use torch.div(a, b, rounding_mode='floor').\n",
      "  row = perm // num_nodes\n"
     ]
    },
    {
     "name": "stdout",
     "output_type": "stream",
     "text": [
      "Epoch: 018, Train: 0.9030, Val: 0.8712, Test: 0.8715, Loss: 0.71909\n"
     ]
    },
    {
     "name": "stderr",
     "output_type": "stream",
     "text": [
      "c:\\Users\\rosa-\\anaconda3\\envs\\xaifo\\lib\\site-packages\\deepsnap\\graph.py:2126: UserWarning: __floordiv__ is deprecated, and its behavior will change in a future version of pytorch. It currently rounds toward 0 (like the 'trunc' function NOT 'floor'). This results in incorrect rounding for negative values. To keep the current behavior, use torch.div(a, b, rounding_mode='trunc'), or for actual floor division, use torch.div(a, b, rounding_mode='floor').\n",
      "  row = perm // num_nodes\n"
     ]
    },
    {
     "name": "stdout",
     "output_type": "stream",
     "text": [
      "Epoch: 019, Train: 0.9079, Val: 0.8773, Test: 0.8777, Loss: 0.70104\n"
     ]
    },
    {
     "name": "stderr",
     "output_type": "stream",
     "text": [
      "c:\\Users\\rosa-\\anaconda3\\envs\\xaifo\\lib\\site-packages\\deepsnap\\graph.py:2126: UserWarning: __floordiv__ is deprecated, and its behavior will change in a future version of pytorch. It currently rounds toward 0 (like the 'trunc' function NOT 'floor'). This results in incorrect rounding for negative values. To keep the current behavior, use torch.div(a, b, rounding_mode='trunc'), or for actual floor division, use torch.div(a, b, rounding_mode='floor').\n",
      "  row = perm // num_nodes\n"
     ]
    },
    {
     "name": "stdout",
     "output_type": "stream",
     "text": [
      "Epoch: 020, Train: 0.9168, Val: 0.8837, Test: 0.8847, Loss: 0.67506\n"
     ]
    },
    {
     "name": "stderr",
     "output_type": "stream",
     "text": [
      "c:\\Users\\rosa-\\anaconda3\\envs\\xaifo\\lib\\site-packages\\deepsnap\\graph.py:2126: UserWarning: __floordiv__ is deprecated, and its behavior will change in a future version of pytorch. It currently rounds toward 0 (like the 'trunc' function NOT 'floor'). This results in incorrect rounding for negative values. To keep the current behavior, use torch.div(a, b, rounding_mode='trunc'), or for actual floor division, use torch.div(a, b, rounding_mode='floor').\n",
      "  row = perm // num_nodes\n"
     ]
    },
    {
     "name": "stdout",
     "output_type": "stream",
     "text": [
      "Epoch: 021, Train: 0.9214, Val: 0.8891, Test: 0.8905, Loss: 0.65569\n"
     ]
    },
    {
     "name": "stderr",
     "output_type": "stream",
     "text": [
      "c:\\Users\\rosa-\\anaconda3\\envs\\xaifo\\lib\\site-packages\\deepsnap\\graph.py:2126: UserWarning: __floordiv__ is deprecated, and its behavior will change in a future version of pytorch. It currently rounds toward 0 (like the 'trunc' function NOT 'floor'). This results in incorrect rounding for negative values. To keep the current behavior, use torch.div(a, b, rounding_mode='trunc'), or for actual floor division, use torch.div(a, b, rounding_mode='floor').\n",
      "  row = perm // num_nodes\n"
     ]
    },
    {
     "name": "stdout",
     "output_type": "stream",
     "text": [
      "Epoch: 022, Train: 0.9268, Val: 0.8934, Test: 0.8950, Loss: 0.61638\n"
     ]
    },
    {
     "name": "stderr",
     "output_type": "stream",
     "text": [
      "c:\\Users\\rosa-\\anaconda3\\envs\\xaifo\\lib\\site-packages\\deepsnap\\graph.py:2126: UserWarning: __floordiv__ is deprecated, and its behavior will change in a future version of pytorch. It currently rounds toward 0 (like the 'trunc' function NOT 'floor'). This results in incorrect rounding for negative values. To keep the current behavior, use torch.div(a, b, rounding_mode='trunc'), or for actual floor division, use torch.div(a, b, rounding_mode='floor').\n",
      "  row = perm // num_nodes\n"
     ]
    },
    {
     "name": "stdout",
     "output_type": "stream",
     "text": [
      "Epoch: 023, Train: 0.9305, Val: 0.8972, Test: 0.8987, Loss: 0.61963\n"
     ]
    },
    {
     "name": "stderr",
     "output_type": "stream",
     "text": [
      "c:\\Users\\rosa-\\anaconda3\\envs\\xaifo\\lib\\site-packages\\deepsnap\\graph.py:2126: UserWarning: __floordiv__ is deprecated, and its behavior will change in a future version of pytorch. It currently rounds toward 0 (like the 'trunc' function NOT 'floor'). This results in incorrect rounding for negative values. To keep the current behavior, use torch.div(a, b, rounding_mode='trunc'), or for actual floor division, use torch.div(a, b, rounding_mode='floor').\n",
      "  row = perm // num_nodes\n"
     ]
    },
    {
     "name": "stdout",
     "output_type": "stream",
     "text": [
      "Epoch: 024, Train: 0.9346, Val: 0.9005, Test: 0.9017, Loss: 0.58538\n"
     ]
    },
    {
     "name": "stderr",
     "output_type": "stream",
     "text": [
      "c:\\Users\\rosa-\\anaconda3\\envs\\xaifo\\lib\\site-packages\\deepsnap\\graph.py:2126: UserWarning: __floordiv__ is deprecated, and its behavior will change in a future version of pytorch. It currently rounds toward 0 (like the 'trunc' function NOT 'floor'). This results in incorrect rounding for negative values. To keep the current behavior, use torch.div(a, b, rounding_mode='trunc'), or for actual floor division, use torch.div(a, b, rounding_mode='floor').\n",
      "  row = perm // num_nodes\n"
     ]
    },
    {
     "name": "stdout",
     "output_type": "stream",
     "text": [
      "Epoch: 025, Train: 0.9359, Val: 0.9023, Test: 0.9031, Loss: 0.57539\n"
     ]
    },
    {
     "name": "stderr",
     "output_type": "stream",
     "text": [
      "c:\\Users\\rosa-\\anaconda3\\envs\\xaifo\\lib\\site-packages\\deepsnap\\graph.py:2126: UserWarning: __floordiv__ is deprecated, and its behavior will change in a future version of pytorch. It currently rounds toward 0 (like the 'trunc' function NOT 'floor'). This results in incorrect rounding for negative values. To keep the current behavior, use torch.div(a, b, rounding_mode='trunc'), or for actual floor division, use torch.div(a, b, rounding_mode='floor').\n",
      "  row = perm // num_nodes\n"
     ]
    },
    {
     "name": "stdout",
     "output_type": "stream",
     "text": [
      "Epoch: 026, Train: 0.9382, Val: 0.9039, Test: 0.9045, Loss: 0.54939\n"
     ]
    },
    {
     "name": "stderr",
     "output_type": "stream",
     "text": [
      "c:\\Users\\rosa-\\anaconda3\\envs\\xaifo\\lib\\site-packages\\deepsnap\\graph.py:2126: UserWarning: __floordiv__ is deprecated, and its behavior will change in a future version of pytorch. It currently rounds toward 0 (like the 'trunc' function NOT 'floor'). This results in incorrect rounding for negative values. To keep the current behavior, use torch.div(a, b, rounding_mode='trunc'), or for actual floor division, use torch.div(a, b, rounding_mode='floor').\n",
      "  row = perm // num_nodes\n"
     ]
    },
    {
     "name": "stdout",
     "output_type": "stream",
     "text": [
      "Epoch: 027, Train: 0.9408, Val: 0.9058, Test: 0.9064, Loss: 0.53985\n"
     ]
    },
    {
     "name": "stderr",
     "output_type": "stream",
     "text": [
      "c:\\Users\\rosa-\\anaconda3\\envs\\xaifo\\lib\\site-packages\\deepsnap\\graph.py:2126: UserWarning: __floordiv__ is deprecated, and its behavior will change in a future version of pytorch. It currently rounds toward 0 (like the 'trunc' function NOT 'floor'). This results in incorrect rounding for negative values. To keep the current behavior, use torch.div(a, b, rounding_mode='trunc'), or for actual floor division, use torch.div(a, b, rounding_mode='floor').\n",
      "  row = perm // num_nodes\n"
     ]
    },
    {
     "name": "stdout",
     "output_type": "stream",
     "text": [
      "Epoch: 028, Train: 0.9430, Val: 0.9076, Test: 0.9083, Loss: 0.53626\n"
     ]
    },
    {
     "name": "stderr",
     "output_type": "stream",
     "text": [
      "c:\\Users\\rosa-\\anaconda3\\envs\\xaifo\\lib\\site-packages\\deepsnap\\graph.py:2126: UserWarning: __floordiv__ is deprecated, and its behavior will change in a future version of pytorch. It currently rounds toward 0 (like the 'trunc' function NOT 'floor'). This results in incorrect rounding for negative values. To keep the current behavior, use torch.div(a, b, rounding_mode='trunc'), or for actual floor division, use torch.div(a, b, rounding_mode='floor').\n",
      "  row = perm // num_nodes\n"
     ]
    },
    {
     "name": "stdout",
     "output_type": "stream",
     "text": [
      "Epoch: 029, Train: 0.9456, Val: 0.9101, Test: 0.9109, Loss: 0.51653\n"
     ]
    },
    {
     "name": "stderr",
     "output_type": "stream",
     "text": [
      "c:\\Users\\rosa-\\anaconda3\\envs\\xaifo\\lib\\site-packages\\deepsnap\\graph.py:2126: UserWarning: __floordiv__ is deprecated, and its behavior will change in a future version of pytorch. It currently rounds toward 0 (like the 'trunc' function NOT 'floor'). This results in incorrect rounding for negative values. To keep the current behavior, use torch.div(a, b, rounding_mode='trunc'), or for actual floor division, use torch.div(a, b, rounding_mode='floor').\n",
      "  row = perm // num_nodes\n"
     ]
    },
    {
     "name": "stdout",
     "output_type": "stream",
     "text": [
      "Epoch: 030, Train: 0.9467, Val: 0.9121, Test: 0.9133, Loss: 0.49661\n"
     ]
    },
    {
     "name": "stderr",
     "output_type": "stream",
     "text": [
      "c:\\Users\\rosa-\\anaconda3\\envs\\xaifo\\lib\\site-packages\\deepsnap\\graph.py:2126: UserWarning: __floordiv__ is deprecated, and its behavior will change in a future version of pytorch. It currently rounds toward 0 (like the 'trunc' function NOT 'floor'). This results in incorrect rounding for negative values. To keep the current behavior, use torch.div(a, b, rounding_mode='trunc'), or for actual floor division, use torch.div(a, b, rounding_mode='floor').\n",
      "  row = perm // num_nodes\n"
     ]
    },
    {
     "name": "stdout",
     "output_type": "stream",
     "text": [
      "Epoch: 031, Train: 0.9494, Val: 0.9140, Test: 0.9156, Loss: 0.48239\n"
     ]
    },
    {
     "name": "stderr",
     "output_type": "stream",
     "text": [
      "c:\\Users\\rosa-\\anaconda3\\envs\\xaifo\\lib\\site-packages\\deepsnap\\graph.py:2126: UserWarning: __floordiv__ is deprecated, and its behavior will change in a future version of pytorch. It currently rounds toward 0 (like the 'trunc' function NOT 'floor'). This results in incorrect rounding for negative values. To keep the current behavior, use torch.div(a, b, rounding_mode='trunc'), or for actual floor division, use torch.div(a, b, rounding_mode='floor').\n",
      "  row = perm // num_nodes\n"
     ]
    },
    {
     "name": "stdout",
     "output_type": "stream",
     "text": [
      "Epoch: 032, Train: 0.9509, Val: 0.9163, Test: 0.9181, Loss: 0.47813\n"
     ]
    },
    {
     "name": "stderr",
     "output_type": "stream",
     "text": [
      "c:\\Users\\rosa-\\anaconda3\\envs\\xaifo\\lib\\site-packages\\deepsnap\\graph.py:2126: UserWarning: __floordiv__ is deprecated, and its behavior will change in a future version of pytorch. It currently rounds toward 0 (like the 'trunc' function NOT 'floor'). This results in incorrect rounding for negative values. To keep the current behavior, use torch.div(a, b, rounding_mode='trunc'), or for actual floor division, use torch.div(a, b, rounding_mode='floor').\n",
      "  row = perm // num_nodes\n"
     ]
    },
    {
     "name": "stdout",
     "output_type": "stream",
     "text": [
      "Epoch: 033, Train: 0.9533, Val: 0.9183, Test: 0.9203, Loss: 0.47391\n"
     ]
    },
    {
     "name": "stderr",
     "output_type": "stream",
     "text": [
      "c:\\Users\\rosa-\\anaconda3\\envs\\xaifo\\lib\\site-packages\\deepsnap\\graph.py:2126: UserWarning: __floordiv__ is deprecated, and its behavior will change in a future version of pytorch. It currently rounds toward 0 (like the 'trunc' function NOT 'floor'). This results in incorrect rounding for negative values. To keep the current behavior, use torch.div(a, b, rounding_mode='trunc'), or for actual floor division, use torch.div(a, b, rounding_mode='floor').\n",
      "  row = perm // num_nodes\n"
     ]
    },
    {
     "name": "stdout",
     "output_type": "stream",
     "text": [
      "Epoch: 034, Train: 0.9558, Val: 0.9201, Test: 0.9223, Loss: 0.47002\n"
     ]
    },
    {
     "name": "stderr",
     "output_type": "stream",
     "text": [
      "c:\\Users\\rosa-\\anaconda3\\envs\\xaifo\\lib\\site-packages\\deepsnap\\graph.py:2126: UserWarning: __floordiv__ is deprecated, and its behavior will change in a future version of pytorch. It currently rounds toward 0 (like the 'trunc' function NOT 'floor'). This results in incorrect rounding for negative values. To keep the current behavior, use torch.div(a, b, rounding_mode='trunc'), or for actual floor division, use torch.div(a, b, rounding_mode='floor').\n",
      "  row = perm // num_nodes\n"
     ]
    },
    {
     "name": "stdout",
     "output_type": "stream",
     "text": [
      "Epoch: 035, Train: 0.9574, Val: 0.9215, Test: 0.9238, Loss: 0.47979\n"
     ]
    },
    {
     "name": "stderr",
     "output_type": "stream",
     "text": [
      "c:\\Users\\rosa-\\anaconda3\\envs\\xaifo\\lib\\site-packages\\deepsnap\\graph.py:2126: UserWarning: __floordiv__ is deprecated, and its behavior will change in a future version of pytorch. It currently rounds toward 0 (like the 'trunc' function NOT 'floor'). This results in incorrect rounding for negative values. To keep the current behavior, use torch.div(a, b, rounding_mode='trunc'), or for actual floor division, use torch.div(a, b, rounding_mode='floor').\n",
      "  row = perm // num_nodes\n"
     ]
    },
    {
     "name": "stdout",
     "output_type": "stream",
     "text": [
      "Epoch: 036, Train: 0.9583, Val: 0.9229, Test: 0.9254, Loss: 0.44244\n"
     ]
    },
    {
     "name": "stderr",
     "output_type": "stream",
     "text": [
      "c:\\Users\\rosa-\\anaconda3\\envs\\xaifo\\lib\\site-packages\\deepsnap\\graph.py:2126: UserWarning: __floordiv__ is deprecated, and its behavior will change in a future version of pytorch. It currently rounds toward 0 (like the 'trunc' function NOT 'floor'). This results in incorrect rounding for negative values. To keep the current behavior, use torch.div(a, b, rounding_mode='trunc'), or for actual floor division, use torch.div(a, b, rounding_mode='floor').\n",
      "  row = perm // num_nodes\n"
     ]
    },
    {
     "name": "stdout",
     "output_type": "stream",
     "text": [
      "Epoch: 037, Train: 0.9597, Val: 0.9235, Test: 0.9262, Loss: 0.44723\n"
     ]
    },
    {
     "name": "stderr",
     "output_type": "stream",
     "text": [
      "c:\\Users\\rosa-\\anaconda3\\envs\\xaifo\\lib\\site-packages\\deepsnap\\graph.py:2126: UserWarning: __floordiv__ is deprecated, and its behavior will change in a future version of pytorch. It currently rounds toward 0 (like the 'trunc' function NOT 'floor'). This results in incorrect rounding for negative values. To keep the current behavior, use torch.div(a, b, rounding_mode='trunc'), or for actual floor division, use torch.div(a, b, rounding_mode='floor').\n",
      "  row = perm // num_nodes\n"
     ]
    },
    {
     "name": "stdout",
     "output_type": "stream",
     "text": [
      "Epoch: 038, Train: 0.9600, Val: 0.9240, Test: 0.9274, Loss: 0.43247\n"
     ]
    },
    {
     "name": "stderr",
     "output_type": "stream",
     "text": [
      "c:\\Users\\rosa-\\anaconda3\\envs\\xaifo\\lib\\site-packages\\deepsnap\\graph.py:2126: UserWarning: __floordiv__ is deprecated, and its behavior will change in a future version of pytorch. It currently rounds toward 0 (like the 'trunc' function NOT 'floor'). This results in incorrect rounding for negative values. To keep the current behavior, use torch.div(a, b, rounding_mode='trunc'), or for actual floor division, use torch.div(a, b, rounding_mode='floor').\n",
      "  row = perm // num_nodes\n"
     ]
    },
    {
     "name": "stdout",
     "output_type": "stream",
     "text": [
      "Epoch: 039, Train: 0.9612, Val: 0.9255, Test: 0.9286, Loss: 0.44692\n"
     ]
    },
    {
     "name": "stderr",
     "output_type": "stream",
     "text": [
      "c:\\Users\\rosa-\\anaconda3\\envs\\xaifo\\lib\\site-packages\\deepsnap\\graph.py:2126: UserWarning: __floordiv__ is deprecated, and its behavior will change in a future version of pytorch. It currently rounds toward 0 (like the 'trunc' function NOT 'floor'). This results in incorrect rounding for negative values. To keep the current behavior, use torch.div(a, b, rounding_mode='trunc'), or for actual floor division, use torch.div(a, b, rounding_mode='floor').\n",
      "  row = perm // num_nodes\n"
     ]
    },
    {
     "name": "stdout",
     "output_type": "stream",
     "text": [
      "Epoch: 040, Train: 0.9617, Val: 0.9266, Test: 0.9296, Loss: 0.43272\n"
     ]
    },
    {
     "name": "stderr",
     "output_type": "stream",
     "text": [
      "c:\\Users\\rosa-\\anaconda3\\envs\\xaifo\\lib\\site-packages\\deepsnap\\graph.py:2126: UserWarning: __floordiv__ is deprecated, and its behavior will change in a future version of pytorch. It currently rounds toward 0 (like the 'trunc' function NOT 'floor'). This results in incorrect rounding for negative values. To keep the current behavior, use torch.div(a, b, rounding_mode='trunc'), or for actual floor division, use torch.div(a, b, rounding_mode='floor').\n",
      "  row = perm // num_nodes\n"
     ]
    },
    {
     "name": "stdout",
     "output_type": "stream",
     "text": [
      "Epoch: 041, Train: 0.9630, Val: 0.9283, Test: 0.9311, Loss: 0.43145\n"
     ]
    },
    {
     "name": "stderr",
     "output_type": "stream",
     "text": [
      "c:\\Users\\rosa-\\anaconda3\\envs\\xaifo\\lib\\site-packages\\deepsnap\\graph.py:2126: UserWarning: __floordiv__ is deprecated, and its behavior will change in a future version of pytorch. It currently rounds toward 0 (like the 'trunc' function NOT 'floor'). This results in incorrect rounding for negative values. To keep the current behavior, use torch.div(a, b, rounding_mode='trunc'), or for actual floor division, use torch.div(a, b, rounding_mode='floor').\n",
      "  row = perm // num_nodes\n"
     ]
    },
    {
     "name": "stdout",
     "output_type": "stream",
     "text": [
      "Epoch: 042, Train: 0.9647, Val: 0.9300, Test: 0.9328, Loss: 0.41231\n"
     ]
    },
    {
     "name": "stderr",
     "output_type": "stream",
     "text": [
      "c:\\Users\\rosa-\\anaconda3\\envs\\xaifo\\lib\\site-packages\\deepsnap\\graph.py:2126: UserWarning: __floordiv__ is deprecated, and its behavior will change in a future version of pytorch. It currently rounds toward 0 (like the 'trunc' function NOT 'floor'). This results in incorrect rounding for negative values. To keep the current behavior, use torch.div(a, b, rounding_mode='trunc'), or for actual floor division, use torch.div(a, b, rounding_mode='floor').\n",
      "  row = perm // num_nodes\n"
     ]
    },
    {
     "name": "stdout",
     "output_type": "stream",
     "text": [
      "Epoch: 043, Train: 0.9668, Val: 0.9314, Test: 0.9343, Loss: 0.41001\n"
     ]
    },
    {
     "name": "stderr",
     "output_type": "stream",
     "text": [
      "c:\\Users\\rosa-\\anaconda3\\envs\\xaifo\\lib\\site-packages\\deepsnap\\graph.py:2126: UserWarning: __floordiv__ is deprecated, and its behavior will change in a future version of pytorch. It currently rounds toward 0 (like the 'trunc' function NOT 'floor'). This results in incorrect rounding for negative values. To keep the current behavior, use torch.div(a, b, rounding_mode='trunc'), or for actual floor division, use torch.div(a, b, rounding_mode='floor').\n",
      "  row = perm // num_nodes\n"
     ]
    },
    {
     "name": "stdout",
     "output_type": "stream",
     "text": [
      "Epoch: 044, Train: 0.9679, Val: 0.9323, Test: 0.9354, Loss: 0.41037\n"
     ]
    },
    {
     "name": "stderr",
     "output_type": "stream",
     "text": [
      "c:\\Users\\rosa-\\anaconda3\\envs\\xaifo\\lib\\site-packages\\deepsnap\\graph.py:2126: UserWarning: __floordiv__ is deprecated, and its behavior will change in a future version of pytorch. It currently rounds toward 0 (like the 'trunc' function NOT 'floor'). This results in incorrect rounding for negative values. To keep the current behavior, use torch.div(a, b, rounding_mode='trunc'), or for actual floor division, use torch.div(a, b, rounding_mode='floor').\n",
      "  row = perm // num_nodes\n"
     ]
    },
    {
     "name": "stdout",
     "output_type": "stream",
     "text": [
      "Epoch: 045, Train: 0.9688, Val: 0.9331, Test: 0.9362, Loss: 0.41473\n"
     ]
    },
    {
     "name": "stderr",
     "output_type": "stream",
     "text": [
      "c:\\Users\\rosa-\\anaconda3\\envs\\xaifo\\lib\\site-packages\\deepsnap\\graph.py:2126: UserWarning: __floordiv__ is deprecated, and its behavior will change in a future version of pytorch. It currently rounds toward 0 (like the 'trunc' function NOT 'floor'). This results in incorrect rounding for negative values. To keep the current behavior, use torch.div(a, b, rounding_mode='trunc'), or for actual floor division, use torch.div(a, b, rounding_mode='floor').\n",
      "  row = perm // num_nodes\n"
     ]
    },
    {
     "name": "stdout",
     "output_type": "stream",
     "text": [
      "Epoch: 046, Train: 0.9699, Val: 0.9338, Test: 0.9369, Loss: 0.40058\n"
     ]
    },
    {
     "name": "stderr",
     "output_type": "stream",
     "text": [
      "c:\\Users\\rosa-\\anaconda3\\envs\\xaifo\\lib\\site-packages\\deepsnap\\graph.py:2126: UserWarning: __floordiv__ is deprecated, and its behavior will change in a future version of pytorch. It currently rounds toward 0 (like the 'trunc' function NOT 'floor'). This results in incorrect rounding for negative values. To keep the current behavior, use torch.div(a, b, rounding_mode='trunc'), or for actual floor division, use torch.div(a, b, rounding_mode='floor').\n",
      "  row = perm // num_nodes\n"
     ]
    },
    {
     "name": "stdout",
     "output_type": "stream",
     "text": [
      "Epoch: 047, Train: 0.9700, Val: 0.9345, Test: 0.9377, Loss: 0.40929\n"
     ]
    },
    {
     "name": "stderr",
     "output_type": "stream",
     "text": [
      "c:\\Users\\rosa-\\anaconda3\\envs\\xaifo\\lib\\site-packages\\deepsnap\\graph.py:2126: UserWarning: __floordiv__ is deprecated, and its behavior will change in a future version of pytorch. It currently rounds toward 0 (like the 'trunc' function NOT 'floor'). This results in incorrect rounding for negative values. To keep the current behavior, use torch.div(a, b, rounding_mode='trunc'), or for actual floor division, use torch.div(a, b, rounding_mode='floor').\n",
      "  row = perm // num_nodes\n"
     ]
    },
    {
     "name": "stdout",
     "output_type": "stream",
     "text": [
      "Epoch: 048, Train: 0.9699, Val: 0.9355, Test: 0.9386, Loss: 0.40059\n"
     ]
    },
    {
     "name": "stderr",
     "output_type": "stream",
     "text": [
      "c:\\Users\\rosa-\\anaconda3\\envs\\xaifo\\lib\\site-packages\\deepsnap\\graph.py:2126: UserWarning: __floordiv__ is deprecated, and its behavior will change in a future version of pytorch. It currently rounds toward 0 (like the 'trunc' function NOT 'floor'). This results in incorrect rounding for negative values. To keep the current behavior, use torch.div(a, b, rounding_mode='trunc'), or for actual floor division, use torch.div(a, b, rounding_mode='floor').\n",
      "  row = perm // num_nodes\n"
     ]
    },
    {
     "name": "stdout",
     "output_type": "stream",
     "text": [
      "Epoch: 049, Train: 0.9701, Val: 0.9363, Test: 0.9394, Loss: 0.40306\n"
     ]
    },
    {
     "name": "stderr",
     "output_type": "stream",
     "text": [
      "c:\\Users\\rosa-\\anaconda3\\envs\\xaifo\\lib\\site-packages\\deepsnap\\graph.py:2126: UserWarning: __floordiv__ is deprecated, and its behavior will change in a future version of pytorch. It currently rounds toward 0 (like the 'trunc' function NOT 'floor'). This results in incorrect rounding for negative values. To keep the current behavior, use torch.div(a, b, rounding_mode='trunc'), or for actual floor division, use torch.div(a, b, rounding_mode='floor').\n",
      "  row = perm // num_nodes\n"
     ]
    },
    {
     "name": "stdout",
     "output_type": "stream",
     "text": [
      "Epoch: 050, Train: 0.9707, Val: 0.9366, Test: 0.9400, Loss: 0.39557\n"
     ]
    },
    {
     "name": "stderr",
     "output_type": "stream",
     "text": [
      "c:\\Users\\rosa-\\anaconda3\\envs\\xaifo\\lib\\site-packages\\deepsnap\\graph.py:2126: UserWarning: __floordiv__ is deprecated, and its behavior will change in a future version of pytorch. It currently rounds toward 0 (like the 'trunc' function NOT 'floor'). This results in incorrect rounding for negative values. To keep the current behavior, use torch.div(a, b, rounding_mode='trunc'), or for actual floor division, use torch.div(a, b, rounding_mode='floor').\n",
      "  row = perm // num_nodes\n"
     ]
    },
    {
     "name": "stdout",
     "output_type": "stream",
     "text": [
      "Epoch: 051, Train: 0.9715, Val: 0.9378, Test: 0.9412, Loss: 0.41070\n"
     ]
    },
    {
     "name": "stderr",
     "output_type": "stream",
     "text": [
      "c:\\Users\\rosa-\\anaconda3\\envs\\xaifo\\lib\\site-packages\\deepsnap\\graph.py:2126: UserWarning: __floordiv__ is deprecated, and its behavior will change in a future version of pytorch. It currently rounds toward 0 (like the 'trunc' function NOT 'floor'). This results in incorrect rounding for negative values. To keep the current behavior, use torch.div(a, b, rounding_mode='trunc'), or for actual floor division, use torch.div(a, b, rounding_mode='floor').\n",
      "  row = perm // num_nodes\n"
     ]
    },
    {
     "name": "stdout",
     "output_type": "stream",
     "text": [
      "Epoch: 052, Train: 0.9720, Val: 0.9402, Test: 0.9432, Loss: 0.39927\n"
     ]
    },
    {
     "name": "stderr",
     "output_type": "stream",
     "text": [
      "c:\\Users\\rosa-\\anaconda3\\envs\\xaifo\\lib\\site-packages\\deepsnap\\graph.py:2126: UserWarning: __floordiv__ is deprecated, and its behavior will change in a future version of pytorch. It currently rounds toward 0 (like the 'trunc' function NOT 'floor'). This results in incorrect rounding for negative values. To keep the current behavior, use torch.div(a, b, rounding_mode='trunc'), or for actual floor division, use torch.div(a, b, rounding_mode='floor').\n",
      "  row = perm // num_nodes\n"
     ]
    },
    {
     "name": "stdout",
     "output_type": "stream",
     "text": [
      "Epoch: 053, Train: 0.9728, Val: 0.9445, Test: 0.9477, Loss: 0.38383\n"
     ]
    },
    {
     "name": "stderr",
     "output_type": "stream",
     "text": [
      "c:\\Users\\rosa-\\anaconda3\\envs\\xaifo\\lib\\site-packages\\deepsnap\\graph.py:2126: UserWarning: __floordiv__ is deprecated, and its behavior will change in a future version of pytorch. It currently rounds toward 0 (like the 'trunc' function NOT 'floor'). This results in incorrect rounding for negative values. To keep the current behavior, use torch.div(a, b, rounding_mode='trunc'), or for actual floor division, use torch.div(a, b, rounding_mode='floor').\n",
      "  row = perm // num_nodes\n"
     ]
    },
    {
     "name": "stdout",
     "output_type": "stream",
     "text": [
      "Epoch: 054, Train: 0.9740, Val: 0.9483, Test: 0.9514, Loss: 0.39193\n"
     ]
    },
    {
     "name": "stderr",
     "output_type": "stream",
     "text": [
      "c:\\Users\\rosa-\\anaconda3\\envs\\xaifo\\lib\\site-packages\\deepsnap\\graph.py:2126: UserWarning: __floordiv__ is deprecated, and its behavior will change in a future version of pytorch. It currently rounds toward 0 (like the 'trunc' function NOT 'floor'). This results in incorrect rounding for negative values. To keep the current behavior, use torch.div(a, b, rounding_mode='trunc'), or for actual floor division, use torch.div(a, b, rounding_mode='floor').\n",
      "  row = perm // num_nodes\n"
     ]
    },
    {
     "name": "stdout",
     "output_type": "stream",
     "text": [
      "Epoch: 055, Train: 0.9749, Val: 0.9498, Test: 0.9528, Loss: 0.39319\n"
     ]
    },
    {
     "name": "stderr",
     "output_type": "stream",
     "text": [
      "c:\\Users\\rosa-\\anaconda3\\envs\\xaifo\\lib\\site-packages\\deepsnap\\graph.py:2126: UserWarning: __floordiv__ is deprecated, and its behavior will change in a future version of pytorch. It currently rounds toward 0 (like the 'trunc' function NOT 'floor'). This results in incorrect rounding for negative values. To keep the current behavior, use torch.div(a, b, rounding_mode='trunc'), or for actual floor division, use torch.div(a, b, rounding_mode='floor').\n",
      "  row = perm // num_nodes\n"
     ]
    },
    {
     "name": "stdout",
     "output_type": "stream",
     "text": [
      "Epoch: 056, Train: 0.9761, Val: 0.9502, Test: 0.9529, Loss: 0.38274\n"
     ]
    },
    {
     "name": "stderr",
     "output_type": "stream",
     "text": [
      "c:\\Users\\rosa-\\anaconda3\\envs\\xaifo\\lib\\site-packages\\deepsnap\\graph.py:2126: UserWarning: __floordiv__ is deprecated, and its behavior will change in a future version of pytorch. It currently rounds toward 0 (like the 'trunc' function NOT 'floor'). This results in incorrect rounding for negative values. To keep the current behavior, use torch.div(a, b, rounding_mode='trunc'), or for actual floor division, use torch.div(a, b, rounding_mode='floor').\n",
      "  row = perm // num_nodes\n"
     ]
    },
    {
     "name": "stdout",
     "output_type": "stream",
     "text": [
      "Epoch: 057, Train: 0.9767, Val: 0.9487, Test: 0.9511, Loss: 0.39049\n"
     ]
    },
    {
     "name": "stderr",
     "output_type": "stream",
     "text": [
      "c:\\Users\\rosa-\\anaconda3\\envs\\xaifo\\lib\\site-packages\\deepsnap\\graph.py:2126: UserWarning: __floordiv__ is deprecated, and its behavior will change in a future version of pytorch. It currently rounds toward 0 (like the 'trunc' function NOT 'floor'). This results in incorrect rounding for negative values. To keep the current behavior, use torch.div(a, b, rounding_mode='trunc'), or for actual floor division, use torch.div(a, b, rounding_mode='floor').\n",
      "  row = perm // num_nodes\n"
     ]
    },
    {
     "name": "stdout",
     "output_type": "stream",
     "text": [
      "Epoch: 058, Train: 0.9768, Val: 0.9483, Test: 0.9507, Loss: 0.37941\n"
     ]
    },
    {
     "name": "stderr",
     "output_type": "stream",
     "text": [
      "c:\\Users\\rosa-\\anaconda3\\envs\\xaifo\\lib\\site-packages\\deepsnap\\graph.py:2126: UserWarning: __floordiv__ is deprecated, and its behavior will change in a future version of pytorch. It currently rounds toward 0 (like the 'trunc' function NOT 'floor'). This results in incorrect rounding for negative values. To keep the current behavior, use torch.div(a, b, rounding_mode='trunc'), or for actual floor division, use torch.div(a, b, rounding_mode='floor').\n",
      "  row = perm // num_nodes\n"
     ]
    },
    {
     "name": "stdout",
     "output_type": "stream",
     "text": [
      "Epoch: 059, Train: 0.9769, Val: 0.9488, Test: 0.9516, Loss: 0.37470\n"
     ]
    },
    {
     "name": "stderr",
     "output_type": "stream",
     "text": [
      "c:\\Users\\rosa-\\anaconda3\\envs\\xaifo\\lib\\site-packages\\deepsnap\\graph.py:2126: UserWarning: __floordiv__ is deprecated, and its behavior will change in a future version of pytorch. It currently rounds toward 0 (like the 'trunc' function NOT 'floor'). This results in incorrect rounding for negative values. To keep the current behavior, use torch.div(a, b, rounding_mode='trunc'), or for actual floor division, use torch.div(a, b, rounding_mode='floor').\n",
      "  row = perm // num_nodes\n"
     ]
    },
    {
     "name": "stdout",
     "output_type": "stream",
     "text": [
      "Epoch: 060, Train: 0.9774, Val: 0.9491, Test: 0.9524, Loss: 0.37656\n"
     ]
    },
    {
     "name": "stderr",
     "output_type": "stream",
     "text": [
      "c:\\Users\\rosa-\\anaconda3\\envs\\xaifo\\lib\\site-packages\\deepsnap\\graph.py:2126: UserWarning: __floordiv__ is deprecated, and its behavior will change in a future version of pytorch. It currently rounds toward 0 (like the 'trunc' function NOT 'floor'). This results in incorrect rounding for negative values. To keep the current behavior, use torch.div(a, b, rounding_mode='trunc'), or for actual floor division, use torch.div(a, b, rounding_mode='floor').\n",
      "  row = perm // num_nodes\n"
     ]
    },
    {
     "name": "stdout",
     "output_type": "stream",
     "text": [
      "Epoch: 061, Train: 0.9773, Val: 0.9499, Test: 0.9537, Loss: 0.37929\n"
     ]
    },
    {
     "name": "stderr",
     "output_type": "stream",
     "text": [
      "c:\\Users\\rosa-\\anaconda3\\envs\\xaifo\\lib\\site-packages\\deepsnap\\graph.py:2126: UserWarning: __floordiv__ is deprecated, and its behavior will change in a future version of pytorch. It currently rounds toward 0 (like the 'trunc' function NOT 'floor'). This results in incorrect rounding for negative values. To keep the current behavior, use torch.div(a, b, rounding_mode='trunc'), or for actual floor division, use torch.div(a, b, rounding_mode='floor').\n",
      "  row = perm // num_nodes\n"
     ]
    },
    {
     "name": "stdout",
     "output_type": "stream",
     "text": [
      "Epoch: 062, Train: 0.9777, Val: 0.9518, Test: 0.9556, Loss: 0.37538\n"
     ]
    },
    {
     "name": "stderr",
     "output_type": "stream",
     "text": [
      "c:\\Users\\rosa-\\anaconda3\\envs\\xaifo\\lib\\site-packages\\deepsnap\\graph.py:2126: UserWarning: __floordiv__ is deprecated, and its behavior will change in a future version of pytorch. It currently rounds toward 0 (like the 'trunc' function NOT 'floor'). This results in incorrect rounding for negative values. To keep the current behavior, use torch.div(a, b, rounding_mode='trunc'), or for actual floor division, use torch.div(a, b, rounding_mode='floor').\n",
      "  row = perm // num_nodes\n"
     ]
    },
    {
     "name": "stdout",
     "output_type": "stream",
     "text": [
      "Epoch: 063, Train: 0.9775, Val: 0.9537, Test: 0.9573, Loss: 0.37429\n"
     ]
    },
    {
     "name": "stderr",
     "output_type": "stream",
     "text": [
      "c:\\Users\\rosa-\\anaconda3\\envs\\xaifo\\lib\\site-packages\\deepsnap\\graph.py:2126: UserWarning: __floordiv__ is deprecated, and its behavior will change in a future version of pytorch. It currently rounds toward 0 (like the 'trunc' function NOT 'floor'). This results in incorrect rounding for negative values. To keep the current behavior, use torch.div(a, b, rounding_mode='trunc'), or for actual floor division, use torch.div(a, b, rounding_mode='floor').\n",
      "  row = perm // num_nodes\n"
     ]
    },
    {
     "name": "stdout",
     "output_type": "stream",
     "text": [
      "Epoch: 064, Train: 0.9787, Val: 0.9545, Test: 0.9582, Loss: 0.36851\n"
     ]
    },
    {
     "name": "stderr",
     "output_type": "stream",
     "text": [
      "c:\\Users\\rosa-\\anaconda3\\envs\\xaifo\\lib\\site-packages\\deepsnap\\graph.py:2126: UserWarning: __floordiv__ is deprecated, and its behavior will change in a future version of pytorch. It currently rounds toward 0 (like the 'trunc' function NOT 'floor'). This results in incorrect rounding for negative values. To keep the current behavior, use torch.div(a, b, rounding_mode='trunc'), or for actual floor division, use torch.div(a, b, rounding_mode='floor').\n",
      "  row = perm // num_nodes\n"
     ]
    },
    {
     "name": "stdout",
     "output_type": "stream",
     "text": [
      "Epoch: 065, Train: 0.9783, Val: 0.9552, Test: 0.9591, Loss: 0.37448\n"
     ]
    },
    {
     "name": "stderr",
     "output_type": "stream",
     "text": [
      "c:\\Users\\rosa-\\anaconda3\\envs\\xaifo\\lib\\site-packages\\deepsnap\\graph.py:2126: UserWarning: __floordiv__ is deprecated, and its behavior will change in a future version of pytorch. It currently rounds toward 0 (like the 'trunc' function NOT 'floor'). This results in incorrect rounding for negative values. To keep the current behavior, use torch.div(a, b, rounding_mode='trunc'), or for actual floor division, use torch.div(a, b, rounding_mode='floor').\n",
      "  row = perm // num_nodes\n"
     ]
    },
    {
     "name": "stdout",
     "output_type": "stream",
     "text": [
      "Epoch: 066, Train: 0.9791, Val: 0.9549, Test: 0.9588, Loss: 0.37535\n"
     ]
    },
    {
     "name": "stderr",
     "output_type": "stream",
     "text": [
      "c:\\Users\\rosa-\\anaconda3\\envs\\xaifo\\lib\\site-packages\\deepsnap\\graph.py:2126: UserWarning: __floordiv__ is deprecated, and its behavior will change in a future version of pytorch. It currently rounds toward 0 (like the 'trunc' function NOT 'floor'). This results in incorrect rounding for negative values. To keep the current behavior, use torch.div(a, b, rounding_mode='trunc'), or for actual floor division, use torch.div(a, b, rounding_mode='floor').\n",
      "  row = perm // num_nodes\n"
     ]
    },
    {
     "name": "stdout",
     "output_type": "stream",
     "text": [
      "Epoch: 067, Train: 0.9789, Val: 0.9548, Test: 0.9586, Loss: 0.37283\n"
     ]
    },
    {
     "name": "stderr",
     "output_type": "stream",
     "text": [
      "c:\\Users\\rosa-\\anaconda3\\envs\\xaifo\\lib\\site-packages\\deepsnap\\graph.py:2126: UserWarning: __floordiv__ is deprecated, and its behavior will change in a future version of pytorch. It currently rounds toward 0 (like the 'trunc' function NOT 'floor'). This results in incorrect rounding for negative values. To keep the current behavior, use torch.div(a, b, rounding_mode='trunc'), or for actual floor division, use torch.div(a, b, rounding_mode='floor').\n",
      "  row = perm // num_nodes\n"
     ]
    },
    {
     "name": "stdout",
     "output_type": "stream",
     "text": [
      "Epoch: 068, Train: 0.9791, Val: 0.9558, Test: 0.9593, Loss: 0.37027\n"
     ]
    },
    {
     "name": "stderr",
     "output_type": "stream",
     "text": [
      "c:\\Users\\rosa-\\anaconda3\\envs\\xaifo\\lib\\site-packages\\deepsnap\\graph.py:2126: UserWarning: __floordiv__ is deprecated, and its behavior will change in a future version of pytorch. It currently rounds toward 0 (like the 'trunc' function NOT 'floor'). This results in incorrect rounding for negative values. To keep the current behavior, use torch.div(a, b, rounding_mode='trunc'), or for actual floor division, use torch.div(a, b, rounding_mode='floor').\n",
      "  row = perm // num_nodes\n"
     ]
    },
    {
     "name": "stdout",
     "output_type": "stream",
     "text": [
      "Epoch: 069, Train: 0.9792, Val: 0.9577, Test: 0.9615, Loss: 0.37524\n"
     ]
    },
    {
     "name": "stderr",
     "output_type": "stream",
     "text": [
      "c:\\Users\\rosa-\\anaconda3\\envs\\xaifo\\lib\\site-packages\\deepsnap\\graph.py:2126: UserWarning: __floordiv__ is deprecated, and its behavior will change in a future version of pytorch. It currently rounds toward 0 (like the 'trunc' function NOT 'floor'). This results in incorrect rounding for negative values. To keep the current behavior, use torch.div(a, b, rounding_mode='trunc'), or for actual floor division, use torch.div(a, b, rounding_mode='floor').\n",
      "  row = perm // num_nodes\n"
     ]
    },
    {
     "name": "stdout",
     "output_type": "stream",
     "text": [
      "Epoch: 070, Train: 0.9799, Val: 0.9589, Test: 0.9631, Loss: 0.36743\n"
     ]
    },
    {
     "name": "stderr",
     "output_type": "stream",
     "text": [
      "c:\\Users\\rosa-\\anaconda3\\envs\\xaifo\\lib\\site-packages\\deepsnap\\graph.py:2126: UserWarning: __floordiv__ is deprecated, and its behavior will change in a future version of pytorch. It currently rounds toward 0 (like the 'trunc' function NOT 'floor'). This results in incorrect rounding for negative values. To keep the current behavior, use torch.div(a, b, rounding_mode='trunc'), or for actual floor division, use torch.div(a, b, rounding_mode='floor').\n",
      "  row = perm // num_nodes\n"
     ]
    },
    {
     "name": "stdout",
     "output_type": "stream",
     "text": [
      "Epoch: 071, Train: 0.9799, Val: 0.9589, Test: 0.9632, Loss: 0.36454\n"
     ]
    },
    {
     "name": "stderr",
     "output_type": "stream",
     "text": [
      "c:\\Users\\rosa-\\anaconda3\\envs\\xaifo\\lib\\site-packages\\deepsnap\\graph.py:2126: UserWarning: __floordiv__ is deprecated, and its behavior will change in a future version of pytorch. It currently rounds toward 0 (like the 'trunc' function NOT 'floor'). This results in incorrect rounding for negative values. To keep the current behavior, use torch.div(a, b, rounding_mode='trunc'), or for actual floor division, use torch.div(a, b, rounding_mode='floor').\n",
      "  row = perm // num_nodes\n"
     ]
    },
    {
     "name": "stdout",
     "output_type": "stream",
     "text": [
      "Epoch: 072, Train: 0.9809, Val: 0.9591, Test: 0.9634, Loss: 0.37271\n"
     ]
    },
    {
     "name": "stderr",
     "output_type": "stream",
     "text": [
      "c:\\Users\\rosa-\\anaconda3\\envs\\xaifo\\lib\\site-packages\\deepsnap\\graph.py:2126: UserWarning: __floordiv__ is deprecated, and its behavior will change in a future version of pytorch. It currently rounds toward 0 (like the 'trunc' function NOT 'floor'). This results in incorrect rounding for negative values. To keep the current behavior, use torch.div(a, b, rounding_mode='trunc'), or for actual floor division, use torch.div(a, b, rounding_mode='floor').\n",
      "  row = perm // num_nodes\n"
     ]
    },
    {
     "name": "stdout",
     "output_type": "stream",
     "text": [
      "Epoch: 073, Train: 0.9812, Val: 0.9584, Test: 0.9626, Loss: 0.35798\n"
     ]
    },
    {
     "name": "stderr",
     "output_type": "stream",
     "text": [
      "c:\\Users\\rosa-\\anaconda3\\envs\\xaifo\\lib\\site-packages\\deepsnap\\graph.py:2126: UserWarning: __floordiv__ is deprecated, and its behavior will change in a future version of pytorch. It currently rounds toward 0 (like the 'trunc' function NOT 'floor'). This results in incorrect rounding for negative values. To keep the current behavior, use torch.div(a, b, rounding_mode='trunc'), or for actual floor division, use torch.div(a, b, rounding_mode='floor').\n",
      "  row = perm // num_nodes\n"
     ]
    },
    {
     "name": "stdout",
     "output_type": "stream",
     "text": [
      "Epoch: 074, Train: 0.9814, Val: 0.9570, Test: 0.9609, Loss: 0.35873\n"
     ]
    },
    {
     "name": "stderr",
     "output_type": "stream",
     "text": [
      "c:\\Users\\rosa-\\anaconda3\\envs\\xaifo\\lib\\site-packages\\deepsnap\\graph.py:2126: UserWarning: __floordiv__ is deprecated, and its behavior will change in a future version of pytorch. It currently rounds toward 0 (like the 'trunc' function NOT 'floor'). This results in incorrect rounding for negative values. To keep the current behavior, use torch.div(a, b, rounding_mode='trunc'), or for actual floor division, use torch.div(a, b, rounding_mode='floor').\n",
      "  row = perm // num_nodes\n"
     ]
    },
    {
     "name": "stdout",
     "output_type": "stream",
     "text": [
      "Epoch: 075, Train: 0.9815, Val: 0.9556, Test: 0.9593, Loss: 0.36145\n"
     ]
    },
    {
     "name": "stderr",
     "output_type": "stream",
     "text": [
      "c:\\Users\\rosa-\\anaconda3\\envs\\xaifo\\lib\\site-packages\\deepsnap\\graph.py:2126: UserWarning: __floordiv__ is deprecated, and its behavior will change in a future version of pytorch. It currently rounds toward 0 (like the 'trunc' function NOT 'floor'). This results in incorrect rounding for negative values. To keep the current behavior, use torch.div(a, b, rounding_mode='trunc'), or for actual floor division, use torch.div(a, b, rounding_mode='floor').\n",
      "  row = perm // num_nodes\n"
     ]
    },
    {
     "name": "stdout",
     "output_type": "stream",
     "text": [
      "Epoch: 076, Train: 0.9811, Val: 0.9548, Test: 0.9589, Loss: 0.36045\n"
     ]
    },
    {
     "name": "stderr",
     "output_type": "stream",
     "text": [
      "c:\\Users\\rosa-\\anaconda3\\envs\\xaifo\\lib\\site-packages\\deepsnap\\graph.py:2126: UserWarning: __floordiv__ is deprecated, and its behavior will change in a future version of pytorch. It currently rounds toward 0 (like the 'trunc' function NOT 'floor'). This results in incorrect rounding for negative values. To keep the current behavior, use torch.div(a, b, rounding_mode='trunc'), or for actual floor division, use torch.div(a, b, rounding_mode='floor').\n",
      "  row = perm // num_nodes\n"
     ]
    },
    {
     "name": "stdout",
     "output_type": "stream",
     "text": [
      "Epoch: 077, Train: 0.9813, Val: 0.9548, Test: 0.9589, Loss: 0.36570\n"
     ]
    },
    {
     "name": "stderr",
     "output_type": "stream",
     "text": [
      "c:\\Users\\rosa-\\anaconda3\\envs\\xaifo\\lib\\site-packages\\deepsnap\\graph.py:2126: UserWarning: __floordiv__ is deprecated, and its behavior will change in a future version of pytorch. It currently rounds toward 0 (like the 'trunc' function NOT 'floor'). This results in incorrect rounding for negative values. To keep the current behavior, use torch.div(a, b, rounding_mode='trunc'), or for actual floor division, use torch.div(a, b, rounding_mode='floor').\n",
      "  row = perm // num_nodes\n"
     ]
    },
    {
     "name": "stdout",
     "output_type": "stream",
     "text": [
      "Epoch: 078, Train: 0.9811, Val: 0.9555, Test: 0.9598, Loss: 0.35687\n"
     ]
    },
    {
     "name": "stderr",
     "output_type": "stream",
     "text": [
      "c:\\Users\\rosa-\\anaconda3\\envs\\xaifo\\lib\\site-packages\\deepsnap\\graph.py:2126: UserWarning: __floordiv__ is deprecated, and its behavior will change in a future version of pytorch. It currently rounds toward 0 (like the 'trunc' function NOT 'floor'). This results in incorrect rounding for negative values. To keep the current behavior, use torch.div(a, b, rounding_mode='trunc'), or for actual floor division, use torch.div(a, b, rounding_mode='floor').\n",
      "  row = perm // num_nodes\n"
     ]
    },
    {
     "name": "stdout",
     "output_type": "stream",
     "text": [
      "Epoch: 079, Train: 0.9811, Val: 0.9573, Test: 0.9622, Loss: 0.35415\n"
     ]
    },
    {
     "name": "stderr",
     "output_type": "stream",
     "text": [
      "c:\\Users\\rosa-\\anaconda3\\envs\\xaifo\\lib\\site-packages\\deepsnap\\graph.py:2126: UserWarning: __floordiv__ is deprecated, and its behavior will change in a future version of pytorch. It currently rounds toward 0 (like the 'trunc' function NOT 'floor'). This results in incorrect rounding for negative values. To keep the current behavior, use torch.div(a, b, rounding_mode='trunc'), or for actual floor division, use torch.div(a, b, rounding_mode='floor').\n",
      "  row = perm // num_nodes\n"
     ]
    },
    {
     "name": "stdout",
     "output_type": "stream",
     "text": [
      "Epoch: 080, Train: 0.9806, Val: 0.9600, Test: 0.9650, Loss: 0.35044\n"
     ]
    },
    {
     "name": "stderr",
     "output_type": "stream",
     "text": [
      "c:\\Users\\rosa-\\anaconda3\\envs\\xaifo\\lib\\site-packages\\deepsnap\\graph.py:2126: UserWarning: __floordiv__ is deprecated, and its behavior will change in a future version of pytorch. It currently rounds toward 0 (like the 'trunc' function NOT 'floor'). This results in incorrect rounding for negative values. To keep the current behavior, use torch.div(a, b, rounding_mode='trunc'), or for actual floor division, use torch.div(a, b, rounding_mode='floor').\n",
      "  row = perm // num_nodes\n"
     ]
    },
    {
     "name": "stdout",
     "output_type": "stream",
     "text": [
      "Epoch: 081, Train: 0.9806, Val: 0.9618, Test: 0.9666, Loss: 0.36169\n"
     ]
    },
    {
     "name": "stderr",
     "output_type": "stream",
     "text": [
      "c:\\Users\\rosa-\\anaconda3\\envs\\xaifo\\lib\\site-packages\\deepsnap\\graph.py:2126: UserWarning: __floordiv__ is deprecated, and its behavior will change in a future version of pytorch. It currently rounds toward 0 (like the 'trunc' function NOT 'floor'). This results in incorrect rounding for negative values. To keep the current behavior, use torch.div(a, b, rounding_mode='trunc'), or for actual floor division, use torch.div(a, b, rounding_mode='floor').\n",
      "  row = perm // num_nodes\n"
     ]
    },
    {
     "name": "stdout",
     "output_type": "stream",
     "text": [
      "Epoch: 082, Train: 0.9814, Val: 0.9630, Test: 0.9677, Loss: 0.35647\n"
     ]
    },
    {
     "name": "stderr",
     "output_type": "stream",
     "text": [
      "c:\\Users\\rosa-\\anaconda3\\envs\\xaifo\\lib\\site-packages\\deepsnap\\graph.py:2126: UserWarning: __floordiv__ is deprecated, and its behavior will change in a future version of pytorch. It currently rounds toward 0 (like the 'trunc' function NOT 'floor'). This results in incorrect rounding for negative values. To keep the current behavior, use torch.div(a, b, rounding_mode='trunc'), or for actual floor division, use torch.div(a, b, rounding_mode='floor').\n",
      "  row = perm // num_nodes\n"
     ]
    },
    {
     "name": "stdout",
     "output_type": "stream",
     "text": [
      "Epoch: 083, Train: 0.9810, Val: 0.9638, Test: 0.9685, Loss: 0.35314\n"
     ]
    },
    {
     "name": "stderr",
     "output_type": "stream",
     "text": [
      "c:\\Users\\rosa-\\anaconda3\\envs\\xaifo\\lib\\site-packages\\deepsnap\\graph.py:2126: UserWarning: __floordiv__ is deprecated, and its behavior will change in a future version of pytorch. It currently rounds toward 0 (like the 'trunc' function NOT 'floor'). This results in incorrect rounding for negative values. To keep the current behavior, use torch.div(a, b, rounding_mode='trunc'), or for actual floor division, use torch.div(a, b, rounding_mode='floor').\n",
      "  row = perm // num_nodes\n"
     ]
    },
    {
     "name": "stdout",
     "output_type": "stream",
     "text": [
      "Epoch: 084, Train: 0.9812, Val: 0.9637, Test: 0.9683, Loss: 0.36060\n"
     ]
    },
    {
     "name": "stderr",
     "output_type": "stream",
     "text": [
      "c:\\Users\\rosa-\\anaconda3\\envs\\xaifo\\lib\\site-packages\\deepsnap\\graph.py:2126: UserWarning: __floordiv__ is deprecated, and its behavior will change in a future version of pytorch. It currently rounds toward 0 (like the 'trunc' function NOT 'floor'). This results in incorrect rounding for negative values. To keep the current behavior, use torch.div(a, b, rounding_mode='trunc'), or for actual floor division, use torch.div(a, b, rounding_mode='floor').\n",
      "  row = perm // num_nodes\n"
     ]
    },
    {
     "name": "stdout",
     "output_type": "stream",
     "text": [
      "Epoch: 085, Train: 0.9815, Val: 0.9633, Test: 0.9679, Loss: 0.35804\n"
     ]
    },
    {
     "name": "stderr",
     "output_type": "stream",
     "text": [
      "c:\\Users\\rosa-\\anaconda3\\envs\\xaifo\\lib\\site-packages\\deepsnap\\graph.py:2126: UserWarning: __floordiv__ is deprecated, and its behavior will change in a future version of pytorch. It currently rounds toward 0 (like the 'trunc' function NOT 'floor'). This results in incorrect rounding for negative values. To keep the current behavior, use torch.div(a, b, rounding_mode='trunc'), or for actual floor division, use torch.div(a, b, rounding_mode='floor').\n",
      "  row = perm // num_nodes\n"
     ]
    },
    {
     "name": "stdout",
     "output_type": "stream",
     "text": [
      "Epoch: 086, Train: 0.9813, Val: 0.9634, Test: 0.9681, Loss: 0.35861\n"
     ]
    },
    {
     "name": "stderr",
     "output_type": "stream",
     "text": [
      "c:\\Users\\rosa-\\anaconda3\\envs\\xaifo\\lib\\site-packages\\deepsnap\\graph.py:2126: UserWarning: __floordiv__ is deprecated, and its behavior will change in a future version of pytorch. It currently rounds toward 0 (like the 'trunc' function NOT 'floor'). This results in incorrect rounding for negative values. To keep the current behavior, use torch.div(a, b, rounding_mode='trunc'), or for actual floor division, use torch.div(a, b, rounding_mode='floor').\n",
      "  row = perm // num_nodes\n"
     ]
    },
    {
     "name": "stdout",
     "output_type": "stream",
     "text": [
      "Epoch: 087, Train: 0.9813, Val: 0.9643, Test: 0.9690, Loss: 0.35868\n"
     ]
    },
    {
     "name": "stderr",
     "output_type": "stream",
     "text": [
      "c:\\Users\\rosa-\\anaconda3\\envs\\xaifo\\lib\\site-packages\\deepsnap\\graph.py:2126: UserWarning: __floordiv__ is deprecated, and its behavior will change in a future version of pytorch. It currently rounds toward 0 (like the 'trunc' function NOT 'floor'). This results in incorrect rounding for negative values. To keep the current behavior, use torch.div(a, b, rounding_mode='trunc'), or for actual floor division, use torch.div(a, b, rounding_mode='floor').\n",
      "  row = perm // num_nodes\n"
     ]
    },
    {
     "name": "stdout",
     "output_type": "stream",
     "text": [
      "Epoch: 088, Train: 0.9811, Val: 0.9651, Test: 0.9699, Loss: 0.34523\n"
     ]
    },
    {
     "name": "stderr",
     "output_type": "stream",
     "text": [
      "c:\\Users\\rosa-\\anaconda3\\envs\\xaifo\\lib\\site-packages\\deepsnap\\graph.py:2126: UserWarning: __floordiv__ is deprecated, and its behavior will change in a future version of pytorch. It currently rounds toward 0 (like the 'trunc' function NOT 'floor'). This results in incorrect rounding for negative values. To keep the current behavior, use torch.div(a, b, rounding_mode='trunc'), or for actual floor division, use torch.div(a, b, rounding_mode='floor').\n",
      "  row = perm // num_nodes\n"
     ]
    },
    {
     "name": "stdout",
     "output_type": "stream",
     "text": [
      "Epoch: 089, Train: 0.9810, Val: 0.9659, Test: 0.9710, Loss: 0.34536\n"
     ]
    },
    {
     "name": "stderr",
     "output_type": "stream",
     "text": [
      "c:\\Users\\rosa-\\anaconda3\\envs\\xaifo\\lib\\site-packages\\deepsnap\\graph.py:2126: UserWarning: __floordiv__ is deprecated, and its behavior will change in a future version of pytorch. It currently rounds toward 0 (like the 'trunc' function NOT 'floor'). This results in incorrect rounding for negative values. To keep the current behavior, use torch.div(a, b, rounding_mode='trunc'), or for actual floor division, use torch.div(a, b, rounding_mode='floor').\n",
      "  row = perm // num_nodes\n"
     ]
    },
    {
     "name": "stdout",
     "output_type": "stream",
     "text": [
      "Epoch: 090, Train: 0.9810, Val: 0.9659, Test: 0.9714, Loss: 0.34396\n"
     ]
    },
    {
     "name": "stderr",
     "output_type": "stream",
     "text": [
      "c:\\Users\\rosa-\\anaconda3\\envs\\xaifo\\lib\\site-packages\\deepsnap\\graph.py:2126: UserWarning: __floordiv__ is deprecated, and its behavior will change in a future version of pytorch. It currently rounds toward 0 (like the 'trunc' function NOT 'floor'). This results in incorrect rounding for negative values. To keep the current behavior, use torch.div(a, b, rounding_mode='trunc'), or for actual floor division, use torch.div(a, b, rounding_mode='floor').\n",
      "  row = perm // num_nodes\n"
     ]
    },
    {
     "name": "stdout",
     "output_type": "stream",
     "text": [
      "Epoch: 091, Train: 0.9806, Val: 0.9651, Test: 0.9711, Loss: 0.34942\n"
     ]
    },
    {
     "name": "stderr",
     "output_type": "stream",
     "text": [
      "c:\\Users\\rosa-\\anaconda3\\envs\\xaifo\\lib\\site-packages\\deepsnap\\graph.py:2126: UserWarning: __floordiv__ is deprecated, and its behavior will change in a future version of pytorch. It currently rounds toward 0 (like the 'trunc' function NOT 'floor'). This results in incorrect rounding for negative values. To keep the current behavior, use torch.div(a, b, rounding_mode='trunc'), or for actual floor division, use torch.div(a, b, rounding_mode='floor').\n",
      "  row = perm // num_nodes\n"
     ]
    },
    {
     "name": "stdout",
     "output_type": "stream",
     "text": [
      "Epoch: 092, Train: 0.9797, Val: 0.9640, Test: 0.9705, Loss: 0.35119\n"
     ]
    },
    {
     "name": "stderr",
     "output_type": "stream",
     "text": [
      "c:\\Users\\rosa-\\anaconda3\\envs\\xaifo\\lib\\site-packages\\deepsnap\\graph.py:2126: UserWarning: __floordiv__ is deprecated, and its behavior will change in a future version of pytorch. It currently rounds toward 0 (like the 'trunc' function NOT 'floor'). This results in incorrect rounding for negative values. To keep the current behavior, use torch.div(a, b, rounding_mode='trunc'), or for actual floor division, use torch.div(a, b, rounding_mode='floor').\n",
      "  row = perm // num_nodes\n"
     ]
    },
    {
     "name": "stdout",
     "output_type": "stream",
     "text": [
      "Epoch: 093, Train: 0.9805, Val: 0.9635, Test: 0.9704, Loss: 0.34401\n"
     ]
    },
    {
     "name": "stderr",
     "output_type": "stream",
     "text": [
      "c:\\Users\\rosa-\\anaconda3\\envs\\xaifo\\lib\\site-packages\\deepsnap\\graph.py:2126: UserWarning: __floordiv__ is deprecated, and its behavior will change in a future version of pytorch. It currently rounds toward 0 (like the 'trunc' function NOT 'floor'). This results in incorrect rounding for negative values. To keep the current behavior, use torch.div(a, b, rounding_mode='trunc'), or for actual floor division, use torch.div(a, b, rounding_mode='floor').\n",
      "  row = perm // num_nodes\n"
     ]
    },
    {
     "name": "stdout",
     "output_type": "stream",
     "text": [
      "Epoch: 094, Train: 0.9803, Val: 0.9639, Test: 0.9706, Loss: 0.34064\n"
     ]
    },
    {
     "name": "stderr",
     "output_type": "stream",
     "text": [
      "c:\\Users\\rosa-\\anaconda3\\envs\\xaifo\\lib\\site-packages\\deepsnap\\graph.py:2126: UserWarning: __floordiv__ is deprecated, and its behavior will change in a future version of pytorch. It currently rounds toward 0 (like the 'trunc' function NOT 'floor'). This results in incorrect rounding for negative values. To keep the current behavior, use torch.div(a, b, rounding_mode='trunc'), or for actual floor division, use torch.div(a, b, rounding_mode='floor').\n",
      "  row = perm // num_nodes\n"
     ]
    },
    {
     "name": "stdout",
     "output_type": "stream",
     "text": [
      "Epoch: 095, Train: 0.9806, Val: 0.9646, Test: 0.9709, Loss: 0.34443\n"
     ]
    },
    {
     "name": "stderr",
     "output_type": "stream",
     "text": [
      "c:\\Users\\rosa-\\anaconda3\\envs\\xaifo\\lib\\site-packages\\deepsnap\\graph.py:2126: UserWarning: __floordiv__ is deprecated, and its behavior will change in a future version of pytorch. It currently rounds toward 0 (like the 'trunc' function NOT 'floor'). This results in incorrect rounding for negative values. To keep the current behavior, use torch.div(a, b, rounding_mode='trunc'), or for actual floor division, use torch.div(a, b, rounding_mode='floor').\n",
      "  row = perm // num_nodes\n"
     ]
    },
    {
     "name": "stdout",
     "output_type": "stream",
     "text": [
      "Epoch: 096, Train: 0.9802, Val: 0.9654, Test: 0.9712, Loss: 0.34787\n"
     ]
    },
    {
     "name": "stderr",
     "output_type": "stream",
     "text": [
      "c:\\Users\\rosa-\\anaconda3\\envs\\xaifo\\lib\\site-packages\\deepsnap\\graph.py:2126: UserWarning: __floordiv__ is deprecated, and its behavior will change in a future version of pytorch. It currently rounds toward 0 (like the 'trunc' function NOT 'floor'). This results in incorrect rounding for negative values. To keep the current behavior, use torch.div(a, b, rounding_mode='trunc'), or for actual floor division, use torch.div(a, b, rounding_mode='floor').\n",
      "  row = perm // num_nodes\n"
     ]
    },
    {
     "name": "stdout",
     "output_type": "stream",
     "text": [
      "Epoch: 097, Train: 0.9804, Val: 0.9656, Test: 0.9711, Loss: 0.33736\n"
     ]
    },
    {
     "name": "stderr",
     "output_type": "stream",
     "text": [
      "c:\\Users\\rosa-\\anaconda3\\envs\\xaifo\\lib\\site-packages\\deepsnap\\graph.py:2126: UserWarning: __floordiv__ is deprecated, and its behavior will change in a future version of pytorch. It currently rounds toward 0 (like the 'trunc' function NOT 'floor'). This results in incorrect rounding for negative values. To keep the current behavior, use torch.div(a, b, rounding_mode='trunc'), or for actual floor division, use torch.div(a, b, rounding_mode='floor').\n",
      "  row = perm // num_nodes\n"
     ]
    },
    {
     "name": "stdout",
     "output_type": "stream",
     "text": [
      "Epoch: 098, Train: 0.9808, Val: 0.9656, Test: 0.9708, Loss: 0.34741\n"
     ]
    },
    {
     "name": "stderr",
     "output_type": "stream",
     "text": [
      "c:\\Users\\rosa-\\anaconda3\\envs\\xaifo\\lib\\site-packages\\deepsnap\\graph.py:2126: UserWarning: __floordiv__ is deprecated, and its behavior will change in a future version of pytorch. It currently rounds toward 0 (like the 'trunc' function NOT 'floor'). This results in incorrect rounding for negative values. To keep the current behavior, use torch.div(a, b, rounding_mode='trunc'), or for actual floor division, use torch.div(a, b, rounding_mode='floor').\n",
      "  row = perm // num_nodes\n"
     ]
    },
    {
     "name": "stdout",
     "output_type": "stream",
     "text": [
      "Epoch: 099, Train: 0.9804, Val: 0.9655, Test: 0.9706, Loss: 0.34371\n"
     ]
    },
    {
     "name": "stderr",
     "output_type": "stream",
     "text": [
      "c:\\Users\\rosa-\\anaconda3\\envs\\xaifo\\lib\\site-packages\\deepsnap\\graph.py:2126: UserWarning: __floordiv__ is deprecated, and its behavior will change in a future version of pytorch. It currently rounds toward 0 (like the 'trunc' function NOT 'floor'). This results in incorrect rounding for negative values. To keep the current behavior, use torch.div(a, b, rounding_mode='trunc'), or for actual floor division, use torch.div(a, b, rounding_mode='floor').\n",
      "  row = perm // num_nodes\n"
     ]
    },
    {
     "name": "stdout",
     "output_type": "stream",
     "text": [
      "Epoch: 100, Train: 0.9805, Val: 0.9655, Test: 0.9706, Loss: 0.33435\n"
     ]
    },
    {
     "name": "stderr",
     "output_type": "stream",
     "text": [
      "c:\\Users\\rosa-\\anaconda3\\envs\\xaifo\\lib\\site-packages\\deepsnap\\graph.py:2126: UserWarning: __floordiv__ is deprecated, and its behavior will change in a future version of pytorch. It currently rounds toward 0 (like the 'trunc' function NOT 'floor'). This results in incorrect rounding for negative values. To keep the current behavior, use torch.div(a, b, rounding_mode='trunc'), or for actual floor division, use torch.div(a, b, rounding_mode='floor').\n",
      "  row = perm // num_nodes\n"
     ]
    },
    {
     "name": "stdout",
     "output_type": "stream",
     "text": [
      "Epoch: 101, Train: 0.9802, Val: 0.9654, Test: 0.9706, Loss: 0.34257\n"
     ]
    },
    {
     "name": "stderr",
     "output_type": "stream",
     "text": [
      "c:\\Users\\rosa-\\anaconda3\\envs\\xaifo\\lib\\site-packages\\deepsnap\\graph.py:2126: UserWarning: __floordiv__ is deprecated, and its behavior will change in a future version of pytorch. It currently rounds toward 0 (like the 'trunc' function NOT 'floor'). This results in incorrect rounding for negative values. To keep the current behavior, use torch.div(a, b, rounding_mode='trunc'), or for actual floor division, use torch.div(a, b, rounding_mode='floor').\n",
      "  row = perm // num_nodes\n"
     ]
    },
    {
     "name": "stdout",
     "output_type": "stream",
     "text": [
      "Epoch: 102, Train: 0.9811, Val: 0.9655, Test: 0.9705, Loss: 0.34637\n"
     ]
    },
    {
     "name": "stderr",
     "output_type": "stream",
     "text": [
      "c:\\Users\\rosa-\\anaconda3\\envs\\xaifo\\lib\\site-packages\\deepsnap\\graph.py:2126: UserWarning: __floordiv__ is deprecated, and its behavior will change in a future version of pytorch. It currently rounds toward 0 (like the 'trunc' function NOT 'floor'). This results in incorrect rounding for negative values. To keep the current behavior, use torch.div(a, b, rounding_mode='trunc'), or for actual floor division, use torch.div(a, b, rounding_mode='floor').\n",
      "  row = perm // num_nodes\n"
     ]
    },
    {
     "name": "stdout",
     "output_type": "stream",
     "text": [
      "Epoch: 103, Train: 0.9812, Val: 0.9654, Test: 0.9702, Loss: 0.35103\n"
     ]
    },
    {
     "name": "stderr",
     "output_type": "stream",
     "text": [
      "c:\\Users\\rosa-\\anaconda3\\envs\\xaifo\\lib\\site-packages\\deepsnap\\graph.py:2126: UserWarning: __floordiv__ is deprecated, and its behavior will change in a future version of pytorch. It currently rounds toward 0 (like the 'trunc' function NOT 'floor'). This results in incorrect rounding for negative values. To keep the current behavior, use torch.div(a, b, rounding_mode='trunc'), or for actual floor division, use torch.div(a, b, rounding_mode='floor').\n",
      "  row = perm // num_nodes\n"
     ]
    },
    {
     "name": "stdout",
     "output_type": "stream",
     "text": [
      "Epoch: 104, Train: 0.9815, Val: 0.9654, Test: 0.9701, Loss: 0.33165\n"
     ]
    },
    {
     "name": "stderr",
     "output_type": "stream",
     "text": [
      "c:\\Users\\rosa-\\anaconda3\\envs\\xaifo\\lib\\site-packages\\deepsnap\\graph.py:2126: UserWarning: __floordiv__ is deprecated, and its behavior will change in a future version of pytorch. It currently rounds toward 0 (like the 'trunc' function NOT 'floor'). This results in incorrect rounding for negative values. To keep the current behavior, use torch.div(a, b, rounding_mode='trunc'), or for actual floor division, use torch.div(a, b, rounding_mode='floor').\n",
      "  row = perm // num_nodes\n"
     ]
    },
    {
     "name": "stdout",
     "output_type": "stream",
     "text": [
      "Epoch: 105, Train: 0.9822, Val: 0.9657, Test: 0.9705, Loss: 0.34564\n"
     ]
    },
    {
     "name": "stderr",
     "output_type": "stream",
     "text": [
      "c:\\Users\\rosa-\\anaconda3\\envs\\xaifo\\lib\\site-packages\\deepsnap\\graph.py:2126: UserWarning: __floordiv__ is deprecated, and its behavior will change in a future version of pytorch. It currently rounds toward 0 (like the 'trunc' function NOT 'floor'). This results in incorrect rounding for negative values. To keep the current behavior, use torch.div(a, b, rounding_mode='trunc'), or for actual floor division, use torch.div(a, b, rounding_mode='floor').\n",
      "  row = perm // num_nodes\n"
     ]
    },
    {
     "name": "stdout",
     "output_type": "stream",
     "text": [
      "Epoch: 106, Train: 0.9816, Val: 0.9660, Test: 0.9708, Loss: 0.34117\n"
     ]
    },
    {
     "name": "stderr",
     "output_type": "stream",
     "text": [
      "c:\\Users\\rosa-\\anaconda3\\envs\\xaifo\\lib\\site-packages\\deepsnap\\graph.py:2126: UserWarning: __floordiv__ is deprecated, and its behavior will change in a future version of pytorch. It currently rounds toward 0 (like the 'trunc' function NOT 'floor'). This results in incorrect rounding for negative values. To keep the current behavior, use torch.div(a, b, rounding_mode='trunc'), or for actual floor division, use torch.div(a, b, rounding_mode='floor').\n",
      "  row = perm // num_nodes\n"
     ]
    },
    {
     "name": "stdout",
     "output_type": "stream",
     "text": [
      "Epoch: 107, Train: 0.9817, Val: 0.9664, Test: 0.9713, Loss: 0.33625\n"
     ]
    },
    {
     "name": "stderr",
     "output_type": "stream",
     "text": [
      "c:\\Users\\rosa-\\anaconda3\\envs\\xaifo\\lib\\site-packages\\deepsnap\\graph.py:2126: UserWarning: __floordiv__ is deprecated, and its behavior will change in a future version of pytorch. It currently rounds toward 0 (like the 'trunc' function NOT 'floor'). This results in incorrect rounding for negative values. To keep the current behavior, use torch.div(a, b, rounding_mode='trunc'), or for actual floor division, use torch.div(a, b, rounding_mode='floor').\n",
      "  row = perm // num_nodes\n"
     ]
    },
    {
     "name": "stdout",
     "output_type": "stream",
     "text": [
      "Epoch: 108, Train: 0.9814, Val: 0.9666, Test: 0.9717, Loss: 0.34357\n"
     ]
    },
    {
     "name": "stderr",
     "output_type": "stream",
     "text": [
      "c:\\Users\\rosa-\\anaconda3\\envs\\xaifo\\lib\\site-packages\\deepsnap\\graph.py:2126: UserWarning: __floordiv__ is deprecated, and its behavior will change in a future version of pytorch. It currently rounds toward 0 (like the 'trunc' function NOT 'floor'). This results in incorrect rounding for negative values. To keep the current behavior, use torch.div(a, b, rounding_mode='trunc'), or for actual floor division, use torch.div(a, b, rounding_mode='floor').\n",
      "  row = perm // num_nodes\n"
     ]
    },
    {
     "name": "stdout",
     "output_type": "stream",
     "text": [
      "Epoch: 109, Train: 0.9816, Val: 0.9666, Test: 0.9720, Loss: 0.33135\n"
     ]
    },
    {
     "name": "stderr",
     "output_type": "stream",
     "text": [
      "c:\\Users\\rosa-\\anaconda3\\envs\\xaifo\\lib\\site-packages\\deepsnap\\graph.py:2126: UserWarning: __floordiv__ is deprecated, and its behavior will change in a future version of pytorch. It currently rounds toward 0 (like the 'trunc' function NOT 'floor'). This results in incorrect rounding for negative values. To keep the current behavior, use torch.div(a, b, rounding_mode='trunc'), or for actual floor division, use torch.div(a, b, rounding_mode='floor').\n",
      "  row = perm // num_nodes\n"
     ]
    },
    {
     "name": "stdout",
     "output_type": "stream",
     "text": [
      "Epoch: 110, Train: 0.9812, Val: 0.9666, Test: 0.9722, Loss: 0.34303\n"
     ]
    },
    {
     "name": "stderr",
     "output_type": "stream",
     "text": [
      "c:\\Users\\rosa-\\anaconda3\\envs\\xaifo\\lib\\site-packages\\deepsnap\\graph.py:2126: UserWarning: __floordiv__ is deprecated, and its behavior will change in a future version of pytorch. It currently rounds toward 0 (like the 'trunc' function NOT 'floor'). This results in incorrect rounding for negative values. To keep the current behavior, use torch.div(a, b, rounding_mode='trunc'), or for actual floor division, use torch.div(a, b, rounding_mode='floor').\n",
      "  row = perm // num_nodes\n"
     ]
    },
    {
     "name": "stdout",
     "output_type": "stream",
     "text": [
      "Epoch: 111, Train: 0.9817, Val: 0.9664, Test: 0.9720, Loss: 0.33563\n"
     ]
    },
    {
     "name": "stderr",
     "output_type": "stream",
     "text": [
      "c:\\Users\\rosa-\\anaconda3\\envs\\xaifo\\lib\\site-packages\\deepsnap\\graph.py:2126: UserWarning: __floordiv__ is deprecated, and its behavior will change in a future version of pytorch. It currently rounds toward 0 (like the 'trunc' function NOT 'floor'). This results in incorrect rounding for negative values. To keep the current behavior, use torch.div(a, b, rounding_mode='trunc'), or for actual floor division, use torch.div(a, b, rounding_mode='floor').\n",
      "  row = perm // num_nodes\n"
     ]
    },
    {
     "name": "stdout",
     "output_type": "stream",
     "text": [
      "Epoch: 112, Train: 0.9822, Val: 0.9663, Test: 0.9719, Loss: 0.33490\n"
     ]
    },
    {
     "name": "stderr",
     "output_type": "stream",
     "text": [
      "c:\\Users\\rosa-\\anaconda3\\envs\\xaifo\\lib\\site-packages\\deepsnap\\graph.py:2126: UserWarning: __floordiv__ is deprecated, and its behavior will change in a future version of pytorch. It currently rounds toward 0 (like the 'trunc' function NOT 'floor'). This results in incorrect rounding for negative values. To keep the current behavior, use torch.div(a, b, rounding_mode='trunc'), or for actual floor division, use torch.div(a, b, rounding_mode='floor').\n",
      "  row = perm // num_nodes\n"
     ]
    },
    {
     "name": "stdout",
     "output_type": "stream",
     "text": [
      "Epoch: 113, Train: 0.9822, Val: 0.9659, Test: 0.9713, Loss: 0.33254\n"
     ]
    },
    {
     "name": "stderr",
     "output_type": "stream",
     "text": [
      "c:\\Users\\rosa-\\anaconda3\\envs\\xaifo\\lib\\site-packages\\deepsnap\\graph.py:2126: UserWarning: __floordiv__ is deprecated, and its behavior will change in a future version of pytorch. It currently rounds toward 0 (like the 'trunc' function NOT 'floor'). This results in incorrect rounding for negative values. To keep the current behavior, use torch.div(a, b, rounding_mode='trunc'), or for actual floor division, use torch.div(a, b, rounding_mode='floor').\n",
      "  row = perm // num_nodes\n"
     ]
    },
    {
     "name": "stdout",
     "output_type": "stream",
     "text": [
      "Epoch: 114, Train: 0.9829, Val: 0.9660, Test: 0.9710, Loss: 0.33399\n"
     ]
    },
    {
     "name": "stderr",
     "output_type": "stream",
     "text": [
      "c:\\Users\\rosa-\\anaconda3\\envs\\xaifo\\lib\\site-packages\\deepsnap\\graph.py:2126: UserWarning: __floordiv__ is deprecated, and its behavior will change in a future version of pytorch. It currently rounds toward 0 (like the 'trunc' function NOT 'floor'). This results in incorrect rounding for negative values. To keep the current behavior, use torch.div(a, b, rounding_mode='trunc'), or for actual floor division, use torch.div(a, b, rounding_mode='floor').\n",
      "  row = perm // num_nodes\n"
     ]
    },
    {
     "name": "stdout",
     "output_type": "stream",
     "text": [
      "Epoch: 115, Train: 0.9834, Val: 0.9662, Test: 0.9709, Loss: 0.34095\n"
     ]
    },
    {
     "name": "stderr",
     "output_type": "stream",
     "text": [
      "c:\\Users\\rosa-\\anaconda3\\envs\\xaifo\\lib\\site-packages\\deepsnap\\graph.py:2126: UserWarning: __floordiv__ is deprecated, and its behavior will change in a future version of pytorch. It currently rounds toward 0 (like the 'trunc' function NOT 'floor'). This results in incorrect rounding for negative values. To keep the current behavior, use torch.div(a, b, rounding_mode='trunc'), or for actual floor division, use torch.div(a, b, rounding_mode='floor').\n",
      "  row = perm // num_nodes\n"
     ]
    },
    {
     "name": "stdout",
     "output_type": "stream",
     "text": [
      "Epoch: 116, Train: 0.9830, Val: 0.9666, Test: 0.9712, Loss: 0.34090\n"
     ]
    },
    {
     "name": "stderr",
     "output_type": "stream",
     "text": [
      "c:\\Users\\rosa-\\anaconda3\\envs\\xaifo\\lib\\site-packages\\deepsnap\\graph.py:2126: UserWarning: __floordiv__ is deprecated, and its behavior will change in a future version of pytorch. It currently rounds toward 0 (like the 'trunc' function NOT 'floor'). This results in incorrect rounding for negative values. To keep the current behavior, use torch.div(a, b, rounding_mode='trunc'), or for actual floor division, use torch.div(a, b, rounding_mode='floor').\n",
      "  row = perm // num_nodes\n"
     ]
    },
    {
     "name": "stdout",
     "output_type": "stream",
     "text": [
      "Epoch: 117, Train: 0.9833, Val: 0.9667, Test: 0.9713, Loss: 0.33303\n"
     ]
    },
    {
     "name": "stderr",
     "output_type": "stream",
     "text": [
      "c:\\Users\\rosa-\\anaconda3\\envs\\xaifo\\lib\\site-packages\\deepsnap\\graph.py:2126: UserWarning: __floordiv__ is deprecated, and its behavior will change in a future version of pytorch. It currently rounds toward 0 (like the 'trunc' function NOT 'floor'). This results in incorrect rounding for negative values. To keep the current behavior, use torch.div(a, b, rounding_mode='trunc'), or for actual floor division, use torch.div(a, b, rounding_mode='floor').\n",
      "  row = perm // num_nodes\n"
     ]
    },
    {
     "name": "stdout",
     "output_type": "stream",
     "text": [
      "Epoch: 118, Train: 0.9838, Val: 0.9665, Test: 0.9710, Loss: 0.32788\n"
     ]
    },
    {
     "name": "stderr",
     "output_type": "stream",
     "text": [
      "c:\\Users\\rosa-\\anaconda3\\envs\\xaifo\\lib\\site-packages\\deepsnap\\graph.py:2126: UserWarning: __floordiv__ is deprecated, and its behavior will change in a future version of pytorch. It currently rounds toward 0 (like the 'trunc' function NOT 'floor'). This results in incorrect rounding for negative values. To keep the current behavior, use torch.div(a, b, rounding_mode='trunc'), or for actual floor division, use torch.div(a, b, rounding_mode='floor').\n",
      "  row = perm // num_nodes\n"
     ]
    },
    {
     "name": "stdout",
     "output_type": "stream",
     "text": [
      "Epoch: 119, Train: 0.9831, Val: 0.9664, Test: 0.9708, Loss: 0.33028\n"
     ]
    },
    {
     "name": "stderr",
     "output_type": "stream",
     "text": [
      "c:\\Users\\rosa-\\anaconda3\\envs\\xaifo\\lib\\site-packages\\deepsnap\\graph.py:2126: UserWarning: __floordiv__ is deprecated, and its behavior will change in a future version of pytorch. It currently rounds toward 0 (like the 'trunc' function NOT 'floor'). This results in incorrect rounding for negative values. To keep the current behavior, use torch.div(a, b, rounding_mode='trunc'), or for actual floor division, use torch.div(a, b, rounding_mode='floor').\n",
      "  row = perm // num_nodes\n"
     ]
    },
    {
     "name": "stdout",
     "output_type": "stream",
     "text": [
      "Epoch: 120, Train: 0.9833, Val: 0.9664, Test: 0.9707, Loss: 0.33393\n"
     ]
    },
    {
     "name": "stderr",
     "output_type": "stream",
     "text": [
      "c:\\Users\\rosa-\\anaconda3\\envs\\xaifo\\lib\\site-packages\\deepsnap\\graph.py:2126: UserWarning: __floordiv__ is deprecated, and its behavior will change in a future version of pytorch. It currently rounds toward 0 (like the 'trunc' function NOT 'floor'). This results in incorrect rounding for negative values. To keep the current behavior, use torch.div(a, b, rounding_mode='trunc'), or for actual floor division, use torch.div(a, b, rounding_mode='floor').\n",
      "  row = perm // num_nodes\n"
     ]
    },
    {
     "name": "stdout",
     "output_type": "stream",
     "text": [
      "Epoch: 121, Train: 0.9831, Val: 0.9665, Test: 0.9706, Loss: 0.33544\n"
     ]
    },
    {
     "name": "stderr",
     "output_type": "stream",
     "text": [
      "c:\\Users\\rosa-\\anaconda3\\envs\\xaifo\\lib\\site-packages\\deepsnap\\graph.py:2126: UserWarning: __floordiv__ is deprecated, and its behavior will change in a future version of pytorch. It currently rounds toward 0 (like the 'trunc' function NOT 'floor'). This results in incorrect rounding for negative values. To keep the current behavior, use torch.div(a, b, rounding_mode='trunc'), or for actual floor division, use torch.div(a, b, rounding_mode='floor').\n",
      "  row = perm // num_nodes\n"
     ]
    },
    {
     "name": "stdout",
     "output_type": "stream",
     "text": [
      "Epoch: 122, Train: 0.9835, Val: 0.9667, Test: 0.9707, Loss: 0.33372\n"
     ]
    },
    {
     "name": "stderr",
     "output_type": "stream",
     "text": [
      "c:\\Users\\rosa-\\anaconda3\\envs\\xaifo\\lib\\site-packages\\deepsnap\\graph.py:2126: UserWarning: __floordiv__ is deprecated, and its behavior will change in a future version of pytorch. It currently rounds toward 0 (like the 'trunc' function NOT 'floor'). This results in incorrect rounding for negative values. To keep the current behavior, use torch.div(a, b, rounding_mode='trunc'), or for actual floor division, use torch.div(a, b, rounding_mode='floor').\n",
      "  row = perm // num_nodes\n"
     ]
    },
    {
     "name": "stdout",
     "output_type": "stream",
     "text": [
      "Epoch: 123, Train: 0.9840, Val: 0.9668, Test: 0.9706, Loss: 0.32194\n"
     ]
    },
    {
     "name": "stderr",
     "output_type": "stream",
     "text": [
      "c:\\Users\\rosa-\\anaconda3\\envs\\xaifo\\lib\\site-packages\\deepsnap\\graph.py:2126: UserWarning: __floordiv__ is deprecated, and its behavior will change in a future version of pytorch. It currently rounds toward 0 (like the 'trunc' function NOT 'floor'). This results in incorrect rounding for negative values. To keep the current behavior, use torch.div(a, b, rounding_mode='trunc'), or for actual floor division, use torch.div(a, b, rounding_mode='floor').\n",
      "  row = perm // num_nodes\n"
     ]
    },
    {
     "name": "stdout",
     "output_type": "stream",
     "text": [
      "Epoch: 124, Train: 0.9841, Val: 0.9663, Test: 0.9700, Loss: 0.32655\n"
     ]
    },
    {
     "name": "stderr",
     "output_type": "stream",
     "text": [
      "c:\\Users\\rosa-\\anaconda3\\envs\\xaifo\\lib\\site-packages\\deepsnap\\graph.py:2126: UserWarning: __floordiv__ is deprecated, and its behavior will change in a future version of pytorch. It currently rounds toward 0 (like the 'trunc' function NOT 'floor'). This results in incorrect rounding for negative values. To keep the current behavior, use torch.div(a, b, rounding_mode='trunc'), or for actual floor division, use torch.div(a, b, rounding_mode='floor').\n",
      "  row = perm // num_nodes\n"
     ]
    },
    {
     "name": "stdout",
     "output_type": "stream",
     "text": [
      "Epoch: 125, Train: 0.9842, Val: 0.9651, Test: 0.9689, Loss: 0.31937\n"
     ]
    },
    {
     "name": "stderr",
     "output_type": "stream",
     "text": [
      "c:\\Users\\rosa-\\anaconda3\\envs\\xaifo\\lib\\site-packages\\deepsnap\\graph.py:2126: UserWarning: __floordiv__ is deprecated, and its behavior will change in a future version of pytorch. It currently rounds toward 0 (like the 'trunc' function NOT 'floor'). This results in incorrect rounding for negative values. To keep the current behavior, use torch.div(a, b, rounding_mode='trunc'), or for actual floor division, use torch.div(a, b, rounding_mode='floor').\n",
      "  row = perm // num_nodes\n"
     ]
    },
    {
     "name": "stdout",
     "output_type": "stream",
     "text": [
      "Epoch: 126, Train: 0.9842, Val: 0.9636, Test: 0.9676, Loss: 0.32519\n"
     ]
    },
    {
     "name": "stderr",
     "output_type": "stream",
     "text": [
      "c:\\Users\\rosa-\\anaconda3\\envs\\xaifo\\lib\\site-packages\\deepsnap\\graph.py:2126: UserWarning: __floordiv__ is deprecated, and its behavior will change in a future version of pytorch. It currently rounds toward 0 (like the 'trunc' function NOT 'floor'). This results in incorrect rounding for negative values. To keep the current behavior, use torch.div(a, b, rounding_mode='trunc'), or for actual floor division, use torch.div(a, b, rounding_mode='floor').\n",
      "  row = perm // num_nodes\n"
     ]
    },
    {
     "name": "stdout",
     "output_type": "stream",
     "text": [
      "Epoch: 127, Train: 0.9845, Val: 0.9620, Test: 0.9661, Loss: 0.32346\n"
     ]
    },
    {
     "name": "stderr",
     "output_type": "stream",
     "text": [
      "c:\\Users\\rosa-\\anaconda3\\envs\\xaifo\\lib\\site-packages\\deepsnap\\graph.py:2126: UserWarning: __floordiv__ is deprecated, and its behavior will change in a future version of pytorch. It currently rounds toward 0 (like the 'trunc' function NOT 'floor'). This results in incorrect rounding for negative values. To keep the current behavior, use torch.div(a, b, rounding_mode='trunc'), or for actual floor division, use torch.div(a, b, rounding_mode='floor').\n",
      "  row = perm // num_nodes\n"
     ]
    },
    {
     "name": "stdout",
     "output_type": "stream",
     "text": [
      "Epoch: 128, Train: 0.9841, Val: 0.9609, Test: 0.9651, Loss: 0.32212\n"
     ]
    },
    {
     "name": "stderr",
     "output_type": "stream",
     "text": [
      "c:\\Users\\rosa-\\anaconda3\\envs\\xaifo\\lib\\site-packages\\deepsnap\\graph.py:2126: UserWarning: __floordiv__ is deprecated, and its behavior will change in a future version of pytorch. It currently rounds toward 0 (like the 'trunc' function NOT 'floor'). This results in incorrect rounding for negative values. To keep the current behavior, use torch.div(a, b, rounding_mode='trunc'), or for actual floor division, use torch.div(a, b, rounding_mode='floor').\n",
      "  row = perm // num_nodes\n"
     ]
    },
    {
     "name": "stdout",
     "output_type": "stream",
     "text": [
      "Epoch: 129, Train: 0.9843, Val: 0.9601, Test: 0.9644, Loss: 0.32743\n"
     ]
    },
    {
     "name": "stderr",
     "output_type": "stream",
     "text": [
      "c:\\Users\\rosa-\\anaconda3\\envs\\xaifo\\lib\\site-packages\\deepsnap\\graph.py:2126: UserWarning: __floordiv__ is deprecated, and its behavior will change in a future version of pytorch. It currently rounds toward 0 (like the 'trunc' function NOT 'floor'). This results in incorrect rounding for negative values. To keep the current behavior, use torch.div(a, b, rounding_mode='trunc'), or for actual floor division, use torch.div(a, b, rounding_mode='floor').\n",
      "  row = perm // num_nodes\n"
     ]
    },
    {
     "name": "stdout",
     "output_type": "stream",
     "text": [
      "Epoch: 130, Train: 0.9843, Val: 0.9602, Test: 0.9645, Loss: 0.33240\n"
     ]
    },
    {
     "name": "stderr",
     "output_type": "stream",
     "text": [
      "c:\\Users\\rosa-\\anaconda3\\envs\\xaifo\\lib\\site-packages\\deepsnap\\graph.py:2126: UserWarning: __floordiv__ is deprecated, and its behavior will change in a future version of pytorch. It currently rounds toward 0 (like the 'trunc' function NOT 'floor'). This results in incorrect rounding for negative values. To keep the current behavior, use torch.div(a, b, rounding_mode='trunc'), or for actual floor division, use torch.div(a, b, rounding_mode='floor').\n",
      "  row = perm // num_nodes\n"
     ]
    },
    {
     "name": "stdout",
     "output_type": "stream",
     "text": [
      "Epoch: 131, Train: 0.9846, Val: 0.9603, Test: 0.9646, Loss: 0.32926\n"
     ]
    },
    {
     "name": "stderr",
     "output_type": "stream",
     "text": [
      "c:\\Users\\rosa-\\anaconda3\\envs\\xaifo\\lib\\site-packages\\deepsnap\\graph.py:2126: UserWarning: __floordiv__ is deprecated, and its behavior will change in a future version of pytorch. It currently rounds toward 0 (like the 'trunc' function NOT 'floor'). This results in incorrect rounding for negative values. To keep the current behavior, use torch.div(a, b, rounding_mode='trunc'), or for actual floor division, use torch.div(a, b, rounding_mode='floor').\n",
      "  row = perm // num_nodes\n"
     ]
    },
    {
     "name": "stdout",
     "output_type": "stream",
     "text": [
      "Epoch: 132, Train: 0.9848, Val: 0.9604, Test: 0.9647, Loss: 0.32139\n"
     ]
    },
    {
     "name": "stderr",
     "output_type": "stream",
     "text": [
      "c:\\Users\\rosa-\\anaconda3\\envs\\xaifo\\lib\\site-packages\\deepsnap\\graph.py:2126: UserWarning: __floordiv__ is deprecated, and its behavior will change in a future version of pytorch. It currently rounds toward 0 (like the 'trunc' function NOT 'floor'). This results in incorrect rounding for negative values. To keep the current behavior, use torch.div(a, b, rounding_mode='trunc'), or for actual floor division, use torch.div(a, b, rounding_mode='floor').\n",
      "  row = perm // num_nodes\n"
     ]
    },
    {
     "name": "stdout",
     "output_type": "stream",
     "text": [
      "Epoch: 133, Train: 0.9843, Val: 0.9607, Test: 0.9649, Loss: 0.32466\n"
     ]
    },
    {
     "name": "stderr",
     "output_type": "stream",
     "text": [
      "c:\\Users\\rosa-\\anaconda3\\envs\\xaifo\\lib\\site-packages\\deepsnap\\graph.py:2126: UserWarning: __floordiv__ is deprecated, and its behavior will change in a future version of pytorch. It currently rounds toward 0 (like the 'trunc' function NOT 'floor'). This results in incorrect rounding for negative values. To keep the current behavior, use torch.div(a, b, rounding_mode='trunc'), or for actual floor division, use torch.div(a, b, rounding_mode='floor').\n",
      "  row = perm // num_nodes\n"
     ]
    },
    {
     "name": "stdout",
     "output_type": "stream",
     "text": [
      "Epoch: 134, Train: 0.9844, Val: 0.9614, Test: 0.9656, Loss: 0.32538\n"
     ]
    },
    {
     "name": "stderr",
     "output_type": "stream",
     "text": [
      "c:\\Users\\rosa-\\anaconda3\\envs\\xaifo\\lib\\site-packages\\deepsnap\\graph.py:2126: UserWarning: __floordiv__ is deprecated, and its behavior will change in a future version of pytorch. It currently rounds toward 0 (like the 'trunc' function NOT 'floor'). This results in incorrect rounding for negative values. To keep the current behavior, use torch.div(a, b, rounding_mode='trunc'), or for actual floor division, use torch.div(a, b, rounding_mode='floor').\n",
      "  row = perm // num_nodes\n"
     ]
    },
    {
     "name": "stdout",
     "output_type": "stream",
     "text": [
      "Epoch: 135, Train: 0.9845, Val: 0.9628, Test: 0.9668, Loss: 0.32328\n"
     ]
    },
    {
     "name": "stderr",
     "output_type": "stream",
     "text": [
      "c:\\Users\\rosa-\\anaconda3\\envs\\xaifo\\lib\\site-packages\\deepsnap\\graph.py:2126: UserWarning: __floordiv__ is deprecated, and its behavior will change in a future version of pytorch. It currently rounds toward 0 (like the 'trunc' function NOT 'floor'). This results in incorrect rounding for negative values. To keep the current behavior, use torch.div(a, b, rounding_mode='trunc'), or for actual floor division, use torch.div(a, b, rounding_mode='floor').\n",
      "  row = perm // num_nodes\n"
     ]
    },
    {
     "name": "stdout",
     "output_type": "stream",
     "text": [
      "Epoch: 136, Train: 0.9845, Val: 0.9637, Test: 0.9677, Loss: 0.32773\n"
     ]
    },
    {
     "name": "stderr",
     "output_type": "stream",
     "text": [
      "c:\\Users\\rosa-\\anaconda3\\envs\\xaifo\\lib\\site-packages\\deepsnap\\graph.py:2126: UserWarning: __floordiv__ is deprecated, and its behavior will change in a future version of pytorch. It currently rounds toward 0 (like the 'trunc' function NOT 'floor'). This results in incorrect rounding for negative values. To keep the current behavior, use torch.div(a, b, rounding_mode='trunc'), or for actual floor division, use torch.div(a, b, rounding_mode='floor').\n",
      "  row = perm // num_nodes\n"
     ]
    },
    {
     "name": "stdout",
     "output_type": "stream",
     "text": [
      "Epoch: 137, Train: 0.9845, Val: 0.9636, Test: 0.9675, Loss: 0.32684\n"
     ]
    },
    {
     "name": "stderr",
     "output_type": "stream",
     "text": [
      "c:\\Users\\rosa-\\anaconda3\\envs\\xaifo\\lib\\site-packages\\deepsnap\\graph.py:2126: UserWarning: __floordiv__ is deprecated, and its behavior will change in a future version of pytorch. It currently rounds toward 0 (like the 'trunc' function NOT 'floor'). This results in incorrect rounding for negative values. To keep the current behavior, use torch.div(a, b, rounding_mode='trunc'), or for actual floor division, use torch.div(a, b, rounding_mode='floor').\n",
      "  row = perm // num_nodes\n"
     ]
    },
    {
     "name": "stdout",
     "output_type": "stream",
     "text": [
      "Epoch: 138, Train: 0.9846, Val: 0.9636, Test: 0.9674, Loss: 0.32614\n"
     ]
    },
    {
     "name": "stderr",
     "output_type": "stream",
     "text": [
      "c:\\Users\\rosa-\\anaconda3\\envs\\xaifo\\lib\\site-packages\\deepsnap\\graph.py:2126: UserWarning: __floordiv__ is deprecated, and its behavior will change in a future version of pytorch. It currently rounds toward 0 (like the 'trunc' function NOT 'floor'). This results in incorrect rounding for negative values. To keep the current behavior, use torch.div(a, b, rounding_mode='trunc'), or for actual floor division, use torch.div(a, b, rounding_mode='floor').\n",
      "  row = perm // num_nodes\n"
     ]
    },
    {
     "name": "stdout",
     "output_type": "stream",
     "text": [
      "Epoch: 139, Train: 0.9845, Val: 0.9636, Test: 0.9675, Loss: 0.31786\n"
     ]
    },
    {
     "name": "stderr",
     "output_type": "stream",
     "text": [
      "c:\\Users\\rosa-\\anaconda3\\envs\\xaifo\\lib\\site-packages\\deepsnap\\graph.py:2126: UserWarning: __floordiv__ is deprecated, and its behavior will change in a future version of pytorch. It currently rounds toward 0 (like the 'trunc' function NOT 'floor'). This results in incorrect rounding for negative values. To keep the current behavior, use torch.div(a, b, rounding_mode='trunc'), or for actual floor division, use torch.div(a, b, rounding_mode='floor').\n",
      "  row = perm // num_nodes\n"
     ]
    },
    {
     "name": "stdout",
     "output_type": "stream",
     "text": [
      "Epoch: 140, Train: 0.9846, Val: 0.9636, Test: 0.9675, Loss: 0.32636\n"
     ]
    },
    {
     "name": "stderr",
     "output_type": "stream",
     "text": [
      "c:\\Users\\rosa-\\anaconda3\\envs\\xaifo\\lib\\site-packages\\deepsnap\\graph.py:2126: UserWarning: __floordiv__ is deprecated, and its behavior will change in a future version of pytorch. It currently rounds toward 0 (like the 'trunc' function NOT 'floor'). This results in incorrect rounding for negative values. To keep the current behavior, use torch.div(a, b, rounding_mode='trunc'), or for actual floor division, use torch.div(a, b, rounding_mode='floor').\n",
      "  row = perm // num_nodes\n"
     ]
    },
    {
     "name": "stdout",
     "output_type": "stream",
     "text": [
      "Epoch: 141, Train: 0.9849, Val: 0.9639, Test: 0.9678, Loss: 0.32573\n"
     ]
    },
    {
     "name": "stderr",
     "output_type": "stream",
     "text": [
      "c:\\Users\\rosa-\\anaconda3\\envs\\xaifo\\lib\\site-packages\\deepsnap\\graph.py:2126: UserWarning: __floordiv__ is deprecated, and its behavior will change in a future version of pytorch. It currently rounds toward 0 (like the 'trunc' function NOT 'floor'). This results in incorrect rounding for negative values. To keep the current behavior, use torch.div(a, b, rounding_mode='trunc'), or for actual floor division, use torch.div(a, b, rounding_mode='floor').\n",
      "  row = perm // num_nodes\n"
     ]
    },
    {
     "name": "stdout",
     "output_type": "stream",
     "text": [
      "Epoch: 142, Train: 0.9843, Val: 0.9632, Test: 0.9671, Loss: 0.32252\n"
     ]
    },
    {
     "name": "stderr",
     "output_type": "stream",
     "text": [
      "c:\\Users\\rosa-\\anaconda3\\envs\\xaifo\\lib\\site-packages\\deepsnap\\graph.py:2126: UserWarning: __floordiv__ is deprecated, and its behavior will change in a future version of pytorch. It currently rounds toward 0 (like the 'trunc' function NOT 'floor'). This results in incorrect rounding for negative values. To keep the current behavior, use torch.div(a, b, rounding_mode='trunc'), or for actual floor division, use torch.div(a, b, rounding_mode='floor').\n",
      "  row = perm // num_nodes\n"
     ]
    },
    {
     "name": "stdout",
     "output_type": "stream",
     "text": [
      "Epoch: 143, Train: 0.9849, Val: 0.9624, Test: 0.9662, Loss: 0.32155\n"
     ]
    },
    {
     "name": "stderr",
     "output_type": "stream",
     "text": [
      "c:\\Users\\rosa-\\anaconda3\\envs\\xaifo\\lib\\site-packages\\deepsnap\\graph.py:2126: UserWarning: __floordiv__ is deprecated, and its behavior will change in a future version of pytorch. It currently rounds toward 0 (like the 'trunc' function NOT 'floor'). This results in incorrect rounding for negative values. To keep the current behavior, use torch.div(a, b, rounding_mode='trunc'), or for actual floor division, use torch.div(a, b, rounding_mode='floor').\n",
      "  row = perm // num_nodes\n"
     ]
    },
    {
     "name": "stdout",
     "output_type": "stream",
     "text": [
      "Epoch: 144, Train: 0.9853, Val: 0.9615, Test: 0.9652, Loss: 0.31642\n"
     ]
    },
    {
     "name": "stderr",
     "output_type": "stream",
     "text": [
      "c:\\Users\\rosa-\\anaconda3\\envs\\xaifo\\lib\\site-packages\\deepsnap\\graph.py:2126: UserWarning: __floordiv__ is deprecated, and its behavior will change in a future version of pytorch. It currently rounds toward 0 (like the 'trunc' function NOT 'floor'). This results in incorrect rounding for negative values. To keep the current behavior, use torch.div(a, b, rounding_mode='trunc'), or for actual floor division, use torch.div(a, b, rounding_mode='floor').\n",
      "  row = perm // num_nodes\n"
     ]
    },
    {
     "name": "stdout",
     "output_type": "stream",
     "text": [
      "Epoch: 145, Train: 0.9854, Val: 0.9614, Test: 0.9652, Loss: 0.32321\n"
     ]
    },
    {
     "name": "stderr",
     "output_type": "stream",
     "text": [
      "c:\\Users\\rosa-\\anaconda3\\envs\\xaifo\\lib\\site-packages\\deepsnap\\graph.py:2126: UserWarning: __floordiv__ is deprecated, and its behavior will change in a future version of pytorch. It currently rounds toward 0 (like the 'trunc' function NOT 'floor'). This results in incorrect rounding for negative values. To keep the current behavior, use torch.div(a, b, rounding_mode='trunc'), or for actual floor division, use torch.div(a, b, rounding_mode='floor').\n",
      "  row = perm // num_nodes\n"
     ]
    },
    {
     "name": "stdout",
     "output_type": "stream",
     "text": [
      "Epoch: 146, Train: 0.9854, Val: 0.9617, Test: 0.9655, Loss: 0.32655\n"
     ]
    },
    {
     "name": "stderr",
     "output_type": "stream",
     "text": [
      "c:\\Users\\rosa-\\anaconda3\\envs\\xaifo\\lib\\site-packages\\deepsnap\\graph.py:2126: UserWarning: __floordiv__ is deprecated, and its behavior will change in a future version of pytorch. It currently rounds toward 0 (like the 'trunc' function NOT 'floor'). This results in incorrect rounding for negative values. To keep the current behavior, use torch.div(a, b, rounding_mode='trunc'), or for actual floor division, use torch.div(a, b, rounding_mode='floor').\n",
      "  row = perm // num_nodes\n"
     ]
    },
    {
     "name": "stdout",
     "output_type": "stream",
     "text": [
      "Epoch: 147, Train: 0.9852, Val: 0.9615, Test: 0.9652, Loss: 0.31279\n"
     ]
    },
    {
     "name": "stderr",
     "output_type": "stream",
     "text": [
      "c:\\Users\\rosa-\\anaconda3\\envs\\xaifo\\lib\\site-packages\\deepsnap\\graph.py:2126: UserWarning: __floordiv__ is deprecated, and its behavior will change in a future version of pytorch. It currently rounds toward 0 (like the 'trunc' function NOT 'floor'). This results in incorrect rounding for negative values. To keep the current behavior, use torch.div(a, b, rounding_mode='trunc'), or for actual floor division, use torch.div(a, b, rounding_mode='floor').\n",
      "  row = perm // num_nodes\n"
     ]
    },
    {
     "name": "stdout",
     "output_type": "stream",
     "text": [
      "Epoch: 148, Train: 0.9859, Val: 0.9612, Test: 0.9649, Loss: 0.32036\n"
     ]
    },
    {
     "name": "stderr",
     "output_type": "stream",
     "text": [
      "c:\\Users\\rosa-\\anaconda3\\envs\\xaifo\\lib\\site-packages\\deepsnap\\graph.py:2126: UserWarning: __floordiv__ is deprecated, and its behavior will change in a future version of pytorch. It currently rounds toward 0 (like the 'trunc' function NOT 'floor'). This results in incorrect rounding for negative values. To keep the current behavior, use torch.div(a, b, rounding_mode='trunc'), or for actual floor division, use torch.div(a, b, rounding_mode='floor').\n",
      "  row = perm // num_nodes\n"
     ]
    },
    {
     "name": "stdout",
     "output_type": "stream",
     "text": [
      "Epoch: 149, Train: 0.9857, Val: 0.9609, Test: 0.9646, Loss: 0.32168\n"
     ]
    },
    {
     "name": "stderr",
     "output_type": "stream",
     "text": [
      "c:\\Users\\rosa-\\anaconda3\\envs\\xaifo\\lib\\site-packages\\deepsnap\\graph.py:2126: UserWarning: __floordiv__ is deprecated, and its behavior will change in a future version of pytorch. It currently rounds toward 0 (like the 'trunc' function NOT 'floor'). This results in incorrect rounding for negative values. To keep the current behavior, use torch.div(a, b, rounding_mode='trunc'), or for actual floor division, use torch.div(a, b, rounding_mode='floor').\n",
      "  row = perm // num_nodes\n"
     ]
    },
    {
     "name": "stdout",
     "output_type": "stream",
     "text": [
      "Train: 0.9837, Val: 0.9668, Test: 0.9706\n"
     ]
    }
   ],
   "source": [
    "best_model, best_x, performance = train(model, dataloaders, optimizer, args)\n",
    "\n",
    "best_train_roc = test(best_model, dataloaders['train'], args)\n",
    "best_val_roc = test(best_model, dataloaders['val'], args)\n",
    "best_test_roc = test(best_model, dataloaders['test'], args)\n",
    "\n",
    "print('Train: {:.4f}, Val: {:.4f}, Test: {:.4f}'.format(best_train_roc, best_val_roc, best_test_roc))"
   ]
  },
  {
   "attachments": {},
   "cell_type": "markdown",
   "metadata": {},
   "source": [
    "Save the model and parameters"
   ]
  },
  {
   "cell_type": "code",
   "execution_count": 21,
   "metadata": {
    "execution": {
     "iopub.execute_input": "2024-08-07T12:39:08.581604Z",
     "iopub.status.busy": "2024-08-07T12:39:08.580597Z",
     "iopub.status.idle": "2024-08-07T12:39:08.608121Z",
     "shell.execute_reply": "2024-08-07T12:39:08.607120Z"
    }
   },
   "outputs": [],
   "source": [
    "torch.save(best_model.state_dict(), f'{run_dir}/{dataset_prefix}_{disease_prefix}_best_model_{embedding_method}.pth')\n",
    "with open(f'{run_dir}/{dataset_prefix}_{disease_prefix}_best_model_{embedding_method}_args.pkl', 'wb') as f:\n",
    "    pickle.dump(args, f)"
   ]
  },
  {
   "attachments": {},
   "cell_type": "markdown",
   "metadata": {},
   "source": [
    "### Visualize Trained GNN Model Accuracy"
   ]
  },
  {
   "attachments": {},
   "cell_type": "markdown",
   "metadata": {},
   "source": [
    "Plot AUC and loss throughout epochs"
   ]
  },
  {
   "cell_type": "code",
   "execution_count": 22,
   "metadata": {
    "execution": {
     "iopub.execute_input": "2024-08-07T12:39:08.613639Z",
     "iopub.status.busy": "2024-08-07T12:39:08.613639Z",
     "iopub.status.idle": "2024-08-07T12:39:08.923028Z",
     "shell.execute_reply": "2024-08-07T12:39:08.922030Z"
    }
   },
   "outputs": [
    {
     "data": {
      "image/png": "[encoded data removed]",
      "text/plain": [
       "<Figure size 1000x700 with 1 Axes>"
      ]
     },
     "metadata": {},
     "output_type": "display_data"
    }
   ],
   "source": [
    "plt.figure(figsize= (10,7))\n",
    "plt.plot(np.log10(performance[0]), label = 'Loss')\n",
    "plt.plot(performance[1], label = 'AUC Train')\n",
    "plt.plot(performance[2], label = 'AUC Validation')\n",
    "plt.plot(performance[3], label = 'AUC Test')\n",
    "plt.legend()\n",
    "plt.ylabel('AUC/Loss')\n",
    "plt.xlabel('Epochs')\n",
    "plt.title(f'Training curve of GNN on {dataset_prefix} {disease_prefix} dataset and embedding method {embedding_method}')\n",
    "plt.show()"
   ]
  },
  {
   "cell_type": "code",
   "execution_count": 23,
   "metadata": {
    "execution": {
     "iopub.execute_input": "2024-08-07T12:39:08.928023Z",
     "iopub.status.busy": "2024-08-07T12:39:08.927033Z",
     "iopub.status.idle": "2024-08-07T12:39:08.939032Z",
     "shell.execute_reply": "2024-08-07T12:39:08.938031Z"
    }
   },
   "outputs": [],
   "source": [
    "performance_scores = {}\n",
    "sets = ['Loss', 'AUC Train', 'AUC Validation', 'AUC Test']\n",
    "for set_name, score_list in zip(sets, performance):\n",
    "    performance_scores[set_name] = score_list"
   ]
  },
  {
   "attachments": {},
   "cell_type": "markdown",
   "metadata": {},
   "source": [
    "Plot ROC curve using test set\n",
    "- High TPR and lower FPR indicates that the proportion of correctly classified samples (true positives) is greater than the proportion of incorrectly classified samples (false positives)"
   ]
  },
  {
   "cell_type": "code",
   "execution_count": 24,
   "metadata": {
    "execution": {
     "iopub.execute_input": "2024-08-07T12:39:08.942033Z",
     "iopub.status.busy": "2024-08-07T12:39:08.942033Z",
     "iopub.status.idle": "2024-08-07T12:39:10.129010Z",
     "shell.execute_reply": "2024-08-07T12:39:10.128012Z"
    }
   },
   "outputs": [
    {
     "name": "stdout",
     "output_type": "stream",
     "text": [
      "ROC AUC score: 0.9705860131920414\n"
     ]
    },
    {
     "data": {
      "image/png": "[encoded data removed]",
      "text/plain": [
       "<Figure size 700x700 with 1 Axes>"
      ]
     },
     "metadata": {},
     "output_type": "display_data"
    }
   ],
   "source": [
    "for batch in dataloaders['test']:\n",
    "    feat, edge_index, edge_label_index = batch.node_feature, batch.edge_index, batch.edge_label_index\n",
    "    batch.to(args[\"device\"])\n",
    "    pred, x = best_model(feat, edge_index, edge_label_index, training = False)\n",
    "    pred = torch.sigmoid(pred)\n",
    "    score = roc_auc_score(batch.edge_label.flatten().cpu().numpy(), pred.flatten().data.cpu().numpy())\n",
    "    \n",
    "    performance_scores['ROC AUC Score'] = score\n",
    "    print(f'ROC AUC score: {score}')\n",
    "    \n",
    "fpr, tpr, thresholds = roc_curve(batch.edge_label.flatten().cpu().numpy(), pred.flatten().data.cpu().numpy())\n",
    "performance_scores['ROC FPR'] = fpr\n",
    "performance_scores['ROC TPR'] = tpr\n",
    "performance_scores['ROC Thresholds'] = thresholds\n",
    "\n",
    "plt.figure(figsize = (7, 7))\n",
    "plt.plot(fpr, tpr, marker='.')\n",
    "plt.xlabel('False Positive Rate')   # 1 - specificity\n",
    "plt.ylabel('True Positive Rate')    # sensitivity\n",
    "plt.title(f'ROC curve on test set from {dataset_prefix} {disease_prefix} dataset and embedding method {embedding_method}')\n",
    "plt.show()"
   ]
  },
  {
   "attachments": {},
   "cell_type": "markdown",
   "metadata": {},
   "source": [
    "Calculate F1-score using test set\n",
    "\n",
    "Elements of the F1-score:\n",
    "- Precision represents the proportion of correctly classifying samples as positive (high precision: classifying a sample as positive has a high probability to be correct)\n",
    "- Recall represents the proportion of finding all positives (high recall: all positive samples have been classified as being positive)\n",
    "\n",
    "Maximizing both elements in order to yield a model that identifies all positive samples and only identifies these samples as positives.\n",
    "\n",
    "For the F1-score, the average of precision and recall is calculated, using the harmonic mean method (equal importance):\n",
    "- High F1-score indicates that precision and recall are both high\n",
    "- Medium F1-score indicates that one of the elements is high and the other low\n",
    "- Low F1-score indicates that precision and recall are both low"
   ]
  },
  {
   "cell_type": "code",
   "execution_count": 25,
   "metadata": {
    "execution": {
     "iopub.execute_input": "2024-08-07T12:39:10.133012Z",
     "iopub.status.busy": "2024-08-07T12:39:10.133012Z",
     "iopub.status.idle": "2024-08-07T12:39:11.198353Z",
     "shell.execute_reply": "2024-08-07T12:39:11.197353Z"
    }
   },
   "outputs": [
    {
     "name": "stdout",
     "output_type": "stream",
     "text": [
      "F1-Score in the test set from restr hd dataset and embedding method e2v: 0.9382850504610469\n",
      "              precision    recall  f1-score   support\n",
      "\n",
      "           0       0.90      0.85      0.87     13600\n",
      "           1       0.93      0.95      0.94     27200\n",
      "\n",
      "    accuracy                           0.92     40800\n",
      "   macro avg       0.91      0.90      0.91     40800\n",
      "weighted avg       0.92      0.92      0.92     40800\n",
      "\n"
     ]
    }
   ],
   "source": [
    "def test_f1(model, dataloader, args, threshold):\n",
    "    model.eval()\n",
    "    score = 0\n",
    "    num_batches = 0\n",
    "    for batch in dataloader:\n",
    "        feat, edge_index, edge_label_index = batch.node_feature, batch.edge_index, batch.edge_label_index\n",
    "        batch.to(args[\"device\"])\n",
    "        pred, x = model(feat, edge_index, edge_label_index, training = False)\n",
    "        pred = torch.sigmoid(pred) > threshold\n",
    "        score += f1_score(batch.edge_label.flatten().cpu().numpy(), pred.flatten().data.cpu().numpy())\n",
    "        num_batches += 1\n",
    "    score /= num_batches \n",
    "    return batch.edge_label.flatten().cpu().numpy(), pred.flatten().data.cpu().numpy(), score\n",
    "\n",
    "true_label, pred_label, best_test_f1 = test_f1(best_model, dataloaders['test'], args, 0.7)\n",
    "performance_scores['True Labels'] = true_label\n",
    "performance_scores['Predicted Labels'] = pred_label\n",
    "performance_scores['F1 Score'] = best_test_f1\n",
    "\n",
    "print(f'F1-Score in the test set from {dataset_prefix} {disease_prefix} dataset and embedding method {embedding_method}:', best_test_f1)\n",
    "print(classification_report(true_label, pred_label))"
   ]
  },
  {
   "cell_type": "code",
   "execution_count": 26,
   "metadata": {
    "execution": {
     "iopub.execute_input": "2024-08-07T12:39:11.202358Z",
     "iopub.status.busy": "2024-08-07T12:39:11.201358Z",
     "iopub.status.idle": "2024-08-07T12:39:11.245873Z",
     "shell.execute_reply": "2024-08-07T12:39:11.244867Z"
    }
   },
   "outputs": [
    {
     "data": {
      "text/plain": [
       "{'Loss': [array(1.5834289, dtype=float32),\n",
       "  array(1.5029471, dtype=float32),\n",
       "  array(1.4761482, dtype=float32),\n",
       "  array(1.3699104, dtype=float32),\n",
       "  array(1.2971721, dtype=float32),\n",
       "  array(1.2518809, dtype=float32),\n",
       "  array(1.1851084, dtype=float32),\n",
       "  array(1.1236895, dtype=float32),\n",
       "  array(1.0809064, dtype=float32),\n",
       "  array(1.042266, dtype=float32),\n",
       "  array(0.99779236, dtype=float32),\n",
       "  array(0.95389074, dtype=float32),\n",
       "  array(0.9028615, dtype=float32),\n",
       "  array(0.86255026, dtype=float32),\n",
       "  array(0.81159145, dtype=float32),\n",
       "  array(0.78297514, dtype=float32),\n",
       "  array(0.7606619, dtype=float32),\n",
       "  array(0.7190895, dtype=float32),\n",
       "  array(0.7010395, dtype=float32),\n",
       "  array(0.6750578, dtype=float32),\n",
       "  array(0.6556902, dtype=float32),\n",
       "  array(0.61637944, dtype=float32),\n",
       "  array(0.61962885, dtype=float32),\n",
       "  array(0.58538437, dtype=float32),\n",
       "  array(0.5753947, dtype=float32),\n",
       "  array(0.5493861, dtype=float32),\n",
       "  array(0.53984606, dtype=float32),\n",
       "  array(0.53626174, dtype=float32),\n",
       "  array(0.51653033, dtype=float32),\n",
       "  array(0.49661115, dtype=float32),\n",
       "  array(0.48239446, dtype=float32),\n",
       "  array(0.47813258, dtype=float32),\n",
       "  array(0.47390753, dtype=float32),\n",
       "  array(0.4700245, dtype=float32),\n",
       "  array(0.47978884, dtype=float32),\n",
       "  array(0.44243893, dtype=float32),\n",
       "  array(0.44723436, dtype=float32),\n",
       "  array(0.43247434, dtype=float32),\n",
       "  array(0.44692364, dtype=float32),\n",
       "  array(0.43271872, dtype=float32),\n",
       "  array(0.4314494, dtype=float32),\n",
       "  array(0.41230774, dtype=float32),\n",
       "  array(0.41000757, dtype=float32),\n",
       "  array(0.41036502, dtype=float32),\n",
       "  array(0.41473427, dtype=float32),\n",
       "  array(0.40057775, dtype=float32),\n",
       "  array(0.40929472, dtype=float32),\n",
       "  array(0.40058905, dtype=float32),\n",
       "  array(0.40306008, dtype=float32),\n",
       "  array(0.39556578, dtype=float32),\n",
       "  array(0.41070262, dtype=float32),\n",
       "  array(0.39926934, dtype=float32),\n",
       "  array(0.383831, dtype=float32),\n",
       "  array(0.39192754, dtype=float32),\n",
       "  array(0.39318913, dtype=float32),\n",
       "  array(0.38274154, dtype=float32),\n",
       "  array(0.39048696, dtype=float32),\n",
       "  array(0.37941444, dtype=float32),\n",
       "  array(0.37470418, dtype=float32),\n",
       "  array(0.3765568, dtype=float32),\n",
       "  array(0.37929416, dtype=float32),\n",
       "  array(0.37537783, dtype=float32),\n",
       "  array(0.37428504, dtype=float32),\n",
       "  array(0.36851186, dtype=float32),\n",
       "  array(0.37447754, dtype=float32),\n",
       "  array(0.37534857, dtype=float32),\n",
       "  array(0.37282643, dtype=float32),\n",
       "  array(0.37026975, dtype=float32),\n",
       "  array(0.37524182, dtype=float32),\n",
       "  array(0.367429, dtype=float32),\n",
       "  array(0.36453903, dtype=float32),\n",
       "  array(0.37271196, dtype=float32),\n",
       "  array(0.35798162, dtype=float32),\n",
       "  array(0.35872695, dtype=float32),\n",
       "  array(0.36145207, dtype=float32),\n",
       "  array(0.3604452, dtype=float32),\n",
       "  array(0.3656976, dtype=float32),\n",
       "  array(0.3568684, dtype=float32),\n",
       "  array(0.35414717, dtype=float32),\n",
       "  array(0.3504432, dtype=float32),\n",
       "  array(0.36168727, dtype=float32),\n",
       "  array(0.35646808, dtype=float32),\n",
       "  array(0.35313758, dtype=float32),\n",
       "  array(0.36060056, dtype=float32),\n",
       "  array(0.3580381, dtype=float32),\n",
       "  array(0.35861078, dtype=float32),\n",
       "  array(0.35867634, dtype=float32),\n",
       "  array(0.34523082, dtype=float32),\n",
       "  array(0.34536, dtype=float32),\n",
       "  array(0.34396246, dtype=float32),\n",
       "  array(0.3494152, dtype=float32),\n",
       "  array(0.35118994, dtype=float32),\n",
       "  array(0.34401253, dtype=float32),\n",
       "  array(0.34063917, dtype=float32),\n",
       "  array(0.34443477, dtype=float32),\n",
       "  array(0.34787038, dtype=float32),\n",
       "  array(0.33736485, dtype=float32),\n",
       "  array(0.3474111, dtype=float32),\n",
       "  array(0.34371465, dtype=float32),\n",
       "  array(0.3343537, dtype=float32),\n",
       "  array(0.34257144, dtype=float32),\n",
       "  array(0.34637251, dtype=float32),\n",
       "  array(0.35103136, dtype=float32),\n",
       "  array(0.33164936, dtype=float32),\n",
       "  array(0.34563756, dtype=float32),\n",
       "  array(0.34117395, dtype=float32),\n",
       "  array(0.33624822, dtype=float32),\n",
       "  array(0.34357214, dtype=float32),\n",
       "  array(0.3313529, dtype=float32),\n",
       "  array(0.343027, dtype=float32),\n",
       "  array(0.3356335, dtype=float32),\n",
       "  array(0.33490497, dtype=float32),\n",
       "  array(0.3325382, dtype=float32),\n",
       "  array(0.3339901, dtype=float32),\n",
       "  array(0.34095305, dtype=float32),\n",
       "  array(0.34090242, dtype=float32),\n",
       "  array(0.3330289, dtype=float32),\n",
       "  array(0.32787657, dtype=float32),\n",
       "  array(0.3302757, dtype=float32),\n",
       "  array(0.33392623, dtype=float32),\n",
       "  array(0.3354383, dtype=float32),\n",
       "  array(0.33372432, dtype=float32),\n",
       "  array(0.32194164, dtype=float32),\n",
       "  array(0.32655355, dtype=float32),\n",
       "  array(0.31936702, dtype=float32),\n",
       "  array(0.3251918, dtype=float32),\n",
       "  array(0.3234612, dtype=float32),\n",
       "  array(0.3221159, dtype=float32),\n",
       "  array(0.32743427, dtype=float32),\n",
       "  array(0.33239764, dtype=float32),\n",
       "  array(0.32925677, dtype=float32),\n",
       "  array(0.32138798, dtype=float32),\n",
       "  array(0.32465544, dtype=float32),\n",
       "  array(0.32538295, dtype=float32),\n",
       "  array(0.32327965, dtype=float32),\n",
       "  array(0.32772803, dtype=float32),\n",
       "  array(0.32684466, dtype=float32),\n",
       "  array(0.3261373, dtype=float32),\n",
       "  array(0.3178566, dtype=float32),\n",
       "  array(0.32636118, dtype=float32),\n",
       "  array(0.32573363, dtype=float32),\n",
       "  array(0.322522, dtype=float32),\n",
       "  array(0.32155013, dtype=float32),\n",
       "  array(0.3164243, dtype=float32),\n",
       "  array(0.32321417, dtype=float32),\n",
       "  array(0.32655492, dtype=float32),\n",
       "  array(0.31278688, dtype=float32),\n",
       "  array(0.32035685, dtype=float32),\n",
       "  array(0.32168192, dtype=float32)],\n",
       " 'AUC Train': [0.8536230459783318,\n",
       "  0.8420792431661919,\n",
       "  0.8420333883804081,\n",
       "  0.8463195354043682,\n",
       "  0.8552464369595268,\n",
       "  0.8575628970544054,\n",
       "  0.8568688561415372,\n",
       "  0.8610616155156183,\n",
       "  0.8658814139601667,\n",
       "  0.8704487380640707,\n",
       "  0.8745906222320801,\n",
       "  0.8801319990400551,\n",
       "  0.8850908380236314,\n",
       "  0.8901657964692143,\n",
       "  0.8930939962294546,\n",
       "  0.8962252529709074,\n",
       "  0.8981069949676916,\n",
       "  0.9029954190037889,\n",
       "  0.9079028426581541,\n",
       "  0.9167842961780632,\n",
       "  0.921362917495014,\n",
       "  0.9268024687340944,\n",
       "  0.9304654847119128,\n",
       "  0.9345528853048577,\n",
       "  0.9358717124445073,\n",
       "  0.9382210752272102,\n",
       "  0.9408281407932417,\n",
       "  0.9430221408831932,\n",
       "  0.9455908950946013,\n",
       "  0.9466947943730297,\n",
       "  0.9494407803286788,\n",
       "  0.9508862675062739,\n",
       "  0.9533267358605035,\n",
       "  0.955779319913951,\n",
       "  0.9573539866338936,\n",
       "  0.958253714591802,\n",
       "  0.9596758843767583,\n",
       "  0.9599840820197667,\n",
       "  0.9612185736100305,\n",
       "  0.9617219548146796,\n",
       "  0.9630122737607518,\n",
       "  0.9646906717949792,\n",
       "  0.9668052952447423,\n",
       "  0.9679402010978362,\n",
       "  0.9688307813511319,\n",
       "  0.969905963568654,\n",
       "  0.9700387863757092,\n",
       "  0.9699084243079967,\n",
       "  0.9701008344207546,\n",
       "  0.9707270792968615,\n",
       "  0.9714706088392232,\n",
       "  0.9720138815913706,\n",
       "  0.9727640755815496,\n",
       "  0.9740113147960932,\n",
       "  0.9749133949195101,\n",
       "  0.9760676920593603,\n",
       "  0.976677881526953,\n",
       "  0.976821899267968,\n",
       "  0.9769100125108319,\n",
       "  0.9774098105254787,\n",
       "  0.9773187203739712,\n",
       "  0.9776869492080029,\n",
       "  0.9775387239563162,\n",
       "  0.97868495980584,\n",
       "  0.9783479800843649,\n",
       "  0.9790567167402713,\n",
       "  0.9789400960220227,\n",
       "  0.979136985333517,\n",
       "  0.9792100060530122,\n",
       "  0.9799023997276073,\n",
       "  0.9799328258336035,\n",
       "  0.9808590327105586,\n",
       "  0.9811781870165449,\n",
       "  0.9813813126907747,\n",
       "  0.9814993302937787,\n",
       "  0.981095648216249,\n",
       "  0.9812549744876415,\n",
       "  0.9810731402267567,\n",
       "  0.9810679220500031,\n",
       "  0.9805631561276271,\n",
       "  0.9806225227369451,\n",
       "  0.9813734276533804,\n",
       "  0.9809844972534241,\n",
       "  0.9811905654897891,\n",
       "  0.9814939929815338,\n",
       "  0.9813103155425149,\n",
       "  0.981285882120704,\n",
       "  0.9810522476215803,\n",
       "  0.9809898035988905,\n",
       "  0.980982107910883,\n",
       "  0.9805728528271711,\n",
       "  0.9796651153733021,\n",
       "  0.9804982686867123,\n",
       "  0.9802697811365273,\n",
       "  0.9805820008275101,\n",
       "  0.9802402479552612,\n",
       "  0.9804169989751221,\n",
       "  0.9807906674004851,\n",
       "  0.9804295377743197,\n",
       "  0.980512872458841,\n",
       "  0.9801870000518198,\n",
       "  0.9811437343844316,\n",
       "  0.9812384678428934,\n",
       "  0.9815120652440701,\n",
       "  0.9821693088792163,\n",
       "  0.9815950210608313,\n",
       "  0.9817296884401591,\n",
       "  0.9814182772228971,\n",
       "  0.9815732736796301,\n",
       "  0.9811873560557047,\n",
       "  0.9816989255862908,\n",
       "  0.9822279103176075,\n",
       "  0.9822106304328264,\n",
       "  0.9829344002555885,\n",
       "  0.9833705895925042,\n",
       "  0.982993526059127,\n",
       "  0.983318508878902,\n",
       "  0.983777273757668,\n",
       "  0.9830827918744964,\n",
       "  0.9833086452629307,\n",
       "  0.9831404883901155,\n",
       "  0.9834504630107915,\n",
       "  0.9840426107601603,\n",
       "  0.9841033678327465,\n",
       "  0.984184293065332,\n",
       "  0.9842148371239134,\n",
       "  0.9844608138909211,\n",
       "  0.9840745971608694,\n",
       "  0.9843076671605494,\n",
       "  0.9843442176757171,\n",
       "  0.9845526377396174,\n",
       "  0.9847630852614434,\n",
       "  0.9843497964696877,\n",
       "  0.984423360185093,\n",
       "  0.9845082282109784,\n",
       "  0.9844738966577011,\n",
       "  0.9844830231545064,\n",
       "  0.98458648624495,\n",
       "  0.9844816735014811,\n",
       "  0.984579772115098,\n",
       "  0.9849238147545859,\n",
       "  0.9843102225323386,\n",
       "  0.9849497780112908,\n",
       "  0.9852935160525907,\n",
       "  0.9853602206054701,\n",
       "  0.9854403538405196,\n",
       "  0.9852480490063589,\n",
       "  0.9858695154508634,\n",
       "  0.9857034068213146],\n",
       " 'AUC Validation': [0.8346101451852157,\n",
       "  0.8220243449192596,\n",
       "  0.8220255969094373,\n",
       "  0.826653060769321,\n",
       "  0.8336758711758676,\n",
       "  0.8349377366626487,\n",
       "  0.8344038615508917,\n",
       "  0.8369384791604261,\n",
       "  0.8412455876675322,\n",
       "  0.8455907209821504,\n",
       "  0.8501317623667046,\n",
       "  0.8546107910282699,\n",
       "  0.8582279312637815,\n",
       "  0.861513207571578,\n",
       "  0.8636878550203378,\n",
       "  0.8651470130672729,\n",
       "  0.8668148694941662,\n",
       "  0.8711835526629036,\n",
       "  0.8772800417666087,\n",
       "  0.8836773573395862,\n",
       "  0.8890625781141821,\n",
       "  0.893399458569141,\n",
       "  0.8972231095819033,\n",
       "  0.9005384552866229,\n",
       "  0.9023241366984205,\n",
       "  0.9038645145660377,\n",
       "  0.905791100306511,\n",
       "  0.9076316123982915,\n",
       "  0.9100922571281291,\n",
       "  0.9121058656502374,\n",
       "  0.9140381597087777,\n",
       "  0.9162984697856966,\n",
       "  0.9182810841146816,\n",
       "  0.9201013696696829,\n",
       "  0.9215258830121773,\n",
       "  0.9229184097632865,\n",
       "  0.9235474929142765,\n",
       "  0.924049362506071,\n",
       "  0.9254673292649368,\n",
       "  0.926564700007686,\n",
       "  0.9282931792591856,\n",
       "  0.9299762434458179,\n",
       "  0.9314138445474048,\n",
       "  0.932324463243418,\n",
       "  0.9331492976275614,\n",
       "  0.9337729617973072,\n",
       "  0.9345072607967037,\n",
       "  0.9354679942528945,\n",
       "  0.9362592953104871,\n",
       "  0.9365743101004123,\n",
       "  0.9378270574211478,\n",
       "  0.9402262735098066,\n",
       "  0.944513287980174,\n",
       "  0.9483066424530865,\n",
       "  0.9498410307780611,\n",
       "  0.9501971368050046,\n",
       "  0.948660401336457,\n",
       "  0.9483174236298432,\n",
       "  0.9488382217988374,\n",
       "  0.9491139192298357,\n",
       "  0.9498876545677869,\n",
       "  0.9517883162697438,\n",
       "  0.9537176358375812,\n",
       "  0.9545365428729785,\n",
       "  0.9551685978105887,\n",
       "  0.9549273260533522,\n",
       "  0.9548329049021143,\n",
       "  0.955780729068655,\n",
       "  0.9576570837734046,\n",
       "  0.9588908619557037,\n",
       "  0.9588933334870694,\n",
       "  0.9591036624287492,\n",
       "  0.9583927267017824,\n",
       "  0.956973472799667,\n",
       "  0.9555534536422162,\n",
       "  0.9548045471893865,\n",
       "  0.9547824494275468,\n",
       "  0.9554816088754129,\n",
       "  0.9573325533173132,\n",
       "  0.9599595991693144,\n",
       "  0.9618000571794459,\n",
       "  0.9629745618742848,\n",
       "  0.9638225053471068,\n",
       "  0.9636701546373899,\n",
       "  0.9633171366726127,\n",
       "  0.9633821779679539,\n",
       "  0.9643091915159046,\n",
       "  0.9650557589374089,\n",
       "  0.9658866856193282,\n",
       "  0.9658769914837193,\n",
       "  0.9650595311324366,\n",
       "  0.9639757619244465,\n",
       "  0.9635193912240756,\n",
       "  0.9638907807250665,\n",
       "  0.9646107453833579,\n",
       "  0.9653949184795936,\n",
       "  0.9656497458021878,\n",
       "  0.9655730526155388,\n",
       "  0.9654692239614326,\n",
       "  0.9654572692128899,\n",
       "  0.9654310017559015,\n",
       "  0.9654504305883558,\n",
       "  0.9653940180201352,\n",
       "  0.9653671042874395,\n",
       "  0.9656774545351259,\n",
       "  0.9659958196832152,\n",
       "  0.9663792666878825,\n",
       "  0.9666125668100357,\n",
       "  0.9666059985937474,\n",
       "  0.9666241321707049,\n",
       "  0.9663880549558682,\n",
       "  0.9663296251421346,\n",
       "  0.9659361541037988,\n",
       "  0.9659554477321305,\n",
       "  0.9661603009068346,\n",
       "  0.9666019830312985,\n",
       "  0.9667092864313621,\n",
       "  0.9665109744321215,\n",
       "  0.9664417336967245,\n",
       "  0.9664287865499198,\n",
       "  0.9665194706592017,\n",
       "  0.9667430009314374,\n",
       "  0.9667979181420592,\n",
       "  0.9663193009553135,\n",
       "  0.9651007927266498,\n",
       "  0.9636317945236533,\n",
       "  0.9620129658157899,\n",
       "  0.9609353673239671,\n",
       "  0.9601242886072832,\n",
       "  0.96024178639821,\n",
       "  0.9603165272373249,\n",
       "  0.9603677695998873,\n",
       "  0.9606523580540047,\n",
       "  0.9614274021678652,\n",
       "  0.962757413236648,\n",
       "  0.9636985231664477,\n",
       "  0.9636390171278963,\n",
       "  0.9636043291581363,\n",
       "  0.9636420024349289,\n",
       "  0.9636164488557092,\n",
       "  0.9639241896638244,\n",
       "  0.9631856912243719,\n",
       "  0.962373352405263,\n",
       "  0.9614657460571071,\n",
       "  0.9614050772630989,\n",
       "  0.961678222040258,\n",
       "  0.9615142545923053,\n",
       "  0.9611826151034341,\n",
       "  0.9608851660331506],\n",
       " 'AUC Test': [0.8405674145761246,\n",
       "  0.8265038684039794,\n",
       "  0.8259012299956748,\n",
       "  0.830426521950692,\n",
       "  0.8378189365268167,\n",
       "  0.8393188310986159,\n",
       "  0.8388915819636679,\n",
       "  0.841679728049308,\n",
       "  0.846028603481834,\n",
       "  0.8492566284602077,\n",
       "  0.85263629433391,\n",
       "  0.8558291171064014,\n",
       "  0.8587394409602077,\n",
       "  0.8619350021626297,\n",
       "  0.8640419090614186,\n",
       "  0.865489392301038,\n",
       "  0.8671750108131488,\n",
       "  0.8714533358564015,\n",
       "  0.8776815960207613,\n",
       "  0.884671588451557,\n",
       "  0.8905462883866783,\n",
       "  0.8949664954584775,\n",
       "  0.8987186634948097,\n",
       "  0.9017195853157438,\n",
       "  0.9031468425605537,\n",
       "  0.9044549118728373,\n",
       "  0.9064179633434255,\n",
       "  0.9083319934039792,\n",
       "  0.9108825935337369,\n",
       "  0.9132704179282009,\n",
       "  0.9155657466479239,\n",
       "  0.9181211315960208,\n",
       "  0.9203039630190313,\n",
       "  0.9222582585423876,\n",
       "  0.923782512435121,\n",
       "  0.9254087424307957,\n",
       "  0.9262105833693772,\n",
       "  0.9273895247621107,\n",
       "  0.9286431120242215,\n",
       "  0.9295766192690311,\n",
       "  0.931084566933391,\n",
       "  0.93280348183391,\n",
       "  0.9342849291738754,\n",
       "  0.9353649005190311,\n",
       "  0.9362149383650519,\n",
       "  0.9368746891219724,\n",
       "  0.9376857780060553,\n",
       "  0.9385526194852941,\n",
       "  0.9394318041738754,\n",
       "  0.940037732482699,\n",
       "  0.9411761651167819,\n",
       "  0.9431900627162629,\n",
       "  0.9477056606833909,\n",
       "  0.9514328341262976,\n",
       "  0.9527640652032873,\n",
       "  0.9528621756055362,\n",
       "  0.9511346128892733,\n",
       "  0.9506588262326989,\n",
       "  0.9515924362024222,\n",
       "  0.9523635813148787,\n",
       "  0.9536784764273357,\n",
       "  0.9556020247621106,\n",
       "  0.957305987781142,\n",
       "  0.9582195528762977,\n",
       "  0.9591121431660901,\n",
       "  0.9588303930579584,\n",
       "  0.9586207179930796,\n",
       "  0.9593182688148789,\n",
       "  0.9615079855103805,\n",
       "  0.9630756677119376,\n",
       "  0.9632117782223184,\n",
       "  0.963403519679931,\n",
       "  0.9625727481617647,\n",
       "  0.9608932904411764,\n",
       "  0.959349313365052,\n",
       "  0.958880933715398,\n",
       "  0.9588658493728375,\n",
       "  0.9597992025302767,\n",
       "  0.9621920144896194,\n",
       "  0.9650142409169551,\n",
       "  0.9666129622621106,\n",
       "  0.967699078179066,\n",
       "  0.9685461018598617,\n",
       "  0.9682600237889273,\n",
       "  0.9678873459126298,\n",
       "  0.9680803552119377,\n",
       "  0.9690123134731833,\n",
       "  0.9699164549091696,\n",
       "  0.9709794577205881,\n",
       "  0.971369052768166,\n",
       "  0.9711278006055363,\n",
       "  0.9705478941392733,\n",
       "  0.9703867728157439,\n",
       "  0.97058401816609,\n",
       "  0.9709203341262975,\n",
       "  0.971222353481834,\n",
       "  0.9710779573961938,\n",
       "  0.9707791468425605,\n",
       "  0.9706151735510381,\n",
       "  0.9706093452638409,\n",
       "  0.9705975670415224,\n",
       "  0.9704759218209341,\n",
       "  0.9702194582612457,\n",
       "  0.9700773951124567,\n",
       "  0.9704504865916956,\n",
       "  0.9708153168252595,\n",
       "  0.9713010245458478,\n",
       "  0.9717437364835639,\n",
       "  0.9719827665441177,\n",
       "  0.972160526600346,\n",
       "  0.9720297929282007,\n",
       "  0.9718666630622835,\n",
       "  0.9713307066392733,\n",
       "  0.9710456666306229,\n",
       "  0.9708907601643598,\n",
       "  0.9711961802551903,\n",
       "  0.9712798469939447,\n",
       "  0.9710391949610727,\n",
       "  0.9708208450475778,\n",
       "  0.9706527113970588,\n",
       "  0.9705778411548442,\n",
       "  0.9706809201989619,\n",
       "  0.9705860131920414,\n",
       "  0.9699940230320069,\n",
       "  0.9688897518382352,\n",
       "  0.967569255514706,\n",
       "  0.9660891327854672,\n",
       "  0.9651088019031141,\n",
       "  0.9643504000865051,\n",
       "  0.9645084477724913,\n",
       "  0.9646266084558823,\n",
       "  0.9646937851427335,\n",
       "  0.9648666144031143,\n",
       "  0.9655555471453287,\n",
       "  0.966814035467128,\n",
       "  0.9676849183607265,\n",
       "  0.9675284493944636,\n",
       "  0.9674329206314879,\n",
       "  0.9674832666522492,\n",
       "  0.9675032763840831,\n",
       "  0.9678312878460207,\n",
       "  0.9670739484212802,\n",
       "  0.9661738673226644,\n",
       "  0.9652164927551903,\n",
       "  0.9651516976643598,\n",
       "  0.9654545955882352,\n",
       "  0.9652460342776816,\n",
       "  0.9648554687500002,\n",
       "  0.964572080449827],\n",
       " 'ROC AUC Score': 0.9705860131920414,\n",
       " 'ROC FPR': array([0.00000000e+00, 6.61764706e-04, 6.61764706e-04, ...,\n",
       "        9.98529412e-01, 9.98529412e-01, 1.00000000e+00]),\n",
       " 'ROC TPR': array([0.        , 0.11625   , 0.11639706, ..., 0.99992647, 1.        ,\n",
       "        1.        ]),\n",
       " 'ROC Thresholds': array([2.0000000e+00, 1.0000000e+00, 9.9999988e-01, ..., 4.4450149e-04,\n",
       "        4.2184725e-04, 3.9912315e-19], dtype=float32),\n",
       " 'True Labels': array([1, 1, 1, ..., 0, 0, 0], dtype=int64),\n",
       " 'Predicted Labels': array([False,  True,  True, ..., False, False, False]),\n",
       " 'F1 Score': 0.9382850504610469}"
      ]
     },
     "execution_count": 26,
     "metadata": {},
     "output_type": "execute_result"
    }
   ],
   "source": [
    "performance_scores"
   ]
  },
  {
   "cell_type": "code",
   "execution_count": 27,
   "metadata": {
    "execution": {
     "iopub.execute_input": "2024-08-07T12:39:11.250873Z",
     "iopub.status.busy": "2024-08-07T12:39:11.249868Z",
     "iopub.status.idle": "2024-08-07T12:39:12.284786Z",
     "shell.execute_reply": "2024-08-07T12:39:12.283784Z"
    }
   },
   "outputs": [
    {
     "data": {
      "text/plain": [
       "array([[12613,   987],\n",
       "       [ 2364, 24836]], dtype=int64)"
      ]
     },
     "execution_count": 27,
     "metadata": {},
     "output_type": "execute_result"
    }
   ],
   "source": [
    "def test_cm(model, dataloader, args, threshold):\n",
    "    model.eval()\n",
    "    for batch in dataloader:\n",
    "        feat, edge_index, edge_label_index = batch.node_feature, batch.edge_index, batch.edge_label_index\n",
    "        batch.to(args[\"device\"])\n",
    "        pred, x = model(feat, edge_index, edge_label_index, training = False)\n",
    "        pred = torch.sigmoid(pred) > threshold\n",
    "        score = confusion_matrix(batch.edge_label.flatten().cpu().numpy(), pred.flatten().data.cpu().numpy())\n",
    "    return score\n",
    "\n",
    "table = test_cm(best_model, dataloaders['test'], args, 0.8)\n",
    "table"
   ]
  },
  {
   "cell_type": "code",
   "execution_count": 28,
   "metadata": {
    "execution": {
     "iopub.execute_input": "2024-08-07T12:39:12.291296Z",
     "iopub.status.busy": "2024-08-07T12:39:12.290789Z",
     "iopub.status.idle": "2024-08-07T12:39:12.331883Z",
     "shell.execute_reply": "2024-08-07T12:39:12.330882Z"
    }
   },
   "outputs": [
    {
     "data": {
      "text/plain": [
       "{'Loss': [array(1.5834289, dtype=float32),\n",
       "  array(1.5029471, dtype=float32),\n",
       "  array(1.4761482, dtype=float32),\n",
       "  array(1.3699104, dtype=float32),\n",
       "  array(1.2971721, dtype=float32),\n",
       "  array(1.2518809, dtype=float32),\n",
       "  array(1.1851084, dtype=float32),\n",
       "  array(1.1236895, dtype=float32),\n",
       "  array(1.0809064, dtype=float32),\n",
       "  array(1.042266, dtype=float32),\n",
       "  array(0.99779236, dtype=float32),\n",
       "  array(0.95389074, dtype=float32),\n",
       "  array(0.9028615, dtype=float32),\n",
       "  array(0.86255026, dtype=float32),\n",
       "  array(0.81159145, dtype=float32),\n",
       "  array(0.78297514, dtype=float32),\n",
       "  array(0.7606619, dtype=float32),\n",
       "  array(0.7190895, dtype=float32),\n",
       "  array(0.7010395, dtype=float32),\n",
       "  array(0.6750578, dtype=float32),\n",
       "  array(0.6556902, dtype=float32),\n",
       "  array(0.61637944, dtype=float32),\n",
       "  array(0.61962885, dtype=float32),\n",
       "  array(0.58538437, dtype=float32),\n",
       "  array(0.5753947, dtype=float32),\n",
       "  array(0.5493861, dtype=float32),\n",
       "  array(0.53984606, dtype=float32),\n",
       "  array(0.53626174, dtype=float32),\n",
       "  array(0.51653033, dtype=float32),\n",
       "  array(0.49661115, dtype=float32),\n",
       "  array(0.48239446, dtype=float32),\n",
       "  array(0.47813258, dtype=float32),\n",
       "  array(0.47390753, dtype=float32),\n",
       "  array(0.4700245, dtype=float32),\n",
       "  array(0.47978884, dtype=float32),\n",
       "  array(0.44243893, dtype=float32),\n",
       "  array(0.44723436, dtype=float32),\n",
       "  array(0.43247434, dtype=float32),\n",
       "  array(0.44692364, dtype=float32),\n",
       "  array(0.43271872, dtype=float32),\n",
       "  array(0.4314494, dtype=float32),\n",
       "  array(0.41230774, dtype=float32),\n",
       "  array(0.41000757, dtype=float32),\n",
       "  array(0.41036502, dtype=float32),\n",
       "  array(0.41473427, dtype=float32),\n",
       "  array(0.40057775, dtype=float32),\n",
       "  array(0.40929472, dtype=float32),\n",
       "  array(0.40058905, dtype=float32),\n",
       "  array(0.40306008, dtype=float32),\n",
       "  array(0.39556578, dtype=float32),\n",
       "  array(0.41070262, dtype=float32),\n",
       "  array(0.39926934, dtype=float32),\n",
       "  array(0.383831, dtype=float32),\n",
       "  array(0.39192754, dtype=float32),\n",
       "  array(0.39318913, dtype=float32),\n",
       "  array(0.38274154, dtype=float32),\n",
       "  array(0.39048696, dtype=float32),\n",
       "  array(0.37941444, dtype=float32),\n",
       "  array(0.37470418, dtype=float32),\n",
       "  array(0.3765568, dtype=float32),\n",
       "  array(0.37929416, dtype=float32),\n",
       "  array(0.37537783, dtype=float32),\n",
       "  array(0.37428504, dtype=float32),\n",
       "  array(0.36851186, dtype=float32),\n",
       "  array(0.37447754, dtype=float32),\n",
       "  array(0.37534857, dtype=float32),\n",
       "  array(0.37282643, dtype=float32),\n",
       "  array(0.37026975, dtype=float32),\n",
       "  array(0.37524182, dtype=float32),\n",
       "  array(0.367429, dtype=float32),\n",
       "  array(0.36453903, dtype=float32),\n",
       "  array(0.37271196, dtype=float32),\n",
       "  array(0.35798162, dtype=float32),\n",
       "  array(0.35872695, dtype=float32),\n",
       "  array(0.36145207, dtype=float32),\n",
       "  array(0.3604452, dtype=float32),\n",
       "  array(0.3656976, dtype=float32),\n",
       "  array(0.3568684, dtype=float32),\n",
       "  array(0.35414717, dtype=float32),\n",
       "  array(0.3504432, dtype=float32),\n",
       "  array(0.36168727, dtype=float32),\n",
       "  array(0.35646808, dtype=float32),\n",
       "  array(0.35313758, dtype=float32),\n",
       "  array(0.36060056, dtype=float32),\n",
       "  array(0.3580381, dtype=float32),\n",
       "  array(0.35861078, dtype=float32),\n",
       "  array(0.35867634, dtype=float32),\n",
       "  array(0.34523082, dtype=float32),\n",
       "  array(0.34536, dtype=float32),\n",
       "  array(0.34396246, dtype=float32),\n",
       "  array(0.3494152, dtype=float32),\n",
       "  array(0.35118994, dtype=float32),\n",
       "  array(0.34401253, dtype=float32),\n",
       "  array(0.34063917, dtype=float32),\n",
       "  array(0.34443477, dtype=float32),\n",
       "  array(0.34787038, dtype=float32),\n",
       "  array(0.33736485, dtype=float32),\n",
       "  array(0.3474111, dtype=float32),\n",
       "  array(0.34371465, dtype=float32),\n",
       "  array(0.3343537, dtype=float32),\n",
       "  array(0.34257144, dtype=float32),\n",
       "  array(0.34637251, dtype=float32),\n",
       "  array(0.35103136, dtype=float32),\n",
       "  array(0.33164936, dtype=float32),\n",
       "  array(0.34563756, dtype=float32),\n",
       "  array(0.34117395, dtype=float32),\n",
       "  array(0.33624822, dtype=float32),\n",
       "  array(0.34357214, dtype=float32),\n",
       "  array(0.3313529, dtype=float32),\n",
       "  array(0.343027, dtype=float32),\n",
       "  array(0.3356335, dtype=float32),\n",
       "  array(0.33490497, dtype=float32),\n",
       "  array(0.3325382, dtype=float32),\n",
       "  array(0.3339901, dtype=float32),\n",
       "  array(0.34095305, dtype=float32),\n",
       "  array(0.34090242, dtype=float32),\n",
       "  array(0.3330289, dtype=float32),\n",
       "  array(0.32787657, dtype=float32),\n",
       "  array(0.3302757, dtype=float32),\n",
       "  array(0.33392623, dtype=float32),\n",
       "  array(0.3354383, dtype=float32),\n",
       "  array(0.33372432, dtype=float32),\n",
       "  array(0.32194164, dtype=float32),\n",
       "  array(0.32655355, dtype=float32),\n",
       "  array(0.31936702, dtype=float32),\n",
       "  array(0.3251918, dtype=float32),\n",
       "  array(0.3234612, dtype=float32),\n",
       "  array(0.3221159, dtype=float32),\n",
       "  array(0.32743427, dtype=float32),\n",
       "  array(0.33239764, dtype=float32),\n",
       "  array(0.32925677, dtype=float32),\n",
       "  array(0.32138798, dtype=float32),\n",
       "  array(0.32465544, dtype=float32),\n",
       "  array(0.32538295, dtype=float32),\n",
       "  array(0.32327965, dtype=float32),\n",
       "  array(0.32772803, dtype=float32),\n",
       "  array(0.32684466, dtype=float32),\n",
       "  array(0.3261373, dtype=float32),\n",
       "  array(0.3178566, dtype=float32),\n",
       "  array(0.32636118, dtype=float32),\n",
       "  array(0.32573363, dtype=float32),\n",
       "  array(0.322522, dtype=float32),\n",
       "  array(0.32155013, dtype=float32),\n",
       "  array(0.3164243, dtype=float32),\n",
       "  array(0.32321417, dtype=float32),\n",
       "  array(0.32655492, dtype=float32),\n",
       "  array(0.31278688, dtype=float32),\n",
       "  array(0.32035685, dtype=float32),\n",
       "  array(0.32168192, dtype=float32)],\n",
       " 'AUC Train': [0.8536230459783318,\n",
       "  0.8420792431661919,\n",
       "  0.8420333883804081,\n",
       "  0.8463195354043682,\n",
       "  0.8552464369595268,\n",
       "  0.8575628970544054,\n",
       "  0.8568688561415372,\n",
       "  0.8610616155156183,\n",
       "  0.8658814139601667,\n",
       "  0.8704487380640707,\n",
       "  0.8745906222320801,\n",
       "  0.8801319990400551,\n",
       "  0.8850908380236314,\n",
       "  0.8901657964692143,\n",
       "  0.8930939962294546,\n",
       "  0.8962252529709074,\n",
       "  0.8981069949676916,\n",
       "  0.9029954190037889,\n",
       "  0.9079028426581541,\n",
       "  0.9167842961780632,\n",
       "  0.921362917495014,\n",
       "  0.9268024687340944,\n",
       "  0.9304654847119128,\n",
       "  0.9345528853048577,\n",
       "  0.9358717124445073,\n",
       "  0.9382210752272102,\n",
       "  0.9408281407932417,\n",
       "  0.9430221408831932,\n",
       "  0.9455908950946013,\n",
       "  0.9466947943730297,\n",
       "  0.9494407803286788,\n",
       "  0.9508862675062739,\n",
       "  0.9533267358605035,\n",
       "  0.955779319913951,\n",
       "  0.9573539866338936,\n",
       "  0.958253714591802,\n",
       "  0.9596758843767583,\n",
       "  0.9599840820197667,\n",
       "  0.9612185736100305,\n",
       "  0.9617219548146796,\n",
       "  0.9630122737607518,\n",
       "  0.9646906717949792,\n",
       "  0.9668052952447423,\n",
       "  0.9679402010978362,\n",
       "  0.9688307813511319,\n",
       "  0.969905963568654,\n",
       "  0.9700387863757092,\n",
       "  0.9699084243079967,\n",
       "  0.9701008344207546,\n",
       "  0.9707270792968615,\n",
       "  0.9714706088392232,\n",
       "  0.9720138815913706,\n",
       "  0.9727640755815496,\n",
       "  0.9740113147960932,\n",
       "  0.9749133949195101,\n",
       "  0.9760676920593603,\n",
       "  0.976677881526953,\n",
       "  0.976821899267968,\n",
       "  0.9769100125108319,\n",
       "  0.9774098105254787,\n",
       "  0.9773187203739712,\n",
       "  0.9776869492080029,\n",
       "  0.9775387239563162,\n",
       "  0.97868495980584,\n",
       "  0.9783479800843649,\n",
       "  0.9790567167402713,\n",
       "  0.9789400960220227,\n",
       "  0.979136985333517,\n",
       "  0.9792100060530122,\n",
       "  0.9799023997276073,\n",
       "  0.9799328258336035,\n",
       "  0.9808590327105586,\n",
       "  0.9811781870165449,\n",
       "  0.9813813126907747,\n",
       "  0.9814993302937787,\n",
       "  0.981095648216249,\n",
       "  0.9812549744876415,\n",
       "  0.9810731402267567,\n",
       "  0.9810679220500031,\n",
       "  0.9805631561276271,\n",
       "  0.9806225227369451,\n",
       "  0.9813734276533804,\n",
       "  0.9809844972534241,\n",
       "  0.9811905654897891,\n",
       "  0.9814939929815338,\n",
       "  0.9813103155425149,\n",
       "  0.981285882120704,\n",
       "  0.9810522476215803,\n",
       "  0.9809898035988905,\n",
       "  0.980982107910883,\n",
       "  0.9805728528271711,\n",
       "  0.9796651153733021,\n",
       "  0.9804982686867123,\n",
       "  0.9802697811365273,\n",
       "  0.9805820008275101,\n",
       "  0.9802402479552612,\n",
       "  0.9804169989751221,\n",
       "  0.9807906674004851,\n",
       "  0.9804295377743197,\n",
       "  0.980512872458841,\n",
       "  0.9801870000518198,\n",
       "  0.9811437343844316,\n",
       "  0.9812384678428934,\n",
       "  0.9815120652440701,\n",
       "  0.9821693088792163,\n",
       "  0.9815950210608313,\n",
       "  0.9817296884401591,\n",
       "  0.9814182772228971,\n",
       "  0.9815732736796301,\n",
       "  0.9811873560557047,\n",
       "  0.9816989255862908,\n",
       "  0.9822279103176075,\n",
       "  0.9822106304328264,\n",
       "  0.9829344002555885,\n",
       "  0.9833705895925042,\n",
       "  0.982993526059127,\n",
       "  0.983318508878902,\n",
       "  0.983777273757668,\n",
       "  0.9830827918744964,\n",
       "  0.9833086452629307,\n",
       "  0.9831404883901155,\n",
       "  0.9834504630107915,\n",
       "  0.9840426107601603,\n",
       "  0.9841033678327465,\n",
       "  0.984184293065332,\n",
       "  0.9842148371239134,\n",
       "  0.9844608138909211,\n",
       "  0.9840745971608694,\n",
       "  0.9843076671605494,\n",
       "  0.9843442176757171,\n",
       "  0.9845526377396174,\n",
       "  0.9847630852614434,\n",
       "  0.9843497964696877,\n",
       "  0.984423360185093,\n",
       "  0.9845082282109784,\n",
       "  0.9844738966577011,\n",
       "  0.9844830231545064,\n",
       "  0.98458648624495,\n",
       "  0.9844816735014811,\n",
       "  0.984579772115098,\n",
       "  0.9849238147545859,\n",
       "  0.9843102225323386,\n",
       "  0.9849497780112908,\n",
       "  0.9852935160525907,\n",
       "  0.9853602206054701,\n",
       "  0.9854403538405196,\n",
       "  0.9852480490063589,\n",
       "  0.9858695154508634,\n",
       "  0.9857034068213146],\n",
       " 'AUC Validation': [0.8346101451852157,\n",
       "  0.8220243449192596,\n",
       "  0.8220255969094373,\n",
       "  0.826653060769321,\n",
       "  0.8336758711758676,\n",
       "  0.8349377366626487,\n",
       "  0.8344038615508917,\n",
       "  0.8369384791604261,\n",
       "  0.8412455876675322,\n",
       "  0.8455907209821504,\n",
       "  0.8501317623667046,\n",
       "  0.8546107910282699,\n",
       "  0.8582279312637815,\n",
       "  0.861513207571578,\n",
       "  0.8636878550203378,\n",
       "  0.8651470130672729,\n",
       "  0.8668148694941662,\n",
       "  0.8711835526629036,\n",
       "  0.8772800417666087,\n",
       "  0.8836773573395862,\n",
       "  0.8890625781141821,\n",
       "  0.893399458569141,\n",
       "  0.8972231095819033,\n",
       "  0.9005384552866229,\n",
       "  0.9023241366984205,\n",
       "  0.9038645145660377,\n",
       "  0.905791100306511,\n",
       "  0.9076316123982915,\n",
       "  0.9100922571281291,\n",
       "  0.9121058656502374,\n",
       "  0.9140381597087777,\n",
       "  0.9162984697856966,\n",
       "  0.9182810841146816,\n",
       "  0.9201013696696829,\n",
       "  0.9215258830121773,\n",
       "  0.9229184097632865,\n",
       "  0.9235474929142765,\n",
       "  0.924049362506071,\n",
       "  0.9254673292649368,\n",
       "  0.926564700007686,\n",
       "  0.9282931792591856,\n",
       "  0.9299762434458179,\n",
       "  0.9314138445474048,\n",
       "  0.932324463243418,\n",
       "  0.9331492976275614,\n",
       "  0.9337729617973072,\n",
       "  0.9345072607967037,\n",
       "  0.9354679942528945,\n",
       "  0.9362592953104871,\n",
       "  0.9365743101004123,\n",
       "  0.9378270574211478,\n",
       "  0.9402262735098066,\n",
       "  0.944513287980174,\n",
       "  0.9483066424530865,\n",
       "  0.9498410307780611,\n",
       "  0.9501971368050046,\n",
       "  0.948660401336457,\n",
       "  0.9483174236298432,\n",
       "  0.9488382217988374,\n",
       "  0.9491139192298357,\n",
       "  0.9498876545677869,\n",
       "  0.9517883162697438,\n",
       "  0.9537176358375812,\n",
       "  0.9545365428729785,\n",
       "  0.9551685978105887,\n",
       "  0.9549273260533522,\n",
       "  0.9548329049021143,\n",
       "  0.955780729068655,\n",
       "  0.9576570837734046,\n",
       "  0.9588908619557037,\n",
       "  0.9588933334870694,\n",
       "  0.9591036624287492,\n",
       "  0.9583927267017824,\n",
       "  0.956973472799667,\n",
       "  0.9555534536422162,\n",
       "  0.9548045471893865,\n",
       "  0.9547824494275468,\n",
       "  0.9554816088754129,\n",
       "  0.9573325533173132,\n",
       "  0.9599595991693144,\n",
       "  0.9618000571794459,\n",
       "  0.9629745618742848,\n",
       "  0.9638225053471068,\n",
       "  0.9636701546373899,\n",
       "  0.9633171366726127,\n",
       "  0.9633821779679539,\n",
       "  0.9643091915159046,\n",
       "  0.9650557589374089,\n",
       "  0.9658866856193282,\n",
       "  0.9658769914837193,\n",
       "  0.9650595311324366,\n",
       "  0.9639757619244465,\n",
       "  0.9635193912240756,\n",
       "  0.9638907807250665,\n",
       "  0.9646107453833579,\n",
       "  0.9653949184795936,\n",
       "  0.9656497458021878,\n",
       "  0.9655730526155388,\n",
       "  0.9654692239614326,\n",
       "  0.9654572692128899,\n",
       "  0.9654310017559015,\n",
       "  0.9654504305883558,\n",
       "  0.9653940180201352,\n",
       "  0.9653671042874395,\n",
       "  0.9656774545351259,\n",
       "  0.9659958196832152,\n",
       "  0.9663792666878825,\n",
       "  0.9666125668100357,\n",
       "  0.9666059985937474,\n",
       "  0.9666241321707049,\n",
       "  0.9663880549558682,\n",
       "  0.9663296251421346,\n",
       "  0.9659361541037988,\n",
       "  0.9659554477321305,\n",
       "  0.9661603009068346,\n",
       "  0.9666019830312985,\n",
       "  0.9667092864313621,\n",
       "  0.9665109744321215,\n",
       "  0.9664417336967245,\n",
       "  0.9664287865499198,\n",
       "  0.9665194706592017,\n",
       "  0.9667430009314374,\n",
       "  0.9667979181420592,\n",
       "  0.9663193009553135,\n",
       "  0.9651007927266498,\n",
       "  0.9636317945236533,\n",
       "  0.9620129658157899,\n",
       "  0.9609353673239671,\n",
       "  0.9601242886072832,\n",
       "  0.96024178639821,\n",
       "  0.9603165272373249,\n",
       "  0.9603677695998873,\n",
       "  0.9606523580540047,\n",
       "  0.9614274021678652,\n",
       "  0.962757413236648,\n",
       "  0.9636985231664477,\n",
       "  0.9636390171278963,\n",
       "  0.9636043291581363,\n",
       "  0.9636420024349289,\n",
       "  0.9636164488557092,\n",
       "  0.9639241896638244,\n",
       "  0.9631856912243719,\n",
       "  0.962373352405263,\n",
       "  0.9614657460571071,\n",
       "  0.9614050772630989,\n",
       "  0.961678222040258,\n",
       "  0.9615142545923053,\n",
       "  0.9611826151034341,\n",
       "  0.9608851660331506],\n",
       " 'AUC Test': [0.8405674145761246,\n",
       "  0.8265038684039794,\n",
       "  0.8259012299956748,\n",
       "  0.830426521950692,\n",
       "  0.8378189365268167,\n",
       "  0.8393188310986159,\n",
       "  0.8388915819636679,\n",
       "  0.841679728049308,\n",
       "  0.846028603481834,\n",
       "  0.8492566284602077,\n",
       "  0.85263629433391,\n",
       "  0.8558291171064014,\n",
       "  0.8587394409602077,\n",
       "  0.8619350021626297,\n",
       "  0.8640419090614186,\n",
       "  0.865489392301038,\n",
       "  0.8671750108131488,\n",
       "  0.8714533358564015,\n",
       "  0.8776815960207613,\n",
       "  0.884671588451557,\n",
       "  0.8905462883866783,\n",
       "  0.8949664954584775,\n",
       "  0.8987186634948097,\n",
       "  0.9017195853157438,\n",
       "  0.9031468425605537,\n",
       "  0.9044549118728373,\n",
       "  0.9064179633434255,\n",
       "  0.9083319934039792,\n",
       "  0.9108825935337369,\n",
       "  0.9132704179282009,\n",
       "  0.9155657466479239,\n",
       "  0.9181211315960208,\n",
       "  0.9203039630190313,\n",
       "  0.9222582585423876,\n",
       "  0.923782512435121,\n",
       "  0.9254087424307957,\n",
       "  0.9262105833693772,\n",
       "  0.9273895247621107,\n",
       "  0.9286431120242215,\n",
       "  0.9295766192690311,\n",
       "  0.931084566933391,\n",
       "  0.93280348183391,\n",
       "  0.9342849291738754,\n",
       "  0.9353649005190311,\n",
       "  0.9362149383650519,\n",
       "  0.9368746891219724,\n",
       "  0.9376857780060553,\n",
       "  0.9385526194852941,\n",
       "  0.9394318041738754,\n",
       "  0.940037732482699,\n",
       "  0.9411761651167819,\n",
       "  0.9431900627162629,\n",
       "  0.9477056606833909,\n",
       "  0.9514328341262976,\n",
       "  0.9527640652032873,\n",
       "  0.9528621756055362,\n",
       "  0.9511346128892733,\n",
       "  0.9506588262326989,\n",
       "  0.9515924362024222,\n",
       "  0.9523635813148787,\n",
       "  0.9536784764273357,\n",
       "  0.9556020247621106,\n",
       "  0.957305987781142,\n",
       "  0.9582195528762977,\n",
       "  0.9591121431660901,\n",
       "  0.9588303930579584,\n",
       "  0.9586207179930796,\n",
       "  0.9593182688148789,\n",
       "  0.9615079855103805,\n",
       "  0.9630756677119376,\n",
       "  0.9632117782223184,\n",
       "  0.963403519679931,\n",
       "  0.9625727481617647,\n",
       "  0.9608932904411764,\n",
       "  0.959349313365052,\n",
       "  0.958880933715398,\n",
       "  0.9588658493728375,\n",
       "  0.9597992025302767,\n",
       "  0.9621920144896194,\n",
       "  0.9650142409169551,\n",
       "  0.9666129622621106,\n",
       "  0.967699078179066,\n",
       "  0.9685461018598617,\n",
       "  0.9682600237889273,\n",
       "  0.9678873459126298,\n",
       "  0.9680803552119377,\n",
       "  0.9690123134731833,\n",
       "  0.9699164549091696,\n",
       "  0.9709794577205881,\n",
       "  0.971369052768166,\n",
       "  0.9711278006055363,\n",
       "  0.9705478941392733,\n",
       "  0.9703867728157439,\n",
       "  0.97058401816609,\n",
       "  0.9709203341262975,\n",
       "  0.971222353481834,\n",
       "  0.9710779573961938,\n",
       "  0.9707791468425605,\n",
       "  0.9706151735510381,\n",
       "  0.9706093452638409,\n",
       "  0.9705975670415224,\n",
       "  0.9704759218209341,\n",
       "  0.9702194582612457,\n",
       "  0.9700773951124567,\n",
       "  0.9704504865916956,\n",
       "  0.9708153168252595,\n",
       "  0.9713010245458478,\n",
       "  0.9717437364835639,\n",
       "  0.9719827665441177,\n",
       "  0.972160526600346,\n",
       "  0.9720297929282007,\n",
       "  0.9718666630622835,\n",
       "  0.9713307066392733,\n",
       "  0.9710456666306229,\n",
       "  0.9708907601643598,\n",
       "  0.9711961802551903,\n",
       "  0.9712798469939447,\n",
       "  0.9710391949610727,\n",
       "  0.9708208450475778,\n",
       "  0.9706527113970588,\n",
       "  0.9705778411548442,\n",
       "  0.9706809201989619,\n",
       "  0.9705860131920414,\n",
       "  0.9699940230320069,\n",
       "  0.9688897518382352,\n",
       "  0.967569255514706,\n",
       "  0.9660891327854672,\n",
       "  0.9651088019031141,\n",
       "  0.9643504000865051,\n",
       "  0.9645084477724913,\n",
       "  0.9646266084558823,\n",
       "  0.9646937851427335,\n",
       "  0.9648666144031143,\n",
       "  0.9655555471453287,\n",
       "  0.966814035467128,\n",
       "  0.9676849183607265,\n",
       "  0.9675284493944636,\n",
       "  0.9674329206314879,\n",
       "  0.9674832666522492,\n",
       "  0.9675032763840831,\n",
       "  0.9678312878460207,\n",
       "  0.9670739484212802,\n",
       "  0.9661738673226644,\n",
       "  0.9652164927551903,\n",
       "  0.9651516976643598,\n",
       "  0.9654545955882352,\n",
       "  0.9652460342776816,\n",
       "  0.9648554687500002,\n",
       "  0.964572080449827],\n",
       " 'ROC AUC Score': 0.9705860131920414,\n",
       " 'ROC FPR': array([0.00000000e+00, 6.61764706e-04, 6.61764706e-04, ...,\n",
       "        9.98529412e-01, 9.98529412e-01, 1.00000000e+00]),\n",
       " 'ROC TPR': array([0.        , 0.11625   , 0.11639706, ..., 0.99992647, 1.        ,\n",
       "        1.        ]),\n",
       " 'ROC Thresholds': array([2.0000000e+00, 1.0000000e+00, 9.9999988e-01, ..., 4.4450149e-04,\n",
       "        4.2184725e-04, 3.9912315e-19], dtype=float32),\n",
       " 'True Labels': array([1, 1, 1, ..., 0, 0, 0], dtype=int64),\n",
       " 'Predicted Labels': array([False,  True,  True, ..., False, False, False]),\n",
       " 'F1 Score': 0.9382850504610469}"
      ]
     },
     "execution_count": 28,
     "metadata": {},
     "output_type": "execute_result"
    }
   ],
   "source": [
    "performance_scores"
   ]
  },
  {
   "cell_type": "code",
   "execution_count": 29,
   "metadata": {
    "execution": {
     "iopub.execute_input": "2024-08-07T12:39:12.336424Z",
     "iopub.status.busy": "2024-08-07T12:39:12.336424Z",
     "iopub.status.idle": "2024-08-07T12:39:12.347936Z",
     "shell.execute_reply": "2024-08-07T12:39:12.346932Z"
    }
   },
   "outputs": [],
   "source": [
    "with open(f'{pred_output_dir}/{dataset_prefix}_{disease_prefix}_performance_scores_{embedding_method}.pkl', 'wb') as f:\n",
    "    pickle.dump(performance_scores, f)"
   ]
  },
  {
   "attachments": {},
   "cell_type": "markdown",
   "metadata": {},
   "source": [
    "# Hyperparameter Optimization of Node Embedding and GNN Training"
   ]
  },
  {
   "attachments": {},
   "cell_type": "markdown",
   "metadata": {},
   "source": [
    "The routine including node embedding and GNN training that needs to be optimized is contained in `hyperparam_opt.py`."
   ]
  },
  {
   "attachments": {},
   "cell_type": "markdown",
   "metadata": {},
   "source": [
    "# GNN Predictions"
   ]
  },
  {
   "attachments": {},
   "cell_type": "markdown",
   "metadata": {},
   "source": [
    "Load the Edge2Vec embedding"
   ]
  },
  {
   "cell_type": "code",
   "execution_count": 30,
   "metadata": {
    "execution": {
     "iopub.execute_input": "2024-08-07T12:39:12.353938Z",
     "iopub.status.busy": "2024-08-07T12:39:12.352940Z",
     "iopub.status.idle": "2024-08-07T12:39:12.380021Z",
     "shell.execute_reply": "2024-08-07T12:39:12.379023Z"
    }
   },
   "outputs": [
    {
     "data": {
      "text/html": [
       "<div>\n",
       "<style scoped>\n",
       "    .dataframe tbody tr th:only-of-type {\n",
       "        vertical-align: middle;\n",
       "    }\n",
       "\n",
       "    .dataframe tbody tr th {\n",
       "        vertical-align: top;\n",
       "    }\n",
       "\n",
       "    .dataframe thead th {\n",
       "        text-align: right;\n",
       "    }\n",
       "</style>\n",
       "<table border=\"1\" class=\"dataframe\">\n",
       "  <thead>\n",
       "    <tr style=\"text-align: right;\">\n",
       "      <th></th>\n",
       "      <th>Node</th>\n",
       "      <th>Embedding</th>\n",
       "    </tr>\n",
       "  </thead>\n",
       "  <tbody>\n",
       "    <tr>\n",
       "      <th>0</th>\n",
       "      <td>0</td>\n",
       "      <td>[0.13252565, -0.1611464, 0.008999971, 0.025334...</td>\n",
       "    </tr>\n",
       "    <tr>\n",
       "      <th>1</th>\n",
       "      <td>1</td>\n",
       "      <td>[0.13853446, -0.20387155, -0.006571308, 0.0561...</td>\n",
       "    </tr>\n",
       "    <tr>\n",
       "      <th>2</th>\n",
       "      <td>2</td>\n",
       "      <td>[0.13825284, -0.20753926, 0.0029043716, 0.0365...</td>\n",
       "    </tr>\n",
       "    <tr>\n",
       "      <th>3</th>\n",
       "      <td>3</td>\n",
       "      <td>[0.110843755, -0.13675536, -0.058031283, 0.038...</td>\n",
       "    </tr>\n",
       "    <tr>\n",
       "      <th>4</th>\n",
       "      <td>4</td>\n",
       "      <td>[0.058257855, -0.20879067, 0.08991305, 0.01281...</td>\n",
       "    </tr>\n",
       "    <tr>\n",
       "      <th>...</th>\n",
       "      <td>...</td>\n",
       "      <td>...</td>\n",
       "    </tr>\n",
       "    <tr>\n",
       "      <th>14877</th>\n",
       "      <td>14877</td>\n",
       "      <td>[0.0693241, -0.0881092, -0.015356085, 0.063320...</td>\n",
       "    </tr>\n",
       "    <tr>\n",
       "      <th>14878</th>\n",
       "      <td>14878</td>\n",
       "      <td>[0.15323506, -0.2183386, -0.02077197, 0.056754...</td>\n",
       "    </tr>\n",
       "    <tr>\n",
       "      <th>14879</th>\n",
       "      <td>14879</td>\n",
       "      <td>[0.12536395, -0.15534963, -0.022119183, 0.0664...</td>\n",
       "    </tr>\n",
       "    <tr>\n",
       "      <th>14880</th>\n",
       "      <td>14880</td>\n",
       "      <td>[0.21742862, -0.33455265, -0.10267707, -0.1389...</td>\n",
       "    </tr>\n",
       "    <tr>\n",
       "      <th>14881</th>\n",
       "      <td>14881</td>\n",
       "      <td>[0.14983824, -0.20142841, -0.037275784, 0.0660...</td>\n",
       "    </tr>\n",
       "  </tbody>\n",
       "</table>\n",
       "<p>14882 rows × 2 columns</p>\n",
       "</div>"
      ],
      "text/plain": [
       "        Node                                          Embedding\n",
       "0          0  [0.13252565, -0.1611464, 0.008999971, 0.025334...\n",
       "1          1  [0.13853446, -0.20387155, -0.006571308, 0.0561...\n",
       "2          2  [0.13825284, -0.20753926, 0.0029043716, 0.0365...\n",
       "3          3  [0.110843755, -0.13675536, -0.058031283, 0.038...\n",
       "4          4  [0.058257855, -0.20879067, 0.08991305, 0.01281...\n",
       "...      ...                                                ...\n",
       "14877  14877  [0.0693241, -0.0881092, -0.015356085, 0.063320...\n",
       "14878  14878  [0.15323506, -0.2183386, -0.02077197, 0.056754...\n",
       "14879  14879  [0.12536395, -0.15534963, -0.022119183, 0.0664...\n",
       "14880  14880  [0.21742862, -0.33455265, -0.10267707, -0.1389...\n",
       "14881  14881  [0.14983824, -0.20142841, -0.037275784, 0.0660...\n",
       "\n",
       "[14882 rows x 2 columns]"
      ]
     },
     "execution_count": 30,
     "metadata": {},
     "output_type": "execute_result"
    }
   ],
   "source": [
    "embedding"
   ]
  },
  {
   "attachments": {},
   "cell_type": "markdown",
   "metadata": {},
   "source": [
    "Initialize a graph with nodes and their embedding features."
   ]
  },
  {
   "cell_type": "code",
   "execution_count": 31,
   "metadata": {
    "execution": {
     "iopub.execute_input": "2024-08-07T12:39:12.384015Z",
     "iopub.status.busy": "2024-08-07T12:39:12.383016Z",
     "iopub.status.idle": "2024-08-07T12:39:12.411576Z",
     "shell.execute_reply": "2024-08-07T12:39:12.410572Z"
    }
   },
   "outputs": [
    {
     "name": "stdout",
     "output_type": "stream",
     "text": [
      "(0, {'node_feature': tensor([ 0.1325, -0.1611,  0.0090,  0.0253,  0.0140,  0.1380, -0.2626, -0.1679,\n",
      "        -0.0550,  0.1510,  0.0862, -0.0769,  0.0068, -0.0784, -0.0674,  0.0408,\n",
      "        -0.1120,  0.0045,  0.2128, -0.0831,  0.1172, -0.0303, -0.0411, -0.0067,\n",
      "         0.0862,  0.0329, -0.2598, -0.0087,  0.2121, -0.0187, -0.0023,  0.1453,\n",
      "         0.0382, -0.0534,  0.0231, -0.1446, -0.1020,  0.1347,  0.0993,  0.0661,\n",
      "         0.0407, -0.1220, -0.1159, -0.0981, -0.1817, -0.1948, -0.1019,  0.0925,\n",
      "        -0.1083, -0.0243,  0.0913, -0.0011, -0.1560,  0.0113,  0.0617,  0.0831,\n",
      "        -0.0857, -0.0811,  0.1383,  0.0789, -0.0918,  0.1685,  0.0116,  0.3780,\n",
      "        -0.1061,  0.0796, -0.0321, -0.2743, -0.0580, -0.0428, -0.0373, -0.2968,\n",
      "        -0.0794,  0.3384,  0.0475, -0.0402, -0.0728, -0.2009, -0.0099,  0.0597,\n",
      "         0.0659,  0.0395,  0.1373,  0.0900,  0.0820, -0.0593,  0.1181,  0.1785,\n",
      "         0.0510,  0.0777, -0.1465, -0.0264,  0.0215,  0.0578, -0.0084, -0.1424,\n",
      "        -0.0605,  0.0158,  0.1278, -0.0466,  0.2399,  0.2526,  0.0859, -0.0951,\n",
      "         0.0829, -0.0168, -0.0657,  0.0184,  0.0380, -0.0766,  0.2550, -0.1883,\n",
      "        -0.0242,  0.0981,  0.2976, -0.0217,  0.0560, -0.0986,  0.1730, -0.0365,\n",
      "        -0.0055, -0.0919, -0.0844,  0.0800, -0.0385,  0.1485,  0.1058,  0.2143])})\n",
      "(0, 1496, {})\n",
      "Number of edges is 135988\n",
      "Number of nodes is 14882\n"
     ]
    }
   ],
   "source": [
    "for node in embedded_node_G.nodes(data=True):\n",
    "    print(node)\n",
    "    break\n",
    "for edge in embedded_node_G.edges(data=True):\n",
    "    print(edge)\n",
    "    break\n",
    "\n",
    "print(\"Number of edges is {}\".format(embedded_node_G.number_of_edges()))\n",
    "print(\"Number of nodes is {}\".format(embedded_node_G.number_of_nodes()))"
   ]
  },
  {
   "cell_type": "code",
   "execution_count": 32,
   "metadata": {
    "execution": {
     "iopub.execute_input": "2024-08-07T12:39:12.415571Z",
     "iopub.status.busy": "2024-08-07T12:39:12.415571Z",
     "iopub.status.idle": "2024-08-07T12:39:12.628248Z",
     "shell.execute_reply": "2024-08-07T12:39:12.627253Z"
    }
   },
   "outputs": [
    {
     "name": "stdout",
     "output_type": "stream",
     "text": [
      "torch.Size([2, 271976])\n"
     ]
    }
   ],
   "source": [
    "DeepG = Graph(embedded_node_G)\n",
    "print(DeepG.edge_index.shape)"
   ]
  },
  {
   "attachments": {},
   "cell_type": "markdown",
   "metadata": {},
   "source": [
    "Load arguments and parameters of trained GNN model."
   ]
  },
  {
   "cell_type": "code",
   "execution_count": 33,
   "metadata": {
    "execution": {
     "iopub.execute_input": "2024-08-07T12:39:12.633244Z",
     "iopub.status.busy": "2024-08-07T12:39:12.632246Z",
     "iopub.status.idle": "2024-08-07T12:39:12.674712Z",
     "shell.execute_reply": "2024-08-07T12:39:12.673709Z"
    }
   },
   "outputs": [
    {
     "data": {
      "text/plain": [
       "<All keys matched successfully>"
      ]
     },
     "execution_count": 33,
     "metadata": {},
     "output_type": "execute_result"
    }
   ],
   "source": [
    "with open(f'{run_dir}/{dataset_prefix}_{disease_prefix}_best_model_{embedding_method}_args.pkl', 'rb') as f:\n",
    "    loaded_args = pickle.load(f)\n",
    "    \n",
    "best_model = LinkPredModel(len(embedding['Embedding'][0]), loaded_args['hidden_dim'], loaded_args['output_dim'], loaded_args['layers'], loaded_args['aggr'], loaded_args['dropout'], loaded_args['device']).to(loaded_args['device'])\n",
    "best_model.load_state_dict(torch.load(f'{run_dir}/{dataset_prefix}_{disease_prefix}_best_model_{embedding_method}.pth'))"
   ]
  },
  {
   "attachments": {},
   "cell_type": "markdown",
   "metadata": {},
   "source": [
    "Get output of best model given the graph"
   ]
  },
  {
   "cell_type": "code",
   "execution_count": 34,
   "metadata": {
    "execution": {
     "iopub.execute_input": "2024-08-07T12:39:12.678711Z",
     "iopub.status.busy": "2024-08-07T12:39:12.677712Z",
     "iopub.status.idle": "2024-08-07T12:39:13.727472Z",
     "shell.execute_reply": "2024-08-07T12:39:13.725473Z"
    }
   },
   "outputs": [
    {
     "name": "stdout",
     "output_type": "stream",
     "text": [
      "torch.Size([14882, 64])\n"
     ]
    }
   ],
   "source": [
    "_, best_x = best_model(DeepG.node_feature, DeepG.edge_index, DeepG.edge_label_index, training = False)\n",
    "print(best_x.shape)"
   ]
  },
  {
   "cell_type": "code",
   "execution_count": 35,
   "metadata": {
    "execution": {
     "iopub.execute_input": "2024-08-07T12:39:13.732474Z",
     "iopub.status.busy": "2024-08-07T12:39:13.731474Z",
     "iopub.status.idle": "2024-08-07T12:39:13.757497Z",
     "shell.execute_reply": "2024-08-07T12:39:13.756488Z"
    }
   },
   "outputs": [
    {
     "data": {
      "text/html": [
       "<div>\n",
       "<style scoped>\n",
       "    .dataframe tbody tr th:only-of-type {\n",
       "        vertical-align: middle;\n",
       "    }\n",
       "\n",
       "    .dataframe tbody tr th {\n",
       "        vertical-align: top;\n",
       "    }\n",
       "\n",
       "    .dataframe thead th {\n",
       "        text-align: right;\n",
       "    }\n",
       "</style>\n",
       "<table border=\"1\" class=\"dataframe\">\n",
       "  <thead>\n",
       "    <tr style=\"text-align: right;\">\n",
       "      <th></th>\n",
       "      <th>id</th>\n",
       "      <th>semantic</th>\n",
       "      <th>label</th>\n",
       "      <th>semantic_id</th>\n",
       "    </tr>\n",
       "  </thead>\n",
       "  <tbody>\n",
       "    <tr>\n",
       "      <th>0</th>\n",
       "      <td>ENSEMBL:ENSSSCG00000033987</td>\n",
       "      <td>gene</td>\n",
       "      <td>UBE2E3</td>\n",
       "      <td>4</td>\n",
       "    </tr>\n",
       "    <tr>\n",
       "      <th>1</th>\n",
       "      <td>MP:0000790</td>\n",
       "      <td>phenotype</td>\n",
       "      <td>abnormal stratification in cerebral cortex</td>\n",
       "      <td>8</td>\n",
       "    </tr>\n",
       "    <tr>\n",
       "      <th>2</th>\n",
       "      <td>ZP:0011626</td>\n",
       "      <td>phenotype</td>\n",
       "      <td>cell trunk apoptotic, abnormal</td>\n",
       "      <td>8</td>\n",
       "    </tr>\n",
       "    <tr>\n",
       "      <th>3</th>\n",
       "      <td>ZP:0019272</td>\n",
       "      <td>phenotype</td>\n",
       "      <td>pronephric nephron tubule epithelial cell diff...</td>\n",
       "      <td>8</td>\n",
       "    </tr>\n",
       "    <tr>\n",
       "      <th>4</th>\n",
       "      <td>ENSEMBL:ENSACAG00000007327</td>\n",
       "      <td>gene</td>\n",
       "      <td>ENSEMBL:ENSACAG00000007327</td>\n",
       "      <td>4</td>\n",
       "    </tr>\n",
       "    <tr>\n",
       "      <th>...</th>\n",
       "      <td>...</td>\n",
       "      <td>...</td>\n",
       "      <td>...</td>\n",
       "      <td>...</td>\n",
       "    </tr>\n",
       "    <tr>\n",
       "      <th>14877</th>\n",
       "      <td>MP:0008584</td>\n",
       "      <td>phenotype</td>\n",
       "      <td>photoreceptor outer segment degeneration</td>\n",
       "      <td>8</td>\n",
       "    </tr>\n",
       "    <tr>\n",
       "      <th>14878</th>\n",
       "      <td>ENSEMBL:ENSFCAG00000011716</td>\n",
       "      <td>gene</td>\n",
       "      <td>ENSEMBL:ENSFCAG00000011716</td>\n",
       "      <td>4</td>\n",
       "    </tr>\n",
       "    <tr>\n",
       "      <th>14879</th>\n",
       "      <td>MP:0009412</td>\n",
       "      <td>phenotype</td>\n",
       "      <td>skeletal muscle fiber degeneration</td>\n",
       "      <td>8</td>\n",
       "    </tr>\n",
       "    <tr>\n",
       "      <th>14880</th>\n",
       "      <td>ZP:0002448</td>\n",
       "      <td>phenotype</td>\n",
       "      <td>retinal outer nuclear layer disorganized, abno...</td>\n",
       "      <td>8</td>\n",
       "    </tr>\n",
       "    <tr>\n",
       "      <th>14881</th>\n",
       "      <td>ENSEMBL:ENSCAFG00000012067</td>\n",
       "      <td>gene</td>\n",
       "      <td>ENSEMBL:ENSCAFG00000012067</td>\n",
       "      <td>4</td>\n",
       "    </tr>\n",
       "  </tbody>\n",
       "</table>\n",
       "<p>14882 rows × 4 columns</p>\n",
       "</div>"
      ],
      "text/plain": [
       "                               id   semantic  \\\n",
       "0      ENSEMBL:ENSSSCG00000033987       gene   \n",
       "1                      MP:0000790  phenotype   \n",
       "2                      ZP:0011626  phenotype   \n",
       "3                      ZP:0019272  phenotype   \n",
       "4      ENSEMBL:ENSACAG00000007327       gene   \n",
       "...                           ...        ...   \n",
       "14877                  MP:0008584  phenotype   \n",
       "14878  ENSEMBL:ENSFCAG00000011716       gene   \n",
       "14879                  MP:0009412  phenotype   \n",
       "14880                  ZP:0002448  phenotype   \n",
       "14881  ENSEMBL:ENSCAFG00000012067       gene   \n",
       "\n",
       "                                                   label  semantic_id  \n",
       "0                                                 UBE2E3            4  \n",
       "1             abnormal stratification in cerebral cortex            8  \n",
       "2                         cell trunk apoptotic, abnormal            8  \n",
       "3      pronephric nephron tubule epithelial cell diff...            8  \n",
       "4                             ENSEMBL:ENSACAG00000007327            4  \n",
       "...                                                  ...          ...  \n",
       "14877           photoreceptor outer segment degeneration            8  \n",
       "14878                         ENSEMBL:ENSFCAG00000011716            4  \n",
       "14879                 skeletal muscle fiber degeneration            8  \n",
       "14880  retinal outer nuclear layer disorganized, abno...            8  \n",
       "14881                         ENSEMBL:ENSCAFG00000012067            4  \n",
       "\n",
       "[14882 rows x 4 columns]"
      ]
     },
     "execution_count": 35,
     "metadata": {},
     "output_type": "execute_result"
    }
   ],
   "source": [
    "nodes"
   ]
  },
  {
   "attachments": {},
   "cell_type": "markdown",
   "metadata": {},
   "source": [
    "Define the score function"
   ]
  },
  {
   "cell_type": "code",
   "execution_count": 36,
   "metadata": {
    "execution": {
     "iopub.execute_input": "2024-08-07T12:39:13.762489Z",
     "iopub.status.busy": "2024-08-07T12:39:13.762489Z",
     "iopub.status.idle": "2024-08-07T12:39:13.772798Z",
     "shell.execute_reply": "2024-08-07T12:39:13.771797Z"
    }
   },
   "outputs": [],
   "source": [
    "def score(x, id1, id2): \n",
    "    n1 = x[id1]\n",
    "    n2 = x[id2]\n",
    "    \n",
    "    score = torch.Tensor([torch.sum(n1 * n2, dim=-1)])\n",
    "    p = torch.sigmoid(score).cpu().detach().numpy()\n",
    "    return p\n",
    "\n",
    "def candidates(nodes, id, x): \n",
    "  ind = nodes[nodes['id'] == id].index.values.astype(int)[0]\n",
    "  predictions = nodes.copy()\n",
    "  scores = []\n",
    "  for i in range(len(x)):  \n",
    "    s = score(x, i, ind)\n",
    "    scores.append(s)\n",
    "    \n",
    "  predictions['Score'] = scores\n",
    "  return predictions"
   ]
  },
  {
   "attachments": {},
   "cell_type": "markdown",
   "metadata": {},
   "source": [
    "Calculate the predictions of an edge existing or not between given node ID and each node in the graph contained by semantic group DRUG. Show the top 20 highest probability that an edge exists between a pair of nodes."
   ]
  },
  {
   "cell_type": "code",
   "execution_count": 37,
   "metadata": {
    "execution": {
     "iopub.execute_input": "2024-08-07T12:39:13.779800Z",
     "iopub.status.busy": "2024-08-07T12:39:13.778800Z",
     "iopub.status.idle": "2024-08-07T12:39:14.324864Z",
     "shell.execute_reply": "2024-08-07T12:39:14.322868Z"
    }
   },
   "outputs": [
    {
     "data": {
      "text/html": [
       "<div>\n",
       "<style scoped>\n",
       "    .dataframe tbody tr th:only-of-type {\n",
       "        vertical-align: middle;\n",
       "    }\n",
       "\n",
       "    .dataframe tbody tr th {\n",
       "        vertical-align: top;\n",
       "    }\n",
       "\n",
       "    .dataframe thead th {\n",
       "        text-align: right;\n",
       "    }\n",
       "</style>\n",
       "<table border=\"1\" class=\"dataframe\">\n",
       "  <thead>\n",
       "    <tr style=\"text-align: right;\">\n",
       "      <th></th>\n",
       "      <th>id</th>\n",
       "      <th>semantic</th>\n",
       "      <th>label</th>\n",
       "      <th>semantic_id</th>\n",
       "      <th>Score</th>\n",
       "    </tr>\n",
       "  </thead>\n",
       "  <tbody>\n",
       "    <tr>\n",
       "      <th>14873</th>\n",
       "      <td>91</td>\n",
       "      <td>drug</td>\n",
       "      <td>adenosine triphosphate</td>\n",
       "      <td>3</td>\n",
       "      <td>[0.99487716]</td>\n",
       "    </tr>\n",
       "    <tr>\n",
       "      <th>6091</th>\n",
       "      <td>5359</td>\n",
       "      <td>drug</td>\n",
       "      <td>brilliant Blue G</td>\n",
       "      <td>3</td>\n",
       "      <td>[0.9748799]</td>\n",
       "    </tr>\n",
       "    <tr>\n",
       "      <th>13124</th>\n",
       "      <td>2286</td>\n",
       "      <td>drug</td>\n",
       "      <td>promethazine</td>\n",
       "      <td>3</td>\n",
       "      <td>[0.97240067]</td>\n",
       "    </tr>\n",
       "    <tr>\n",
       "      <th>12146</th>\n",
       "      <td>434</td>\n",
       "      <td>drug</td>\n",
       "      <td>buprenorphine</td>\n",
       "      <td>3</td>\n",
       "      <td>[0.9611151]</td>\n",
       "    </tr>\n",
       "    <tr>\n",
       "      <th>6757</th>\n",
       "      <td>1990</td>\n",
       "      <td>drug</td>\n",
       "      <td>omeprazole</td>\n",
       "      <td>3</td>\n",
       "      <td>[0.9502845]</td>\n",
       "    </tr>\n",
       "    <tr>\n",
       "      <th>6316</th>\n",
       "      <td>2054</td>\n",
       "      <td>drug</td>\n",
       "      <td>pantoprazole</td>\n",
       "      <td>3</td>\n",
       "      <td>[0.95015806]</td>\n",
       "    </tr>\n",
       "    <tr>\n",
       "      <th>7127</th>\n",
       "      <td>918</td>\n",
       "      <td>drug</td>\n",
       "      <td>diphenoxylate</td>\n",
       "      <td>3</td>\n",
       "      <td>[0.9293429]</td>\n",
       "    </tr>\n",
       "    <tr>\n",
       "      <th>6730</th>\n",
       "      <td>1599</td>\n",
       "      <td>drug</td>\n",
       "      <td>loperamide</td>\n",
       "      <td>3</td>\n",
       "      <td>[0.91934997]</td>\n",
       "    </tr>\n",
       "    <tr>\n",
       "      <th>12144</th>\n",
       "      <td>2817</td>\n",
       "      <td>drug</td>\n",
       "      <td>vesnarinone</td>\n",
       "      <td>3</td>\n",
       "      <td>[0.91499555]</td>\n",
       "    </tr>\n",
       "    <tr>\n",
       "      <th>9303</th>\n",
       "      <td>1364</td>\n",
       "      <td>drug</td>\n",
       "      <td>hexachlorophene</td>\n",
       "      <td>3</td>\n",
       "      <td>[0.9095013]</td>\n",
       "    </tr>\n",
       "    <tr>\n",
       "      <th>9231</th>\n",
       "      <td>1200</td>\n",
       "      <td>drug</td>\n",
       "      <td>flunarizine</td>\n",
       "      <td>3</td>\n",
       "      <td>[0.9063442]</td>\n",
       "    </tr>\n",
       "    <tr>\n",
       "      <th>10892</th>\n",
       "      <td>1996</td>\n",
       "      <td>drug</td>\n",
       "      <td>orlistat</td>\n",
       "      <td>3</td>\n",
       "      <td>[0.8987059]</td>\n",
       "    </tr>\n",
       "    <tr>\n",
       "      <th>1486</th>\n",
       "      <td>4226</td>\n",
       "      <td>drug</td>\n",
       "      <td>ingenol mebutate</td>\n",
       "      <td>3</td>\n",
       "      <td>[0.8882684]</td>\n",
       "    </tr>\n",
       "    <tr>\n",
       "      <th>11204</th>\n",
       "      <td>1679</td>\n",
       "      <td>drug</td>\n",
       "      <td>memantine</td>\n",
       "      <td>3</td>\n",
       "      <td>[0.87944376]</td>\n",
       "    </tr>\n",
       "    <tr>\n",
       "      <th>1279</th>\n",
       "      <td>2370</td>\n",
       "      <td>drug</td>\n",
       "      <td>reserpine</td>\n",
       "      <td>3</td>\n",
       "      <td>[0.8734755]</td>\n",
       "    </tr>\n",
       "    <tr>\n",
       "      <th>1961</th>\n",
       "      <td>1762</td>\n",
       "      <td>drug</td>\n",
       "      <td>methyldopa</td>\n",
       "      <td>3</td>\n",
       "      <td>[0.867371]</td>\n",
       "    </tr>\n",
       "    <tr>\n",
       "      <th>1114</th>\n",
       "      <td>2832</td>\n",
       "      <td>drug</td>\n",
       "      <td>thiamine</td>\n",
       "      <td>3</td>\n",
       "      <td>[0.86079866]</td>\n",
       "    </tr>\n",
       "    <tr>\n",
       "      <th>12658</th>\n",
       "      <td>725</td>\n",
       "      <td>drug</td>\n",
       "      <td>codeine</td>\n",
       "      <td>3</td>\n",
       "      <td>[0.8576462]</td>\n",
       "    </tr>\n",
       "    <tr>\n",
       "      <th>8939</th>\n",
       "      <td>849</td>\n",
       "      <td>drug</td>\n",
       "      <td>diacerein</td>\n",
       "      <td>3</td>\n",
       "      <td>[0.85309243]</td>\n",
       "    </tr>\n",
       "    <tr>\n",
       "      <th>7053</th>\n",
       "      <td>722</td>\n",
       "      <td>drug</td>\n",
       "      <td>clozapine</td>\n",
       "      <td>3</td>\n",
       "      <td>[0.8528108]</td>\n",
       "    </tr>\n",
       "  </tbody>\n",
       "</table>\n",
       "</div>"
      ],
      "text/plain": [
       "         id semantic                   label  semantic_id         Score\n",
       "14873    91     drug  adenosine triphosphate            3  [0.99487716]\n",
       "6091   5359     drug        brilliant Blue G            3   [0.9748799]\n",
       "13124  2286     drug            promethazine            3  [0.97240067]\n",
       "12146   434     drug           buprenorphine            3   [0.9611151]\n",
       "6757   1990     drug              omeprazole            3   [0.9502845]\n",
       "6316   2054     drug            pantoprazole            3  [0.95015806]\n",
       "7127    918     drug           diphenoxylate            3   [0.9293429]\n",
       "6730   1599     drug              loperamide            3  [0.91934997]\n",
       "12144  2817     drug             vesnarinone            3  [0.91499555]\n",
       "9303   1364     drug         hexachlorophene            3   [0.9095013]\n",
       "9231   1200     drug             flunarizine            3   [0.9063442]\n",
       "10892  1996     drug                orlistat            3   [0.8987059]\n",
       "1486   4226     drug        ingenol mebutate            3   [0.8882684]\n",
       "11204  1679     drug               memantine            3  [0.87944376]\n",
       "1279   2370     drug               reserpine            3   [0.8734755]\n",
       "1961   1762     drug              methyldopa            3    [0.867371]\n",
       "1114   2832     drug                thiamine            3  [0.86079866]\n",
       "12658   725     drug                 codeine            3   [0.8576462]\n",
       "8939    849     drug               diacerein            3  [0.85309243]\n",
       "7053    722     drug               clozapine            3   [0.8528108]"
      ]
     },
     "execution_count": 37,
     "metadata": {},
     "output_type": "execute_result"
    }
   ],
   "source": [
    "if dataset_prefix == 'prev':\n",
    "    drug_semantic = 'DRUG'\n",
    "else:\n",
    "    drug_semantic = 'drug'\n",
    "\n",
    "predictions = candidates(nodes, 'HP:0001265', best_x)\n",
    "\n",
    "predictions[predictions['semantic'] == drug_semantic].sort_values(by = ['Score'], ascending = False).head(20)"
   ]
  },
  {
   "attachments": {},
   "cell_type": "markdown",
   "metadata": {},
   "source": [
    "Use the node semantics dictionary"
   ]
  },
  {
   "cell_type": "code",
   "execution_count": 38,
   "metadata": {
    "execution": {
     "iopub.execute_input": "2024-08-07T12:39:14.328865Z",
     "iopub.status.busy": "2024-08-07T12:39:14.327865Z",
     "iopub.status.idle": "2024-08-07T12:39:14.338862Z",
     "shell.execute_reply": "2024-08-07T12:39:14.337865Z"
    }
   },
   "outputs": [
    {
     "data": {
      "text/plain": [
       "{4: 'gene',\n",
       " 8: 'phenotype',\n",
       " 3: 'drug',\n",
       " 7: 'molecular function',\n",
       " 0: 'biological artifact',\n",
       " 9: 'taxon',\n",
       " 10: 'variant',\n",
       " 6: 'genotype',\n",
       " 5: 'gene product',\n",
       " 1: 'biological process',\n",
       " 2: 'disease'}"
      ]
     },
     "execution_count": 38,
     "metadata": {},
     "output_type": "execute_result"
    }
   ],
   "source": [
    "node_semantics = nodes[['semantic', 'semantic_id']].drop_duplicates().set_index('semantic_id').to_dict()\n",
    "node_semantics_dict = node_semantics['semantic']\n",
    "\n",
    "node_semantics_dict"
   ]
  },
  {
   "attachments": {},
   "cell_type": "markdown",
   "metadata": {},
   "source": [
    "Get all phenotypes and diseases relevant to the disease."
   ]
  },
  {
   "cell_type": "code",
   "execution_count": 39,
   "metadata": {
    "execution": {
     "iopub.execute_input": "2024-08-07T12:39:14.342865Z",
     "iopub.status.busy": "2024-08-07T12:39:14.342865Z",
     "iopub.status.idle": "2024-08-07T12:39:14.384704Z",
     "shell.execute_reply": "2024-08-07T12:39:14.383702Z"
    }
   },
   "outputs": [
    {
     "name": "stdout",
     "output_type": "stream",
     "text": [
      "A total of 58 symptoms found that are associated with MONDO:0007739\n",
      "                 head          label_head  class_head  index_head  \\\n",
      "6609    MONDO:0007739  Huntington disease           2        3838   \n",
      "20507   MONDO:0007739  Huntington disease           2        3838   \n",
      "22156   MONDO:0007739  Huntington disease           2        3838   \n",
      "24447   MONDO:0007739  Huntington disease           2        3838   \n",
      "30115   MONDO:0007739  Huntington disease           2        3838   \n",
      "31240   MONDO:0007739  Huntington disease           2        3838   \n",
      "32293   MONDO:0007739  Huntington disease           2        3838   \n",
      "34252   MONDO:0007739  Huntington disease           2        3838   \n",
      "38040   MONDO:0007739  Huntington disease           2        3838   \n",
      "48006   MONDO:0007739  Huntington disease           2        3838   \n",
      "61452   MONDO:0007739  Huntington disease           2        3838   \n",
      "62199   MONDO:0007739  Huntington disease           2        3838   \n",
      "71011   MONDO:0007739  Huntington disease           2        3838   \n",
      "73388   MONDO:0007739  Huntington disease           2        3838   \n",
      "76111   MONDO:0007739  Huntington disease           2        3838   \n",
      "79890   MONDO:0007739  Huntington disease           2        3838   \n",
      "79977   MONDO:0007739  Huntington disease           2        3838   \n",
      "82600   MONDO:0007739  Huntington disease           2        3838   \n",
      "84973   MONDO:0007739  Huntington disease           2        3838   \n",
      "89761   MONDO:0007739  Huntington disease           2        3838   \n",
      "96436   MONDO:0007739  Huntington disease           2        3838   \n",
      "97712   MONDO:0007739  Huntington disease           2        3838   \n",
      "98108   MONDO:0007739  Huntington disease           2        3838   \n",
      "103541  MONDO:0007739  Huntington disease           2        3838   \n",
      "103612  MONDO:0007739  Huntington disease           2        3838   \n",
      "106700  MONDO:0007739  Huntington disease           2        3838   \n",
      "107180  MONDO:0007739  Huntington disease           2        3838   \n",
      "107525  MONDO:0007739  Huntington disease           2        3838   \n",
      "109228  MONDO:0007739  Huntington disease           2        3838   \n",
      "122623  MONDO:0007739  Huntington disease           2        3838   \n",
      "127221  MONDO:0007739  Huntington disease           2        3838   \n",
      "133107  MONDO:0007739  Huntington disease           2        3838   \n",
      "137065  MONDO:0007739  Huntington disease           2        3838   \n",
      "138306  MONDO:0007739  Huntington disease           2        3838   \n",
      "139860  MONDO:0007739  Huntington disease           2        3838   \n",
      "141568  MONDO:0007739  Huntington disease           2        3838   \n",
      "148802  MONDO:0007739  Huntington disease           2        3838   \n",
      "150294  MONDO:0007739  Huntington disease           2        3838   \n",
      "151292  MONDO:0007739  Huntington disease           2        3838   \n",
      "157668  MONDO:0007739  Huntington disease           2        3838   \n",
      "159416  MONDO:0007739  Huntington disease           2        3838   \n",
      "161929  MONDO:0007739  Huntington disease           2        3838   \n",
      "162537  MONDO:0007739  Huntington disease           2        3838   \n",
      "174603  MONDO:0007739  Huntington disease           2        3838   \n",
      "183513  MONDO:0007739  Huntington disease           2        3838   \n",
      "185523  MONDO:0007739  Huntington disease           2        3838   \n",
      "186042  MONDO:0007739  Huntington disease           2        3838   \n",
      "190975  MONDO:0007739  Huntington disease           2        3838   \n",
      "195579  MONDO:0007739  Huntington disease           2        3838   \n",
      "199490  MONDO:0007739  Huntington disease           2        3838   \n",
      "200053  MONDO:0007739  Huntington disease           2        3838   \n",
      "203496  MONDO:0007739  Huntington disease           2        3838   \n",
      "205092  MONDO:0007739  Huntington disease           2        3838   \n",
      "206137  MONDO:0007739  Huntington disease           2        3838   \n",
      "207779  MONDO:0007739  Huntington disease           2        3838   \n",
      "220384  MONDO:0007739  Huntington disease           2        3838   \n",
      "222678  MONDO:0007739  Huntington disease           2        3838   \n",
      "225797  MONDO:0007739  Huntington disease           2        3838   \n",
      "\n",
      "                         relation        tail  \\\n",
      "6609    associated with phenotype  HP:0200136   \n",
      "20507   associated with phenotype  HP:0001288   \n",
      "22156   associated with phenotype  HP:0003107   \n",
      "24447   associated with phenotype  HP:0000713   \n",
      "30115   associated with phenotype  HP:0000751   \n",
      "31240   associated with phenotype  HP:0000716   \n",
      "32293   associated with phenotype  HP:0009088   \n",
      "34252   associated with phenotype  HP:0000739   \n",
      "38040   associated with phenotype  HP:0002063   \n",
      "48006   associated with phenotype  HP:0000734   \n",
      "61452   associated with phenotype  HP:0002529   \n",
      "62199   associated with phenotype  HP:0002066   \n",
      "71011   associated with phenotype  HP:0002171   \n",
      "73388   associated with phenotype  HP:0002059   \n",
      "76111   associated with phenotype  HP:0000718   \n",
      "79890   associated with phenotype  HP:0000737   \n",
      "79977   associated with phenotype  HP:0003487   \n",
      "82600   associated with phenotype  HP:0031589   \n",
      "84973   associated with phenotype  HP:0001268   \n",
      "89761   associated with phenotype  HP:0001250   \n",
      "96436   associated with phenotype  HP:0010794   \n",
      "97712   associated with phenotype  HP:0002340   \n",
      "98108   associated with phenotype  HP:0004305   \n",
      "103541  associated with phenotype  HP:0001262   \n",
      "103612  associated with phenotype  HP:0002141   \n",
      "106700  associated with phenotype  HP:0000746   \n",
      "107180  associated with phenotype  HP:0004408   \n",
      "107525  associated with phenotype  HP:0045082   \n",
      "109228  associated with phenotype  HP:0007010   \n",
      "122623  associated with phenotype  HP:0040140   \n",
      "127221  associated with phenotype  HP:0001336   \n",
      "133107  associated with phenotype  HP:0000722   \n",
      "137065  associated with phenotype  HP:0030842   \n",
      "138306  associated with phenotype  HP:0003324   \n",
      "139860  associated with phenotype  HP:0002355   \n",
      "141568  associated with phenotype  HP:0002067   \n",
      "148802  associated with phenotype  HP:0031843   \n",
      "150294  associated with phenotype  HP:0000496   \n",
      "151292  associated with phenotype  HP:0002500   \n",
      "157668  associated with phenotype  HP:0031473   \n",
      "159416  associated with phenotype  HP:0001332   \n",
      "161929  associated with phenotype  HP:0002169   \n",
      "162537  associated with phenotype  HP:0001272   \n",
      "174603  associated with phenotype  HP:0031845   \n",
      "183513  associated with phenotype  HP:0002354   \n",
      "185523  associated with phenotype  HP:0000726   \n",
      "186042  associated with phenotype  HP:0000738   \n",
      "190975  associated with phenotype  HP:0001347   \n",
      "195579  associated with phenotype  HP:0000741   \n",
      "199490  associated with phenotype  HP:0002072   \n",
      "200053  associated with phenotype  HP:0002540   \n",
      "203496  associated with phenotype  HP:0001824   \n",
      "205092  associated with phenotype  HP:0025401   \n",
      "206137  associated with phenotype  HP:0100785   \n",
      "207779  associated with phenotype  HP:0002300   \n",
      "220384  associated with phenotype  HP:0002591   \n",
      "222678  associated with phenotype  HP:0030955   \n",
      "225797  associated with phenotype  HP:0002312   \n",
      "\n",
      "                                            label_tail  class_tail  \\\n",
      "6609                         Oral-pharyngeal dysphagia           8   \n",
      "20507                                 Gait disturbance           8   \n",
      "22156   Abnormal circulating cholesterol concentration           8   \n",
      "24447                                        Agitation           8   \n",
      "30115                              Personality changes           8   \n",
      "31240                                       Depression           8   \n",
      "32293                 Speech articulation difficulties           8   \n",
      "34252                                          Anxiety           8   \n",
      "38040                                         Rigidity           8   \n",
      "48006                                    Disinhibition           8   \n",
      "61452          Neuronal loss in central nervous system           8   \n",
      "62199                                      Gait ataxia           8   \n",
      "71011                                          Gliosis           8   \n",
      "73388                                 Cerebral atrophy           8   \n",
      "76111                              Aggressive behavior           8   \n",
      "79890                                     Irritability           8   \n",
      "79977                                    Babinski sign           8   \n",
      "82600                                Suicidal ideation           8   \n",
      "84973                             Mental deterioration           8   \n",
      "89761                                          Seizure           8   \n",
      "96436     Impaired visuospatial constructive cognition           8   \n",
      "97712                                  Caudate atrophy           8   \n",
      "98108                            Involuntary movements           8   \n",
      "103541                    Excessive daytime somnolence           8   \n",
      "103612                                  Gait imbalance           8   \n",
      "106700                                       Delusions           8   \n",
      "107180               Abnormality of the sense of smell           8   \n",
      "107525                       Decreased body mass index           8   \n",
      "109228                    Poor fine motor coordination           8   \n",
      "122623                    Degeneration of the striatum           8   \n",
      "127221                                       Myoclonus           8   \n",
      "133107                   Obsessive-compulsive behavior           8   \n",
      "137065                                Choking episodes           8   \n",
      "138306                     Generalized muscle weakness           8   \n",
      "139860                              Difficulty walking           8   \n",
      "141568                                    Bradykinesia           8   \n",
      "148802                                    Bradyphrenia           8   \n",
      "150294                     Abnormality of eye movement           8   \n",
      "151292       Abnormal cerebral white matter morphology           8   \n",
      "157668                                       Hostility           8   \n",
      "159416                                        Dystonia           8   \n",
      "161929                                          Clonus           8   \n",
      "162537                              Cerebellar atrophy           8   \n",
      "174603                                 Abnormal libido           8   \n",
      "183513                               Memory impairment           8   \n",
      "185523                                        Dementia           8   \n",
      "186042                                  Hallucinations           8   \n",
      "190975                                   Hyperreflexia           8   \n",
      "195579                                          Apathy           8   \n",
      "199490                                          Chorea           8   \n",
      "200053                               Inability to walk           8   \n",
      "203496                                     Weight loss           8   \n",
      "205092                                    Staring gaze           8   \n",
      "206137                                        Insomnia           8   \n",
      "207779                                          Mutism           8   \n",
      "220384                                      Polyphagia           8   \n",
      "222678                                      Alcoholism           8   \n",
      "225797                                      Clumsiness           8   \n",
      "\n",
      "        index_tail  type  \n",
      "6609         10701    10  \n",
      "20507         5264    10  \n",
      "22156         6719    10  \n",
      "24447        12843    10  \n",
      "30115         5674    10  \n",
      "31240         7252    10  \n",
      "32293         5890    10  \n",
      "34252         7183    10  \n",
      "38040         2658    10  \n",
      "48006          917    10  \n",
      "61452         8637    10  \n",
      "62199         3732    10  \n",
      "71011         9740    10  \n",
      "73388         6857    10  \n",
      "76111         8354    10  \n",
      "79890         5540    10  \n",
      "79977         3981    10  \n",
      "82600         7688    10  \n",
      "84973         7666    10  \n",
      "89761        12541    10  \n",
      "96436         9162    10  \n",
      "97712        10558    10  \n",
      "98108         3069    10  \n",
      "103541       10461    10  \n",
      "103612        6785    10  \n",
      "106700        7004    10  \n",
      "107180        7667    10  \n",
      "107525        3149    10  \n",
      "109228        9227    10  \n",
      "122623       12192    10  \n",
      "127221        4445    10  \n",
      "133107        1161    10  \n",
      "137065       10510    10  \n",
      "138306       12394    10  \n",
      "139860        7427    10  \n",
      "141568       11776    10  \n",
      "148802        8341    10  \n",
      "150294       13355    10  \n",
      "151292        7626    10  \n",
      "157668        9775    10  \n",
      "159416       12666    10  \n",
      "161929        6832    10  \n",
      "162537        9012    10  \n",
      "174603       11783    10  \n",
      "183513        8526    10  \n",
      "185523       13567    10  \n",
      "186042        3637    10  \n",
      "190975       10722    10  \n",
      "195579        4853    10  \n",
      "199490        6163    10  \n",
      "200053       10071    10  \n",
      "203496        3040    10  \n",
      "205092        5194    10  \n",
      "206137       13153    10  \n",
      "207779        4109    10  \n",
      "220384        7876    10  \n",
      "222678        8613    10  \n",
      "225797        4078    10  \n"
     ]
    }
   ],
   "source": [
    "if disease_prefix == 'dmd':\n",
    "    disease_ID = 'MONDO:0010679'\n",
    "elif disease_prefix == 'hd':\n",
    "    disease_ID = 'MONDO:0007739'\n",
    "elif disease_prefix == 'oi':\n",
    "    disease_ID = 'MONDO:0019019'\n",
    "\n",
    "if dataset_prefix == 'prev':\n",
    "    pheno_rel = 'has phenotype'\n",
    "else:\n",
    "    pheno_rel = 'associated with phenotype'\n",
    "\n",
    "relation_index = list(relation_labels).index(pheno_rel)\n",
    "\n",
    "symptoms = edges[(edges['head'] == disease_ID) & (edges['type'] == relation_index)]\n",
    "\n",
    "print(f'A total of {symptoms.shape[0]} symptoms found that are associated with {disease_ID}')\n",
    "\n",
    "print(symptoms.head(symptoms.shape[0]))"
   ]
  },
  {
   "attachments": {},
   "cell_type": "markdown",
   "metadata": {},
   "source": [
    "Check alignment between dataframes containing the associations and the nodes"
   ]
  },
  {
   "cell_type": "code",
   "execution_count": 40,
   "metadata": {
    "execution": {
     "iopub.execute_input": "2024-08-07T12:39:14.388695Z",
     "iopub.status.busy": "2024-08-07T12:39:14.387705Z",
     "iopub.status.idle": "2024-08-07T12:39:14.400276Z",
     "shell.execute_reply": "2024-08-07T12:39:14.399227Z"
    }
   },
   "outputs": [
    {
     "data": {
      "text/html": [
       "<div>\n",
       "<style scoped>\n",
       "    .dataframe tbody tr th:only-of-type {\n",
       "        vertical-align: middle;\n",
       "    }\n",
       "\n",
       "    .dataframe tbody tr th {\n",
       "        vertical-align: top;\n",
       "    }\n",
       "\n",
       "    .dataframe thead th {\n",
       "        text-align: right;\n",
       "    }\n",
       "</style>\n",
       "<table border=\"1\" class=\"dataframe\">\n",
       "  <thead>\n",
       "    <tr style=\"text-align: right;\">\n",
       "      <th></th>\n",
       "      <th>id</th>\n",
       "      <th>semantic</th>\n",
       "      <th>label</th>\n",
       "      <th>semantic_id</th>\n",
       "    </tr>\n",
       "  </thead>\n",
       "  <tbody>\n",
       "    <tr>\n",
       "      <th>6315</th>\n",
       "      <td>ENSEMBL:ENSMMUG00000014627</td>\n",
       "      <td>gene</td>\n",
       "      <td>ENSEMBL:ENSMMUG00000014627</td>\n",
       "      <td>4</td>\n",
       "    </tr>\n",
       "  </tbody>\n",
       "</table>\n",
       "</div>"
      ],
      "text/plain": [
       "                              id semantic                       label  \\\n",
       "6315  ENSEMBL:ENSMMUG00000014627     gene  ENSEMBL:ENSMMUG00000014627   \n",
       "\n",
       "      semantic_id  \n",
       "6315            4  "
      ]
     },
     "execution_count": 40,
     "metadata": {},
     "output_type": "execute_result"
    }
   ],
   "source": [
    "nodes.loc[[6315]]"
   ]
  },
  {
   "cell_type": "markdown",
   "metadata": {},
   "source": [
    "Get list of drugs that appear at least once in the top 3 of suggested drugs for an associated phenotype"
   ]
  },
  {
   "cell_type": "code",
   "execution_count": 41,
   "metadata": {
    "execution": {
     "iopub.execute_input": "2024-08-07T12:39:14.404250Z",
     "iopub.status.busy": "2024-08-07T12:39:14.404250Z",
     "iopub.status.idle": "2024-08-07T12:39:42.788037Z",
     "shell.execute_reply": "2024-08-07T12:39:42.787031Z"
    }
   },
   "outputs": [],
   "source": [
    "def add_drug_candidate(candidates, drug_name):\n",
    "    if drug_name in candidates:\n",
    "        candidates[drug_name] += 1\n",
    "    else:\n",
    "        candidates[drug_name] = 1\n",
    "        \n",
    "    return candidates\n",
    "\n",
    "\n",
    "if dataset_prefix == 'prev':\n",
    "    treats_rel = 'is substance that treats'\n",
    "else:\n",
    "    treats_rel = 'is substance that treats'\n",
    "\n",
    "relation_treats_index = list(relation_labels).index(treats_rel)\n",
    "\n",
    "drug_candidates = {}\n",
    "symptom_drugs = {}\n",
    "symptom_drugs_scores = []\n",
    "\n",
    "for ind, symptom in symptoms.iterrows(): \n",
    "    symptom_id = symptom['tail']\n",
    "    symptom_drugs[symptom_id] = []\n",
    "    \n",
    "    predictions = candidates(nodes, symptom_id, best_x)\n",
    "    \n",
    "    predictions_drugs = predictions[predictions['semantic'] == drug_semantic]\n",
    "    \n",
    "    symptom_treated_by = edges.loc[(edges['tail'] == symptom_id) & (edges['type'] == relation_treats_index)]\n",
    "    \n",
    "    merged_df = pd.merge(predictions_drugs, symptom_treated_by, how='left', left_on='id', right_on='head', indicator=True)\n",
    "    result_df = merged_df[merged_df['_merge'] == 'left_only']\n",
    "    result_df = result_df.drop('_merge', axis=1)\n",
    "    \n",
    "    ordered_predictions = result_df.sort_values(by = ['Score'], ascending = False).head(3)\n",
    "    \n",
    "    for ind, drug in ordered_predictions.iterrows():\n",
    "        symptom_drugs_scores.append({'Symptom': symptom['label_tail'], 'Symptom ID': symptom['tail'], 'Drug Candidate': drug['label'], 'Score': drug['Score'][0]})\n",
    "        \n",
    "        symptom_drugs[symptom_id].append(drug['id'])\n",
    "        drug_candidates = add_drug_candidate(drug_candidates, drug['label'])"
   ]
  },
  {
   "cell_type": "code",
   "execution_count": 42,
   "metadata": {
    "execution": {
     "iopub.execute_input": "2024-08-07T12:39:42.792040Z",
     "iopub.status.busy": "2024-08-07T12:39:42.791034Z",
     "iopub.status.idle": "2024-08-07T12:39:42.819549Z",
     "shell.execute_reply": "2024-08-07T12:39:42.818551Z"
    }
   },
   "outputs": [
    {
     "name": "stdout",
     "output_type": "stream",
     "text": [
      "                       Symptom  Symptom ID          Drug Candidate     Score\n",
      "0    Oral-pharyngeal dysphagia  HP:0200136  adenosine triphosphate  0.985585\n",
      "1    Oral-pharyngeal dysphagia  HP:0200136        brilliant Blue G  0.975396\n",
      "2    Oral-pharyngeal dysphagia  HP:0200136            promethazine  0.970257\n",
      "3             Gait disturbance  HP:0001288  adenosine triphosphate  0.942748\n",
      "4             Gait disturbance  HP:0001288           buprenorphine  0.826484\n",
      "..                         ...         ...                     ...       ...\n",
      "169                 Alcoholism  HP:0030955            promethazine  0.968537\n",
      "170                 Alcoholism  HP:0030955           sulfasalazine  0.959070\n",
      "171                 Clumsiness  HP:0002312  adenosine triphosphate  0.987709\n",
      "172                 Clumsiness  HP:0002312        brilliant Blue G  0.978149\n",
      "173                 Clumsiness  HP:0002312            promethazine  0.973801\n",
      "\n",
      "[174 rows x 4 columns]\n"
     ]
    }
   ],
   "source": [
    "symptom_drugs_scores_df = pd.DataFrame.from_dict(symptom_drugs_scores)\n",
    "symptom_drugs_scores_df.to_pickle(f'{pred_output_dir}/{dataset_prefix}_{disease_prefix}_score_per_symptom_drug_pair_{embedding_method}.pkl')\n",
    "\n",
    "print(symptom_drugs_scores_df)"
   ]
  },
  {
   "cell_type": "markdown",
   "metadata": {},
   "source": [
    "Get list of drug candidate ids per relevant symptom id."
   ]
  },
  {
   "cell_type": "code",
   "execution_count": 43,
   "metadata": {
    "execution": {
     "iopub.execute_input": "2024-08-07T12:39:42.823587Z",
     "iopub.status.busy": "2024-08-07T12:39:42.822568Z",
     "iopub.status.idle": "2024-08-07T12:39:42.852083Z",
     "shell.execute_reply": "2024-08-07T12:39:42.851111Z"
    }
   },
   "outputs": [
    {
     "name": "stdout",
     "output_type": "stream",
     "text": [
      "       Symptom          Candidates\n",
      "0   HP:0200136    [91, 5359, 2286]\n",
      "1   HP:0001288     [91, 434, 5359]\n",
      "2   HP:0003107  [5359, 2286, 2525]\n",
      "3   HP:0000713    [91, 5359, 2286]\n",
      "4   HP:0000751    [91, 5359, 2286]\n",
      "5   HP:0000716    [91, 5359, 2286]\n",
      "6   HP:0009088  [5359, 2286, 2525]\n",
      "7   HP:0000739     [91, 5359, 434]\n",
      "8   HP:0002063    [91, 5359, 2286]\n",
      "9   HP:0000734    [91, 5359, 2286]\n",
      "10  HP:0002529    [91, 5359, 2286]\n",
      "11  HP:0002066    [91, 5359, 2286]\n",
      "12  HP:0002171      [91, 434, 578]\n",
      "13  HP:0002059    [91, 5359, 2286]\n",
      "14  HP:0000718    [91, 5359, 2286]\n",
      "15  HP:0000737    [91, 5359, 2286]\n",
      "16  HP:0003487    [91, 5359, 2286]\n",
      "17  HP:0031589    [5359, 91, 2286]\n",
      "18  HP:0001268    [91, 5359, 2286]\n",
      "19  HP:0001250     [91, 5359, 434]\n",
      "20  HP:0010794  [5359, 2286, 2525]\n",
      "21  HP:0002340    [5359, 2286, 91]\n",
      "22  HP:0004305    [91, 5359, 2286]\n",
      "23  HP:0001262    [91, 5359, 2286]\n",
      "24  HP:0002141    [91, 5359, 2286]\n",
      "25  HP:0000746    [5359, 91, 2286]\n",
      "26  HP:0004408    [91, 5359, 2286]\n",
      "27  HP:0045082  [5359, 2286, 2525]\n",
      "28  HP:0007010    [91, 5359, 2286]\n",
      "29  HP:0040140    [5359, 91, 2286]\n",
      "30  HP:0001336     [91, 5359, 434]\n",
      "31  HP:0000722    [91, 5359, 2286]\n",
      "32  HP:0030842  [5359, 2286, 2525]\n",
      "33  HP:0003324    [91, 5359, 2286]\n",
      "34  HP:0002355    [91, 5359, 2286]\n",
      "35  HP:0002067     [91, 434, 5359]\n",
      "36  HP:0031843  [5359, 2286, 2525]\n",
      "37  HP:0000496    [91, 5359, 2286]\n",
      "38  HP:0002500    [91, 5359, 2286]\n",
      "39  HP:0031473  [5359, 2286, 2525]\n",
      "40  HP:0001332     [91, 5359, 434]\n",
      "41  HP:0002169    [91, 5359, 2286]\n",
      "42  HP:0001272    [91, 5359, 2286]\n",
      "43  HP:0031845  [5359, 2286, 2525]\n",
      "44  HP:0002354    [91, 5359, 2286]\n",
      "45  HP:0000726    [91, 5359, 2286]\n",
      "46  HP:0000738    [91, 5359, 2286]\n",
      "47  HP:0001347    [91, 5359, 2286]\n",
      "48  HP:0000741    [91, 5359, 2286]\n",
      "49  HP:0002072     [91, 5359, 434]\n",
      "50  HP:0002540    [91, 5359, 2286]\n",
      "51  HP:0001824      [91, 774, 434]\n",
      "52  HP:0025401    [5359, 91, 2286]\n",
      "53  HP:0100785    [91, 5359, 2286]\n",
      "54  HP:0002300    [91, 5359, 2286]\n",
      "55  HP:0002591     [91, 5359, 434]\n",
      "56  HP:0030955  [5359, 2286, 2525]\n",
      "57  HP:0002312    [91, 5359, 2286]\n"
     ]
    }
   ],
   "source": [
    "symptom_drugs_df_dict = {\n",
    "    'Symptom': [],\n",
    "    'Candidates': [] \n",
    "}\n",
    "for key, val in symptom_drugs.items():\n",
    "    symptom_drugs_df_dict['Symptom'].append(key)\n",
    "    symptom_drugs_df_dict['Candidates'].append(val)\n",
    "    \n",
    "symptom_drugs_df = pd.DataFrame.from_dict(symptom_drugs_df_dict)\n",
    "symptom_drugs_df.to_pickle(f'{pred_output_dir}/{dataset_prefix}_{disease_prefix}_candidates_per_symptom_{embedding_method}.pkl')\n",
    "\n",
    "print(symptom_drugs_df)"
   ]
  },
  {
   "cell_type": "markdown",
   "metadata": {},
   "source": [
    "Save dataframe as csv file with all drugs and their total of appearances as a candidate for one or more relevant symptoms."
   ]
  },
  {
   "cell_type": "code",
   "execution_count": 44,
   "metadata": {
    "execution": {
     "iopub.execute_input": "2024-08-07T12:39:42.856100Z",
     "iopub.status.busy": "2024-08-07T12:39:42.855096Z",
     "iopub.status.idle": "2024-08-07T12:39:42.868101Z",
     "shell.execute_reply": "2024-08-07T12:39:42.867095Z"
    }
   },
   "outputs": [
    {
     "name": "stdout",
     "output_type": "stream",
     "text": [
      "                     Drug  Appearances Percentage\n",
      "1        brilliant Blue G           56     96.55%\n",
      "0  adenosine triphosphate           49     84.48%\n",
      "2            promethazine           48     82.76%\n",
      "3           buprenorphine           10     17.24%\n",
      "4           sulfasalazine            9     15.52%\n",
      "5               cerulenin            1      1.72%\n",
      "6            dactinomycin            1      1.72%\n"
     ]
    }
   ],
   "source": [
    "drug_candidate_df_dict = {\n",
    "    'Drug': [],\n",
    "    'Appearances': [],\n",
    "    'Percentage': []\n",
    "}\n",
    "for key, val in drug_candidates.items():\n",
    "    drug_candidate_df_dict['Drug'].append(key)\n",
    "    drug_candidate_df_dict['Appearances'].append(val)\n",
    "    drug_candidate_df_dict['Percentage'].append(val/symptoms.shape[0]*100)\n",
    "    \n",
    "drug_candidates_df = pd.DataFrame.from_dict(drug_candidate_df_dict)\n",
    "drug_candidates_df['Percentage'] = drug_candidates_df['Percentage'].transform(lambda x: '{:,.2f}%'.format(x))\n",
    "drug_candidates_df = drug_candidates_df.sort_values(by = ['Appearances'], ascending = False)\n",
    "\n",
    "drug_candidates_df.to_pickle(f'{pred_output_dir}/{dataset_prefix}_{disease_prefix}_drug_candidates_{embedding_method}.pkl')\n",
    "\n",
    "print(drug_candidates_df)"
   ]
  },
  {
   "attachments": {},
   "cell_type": "markdown",
   "metadata": {},
   "source": [
    "## Component Analysis"
   ]
  },
  {
   "cell_type": "code",
   "execution_count": 45,
   "metadata": {
    "execution": {
     "iopub.execute_input": "2024-08-07T12:39:42.872100Z",
     "iopub.status.busy": "2024-08-07T12:39:42.871080Z",
     "iopub.status.idle": "2024-08-07T12:39:42.884096Z",
     "shell.execute_reply": "2024-08-07T12:39:42.883095Z"
    }
   },
   "outputs": [],
   "source": [
    "X_data = best_x.detach().cpu().numpy()\n",
    "np.save(f'{pred_output_dir}/{dataset_prefix}_{disease_prefix}_trained_node_embeddings_{embedding_method}.npy', X_data)"
   ]
  },
  {
   "cell_type": "code",
   "execution_count": 46,
   "metadata": {
    "execution": {
     "iopub.execute_input": "2024-08-07T12:39:42.887083Z",
     "iopub.status.busy": "2024-08-07T12:39:42.887083Z",
     "iopub.status.idle": "2024-08-07T12:39:42.916645Z",
     "shell.execute_reply": "2024-08-07T12:39:42.914592Z"
    }
   },
   "outputs": [],
   "source": [
    "z = StandardScaler().fit_transform(X_data)"
   ]
  },
  {
   "attachments": {},
   "cell_type": "markdown",
   "metadata": {},
   "source": [
    "### PCA"
   ]
  },
  {
   "cell_type": "code",
   "execution_count": 47,
   "metadata": {
    "execution": {
     "iopub.execute_input": "2024-08-07T12:39:42.920669Z",
     "iopub.status.busy": "2024-08-07T12:39:42.920669Z",
     "iopub.status.idle": "2024-08-07T12:39:43.027223Z",
     "shell.execute_reply": "2024-08-07T12:39:43.025179Z"
    }
   },
   "outputs": [
    {
     "data": {
      "text/html": [
       "<div>\n",
       "<style scoped>\n",
       "    .dataframe tbody tr th:only-of-type {\n",
       "        vertical-align: middle;\n",
       "    }\n",
       "\n",
       "    .dataframe tbody tr th {\n",
       "        vertical-align: top;\n",
       "    }\n",
       "\n",
       "    .dataframe thead th {\n",
       "        text-align: right;\n",
       "    }\n",
       "</style>\n",
       "<table border=\"1\" class=\"dataframe\">\n",
       "  <thead>\n",
       "    <tr style=\"text-align: right;\">\n",
       "      <th></th>\n",
       "      <th>principal component 1</th>\n",
       "      <th>principal component 2</th>\n",
       "    </tr>\n",
       "  </thead>\n",
       "  <tbody>\n",
       "    <tr>\n",
       "      <th>0</th>\n",
       "      <td>-0.501037</td>\n",
       "      <td>0.104968</td>\n",
       "    </tr>\n",
       "    <tr>\n",
       "      <th>1</th>\n",
       "      <td>-0.675635</td>\n",
       "      <td>1.858255</td>\n",
       "    </tr>\n",
       "    <tr>\n",
       "      <th>2</th>\n",
       "      <td>-0.705207</td>\n",
       "      <td>-0.219281</td>\n",
       "    </tr>\n",
       "    <tr>\n",
       "      <th>3</th>\n",
       "      <td>-0.783578</td>\n",
       "      <td>-1.642219</td>\n",
       "    </tr>\n",
       "    <tr>\n",
       "      <th>4</th>\n",
       "      <td>-0.564439</td>\n",
       "      <td>-0.885569</td>\n",
       "    </tr>\n",
       "    <tr>\n",
       "      <th>...</th>\n",
       "      <td>...</td>\n",
       "      <td>...</td>\n",
       "    </tr>\n",
       "    <tr>\n",
       "      <th>14877</th>\n",
       "      <td>-0.722144</td>\n",
       "      <td>-0.470823</td>\n",
       "    </tr>\n",
       "    <tr>\n",
       "      <th>14878</th>\n",
       "      <td>-0.572844</td>\n",
       "      <td>-0.254178</td>\n",
       "    </tr>\n",
       "    <tr>\n",
       "      <th>14879</th>\n",
       "      <td>0.739002</td>\n",
       "      <td>1.568477</td>\n",
       "    </tr>\n",
       "    <tr>\n",
       "      <th>14880</th>\n",
       "      <td>-0.562419</td>\n",
       "      <td>-1.634958</td>\n",
       "    </tr>\n",
       "    <tr>\n",
       "      <th>14881</th>\n",
       "      <td>-0.743354</td>\n",
       "      <td>-0.438728</td>\n",
       "    </tr>\n",
       "  </tbody>\n",
       "</table>\n",
       "<p>14882 rows × 2 columns</p>\n",
       "</div>"
      ],
      "text/plain": [
       "       principal component 1  principal component 2\n",
       "0                  -0.501037               0.104968\n",
       "1                  -0.675635               1.858255\n",
       "2                  -0.705207              -0.219281\n",
       "3                  -0.783578              -1.642219\n",
       "4                  -0.564439              -0.885569\n",
       "...                      ...                    ...\n",
       "14877              -0.722144              -0.470823\n",
       "14878              -0.572844              -0.254178\n",
       "14879               0.739002               1.568477\n",
       "14880              -0.562419              -1.634958\n",
       "14881              -0.743354              -0.438728\n",
       "\n",
       "[14882 rows x 2 columns]"
      ]
     },
     "execution_count": 47,
     "metadata": {},
     "output_type": "execute_result"
    }
   ],
   "source": [
    "pca = PCA(n_components=32)\n",
    "princ_comp = pca.fit_transform(z)\n",
    "princ_df = pd.DataFrame(data=princ_comp[:, [0,1]], columns=['principal component 1', 'principal component 2'])\n",
    "princ_df"
   ]
  },
  {
   "attachments": {},
   "cell_type": "markdown",
   "metadata": {},
   "source": [
    "Based on plot below, choose the number of components for PCA analysis yielding an amount of variance close to 1.0."
   ]
  },
  {
   "cell_type": "code",
   "execution_count": 48,
   "metadata": {
    "execution": {
     "iopub.execute_input": "2024-08-07T12:39:43.032241Z",
     "iopub.status.busy": "2024-08-07T12:39:43.031238Z",
     "iopub.status.idle": "2024-08-07T12:39:43.168037Z",
     "shell.execute_reply": "2024-08-07T12:39:43.167047Z"
    }
   },
   "outputs": [
    {
     "data": {
      "image/png": "[encoded data removed]",
      "text/plain": [
       "<Figure size 640x480 with 1 Axes>"
      ]
     },
     "metadata": {},
     "output_type": "display_data"
    }
   ],
   "source": [
    "plt.plot(np.cumsum(pca.explained_variance_ratio_))\n",
    "plt.xlabel('number of components')\n",
    "plt.ylabel('cumulative explained variance')\n",
    "plt.show()"
   ]
  },
  {
   "cell_type": "code",
   "execution_count": 49,
   "metadata": {
    "execution": {
     "iopub.execute_input": "2024-08-07T12:39:43.172027Z",
     "iopub.status.busy": "2024-08-07T12:39:43.171020Z",
     "iopub.status.idle": "2024-08-07T12:39:43.199050Z",
     "shell.execute_reply": "2024-08-07T12:39:43.198036Z"
    }
   },
   "outputs": [
    {
     "data": {
      "text/html": [
       "<div>\n",
       "<style scoped>\n",
       "    .dataframe tbody tr th:only-of-type {\n",
       "        vertical-align: middle;\n",
       "    }\n",
       "\n",
       "    .dataframe tbody tr th {\n",
       "        vertical-align: top;\n",
       "    }\n",
       "\n",
       "    .dataframe thead th {\n",
       "        text-align: right;\n",
       "    }\n",
       "</style>\n",
       "<table border=\"1\" class=\"dataframe\">\n",
       "  <thead>\n",
       "    <tr style=\"text-align: right;\">\n",
       "      <th></th>\n",
       "      <th>principal component 1</th>\n",
       "      <th>principal component 2</th>\n",
       "      <th>semantic</th>\n",
       "    </tr>\n",
       "  </thead>\n",
       "  <tbody>\n",
       "    <tr>\n",
       "      <th>0</th>\n",
       "      <td>-0.501037</td>\n",
       "      <td>0.104968</td>\n",
       "      <td>gene</td>\n",
       "    </tr>\n",
       "    <tr>\n",
       "      <th>1</th>\n",
       "      <td>-0.675635</td>\n",
       "      <td>1.858255</td>\n",
       "      <td>phenotype</td>\n",
       "    </tr>\n",
       "    <tr>\n",
       "      <th>2</th>\n",
       "      <td>-0.705207</td>\n",
       "      <td>-0.219281</td>\n",
       "      <td>phenotype</td>\n",
       "    </tr>\n",
       "    <tr>\n",
       "      <th>3</th>\n",
       "      <td>-0.783578</td>\n",
       "      <td>-1.642219</td>\n",
       "      <td>phenotype</td>\n",
       "    </tr>\n",
       "    <tr>\n",
       "      <th>4</th>\n",
       "      <td>-0.564439</td>\n",
       "      <td>-0.885569</td>\n",
       "      <td>gene</td>\n",
       "    </tr>\n",
       "    <tr>\n",
       "      <th>...</th>\n",
       "      <td>...</td>\n",
       "      <td>...</td>\n",
       "      <td>...</td>\n",
       "    </tr>\n",
       "    <tr>\n",
       "      <th>14877</th>\n",
       "      <td>-0.722144</td>\n",
       "      <td>-0.470823</td>\n",
       "      <td>phenotype</td>\n",
       "    </tr>\n",
       "    <tr>\n",
       "      <th>14878</th>\n",
       "      <td>-0.572844</td>\n",
       "      <td>-0.254178</td>\n",
       "      <td>gene</td>\n",
       "    </tr>\n",
       "    <tr>\n",
       "      <th>14879</th>\n",
       "      <td>0.739002</td>\n",
       "      <td>1.568477</td>\n",
       "      <td>phenotype</td>\n",
       "    </tr>\n",
       "    <tr>\n",
       "      <th>14880</th>\n",
       "      <td>-0.562419</td>\n",
       "      <td>-1.634958</td>\n",
       "      <td>phenotype</td>\n",
       "    </tr>\n",
       "    <tr>\n",
       "      <th>14881</th>\n",
       "      <td>-0.743354</td>\n",
       "      <td>-0.438728</td>\n",
       "      <td>gene</td>\n",
       "    </tr>\n",
       "  </tbody>\n",
       "</table>\n",
       "<p>14882 rows × 3 columns</p>\n",
       "</div>"
      ],
      "text/plain": [
       "       principal component 1  principal component 2   semantic\n",
       "0                  -0.501037               0.104968       gene\n",
       "1                  -0.675635               1.858255  phenotype\n",
       "2                  -0.705207              -0.219281  phenotype\n",
       "3                  -0.783578              -1.642219  phenotype\n",
       "4                  -0.564439              -0.885569       gene\n",
       "...                      ...                    ...        ...\n",
       "14877              -0.722144              -0.470823  phenotype\n",
       "14878              -0.572844              -0.254178       gene\n",
       "14879               0.739002               1.568477  phenotype\n",
       "14880              -0.562419              -1.634958  phenotype\n",
       "14881              -0.743354              -0.438728       gene\n",
       "\n",
       "[14882 rows x 3 columns]"
      ]
     },
     "execution_count": 49,
     "metadata": {},
     "output_type": "execute_result"
    }
   ],
   "source": [
    "pca_df = pd.concat([princ_df, nodes[['semantic']]], axis=1)\n",
    "pca_df"
   ]
  },
  {
   "cell_type": "code",
   "execution_count": 50,
   "metadata": {
    "execution": {
     "iopub.execute_input": "2024-08-07T12:39:43.204042Z",
     "iopub.status.busy": "2024-08-07T12:39:43.203026Z",
     "iopub.status.idle": "2024-08-07T12:39:43.736877Z",
     "shell.execute_reply": "2024-08-07T12:39:43.735857Z"
    }
   },
   "outputs": [
    {
     "data": {
      "image/png": "[encoded data removed]",
      "text/plain": [
       "<Figure size 800x800 with 1 Axes>"
      ]
     },
     "metadata": {},
     "output_type": "display_data"
    }
   ],
   "source": [
    "fig = plt.figure(figsize = (8,8))\n",
    "ax = fig.add_subplot(1, 1, 1)\n",
    "ax.set_xlabel('Principal Component 1', fontsize = 15)\n",
    "ax.set_ylabel('Principal Component 2', fontsize = 15)\n",
    "ax.set_title(f'Two components from 32-PCA on {dataset_prefix} {disease_prefix} dataset with embedding method {embedding_method}', fontsize = 12)\n",
    "\n",
    "unique_node_semantics = list(node_semantic_dict.values())\n",
    "colors = ['silver', 'indianred', 'peru', 'gold', 'olivedrab', 'cadetblue', 'skyblue', 'steelblue', 'royalblue', 'mediumpurple', 'palevioletred', 'lightpink']\n",
    "\n",
    "for target, color in zip(unique_node_semantics, colors):\n",
    "    indicesToKeep = pca_df['semantic'] == target\n",
    "    ax.scatter(pca_df.loc[indicesToKeep, 'principal component 1'], pca_df.loc[indicesToKeep, 'principal component 2'], c = color, s = 50)\n",
    "    \n",
    "ax.legend(unique_node_semantics)\n",
    "ax.grid()\n",
    "\n",
    "plt.show()"
   ]
  },
  {
   "attachments": {},
   "cell_type": "markdown",
   "metadata": {},
   "source": [
    "### t-SNE"
   ]
  },
  {
   "cell_type": "code",
   "execution_count": 51,
   "metadata": {
    "execution": {
     "iopub.execute_input": "2024-08-07T12:39:43.740878Z",
     "iopub.status.busy": "2024-08-07T12:39:43.739865Z",
     "iopub.status.idle": "2024-08-07T12:40:49.949794Z",
     "shell.execute_reply": "2024-08-07T12:40:49.948788Z"
    }
   },
   "outputs": [],
   "source": [
    "X_tsne = TSNE(learning_rate=100, perplexity=40).fit_transform(X_data)"
   ]
  },
  {
   "cell_type": "code",
   "execution_count": 52,
   "metadata": {
    "execution": {
     "iopub.execute_input": "2024-08-07T12:40:49.956789Z",
     "iopub.status.busy": "2024-08-07T12:40:49.955797Z",
     "iopub.status.idle": "2024-08-07T12:40:49.980301Z",
     "shell.execute_reply": "2024-08-07T12:40:49.979793Z"
    }
   },
   "outputs": [
    {
     "data": {
      "text/html": [
       "<div>\n",
       "<style scoped>\n",
       "    .dataframe tbody tr th:only-of-type {\n",
       "        vertical-align: middle;\n",
       "    }\n",
       "\n",
       "    .dataframe tbody tr th {\n",
       "        vertical-align: top;\n",
       "    }\n",
       "\n",
       "    .dataframe thead th {\n",
       "        text-align: right;\n",
       "    }\n",
       "</style>\n",
       "<table border=\"1\" class=\"dataframe\">\n",
       "  <thead>\n",
       "    <tr style=\"text-align: right;\">\n",
       "      <th></th>\n",
       "      <th>t-SNE 1</th>\n",
       "      <th>t-SNE 2</th>\n",
       "    </tr>\n",
       "  </thead>\n",
       "  <tbody>\n",
       "    <tr>\n",
       "      <th>0</th>\n",
       "      <td>-49.783455</td>\n",
       "      <td>-1.340077</td>\n",
       "    </tr>\n",
       "    <tr>\n",
       "      <th>1</th>\n",
       "      <td>19.247110</td>\n",
       "      <td>37.366364</td>\n",
       "    </tr>\n",
       "    <tr>\n",
       "      <th>2</th>\n",
       "      <td>23.579403</td>\n",
       "      <td>-18.132181</td>\n",
       "    </tr>\n",
       "    <tr>\n",
       "      <th>3</th>\n",
       "      <td>-39.803425</td>\n",
       "      <td>-3.500276</td>\n",
       "    </tr>\n",
       "    <tr>\n",
       "      <th>4</th>\n",
       "      <td>-40.667095</td>\n",
       "      <td>24.352711</td>\n",
       "    </tr>\n",
       "    <tr>\n",
       "      <th>...</th>\n",
       "      <td>...</td>\n",
       "      <td>...</td>\n",
       "    </tr>\n",
       "    <tr>\n",
       "      <th>14877</th>\n",
       "      <td>21.406040</td>\n",
       "      <td>7.393819</td>\n",
       "    </tr>\n",
       "    <tr>\n",
       "      <th>14878</th>\n",
       "      <td>-48.774818</td>\n",
       "      <td>11.599901</td>\n",
       "    </tr>\n",
       "    <tr>\n",
       "      <th>14879</th>\n",
       "      <td>14.006907</td>\n",
       "      <td>33.268784</td>\n",
       "    </tr>\n",
       "    <tr>\n",
       "      <th>14880</th>\n",
       "      <td>39.901714</td>\n",
       "      <td>-47.019077</td>\n",
       "    </tr>\n",
       "    <tr>\n",
       "      <th>14881</th>\n",
       "      <td>-8.868904</td>\n",
       "      <td>-17.461336</td>\n",
       "    </tr>\n",
       "  </tbody>\n",
       "</table>\n",
       "<p>14882 rows × 2 columns</p>\n",
       "</div>"
      ],
      "text/plain": [
       "         t-SNE 1    t-SNE 2\n",
       "0     -49.783455  -1.340077\n",
       "1      19.247110  37.366364\n",
       "2      23.579403 -18.132181\n",
       "3     -39.803425  -3.500276\n",
       "4     -40.667095  24.352711\n",
       "...          ...        ...\n",
       "14877  21.406040   7.393819\n",
       "14878 -48.774818  11.599901\n",
       "14879  14.006907  33.268784\n",
       "14880  39.901714 -47.019077\n",
       "14881  -8.868904 -17.461336\n",
       "\n",
       "[14882 rows x 2 columns]"
      ]
     },
     "execution_count": 52,
     "metadata": {},
     "output_type": "execute_result"
    }
   ],
   "source": [
    "comp_tsne = pd.DataFrame(data=X_tsne, columns=['t-SNE 1', 't-SNE 2'])\n",
    "comp_tsne"
   ]
  },
  {
   "cell_type": "code",
   "execution_count": 53,
   "metadata": {
    "execution": {
     "iopub.execute_input": "2024-08-07T12:40:49.986309Z",
     "iopub.status.busy": "2024-08-07T12:40:49.986309Z",
     "iopub.status.idle": "2024-08-07T12:40:50.012313Z",
     "shell.execute_reply": "2024-08-07T12:40:50.011309Z"
    }
   },
   "outputs": [
    {
     "data": {
      "text/html": [
       "<div>\n",
       "<style scoped>\n",
       "    .dataframe tbody tr th:only-of-type {\n",
       "        vertical-align: middle;\n",
       "    }\n",
       "\n",
       "    .dataframe tbody tr th {\n",
       "        vertical-align: top;\n",
       "    }\n",
       "\n",
       "    .dataframe thead th {\n",
       "        text-align: right;\n",
       "    }\n",
       "</style>\n",
       "<table border=\"1\" class=\"dataframe\">\n",
       "  <thead>\n",
       "    <tr style=\"text-align: right;\">\n",
       "      <th></th>\n",
       "      <th>t-SNE 1</th>\n",
       "      <th>t-SNE 2</th>\n",
       "      <th>semantic</th>\n",
       "    </tr>\n",
       "  </thead>\n",
       "  <tbody>\n",
       "    <tr>\n",
       "      <th>0</th>\n",
       "      <td>-49.783455</td>\n",
       "      <td>-1.340077</td>\n",
       "      <td>gene</td>\n",
       "    </tr>\n",
       "    <tr>\n",
       "      <th>1</th>\n",
       "      <td>19.247110</td>\n",
       "      <td>37.366364</td>\n",
       "      <td>phenotype</td>\n",
       "    </tr>\n",
       "    <tr>\n",
       "      <th>2</th>\n",
       "      <td>23.579403</td>\n",
       "      <td>-18.132181</td>\n",
       "      <td>phenotype</td>\n",
       "    </tr>\n",
       "    <tr>\n",
       "      <th>3</th>\n",
       "      <td>-39.803425</td>\n",
       "      <td>-3.500276</td>\n",
       "      <td>phenotype</td>\n",
       "    </tr>\n",
       "    <tr>\n",
       "      <th>4</th>\n",
       "      <td>-40.667095</td>\n",
       "      <td>24.352711</td>\n",
       "      <td>gene</td>\n",
       "    </tr>\n",
       "    <tr>\n",
       "      <th>...</th>\n",
       "      <td>...</td>\n",
       "      <td>...</td>\n",
       "      <td>...</td>\n",
       "    </tr>\n",
       "    <tr>\n",
       "      <th>14877</th>\n",
       "      <td>21.406040</td>\n",
       "      <td>7.393819</td>\n",
       "      <td>phenotype</td>\n",
       "    </tr>\n",
       "    <tr>\n",
       "      <th>14878</th>\n",
       "      <td>-48.774818</td>\n",
       "      <td>11.599901</td>\n",
       "      <td>gene</td>\n",
       "    </tr>\n",
       "    <tr>\n",
       "      <th>14879</th>\n",
       "      <td>14.006907</td>\n",
       "      <td>33.268784</td>\n",
       "      <td>phenotype</td>\n",
       "    </tr>\n",
       "    <tr>\n",
       "      <th>14880</th>\n",
       "      <td>39.901714</td>\n",
       "      <td>-47.019077</td>\n",
       "      <td>phenotype</td>\n",
       "    </tr>\n",
       "    <tr>\n",
       "      <th>14881</th>\n",
       "      <td>-8.868904</td>\n",
       "      <td>-17.461336</td>\n",
       "      <td>gene</td>\n",
       "    </tr>\n",
       "  </tbody>\n",
       "</table>\n",
       "<p>14882 rows × 3 columns</p>\n",
       "</div>"
      ],
      "text/plain": [
       "         t-SNE 1    t-SNE 2   semantic\n",
       "0     -49.783455  -1.340077       gene\n",
       "1      19.247110  37.366364  phenotype\n",
       "2      23.579403 -18.132181  phenotype\n",
       "3     -39.803425  -3.500276  phenotype\n",
       "4     -40.667095  24.352711       gene\n",
       "...          ...        ...        ...\n",
       "14877  21.406040   7.393819  phenotype\n",
       "14878 -48.774818  11.599901       gene\n",
       "14879  14.006907  33.268784  phenotype\n",
       "14880  39.901714 -47.019077  phenotype\n",
       "14881  -8.868904 -17.461336       gene\n",
       "\n",
       "[14882 rows x 3 columns]"
      ]
     },
     "execution_count": 53,
     "metadata": {},
     "output_type": "execute_result"
    }
   ],
   "source": [
    "tsne_df = pd.concat([comp_tsne, nodes[['semantic']]], axis=1)\n",
    "tsne_df"
   ]
  },
  {
   "cell_type": "code",
   "execution_count": 54,
   "metadata": {
    "execution": {
     "iopub.execute_input": "2024-08-07T12:40:50.018311Z",
     "iopub.status.busy": "2024-08-07T12:40:50.017316Z",
     "iopub.status.idle": "2024-08-07T12:40:51.013497Z",
     "shell.execute_reply": "2024-08-07T12:40:51.013190Z"
    }
   },
   "outputs": [
    {
     "data": {
      "image/png": "[encoded data removed]",
      "text/plain": [
       "<Figure size 800x800 with 1 Axes>"
      ]
     },
     "metadata": {},
     "output_type": "display_data"
    }
   ],
   "source": [
    "fig = plt.figure(figsize = (8,8))\n",
    "ax = fig.add_subplot(1, 1, 1)\n",
    "ax.set_xlabel('Principal Component 1', fontsize = 15)\n",
    "ax.set_ylabel('Principal Component 2', fontsize = 15)\n",
    "ax.set_title(f'Two component t-SNE on {dataset_prefix} {disease_prefix} dataset with embedding method {embedding_method}', fontsize = 12)\n",
    "\n",
    "unique_node_semantics = list(node_semantic_dict.values())\n",
    "colors = ['silver', 'indianred', 'peru', 'gold', 'olivedrab', 'cadetblue', 'skyblue', 'steelblue', 'royalblue', 'mediumpurple', 'palevioletred', 'lightpink']\n",
    "\n",
    "for target, color in zip(unique_node_semantics, colors):\n",
    "    indicesToKeep = tsne_df['semantic'] == target\n",
    "    ax.scatter(tsne_df.loc[indicesToKeep, 't-SNE 1'], tsne_df.loc[indicesToKeep, 't-SNE 2'], c = color, s = 50)\n",
    "    \n",
    "ax.legend(unique_node_semantics)\n",
    "ax.grid()\n",
    "\n",
    "plt.show()"
   ]
  }
 ],
 "metadata": {
  "kernelspec": {
   "display_name": "xaifo",
   "language": "python",
   "name": "python3"
  },
  "language_info": {
   "codemirror_mode": {
    "name": "ipython",
    "version": 3
   },
   "file_extension": ".py",
   "mimetype": "text/x-python",
   "name": "python",
   "nbconvert_exporter": "python",
   "pygments_lexer": "ipython3",
   "version": "3.10.11"
  }
 },
 "nbformat": 4,
 "nbformat_minor": 2
}
