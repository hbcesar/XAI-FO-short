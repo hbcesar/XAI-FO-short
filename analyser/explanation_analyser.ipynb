{
 "cells": [
  {
   "cell_type": "markdown",
   "metadata": {},
   "source": [
    "# Import Libraries"
   ]
  },
  {
   "cell_type": "code",
   "execution_count": 1,
   "metadata": {},
   "outputs": [],
   "source": [
    "import os\n",
    "import pickle\n",
    "import pandas as pd\n",
    "import networkx as nx\n",
    "from collections import Counter\n",
    "import random\n",
    "\n",
    "import data_params as input_data_params"
   ]
  },
  {
   "cell_type": "markdown",
   "metadata": {},
   "source": [
    "# Get Explanation Paths"
   ]
  },
  {
   "cell_type": "code",
   "execution_count": 2,
   "metadata": {},
   "outputs": [
    {
     "name": "stdout",
     "output_type": "stream",
     "text": [
      "c:\\Users\\rosa-\\Google Drive\\Msc_Bioinformatics\\thesis\\XAIFO-ThesisProject\\output\\g1_e2v\\expl_5\n",
      "c:\\Users\\rosa-\\Google Drive\\Msc_Bioinformatics\\thesis\\XAIFO-ThesisProject\\output\\g2_e2v\\expl_all\n"
     ]
    }
   ],
   "source": [
    "DISEASE_PREFIX = input_data_params.disease\n",
    "assert DISEASE_PREFIX == 'dmd' or 'hd' or 'oi'\n",
    "\n",
    "DATASET_PREFIXES = ['prev', 'restr']\n",
    "embedding_method = 'e2v'\n",
    "\n",
    "seeded_emb = False\n",
    "\n",
    "if seeded_emb:\n",
    "    fixed_emb = '_seeded'\n",
    "else:\n",
    "    fixed_emb = ''\n",
    "\n",
    "expl_folders = input_data_params.expl_folders\n",
    "explanations_per_dataset = {}\n",
    "explanation_pairs_per_dataset = {}\n",
    "\n",
    "curr_working_dir = os.getcwd()\n",
    "curr_output_dir = os.path.join(curr_working_dir, 'output', DISEASE_PREFIX)\n",
    "\n",
    "chosen_explanations_per_dataset = {}\n",
    "\n",
    "for dataset_prefix in DATASET_PREFIXES:\n",
    "    nodes = pd.read_csv(f'../output/{DISEASE_PREFIX}/{dataset_prefix}_{DISEASE_PREFIX}_indexed_nodes.csv')\n",
    "    \n",
    "    dataset_output_dir = os.path.join(curr_output_dir, f'{dataset_prefix}_{embedding_method}{fixed_emb}', expl_folders[dataset_prefix])\n",
    "    print(dataset_output_dir)\n",
    "    \n",
    "    all_explanations = []\n",
    "    all_graphs = []\n",
    "    all_pairs = []\n",
    "    for item in os.listdir(dataset_output_dir):\n",
    "        if 'incomplete' not in item and '.gpickle' in item:\n",
    "            \n",
    "            with open(os.path.join(dataset_output_dir, item), 'rb') as f:\n",
    "                G = pickle.load(f)\n",
    "                all_graphs.append(G)\n",
    "                \n",
    "            file_name_explanation = item.split('_graph.gpickle')[0]\n",
    "            all_explanations.append(file_name_explanation)\n",
    "            pair_file_name = f'{file_name_explanation}_pair.pkl'\n",
    "            \n",
    "            with open(os.path.join(dataset_output_dir, pair_file_name), 'rb') as f:\n",
    "                loaded_info = pickle.load(f)\n",
    "                \n",
    "                symptom_index = nodes.loc[nodes['id'] == loaded_info['symptom_id']].index[0]\n",
    "                symptom_label = nodes.loc[nodes['id'] == loaded_info['symptom_id']]['label'].values[0]\n",
    "                \n",
    "                drug_index = nodes.loc[nodes['id'] == loaded_info['drug_id']].index[0]\n",
    "                drug_label = nodes.loc[nodes['id'] == loaded_info['drug_id']]['label'].values[0]\n",
    "                \n",
    "                all_pairs.append([f'{symptom_label} {symptom_index}', f'{drug_label} {drug_index}'])\n",
    "            \n",
    "    explanations_per_dataset[dataset_prefix] = all_graphs\n",
    "    explanation_pairs_per_dataset[dataset_prefix] = all_pairs"
   ]
  },
  {
   "cell_type": "markdown",
   "metadata": {},
   "source": [
    "# Number of Types of Edges, Nodes, Metapaths"
   ]
  },
  {
   "cell_type": "code",
   "execution_count": 7,
   "metadata": {},
   "outputs": [],
   "source": [
    "def get_occurrence_df(c, label_name):\n",
    "    c_perc = [{label_name: i, 'Percentage': c[i] / c.total() * 100.0, 'Appearances': c[i]} for i in c]\n",
    "    c_df = pd.DataFrame.from_dict(c_perc)\n",
    "    c_df['Percentage'] = c_df['Percentage'].transform(lambda x: '{:,.2f}%'.format(x))\n",
    "    c_df = c_df.sort_values(by = ['Appearances'], ascending = False)\n",
    "    return c_df\n",
    "\n",
    "def count_occurrences(G):    \n",
    "    node_types = []\n",
    "    for n, attr in G.nodes(data=True):\n",
    "        node_types.append(attr['type'])\n",
    "        \n",
    "    edge_types = []\n",
    "    triplets = []\n",
    "    for n1, n2, attr in G.edges(data=True):\n",
    "        edge_type = attr['label']\n",
    "        edge_types.append(edge_type)\n",
    "        \n",
    "        n1_type = G.nodes[n1]['type']\n",
    "        n2_type = G.nodes[n2]['type']\n",
    "        \n",
    "        triplet = tuple([n1_type, edge_type, n2_type])\n",
    "        triplets.append(triplet)\n",
    "    \n",
    "    node_types_df = get_occurrence_df(Counter(node_types), 'Node Type')\n",
    "    \n",
    "    edge_types_df = get_occurrence_df(Counter(edge_types), 'Edge Type')\n",
    "    \n",
    "    metapaths_df = get_occurrence_df(Counter(triplets), 'Metapath')\n",
    "    \n",
    "    return node_types_df, edge_types_df, metapaths_df\n",
    "\n",
    "def get_shortest_path_len_drug_symptom(n1, n2, G):\n",
    "    path_len = nx.shortest_path_length(G, n1, n2)\n",
    "    return path_len"
   ]
  },
  {
   "cell_type": "code",
   "execution_count": 11,
   "metadata": {},
   "outputs": [
    {
     "name": "stdout",
     "output_type": "stream",
     "text": [
      "All drug-symptom pairs explained in the explanations found from dataset 1 {('Delayed speech and language development 6575', 'neratinib 1772'), ('Global developmental delay 7687', 'neratinib 1772')}\n",
      "For the 10 explanations generated from dataset 1\n",
      "Average number of node types: 3.0\n",
      "Average number of edge types: 4.5\n",
      "Average number of triplets: 5.0\n",
      "Average shortest path length between drug and symptom pair: 2.6\n",
      "All drug-symptom pairs explained in the explanations found from dataset 2 {('Arrhythmia 4336', 'levosimendan 5262'), ('Cardiomyopathy 3222', 'levosimendan 5262')}\n",
      "For the 17 explanations generated from dataset 2\n",
      "Average number of node types: 4.647058823529412\n",
      "Average number of edge types: 5.529411764705882\n",
      "Average number of triplets: 8.058823529411764\n",
      "Average shortest path length between drug and symptom pair: 3.2941176470588234\n"
     ]
    }
   ],
   "source": [
    "for dataset_prefix in DATASET_PREFIXES:\n",
    "    node_types_per_expl = []\n",
    "    edge_types_per_expl = []\n",
    "    triplet_types_per_expl = []\n",
    "    path_len_per_expl = []\n",
    "    \n",
    "    unique_pairs = []\n",
    "    \n",
    "    nr_expl = 0\n",
    "    for expl_g, pair in zip(explanations_per_dataset[dataset_prefix], explanation_pairs_per_dataset[dataset_prefix]):\n",
    "        node_types_df, edge_types_df, metapaths_df = count_occurrences(expl_g)\n",
    "        \n",
    "        nr_node_types = node_types_df['Node Type'].nunique()\n",
    "        node_types_per_expl.append(nr_node_types)\n",
    "        \n",
    "        nr_edge_types = edge_types_df['Edge Type'].nunique()\n",
    "        edge_types_per_expl.append(nr_edge_types)\n",
    "        \n",
    "        nr_triplet_types = metapaths_df['Metapath'].nunique()\n",
    "        triplet_types_per_expl.append(nr_triplet_types)\n",
    "        \n",
    "        node_1, node_2 = pair\n",
    "        shortest_path_len = get_shortest_path_len_drug_symptom(node_1, node_2, expl_g)\n",
    "        path_len_per_expl.append(shortest_path_len)\n",
    "        \n",
    "        unique_pairs.append(tuple(pair))\n",
    "        \n",
    "        nr_expl += 1\n",
    "    \n",
    "    print('All drug-symptom pairs explained in the explanations found from dataset', dataset_prefix, set(unique_pairs))\n",
    "    \n",
    "    print(f'For the {nr_expl} explanations generated from dataset {dataset_prefix}')\n",
    "    print(f'Average number of node types: {(sum(node_types_per_expl)/len(node_types_per_expl))}')\n",
    "    print(f'Average number of edge types: {(sum(edge_types_per_expl)/len(edge_types_per_expl))}')\n",
    "    print(f'Average number of triplets: {(sum(triplet_types_per_expl)/len(triplet_types_per_expl))}')\n",
    "    print(f'Average shortest path length between drug and symptom pair: {(sum(path_len_per_expl)/len(path_len_per_expl))}')"
   ]
  }
 ],
 "metadata": {
  "kernelspec": {
   "display_name": "xaifognn",
   "language": "python",
   "name": "python3"
  },
  "language_info": {
   "codemirror_mode": {
    "name": "ipython",
    "version": 3
   },
   "file_extension": ".py",
   "mimetype": "text/x-python",
   "name": "python",
   "nbconvert_exporter": "python",
   "pygments_lexer": "ipython3",
   "version": "3.12.3"
  }
 },
 "nbformat": 4,
 "nbformat_minor": 2
}
