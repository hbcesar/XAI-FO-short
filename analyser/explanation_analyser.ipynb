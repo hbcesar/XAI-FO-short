{
 "cells": [
  {
   "cell_type": "markdown",
   "metadata": {},
   "source": [
    "# Import Libraries"
   ]
  },
  {
   "cell_type": "code",
   "execution_count": 1,
   "metadata": {},
   "outputs": [],
   "source": [
    "import os\n",
    "import pickle\n",
    "import pandas as pd\n",
    "import networkx as nx\n",
    "from collections import Counter\n",
    "import random\n",
    "\n",
    "import data_params as input_data_params"
   ]
  },
  {
   "cell_type": "markdown",
   "metadata": {},
   "source": [
    "# Get Explanation Paths"
   ]
  },
  {
   "cell_type": "code",
   "execution_count": 2,
   "metadata": {},
   "outputs": [],
   "source": [
    "def add_dict_counter(counting_dict: dict, key: str, add_val: int):\n",
    "    if key in counting_dict:\n",
    "        counting_dict[key] += add_val\n",
    "    else:\n",
    "        counting_dict[key] = add_val"
   ]
  },
  {
   "cell_type": "code",
   "execution_count": 3,
   "metadata": {},
   "outputs": [
    {
     "name": "stdout",
     "output_type": "stream",
     "text": [
      "c:\\Users\\rzwart\\Documents\\GitHub\\XAI-FO\\output\\dmd\\prev_e2v\\expl_9\n",
      "c:\\Users\\rzwart\\Documents\\GitHub\\XAI-FO\\output\\dmd\\restr_e2v\\expl_5\n"
     ]
    }
   ],
   "source": [
    "DISEASE_PREFIX = input_data_params.disease\n",
    "assert DISEASE_PREFIX == 'dmd' or 'hd' or 'oi'\n",
    "\n",
    "DATASET_PREFIXES = ['prev', 'restr']\n",
    "embedding_method = 'e2v'\n",
    "\n",
    "seeded_emb = False\n",
    "\n",
    "if seeded_emb:\n",
    "    fixed_emb = '_seeded'\n",
    "else:\n",
    "    fixed_emb = ''\n",
    "\n",
    "expl_folders = input_data_params.expl_folders\n",
    "explanations_per_dataset = {}\n",
    "explanation_pairs_per_dataset = {}\n",
    "\n",
    "curr_working_dir = os.path.dirname(os.getcwd())\n",
    "curr_output_dir = os.path.join(curr_working_dir, 'output', DISEASE_PREFIX)\n",
    "\n",
    "chosen_explanations_per_dataset = {}\n",
    "\n",
    "complete_explanation_counts_per_dataset = {}\n",
    "incomplete_explanation_counts_per_dataset = {}\n",
    "\n",
    "for dataset_prefix in DATASET_PREFIXES:\n",
    "    complete_explanation_counts = {}\n",
    "    incomplete_explanation_counts = {}\n",
    "\n",
    "    nodes = pd.read_csv(f'../output/{DISEASE_PREFIX}/{dataset_prefix}_{DISEASE_PREFIX}_indexed_nodes.csv')\n",
    "    \n",
    "    dataset_output_dir = os.path.join(curr_output_dir, f'{dataset_prefix}_{embedding_method}{fixed_emb}', expl_folders[dataset_prefix])\n",
    "    print(dataset_output_dir)\n",
    "    \n",
    "    all_explanations = []\n",
    "    all_graphs = []\n",
    "    all_pairs = []\n",
    "\n",
    "    for item in os.listdir(dataset_output_dir):\n",
    "        if '.gpickle' in item:\n",
    "            \n",
    "            with open(os.path.join(dataset_output_dir, item), 'rb') as f:\n",
    "                G = pickle.load(f)\n",
    "\n",
    "                if 'incomplete' not in item:\n",
    "                    all_graphs.append(G)\n",
    "                \n",
    "            file_name_explanation = item.split('_graph.gpickle')[0]\n",
    "            all_explanations.append(file_name_explanation)\n",
    "            pair_file_name = f'{file_name_explanation}_pair.pkl'\n",
    "            \n",
    "            with open(os.path.join(dataset_output_dir, pair_file_name), 'rb') as f:\n",
    "                loaded_info = pickle.load(f)\n",
    "                \n",
    "                symptom_index = nodes.loc[nodes['id'] == loaded_info['symptom_id']].index[0]\n",
    "                symptom_label = nodes.loc[nodes['id'] == loaded_info['symptom_id']]['label'].values[0]\n",
    "                \n",
    "                drug_index = nodes.loc[nodes['id'] == loaded_info['drug_id']].index[0]\n",
    "                drug_label = nodes.loc[nodes['id'] == loaded_info['drug_id']]['label'].values[0]\n",
    "                \n",
    "                if 'incomplete' not in item:\n",
    "                    all_pairs.append([f'{symptom_label} {symptom_index}', f'{drug_label} {drug_index}'])\n",
    "                    add_dict_counter(counting_dict=complete_explanation_counts, key=f'{loaded_info[\"drug_id\"]} {loaded_info[\"symptom_id\"]}', add_val=1)\n",
    "                else:\n",
    "                    add_dict_counter(counting_dict=incomplete_explanation_counts, key=f'{loaded_info[\"drug_id\"]} {loaded_info[\"symptom_id\"]}', add_val=1)\n",
    "            \n",
    "    explanations_per_dataset[dataset_prefix] = all_graphs\n",
    "    explanation_pairs_per_dataset[dataset_prefix] = all_pairs\n",
    "\n",
    "    complete_explanation_counts_per_dataset[dataset_prefix] = complete_explanation_counts\n",
    "    incomplete_explanation_counts_per_dataset[dataset_prefix] = incomplete_explanation_counts"
   ]
  },
  {
   "cell_type": "code",
   "execution_count": 4,
   "metadata": {},
   "outputs": [
    {
     "data": {
      "text/plain": [
       "{'prev': {'1576 HP:0003236': 5}, 'restr': {}}"
      ]
     },
     "execution_count": 4,
     "metadata": {},
     "output_type": "execute_result"
    }
   ],
   "source": [
    "complete_explanation_counts_per_dataset"
   ]
  },
  {
   "cell_type": "code",
   "execution_count": 5,
   "metadata": {},
   "outputs": [
    {
     "data": {
      "text/plain": [
       "{'prev': {'1576 HP:0003236': 5,\n",
       "  '231 HP:0003236': 10,\n",
       "  '231 HP:0003707': 10,\n",
       "  '231 HP:0003323': 10,\n",
       "  '1576 HP:0003323': 10,\n",
       "  '1576 HP:0001644': 10,\n",
       "  '231 HP:0001644': 9,\n",
       "  '1576 HP:0011675': 10,\n",
       "  '1576 HP:0001638': 10,\n",
       "  '231 HP:0001638': 10,\n",
       "  '231 HP:0003560': 10,\n",
       "  '1576 HP:0003560': 10},\n",
       " 'restr': {'5359 HP:0003236': 6,\n",
       "  '231 HP:0001635': 10,\n",
       "  '5359 HP:0000750': 7,\n",
       "  '1795 HP:0000750': 7,\n",
       "  '231 HP:0003236': 10,\n",
       "  '1576 HP:0003236': 9,\n",
       "  '1576 HP:0011675': 9,\n",
       "  '231 HP:0003560': 10,\n",
       "  '269 HP:0001265': 6,\n",
       "  '1576 HP:0003560': 8,\n",
       "  '269 HP:0000750': 7,\n",
       "  '5359 HP:0001265': 7,\n",
       "  '5359 HP:0003560': 5,\n",
       "  '269 HP:0002650': 8,\n",
       "  '1795 HP:0001265': 6,\n",
       "  '5359 HP:0002650': 8,\n",
       "  '231 HP:0001265': 6,\n",
       "  '1795 HP:0002650': 6,\n",
       "  '269 HP:0001270': 8,\n",
       "  '5359 HP:0001270': 7,\n",
       "  '1795 HP:0001270': 7,\n",
       "  '231 HP:0001638': 10,\n",
       "  '1795 HP:0001263': 8,\n",
       "  '269 HP:0001263': 8,\n",
       "  '5359 HP:0001263': 6,\n",
       "  '1576 HP:0001638': 9,\n",
       "  '5359 HP:0001638': 8,\n",
       "  '231 HP:0003707': 9,\n",
       "  '231 HP:0001644': 10,\n",
       "  '1576 HP:0001644': 9,\n",
       "  '269 HP:0002515': 6,\n",
       "  '1576 HP:0003323': 9,\n",
       "  '5359 HP:0002515': 7,\n",
       "  '231 HP:0003323': 9,\n",
       "  '1795 HP:0002515': 6,\n",
       "  '5359 HP:0003323': 5,\n",
       "  '1795 HP:0001252': 6,\n",
       "  '269 HP:0001252': 9,\n",
       "  '5359 HP:0001252': 8,\n",
       "  '1795 HP:0001290': 6,\n",
       "  '269 HP:0001290': 8,\n",
       "  '5359 HP:0001290': 8}}"
      ]
     },
     "execution_count": 5,
     "metadata": {},
     "output_type": "execute_result"
    }
   ],
   "source": [
    "incomplete_explanation_counts_per_dataset"
   ]
  },
  {
   "cell_type": "markdown",
   "metadata": {},
   "source": [
    "# Number of Types of Edges, Nodes, Metapaths"
   ]
  },
  {
   "cell_type": "code",
   "execution_count": 6,
   "metadata": {},
   "outputs": [],
   "source": [
    "def get_occurrence_df(c, label_name):\n",
    "    c_perc = [{label_name: i, 'Percentage': c[i] / c.total() * 100.0, 'Appearances': c[i]} for i in c]\n",
    "    c_df = pd.DataFrame.from_dict(c_perc)\n",
    "    c_df['Percentage'] = c_df['Percentage'].transform(lambda x: '{:,.2f}%'.format(x))\n",
    "    c_df = c_df.sort_values(by = ['Appearances'], ascending = False)\n",
    "    return c_df\n",
    "\n",
    "def count_occurrences(G):    \n",
    "    node_types = []\n",
    "    for n, attr in G.nodes(data=True):\n",
    "        node_types.append(attr['type'])\n",
    "        \n",
    "    edge_types = []\n",
    "    triplets = []\n",
    "    for n1, n2, attr in G.edges(data=True):\n",
    "        edge_type = attr['label']\n",
    "        edge_types.append(edge_type)\n",
    "        \n",
    "        n1_type = G.nodes[n1]['type']\n",
    "        n2_type = G.nodes[n2]['type']\n",
    "        \n",
    "        triplet = tuple([n1_type, edge_type, n2_type])\n",
    "        triplets.append(triplet)\n",
    "    \n",
    "    node_types_df = get_occurrence_df(Counter(node_types), 'Node Type')\n",
    "    \n",
    "    edge_types_df = get_occurrence_df(Counter(edge_types), 'Edge Type')\n",
    "    \n",
    "    metapaths_df = get_occurrence_df(Counter(triplets), 'Metapath')\n",
    "    \n",
    "    return node_types_df, edge_types_df, metapaths_df\n",
    "\n",
    "def get_shortest_path_len_drug_symptom(n1, n2, G):\n",
    "    path_len = nx.shortest_path_length(G, n1, n2)\n",
    "    return path_len"
   ]
  },
  {
   "cell_type": "code",
   "execution_count": 7,
   "metadata": {},
   "outputs": [
    {
     "name": "stdout",
     "output_type": "stream",
     "text": [
      "All drug-symptom pairs explained in the explanations found from dataset prev {('Elevated circulating creatine kinase concentration 7962', 'levosimendan 626')}\n",
      "For the 5 explanations generated from dataset prev\n",
      "Average number of node types: 3.8\n",
      "Average number of edge types: 3.8\n",
      "Average number of triplets: 5.0\n",
      "Average shortest path length between drug and symptom pair: 2.6\n"
     ]
    }
   ],
   "source": [
    "obj_measures_list = []\n",
    "\n",
    "for dataset_prefix in DATASET_PREFIXES:\n",
    "    node_types_per_expl = []\n",
    "    edge_types_per_expl = []\n",
    "    triplet_types_per_expl = []\n",
    "    path_len_per_expl = []\n",
    "    \n",
    "    unique_pairs = []\n",
    "    \n",
    "    nr_expl = 0\n",
    "    for expl_g, pair in zip(explanations_per_dataset[dataset_prefix], explanation_pairs_per_dataset[dataset_prefix]):\n",
    "        node_types_df, edge_types_df, metapaths_df = count_occurrences(expl_g)\n",
    "        \n",
    "        nr_node_types = node_types_df['Node Type'].nunique()\n",
    "        node_types_per_expl.append(nr_node_types)\n",
    "        \n",
    "        nr_edge_types = edge_types_df['Edge Type'].nunique()\n",
    "        edge_types_per_expl.append(nr_edge_types)\n",
    "        \n",
    "        nr_triplet_types = metapaths_df['Metapath'].nunique()\n",
    "        triplet_types_per_expl.append(nr_triplet_types)\n",
    "        \n",
    "        node_1, node_2 = pair\n",
    "        shortest_path_len = get_shortest_path_len_drug_symptom(node_1, node_2, expl_g)\n",
    "        path_len_per_expl.append(shortest_path_len)\n",
    "        \n",
    "        unique_pairs.append(tuple(pair))\n",
    "        \n",
    "        nr_expl += 1\n",
    "    \n",
    "    if nr_expl > 0:\n",
    "        print('All drug-symptom pairs explained in the explanations found from dataset', dataset_prefix, set(unique_pairs))\n",
    "        \n",
    "        print(f'For the {nr_expl} explanations generated from dataset {dataset_prefix}')\n",
    "        print(f'Average number of node types: {(sum(node_types_per_expl)/len(node_types_per_expl))}')\n",
    "        print(f'Average number of edge types: {(sum(edge_types_per_expl)/len(edge_types_per_expl))}')\n",
    "        print(f'Average number of triplets: {(sum(triplet_types_per_expl)/len(triplet_types_per_expl))}')\n",
    "        print(f'Average shortest path length between drug and symptom pair: {(sum(path_len_per_expl)/len(path_len_per_expl))}')\n",
    "\n",
    "        obj_measures_list.append({\n",
    "            'disease prefix': DISEASE_PREFIX,\n",
    "            'dataset prefix': dataset_prefix,\n",
    "            'embedding': embedding_method,\n",
    "            'seed': seeded_emb,\n",
    "            'explanation overlap': expl_folders[dataset_prefix],\n",
    "            'total explanations': nr_expl,\n",
    "            'avg number of node types': sum(node_types_per_expl)/len(node_types_per_expl),\n",
    "            'avg number of edge types': sum(edge_types_per_expl)/len(edge_types_per_expl),\n",
    "            'avg number of triplets': sum(triplet_types_per_expl)/len(triplet_types_per_expl),\n",
    "            'avg shortest path length between drug and symptom': sum(path_len_per_expl)/len(path_len_per_expl)\n",
    "        })"
   ]
  },
  {
   "cell_type": "code",
   "execution_count": 8,
   "metadata": {},
   "outputs": [
    {
     "data": {
      "text/html": [
       "<div>\n",
       "<style scoped>\n",
       "    .dataframe tbody tr th:only-of-type {\n",
       "        vertical-align: middle;\n",
       "    }\n",
       "\n",
       "    .dataframe tbody tr th {\n",
       "        vertical-align: top;\n",
       "    }\n",
       "\n",
       "    .dataframe thead th {\n",
       "        text-align: right;\n",
       "    }\n",
       "</style>\n",
       "<table border=\"1\" class=\"dataframe\">\n",
       "  <thead>\n",
       "    <tr style=\"text-align: right;\">\n",
       "      <th></th>\n",
       "      <th>disease prefix</th>\n",
       "      <th>dataset prefix</th>\n",
       "      <th>embedding</th>\n",
       "      <th>seed</th>\n",
       "      <th>explanation overlap</th>\n",
       "      <th>total explanations</th>\n",
       "      <th>avg number of node types</th>\n",
       "      <th>avg number of edge types</th>\n",
       "      <th>avg number of triplets</th>\n",
       "      <th>avg shortest path length between drug and symptom</th>\n",
       "    </tr>\n",
       "  </thead>\n",
       "  <tbody>\n",
       "    <tr>\n",
       "      <th>0</th>\n",
       "      <td>dmd</td>\n",
       "      <td>prev</td>\n",
       "      <td>e2v</td>\n",
       "      <td>False</td>\n",
       "      <td>expl_9</td>\n",
       "      <td>5</td>\n",
       "      <td>3.8</td>\n",
       "      <td>3.8</td>\n",
       "      <td>5.0</td>\n",
       "      <td>2.6</td>\n",
       "    </tr>\n",
       "  </tbody>\n",
       "</table>\n",
       "</div>"
      ],
      "text/plain": [
       "  disease prefix dataset prefix embedding   seed explanation overlap  \\\n",
       "0            dmd           prev       e2v  False              expl_9   \n",
       "\n",
       "   total explanations  avg number of node types  avg number of edge types  \\\n",
       "0                   5                       3.8                       3.8   \n",
       "\n",
       "   avg number of triplets  avg shortest path length between drug and symptom  \n",
       "0                     5.0                                                2.6  "
      ]
     },
     "execution_count": 8,
     "metadata": {},
     "output_type": "execute_result"
    }
   ],
   "source": [
    "obj_measures_df = pd.DataFrame.from_dict(obj_measures_list)\n",
    "obj_measures_df"
   ]
  },
  {
   "cell_type": "code",
   "execution_count": 9,
   "metadata": {},
   "outputs": [],
   "source": [
    "obj_measures_df.to_csv(f'../output/{DISEASE_PREFIX}/{DISEASE_PREFIX}_explanation_objective_measurements.csv', index=False)"
   ]
  },
  {
   "cell_type": "code",
   "execution_count": 10,
   "metadata": {},
   "outputs": [
    {
     "name": "stdout",
     "output_type": "stream",
     "text": [
      "c:\\Users\\rzwart\\Documents\\GitHub\\XAI-FO\\output\\dmd\\prev_e2v\n",
      "Use overlapping pairs found in symptom_drug_pair_overlapping_9_runs_dmd_prev_e2v\n",
      "c:\\Users\\rzwart\\Documents\\GitHub\\XAI-FO\\output\\dmd\\restr_e2v\n",
      "Use overlapping pairs found in symptom_drug_pair_overlapping_5_runs_dmd_restr_e2v\n"
     ]
    }
   ],
   "source": [
    "for dataset_prefix in DATASET_PREFIXES:\n",
    "    nodes = pd.read_csv(f'../output/{DISEASE_PREFIX}/{dataset_prefix}_{DISEASE_PREFIX}_indexed_nodes.csv')\n",
    "\n",
    "    dataset_output_dir = os.path.join(curr_output_dir, f'{dataset_prefix}_{embedding_method}{fixed_emb}')\n",
    "    print(dataset_output_dir)\n",
    "\n",
    "    overlap_nr = expl_folders[dataset_prefix].replace('expl_', '')\n",
    "    overlap_file = f'symptom_drug_pair_overlapping_{overlap_nr}_runs_{DISEASE_PREFIX}_{dataset_prefix}_{embedding_method}{fixed_emb}'\n",
    "    print(f'Use overlapping pairs found in {overlap_file}')\n",
    "\n",
    "    with open(f'{dataset_output_dir}/{overlap_file}.pkl', 'rb') as f:\n",
    "        overlapping_symptom_drug_pairs = pickle.load(f)\n",
    "\n",
    "    explanation_numbers = []\n",
    "    \n",
    "    for overlapping_symptom_drug_pair in overlapping_symptom_drug_pairs:\n",
    "\n",
    "        symptom_id, drug_id = overlapping_symptom_drug_pair\n",
    "\n",
    "        symptom_label = nodes.loc[nodes['id'] == symptom_id]['label'].values[0]\n",
    "        drug_label = nodes.loc[nodes['id'] == drug_id]['label'].values[0]\n",
    "\n",
    "        pair_dict = {'drug': drug_label, 'symptom ID': symptom_id, 'symptom': symptom_label}\n",
    "\n",
    "        key_val = f'{drug_id} {symptom_id}'\n",
    "        if key_val in complete_explanation_counts_per_dataset[dataset_prefix]:\n",
    "            pair_dict['complete explanations'] = complete_explanation_counts_per_dataset[dataset_prefix][key_val]\n",
    "        else:\n",
    "            pair_dict['complete explanations'] = 0\n",
    "\n",
    "        if key_val in incomplete_explanation_counts_per_dataset[dataset_prefix]:\n",
    "            pair_dict['incomplete explanations'] = incomplete_explanation_counts_per_dataset[dataset_prefix][key_val]\n",
    "        else:\n",
    "            pair_dict['incomplete explanations'] = 0\n",
    "\n",
    "        explanation_numbers.append(pair_dict)\n",
    "\n",
    "    explanation_numbers_df = pd.DataFrame.from_dict(explanation_numbers)\n",
    "    explanation_numbers_df.to_csv(f'../output/{DISEASE_PREFIX}/{dataset_prefix}_{embedding_method}{fixed_emb}/{expl_folders[dataset_prefix]}/{DISEASE_PREFIX}_{dataset_prefix}_{expl_folders[dataset_prefix]}_explanation_results.csv', index=False)"
   ]
  }
 ],
 "metadata": {
  "kernelspec": {
   "display_name": "xaifognn",
   "language": "python",
   "name": "python3"
  },
  "language_info": {
   "codemirror_mode": {
    "name": "ipython",
    "version": 3
   },
   "file_extension": ".py",
   "mimetype": "text/x-python",
   "name": "python",
   "nbconvert_exporter": "python",
   "pygments_lexer": "ipython3",
   "version": "3.12.3"
  }
 },
 "nbformat": 4,
 "nbformat_minor": 2
}
