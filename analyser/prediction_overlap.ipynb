{
 "cells": [
  {
   "cell_type": "code",
   "execution_count": 16,
   "metadata": {},
   "outputs": [],
   "source": [
    "import os\n",
    "import pickle\n",
    "\n",
    "import pandas as pd"
   ]
  },
  {
   "cell_type": "markdown",
   "metadata": {},
   "source": [
    "Show the drug-symptom pairs that overlap with a given number of runs"
   ]
  },
  {
   "cell_type": "code",
   "execution_count": 17,
   "metadata": {},
   "outputs": [
    {
     "name": "stdout",
     "output_type": "stream",
     "text": [
      "c:\\Users\\rzwart\\Documents\\GitHub\\XAI-FO\\output\\oi\\restr_e2v\\expl_all\n"
     ]
    }
   ],
   "source": [
    "DISEASE_PREFIX = 'oi'\n",
    "DATASET_PREFIX = 'restr'\n",
    "THRESHOLD_NR = 'all'\n",
    "\n",
    "curr_working_dir = os.path.dirname(os.getcwd())\n",
    "curr_output_dir = os.path.join(curr_working_dir, 'output', DISEASE_PREFIX)\n",
    "dataset_output_dir = os.path.join(curr_output_dir, f'{DATASET_PREFIX}_e2v')\n",
    "expl_output_dir = os.path.join(dataset_output_dir, f'expl_{THRESHOLD_NR}')\n",
    "\n",
    "print(expl_output_dir)"
   ]
  },
  {
   "cell_type": "code",
   "execution_count": 18,
   "metadata": {},
   "outputs": [
    {
     "name": "stdout",
     "output_type": "stream",
     "text": [
      "Number of symptom drug pairs for oi restr all: 1\n"
     ]
    },
    {
     "data": {
      "text/plain": [
       "{('HP:0003100', '2552')}"
      ]
     },
     "execution_count": 18,
     "metadata": {},
     "output_type": "execute_result"
    }
   ],
   "source": [
    "with open(f'{dataset_output_dir}/symptom_drug_pair_overlapping_{THRESHOLD_NR}_runs_{DISEASE_PREFIX}_{DATASET_PREFIX}_e2v.pkl', 'rb') as f:\n",
    "    overlapping_symptom_drug_pairs = pickle.load(f)\n",
    "\n",
    "print(f'Number of symptom drug pairs for {DISEASE_PREFIX} {DATASET_PREFIX} {THRESHOLD_NR}: {len(overlapping_symptom_drug_pairs)}')\n",
    "\n",
    "overlapping_symptom_drug_pairs"
   ]
  },
  {
   "cell_type": "code",
   "execution_count": 19,
   "metadata": {},
   "outputs": [
    {
     "data": {
      "text/html": [
       "<div>\n",
       "<style scoped>\n",
       "    .dataframe tbody tr th:only-of-type {\n",
       "        vertical-align: middle;\n",
       "    }\n",
       "\n",
       "    .dataframe tbody tr th {\n",
       "        vertical-align: top;\n",
       "    }\n",
       "\n",
       "    .dataframe thead th {\n",
       "        text-align: right;\n",
       "    }\n",
       "</style>\n",
       "<table border=\"1\" class=\"dataframe\">\n",
       "  <thead>\n",
       "    <tr style=\"text-align: right;\">\n",
       "      <th></th>\n",
       "      <th>index_id</th>\n",
       "      <th>id</th>\n",
       "      <th>semantic</th>\n",
       "      <th>label</th>\n",
       "      <th>semantic_id</th>\n",
       "    </tr>\n",
       "  </thead>\n",
       "  <tbody>\n",
       "    <tr>\n",
       "      <th>0</th>\n",
       "      <td>0</td>\n",
       "      <td>ZP:0000122</td>\n",
       "      <td>phenotype</td>\n",
       "      <td>notochord undulate, abnormal</td>\n",
       "      <td>8</td>\n",
       "    </tr>\n",
       "    <tr>\n",
       "      <th>1</th>\n",
       "      <td>1</td>\n",
       "      <td>MP:0011523</td>\n",
       "      <td>phenotype</td>\n",
       "      <td>thin placenta labyrinth</td>\n",
       "      <td>8</td>\n",
       "    </tr>\n",
       "    <tr>\n",
       "      <th>2</th>\n",
       "      <td>2</td>\n",
       "      <td>ENSEMBL:ENSPTRG00000018033</td>\n",
       "      <td>gene</td>\n",
       "      <td>ENSEMBL:ENSPTRG00000018033</td>\n",
       "      <td>4</td>\n",
       "    </tr>\n",
       "    <tr>\n",
       "      <th>3</th>\n",
       "      <td>3</td>\n",
       "      <td>MP:0008813</td>\n",
       "      <td>phenotype</td>\n",
       "      <td>decreased common myeloid progenitor cell number</td>\n",
       "      <td>8</td>\n",
       "    </tr>\n",
       "    <tr>\n",
       "      <th>4</th>\n",
       "      <td>4</td>\n",
       "      <td>ENSEMBL:ENSACAG00000017768</td>\n",
       "      <td>gene</td>\n",
       "      <td>ENSEMBL:ENSACAG00000017768</td>\n",
       "      <td>4</td>\n",
       "    </tr>\n",
       "  </tbody>\n",
       "</table>\n",
       "</div>"
      ],
      "text/plain": [
       "   index_id                          id   semantic  \\\n",
       "0         0                  ZP:0000122  phenotype   \n",
       "1         1                  MP:0011523  phenotype   \n",
       "2         2  ENSEMBL:ENSPTRG00000018033       gene   \n",
       "3         3                  MP:0008813  phenotype   \n",
       "4         4  ENSEMBL:ENSACAG00000017768       gene   \n",
       "\n",
       "                                             label  semantic_id  \n",
       "0                     notochord undulate, abnormal            8  \n",
       "1                          thin placenta labyrinth            8  \n",
       "2                       ENSEMBL:ENSPTRG00000018033            4  \n",
       "3  decreased common myeloid progenitor cell number            8  \n",
       "4                       ENSEMBL:ENSACAG00000017768            4  "
      ]
     },
     "execution_count": 19,
     "metadata": {},
     "output_type": "execute_result"
    }
   ],
   "source": [
    "nodes = pd.read_csv(f'../output/{DISEASE_PREFIX}/{DATASET_PREFIX}_{DISEASE_PREFIX}_indexed_nodes.csv')\n",
    "nodes.head(5)"
   ]
  },
  {
   "cell_type": "code",
   "execution_count": 20,
   "metadata": {},
   "outputs": [
    {
     "name": "stdout",
     "output_type": "stream",
     "text": [
      "DRUG tacrolimus, SYMPTOM ID HP:0003100, SYMPTOM Slender long bone\n"
     ]
    }
   ],
   "source": [
    "for overlapping_pair in overlapping_symptom_drug_pairs:\n",
    "    symptom_id, drug_id = overlapping_pair\n",
    "\n",
    "    symptom_label = nodes.loc[nodes['id'] == symptom_id]['label'].values[0]\n",
    "    drug_label = nodes.loc[nodes['id'] == drug_id]['label'].values[0]\n",
    "\n",
    "    print(f'DRUG {drug_label}, SYMPTOM ID {symptom_id}, SYMPTOM {symptom_label}')"
   ]
  }
 ],
 "metadata": {
  "kernelspec": {
   "display_name": ".venv",
   "language": "python",
   "name": "python3"
  },
  "language_info": {
   "codemirror_mode": {
    "name": "ipython",
    "version": 3
   },
   "file_extension": ".py",
   "mimetype": "text/x-python",
   "name": "python",
   "nbconvert_exporter": "python",
   "pygments_lexer": "ipython3",
   "version": "3.12.3"
  }
 },
 "nbformat": 4,
 "nbformat_minor": 2
}
