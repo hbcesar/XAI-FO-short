{
 "cells": [
  {
   "cell_type": "code",
   "execution_count": 11,
   "metadata": {},
   "outputs": [],
   "source": [
    "import os\n",
    "import pickle\n",
    "\n",
    "import pandas as pd"
   ]
  },
  {
   "cell_type": "markdown",
   "metadata": {},
   "source": [
    "Show the drug-symptom pairs that overlap with a given number of runs"
   ]
  },
  {
   "cell_type": "code",
   "execution_count": 12,
   "metadata": {},
   "outputs": [
    {
     "name": "stdout",
     "output_type": "stream",
     "text": [
      "c:\\Users\\rzwart\\Documents\\GitHub\\XAI-FO\\output\\oi\\prev_e2v\\expl_9\n"
     ]
    }
   ],
   "source": [
    "DISEASE_PREFIX = 'oi'\n",
    "DATASET_PREFIX = 'prev'\n",
    "THRESHOLD_NR = '9'\n",
    "\n",
    "curr_working_dir = os.path.dirname(os.getcwd())\n",
    "curr_output_dir = os.path.join(curr_working_dir, 'output', DISEASE_PREFIX)\n",
    "dataset_output_dir = os.path.join(curr_output_dir, f'{DATASET_PREFIX}_e2v')\n",
    "expl_output_dir = os.path.join(dataset_output_dir, f'expl_{THRESHOLD_NR}')\n",
    "\n",
    "print(expl_output_dir)"
   ]
  },
  {
   "cell_type": "code",
   "execution_count": 13,
   "metadata": {},
   "outputs": [
    {
     "name": "stdout",
     "output_type": "stream",
     "text": [
      "Number of symptom drug pairs for oi prev 9: 2\n"
     ]
    },
    {
     "data": {
      "text/plain": [
       "{('HP:0002829', '80'), ('HP:0003312', '80')}"
      ]
     },
     "execution_count": 13,
     "metadata": {},
     "output_type": "execute_result"
    }
   ],
   "source": [
    "with open(f'{dataset_output_dir}/symptom_drug_pair_overlapping_{THRESHOLD_NR}_runs_{DISEASE_PREFIX}_{DATASET_PREFIX}_e2v.pkl', 'rb') as f:\n",
    "    overlapping_symptom_drug_pairs = pickle.load(f)\n",
    "\n",
    "print(f'Number of symptom drug pairs for {DISEASE_PREFIX} {DATASET_PREFIX} {THRESHOLD_NR}: {len(overlapping_symptom_drug_pairs)}')\n",
    "\n",
    "overlapping_symptom_drug_pairs"
   ]
  },
  {
   "cell_type": "code",
   "execution_count": 14,
   "metadata": {},
   "outputs": [
    {
     "data": {
      "text/html": [
       "<div>\n",
       "<style scoped>\n",
       "    .dataframe tbody tr th:only-of-type {\n",
       "        vertical-align: middle;\n",
       "    }\n",
       "\n",
       "    .dataframe tbody tr th {\n",
       "        vertical-align: top;\n",
       "    }\n",
       "\n",
       "    .dataframe thead th {\n",
       "        text-align: right;\n",
       "    }\n",
       "</style>\n",
       "<table border=\"1\" class=\"dataframe\">\n",
       "  <thead>\n",
       "    <tr style=\"text-align: right;\">\n",
       "      <th></th>\n",
       "      <th>index_id</th>\n",
       "      <th>id</th>\n",
       "      <th>semantic</th>\n",
       "      <th>label</th>\n",
       "      <th>semantic_id</th>\n",
       "    </tr>\n",
       "  </thead>\n",
       "  <tbody>\n",
       "    <tr>\n",
       "      <th>0</th>\n",
       "      <td>0</td>\n",
       "      <td>HP:0011001</td>\n",
       "      <td>DISO</td>\n",
       "      <td>Increased bone mineral density</td>\n",
       "      <td>1</td>\n",
       "    </tr>\n",
       "    <tr>\n",
       "      <th>1</th>\n",
       "      <td>1</td>\n",
       "      <td>MP:0011480</td>\n",
       "      <td>DISO</td>\n",
       "      <td>impaired ureteric peristalsis</td>\n",
       "      <td>1</td>\n",
       "    </tr>\n",
       "    <tr>\n",
       "      <th>2</th>\n",
       "      <td>2</td>\n",
       "      <td>MP:0003986</td>\n",
       "      <td>DISO</td>\n",
       "      <td>small cochlear ganglion</td>\n",
       "      <td>1</td>\n",
       "    </tr>\n",
       "    <tr>\n",
       "      <th>3</th>\n",
       "      <td>3</td>\n",
       "      <td>MP:0000898</td>\n",
       "      <td>DISO</td>\n",
       "      <td>midbrain hyperplasia</td>\n",
       "      <td>1</td>\n",
       "    </tr>\n",
       "    <tr>\n",
       "      <th>4</th>\n",
       "      <td>4</td>\n",
       "      <td>HP:0100827</td>\n",
       "      <td>DISO</td>\n",
       "      <td>Lymphocytosis</td>\n",
       "      <td>1</td>\n",
       "    </tr>\n",
       "  </tbody>\n",
       "</table>\n",
       "</div>"
      ],
      "text/plain": [
       "   index_id          id semantic                           label  semantic_id\n",
       "0         0  HP:0011001     DISO  Increased bone mineral density            1\n",
       "1         1  MP:0011480     DISO   impaired ureteric peristalsis            1\n",
       "2         2  MP:0003986     DISO         small cochlear ganglion            1\n",
       "3         3  MP:0000898     DISO            midbrain hyperplasia            1\n",
       "4         4  HP:0100827     DISO                   Lymphocytosis            1"
      ]
     },
     "execution_count": 14,
     "metadata": {},
     "output_type": "execute_result"
    }
   ],
   "source": [
    "nodes = pd.read_csv(f'../output/{DISEASE_PREFIX}/{DATASET_PREFIX}_{DISEASE_PREFIX}_indexed_nodes.csv')\n",
    "nodes.head(5)"
   ]
  },
  {
   "cell_type": "code",
   "execution_count": 15,
   "metadata": {},
   "outputs": [
    {
     "name": "stdout",
     "output_type": "stream",
     "text": [
      "DRUG aclarubicin, SYMPTOM ID HP:0003312, SYMPTOM Abnormal form of the vertebral bodies\n",
      "DRUG aclarubicin, SYMPTOM ID HP:0002829, SYMPTOM Arthralgia\n"
     ]
    }
   ],
   "source": [
    "for overlapping_pair in overlapping_symptom_drug_pairs:\n",
    "    symptom_id, drug_id = overlapping_pair\n",
    "\n",
    "    symptom_label = nodes.loc[nodes['id'] == symptom_id]['label'].values[0]\n",
    "    drug_label = nodes.loc[nodes['id'] == drug_id]['label'].values[0]\n",
    "\n",
    "    print(f'DRUG {drug_label}, SYMPTOM ID {symptom_id}, SYMPTOM {symptom_label}')"
   ]
  }
 ],
 "metadata": {
  "kernelspec": {
   "display_name": ".venv",
   "language": "python",
   "name": "python3"
  },
  "language_info": {
   "codemirror_mode": {
    "name": "ipython",
    "version": 3
   },
   "file_extension": ".py",
   "mimetype": "text/x-python",
   "name": "python",
   "nbconvert_exporter": "python",
   "pygments_lexer": "ipython3",
   "version": "3.12.3"
  }
 },
 "nbformat": 4,
 "nbformat_minor": 2
}
