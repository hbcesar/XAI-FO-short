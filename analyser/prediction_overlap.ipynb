{
 "cells": [
  {
   "cell_type": "code",
   "execution_count": 37,
   "metadata": {},
   "outputs": [],
   "source": [
    "import os\n",
    "import pickle"
   ]
  },
  {
   "cell_type": "code",
   "execution_count": 38,
   "metadata": {},
   "outputs": [
    {
     "name": "stdout",
     "output_type": "stream",
     "text": [
      "c:\\Users\\rzwart\\Documents\\GitHub\\XAI-FO\\output\\oi\\restr_e2v\\expl_8\n"
     ]
    }
   ],
   "source": [
    "DISEASE_PREFIX = 'oi'\n",
    "DATASET_PREFIX = 'restr'\n",
    "THRESHOLD_NR = '8'\n",
    "\n",
    "curr_working_dir = os.path.dirname(os.getcwd())\n",
    "curr_output_dir = os.path.join(curr_working_dir, 'output', DISEASE_PREFIX)\n",
    "dataset_output_dir = os.path.join(curr_output_dir, f'{DATASET_PREFIX}_e2v')\n",
    "expl_output_dir = os.path.join(dataset_output_dir, f'expl_{THRESHOLD_NR}')\n",
    "\n",
    "print(expl_output_dir)"
   ]
  },
  {
   "cell_type": "code",
   "execution_count": 39,
   "metadata": {},
   "outputs": [
    {
     "name": "stdout",
     "output_type": "stream",
     "text": [
      "Number of symptom drug pairs for oi restr 8: 34\n"
     ]
    },
    {
     "data": {
      "text/plain": [
       "{('HP:0000239', '2552'),\n",
       " ('HP:0000325', '2552'),\n",
       " ('HP:0000325', '760'),\n",
       " ('HP:0000365', '2552'),\n",
       " ('HP:0000365', '760'),\n",
       " ('HP:0000444', '2552'),\n",
       " ('HP:0000703', '2552'),\n",
       " ('HP:0000772', '2552'),\n",
       " ('HP:0000883', '2552'),\n",
       " ('HP:0000975', '4072'),\n",
       " ('HP:0000978', '4072'),\n",
       " ('HP:0001371', '4072'),\n",
       " ('HP:0001382', '4072'),\n",
       " ('HP:0001873', '4977'),\n",
       " ('HP:0002119', '4072'),\n",
       " ('HP:0002273', '2552'),\n",
       " ('HP:0002645', '2552'),\n",
       " ('HP:0002659', '2552'),\n",
       " ('HP:0002757', '2552'),\n",
       " ('HP:0002823', '2351'),\n",
       " ('HP:0002953', '2552'),\n",
       " ('HP:0002953', '4072'),\n",
       " ('HP:0002980', '2552'),\n",
       " ('HP:0002980', '4072'),\n",
       " ('HP:0002983', '2552'),\n",
       " ('HP:0003100', '2552'),\n",
       " ('HP:0004482', '2552'),\n",
       " ('HP:0004586', '2552'),\n",
       " ('HP:0005257', '2552'),\n",
       " ('HP:0005692', '4072'),\n",
       " ('HP:0006487', '4072'),\n",
       " ('HP:0006640', '2552'),\n",
       " ('HP:0007957', '4977'),\n",
       " ('HP:0011073', '2552')}"
      ]
     },
     "execution_count": 39,
     "metadata": {},
     "output_type": "execute_result"
    }
   ],
   "source": [
    "with open(f'{dataset_output_dir}/symptom_drug_pair_overlapping_{THRESHOLD_NR}_runs_{DISEASE_PREFIX}_{DATASET_PREFIX}_e2v.pkl', 'rb') as f:\n",
    "    overlapping_symptom_drug_pairs = pickle.load(f)\n",
    "\n",
    "print(f'Number of symptom drug pairs for {DISEASE_PREFIX} {DATASET_PREFIX} {THRESHOLD_NR}: {len(overlapping_symptom_drug_pairs)}')\n",
    "\n",
    "overlapping_symptom_drug_pairs"
   ]
  },
  {
   "cell_type": "code",
   "execution_count": null,
   "metadata": {},
   "outputs": [],
   "source": []
  }
 ],
 "metadata": {
  "kernelspec": {
   "display_name": ".venv",
   "language": "python",
   "name": "python3"
  },
  "language_info": {
   "codemirror_mode": {
    "name": "ipython",
    "version": 3
   },
   "file_extension": ".py",
   "mimetype": "text/x-python",
   "name": "python",
   "nbconvert_exporter": "python",
   "pygments_lexer": "ipython3",
   "version": "3.12.3"
  }
 },
 "nbformat": 4,
 "nbformat_minor": 2
}
